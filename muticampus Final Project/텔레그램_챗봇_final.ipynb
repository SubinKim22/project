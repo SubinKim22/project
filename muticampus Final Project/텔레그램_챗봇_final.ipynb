{
 "cells": [
  {
   "cell_type": "markdown",
   "id": "40d1467f",
   "metadata": {},
   "source": [
    "# 3문장 요약"
   ]
  },
  {
   "cell_type": "code",
   "execution_count": 1,
   "id": "8d14ebff",
   "metadata": {},
   "outputs": [],
   "source": [
    "# textrank\n",
    "import pandas as pd\n",
    "import re\n",
    "import torch\n",
    "import math\n",
    "import numpy as np\n",
    "from sklearn.preprocessing import normalize\n",
    "from konlpy.tag import Komoran\n",
    "from konlpy.tag import Okt\n",
    "from konlpy.tag import Hannanum\n",
    "\n",
    "def pagerank(x, df=0.85, max_iter=30):\n",
    "    assert 0 < df < 1\n",
    "\n",
    "    # initialize\n",
    "    A = normalize(x, axis=0, norm='l1')\n",
    "    R = np.ones(A.shape[0]).reshape(-1,1)\n",
    "    bias = (1 - df) * np.ones(A.shape[0]).reshape(-1,1)\n",
    "    # iteration\n",
    "    for _ in range(max_iter):\n",
    "        R = df * (A * R) + bias\n",
    "\n",
    "    return R\n",
    "\n",
    "article = \"\"\" \"\"\"\n",
    "def textrank(update, context):\n",
    "    global article\n",
    "    article = \" \".join(context.args)\n",
    "    \n",
    "    korean_data = article\n",
    "    \n",
    "    text = re.sub(r\"\\n+\", \" \", korean_data)\n",
    "    sentences = re.split(\"[\\.?!]\\s+\", text)\n",
    "    komoran = Komoran()\n",
    "    \n",
    "    data = []\n",
    "    for sentence in sentences:\n",
    "        if(sentence == \"\" or len(sentence) == 0):\n",
    "            continue\n",
    "        temp_dict = dict()\n",
    "        temp_dict['sentence'] = sentence\n",
    "        temp_dict['token_list'] = komoran.nouns(sentence)\n",
    "        \n",
    "        data.append(temp_dict)\n",
    "    \n",
    "    df = pd.DataFrame(data)\n",
    "    \n",
    "    similarity_matrix = []\n",
    "    for i, row_i in df.iterrows():\n",
    "        i_row_vec = []\n",
    "        for j, row_j in df.iterrows():\n",
    "            if i == j:\n",
    "                i_row_vec.append(0.0)\n",
    "            else:\n",
    "                intersection = len(set(row_i['token_list']) & set(row_j['token_list']))\n",
    "                log_i = math.log(len(set(row_i['token_list'])))\n",
    "                log_j = math.log(len(set(row_j['token_list'])))\n",
    "                similarity = intersection / (log_i + log_j)\n",
    "                i_row_vec.append(similarity)\n",
    "        similarity_matrix.append(i_row_vec)\n",
    "        \n",
    "    weightedGraph = np.array(similarity_matrix)\n",
    "    R = pagerank(weightedGraph)\n",
    "    R = R.sum(axis=1)\n",
    "    indexs = R.argsort()[-3:] # 여기가 세줄요약 느낌 / -5주면 5줄나옴 \n",
    "    \n",
    "    article_summary_str = ''\n",
    "    for index in sorted(indexs):\n",
    "        #print(df['sentence'][index])\n",
    "        #print()\n",
    "        article_summary = df['sentence'][index]\n",
    "        article_summary_str += ' ' + article_summary\n",
    "        \n",
    "    summary = article_summary_str\n",
    "    context.bot.send_message(chat_id=update.effective_chat.id, text=summary)"
   ]
  },
  {
   "cell_type": "markdown",
   "id": "9d84ad03",
   "metadata": {},
   "source": [
    "# 1문장 요약"
   ]
  },
  {
   "cell_type": "code",
   "execution_count": 2,
   "id": "6ca5c44d",
   "metadata": {},
   "outputs": [
    {
     "name": "stderr",
     "output_type": "stream",
     "text": [
      "The tokenizer class you load from this checkpoint is not the same type as the class this function is called from. It may result in unexpected tokenization. \n",
      "The tokenizer class you load from this checkpoint is 'BartTokenizer'. \n",
      "The class this function is called from is 'PreTrainedTokenizerFast'.\n"
     ]
    }
   ],
   "source": [
    "from transformers import PreTrainedTokenizerFast, BartForConditionalGeneration\n",
    "import torch\n",
    "tokenizer = PreTrainedTokenizerFast.from_pretrained('gogamza/kobart-summarization')\n",
    "model = BartForConditionalGeneration.from_pretrained('gogamza/kobart-summarization')"
   ]
  },
  {
   "cell_type": "code",
   "execution_count": 3,
   "id": "ad64534d",
   "metadata": {},
   "outputs": [],
   "source": [
    "article = \"\"\" \"\"\"\n",
    "def gogamza(update, context):\n",
    "    global article\n",
    "    article = \" \".join(context.args)\n",
    "    input_ids = tokenizer.encode(article)\n",
    "    input_ids = [tokenizer.bos_token_id] + input_ids + [tokenizer.eos_token_id]\n",
    "    input_ids = torch.tensor([input_ids])\n",
    "    \n",
    "    summary_text_ids = model.generate(\n",
    "        input_ids = input_ids,\n",
    "        bos_token_id = model.config.bos_token_id,\n",
    "        eos_token_id = model.config.eos_token_id,\n",
    "        length_penalty=2.0, # 길이에 대한 penalty 값\n",
    "        max_length = 150, # 요약문의 최대 길이 설정\n",
    "        min_length = 50, # 요약문의 최소 길이 설정\n",
    "        num_beams = 5) # 문장 생성 시 다음 단어를 탐색하는 영역의 개수\n",
    "    \n",
    "    summary = tokenizer.decode(summary_text_ids[0], skip_special_tokens=True)\n",
    "    context.bot.send_message(chat_id=update.effective_chat.id, text=summary)"
   ]
  },
  {
   "cell_type": "markdown",
   "id": "8f95ef2f",
   "metadata": {},
   "source": [
    "# 단어 뜻"
   ]
  },
  {
   "cell_type": "code",
   "execution_count": 4,
   "id": "2bb25d27",
   "metadata": {},
   "outputs": [],
   "source": [
    "import json\n",
    "import urllib.request\n",
    "\n",
    "word = \"\"\" \"\"\"\n",
    "def naver_dict(update, context):\n",
    "    global word\n",
    "    word = \"\".join(context.args)\n",
    "    \n",
    "    client_id = '' # Your client_id\n",
    "    client_secret = '' # Your client_secret\n",
    "    encText = urllib.parse.quote(word)\n",
    "    url = 'https://openapi.naver.com/v1/search/encyc?query=' + encText\n",
    "    request = urllib.request.Request(url)\n",
    "    request.add_header('X-Naver-Client-Id', client_id)\n",
    "    request.add_header('X-Naver-Client-Secret', client_secret)\n",
    "\n",
    "    response = urllib.request.urlopen(request)\n",
    "    response_json = json.loads(response.read().decode('utf-8'))\n",
    "\n",
    "    #voca = response_json['items'][0]['description']\n",
    "    voca_link = response_json['items'][0]['link']\n",
    "    \n",
    "    context.bot.send_message(chat_id=update.effective_chat.id, text=voca_link)"
   ]
  },
  {
   "cell_type": "markdown",
   "id": "ba956cf1",
   "metadata": {},
   "source": [
    "# 영상"
   ]
  },
  {
   "cell_type": "code",
   "execution_count": 5,
   "id": "56190f3a",
   "metadata": {},
   "outputs": [],
   "source": [
    "keyword = \"\"\" \"\"\"\n",
    "def video(update, context):\n",
    "    # selenium 크롤링\n",
    "    from selenium import webdriver  \n",
    "\n",
    "    # 크롬 드라이버\n",
    "    import chromedriver_autoinstaller\n",
    "\n",
    "    # 경고 무시\n",
    "    import warnings\n",
    "    warnings.filterwarnings('ignore')\n",
    "\n",
    "    # 크롬 옵션\n",
    "    options = webdriver.ChromeOptions()  \n",
    "\n",
    "    # 크롬 윈도우 사이즈 조절\n",
    "    options.add_argument(\"--window-size=1505,800\") # 화면이 작으면 크롤링 안 되는 현상을 막기 위해 크게 늘린다\n",
    "\n",
    "    # 크롬창 띄우기\n",
    "    chrome_path = chromedriver_autoinstaller.install()\n",
    "    driver = webdriver.Chrome(chrome_path, options=options)\n",
    "    \n",
    "    global keyword\n",
    "    keyword = \"\".join(context.args)\n",
    "    # 키워드가 입력된 유튜브 사이트에 들어가기\n",
    "    driver.get(\"https://www.youtube.com/results?search_query={}\".format(keyword)) \n",
    "    time.sleep(0.5)\n",
    "    \n",
    "    # 영상 제목 크롤링\n",
    "    overlays = \"#video-title > yt-formatted-string\"\n",
    "    titles = driver.find_elements_by_css_selector(overlays)\n",
    "\n",
    "    # 영상 링크 크롤링\n",
    "    overlays = \"#video-title\"\n",
    "    urls = driver.find_elements_by_css_selector(overlays)\n",
    "\n",
    "    n = 3 # n : 조회수를 가져오고 싶은 영상 갯수\n",
    "    url_list = []\n",
    "    for i in range(n):\n",
    "        url = urls[i].get_attribute('href')\n",
    "        url_list.append(url)\n",
    "    \n",
    "        context.bot.send_message(chat_id=update.effective_chat.id, text=\"{}번째 링크: {}\".format(i+1, url_list[i]))"
   ]
  },
  {
   "cell_type": "markdown",
   "id": "cad0569f",
   "metadata": {},
   "source": [
    "# 이미지"
   ]
  },
  {
   "cell_type": "code",
   "execution_count": 6,
   "id": "40509e6a",
   "metadata": {},
   "outputs": [],
   "source": [
    "import os\n",
    "from PIL import Image\n",
    "from pytesseract import *\n",
    "  # import modules\n",
    "dir_now = os.path.dirname(os.path.abspath('텔레그램_챗봇_종합(이미지).ipynb'))  # real path to dirname\n",
    "\n",
    "def get_photo(update, context) :\n",
    "    file_path = os.path.join(dir_now, 'image01.png')\n",
    "    photo_id = update.message.photo[-1].file_id  \n",
    "    photo_file = context.bot.getFile(photo_id)\n",
    "    photo_file.download(file_path)\n",
    "    image01 = Image.open('image01.png')  \n",
    "    Print01 = image_to_string(image01, lang='kor', config='-c preserve_interword_spaces=1 --psm 4') # lang 옵션 주의\n",
    "    update.message.reply_text(Print01)\n",
    "    context.bot.send_message(chat_id=update.effective_chat.id, text=Print01)"
   ]
  },
  {
   "cell_type": "markdown",
   "id": "c2f6c557",
   "metadata": {},
   "source": [
    "# 텔레그램"
   ]
  },
  {
   "cell_type": "code",
   "execution_count": 7,
   "id": "14311abd",
   "metadata": {},
   "outputs": [
    {
     "name": "stdout",
     "output_type": "stream",
     "text": [
      "Start telegram chat bot\n"
     ]
    }
   ],
   "source": [
    "import time\n",
    "from telegram import ChatAction\n",
    "from telegram import InlineKeyboardButton, InlineKeyboardMarkup\n",
    "from telegram.ext import Updater\n",
    "from telegram.ext import CommandHandler, MessageHandler, Filters, CallbackQueryHandler\n",
    " \n",
    "BOT_TOKEN='' # 토큰 변경\n",
    "\n",
    "print('Start telegram chat bot')\n",
    "updater = Updater( token=BOT_TOKEN, use_context=True )\n",
    "dispatcher = updater.dispatcher\n",
    "\n",
    "dir_now = os.path.dirname(os.path.abspath('텔레그램_챗봇_종합(이미지).ipynb'))\n",
    "\n",
    "def get_photo(update, context) :\n",
    "    file_path = os.path.join(dir_now, 'image01.png')\n",
    "    photo_id = update.message.photo[-1].file_id  \n",
    "    photo_file = context.bot.getFile(photo_id)\n",
    "    photo_file.download(file_path)\n",
    "    image01 = Image.open('image01.png')  \n",
    "    Print01 = image_to_string(image01, lang='kor', config='-c preserve_interword_spaces=1 --psm 4') # lang 옵션 주의\n",
    "    update.message.reply_text(Print01)\n",
    "\n",
    "# 서비스 선택 command\n",
    "def cmd_menu_buttons(update, context):\n",
    "    task_buttons = [[InlineKeyboardButton('1. 긴 글 세줄요약', callback_data='1')],\n",
    "                    [InlineKeyboardButton('2. 짧은 글 한줄요약', callback_data='2')],\n",
    "                    [InlineKeyboardButton('3. 단어 뜻', callback_data='3')],\n",
    "                    [InlineKeyboardButton('4. 영상', callback_data='4')],\n",
    "                    [InlineKeyboardButton('5. 이미지',callback_data='5')]]\n",
    "    \n",
    "    reply_markup = InlineKeyboardMarkup(task_buttons)\n",
    "    \n",
    "    context.bot.send_message(\n",
    "        chat_id=update.message.chat_id\n",
    "        , text='서비스를 선택하세요'\n",
    "        , reply_markup=reply_markup\n",
    "    )\n",
    "    \n",
    "# 선택한 서비스 결과\n",
    "def cb_button(update, context):\n",
    "    query = update.callback_query\n",
    "    data = query.data\n",
    "    \n",
    "    context.bot.send_chat_action(chat_id=update.effective_user.id, \n",
    "                                 action=ChatAction.TYPING)\n",
    "    \n",
    "    if data == '1':\n",
    "        context.bot.edit_message_text(text=\"/sum3 긴글\"+\"\\n\"+\"이렇게 입력해주세요\",\n",
    "                                      chat_id=query.message.chat_id,\n",
    "                                      message_id=query.message.message_id)\n",
    "    elif data == '2':\n",
    "        context.bot.edit_message_text(text=\"/sum1 짧은글\"+\"\\n\"+\"이렇게 입력해주세요\",\n",
    "                                      chat_id=query.message.chat_id,\n",
    "                                      message_id=query.message.message_id)\n",
    "    elif data == '3':\n",
    "        context.bot.edit_message_text(text=\"/def 단어\"+\"\\n\"+\"이렇게 입력해주세요\",\n",
    "                                      chat_id=query.message.chat_id,\n",
    "                                      message_id=query.message.message_id)\n",
    "    elif data == '4':\n",
    "        context.bot.edit_message_text(text=\"/video 단어\"+\"\\n\"+\"이렇게 입력해주세요\",\n",
    "                                      chat_id=query.message.chat_id,\n",
    "                                      message_id=query.message.message_id)\n",
    "    elif data == '5':\n",
    "         context.bot.edit_message_text(text=\"/image 입력후 이미지를 입력해주세요\",\n",
    "                                      chat_id=query.message.chat_id,\n",
    "                                      message_id=query.message.message_id)       \n",
    "\n",
    "# 특정 단어를 입력하면 특정 함수를 실행시켜주는 handler 생성\n",
    "menu_buttons_handler = CommandHandler('menu', cmd_menu_buttons)\n",
    "button_callback_handler = CallbackQueryHandler(cb_button)\n",
    "sum3_handler = CommandHandler('sum3', textrank)\n",
    "sum1_handler = CommandHandler('sum1', gogamza)\n",
    "def_handler = CommandHandler('def', naver_dict)\n",
    "video_handler = CommandHandler('video', video)\n",
    "photo_handler = MessageHandler(Filters.photo, get_photo)\n",
    "\n",
    "# handler 추가하기\n",
    "dispatcher.add_handler(menu_buttons_handler)\n",
    "dispatcher.add_handler(button_callback_handler)\n",
    "dispatcher.add_handler(sum3_handler)\n",
    "dispatcher.add_handler(sum1_handler)\n",
    "dispatcher.add_handler(def_handler)\n",
    "dispatcher.add_handler(video_handler)\n",
    "dispatcher.add_handler(photo_handler)\n",
    "\n",
    "# 챗봇 구동\n",
    "updater.start_polling()\n",
    "updater.idle()"
   ]
  },
  {
   "cell_type": "code",
   "execution_count": null,
   "id": "f99594b6",
   "metadata": {},
   "outputs": [],
   "source": []
  }
 ],
 "metadata": {
  "hide_input": false,
  "interpreter": {
   "hash": "ad2bdc8ecc057115af97d19610ffacc2b4e99fae6737bb82f5d7fb13d2f2c186"
  },
  "kernelspec": {
   "display_name": "Python 3 (ipykernel)",
   "language": "python",
   "name": "python3"
  },
  "language_info": {
   "codemirror_mode": {
    "name": "ipython",
    "version": 3
   },
   "file_extension": ".py",
   "mimetype": "text/x-python",
   "name": "python",
   "nbconvert_exporter": "python",
   "pygments_lexer": "ipython3",
   "version": "3.9.7"
  },
  "toc": {
   "base_numbering": 1,
   "nav_menu": {},
   "number_sections": true,
   "sideBar": true,
   "skip_h1_title": false,
   "title_cell": "Table of Contents",
   "title_sidebar": "Contents",
   "toc_cell": false,
   "toc_position": {},
   "toc_section_display": true,
   "toc_window_display": false
  },
  "varInspector": {
   "cols": {
    "lenName": 16,
    "lenType": 16,
    "lenVar": 40
   },
   "kernels_config": {
    "python": {
     "delete_cmd_postfix": "",
     "delete_cmd_prefix": "del ",
     "library": "var_list.py",
     "varRefreshCmd": "print(var_dic_list())"
    },
    "r": {
     "delete_cmd_postfix": ") ",
     "delete_cmd_prefix": "rm(",
     "library": "var_list.r",
     "varRefreshCmd": "cat(var_dic_list()) "
    }
   },
   "types_to_exclude": [
    "module",
    "function",
    "builtin_function_or_method",
    "instance",
    "_Feature"
   ],
   "window_display": false
  }
 },
 "nbformat": 4,
 "nbformat_minor": 5
}
