{
 "cells": [
  {
   "cell_type": "code",
   "execution_count": 2,
   "id": "a4da2a9b",
   "metadata": {},
   "outputs": [],
   "source": [
    "import pandas as pd\n",
    "import re"
   ]
  },
  {
   "cell_type": "markdown",
   "id": "ab6e1f63",
   "metadata": {},
   "source": [
    "# Textrank"
   ]
  },
  {
   "cell_type": "markdown",
   "id": "4d299c3b",
   "metadata": {},
   "source": [
    "## 단순히 띄어쓰기로 구분 - 성능 별로"
   ]
  },
  {
   "cell_type": "code",
   "execution_count": 166,
   "id": "2f5f50ec",
   "metadata": {},
   "outputs": [],
   "source": [
    "a = \"\"\"카카오브레인이 이미지 생성 모델 ‘RQ-트랜스포머’를 최대 오픈소스 커뮤니티 깃허브(GitHub)1에 공개했다. 이는 카카오브레인이 지난해 12월 공개한 초거대 멀티모달(Multimodal) AI ‘minDALL-E(민달리)’의 업그레이드 버전이다.\n",
    "\n",
    "39억개의 매개변수(파라미터)로 구성된 RQ-트랜스포머는 3000만쌍의 텍스트-이미지를 학습한 텍스트-투-이미지(text-to-image) AI 모델이다. 계산 비용을 줄이고 이미지 생성 속도를 높인 동시에 이미지의 품질을 크게 끌어올린 모델이다.\n",
    "\n",
    "카카오브레인이 공개한 RQ-트랜스포머는 공개된 이미지 생성 모델 중 국내 최대 크기의 이미지 생성 모델이며, 이를 공공 목적을 위해 공개했다는 점에서 AI 커뮤니티에 기여가 클 것으로 기대된다.\n",
    "\n",
    "RQ-트랜스포머는 카카오브레인의 초거대 멀티모달 AI 민달리의 업그레이드 버전이다. 민달리 대비 모델 크기는 3배, 이미지 생성 속도와 학습 데이터셋 크기는 2배 늘렸다. 특히 민달리는 미국의 인공지능 개발 기업 ‘오픈AI(OpenAI)’가 공개한 ‘DALL-E’를 재현하는 것에 가까웠던 것에 반해, RQ-트랜스포머의 경우, 카카오브레인 만의 독자적인 기술로 개발됐다.\n",
    "\n",
    "RQ-트랜스포머는 3차원의 코드맵으로 표현된 이미지를 순차적으로 예측하여 생성하도록 학습된 이미지 생성 모델이다. 고해상도의 이미지를 2차원의 코드맵으로 표현하는 기존 기술과는 다르다. 기존 기술과 비교했을 때 이미지 압축으로 인한 손실이 적어, 높은 품질의 이미지를 저해상도의 코드맵으로 표현하는 게 특징이다. 이를 통해 기존 이미지 생성 모델보다 적은 계산 비용과 높은 이미지 생성 속도를 달성할 수 있다.\n",
    "\n",
    "처음 보는 텍스트의 조합을 이해하고, 이에 대응하는 이미지를 생성할 수도 있다. 가령 ‘사막에 있는 에펠탑(the Eiffel Tower in the desert)’이란 텍스트 조건을 입력하면 그에 알맞은 이미지를 생성한다.\n",
    "\n",
    "김일두 카카오브레인 대표는 “인간의 명령에 따라 이미지를 만들어내는 컴퓨터는 그 명령 뒤에 내재된 의도를 파악하고 이해하는 기술을 보여준다”며 “이번에 우리가 공개한 획기적인 AI 모델이 인간과 컴퓨터가 자유롭게 대화하는 미래를 향한 여정의 첫 시작이 될 것“이라고 말했다.\"\"\""
   ]
  },
  {
   "cell_type": "code",
   "execution_count": 3,
   "id": "c173c2b7",
   "metadata": {},
   "outputs": [],
   "source": [
    "b = \"\"\"일상 회복으로 밤과 새벽 시간대 서울 주요 도심에서 활동하는 인구가 급증하면서 택시 승차난이 벌어지고 있다. 코로나19 확산으로 승객이 급감하자 영업난에 시달린 택시기사들이 운행을 대폭 줄이면서 갑자기 늘어난 수요를 감당하지 못한 탓이다.\n",
    "\n",
    "코로나19 방역을 위한 물리적(사회적) 거리두기 완화로 영업제한 시간이 완전히 해제된 지난 18일 심야 시간대(19일 0~2시) 서울의 택시 이용객은 오후 9시 영업제한이 있었을 때보다 2배 가까이(96%)가 늘었다. 반면 영업 택시는 62% 늘어나는 데 그쳐 늦은 밤 집에 가려던 시민들이 불편을 겪었다. 이에 서울시는 총 7100대의 택시를 순차적으로 공급할 방침이라고 19일 밝혔다.\n",
    "\n",
    "우선 심야시간 택시 공급 확대를 위해 개인택시 3부제를 한시적으로 해제해 오후 9시부터 다음날 새벽 4시까지 모든 개인택시의 운행이 가능해진다. 개인택시는 운전자의 과로를 막고 차량 정비와 수요 공급 조절 차원에서 이틀 운행 후 하루 쉬는 3부제로 운영된다. 부제 해제 기간에는 휴무 중인 택시도 오후 9시부터 다음날 오전 4시 사이에는 영업할 수 있다.\n",
    "\n",
    "일요일을 제외하고 오후 9시부터 다음날 오전 9시까지 영업하는 심야전용택시의 시작 시간도 오후 7시로 앞당겨 영업시간을 2시간 확대한다. 영업 환경 개선으로 현재 2300대 정도인 심야택시가 최대 5000대까지 늘어날 것으로 시는 기대하고 있다.\n",
    "\n",
    "코로나19 확산 이후 급감한 법인택시 기사는 야간 운행 비율을 늘릴 방침이다. 2019년 1월 기준으로 3만1130명이었던 법인택시는 지난달 기준 2만640명으로 33.7% 감소했다. 기사를 즉시 채용하는 것은 사실상 어려워 주간 택시가 가급적 야간에 운행할 수 있도록 전환하겠다는 것이다.\n",
    "\n",
    "신고 없이 휴업하는 개인택시에 대해서는 행정처분 등 관리가 강화된다. 시는 휴업 신고 없이 운행하지 않는 개인택시가 현재 1400대 정도인 것으로 파악하고 있다. 여객자동차 운수사업법에 따라 휴업은 1년 내 기간만 가능하고, 무단 휴업이 3번 적발되면 사업면허가 취소될 수 있다.\n",
    "\n",
    "또 강남·홍대·종로 등 택시 승차난이 발생하는 지역은 집중적으로 단속한다. ‘빈차’ 표시등을 끄고 이면도로에서 카카오택시 앱 등으로 장거리 승객, 원하는 목적지 승객을 기다렸다가 골라서 태우거나, ‘예약’ 표시등을 켜고 승차거부 단속을 피해 배회하는 택시가 주요 단속 대상이다.\n",
    "\n",
    "백호 서울시 도시교통실장은 “거리두기가 해제되면서 야간에 택시 수요가 급증하고 있다”며 “개인택시 부제를 해제하고 심야전용택시를 활성화해 공급을 확대하는 한편 추가적인 대책을 적극적으로 마련하겠다”고 말했다.\"\"\""
   ]
  },
  {
   "cell_type": "code",
   "execution_count": 34,
   "id": "9871d664",
   "metadata": {},
   "outputs": [],
   "source": [
    "c = pd.read_excel('21년도 언어영역_검사기.xlsx')"
   ]
  },
  {
   "cell_type": "code",
   "execution_count": 4,
   "id": "c1a18927",
   "metadata": {},
   "outputs": [],
   "source": [
    "import math\n",
    "import numpy as np\n",
    "from sklearn.preprocessing import normalize"
   ]
  },
  {
   "cell_type": "code",
   "execution_count": 6,
   "id": "e2806ae2",
   "metadata": {},
   "outputs": [],
   "source": [
    "import re\n",
    "text = re.sub(r\"\\n+\", \" \", b)\n",
    "sentences = re.split(\"[\\.?!]\\s+\", text)"
   ]
  },
  {
   "cell_type": "code",
   "execution_count": 7,
   "id": "34432d6b",
   "metadata": {},
   "outputs": [],
   "source": [
    "import pandas as pd\n",
    "\n",
    "data = []\n",
    "for sentence in sentences:\n",
    "    if(sentence == \"\" or len(sentence) == 0):\n",
    "        continue\n",
    "    temp_dict = dict()\n",
    "    temp_dict['sentence'] = sentence\n",
    "    temp_dict['token_list'] = sentence.split() #가장 기초적인 띄어쓰기 단위로 나누자!\n",
    "    \n",
    "    data.append(temp_dict)\n",
    "\n",
    "df = pd.DataFrame(data) #DataFrame에 넣어 깔끔하게 보기"
   ]
  },
  {
   "cell_type": "code",
   "execution_count": 8,
   "id": "725de241",
   "metadata": {},
   "outputs": [],
   "source": [
    "# sentence similarity = len(intersection) / log(len(set_A)) + log(len(set_B))\n",
    "similarity_matrix = []\n",
    "for i, row_i in df.iterrows():\n",
    "    i_row_vec = []\n",
    "    for j, row_j in df.iterrows():\n",
    "        if i == j:\n",
    "            i_row_vec.append(0.0)\n",
    "        else:\n",
    "            intersection = len(set(row_i['token_list']) & set(row_j['token_list']))\n",
    "            log_i = math.log(len(set(row_i['token_list'])))\n",
    "            log_j = math.log(len(set(row_j['token_list'])))\n",
    "            similarity = intersection / (log_i + log_j)\n",
    "            i_row_vec.append(similarity)\n",
    "    similarity_matrix.append(i_row_vec)"
   ]
  },
  {
   "cell_type": "code",
   "execution_count": 9,
   "id": "a787b3df",
   "metadata": {},
   "outputs": [
    {
     "data": {
      "text/plain": [
       "array([[0.        , 0.        , 0.16761237, 0.        , 0.        ,\n",
       "        0.35382642, 0.        , 0.18463469, 0.        , 0.187017  ,\n",
       "        0.        , 0.        , 0.        , 0.        , 0.18964538,\n",
       "        0.18246048, 0.40772436, 0.16872153, 0.17112901],\n",
       "       [0.        , 0.        , 0.16581864, 0.        , 0.        ,\n",
       "        0.        , 0.        , 0.        , 0.        , 0.        ,\n",
       "        0.19340549, 0.        , 0.        , 0.        , 0.        ,\n",
       "        0.        , 0.        , 0.        , 0.        ],\n",
       "       [0.16761237, 0.16581864, 0.        , 0.        , 0.        ,\n",
       "        0.32244878, 0.        , 0.16761237, 0.16581864, 0.        ,\n",
       "        0.17680365, 0.        , 0.        , 0.        , 0.        ,\n",
       "        0.        , 0.18330727, 0.        , 0.15640663],\n",
       "       [0.        , 0.        , 0.        , 0.        , 0.        ,\n",
       "        0.        , 0.        , 0.        , 0.        , 0.18946159,\n",
       "        0.        , 0.        , 0.        , 0.        , 0.        ,\n",
       "        0.        , 0.        , 0.        , 0.        ],\n",
       "       [0.        , 0.        , 0.        , 0.        , 0.        ,\n",
       "        0.        , 0.        , 0.        , 0.        , 0.        ,\n",
       "        0.        , 0.        , 0.        , 0.        , 0.        ,\n",
       "        0.        , 0.        , 0.        , 0.        ],\n",
       "       [0.35382642, 0.        , 0.32244878, 0.        , 0.        ,\n",
       "        0.        , 0.17308068, 0.53073963, 0.5247482 , 0.        ,\n",
       "        0.        , 0.        , 0.        , 0.        , 0.        ,\n",
       "        0.        , 0.19448958, 0.        , 0.16447549],\n",
       "       [0.        , 0.        , 0.        , 0.        , 0.        ,\n",
       "        0.17308068, 0.        , 0.        , 0.        , 0.        ,\n",
       "        0.19116407, 0.        , 0.        , 0.        , 0.        ,\n",
       "        0.        , 0.        , 0.        , 0.        ],\n",
       "       [0.18463469, 0.        , 0.16761237, 0.        , 0.        ,\n",
       "        0.53073963, 0.        , 0.        , 0.72984191, 0.187017  ,\n",
       "        0.        , 0.        , 0.18463469, 0.        , 0.18964538,\n",
       "        0.36492096, 0.        , 0.        , 0.        ],\n",
       "       [0.        , 0.        , 0.16581864, 0.        , 0.        ,\n",
       "        0.5247482 , 0.        , 0.72984191, 0.        , 0.        ,\n",
       "        0.        , 0.        , 0.        , 0.        , 0.        ,\n",
       "        0.        , 0.        , 0.        , 0.        ],\n",
       "       [0.187017  , 0.        , 0.        , 0.18946159, 0.        ,\n",
       "        0.        , 0.        , 0.187017  , 0.        , 0.        ,\n",
       "        0.        , 0.        , 0.        , 0.        , 0.96079815,\n",
       "        0.18478666, 0.        , 0.        , 0.        ],\n",
       "       [0.        , 0.19340549, 0.17680365, 0.        , 0.        ,\n",
       "        0.        , 0.19116407, 0.        , 0.        , 0.        ,\n",
       "        0.        , 0.        , 0.        , 0.        , 0.        ,\n",
       "        0.        , 0.        , 0.        , 0.        ],\n",
       "       [0.        , 0.        , 0.        , 0.        , 0.        ,\n",
       "        0.        , 0.        , 0.        , 0.        , 0.        ,\n",
       "        0.        , 0.        , 0.        , 0.        , 0.        ,\n",
       "        0.        , 0.        , 0.        , 0.        ],\n",
       "       [0.        , 0.        , 0.        , 0.        , 0.        ,\n",
       "        0.        , 0.        , 0.18463469, 0.        , 0.        ,\n",
       "        0.        , 0.        , 0.        , 0.        , 0.        ,\n",
       "        0.18246048, 0.        , 0.16872153, 0.17112901],\n",
       "       [0.        , 0.        , 0.        , 0.        , 0.        ,\n",
       "        0.        , 0.        , 0.        , 0.        , 0.        ,\n",
       "        0.        , 0.        , 0.        , 0.        , 0.41997626,\n",
       "        0.        , 0.22755981, 0.        , 0.        ],\n",
       "       [0.18964538, 0.        , 0.        , 0.        , 0.        ,\n",
       "        0.        , 0.        , 0.18964538, 0.        , 0.96079815,\n",
       "        0.        , 0.        , 0.        , 0.41997626, 0.        ,\n",
       "        0.18735229, 0.        , 0.        , 0.        ],\n",
       "       [0.18246048, 0.        , 0.        , 0.        , 0.        ,\n",
       "        0.        , 0.        , 0.36492096, 0.        , 0.18478666,\n",
       "        0.        , 0.        , 0.18246048, 0.        , 0.18735229,\n",
       "        0.        , 0.        , 0.        , 0.        ],\n",
       "       [0.40772436, 0.        , 0.18330727, 0.        , 0.        ,\n",
       "        0.19448958, 0.        , 0.        , 0.        , 0.        ,\n",
       "        0.        , 0.        , 0.        , 0.22755981, 0.        ,\n",
       "        0.        , 0.        , 0.        , 0.18752161],\n",
       "       [0.16872153, 0.        , 0.        , 0.        , 0.        ,\n",
       "        0.        , 0.        , 0.        , 0.        , 0.        ,\n",
       "        0.        , 0.        , 0.16872153, 0.        , 0.        ,\n",
       "        0.        , 0.        , 0.        , 0.        ],\n",
       "       [0.17112901, 0.        , 0.15640663, 0.        , 0.        ,\n",
       "        0.16447549, 0.        , 0.        , 0.        , 0.        ,\n",
       "        0.        , 0.        , 0.17112901, 0.        , 0.        ,\n",
       "        0.        , 0.18752161, 0.        , 0.        ]])"
      ]
     },
     "execution_count": 9,
     "metadata": {},
     "output_type": "execute_result"
    }
   ],
   "source": [
    "weightedGraph = np.array(similarity_matrix)\n",
    "weightedGraph"
   ]
  },
  {
   "cell_type": "code",
   "execution_count": 10,
   "id": "ee72f258",
   "metadata": {},
   "outputs": [],
   "source": [
    "def pagerank(x, df=0.85, max_iter=30):\n",
    "    assert 0 < df < 1\n",
    "\n",
    "    # initialize\n",
    "    A = normalize(x, axis=0, norm='l1')\n",
    "    R = np.ones(A.shape[0]).reshape(-1,1)\n",
    "    bias = (1 - df) * np.ones(A.shape[0]).reshape(-1,1)\n",
    "    # iteration\n",
    "    for _ in range(max_iter):\n",
    "        R = df * (A * R) + bias\n",
    "\n",
    "    return R"
   ]
  },
  {
   "cell_type": "code",
   "execution_count": 173,
   "id": "6f787418",
   "metadata": {},
   "outputs": [
    {
     "name": "stdout",
     "output_type": "stream",
     "text": [
      "카카오브레인이 공개한 RQ-트랜스포머는 공개된 이미지 생성 모델 중 국내 최대 크기의 이미지 생성 모델이며, 이를 공공 목적을 위해 공개했다는 점에서 AI 커뮤니티에 기여가 클 것으로 기대된다\n",
      "RQ-트랜스포머는 3차원의 코드맵으로 표현된 이미지를 순차적으로 예측하여 생성하도록 학습된 이미지 생성 모델이다\n",
      "김일두 카카오브레인 대표는 “인간의 명령에 따라 이미지를 만들어내는 컴퓨터는 그 명령 뒤에 내재된 의도를 파악하고 이해하는 기술을 보여준다”며 “이번에 우리가 공개한 획기적인 AI 모델이 인간과 컴퓨터가 자유롭게 대화하는 미래를 향한 여정의 첫 시작이 될 것“이라고 말했다.\n"
     ]
    }
   ],
   "source": [
    "R = pagerank(weightedGraph) # pagerank를 돌려서 rank matrix 반환\n",
    "R = R.sum(axis=1) # 반환된 matrix를 row 별로 sum \n",
    "indexs = R.argsort()[-3:] # 해당 rank 값을 sort, 값이 높은 3개의 문장 index를 반환\n",
    "\n",
    "# rank값이 높은 문장을 프린트\n",
    "for index in sorted(indexs): # sorted 하는 이유는 원래 문장 순서에 맞춰 보여주기 위함\n",
    "    print(df['sentence'][index])"
   ]
  },
  {
   "cell_type": "code",
   "execution_count": null,
   "id": "c4fc2e77",
   "metadata": {},
   "outputs": [],
   "source": []
  },
  {
   "cell_type": "markdown",
   "id": "40ba6d8d",
   "metadata": {},
   "source": [
    "## 한국어 형태소 분석기 사용"
   ]
  },
  {
   "cell_type": "code",
   "execution_count": 18,
   "id": "90b35cc6",
   "metadata": {},
   "outputs": [],
   "source": [
    "a = \"\"\"카카오브레인이 이미지 생성 모델 ‘RQ-트랜스포머’를 최대 오픈소스 커뮤니티 깃허브(GitHub)1에 공개했다. 이는 카카오브레인이 지난해 12월 공개한 초거대 멀티모달(Multimodal) AI ‘minDALL-E(민달리)’의 업그레이드 버전이다.\n",
    "\n",
    "39억개의 매개변수(파라미터)로 구성된 RQ-트랜스포머는 3000만쌍의 텍스트-이미지를 학습한 텍스트-투-이미지(text-to-image) AI 모델이다. 계산 비용을 줄이고 이미지 생성 속도를 높인 동시에 이미지의 품질을 크게 끌어올린 모델이다.\n",
    "\n",
    "카카오브레인이 공개한 RQ-트랜스포머는 공개된 이미지 생성 모델 중 국내 최대 크기의 이미지 생성 모델이며, 이를 공공 목적을 위해 공개했다는 점에서 AI 커뮤니티에 기여가 클 것으로 기대된다.\n",
    "\n",
    "RQ-트랜스포머는 카카오브레인의 초거대 멀티모달 AI 민달리의 업그레이드 버전이다. 민달리 대비 모델 크기는 3배, 이미지 생성 속도와 학습 데이터셋 크기는 2배 늘렸다. 특히 민달리는 미국의 인공지능 개발 기업 ‘오픈AI(OpenAI)’가 공개한 ‘DALL-E’를 재현하는 것에 가까웠던 것에 반해, RQ-트랜스포머의 경우, 카카오브레인 만의 독자적인 기술로 개발됐다.\n",
    "\n",
    "RQ-트랜스포머는 3차원의 코드맵으로 표현된 이미지를 순차적으로 예측하여 생성하도록 학습된 이미지 생성 모델이다. 고해상도의 이미지를 2차원의 코드맵으로 표현하는 기존 기술과는 다르다. 기존 기술과 비교했을 때 이미지 압축으로 인한 손실이 적어, 높은 품질의 이미지를 저해상도의 코드맵으로 표현하는 게 특징이다. 이를 통해 기존 이미지 생성 모델보다 적은 계산 비용과 높은 이미지 생성 속도를 달성할 수 있다.\n",
    "\n",
    "처음 보는 텍스트의 조합을 이해하고, 이에 대응하는 이미지를 생성할 수도 있다. 가령 ‘사막에 있는 에펠탑(the Eiffel Tower in the desert)’이란 텍스트 조건을 입력하면 그에 알맞은 이미지를 생성한다.\n",
    "\n",
    "김일두 카카오브레인 대표는 “인간의 명령에 따라 이미지를 만들어내는 컴퓨터는 그 명령 뒤에 내재된 의도를 파악하고 이해하는 기술을 보여준다”며 “이번에 우리가 공개한 획기적인 AI 모델이 인간과 컴퓨터가 자유롭게 대화하는 미래를 향한 여정의 첫 시작이 될 것“이라고 말했다.\"\"\""
   ]
  },
  {
   "cell_type": "code",
   "execution_count": 19,
   "id": "73542110",
   "metadata": {},
   "outputs": [],
   "source": [
    "from konlpy.tag import Komoran\n",
    "from konlpy.tag import Okt\n",
    "#코모란 / okt / mecab"
   ]
  },
  {
   "cell_type": "code",
   "execution_count": 27,
   "id": "7a046b47",
   "metadata": {},
   "outputs": [
    {
     "data": {
      "text/plain": [
       "[['일상',\n",
       "  '회복',\n",
       "  '밤',\n",
       "  '새벽',\n",
       "  '시간대',\n",
       "  '서울',\n",
       "  '주요',\n",
       "  '도심',\n",
       "  '활동',\n",
       "  '인구',\n",
       "  '급증',\n",
       "  '택시',\n",
       "  '승차',\n",
       "  '난이'],\n",
       " ['코로나',\n",
       "  '확산',\n",
       "  '승객',\n",
       "  '급감',\n",
       "  '영업',\n",
       "  '난',\n",
       "  '택시',\n",
       "  '기사',\n",
       "  '운행',\n",
       "  '대폭',\n",
       "  '갑자기',\n",
       "  '수요',\n",
       "  '감당',\n",
       "  '못',\n",
       "  '탓'],\n",
       " ['코로나',\n",
       "  '방역',\n",
       "  '위',\n",
       "  '물리',\n",
       "  '사회',\n",
       "  '거리',\n",
       "  '두기',\n",
       "  '완화',\n",
       "  '영업',\n",
       "  '제한',\n",
       "  '시간',\n",
       "  '해제',\n",
       "  '지난',\n",
       "  '심야',\n",
       "  '시간대',\n",
       "  '서울',\n",
       "  '택시',\n",
       "  '이용',\n",
       "  '객',\n",
       "  '오후',\n",
       "  '영업',\n",
       "  '제한',\n",
       "  '때',\n",
       "  '배',\n",
       "  '가까이'],\n",
       " ['반면', '영업', '택시', '데', '밤', '집', '시민', '불편'],\n",
       " ['이', '서울시', '총', '대의', '택시', '순차', '공급', '방침'],\n",
       " ['우선',\n",
       "  '심야시간',\n",
       "  '택시',\n",
       "  '공급',\n",
       "  '확대',\n",
       "  '위해',\n",
       "  '개인',\n",
       "  '택시',\n",
       "  '부제',\n",
       "  '한시',\n",
       "  '해제',\n",
       "  '오후',\n",
       "  '다음',\n",
       "  '날',\n",
       "  '새벽',\n",
       "  '모든',\n",
       "  '개인',\n",
       "  '택시',\n",
       "  '운행'],\n",
       " ['개인',\n",
       "  '택시',\n",
       "  '운전자',\n",
       "  '과로',\n",
       "  '차량',\n",
       "  '정비',\n",
       "  '수요',\n",
       "  '공급',\n",
       "  '조절',\n",
       "  '차원',\n",
       "  '이틀',\n",
       "  '운행',\n",
       "  '후',\n",
       "  '하루',\n",
       "  '부제',\n",
       "  '운영'],\n",
       " ['부제', '해제', '기간', '휴무', '중인', '택시', '오후', '다음', '날', '오전', '사이', '영업', '수'],\n",
       " ['일요일',\n",
       "  '제외',\n",
       "  '오후',\n",
       "  '다음',\n",
       "  '날',\n",
       "  '오전',\n",
       "  '영업',\n",
       "  '심야',\n",
       "  '전용',\n",
       "  '택시',\n",
       "  '시작',\n",
       "  '시간',\n",
       "  '오후',\n",
       "  '영업',\n",
       "  '시간',\n",
       "  '확대'],\n",
       " ['영업', '환경', '개선', '현재', '정도', '심야', '택시', '최대', '것', '시'],\n",
       " ['코로나', '확산', '이후', '급감', '법인', '택시', '기사', '야간', '운행', '비율', '방침'],\n",
       " ['기준', '명', '법인', '택시', '지난달', '기준', '명', '감소'],\n",
       " ['기사', '즉시', '채용', '것', '사실', '주간', '택시', '야간', '운행', '수', '전환', '것'],\n",
       " ['신고', '휴업', '개인', '택시', '대해', '행정처분', '등', '관리', '강화'],\n",
       " ['시', '휴업', '신고', '운행', '개인', '택시', '현재', '정도', '것', '파악'],\n",
       " ['여객',\n",
       "  '자동차',\n",
       "  '운수',\n",
       "  '사업',\n",
       "  '법',\n",
       "  '휴업',\n",
       "  '내',\n",
       "  '기간',\n",
       "  '무단',\n",
       "  '휴업',\n",
       "  '번',\n",
       "  '적발',\n",
       "  '사업',\n",
       "  '허가',\n",
       "  '취소',\n",
       "  '수'],\n",
       " ['또', '강남', '홍대', '종로', '등', '택시', '승차', '난이', '발생', '지역', '집중', '단속'],\n",
       " ['빈차',\n",
       "  '표시',\n",
       "  '등',\n",
       "  '이면',\n",
       "  '도로',\n",
       "  '카카오',\n",
       "  '택시',\n",
       "  '앱',\n",
       "  '등',\n",
       "  '장거리',\n",
       "  '승객',\n",
       "  '목적지',\n",
       "  '승객',\n",
       "  '골',\n",
       "  '예약',\n",
       "  '표시',\n",
       "  '등',\n",
       "  '승차',\n",
       "  '거부',\n",
       "  '단속',\n",
       "  '피해',\n",
       "  '배회',\n",
       "  '택시',\n",
       "  '주요',\n",
       "  '단속',\n",
       "  '대상'],\n",
       " ['백호',\n",
       "  '서울시',\n",
       "  '도시',\n",
       "  '교통',\n",
       "  '실장',\n",
       "  '거리',\n",
       "  '두기',\n",
       "  '해제',\n",
       "  '야간',\n",
       "  '택시',\n",
       "  '수요',\n",
       "  '급증',\n",
       "  '며',\n",
       "  '개인',\n",
       "  '택시',\n",
       "  '부제',\n",
       "  '해제',\n",
       "  '심야',\n",
       "  '전용',\n",
       "  '택시',\n",
       "  '활성화',\n",
       "  '공급',\n",
       "  '확대',\n",
       "  '한편',\n",
       "  '추가',\n",
       "  '대책',\n",
       "  '적극',\n",
       "  '마련',\n",
       "  '고',\n",
       "  '말']]"
      ]
     },
     "execution_count": 27,
     "metadata": {},
     "output_type": "execute_result"
    }
   ],
   "source": [
    "token_data = []\n",
    "komoran = Komoran()\n",
    "for i, row in df.iterrows():\n",
    "    sentence = row['sentence']\n",
    "    token_list = komoran.nouns(sentence)\n",
    "    token_data.append(token_list)\n",
    "\n",
    "token_data"
   ]
  },
  {
   "cell_type": "code",
   "execution_count": 95,
   "id": "0566cf01",
   "metadata": {},
   "outputs": [
    {
     "name": "stdout",
     "output_type": "stream",
     "text": [
      "예술이 자연에 대한 모방이라는 아리스토텔레스의 말에서 비롯된 모방론은, 대상과 그 대상의 재현이 닮은꼴이어야 한다는 재현의 투명성 이론을 전제한다\n",
      "\n",
      "그러나 예술가의 독창적인 감정 표현을 중시하는 한편 외부 세계에 대한 왜곡된 표현을 허용하는 낭만주의 사조가 18세기 말에 등장하면서, 모방론은 많이 쇠퇴했다\n",
      "\n",
      "이제 모방을 필수 조건으로 삼지 않는 낭만주의 예술가의 작품을 예술로 인정해 줄 수 있는 새로운 이론이 필요했다.\n",
      "\n"
     ]
    }
   ],
   "source": [
    "text = re.sub(r\"\\n+\", \" \", b)\n",
    "sentences = re.split(\"[\\.?!]\\s+\", text)\n",
    "\n",
    "data = []\n",
    "for sentence in sentences:\n",
    "    if(sentence == \"\" or len(sentence) == 0):\n",
    "        continue\n",
    "    temp_dict = dict()\n",
    "    temp_dict['sentence'] = sentence\n",
    "    temp_dict['token_list'] = komoran.nouns(sentence)\n",
    "    \n",
    "    data.append(temp_dict)\n",
    "\n",
    "df = pd.DataFrame(data)\n",
    "\n",
    "similarity_matrix = []\n",
    "for i, row_i in df.iterrows():\n",
    "    i_row_vec = []\n",
    "    for j, row_j in df.iterrows():\n",
    "        if i == j:\n",
    "            i_row_vec.append(0.0)\n",
    "        else:\n",
    "            intersection = len(set(row_i['token_list']) & set(row_j['token_list']))\n",
    "            log_i = math.log(len(set(row_i['token_list'])))\n",
    "            log_j = math.log(len(set(row_j['token_list'])))\n",
    "            similarity = intersection / (log_i + log_j)\n",
    "            i_row_vec.append(similarity)\n",
    "    similarity_matrix.append(i_row_vec)\n",
    "    \n",
    "weightedGraph = np.array(similarity_matrix)\n",
    "R = pagerank(weightedGraph)\n",
    "R = R.sum(axis=1)\n",
    "indexs = R.argsort()[-3:] # 여기가 세줄요약 느낌 / -5주면 5줄나옴 \n",
    "\n",
    "for index in sorted(indexs):\n",
    "    print(df['sentence'][index])\n",
    "    print()"
   ]
  },
  {
   "cell_type": "code",
   "execution_count": null,
   "id": "c02d0a2d",
   "metadata": {},
   "outputs": [],
   "source": []
  },
  {
   "cell_type": "raw",
   "id": "614964d7",
   "metadata": {},
   "source": [
    "# 네이버 요약\n",
    "카카오브레인이 이미지 생성 모델 'RQ-트랜스포머'를 최대 오픈소스 커뮤니티 깃허브1에 공개했다.\n",
    "\n",
    "계산 비용을 줄이고 이미지 생성 속도를 높인 동시에 이미지의 품질을 크게 끌어올린 모델이다.\n",
    "\n",
    "카카오브레인이 공개한 RQ-트랜스포머는 공개된 이미지 생성 모델 중 국내 최대 크기의 이미지 생성 모델이며, 이를 공공 목적을 위해 공개했다는 점에서 AI 커뮤니티에 기여가 클 것으로 기대된다."
   ]
  },
  {
   "cell_type": "raw",
   "id": "9cca1afb",
   "metadata": {},
   "source": [
    "# 코모란 \n",
    "카카오브레인이 이미지 생성 모델 ‘RQ-트랜스포머’를 최대 오픈소스 커뮤니티 깃허브(GitHub)1에 공개했다\n",
    "\n",
    "카카오브레인이 공개한 RQ-트랜스포머는 공개된 이미지 생성 모델 중 국내 최대 크기의 이미지 생성 모델이며, 이를 공공 목적을 위해 공개했다는 점에서 AI 커뮤니티에 기여가 클 것으로 기대된다\n",
    "\n",
    "민달리 대비 모델 크기는 3배, 이미지 생성 속도와 학습 데이터셋 크기는 2배 늘렸다"
   ]
  },
  {
   "cell_type": "raw",
   "id": "592b6ada",
   "metadata": {},
   "source": [
    "# Okt\n",
    "카카오브레인이 이미지 생성 모델 ‘RQ-트랜스포머’를 최대 오픈소스 커뮤니티 깃허브(GitHub)1에 공개했다\n",
    "\n",
    "카카오브레인이 공개한 RQ-트랜스포머는 공개된 이미지 생성 모델 중 국내 최대 크기의 이미지 생성 모델이며, 이를 공공 목적을 위해 공개했다는 점에서 AI 커뮤니티에 기여가 클 것으로 기대된다\n",
    "\n",
    "RQ-트랜스포머는 3차원의 코드맵으로 표현된 이미지를 순차적으로 예측하여 생성하도록 학습된 이미지 생성 모델이다"
   ]
  },
  {
   "cell_type": "code",
   "execution_count": null,
   "id": "d7a72ea6",
   "metadata": {},
   "outputs": [],
   "source": []
  },
  {
   "cell_type": "code",
   "execution_count": null,
   "id": "db95644c",
   "metadata": {},
   "outputs": [],
   "source": []
  },
  {
   "cell_type": "code",
   "execution_count": null,
   "id": "6b1b0c23",
   "metadata": {},
   "outputs": [],
   "source": []
  },
  {
   "cell_type": "markdown",
   "id": "581f60d5",
   "metadata": {},
   "source": [
    "# KoBART - 여러줄의 요약을 한줄로 깔끔"
   ]
  },
  {
   "cell_type": "markdown",
   "id": "07c3ae4b",
   "metadata": {},
   "source": [
    "## \"ainize/kobart-news\" / 뉴스에서 강점"
   ]
  },
  {
   "cell_type": "code",
   "execution_count": null,
   "id": "a005d0cf",
   "metadata": {},
   "outputs": [],
   "source": [
    "from transformers import PreTrainedTokenizerFast, BartForConditionalGeneration"
   ]
  },
  {
   "cell_type": "code",
   "execution_count": 61,
   "id": "d3a46849",
   "metadata": {},
   "outputs": [
    {
     "name": "stdout",
     "output_type": "stream",
     "text": [
      "서울로나19 방역을 위한 물리적 거리두기 완화로 영업제한 시간이 완전히 해제된 지난 18일 심야 시간대(19일 0~2시) 서울의 택시 이용객은 오후 9시 영업제한이 있었을 때보다 2배 가까이(96%)가 증가하고 영업 택시는 62% 늘어나는 데 그쳐 늦은 밤 집에 가려던 시민들이 불편을 겪으며 택시 승차난이 벌어지고 있다.\n"
     ]
    }
   ],
   "source": [
    "#  Load Model and Tokenize\n",
    "tokenizer = PreTrainedTokenizerFast.from_pretrained(\"ainize/kobart-news\")\n",
    "model = BartForConditionalGeneration.from_pretrained(\"ainize/kobart-news\")\n",
    "\n",
    "# Encode Input Text\n",
    "input_text = b\n",
    "input_ids = tokenizer.encode(input_text, return_tensors=\"pt\")\n",
    "\n",
    "# Generate Summary Text Ids\n",
    "summary_text_ids = model.generate(\n",
    "    input_ids=input_ids,\n",
    "    bos_token_id=model.config.bos_token_id,\n",
    "    eos_token_id=model.config.eos_token_id,\n",
    "    length_penalty=2.0,\n",
    "    max_length=512,\n",
    "    min_length=20,\n",
    "    num_beams=4,\n",
    ")\n",
    "\n",
    "# Decoding Text\n",
    "print(tokenizer.decode(summary_text_ids[0], skip_special_tokens=True))"
   ]
  },
  {
   "cell_type": "code",
   "execution_count": null,
   "id": "25218905",
   "metadata": {},
   "outputs": [],
   "source": []
  },
  {
   "cell_type": "markdown",
   "id": "26c71dd3",
   "metadata": {},
   "source": [
    "## 'digit82/kobart-summarization' / 비문학 문단요약에서 강점"
   ]
  },
  {
   "cell_type": "code",
   "execution_count": 93,
   "id": "3db2275b",
   "metadata": {},
   "outputs": [
    {
     "data": {
      "text/plain": [
       "'미학은 예술과 미적 경험에 관한 개념과 이론에 대해 논의하는 철학의 한 분야로서, 예술과 미적 경험에 관한 개념과 이론에 대해 논의하는 철학의 한 분야로서, 미학의 문제들 가운데 하나가 예술의 정의에 대한 문제인데, 아리스토텔레스의 말에서 비롯된 모방론은, 대상과 그 대상의 재현이 닮은꼴이어야 한다는 재현의 투명성 이론을 전제한다.'"
      ]
     },
     "execution_count": 93,
     "metadata": {},
     "output_type": "execute_result"
    }
   ],
   "source": [
    "tokenizer = PreTrainedTokenizerFast.from_pretrained('digit82/kobart-summarization')\n",
    "model = BartForConditionalGeneration.from_pretrained('digit82/kobart-summarization')\n",
    "\n",
    "raw_input_ids = tokenizer.encode(c.iloc[3,2])\n",
    "input_ids = [tokenizer.bos_token_id] + raw_input_ids + [tokenizer.eos_token_id]\n",
    "\n",
    "summary_ids = model.generate(torch.tensor([input_ids]),  \n",
    "                             num_beams=4,  \n",
    "                             max_length=512, #요약문의 최대 길이\n",
    "                             min_length=20,  #요약문의 최소 길이\n",
    "                             eos_token_id=1) #1로 하면 1문장 정도, 2로 하니까 14줄로 나옴, 소수점으로 설정 불가\n",
    "tokenizer.decode(summary_ids.squeeze().tolist(), skip_special_tokens=True)"
   ]
  },
  {
   "cell_type": "code",
   "execution_count": 92,
   "id": "b9910400",
   "metadata": {},
   "outputs": [
    {
     "data": {
      "text/plain": [
       "'미학은 예술과 미적 경험에 관한 개념과 이론에 대해 논의하는 철학의 한 분야로서, 미학의 문제들 가운데 하나가 바로 예술의 정의에 대한 문제이다. 예술이 자연에 대한 모방이라는 아리스토텔레스의 말에서 비롯된 모방론은, 대상과 그 대상의 재현이 닮은꼴이어야 한다는 재현의 투명성 이론을 전제한다. 그러나 예술가의 독창적인 감정 표현을 중시하는 한편 외부 세계에 대한 왜곡된 표현을 허용하는 낭만주의 사조가 18세기 말에 등장하면서, 모방론은 많이 쇠퇴했다. 이제 모방을 필수 조건으로 삼지 않는 낭만주의 예술가의 작품을 예술로 인정해 줄 수 있는 새로운 이론이 필요했다.'"
      ]
     },
     "execution_count": 92,
     "metadata": {},
     "output_type": "execute_result"
    }
   ],
   "source": [
    "c.iloc[3,2]"
   ]
  },
  {
   "cell_type": "code",
   "execution_count": null,
   "id": "39655044",
   "metadata": {},
   "outputs": [],
   "source": []
  },
  {
   "cell_type": "code",
   "execution_count": 94,
   "id": "58a58d84",
   "metadata": {},
   "outputs": [
    {
     "name": "stderr",
     "output_type": "stream",
     "text": [
      "The tokenizer class you load from this checkpoint is not the same type as the class this function is called from. It may result in unexpected tokenization. \n",
      "The tokenizer class you load from this checkpoint is 'BartTokenizer'. \n",
      "The class this function is called from is 'PreTrainedTokenizerFast'.\n"
     ]
    },
    {
     "data": {
      "text/plain": [
       "'예술가의 자연에 대한 모방이라는 아리스토텔레스의 말에서 비롯된 모방론, 대상과 대상의 재현이 닮은꼴이어야 한다는 재현의 투명성 이론을 전제한 낭만주의 사조가 18세기 말에 등장하면서 모방론은 많이 쇠퇴했지만 낭만주의 예술가의 작품을 예술로 인정해 줄 수 있는 새로운 이론이 필요했다.'"
      ]
     },
     "execution_count": 94,
     "metadata": {},
     "output_type": "execute_result"
    }
   ],
   "source": [
    "tokenizer = PreTrainedTokenizerFast.from_pretrained('gogamza/kobart-summarization')\n",
    "model = BartForConditionalGeneration.from_pretrained('gogamza/kobart-summarization')\n",
    "\n",
    "input_ids = tokenizer.encode(c.iloc[3,2])\n",
    "\n",
    "input_ids = [tokenizer.bos_token_id] + input_ids + [tokenizer.eos_token_id]\n",
    "input_ids = torch.tensor([input_ids])\n",
    "\n",
    "summary_text_ids = model.generate(\n",
    "    input_ids = input_ids,\n",
    "    bos_token_id = model.config.bos_token_id,\n",
    "    eos_token_id = model.config.eos_token_id,\n",
    "    length_penalty=2.0, # 길이에 대한 penalty 값. 1보다 작은 경우 더 짧은 문장을 생성하도록 유도하며, 1보다 클 경우 길이가 더 긴 문장을 유도\n",
    "    max_length = 512, # 요약문의 최대 길이 설정\n",
    "    min_length = 20, # 요약문의 최소 길이 설정\n",
    "    num_beams = 4) # 문장 생성 시 다음 단어를 탐색하는 영역의 개수\n",
    "\n",
    "tokenizer.decode(summary_text_ids[0], skip_special_tokens=True)"
   ]
  },
  {
   "cell_type": "code",
   "execution_count": null,
   "id": "565084c8",
   "metadata": {},
   "outputs": [],
   "source": []
  },
  {
   "cell_type": "code",
   "execution_count": null,
   "id": "5040ee4a",
   "metadata": {},
   "outputs": [],
   "source": []
  },
  {
   "cell_type": "code",
   "execution_count": null,
   "id": "c4562c07",
   "metadata": {},
   "outputs": [],
   "source": []
  },
  {
   "cell_type": "markdown",
   "id": "71bc6e5c",
   "metadata": {},
   "source": [
    "# bleu스코어"
   ]
  },
  {
   "cell_type": "code",
   "execution_count": 96,
   "id": "4e7f1e51",
   "metadata": {},
   "outputs": [
    {
     "data": {
      "text/plain": [
       "'미학은 예술과 미적 경험에 관한 개념과 이론에 대해 논의하는 철학의 한 분야로서, 미학의 문제들 가운데 하나가 바로 예술의 정의에 대한 문제이다. 예술이 자연에 대한 모방이라는 아리스토텔레스의 말에서 비롯된 모방론은, 대상과 그 대상의 재현이 닮은꼴이어야 한다는 재현의 투명성 이론을 전제한다. 그러나 예술가의 독창적인 감정 표현을 중시하는 한편 외부 세계에 대한 왜곡된 표현을 허용하는 낭만주의 사조가 18세기 말에 등장하면서, 모방론은 많이 쇠퇴했다. 이제 모방을 필수 조건으로 삼지 않는 낭만주의 예술가의 작품을 예술로 인정해 줄 수 있는 새로운 이론이 필요했다.'"
      ]
     },
     "execution_count": 96,
     "metadata": {},
     "output_type": "execute_result"
    }
   ],
   "source": [
    "c.iloc[3,2]"
   ]
  },
  {
   "cell_type": "code",
   "execution_count": 97,
   "id": "4d318656",
   "metadata": {},
   "outputs": [],
   "source": [
    "tokenizer = PreTrainedTokenizerFast.from_pretrained('digit82/kobart-summarization')\n",
    "model = BartForConditionalGeneration.from_pretrained('digit82/kobart-summarization')\n",
    "\n",
    "raw_input_ids = tokenizer.encode(c.iloc[3,2])\n",
    "input_ids = [tokenizer.bos_token_id] + raw_input_ids + [tokenizer.eos_token_id]\n",
    "\n",
    "summary_ids = model.generate(torch.tensor([input_ids]),  \n",
    "                             num_beams=4,  \n",
    "                             max_length=512, #요약문의 최대 길이\n",
    "                             min_length=20,  #요약문의 최소 길이\n",
    "                             eos_token_id=1) #1로 하면 1문장 정도, 2로 하니까 14줄로 나옴, 소수점으로 설정 불가\n",
    "q = tokenizer.decode(summary_ids.squeeze().tolist(), skip_special_tokens=True)"
   ]
  },
  {
   "cell_type": "code",
   "execution_count": 98,
   "id": "4440c893",
   "metadata": {},
   "outputs": [
    {
     "data": {
      "text/plain": [
       "'미학은 예술과 미적 경험에 관한 개념과 이론에 대해 논의하는 철학의 한 분야로서, 예술과 미적 경험에 관한 개념과 이론에 대해 논의하는 철학의 한 분야로서, 미학의 문제들 가운데 하나가 예술의 정의에 대한 문제인데, 아리스토텔레스의 말에서 비롯된 모방론은, 대상과 그 대상의 재현이 닮은꼴이어야 한다는 재현의 투명성 이론을 전제한다.'"
      ]
     },
     "execution_count": 98,
     "metadata": {},
     "output_type": "execute_result"
    }
   ],
   "source": [
    "q"
   ]
  },
  {
   "cell_type": "code",
   "execution_count": 101,
   "id": "129ce7dd",
   "metadata": {},
   "outputs": [
    {
     "name": "stderr",
     "output_type": "stream",
     "text": [
      "The tokenizer class you load from this checkpoint is not the same type as the class this function is called from. It may result in unexpected tokenization. \n",
      "The tokenizer class you load from this checkpoint is 'BartTokenizer'. \n",
      "The class this function is called from is 'PreTrainedTokenizerFast'.\n"
     ]
    }
   ],
   "source": [
    "tokenizer = PreTrainedTokenizerFast.from_pretrained('gogamza/kobart-summarization')\n",
    "model = BartForConditionalGeneration.from_pretrained('gogamza/kobart-summarization')\n",
    "\n",
    "input_ids = tokenizer.encode(c.iloc[3,2])\n",
    "\n",
    "input_ids = [tokenizer.bos_token_id] + input_ids + [tokenizer.eos_token_id]\n",
    "input_ids = torch.tensor([input_ids])\n",
    "\n",
    "summary_text_ids = model.generate(\n",
    "    input_ids = input_ids,\n",
    "    bos_token_id = model.config.bos_token_id,\n",
    "    eos_token_id = model.config.eos_token_id,\n",
    "    length_penalty=2.0, # 길이에 대한 penalty 값. 1보다 작은 경우 더 짧은 문장을 생성하도록 유도하며, 1보다 클 경우 길이가 더 긴 문장을 유도\n",
    "    max_length = 512, # 요약문의 최대 길이 설정\n",
    "    min_length = 20, # 요약문의 최소 길이 설정\n",
    "    num_beams = 4) # 문장 생성 시 다음 단어를 탐색하는 영역의 개수\n",
    "\n",
    "w = tokenizer.decode(summary_text_ids[0], skip_special_tokens=True)"
   ]
  },
  {
   "cell_type": "code",
   "execution_count": 102,
   "id": "f92b28dd",
   "metadata": {},
   "outputs": [
    {
     "name": "stdout",
     "output_type": "stream",
     "text": [
      "패키지 NLTK의 BLEU : 0.20886034010794882\n"
     ]
    }
   ],
   "source": [
    "import nltk.translate.bleu_score as bleu\n",
    "\n",
    "candidate = w\n",
    "references = [c.iloc[3,2]]\n",
    "\n",
    "print('패키지 NLTK의 BLEU :',bleu.sentence_bleu(list(map(lambda ref: ref.split(), references)),candidate.split()))"
   ]
  },
  {
   "cell_type": "code",
   "execution_count": null,
   "id": "729950f3",
   "metadata": {},
   "outputs": [],
   "source": []
  },
  {
   "cell_type": "markdown",
   "id": "01772b69",
   "metadata": {},
   "source": [
    "# rouge"
   ]
  },
  {
   "cell_type": "raw",
   "id": "4cae723a",
   "metadata": {},
   "source": [
    "Recall : label을 구성하는 단어 중 몇개가 inference와 겹치는가?\n",
    "우선적으로 필요한 정보들이 다 담겨있는지 체크\n",
    "\n",
    "precision : inference를 구성하는 단어 중 몇개가 label과 겹치는가?\n",
    "요약된 문장에 필요한 정보만을 얼마나 담고있는지를 체크"
   ]
  },
  {
   "cell_type": "code",
   "execution_count": 105,
   "id": "1b047e1b",
   "metadata": {},
   "outputs": [],
   "source": [
    "from rouge import Rouge"
   ]
  },
  {
   "cell_type": "code",
   "execution_count": 106,
   "id": "91ad4fd8",
   "metadata": {},
   "outputs": [
    {
     "data": {
      "text/plain": [
       "{'rouge-1': {'r': 0.4583333333333333,\n",
       "  'p': 0.9705882352941176,\n",
       "  'f': 0.6226415050765397},\n",
       " 'rouge-2': {'r': 0.39473684210526316,\n",
       "  'p': 0.8823529411764706,\n",
       "  'f': 0.545454541183471},\n",
       " 'rouge-l': {'r': 0.4583333333333333,\n",
       "  'p': 0.9705882352941176,\n",
       "  'f': 0.6226415050765397}}"
      ]
     },
     "execution_count": 106,
     "metadata": {},
     "output_type": "execute_result"
    }
   ],
   "source": [
    "model_out = [q]\n",
    "\n",
    "reference = [c.iloc[3,2]]\n",
    "rouge = Rouge()\n",
    "rouge.get_scores(model_out, reference, avg=True)\n",
    "\n",
    "#참고: \"f\"는 f1_score, \"p\"는 정밀도, \"r\"은 재현율을 나타냅니다."
   ]
  },
  {
   "cell_type": "code",
   "execution_count": 107,
   "id": "dd6b42f9",
   "metadata": {},
   "outputs": [
    {
     "data": {
      "text/plain": [
       "{'rouge-1': {'r': 0.07710280373831775,\n",
       "  'p': 0.9705882352941176,\n",
       "  'f': 0.1428571414936002},\n",
       " 'rouge-2': {'r': 0.054844606946983544,\n",
       "  'p': 0.8823529411764706,\n",
       "  'f': 0.10327022265024692},\n",
       " 'rouge-l': {'r': 0.07710280373831775,\n",
       "  'p': 0.9705882352941176,\n",
       "  'f': 0.1428571414936002}}"
      ]
     },
     "execution_count": 107,
     "metadata": {},
     "output_type": "execute_result"
    }
   ],
   "source": [
    "model_out = [q]\n",
    "\n",
    "reference = [c.iloc[3,1]]\n",
    "rouge = Rouge()\n",
    "rouge.get_scores(model_out, reference, avg=True)\n",
    "\n",
    "#참고: \"f\"는 f1_score, \"p\"는 정밀도, \"r\"은 재현율을 나타냅니다."
   ]
  },
  {
   "cell_type": "code",
   "execution_count": null,
   "id": "8532599b",
   "metadata": {},
   "outputs": [],
   "source": []
  }
 ],
 "metadata": {
  "kernelspec": {
   "display_name": "Python 3 (ipykernel)",
   "language": "python",
   "name": "python3"
  },
  "language_info": {
   "codemirror_mode": {
    "name": "ipython",
    "version": 3
   },
   "file_extension": ".py",
   "mimetype": "text/x-python",
   "name": "python",
   "nbconvert_exporter": "python",
   "pygments_lexer": "ipython3",
   "version": "3.9.7"
  }
 },
 "nbformat": 4,
 "nbformat_minor": 5
}
