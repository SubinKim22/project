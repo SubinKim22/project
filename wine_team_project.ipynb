{
 "cells": [
  {
   "cell_type": "markdown",
   "id": "ed69e421",
   "metadata": {},
   "source": [
    "```\n",
    "22/02/03\n",
    "1. 베이스라인 제출(랜덤 포레스트) = 0.639\n",
    "2. 정규화 후 제출(랜덤 포레스트) = 0.62\n",
    "3. 이상치 제거 후 제출(랜덤 포레스트) = 0.5933\n",
    "4. 이상치 제거 + 정규화 후 제출해보기 = 0.535 \n",
    "5. 정규화 + lightgbm = 0.644 \n",
    "6. 정규화 + 보팅(xgb,lightgmb,rf) = 0.662\n",
    "\n",
    "22/02/04\n",
    "1. 보팅(xgb,lightgmb,rf) = 0.699 (best - 24th)\n",
    "2. gridsearch + rf = 0.627\n",
    "3. 하이퍼파라미터 + 보팅 = 0.686\n",
    "4, 보팅(모델 추가) = 0.676\n",
    "```"
   ]
  },
  {
   "cell_type": "markdown",
   "id": "6c1fbc8d",
   "metadata": {},
   "source": [
    "```\n",
    "# 변수 설명\n",
    "\n",
    "index 구분자\n",
    "quality 품질\n",
    "fixed acidity 산도\n",
    "volatile acidity 휘발성산\n",
    "citric acid 시트르산\n",
    "residual sugar 잔당 : 발효 후 와인 속에 남아있는 당분\n",
    "chlorides 염화물\n",
    "free sulfur dioxide 독립 이산화황\n",
    "total sulfur dioxide 총 이산화황\n",
    "density 밀도\n",
    "pH 수소이온농도\n",
    "sulphates 황산염\n",
    "alcohol 도수\n",
    "type 종류\n",
    "```"
   ]
  },
  {
   "cell_type": "code",
   "execution_count": null,
   "id": "147cc1c8",
   "metadata": {},
   "outputs": [],
   "source": [
    "import pandas as pd\n",
    "\n",
    "import matplotlib as mpl\n",
    "from matplotlib import font_manager, rc\n",
    "import matplotlib.pyplot as plt\n",
    "import numpy as np\n",
    "import pandas as pd\n",
    "print(mpl.__version__)\n",
    "# seaborn 스타일 사용\n",
    "plt.style.use('seaborn-notebook')\n",
    "\n",
    "# matplotlib 그래프 한글폰트 깨질 때 대처(Mac & Window)\n",
    "import platform\n",
    "if platform.system() == 'Windows':\n",
    "# 윈도우인 경우\n",
    "    font_name = font_manager.FontProperties(fname=\"c:/Windows/Fonts/malgun.ttf\").get_name()\n",
    "    rc('font', family=font_name)\n",
    "else:    \n",
    "# Mac 인 경우\n",
    "    rc('font', family='AppleGothic')\n",
    "    \n",
    "# 그래프에서 마이너스 기호가 표시되도록 하는 설정\n",
    "mpl.rcParams['axes.unicode_minus'] = False\n",
    "\n",
    "import seaborn as sns\n",
    "import warnings\n",
    "warnings.filterwarnings('ignore')\n",
    "%matplotlib inline\n"
   ]
  },
  {
   "cell_type": "markdown",
   "id": "44add430",
   "metadata": {},
   "source": [
    "# 베이스라인 코드"
   ]
  },
  {
   "cell_type": "code",
   "execution_count": null,
   "id": "dde3f4d1",
   "metadata": {},
   "outputs": [],
   "source": [
    "train = pd.read_csv('train.csv')\n",
    "test = pd.read_csv('test.csv')"
   ]
  },
  {
   "cell_type": "code",
   "execution_count": null,
   "id": "4a588e5a",
   "metadata": {},
   "outputs": [],
   "source": [
    "train.head()"
   ]
  },
  {
   "cell_type": "code",
   "execution_count": null,
   "id": "014d4daf",
   "metadata": {},
   "outputs": [],
   "source": [
    "plt.figure(figsize=(12,12))\n",
    "sns.heatmap(data = train.corr(), annot=True)"
   ]
  },
  {
   "cell_type": "code",
   "execution_count": null,
   "id": "b911e82f",
   "metadata": {},
   "outputs": [],
   "source": [
    "plt.figure(figsize=(12,12))\n",
    "sns.boxplot(data = train[''])"
   ]
  },
  {
   "cell_type": "code",
   "execution_count": null,
   "id": "e23cb171",
   "metadata": {},
   "outputs": [],
   "source": [
    "plt.figure(figsize=(12,12))\n",
    "for i in range(1,13):\n",
    "    plt.subplot(3,4,i)\n",
    "    sns.distplot(train.iloc[:,i])\n",
    "plt.tight_layout()\n",
    "plt.show()"
   ]
  },
  {
   "cell_type": "code",
   "execution_count": null,
   "id": "10b56679",
   "metadata": {},
   "outputs": [],
   "source": [
    "from sklearn.preprocessing import LabelEncoder\n",
    "\n",
    "enc = LabelEncoder()\n",
    "enc.fit(train['type'])\n",
    "train['type'] = enc.transform(train['type'])\n",
    "test['type'] = enc.transform(test['type'])"
   ]
  },
  {
   "cell_type": "code",
   "execution_count": null,
   "id": "1b27dc65",
   "metadata": {},
   "outputs": [],
   "source": [
    "train.head()"
   ]
  },
  {
   "cell_type": "code",
   "execution_count": null,
   "id": "bbc07439",
   "metadata": {},
   "outputs": [],
   "source": [
    "test.head()"
   ]
  },
  {
   "cell_type": "code",
   "execution_count": null,
   "id": "98e22a33",
   "metadata": {},
   "outputs": [],
   "source": [
    "train.isna().sum()"
   ]
  },
  {
   "cell_type": "code",
   "execution_count": null,
   "id": "3d6fdf87",
   "metadata": {},
   "outputs": [],
   "source": [
    "test.isna().sum()"
   ]
  },
  {
   "cell_type": "code",
   "execution_count": null,
   "id": "2043e736",
   "metadata": {},
   "outputs": [],
   "source": []
  },
  {
   "cell_type": "code",
   "execution_count": null,
   "id": "5f785ed9",
   "metadata": {},
   "outputs": [],
   "source": [
    "X_train = train.drop(['index','quality'], axis = 1)\n",
    "X_test = test.drop(['index'], axis = 1)\n",
    "y_train = train['quality']"
   ]
  },
  {
   "cell_type": "code",
   "execution_count": null,
   "id": "62d32bce",
   "metadata": {},
   "outputs": [],
   "source": [
    "X_train"
   ]
  },
  {
   "cell_type": "code",
   "execution_count": null,
   "id": "ff8b78cd",
   "metadata": {},
   "outputs": [],
   "source": []
  },
  {
   "cell_type": "code",
   "execution_count": null,
   "id": "c6ea2a20",
   "metadata": {},
   "outputs": [],
   "source": []
  },
  {
   "cell_type": "code",
   "execution_count": null,
   "id": "6dea961b",
   "metadata": {},
   "outputs": [],
   "source": [
    "from sklearn.tree import DecisionTreeClassifier"
   ]
  },
  {
   "cell_type": "code",
   "execution_count": null,
   "id": "cdfd6bbb",
   "metadata": {
    "scrolled": true
   },
   "outputs": [],
   "source": [
    "dt_clf = DecisionTreeClassifier(random_state=0)\n",
    "dt_clf.fit(X_train, y_train)"
   ]
  },
  {
   "cell_type": "code",
   "execution_count": null,
   "id": "d9cd6d57",
   "metadata": {},
   "outputs": [],
   "source": [
    "pred = dt_clf.predict(X_test)"
   ]
  },
  {
   "cell_type": "code",
   "execution_count": null,
   "id": "0b0021f1",
   "metadata": {},
   "outputs": [],
   "source": [
    "pred"
   ]
  },
  {
   "cell_type": "code",
   "execution_count": null,
   "id": "98c0edf8",
   "metadata": {
    "scrolled": true
   },
   "outputs": [],
   "source": [
    "dt_clf.feature_importances_"
   ]
  },
  {
   "cell_type": "code",
   "execution_count": null,
   "id": "e1883d64",
   "metadata": {},
   "outputs": [],
   "source": []
  },
  {
   "cell_type": "code",
   "execution_count": null,
   "id": "bb3be10c",
   "metadata": {},
   "outputs": [],
   "source": [
    "from sklearn.ensemble import RandomForestClassifier"
   ]
  },
  {
   "cell_type": "code",
   "execution_count": null,
   "id": "a497b188",
   "metadata": {},
   "outputs": [],
   "source": [
    "rf_clf = RandomForestClassifier(random_state=0, max_depth=10) \n",
    "rf_clf.fit(X_train , y_train)\n",
    "pred = rf_clf.predict(X_test)\n",
    "pred"
   ]
  },
  {
   "cell_type": "code",
   "execution_count": null,
   "id": "2dff3c06",
   "metadata": {},
   "outputs": [],
   "source": [
    "submission = pd.read_csv('sample_submission.csv')"
   ]
  },
  {
   "cell_type": "code",
   "execution_count": null,
   "id": "79035498",
   "metadata": {},
   "outputs": [],
   "source": [
    "submission['quality'] = pred"
   ]
  },
  {
   "cell_type": "code",
   "execution_count": null,
   "id": "dff4a335",
   "metadata": {},
   "outputs": [],
   "source": [
    "submission"
   ]
  },
  {
   "cell_type": "code",
   "execution_count": null,
   "id": "4a8aabf4",
   "metadata": {},
   "outputs": [],
   "source": [
    "submission.to_csv('submission.csv',index=False)"
   ]
  },
  {
   "cell_type": "raw",
   "id": "d2e84bbd",
   "metadata": {},
   "source": [
    "=> 제출 결과 0.639\n"
   ]
  },
  {
   "cell_type": "code",
   "execution_count": null,
   "id": "03dddc7d",
   "metadata": {},
   "outputs": [],
   "source": []
  },
  {
   "cell_type": "markdown",
   "id": "ea0aec08",
   "metadata": {},
   "source": [
    "## 전처리 시작 "
   ]
  },
  {
   "cell_type": "code",
   "execution_count": null,
   "id": "985e1616",
   "metadata": {},
   "outputs": [],
   "source": [
    "train = pd.read_csv('train.csv')\n",
    "test = pd.read_csv('test.csv')"
   ]
  },
  {
   "cell_type": "code",
   "execution_count": null,
   "id": "1ebc1b2b",
   "metadata": {},
   "outputs": [],
   "source": [
    "from sklearn.preprocessing import LabelEncoder\n",
    "\n",
    "enc = LabelEncoder()\n",
    "enc.fit(train['type'])\n",
    "train['type'] = enc.transform(train['type'])\n",
    "test['type'] = enc.transform(test['type'])"
   ]
  },
  {
   "cell_type": "code",
   "execution_count": null,
   "id": "2d4147a1",
   "metadata": {},
   "outputs": [],
   "source": [
    "from sklearn.preprocessing import StandardScaler\n",
    "\n",
    "scaler = StandardScaler()\n",
    "\n",
    "scaler.fit(train[['fixed acidity','volatile acidity','citric acid', 'residual sugar','chlorides','free sulfur dioxide','total sulfur dioxide','density','pH','sulphates','alcohol']])  # 데이터프레임이 되어버림\n",
    "\n",
    "train[['fixed acidity','volatile acidity','citric acid', 'residual sugar','chlorides','free sulfur dioxide','total sulfur dioxide','density','pH','sulphates','alcohol']] = scaler.transform(train[['fixed acidity','volatile acidity','citric acid', 'residual sugar','chlorides','free sulfur dioxide','total sulfur dioxide','density','pH','sulphates','alcohol']])\n",
    "\n",
    "\n",
    "train"
   ]
  },
  {
   "cell_type": "code",
   "execution_count": null,
   "id": "d8bd6797",
   "metadata": {},
   "outputs": [],
   "source": [
    "test"
   ]
  },
  {
   "cell_type": "code",
   "execution_count": null,
   "id": "68ff4738",
   "metadata": {},
   "outputs": [],
   "source": [
    "from sklearn.preprocessing import StandardScaler\n",
    "\n",
    "scaler = StandardScaler()\n",
    "\n",
    "scaler.fit(test[['fixed acidity','volatile acidity','citric acid', 'residual sugar','chlorides','free sulfur dioxide','total sulfur dioxide','density','pH','sulphates','alcohol']])  # 데이터프레임이 되어버림\n",
    "\n",
    "test[['fixed acidity','volatile acidity','citric acid', 'residual sugar','chlorides','free sulfur dioxide','total sulfur dioxide','density','pH','sulphates','alcohol']] = scaler.transform(test[['fixed acidity','volatile acidity','citric acid', 'residual sugar','chlorides','free sulfur dioxide','total sulfur dioxide','density','pH','sulphates','alcohol']])\n",
    "\n",
    "\n",
    "test"
   ]
  },
  {
   "cell_type": "code",
   "execution_count": null,
   "id": "41bde1f2",
   "metadata": {},
   "outputs": [],
   "source": []
  },
  {
   "cell_type": "code",
   "execution_count": null,
   "id": "ef77e895",
   "metadata": {},
   "outputs": [],
   "source": [
    "train.head()"
   ]
  },
  {
   "cell_type": "code",
   "execution_count": null,
   "id": "ba785e89",
   "metadata": {},
   "outputs": [],
   "source": []
  },
  {
   "cell_type": "code",
   "execution_count": null,
   "id": "e760f4a1",
   "metadata": {},
   "outputs": [],
   "source": [
    "from sklearn.tree import DecisionTreeClassifier"
   ]
  },
  {
   "cell_type": "code",
   "execution_count": null,
   "id": "8bb98e3e",
   "metadata": {},
   "outputs": [],
   "source": [
    "X_train = train.drop(['index','quality'], axis = 1)\n",
    "X_test = test.drop(['index'], axis = 1)"
   ]
  },
  {
   "cell_type": "code",
   "execution_count": null,
   "id": "e8eb8213",
   "metadata": {},
   "outputs": [],
   "source": [
    "y_train = train['quality']"
   ]
  },
  {
   "cell_type": "code",
   "execution_count": null,
   "id": "9587c7fc",
   "metadata": {},
   "outputs": [],
   "source": [
    "X_train"
   ]
  },
  {
   "cell_type": "code",
   "execution_count": null,
   "id": "81b1addc",
   "metadata": {},
   "outputs": [],
   "source": [
    "y_train"
   ]
  },
  {
   "cell_type": "code",
   "execution_count": null,
   "id": "6dae19b6",
   "metadata": {},
   "outputs": [],
   "source": [
    "from sklearn.ensemble import RandomForestClassifier\n",
    "\n",
    "rf_clf = RandomForestClassifier(random_state=0, max_depth=10) \n",
    "rf_clf.fit(X_train , y_train)\n",
    "pred = rf_clf.predict(X_test)\n",
    "pred"
   ]
  },
  {
   "cell_type": "code",
   "execution_count": null,
   "id": "50372b0f",
   "metadata": {},
   "outputs": [],
   "source": [
    "submission = pd.read_csv('sample_submission.csv')\n",
    "\n",
    "submission['quality'] = pred\n",
    "\n",
    "submission\n",
    "\n",
    "submission.to_csv('submission.csv',index=False)"
   ]
  },
  {
   "cell_type": "code",
   "execution_count": null,
   "id": "8f271282",
   "metadata": {},
   "outputs": [],
   "source": []
  },
  {
   "cell_type": "markdown",
   "id": "0e0013cb",
   "metadata": {},
   "source": [
    "## X_train 이상치 제거, y_train index 맞춤"
   ]
  },
  {
   "cell_type": "code",
   "execution_count": null,
   "id": "bc499b0b",
   "metadata": {},
   "outputs": [],
   "source": [
    "train = pd.read_csv('train.csv')\n",
    "test = pd.read_csv('test.csv')"
   ]
  },
  {
   "cell_type": "code",
   "execution_count": null,
   "id": "e4ebcc95",
   "metadata": {},
   "outputs": [],
   "source": [
    "from sklearn.preprocessing import LabelEncoder\n",
    "\n",
    "enc = LabelEncoder()\n",
    "enc.fit(train['type'])\n",
    "train['type'] = enc.transform(train['type'])\n",
    "test['type'] = enc.transform(test['type'])"
   ]
  },
  {
   "cell_type": "code",
   "execution_count": null,
   "id": "e55466af",
   "metadata": {},
   "outputs": [],
   "source": [
    "X_train = train.drop(['index','quality'], axis = 1)\n",
    "X_test = test.drop(['index'], axis = 1)\n",
    "y_train = train['quality']"
   ]
  },
  {
   "cell_type": "code",
   "execution_count": null,
   "id": "7a53bb1c",
   "metadata": {},
   "outputs": [],
   "source": [
    "for i in range(len(X_train.columns)-1):\n",
    "    quantile_25 = np.quantile(X_train[X_train.columns[i]] , 0.25)\n",
    "    quantile_75 = np.quantile(X_train[X_train.columns[i]] , 0.75)\n",
    "    IQR = quantile_75 - quantile_25\n",
    "    minimum = quantile_25 - 1.5 * IQR\n",
    "    maximum = quantile_75 + 1.5 * IQR\n",
    "    X_train_outer = X_train[(X_train[X_train.columns[i]] < minimum) | (X_train[X_train.columns[i]] > maximum)]\n",
    "    X_train = X_train.drop(X_train_outer.index, axis = 0)"
   ]
  },
  {
   "cell_type": "code",
   "execution_count": null,
   "id": "2c6092c6",
   "metadata": {},
   "outputs": [],
   "source": [
    "X_train"
   ]
  },
  {
   "cell_type": "code",
   "execution_count": null,
   "id": "f28e4d7b",
   "metadata": {},
   "outputs": [],
   "source": [
    "y_train = y_train[X_train.index]"
   ]
  },
  {
   "cell_type": "code",
   "execution_count": null,
   "id": "ca30b3b1",
   "metadata": {},
   "outputs": [],
   "source": [
    "y_train"
   ]
  },
  {
   "cell_type": "code",
   "execution_count": null,
   "id": "2b7eadeb",
   "metadata": {},
   "outputs": [],
   "source": [
    "X_test"
   ]
  },
  {
   "cell_type": "code",
   "execution_count": null,
   "id": "18750c6c",
   "metadata": {
    "scrolled": true
   },
   "outputs": [],
   "source": [
    "from sklearn.ensemble import RandomForestClassifier\n",
    "\n",
    "rf_clf = RandomForestClassifier(random_state=0, max_depth=10) \n",
    "rf_clf.fit(X_train , y_train)\n",
    "pred = rf_clf.predict(X_test)\n",
    "pred"
   ]
  },
  {
   "cell_type": "code",
   "execution_count": null,
   "id": "766f9735",
   "metadata": {},
   "outputs": [],
   "source": [
    "submission = pd.read_csv('sample_submission.csv')\n",
    "\n",
    "submission['quality'] = pred\n",
    "\n",
    "submission\n",
    "\n",
    "submission.to_csv('submission.csv',index=False)"
   ]
  },
  {
   "cell_type": "raw",
   "id": "352465a5",
   "metadata": {},
   "source": [
    "=> 0.593"
   ]
  },
  {
   "cell_type": "code",
   "execution_count": null,
   "id": "44cc0264",
   "metadata": {},
   "outputs": [],
   "source": []
  },
  {
   "cell_type": "markdown",
   "id": "8440ee8f",
   "metadata": {},
   "source": [
    "# X_train 이상치제거 + 정규화"
   ]
  },
  {
   "cell_type": "code",
   "execution_count": null,
   "id": "dad5e2b1",
   "metadata": {},
   "outputs": [],
   "source": []
  },
  {
   "cell_type": "code",
   "execution_count": null,
   "id": "f9f411c1",
   "metadata": {},
   "outputs": [],
   "source": [
    "train = pd.read_csv('train.csv')\n",
    "test = pd.read_csv('test.csv')"
   ]
  },
  {
   "cell_type": "code",
   "execution_count": null,
   "id": "64a38e45",
   "metadata": {},
   "outputs": [],
   "source": [
    "from sklearn.preprocessing import LabelEncoder\n",
    "\n",
    "enc = LabelEncoder()\n",
    "enc.fit(train['type'])\n",
    "train['type'] = enc.transform(train['type'])\n",
    "test['type'] = enc.transform(test['type'])"
   ]
  },
  {
   "cell_type": "code",
   "execution_count": null,
   "id": "13aaddef",
   "metadata": {},
   "outputs": [],
   "source": [
    "X_train = train.drop(['index','quality'], axis = 1)\n",
    "X_test = test.drop(['index'], axis = 1)\n",
    "y_train = train['quality']"
   ]
  },
  {
   "cell_type": "code",
   "execution_count": null,
   "id": "46d97991",
   "metadata": {},
   "outputs": [],
   "source": [
    "for i in range(len(X_train.columns)-1):\n",
    "    quantile_25 = np.quantile(X_train[X_train.columns[i]] , 0.25)\n",
    "    quantile_75 = np.quantile(X_train[X_train.columns[i]] , 0.75)\n",
    "    IQR = quantile_75 - quantile_25\n",
    "    minimum = quantile_25 - 1.5 * IQR\n",
    "    maximum = quantile_75 + 1.5 * IQR\n",
    "    X_train_outer = X_train[(X_train[X_train.columns[i]] < minimum) | (X_train[X_train.columns[i]] > maximum)]\n",
    "    X_train = X_train.drop(X_train_outer.index, axis = 0)"
   ]
  },
  {
   "cell_type": "code",
   "execution_count": null,
   "id": "bd069ca9",
   "metadata": {},
   "outputs": [],
   "source": [
    "X_train"
   ]
  },
  {
   "cell_type": "code",
   "execution_count": null,
   "id": "eef02a79",
   "metadata": {},
   "outputs": [],
   "source": [
    "from sklearn.preprocessing import StandardScaler\n",
    "\n",
    "scaler = StandardScaler()\n",
    "\n",
    "scaler.fit(X_train[['fixed acidity','volatile acidity','citric acid', 'residual sugar','chlorides','free sulfur dioxide','total sulfur dioxide','density','pH','sulphates','alcohol']])\n",
    "\n",
    "X_train[['fixed acidity','volatile acidity','citric acid', 'residual sugar','chlorides','free sulfur dioxide','total sulfur dioxide','density','pH','sulphates','alcohol']] = scaler.transform(X_train[['fixed acidity','volatile acidity','citric acid', 'residual sugar','chlorides','free sulfur dioxide','total sulfur dioxide','density','pH','sulphates','alcohol']])\n",
    "\n",
    "\n",
    "X_train"
   ]
  },
  {
   "cell_type": "code",
   "execution_count": null,
   "id": "def3ba53",
   "metadata": {},
   "outputs": [],
   "source": [
    "y_train = y_train[X_train.index]"
   ]
  },
  {
   "cell_type": "code",
   "execution_count": null,
   "id": "0a2f5eb4",
   "metadata": {},
   "outputs": [],
   "source": [
    "y_train"
   ]
  },
  {
   "cell_type": "code",
   "execution_count": null,
   "id": "e1f46a25",
   "metadata": {},
   "outputs": [],
   "source": [
    "X_test"
   ]
  },
  {
   "cell_type": "code",
   "execution_count": null,
   "id": "07382a88",
   "metadata": {},
   "outputs": [],
   "source": [
    "from sklearn.preprocessing import StandardScaler\n",
    "\n",
    "scaler = StandardScaler()\n",
    "\n",
    "scaler.fit(X_test[['fixed acidity','volatile acidity','citric acid', 'residual sugar','chlorides','free sulfur dioxide','total sulfur dioxide','density','pH','sulphates','alcohol']])  # 데이터프레임이 되어버림\n",
    "\n",
    "X_test[['fixed acidity','volatile acidity','citric acid', 'residual sugar','chlorides','free sulfur dioxide','total sulfur dioxide','density','pH','sulphates','alcohol']] = scaler.transform(X_test[['fixed acidity','volatile acidity','citric acid', 'residual sugar','chlorides','free sulfur dioxide','total sulfur dioxide','density','pH','sulphates','alcohol']])\n",
    "\n",
    "\n",
    "X_test"
   ]
  },
  {
   "cell_type": "code",
   "execution_count": null,
   "id": "f1ec263d",
   "metadata": {
    "scrolled": true
   },
   "outputs": [],
   "source": [
    "from sklearn.ensemble import RandomForestClassifier\n",
    "\n",
    "rf_clf = RandomForestClassifier(random_state=0, max_depth=5) \n",
    "rf_clf.fit(X_train , y_train)\n",
    "pred = rf_clf.predict(X_test)\n",
    "pred"
   ]
  },
  {
   "cell_type": "code",
   "execution_count": null,
   "id": "af9aa348",
   "metadata": {},
   "outputs": [],
   "source": [
    "submission = pd.read_csv('sample_submission.csv')\n",
    "\n",
    "submission['quality'] = pred\n",
    "\n",
    "submission\n",
    "\n",
    "submission.to_csv('submission.csv',index=False)"
   ]
  },
  {
   "cell_type": "raw",
   "id": "a191b445",
   "metadata": {},
   "source": [
    "=> 0.535"
   ]
  },
  {
   "cell_type": "code",
   "execution_count": null,
   "id": "4b67397d",
   "metadata": {},
   "outputs": [],
   "source": []
  },
  {
   "cell_type": "markdown",
   "id": "b60d3dd3",
   "metadata": {},
   "source": [
    "# import lightgbm as lgbm"
   ]
  },
  {
   "cell_type": "code",
   "execution_count": null,
   "id": "7a11f1da",
   "metadata": {},
   "outputs": [],
   "source": [
    "import lightgbm as lgbm"
   ]
  },
  {
   "cell_type": "code",
   "execution_count": null,
   "id": "abcc754b",
   "metadata": {},
   "outputs": [],
   "source": []
  },
  {
   "cell_type": "code",
   "execution_count": null,
   "id": "e6c8dfd8",
   "metadata": {},
   "outputs": [],
   "source": [
    "train = pd.read_csv('train.csv')\n",
    "test = pd.read_csv('test.csv')"
   ]
  },
  {
   "cell_type": "code",
   "execution_count": null,
   "id": "4830d975",
   "metadata": {},
   "outputs": [],
   "source": [
    "from sklearn.preprocessing import LabelEncoder\n",
    "\n",
    "enc = LabelEncoder()\n",
    "enc.fit(train['type'])\n",
    "train['type'] = enc.transform(train['type'])\n",
    "test['type'] = enc.transform(test['type'])"
   ]
  },
  {
   "cell_type": "code",
   "execution_count": null,
   "id": "0facf404",
   "metadata": {},
   "outputs": [],
   "source": [
    "X_train = train.drop(['index','quality'], axis = 1)\n",
    "X_test = test.drop(['index'], axis = 1)\n",
    "y_train = train['quality']"
   ]
  },
  {
   "cell_type": "code",
   "execution_count": null,
   "id": "8ded9c88",
   "metadata": {},
   "outputs": [],
   "source": [
    "from sklearn.preprocessing import StandardScaler\n",
    "\n",
    "scaler = StandardScaler()\n",
    "\n",
    "scaler.fit(X_train[['fixed acidity','volatile acidity','citric acid', 'residual sugar','chlorides','free sulfur dioxide','total sulfur dioxide','density','pH','sulphates','alcohol']])\n",
    "\n",
    "X_train[['fixed acidity','volatile acidity','citric acid', 'residual sugar','chlorides','free sulfur dioxide','total sulfur dioxide','density','pH','sulphates','alcohol']] = scaler.transform(X_train[['fixed acidity','volatile acidity','citric acid', 'residual sugar','chlorides','free sulfur dioxide','total sulfur dioxide','density','pH','sulphates','alcohol']])\n",
    "\n",
    "\n",
    "X_train"
   ]
  },
  {
   "cell_type": "code",
   "execution_count": null,
   "id": "88da9e9b",
   "metadata": {},
   "outputs": [],
   "source": [
    "from sklearn.preprocessing import StandardScaler\n",
    "\n",
    "scaler = StandardScaler()\n",
    "\n",
    "scaler.fit(X_test[['fixed acidity','volatile acidity','citric acid', 'residual sugar','chlorides','free sulfur dioxide','total sulfur dioxide','density','pH','sulphates','alcohol']])  # 데이터프레임이 되어버림\n",
    "\n",
    "X_test[['fixed acidity','volatile acidity','citric acid', 'residual sugar','chlorides','free sulfur dioxide','total sulfur dioxide','density','pH','sulphates','alcohol']] = scaler.transform(X_test[['fixed acidity','volatile acidity','citric acid', 'residual sugar','chlorides','free sulfur dioxide','total sulfur dioxide','density','pH','sulphates','alcohol']])\n",
    "\n",
    "\n",
    "X_test"
   ]
  },
  {
   "cell_type": "code",
   "execution_count": null,
   "id": "14ab7830",
   "metadata": {},
   "outputs": [],
   "source": [
    "model = lgbm.LGBMClassifier()\n",
    "model.fit(X_train,y_train)"
   ]
  },
  {
   "cell_type": "code",
   "execution_count": null,
   "id": "89b46df5",
   "metadata": {},
   "outputs": [],
   "source": [
    "pred = model.predict(X_test)\n",
    "pred"
   ]
  },
  {
   "cell_type": "code",
   "execution_count": null,
   "id": "36f6fe25",
   "metadata": {},
   "outputs": [],
   "source": [
    "submission = pd.read_csv('sample_submission.csv')\n",
    "\n",
    "submission['quality'] = pred\n",
    "\n",
    "submission\n",
    "\n",
    "submission.to_csv('submission.csv',index=False)"
   ]
  },
  {
   "cell_type": "code",
   "execution_count": null,
   "id": "7dd1cd2c",
   "metadata": {},
   "outputs": [],
   "source": []
  },
  {
   "cell_type": "markdown",
   "id": "a4e9d7b0",
   "metadata": {},
   "source": [
    "# 보팅"
   ]
  },
  {
   "cell_type": "code",
   "execution_count": null,
   "id": "8ad71304",
   "metadata": {},
   "outputs": [],
   "source": []
  },
  {
   "cell_type": "code",
   "execution_count": null,
   "id": "1db8152d",
   "metadata": {},
   "outputs": [],
   "source": [
    "train = pd.read_csv('train.csv')\n",
    "test = pd.read_csv('test.csv')"
   ]
  },
  {
   "cell_type": "code",
   "execution_count": null,
   "id": "cf7f082e",
   "metadata": {},
   "outputs": [],
   "source": [
    "from sklearn.preprocessing import LabelEncoder\n",
    "\n",
    "enc = LabelEncoder()\n",
    "enc.fit(train['type'])\n",
    "train['type'] = enc.transform(train['type'])\n",
    "test['type'] = enc.transform(test['type'])"
   ]
  },
  {
   "cell_type": "code",
   "execution_count": null,
   "id": "d136baad",
   "metadata": {},
   "outputs": [],
   "source": [
    "X_train = train.drop(['index','quality'], axis = 1)\n",
    "X_test = test.drop(['index'], axis = 1)\n",
    "y_train = train['quality']"
   ]
  },
  {
   "cell_type": "code",
   "execution_count": null,
   "id": "554ff7b2",
   "metadata": {},
   "outputs": [],
   "source": [
    "from lightgbm import LGBMClassifier\n",
    "from xgboost import XGBClassifier\n",
    "from sklearn.ensemble import VotingClassifier\n",
    "from sklearn.ensemble import RandomForestClassifier"
   ]
  },
  {
   "cell_type": "code",
   "execution_count": null,
   "id": "31030733",
   "metadata": {},
   "outputs": [],
   "source": [
    "LGBM = LGBMClassifier()\n",
    "XGB = XGBClassifier()\n",
    "RF = RandomForestClassifier()\n",
    "\n",
    "# VotingClassifier 정의\n",
    "VC = VotingClassifier(estimators=[('rf',RF),('xgb',XGB),('lgbm',LGBM)],voting = 'soft')"
   ]
  },
  {
   "cell_type": "code",
   "execution_count": null,
   "id": "21f47ccc",
   "metadata": {},
   "outputs": [],
   "source": [
    "VC.fit(X_train,y_train)"
   ]
  },
  {
   "cell_type": "code",
   "execution_count": null,
   "id": "7b88dbb2",
   "metadata": {},
   "outputs": [],
   "source": [
    "pred = VC.predict(X_test)"
   ]
  },
  {
   "cell_type": "code",
   "execution_count": null,
   "id": "138bb24c",
   "metadata": {},
   "outputs": [],
   "source": [
    "pred"
   ]
  },
  {
   "cell_type": "code",
   "execution_count": null,
   "id": "0f797008",
   "metadata": {},
   "outputs": [],
   "source": [
    "submission = pd.read_csv('sample_submission.csv')\n",
    "\n",
    "submission['quality'] = pred\n",
    "\n",
    "submission\n",
    "\n",
    "submission.to_csv('submission.csv',index=False)"
   ]
  },
  {
   "cell_type": "code",
   "execution_count": null,
   "id": "e1c3b14a",
   "metadata": {},
   "outputs": [],
   "source": []
  },
  {
   "cell_type": "markdown",
   "id": "04269f64",
   "metadata": {},
   "source": [
    "## 정규화 후 보팅"
   ]
  },
  {
   "cell_type": "code",
   "execution_count": null,
   "id": "4ae61e0e",
   "metadata": {},
   "outputs": [],
   "source": []
  },
  {
   "cell_type": "code",
   "execution_count": null,
   "id": "61d67c9b",
   "metadata": {},
   "outputs": [],
   "source": [
    "train = pd.read_csv('train.csv')\n",
    "test = pd.read_csv('test.csv')"
   ]
  },
  {
   "cell_type": "code",
   "execution_count": null,
   "id": "a2328585",
   "metadata": {},
   "outputs": [],
   "source": [
    "from sklearn.preprocessing import LabelEncoder\n",
    "\n",
    "enc = LabelEncoder()\n",
    "enc.fit(train['type'])\n",
    "train['type'] = enc.transform(train['type'])\n",
    "test['type'] = enc.transform(test['type'])"
   ]
  },
  {
   "cell_type": "code",
   "execution_count": null,
   "id": "8059e33c",
   "metadata": {},
   "outputs": [],
   "source": [
    "X_train = train.drop(['index','quality'], axis = 1)\n",
    "X_test = test.drop(['index'], axis = 1)\n",
    "y_train = train['quality']"
   ]
  },
  {
   "cell_type": "code",
   "execution_count": null,
   "id": "d9a0520b",
   "metadata": {},
   "outputs": [],
   "source": [
    "from sklearn.preprocessing import StandardScaler\n",
    "\n",
    "scaler = StandardScaler()\n",
    "\n",
    "scaler.fit(X_train[['fixed acidity','volatile acidity','citric acid', 'residual sugar','chlorides','free sulfur dioxide','total sulfur dioxide','density','pH','sulphates','alcohol']])\n",
    "\n",
    "X_train[['fixed acidity','volatile acidity','citric acid', 'residual sugar','chlorides','free sulfur dioxide','total sulfur dioxide','density','pH','sulphates','alcohol']] = scaler.transform(X_train[['fixed acidity','volatile acidity','citric acid', 'residual sugar','chlorides','free sulfur dioxide','total sulfur dioxide','density','pH','sulphates','alcohol']])\n",
    "\n",
    "\n",
    "X_train"
   ]
  },
  {
   "cell_type": "code",
   "execution_count": null,
   "id": "fcd35058",
   "metadata": {},
   "outputs": [],
   "source": [
    "from sklearn.preprocessing import StandardScaler\n",
    "\n",
    "scaler = StandardScaler()\n",
    "\n",
    "scaler.fit(X_test[['fixed acidity','volatile acidity','citric acid', 'residual sugar','chlorides','free sulfur dioxide','total sulfur dioxide','density','pH','sulphates','alcohol']])  # 데이터프레임이 되어버림\n",
    "\n",
    "X_test[['fixed acidity','volatile acidity','citric acid', 'residual sugar','chlorides','free sulfur dioxide','total sulfur dioxide','density','pH','sulphates','alcohol']] = scaler.transform(X_test[['fixed acidity','volatile acidity','citric acid', 'residual sugar','chlorides','free sulfur dioxide','total sulfur dioxide','density','pH','sulphates','alcohol']])\n",
    "\n",
    "\n",
    "X_test"
   ]
  },
  {
   "cell_type": "code",
   "execution_count": null,
   "id": "d09e3af4",
   "metadata": {},
   "outputs": [],
   "source": [
    "from lightgbm import LGBMClassifier\n",
    "from xgboost import XGBClassifier\n",
    "from sklearn.ensemble import VotingClassifier\n",
    "from sklearn.ensemble import RandomForestClassifier"
   ]
  },
  {
   "cell_type": "code",
   "execution_count": null,
   "id": "50bcb526",
   "metadata": {},
   "outputs": [],
   "source": [
    "LGBM = LGBMClassifier()\n",
    "XGB = XGBClassifier()\n",
    "RF = RandomForestClassifier()\n",
    "\n",
    "# VotingClassifier 정의\n",
    "VC = VotingClassifier(estimators=[('rf',RF),('xgb',XGB),('lgbm',LGBM)],voting = 'soft')"
   ]
  },
  {
   "cell_type": "code",
   "execution_count": null,
   "id": "12831233",
   "metadata": {},
   "outputs": [],
   "source": [
    "VC.fit(X_train,y_train)"
   ]
  },
  {
   "cell_type": "code",
   "execution_count": null,
   "id": "a6c464ab",
   "metadata": {},
   "outputs": [],
   "source": [
    "pred = VC.predict(X_test)"
   ]
  },
  {
   "cell_type": "code",
   "execution_count": null,
   "id": "6af0b181",
   "metadata": {},
   "outputs": [],
   "source": [
    "pred"
   ]
  },
  {
   "cell_type": "code",
   "execution_count": null,
   "id": "0d1959eb",
   "metadata": {},
   "outputs": [],
   "source": [
    "submission = pd.read_csv('sample_submission.csv')\n",
    "\n",
    "submission['quality'] = pred\n",
    "\n",
    "submission\n",
    "\n",
    "submission.to_csv('submission.csv',index=False)"
   ]
  },
  {
   "cell_type": "code",
   "execution_count": null,
   "id": "afb87d1b",
   "metadata": {},
   "outputs": [],
   "source": []
  },
  {
   "cell_type": "markdown",
   "id": "f00d175d",
   "metadata": {},
   "source": [
    "# GridSearch"
   ]
  },
  {
   "cell_type": "code",
   "execution_count": null,
   "id": "75b24a75",
   "metadata": {},
   "outputs": [],
   "source": [
    "from sklearn.model_selection import GridSearchCV"
   ]
  },
  {
   "cell_type": "code",
   "execution_count": null,
   "id": "bbad63bc",
   "metadata": {},
   "outputs": [],
   "source": [
    "RF = RandomForestClassifier()"
   ]
  },
  {
   "cell_type": "code",
   "execution_count": null,
   "id": "a3e3332a",
   "metadata": {},
   "outputs": [],
   "source": [
    "parameters = {'max_depth':[10], 'min_samples_split':[4]} # 결과를 알고 있음."
   ]
  },
  {
   "cell_type": "code",
   "execution_count": null,
   "id": "0b80de3b",
   "metadata": {},
   "outputs": [],
   "source": [
    "grid_RF = GridSearchCV(RF, param_grid=parameters, cv=3, refit=True, return_train_score=True)\n",
    "grid_RF.fit(X_train, y_train)"
   ]
  },
  {
   "cell_type": "code",
   "execution_count": null,
   "id": "daa96ff5",
   "metadata": {},
   "outputs": [],
   "source": [
    "print('GridSearchCV 최적 파라미터:', grid_RF.best_params_)"
   ]
  },
  {
   "cell_type": "code",
   "execution_count": null,
   "id": "a8cdec61",
   "metadata": {},
   "outputs": [],
   "source": [
    "estimator = grid_RF.best_estimator_\n",
    "estimator"
   ]
  },
  {
   "cell_type": "code",
   "execution_count": null,
   "id": "cd28d44c",
   "metadata": {},
   "outputs": [],
   "source": [
    "pred = estimator.predict(X_test)\n",
    "pred"
   ]
  },
  {
   "cell_type": "code",
   "execution_count": null,
   "id": "c7bbf9c2",
   "metadata": {},
   "outputs": [],
   "source": [
    "submission = pd.read_csv('sample_submission.csv')\n",
    "\n",
    "submission['quality'] = pred\n",
    "\n",
    "submission\n",
    "\n",
    "submission.to_csv('submission.csv',index=False)"
   ]
  },
  {
   "cell_type": "code",
   "execution_count": null,
   "id": "9a5afbf9",
   "metadata": {},
   "outputs": [],
   "source": []
  },
  {
   "cell_type": "markdown",
   "id": "75c104f0",
   "metadata": {},
   "source": [
    "# 보팅 + 최적의 파라미터"
   ]
  },
  {
   "cell_type": "code",
   "execution_count": null,
   "id": "defca18d",
   "metadata": {},
   "outputs": [],
   "source": []
  },
  {
   "cell_type": "code",
   "execution_count": null,
   "id": "620d7c88",
   "metadata": {},
   "outputs": [],
   "source": [
    "train = pd.read_csv('train.csv')\n",
    "test = pd.read_csv('test.csv')"
   ]
  },
  {
   "cell_type": "code",
   "execution_count": null,
   "id": "eff5ad45",
   "metadata": {},
   "outputs": [],
   "source": [
    "from sklearn.preprocessing import LabelEncoder\n",
    "\n",
    "enc = LabelEncoder()\n",
    "enc.fit(train['type'])\n",
    "train['type'] = enc.transform(train['type'])\n",
    "test['type'] = enc.transform(test['type'])"
   ]
  },
  {
   "cell_type": "code",
   "execution_count": null,
   "id": "5434a754",
   "metadata": {},
   "outputs": [],
   "source": [
    "X_train = train.drop(['index','quality'], axis = 1)\n",
    "X_test = test.drop(['index'], axis = 1)\n",
    "y_train = train['quality']"
   ]
  },
  {
   "cell_type": "code",
   "execution_count": null,
   "id": "8cb626e6",
   "metadata": {},
   "outputs": [],
   "source": [
    "from lightgbm import LGBMClassifier\n",
    "from xgboost import XGBClassifier\n",
    "from sklearn.ensemble import VotingClassifier\n",
    "from sklearn.ensemble import RandomForestClassifier"
   ]
  },
  {
   "cell_type": "code",
   "execution_count": null,
   "id": "6e781086",
   "metadata": {},
   "outputs": [],
   "source": [
    "LGBM = LGBMClassifier()\n",
    "XGB = XGBClassifier()\n",
    "RF = RandomForestClassifier(max_depth=10, min_samples_split=4)\n",
    "\n",
    "# VotingClassifier 정의\n",
    "VC = VotingClassifier(estimators=[('rf',RF),('xgb',XGB),('lgbm',LGBM)],voting = 'soft')"
   ]
  },
  {
   "cell_type": "code",
   "execution_count": null,
   "id": "921e050e",
   "metadata": {},
   "outputs": [],
   "source": [
    "VC.fit(X_train,y_train)"
   ]
  },
  {
   "cell_type": "code",
   "execution_count": null,
   "id": "a669d804",
   "metadata": {},
   "outputs": [],
   "source": [
    "pred = VC.predict(X_test)"
   ]
  },
  {
   "cell_type": "code",
   "execution_count": null,
   "id": "d8e660fe",
   "metadata": {
    "scrolled": true
   },
   "outputs": [],
   "source": [
    "pred"
   ]
  },
  {
   "cell_type": "code",
   "execution_count": null,
   "id": "a8f77293",
   "metadata": {},
   "outputs": [],
   "source": [
    "submission = pd.read_csv('sample_submission.csv')\n",
    "\n",
    "submission['quality'] = pred\n",
    "\n",
    "submission\n",
    "\n",
    "submission.to_csv('submission.csv',index=False)"
   ]
  },
  {
   "cell_type": "code",
   "execution_count": null,
   "id": "d2f718c9",
   "metadata": {},
   "outputs": [],
   "source": []
  },
  {
   "cell_type": "markdown",
   "id": "cf9239bd",
   "metadata": {},
   "source": [
    "# 보팅(모델 추가)"
   ]
  },
  {
   "cell_type": "code",
   "execution_count": null,
   "id": "0f5126e6",
   "metadata": {},
   "outputs": [],
   "source": []
  },
  {
   "cell_type": "code",
   "execution_count": null,
   "id": "d0968d55",
   "metadata": {},
   "outputs": [],
   "source": [
    "train = pd.read_csv('train.csv')\n",
    "test = pd.read_csv('test.csv')"
   ]
  },
  {
   "cell_type": "code",
   "execution_count": null,
   "id": "c99b2165",
   "metadata": {},
   "outputs": [],
   "source": [
    "from sklearn.preprocessing import LabelEncoder\n",
    "\n",
    "enc = LabelEncoder()\n",
    "enc.fit(train['type'])\n",
    "train['type'] = enc.transform(train['type'])\n",
    "test['type'] = enc.transform(test['type'])"
   ]
  },
  {
   "cell_type": "code",
   "execution_count": null,
   "id": "a5101d94",
   "metadata": {},
   "outputs": [],
   "source": [
    "X_train = train.drop(['index','quality'], axis = 1)\n",
    "X_test = test.drop(['index'], axis = 1)\n",
    "y_train = train['quality']"
   ]
  },
  {
   "cell_type": "code",
   "execution_count": null,
   "id": "1463021e",
   "metadata": {},
   "outputs": [],
   "source": [
    "from lightgbm import LGBMClassifier\n",
    "from xgboost import XGBClassifier\n",
    "from sklearn.ensemble import VotingClassifier\n",
    "from sklearn.ensemble import RandomForestClassifier\n",
    "from sklearn.linear_model import LogisticRegression \n",
    "from sklearn.neighbors import KNeighborsClassifier  "
   ]
  },
  {
   "cell_type": "code",
   "execution_count": null,
   "id": "1f092fa2",
   "metadata": {},
   "outputs": [],
   "source": [
    "LGBM = LGBMClassifier()\n",
    "XGB = XGBClassifier()\n",
    "RF = RandomForestClassifier()\n",
    "lr_clf = LogisticRegression()\n",
    "knn_clf = KNeighborsClassifier(n_neighbors=10)\n",
    "\n",
    "# VotingClassifier 정의\n",
    "VC = VotingClassifier(estimators=[('rf',RF),('xgb',XGB),('lgbm',LGBM),('LR', lr_clf),('KNN', knn_clf)],voting = 'soft')"
   ]
  },
  {
   "cell_type": "code",
   "execution_count": null,
   "id": "a91fd89f",
   "metadata": {},
   "outputs": [],
   "source": [
    "VC.fit(X_train,y_train)"
   ]
  },
  {
   "cell_type": "code",
   "execution_count": null,
   "id": "7e7b2f15",
   "metadata": {},
   "outputs": [],
   "source": [
    "pred = VC.predict(X_test)"
   ]
  },
  {
   "cell_type": "code",
   "execution_count": null,
   "id": "a9b59612",
   "metadata": {},
   "outputs": [],
   "source": [
    "pred"
   ]
  },
  {
   "cell_type": "code",
   "execution_count": null,
   "id": "67b5ac4a",
   "metadata": {},
   "outputs": [],
   "source": [
    "submission = pd.read_csv('sample_submission.csv')\n",
    "\n",
    "submission['quality'] = pred\n",
    "\n",
    "submission\n",
    "\n",
    "submission.to_csv('submission.csv',index=False)"
   ]
  },
  {
   "cell_type": "code",
   "execution_count": null,
   "id": "5915fa78",
   "metadata": {},
   "outputs": [],
   "source": []
  },
  {
   "cell_type": "code",
   "execution_count": null,
   "id": "9a7705e5",
   "metadata": {},
   "outputs": [],
   "source": []
  },
  {
   "cell_type": "code",
   "execution_count": null,
   "id": "386ffc74",
   "metadata": {},
   "outputs": [],
   "source": []
  },
  {
   "cell_type": "code",
   "execution_count": null,
   "id": "e0f1b70b",
   "metadata": {},
   "outputs": [],
   "source": []
  },
  {
   "cell_type": "code",
   "execution_count": null,
   "id": "894ac923",
   "metadata": {},
   "outputs": [],
   "source": []
  }
 ],
 "metadata": {
  "kernelspec": {
   "display_name": "Python 3 (ipykernel)",
   "language": "python",
   "name": "python3"
  },
  "language_info": {
   "codemirror_mode": {
    "name": "ipython",
    "version": 3
   },
   "file_extension": ".py",
   "mimetype": "text/x-python",
   "name": "python",
   "nbconvert_exporter": "python",
   "pygments_lexer": "ipython3",
   "version": "3.9.7"
  }
 },
 "nbformat": 4,
 "nbformat_minor": 5
}
