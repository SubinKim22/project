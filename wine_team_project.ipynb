{
 "cells": [
  {
   "cell_type": "markdown",
   "id": "14f58f18",
   "metadata": {},
   "source": [
    "```\n",
    "22/02/03\n",
    "1. 베이스라인 제출(랜덤 포레스트) = 0.639\n",
    "2. 정규화 후 제출(랜덤 포레스트) = 0.62\n",
    "3. 이상치 제거 후 제출(랜덤 포레스트) = 0.5933\n",
    "4. 이상치 제거 + 정규화 후 제출해보기 = 0.535 \n",
    "5. 정규화 + lightgbm = 0.644 \n",
    "6. 정규화 + 보팅(xgb,lightgmb,rf) = 0.662\n",
    "\n",
    "22/02/04\n",
    "1. 보팅(xgb,lightgmb,rf) = 0.699 (best - 24th)\n",
    "2. gridsearch + rf = 0.627\n",
    "3. 하이퍼파라미터 + 보팅 = 0.686\n",
    "4. 보팅(모델 추가) = 0.676\n",
    "\n",
    "22/02/07\n",
    "1. 베이지안 + 파라미터 + 보팅 = 0.597\n",
    "\n",
    "22/02/13\n",
    "1. pycaret(fold =5 , top5) = 0.519\n",
    "```"
   ]
  },
  {
   "cell_type": "markdown",
   "id": "6c1fbc8d",
   "metadata": {},
   "source": [
    "```\n",
    "# 변수 설명\n",
    "\n",
    "index 구분자\n",
    "quality 품질\n",
    "fixed acidity 산도\n",
    "volatile acidity 휘발성산\n",
    "citric acid 시트르산\n",
    "residual sugar 잔당 : 발효 후 와인 속에 남아있는 당분\n",
    "chlorides 염화물\n",
    "free sulfur dioxide 독립 이산화황\n",
    "total sulfur dioxide 총 이산화황\n",
    "density 밀도\n",
    "pH 수소이온농도\n",
    "sulphates 황산염\n",
    "alcohol 도수\n",
    "type 종류\n",
    "```"
   ]
  },
  {
   "cell_type": "code",
   "execution_count": 1,
   "id": "147cc1c8",
   "metadata": {},
   "outputs": [
    {
     "name": "stdout",
     "output_type": "stream",
     "text": [
      "3.4.3\n"
     ]
    }
   ],
   "source": [
    "import pandas as pd\n",
    "\n",
    "import matplotlib as mpl\n",
    "from matplotlib import font_manager, rc\n",
    "import matplotlib.pyplot as plt\n",
    "import numpy as np\n",
    "import pandas as pd\n",
    "print(mpl.__version__)\n",
    "# seaborn 스타일 사용\n",
    "plt.style.use('seaborn-notebook')\n",
    "\n",
    "# matplotlib 그래프 한글폰트 깨질 때 대처(Mac & Window)\n",
    "import platform\n",
    "if platform.system() == 'Windows':\n",
    "# 윈도우인 경우\n",
    "    font_name = font_manager.FontProperties(fname=\"c:/Windows/Fonts/malgun.ttf\").get_name()\n",
    "    rc('font', family=font_name)\n",
    "else:    \n",
    "# Mac 인 경우\n",
    "    rc('font', family='AppleGothic')\n",
    "    \n",
    "# 그래프에서 마이너스 기호가 표시되도록 하는 설정\n",
    "mpl.rcParams['axes.unicode_minus'] = False\n",
    "\n",
    "import seaborn as sns\n",
    "import warnings\n",
    "warnings.filterwarnings('ignore')\n",
    "%matplotlib inline\n"
   ]
  },
  {
   "cell_type": "markdown",
   "id": "44add430",
   "metadata": {},
   "source": [
    "# 베이스라인 코드"
   ]
  },
  {
   "cell_type": "code",
   "execution_count": null,
   "id": "dde3f4d1",
   "metadata": {},
   "outputs": [],
   "source": [
    "train = pd.read_csv('train.csv')\n",
    "test = pd.read_csv('test.csv')"
   ]
  },
  {
   "cell_type": "code",
   "execution_count": null,
   "id": "4a588e5a",
   "metadata": {},
   "outputs": [],
   "source": [
    "train.head()"
   ]
  },
  {
   "cell_type": "code",
   "execution_count": null,
   "id": "014d4daf",
   "metadata": {},
   "outputs": [],
   "source": [
    "plt.figure(figsize=(12,12))\n",
    "sns.heatmap(data = train.corr(), annot=True)"
   ]
  },
  {
   "cell_type": "code",
   "execution_count": null,
   "id": "b911e82f",
   "metadata": {},
   "outputs": [],
   "source": [
    "plt.figure(figsize=(12,12))\n",
    "sns.boxplot(data = train[''])"
   ]
  },
  {
   "cell_type": "code",
   "execution_count": null,
   "id": "e23cb171",
   "metadata": {},
   "outputs": [],
   "source": [
    "plt.figure(figsize=(12,12))\n",
    "for i in range(1,13):\n",
    "    plt.subplot(3,4,i)\n",
    "    sns.distplot(train.iloc[:,i])\n",
    "plt.tight_layout()\n",
    "plt.show()"
   ]
  },
  {
   "cell_type": "code",
   "execution_count": null,
   "id": "10b56679",
   "metadata": {},
   "outputs": [],
   "source": [
    "from sklearn.preprocessing import LabelEncoder\n",
    "\n",
    "enc = LabelEncoder()\n",
    "enc.fit(train['type'])\n",
    "train['type'] = enc.transform(train['type'])\n",
    "test['type'] = enc.transform(test['type'])"
   ]
  },
  {
   "cell_type": "code",
   "execution_count": null,
   "id": "1b27dc65",
   "metadata": {},
   "outputs": [],
   "source": [
    "train.head()"
   ]
  },
  {
   "cell_type": "code",
   "execution_count": null,
   "id": "bbc07439",
   "metadata": {},
   "outputs": [],
   "source": [
    "test.head()"
   ]
  },
  {
   "cell_type": "code",
   "execution_count": null,
   "id": "98e22a33",
   "metadata": {},
   "outputs": [],
   "source": [
    "train.isna().sum()"
   ]
  },
  {
   "cell_type": "code",
   "execution_count": null,
   "id": "3d6fdf87",
   "metadata": {},
   "outputs": [],
   "source": [
    "test.isna().sum()"
   ]
  },
  {
   "cell_type": "code",
   "execution_count": null,
   "id": "2043e736",
   "metadata": {},
   "outputs": [],
   "source": []
  },
  {
   "cell_type": "code",
   "execution_count": null,
   "id": "5f785ed9",
   "metadata": {},
   "outputs": [],
   "source": [
    "X_train = train.drop(['index','quality'], axis = 1)\n",
    "X_test = test.drop(['index'], axis = 1)\n",
    "y_train = train['quality']"
   ]
  },
  {
   "cell_type": "code",
   "execution_count": null,
   "id": "62d32bce",
   "metadata": {},
   "outputs": [],
   "source": [
    "X_train"
   ]
  },
  {
   "cell_type": "code",
   "execution_count": null,
   "id": "ff8b78cd",
   "metadata": {},
   "outputs": [],
   "source": []
  },
  {
   "cell_type": "code",
   "execution_count": null,
   "id": "c6ea2a20",
   "metadata": {},
   "outputs": [],
   "source": []
  },
  {
   "cell_type": "code",
   "execution_count": null,
   "id": "6dea961b",
   "metadata": {},
   "outputs": [],
   "source": [
    "from sklearn.tree import DecisionTreeClassifier"
   ]
  },
  {
   "cell_type": "code",
   "execution_count": null,
   "id": "cdfd6bbb",
   "metadata": {
    "scrolled": true
   },
   "outputs": [],
   "source": [
    "dt_clf = DecisionTreeClassifier(random_state=0)\n",
    "dt_clf.fit(X_train, y_train)"
   ]
  },
  {
   "cell_type": "code",
   "execution_count": null,
   "id": "d9cd6d57",
   "metadata": {},
   "outputs": [],
   "source": [
    "pred = dt_clf.predict(X_test)"
   ]
  },
  {
   "cell_type": "code",
   "execution_count": null,
   "id": "0b0021f1",
   "metadata": {},
   "outputs": [],
   "source": [
    "pred"
   ]
  },
  {
   "cell_type": "code",
   "execution_count": null,
   "id": "98c0edf8",
   "metadata": {
    "scrolled": true
   },
   "outputs": [],
   "source": [
    "dt_clf.feature_importances_"
   ]
  },
  {
   "cell_type": "code",
   "execution_count": null,
   "id": "e1883d64",
   "metadata": {},
   "outputs": [],
   "source": []
  },
  {
   "cell_type": "code",
   "execution_count": null,
   "id": "bb3be10c",
   "metadata": {},
   "outputs": [],
   "source": [
    "from sklearn.ensemble import RandomForestClassifier"
   ]
  },
  {
   "cell_type": "code",
   "execution_count": null,
   "id": "a497b188",
   "metadata": {},
   "outputs": [],
   "source": [
    "rf_clf = RandomForestClassifier(random_state=0, max_depth=10) \n",
    "rf_clf.fit(X_train , y_train)\n",
    "pred = rf_clf.predict(X_test)\n",
    "pred"
   ]
  },
  {
   "cell_type": "code",
   "execution_count": null,
   "id": "2dff3c06",
   "metadata": {},
   "outputs": [],
   "source": [
    "submission = pd.read_csv('sample_submission.csv')"
   ]
  },
  {
   "cell_type": "code",
   "execution_count": null,
   "id": "79035498",
   "metadata": {},
   "outputs": [],
   "source": [
    "submission['quality'] = pred"
   ]
  },
  {
   "cell_type": "code",
   "execution_count": null,
   "id": "dff4a335",
   "metadata": {},
   "outputs": [],
   "source": [
    "submission"
   ]
  },
  {
   "cell_type": "code",
   "execution_count": null,
   "id": "4a8aabf4",
   "metadata": {},
   "outputs": [],
   "source": [
    "submission.to_csv('submission.csv',index=False)"
   ]
  },
  {
   "cell_type": "raw",
   "id": "d2e84bbd",
   "metadata": {},
   "source": [
    "=> 제출 결과 0.639\n"
   ]
  },
  {
   "cell_type": "code",
   "execution_count": null,
   "id": "03dddc7d",
   "metadata": {},
   "outputs": [],
   "source": []
  },
  {
   "cell_type": "markdown",
   "id": "ea0aec08",
   "metadata": {},
   "source": [
    "## 전처리 시작 "
   ]
  },
  {
   "cell_type": "code",
   "execution_count": null,
   "id": "985e1616",
   "metadata": {},
   "outputs": [],
   "source": [
    "train = pd.read_csv('train.csv')\n",
    "test = pd.read_csv('test.csv')"
   ]
  },
  {
   "cell_type": "code",
   "execution_count": null,
   "id": "1ebc1b2b",
   "metadata": {},
   "outputs": [],
   "source": [
    "from sklearn.preprocessing import LabelEncoder\n",
    "\n",
    "enc = LabelEncoder()\n",
    "enc.fit(train['type'])\n",
    "train['type'] = enc.transform(train['type'])\n",
    "test['type'] = enc.transform(test['type'])"
   ]
  },
  {
   "cell_type": "code",
   "execution_count": null,
   "id": "2d4147a1",
   "metadata": {},
   "outputs": [],
   "source": [
    "from sklearn.preprocessing import StandardScaler\n",
    "\n",
    "scaler = StandardScaler()\n",
    "\n",
    "scaler.fit(train[['fixed acidity','volatile acidity','citric acid', 'residual sugar','chlorides','free sulfur dioxide','total sulfur dioxide','density','pH','sulphates','alcohol']])  # 데이터프레임이 되어버림\n",
    "\n",
    "train[['fixed acidity','volatile acidity','citric acid', 'residual sugar','chlorides','free sulfur dioxide','total sulfur dioxide','density','pH','sulphates','alcohol']] = scaler.transform(train[['fixed acidity','volatile acidity','citric acid', 'residual sugar','chlorides','free sulfur dioxide','total sulfur dioxide','density','pH','sulphates','alcohol']])\n",
    "\n",
    "\n",
    "train"
   ]
  },
  {
   "cell_type": "code",
   "execution_count": null,
   "id": "d8bd6797",
   "metadata": {},
   "outputs": [],
   "source": [
    "test"
   ]
  },
  {
   "cell_type": "code",
   "execution_count": null,
   "id": "68ff4738",
   "metadata": {},
   "outputs": [],
   "source": [
    "from sklearn.preprocessing import StandardScaler\n",
    "\n",
    "scaler = StandardScaler()\n",
    "\n",
    "scaler.fit(test[['fixed acidity','volatile acidity','citric acid', 'residual sugar','chlorides','free sulfur dioxide','total sulfur dioxide','density','pH','sulphates','alcohol']])  # 데이터프레임이 되어버림\n",
    "\n",
    "test[['fixed acidity','volatile acidity','citric acid', 'residual sugar','chlorides','free sulfur dioxide','total sulfur dioxide','density','pH','sulphates','alcohol']] = scaler.transform(test[['fixed acidity','volatile acidity','citric acid', 'residual sugar','chlorides','free sulfur dioxide','total sulfur dioxide','density','pH','sulphates','alcohol']])\n",
    "\n",
    "\n",
    "test"
   ]
  },
  {
   "cell_type": "code",
   "execution_count": null,
   "id": "41bde1f2",
   "metadata": {},
   "outputs": [],
   "source": []
  },
  {
   "cell_type": "code",
   "execution_count": null,
   "id": "ef77e895",
   "metadata": {},
   "outputs": [],
   "source": [
    "train.head()"
   ]
  },
  {
   "cell_type": "code",
   "execution_count": null,
   "id": "ba785e89",
   "metadata": {},
   "outputs": [],
   "source": []
  },
  {
   "cell_type": "code",
   "execution_count": null,
   "id": "e760f4a1",
   "metadata": {},
   "outputs": [],
   "source": [
    "from sklearn.tree import DecisionTreeClassifier"
   ]
  },
  {
   "cell_type": "code",
   "execution_count": null,
   "id": "8bb98e3e",
   "metadata": {},
   "outputs": [],
   "source": [
    "X_train = train.drop(['index','quality'], axis = 1)\n",
    "X_test = test.drop(['index'], axis = 1)"
   ]
  },
  {
   "cell_type": "code",
   "execution_count": null,
   "id": "e8eb8213",
   "metadata": {},
   "outputs": [],
   "source": [
    "y_train = train['quality']"
   ]
  },
  {
   "cell_type": "code",
   "execution_count": null,
   "id": "9587c7fc",
   "metadata": {},
   "outputs": [],
   "source": [
    "X_train"
   ]
  },
  {
   "cell_type": "code",
   "execution_count": null,
   "id": "81b1addc",
   "metadata": {},
   "outputs": [],
   "source": [
    "y_train"
   ]
  },
  {
   "cell_type": "code",
   "execution_count": null,
   "id": "6dae19b6",
   "metadata": {},
   "outputs": [],
   "source": [
    "from sklearn.ensemble import RandomForestClassifier\n",
    "\n",
    "rf_clf = RandomForestClassifier(random_state=0, max_depth=10) \n",
    "rf_clf.fit(X_train , y_train)\n",
    "pred = rf_clf.predict(X_test)\n",
    "pred"
   ]
  },
  {
   "cell_type": "code",
   "execution_count": null,
   "id": "50372b0f",
   "metadata": {},
   "outputs": [],
   "source": [
    "submission = pd.read_csv('sample_submission.csv')\n",
    "\n",
    "submission['quality'] = pred\n",
    "\n",
    "submission\n",
    "\n",
    "submission.to_csv('submission.csv',index=False)"
   ]
  },
  {
   "cell_type": "code",
   "execution_count": null,
   "id": "8f271282",
   "metadata": {},
   "outputs": [],
   "source": []
  },
  {
   "cell_type": "markdown",
   "id": "0e0013cb",
   "metadata": {},
   "source": [
    "## X_train 이상치 제거, y_train index 맞춤"
   ]
  },
  {
   "cell_type": "code",
   "execution_count": null,
   "id": "bc499b0b",
   "metadata": {},
   "outputs": [],
   "source": [
    "train = pd.read_csv('train.csv')\n",
    "test = pd.read_csv('test.csv')"
   ]
  },
  {
   "cell_type": "code",
   "execution_count": null,
   "id": "e4ebcc95",
   "metadata": {},
   "outputs": [],
   "source": [
    "from sklearn.preprocessing import LabelEncoder\n",
    "\n",
    "enc = LabelEncoder()\n",
    "enc.fit(train['type'])\n",
    "train['type'] = enc.transform(train['type'])\n",
    "test['type'] = enc.transform(test['type'])"
   ]
  },
  {
   "cell_type": "code",
   "execution_count": null,
   "id": "e55466af",
   "metadata": {},
   "outputs": [],
   "source": [
    "X_train = train.drop(['index','quality'], axis = 1)\n",
    "X_test = test.drop(['index'], axis = 1)\n",
    "y_train = train['quality']"
   ]
  },
  {
   "cell_type": "code",
   "execution_count": null,
   "id": "7a53bb1c",
   "metadata": {},
   "outputs": [],
   "source": [
    "for i in range(len(X_train.columns)-1):\n",
    "    quantile_25 = np.quantile(X_train[X_train.columns[i]] , 0.25)\n",
    "    quantile_75 = np.quantile(X_train[X_train.columns[i]] , 0.75)\n",
    "    IQR = quantile_75 - quantile_25\n",
    "    minimum = quantile_25 - 1.5 * IQR\n",
    "    maximum = quantile_75 + 1.5 * IQR\n",
    "    X_train_outer = X_train[(X_train[X_train.columns[i]] < minimum) | (X_train[X_train.columns[i]] > maximum)]\n",
    "    X_train = X_train.drop(X_train_outer.index, axis = 0)"
   ]
  },
  {
   "cell_type": "code",
   "execution_count": null,
   "id": "2c6092c6",
   "metadata": {},
   "outputs": [],
   "source": [
    "X_train"
   ]
  },
  {
   "cell_type": "code",
   "execution_count": null,
   "id": "f28e4d7b",
   "metadata": {},
   "outputs": [],
   "source": [
    "y_train = y_train[X_train.index]"
   ]
  },
  {
   "cell_type": "code",
   "execution_count": null,
   "id": "ca30b3b1",
   "metadata": {},
   "outputs": [],
   "source": [
    "y_train"
   ]
  },
  {
   "cell_type": "code",
   "execution_count": null,
   "id": "2b7eadeb",
   "metadata": {},
   "outputs": [],
   "source": [
    "X_test"
   ]
  },
  {
   "cell_type": "code",
   "execution_count": null,
   "id": "18750c6c",
   "metadata": {
    "scrolled": true
   },
   "outputs": [],
   "source": [
    "from sklearn.ensemble import RandomForestClassifier\n",
    "\n",
    "rf_clf = RandomForestClassifier(random_state=0, max_depth=10) \n",
    "rf_clf.fit(X_train , y_train)\n",
    "pred = rf_clf.predict(X_test)\n",
    "pred"
   ]
  },
  {
   "cell_type": "code",
   "execution_count": null,
   "id": "766f9735",
   "metadata": {},
   "outputs": [],
   "source": [
    "submission = pd.read_csv('sample_submission.csv')\n",
    "\n",
    "submission['quality'] = pred\n",
    "\n",
    "submission\n",
    "\n",
    "submission.to_csv('submission.csv',index=False)"
   ]
  },
  {
   "cell_type": "raw",
   "id": "352465a5",
   "metadata": {},
   "source": [
    "=> 0.593"
   ]
  },
  {
   "cell_type": "code",
   "execution_count": null,
   "id": "44cc0264",
   "metadata": {},
   "outputs": [],
   "source": []
  },
  {
   "cell_type": "markdown",
   "id": "8440ee8f",
   "metadata": {},
   "source": [
    "# X_train 이상치제거 + 정규화"
   ]
  },
  {
   "cell_type": "code",
   "execution_count": null,
   "id": "dad5e2b1",
   "metadata": {},
   "outputs": [],
   "source": []
  },
  {
   "cell_type": "code",
   "execution_count": null,
   "id": "f9f411c1",
   "metadata": {},
   "outputs": [],
   "source": [
    "train = pd.read_csv('train.csv')\n",
    "test = pd.read_csv('test.csv')"
   ]
  },
  {
   "cell_type": "code",
   "execution_count": null,
   "id": "64a38e45",
   "metadata": {},
   "outputs": [],
   "source": [
    "from sklearn.preprocessing import LabelEncoder\n",
    "\n",
    "enc = LabelEncoder()\n",
    "enc.fit(train['type'])\n",
    "train['type'] = enc.transform(train['type'])\n",
    "test['type'] = enc.transform(test['type'])"
   ]
  },
  {
   "cell_type": "code",
   "execution_count": null,
   "id": "13aaddef",
   "metadata": {},
   "outputs": [],
   "source": [
    "X_train = train.drop(['index','quality'], axis = 1)\n",
    "X_test = test.drop(['index'], axis = 1)\n",
    "y_train = train['quality']"
   ]
  },
  {
   "cell_type": "code",
   "execution_count": null,
   "id": "46d97991",
   "metadata": {},
   "outputs": [],
   "source": [
    "for i in range(len(X_train.columns)-1):\n",
    "    quantile_25 = np.quantile(X_train[X_train.columns[i]] , 0.25)\n",
    "    quantile_75 = np.quantile(X_train[X_train.columns[i]] , 0.75)\n",
    "    IQR = quantile_75 - quantile_25\n",
    "    minimum = quantile_25 - 1.5 * IQR\n",
    "    maximum = quantile_75 + 1.5 * IQR\n",
    "    X_train_outer = X_train[(X_train[X_train.columns[i]] < minimum) | (X_train[X_train.columns[i]] > maximum)]\n",
    "    X_train = X_train.drop(X_train_outer.index, axis = 0)"
   ]
  },
  {
   "cell_type": "code",
   "execution_count": null,
   "id": "bd069ca9",
   "metadata": {},
   "outputs": [],
   "source": [
    "X_train"
   ]
  },
  {
   "cell_type": "code",
   "execution_count": null,
   "id": "eef02a79",
   "metadata": {},
   "outputs": [],
   "source": [
    "from sklearn.preprocessing import StandardScaler\n",
    "\n",
    "scaler = StandardScaler()\n",
    "\n",
    "scaler.fit(X_train[['fixed acidity','volatile acidity','citric acid', 'residual sugar','chlorides','free sulfur dioxide','total sulfur dioxide','density','pH','sulphates','alcohol']])\n",
    "\n",
    "X_train[['fixed acidity','volatile acidity','citric acid', 'residual sugar','chlorides','free sulfur dioxide','total sulfur dioxide','density','pH','sulphates','alcohol']] = scaler.transform(X_train[['fixed acidity','volatile acidity','citric acid', 'residual sugar','chlorides','free sulfur dioxide','total sulfur dioxide','density','pH','sulphates','alcohol']])\n",
    "\n",
    "\n",
    "X_train"
   ]
  },
  {
   "cell_type": "code",
   "execution_count": null,
   "id": "def3ba53",
   "metadata": {},
   "outputs": [],
   "source": [
    "y_train = y_train[X_train.index]"
   ]
  },
  {
   "cell_type": "code",
   "execution_count": null,
   "id": "0a2f5eb4",
   "metadata": {},
   "outputs": [],
   "source": [
    "y_train"
   ]
  },
  {
   "cell_type": "code",
   "execution_count": null,
   "id": "e1f46a25",
   "metadata": {},
   "outputs": [],
   "source": [
    "X_test"
   ]
  },
  {
   "cell_type": "code",
   "execution_count": null,
   "id": "07382a88",
   "metadata": {},
   "outputs": [],
   "source": [
    "from sklearn.preprocessing import StandardScaler\n",
    "\n",
    "scaler = StandardScaler()\n",
    "\n",
    "scaler.fit(X_test[['fixed acidity','volatile acidity','citric acid', 'residual sugar','chlorides','free sulfur dioxide','total sulfur dioxide','density','pH','sulphates','alcohol']])  # 데이터프레임이 되어버림\n",
    "\n",
    "X_test[['fixed acidity','volatile acidity','citric acid', 'residual sugar','chlorides','free sulfur dioxide','total sulfur dioxide','density','pH','sulphates','alcohol']] = scaler.transform(X_test[['fixed acidity','volatile acidity','citric acid', 'residual sugar','chlorides','free sulfur dioxide','total sulfur dioxide','density','pH','sulphates','alcohol']])\n",
    "\n",
    "\n",
    "X_test"
   ]
  },
  {
   "cell_type": "code",
   "execution_count": null,
   "id": "f1ec263d",
   "metadata": {
    "scrolled": true
   },
   "outputs": [],
   "source": [
    "from sklearn.ensemble import RandomForestClassifier\n",
    "\n",
    "rf_clf = RandomForestClassifier(random_state=0, max_depth=5) \n",
    "rf_clf.fit(X_train , y_train)\n",
    "pred = rf_clf.predict(X_test)\n",
    "pred"
   ]
  },
  {
   "cell_type": "code",
   "execution_count": null,
   "id": "af9aa348",
   "metadata": {},
   "outputs": [],
   "source": [
    "submission = pd.read_csv('sample_submission.csv')\n",
    "\n",
    "submission['quality'] = pred\n",
    "\n",
    "submission\n",
    "\n",
    "submission.to_csv('submission.csv',index=False)"
   ]
  },
  {
   "cell_type": "raw",
   "id": "a191b445",
   "metadata": {},
   "source": [
    "=> 0.535"
   ]
  },
  {
   "cell_type": "code",
   "execution_count": null,
   "id": "4b67397d",
   "metadata": {},
   "outputs": [],
   "source": []
  },
  {
   "cell_type": "markdown",
   "id": "b60d3dd3",
   "metadata": {},
   "source": [
    "# import lightgbm as lgbm"
   ]
  },
  {
   "cell_type": "code",
   "execution_count": null,
   "id": "7a11f1da",
   "metadata": {},
   "outputs": [],
   "source": [
    "import lightgbm as lgbm"
   ]
  },
  {
   "cell_type": "code",
   "execution_count": null,
   "id": "abcc754b",
   "metadata": {},
   "outputs": [],
   "source": []
  },
  {
   "cell_type": "code",
   "execution_count": null,
   "id": "e6c8dfd8",
   "metadata": {},
   "outputs": [],
   "source": [
    "train = pd.read_csv('train.csv')\n",
    "test = pd.read_csv('test.csv')"
   ]
  },
  {
   "cell_type": "code",
   "execution_count": null,
   "id": "4830d975",
   "metadata": {},
   "outputs": [],
   "source": [
    "from sklearn.preprocessing import LabelEncoder\n",
    "\n",
    "enc = LabelEncoder()\n",
    "enc.fit(train['type'])\n",
    "train['type'] = enc.transform(train['type'])\n",
    "test['type'] = enc.transform(test['type'])"
   ]
  },
  {
   "cell_type": "code",
   "execution_count": null,
   "id": "0facf404",
   "metadata": {},
   "outputs": [],
   "source": [
    "X_train = train.drop(['index','quality'], axis = 1)\n",
    "X_test = test.drop(['index'], axis = 1)\n",
    "y_train = train['quality']"
   ]
  },
  {
   "cell_type": "code",
   "execution_count": null,
   "id": "8ded9c88",
   "metadata": {},
   "outputs": [],
   "source": [
    "from sklearn.preprocessing import StandardScaler\n",
    "\n",
    "scaler = StandardScaler()\n",
    "\n",
    "scaler.fit(X_train[['fixed acidity','volatile acidity','citric acid', 'residual sugar','chlorides','free sulfur dioxide','total sulfur dioxide','density','pH','sulphates','alcohol']])\n",
    "\n",
    "X_train[['fixed acidity','volatile acidity','citric acid', 'residual sugar','chlorides','free sulfur dioxide','total sulfur dioxide','density','pH','sulphates','alcohol']] = scaler.transform(X_train[['fixed acidity','volatile acidity','citric acid', 'residual sugar','chlorides','free sulfur dioxide','total sulfur dioxide','density','pH','sulphates','alcohol']])\n",
    "\n",
    "\n",
    "X_train"
   ]
  },
  {
   "cell_type": "code",
   "execution_count": null,
   "id": "88da9e9b",
   "metadata": {},
   "outputs": [],
   "source": [
    "from sklearn.preprocessing import StandardScaler\n",
    "\n",
    "scaler = StandardScaler()\n",
    "\n",
    "scaler.fit(X_test[['fixed acidity','volatile acidity','citric acid', 'residual sugar','chlorides','free sulfur dioxide','total sulfur dioxide','density','pH','sulphates','alcohol']])  # 데이터프레임이 되어버림\n",
    "\n",
    "X_test[['fixed acidity','volatile acidity','citric acid', 'residual sugar','chlorides','free sulfur dioxide','total sulfur dioxide','density','pH','sulphates','alcohol']] = scaler.transform(X_test[['fixed acidity','volatile acidity','citric acid', 'residual sugar','chlorides','free sulfur dioxide','total sulfur dioxide','density','pH','sulphates','alcohol']])\n",
    "\n",
    "\n",
    "X_test"
   ]
  },
  {
   "cell_type": "code",
   "execution_count": null,
   "id": "14ab7830",
   "metadata": {},
   "outputs": [],
   "source": [
    "model = lgbm.LGBMClassifier()\n",
    "model.fit(X_train,y_train)"
   ]
  },
  {
   "cell_type": "code",
   "execution_count": null,
   "id": "89b46df5",
   "metadata": {},
   "outputs": [],
   "source": [
    "pred = model.predict(X_test)\n",
    "pred"
   ]
  },
  {
   "cell_type": "code",
   "execution_count": null,
   "id": "36f6fe25",
   "metadata": {},
   "outputs": [],
   "source": [
    "submission = pd.read_csv('sample_submission.csv')\n",
    "\n",
    "submission['quality'] = pred\n",
    "\n",
    "submission\n",
    "\n",
    "submission.to_csv('submission.csv',index=False)"
   ]
  },
  {
   "cell_type": "code",
   "execution_count": null,
   "id": "7dd1cd2c",
   "metadata": {},
   "outputs": [],
   "source": []
  },
  {
   "cell_type": "markdown",
   "id": "a4e9d7b0",
   "metadata": {},
   "source": [
    "# 보팅"
   ]
  },
  {
   "cell_type": "code",
   "execution_count": null,
   "id": "8ad71304",
   "metadata": {},
   "outputs": [],
   "source": []
  },
  {
   "cell_type": "code",
   "execution_count": null,
   "id": "1db8152d",
   "metadata": {},
   "outputs": [],
   "source": [
    "train = pd.read_csv('train.csv')\n",
    "test = pd.read_csv('test.csv')"
   ]
  },
  {
   "cell_type": "code",
   "execution_count": null,
   "id": "cf7f082e",
   "metadata": {},
   "outputs": [],
   "source": [
    "from sklearn.preprocessing import LabelEncoder\n",
    "\n",
    "enc = LabelEncoder()\n",
    "enc.fit(train['type'])\n",
    "train['type'] = enc.transform(train['type'])\n",
    "test['type'] = enc.transform(test['type'])"
   ]
  },
  {
   "cell_type": "code",
   "execution_count": null,
   "id": "d136baad",
   "metadata": {},
   "outputs": [],
   "source": [
    "X_train = train.drop(['index','quality'], axis = 1)\n",
    "X_test = test.drop(['index'], axis = 1)\n",
    "y_train = train['quality']"
   ]
  },
  {
   "cell_type": "code",
   "execution_count": null,
   "id": "554ff7b2",
   "metadata": {},
   "outputs": [],
   "source": [
    "from lightgbm import LGBMClassifier\n",
    "from xgboost import XGBClassifier\n",
    "from sklearn.ensemble import VotingClassifier\n",
    "from sklearn.ensemble import RandomForestClassifier"
   ]
  },
  {
   "cell_type": "code",
   "execution_count": null,
   "id": "31030733",
   "metadata": {},
   "outputs": [],
   "source": [
    "LGBM = LGBMClassifier()\n",
    "XGB = XGBClassifier()\n",
    "RF = RandomForestClassifier()\n",
    "\n",
    "# VotingClassifier 정의\n",
    "VC = VotingClassifier(estimators=[('rf',RF),('xgb',XGB),('lgbm',LGBM)],voting = 'soft')"
   ]
  },
  {
   "cell_type": "code",
   "execution_count": null,
   "id": "21f47ccc",
   "metadata": {},
   "outputs": [],
   "source": [
    "VC.fit(X_train,y_train)"
   ]
  },
  {
   "cell_type": "code",
   "execution_count": null,
   "id": "7b88dbb2",
   "metadata": {},
   "outputs": [],
   "source": [
    "pred = VC.predict(X_test)"
   ]
  },
  {
   "cell_type": "code",
   "execution_count": null,
   "id": "138bb24c",
   "metadata": {},
   "outputs": [],
   "source": [
    "pred"
   ]
  },
  {
   "cell_type": "code",
   "execution_count": null,
   "id": "0f797008",
   "metadata": {},
   "outputs": [],
   "source": [
    "submission = pd.read_csv('sample_submission.csv')\n",
    "\n",
    "submission['quality'] = pred\n",
    "\n",
    "submission\n",
    "\n",
    "submission.to_csv('submission.csv',index=False)"
   ]
  },
  {
   "cell_type": "code",
   "execution_count": null,
   "id": "e1c3b14a",
   "metadata": {},
   "outputs": [],
   "source": []
  },
  {
   "cell_type": "markdown",
   "id": "04269f64",
   "metadata": {},
   "source": [
    "## 정규화 후 보팅"
   ]
  },
  {
   "cell_type": "code",
   "execution_count": null,
   "id": "4ae61e0e",
   "metadata": {},
   "outputs": [],
   "source": []
  },
  {
   "cell_type": "code",
   "execution_count": null,
   "id": "61d67c9b",
   "metadata": {},
   "outputs": [],
   "source": [
    "train = pd.read_csv('train.csv')\n",
    "test = pd.read_csv('test.csv')"
   ]
  },
  {
   "cell_type": "code",
   "execution_count": null,
   "id": "a2328585",
   "metadata": {},
   "outputs": [],
   "source": [
    "from sklearn.preprocessing import LabelEncoder\n",
    "\n",
    "enc = LabelEncoder()\n",
    "enc.fit(train['type'])\n",
    "train['type'] = enc.transform(train['type'])\n",
    "test['type'] = enc.transform(test['type'])"
   ]
  },
  {
   "cell_type": "code",
   "execution_count": null,
   "id": "8059e33c",
   "metadata": {},
   "outputs": [],
   "source": [
    "X_train = train.drop(['index','quality'], axis = 1)\n",
    "X_test = test.drop(['index'], axis = 1)\n",
    "y_train = train['quality']"
   ]
  },
  {
   "cell_type": "code",
   "execution_count": null,
   "id": "d9a0520b",
   "metadata": {},
   "outputs": [],
   "source": [
    "from sklearn.preprocessing import StandardScaler\n",
    "\n",
    "scaler = StandardScaler()\n",
    "\n",
    "scaler.fit(X_train[['fixed acidity','volatile acidity','citric acid', 'residual sugar','chlorides','free sulfur dioxide','total sulfur dioxide','density','pH','sulphates','alcohol']])\n",
    "\n",
    "X_train[['fixed acidity','volatile acidity','citric acid', 'residual sugar','chlorides','free sulfur dioxide','total sulfur dioxide','density','pH','sulphates','alcohol']] = scaler.transform(X_train[['fixed acidity','volatile acidity','citric acid', 'residual sugar','chlorides','free sulfur dioxide','total sulfur dioxide','density','pH','sulphates','alcohol']])\n",
    "\n",
    "\n",
    "X_train"
   ]
  },
  {
   "cell_type": "code",
   "execution_count": null,
   "id": "fcd35058",
   "metadata": {},
   "outputs": [],
   "source": [
    "from sklearn.preprocessing import StandardScaler\n",
    "\n",
    "scaler = StandardScaler()\n",
    "\n",
    "scaler.fit(X_test[['fixed acidity','volatile acidity','citric acid', 'residual sugar','chlorides','free sulfur dioxide','total sulfur dioxide','density','pH','sulphates','alcohol']])  # 데이터프레임이 되어버림\n",
    "\n",
    "X_test[['fixed acidity','volatile acidity','citric acid', 'residual sugar','chlorides','free sulfur dioxide','total sulfur dioxide','density','pH','sulphates','alcohol']] = scaler.transform(X_test[['fixed acidity','volatile acidity','citric acid', 'residual sugar','chlorides','free sulfur dioxide','total sulfur dioxide','density','pH','sulphates','alcohol']])\n",
    "\n",
    "\n",
    "X_test"
   ]
  },
  {
   "cell_type": "code",
   "execution_count": null,
   "id": "d09e3af4",
   "metadata": {},
   "outputs": [],
   "source": [
    "from lightgbm import LGBMClassifier\n",
    "from xgboost import XGBClassifier\n",
    "from sklearn.ensemble import VotingClassifier\n",
    "from sklearn.ensemble import RandomForestClassifier"
   ]
  },
  {
   "cell_type": "code",
   "execution_count": null,
   "id": "50bcb526",
   "metadata": {},
   "outputs": [],
   "source": [
    "LGBM = LGBMClassifier()\n",
    "XGB = XGBClassifier()\n",
    "RF = RandomForestClassifier()\n",
    "\n",
    "# VotingClassifier 정의\n",
    "VC = VotingClassifier(estimators=[('rf',RF),('xgb',XGB),('lgbm',LGBM)],voting = 'soft')"
   ]
  },
  {
   "cell_type": "code",
   "execution_count": null,
   "id": "12831233",
   "metadata": {},
   "outputs": [],
   "source": [
    "VC.fit(X_train,y_train)"
   ]
  },
  {
   "cell_type": "code",
   "execution_count": null,
   "id": "a6c464ab",
   "metadata": {},
   "outputs": [],
   "source": [
    "pred = VC.predict(X_test)"
   ]
  },
  {
   "cell_type": "code",
   "execution_count": null,
   "id": "6af0b181",
   "metadata": {},
   "outputs": [],
   "source": [
    "pred"
   ]
  },
  {
   "cell_type": "code",
   "execution_count": null,
   "id": "0d1959eb",
   "metadata": {},
   "outputs": [],
   "source": [
    "submission = pd.read_csv('sample_submission.csv')\n",
    "\n",
    "submission['quality'] = pred\n",
    "\n",
    "submission\n",
    "\n",
    "submission.to_csv('submission.csv',index=False)"
   ]
  },
  {
   "cell_type": "code",
   "execution_count": null,
   "id": "afb87d1b",
   "metadata": {},
   "outputs": [],
   "source": []
  },
  {
   "cell_type": "markdown",
   "id": "f00d175d",
   "metadata": {},
   "source": [
    "# GridSearch"
   ]
  },
  {
   "cell_type": "code",
   "execution_count": null,
   "id": "75b24a75",
   "metadata": {},
   "outputs": [],
   "source": [
    "from sklearn.model_selection import GridSearchCV"
   ]
  },
  {
   "cell_type": "code",
   "execution_count": null,
   "id": "bbad63bc",
   "metadata": {},
   "outputs": [],
   "source": [
    "RF = RandomForestClassifier()"
   ]
  },
  {
   "cell_type": "code",
   "execution_count": null,
   "id": "a3e3332a",
   "metadata": {},
   "outputs": [],
   "source": [
    "parameters = {'max_depth':[10], 'min_samples_split':[4]} # 결과를 알고 있음."
   ]
  },
  {
   "cell_type": "code",
   "execution_count": null,
   "id": "0b80de3b",
   "metadata": {},
   "outputs": [],
   "source": [
    "grid_RF = GridSearchCV(RF, param_grid=parameters, cv=3, refit=True, return_train_score=True)\n",
    "grid_RF.fit(X_train, y_train)"
   ]
  },
  {
   "cell_type": "code",
   "execution_count": null,
   "id": "daa96ff5",
   "metadata": {},
   "outputs": [],
   "source": [
    "print('GridSearchCV 최적 파라미터:', grid_RF.best_params_)"
   ]
  },
  {
   "cell_type": "code",
   "execution_count": null,
   "id": "a8cdec61",
   "metadata": {},
   "outputs": [],
   "source": [
    "estimator = grid_RF.best_estimator_\n",
    "estimator"
   ]
  },
  {
   "cell_type": "code",
   "execution_count": null,
   "id": "cd28d44c",
   "metadata": {},
   "outputs": [],
   "source": [
    "pred = estimator.predict(X_test)\n",
    "pred"
   ]
  },
  {
   "cell_type": "code",
   "execution_count": null,
   "id": "c7bbf9c2",
   "metadata": {},
   "outputs": [],
   "source": [
    "submission = pd.read_csv('sample_submission.csv')\n",
    "\n",
    "submission['quality'] = pred\n",
    "\n",
    "submission\n",
    "\n",
    "submission.to_csv('submission.csv',index=False)"
   ]
  },
  {
   "cell_type": "code",
   "execution_count": null,
   "id": "9a5afbf9",
   "metadata": {},
   "outputs": [],
   "source": []
  },
  {
   "cell_type": "markdown",
   "id": "75c104f0",
   "metadata": {},
   "source": [
    "# 보팅 + 최적의 파라미터"
   ]
  },
  {
   "cell_type": "code",
   "execution_count": null,
   "id": "defca18d",
   "metadata": {},
   "outputs": [],
   "source": []
  },
  {
   "cell_type": "code",
   "execution_count": null,
   "id": "620d7c88",
   "metadata": {},
   "outputs": [],
   "source": [
    "train = pd.read_csv('train.csv')\n",
    "test = pd.read_csv('test.csv')"
   ]
  },
  {
   "cell_type": "code",
   "execution_count": null,
   "id": "eff5ad45",
   "metadata": {},
   "outputs": [],
   "source": [
    "from sklearn.preprocessing import LabelEncoder\n",
    "\n",
    "enc = LabelEncoder()\n",
    "enc.fit(train['type'])\n",
    "train['type'] = enc.transform(train['type'])\n",
    "test['type'] = enc.transform(test['type'])"
   ]
  },
  {
   "cell_type": "code",
   "execution_count": null,
   "id": "5434a754",
   "metadata": {},
   "outputs": [],
   "source": [
    "X_train = train.drop(['index','quality'], axis = 1)\n",
    "X_test = test.drop(['index'], axis = 1)\n",
    "y_train = train['quality']"
   ]
  },
  {
   "cell_type": "code",
   "execution_count": null,
   "id": "8cb626e6",
   "metadata": {},
   "outputs": [],
   "source": [
    "from lightgbm import LGBMClassifier\n",
    "from xgboost import XGBClassifier\n",
    "from sklearn.ensemble import VotingClassifier\n",
    "from sklearn.ensemble import RandomForestClassifier"
   ]
  },
  {
   "cell_type": "code",
   "execution_count": null,
   "id": "6e781086",
   "metadata": {},
   "outputs": [],
   "source": [
    "LGBM = LGBMClassifier()\n",
    "XGB = XGBClassifier()\n",
    "RF = RandomForestClassifier(max_depth=19, n_estimators=56)\n",
    "\n",
    "# VotingClassifier 정의\n",
    "VC = VotingClassifier(estimators=[('rf',RF),('xgb',XGB),('lgbm',LGBM)],voting = 'soft')"
   ]
  },
  {
   "cell_type": "code",
   "execution_count": null,
   "id": "921e050e",
   "metadata": {},
   "outputs": [],
   "source": [
    "VC.fit(X_train,y_train)"
   ]
  },
  {
   "cell_type": "code",
   "execution_count": null,
   "id": "a669d804",
   "metadata": {},
   "outputs": [],
   "source": [
    "pred = VC.predict(X_test)"
   ]
  },
  {
   "cell_type": "code",
   "execution_count": null,
   "id": "d8e660fe",
   "metadata": {
    "scrolled": true
   },
   "outputs": [],
   "source": [
    "pred"
   ]
  },
  {
   "cell_type": "code",
   "execution_count": null,
   "id": "a8f77293",
   "metadata": {},
   "outputs": [],
   "source": [
    "submission = pd.read_csv('sample_submission.csv')\n",
    "\n",
    "submission['quality'] = pred\n",
    "\n",
    "submission\n",
    "\n",
    "submission.to_csv('submission.csv',index=False)"
   ]
  },
  {
   "cell_type": "code",
   "execution_count": null,
   "id": "d2f718c9",
   "metadata": {},
   "outputs": [],
   "source": []
  },
  {
   "cell_type": "markdown",
   "id": "cf9239bd",
   "metadata": {},
   "source": [
    "# 보팅(모델 추가)"
   ]
  },
  {
   "cell_type": "code",
   "execution_count": null,
   "id": "0f5126e6",
   "metadata": {},
   "outputs": [],
   "source": []
  },
  {
   "cell_type": "code",
   "execution_count": null,
   "id": "d0968d55",
   "metadata": {},
   "outputs": [],
   "source": [
    "train = pd.read_csv('train.csv')\n",
    "test = pd.read_csv('test.csv')"
   ]
  },
  {
   "cell_type": "code",
   "execution_count": null,
   "id": "c99b2165",
   "metadata": {},
   "outputs": [],
   "source": [
    "from sklearn.preprocessing import LabelEncoder\n",
    "\n",
    "enc = LabelEncoder()\n",
    "enc.fit(train['type'])\n",
    "train['type'] = enc.transform(train['type'])\n",
    "test['type'] = enc.transform(test['type'])"
   ]
  },
  {
   "cell_type": "code",
   "execution_count": null,
   "id": "a5101d94",
   "metadata": {},
   "outputs": [],
   "source": [
    "X_train = train.drop(['index','quality'], axis = 1)\n",
    "X_test = test.drop(['index'], axis = 1)\n",
    "y_train = train['quality']"
   ]
  },
  {
   "cell_type": "code",
   "execution_count": 54,
   "id": "1463021e",
   "metadata": {},
   "outputs": [],
   "source": [
    "from lightgbm import LGBMClassifier\n",
    "from xgboost import XGBClassifier\n",
    "from sklearn.ensemble import VotingClassifier\n",
    "from sklearn.ensemble import RandomForestClassifier\n",
    "from sklearn.linear_model import LogisticRegression \n",
    "from sklearn.neighbors import KNeighborsClassifier  "
   ]
  },
  {
   "cell_type": "code",
   "execution_count": null,
   "id": "1f092fa2",
   "metadata": {},
   "outputs": [],
   "source": [
    "LGBM = LGBMClassifier()\n",
    "XGB = XGBClassifier()\n",
    "RF = RandomForestClassifier()\n",
    "lr_clf = LogisticRegression()\n",
    "knn_clf = KNeighborsClassifier(n_neighbors=10)\n",
    "\n",
    "# VotingClassifier 정의\n",
    "VC = VotingClassifier(estimators=[('rf',RF),('xgb',XGB),('lgbm',LGBM),('LR', lr_clf),('KNN', knn_clf)],voting = 'soft')"
   ]
  },
  {
   "cell_type": "code",
   "execution_count": null,
   "id": "a91fd89f",
   "metadata": {},
   "outputs": [],
   "source": [
    "VC.fit(X_train,y_train)"
   ]
  },
  {
   "cell_type": "code",
   "execution_count": null,
   "id": "7e7b2f15",
   "metadata": {},
   "outputs": [],
   "source": [
    "pred = VC.predict(X_test)"
   ]
  },
  {
   "cell_type": "code",
   "execution_count": null,
   "id": "a9b59612",
   "metadata": {},
   "outputs": [],
   "source": [
    "pred"
   ]
  },
  {
   "cell_type": "code",
   "execution_count": null,
   "id": "67b5ac4a",
   "metadata": {},
   "outputs": [],
   "source": [
    "submission = pd.read_csv('sample_submission.csv')\n",
    "\n",
    "submission['quality'] = pred\n",
    "\n",
    "submission\n",
    "\n",
    "submission.to_csv('submission.csv',index=False)"
   ]
  },
  {
   "cell_type": "code",
   "execution_count": null,
   "id": "5915fa78",
   "metadata": {},
   "outputs": [],
   "source": []
  },
  {
   "cell_type": "markdown",
   "id": "a5b4d15d",
   "metadata": {},
   "source": [
    "# 베이지안"
   ]
  },
  {
   "cell_type": "markdown",
   "id": "007a55b7",
   "metadata": {},
   "source": [
    "### 베이지안 - 랜덤포레스트"
   ]
  },
  {
   "cell_type": "code",
   "execution_count": 55,
   "id": "c90364a2",
   "metadata": {},
   "outputs": [],
   "source": [
    "train = pd.read_csv('train.csv')\n",
    "test = pd.read_csv('test.csv')"
   ]
  },
  {
   "cell_type": "code",
   "execution_count": 56,
   "id": "c5602e46",
   "metadata": {},
   "outputs": [],
   "source": [
    "from sklearn.preprocessing import LabelEncoder\n",
    "\n",
    "enc = LabelEncoder()\n",
    "enc.fit(train['type'])\n",
    "train['type'] = enc.transform(train['type'])\n",
    "test['type'] = enc.transform(test['type'])"
   ]
  },
  {
   "cell_type": "code",
   "execution_count": 57,
   "id": "386ffc74",
   "metadata": {},
   "outputs": [],
   "source": [
    "import pandas as pd\n",
    "from sklearn.ensemble import RandomForestClassifier\n",
    "from sklearn.model_selection import KFold, train_test_split\n",
    "from sklearn.metrics import accuracy_score\n",
    "import numpy as np"
   ]
  },
  {
   "cell_type": "code",
   "execution_count": 58,
   "id": "e0f1b70b",
   "metadata": {},
   "outputs": [],
   "source": [
    "from bayes_opt import BayesianOptimization"
   ]
  },
  {
   "cell_type": "code",
   "execution_count": 86,
   "id": "d88a57fc",
   "metadata": {},
   "outputs": [],
   "source": [
    "X = train.drop(columns = ['index', 'quality'])\n",
    "y = train['quality']"
   ]
  },
  {
   "cell_type": "code",
   "execution_count": 87,
   "id": "22bc85a7",
   "metadata": {},
   "outputs": [],
   "source": [
    "X_train, X_valid, y_train, y_valid = train_test_split(X,y,test_size = 0.2, random_state = 777)"
   ]
  },
  {
   "cell_type": "code",
   "execution_count": 88,
   "id": "894ac923",
   "metadata": {},
   "outputs": [],
   "source": [
    "rf_parameter_bounds = {\n",
    "                      'max_depth' : (1,4), # 나무의 깊이\n",
    "                      'n_estimators' : (30,100),\n",
    "                      }"
   ]
  },
  {
   "cell_type": "code",
   "execution_count": 89,
   "id": "309bbb08",
   "metadata": {},
   "outputs": [],
   "source": [
    "def rf_bo(max_depth, n_estimators):\n",
    "  rf_params = {\n",
    "              'max_depth' : int(round(max_depth)),\n",
    "               'n_estimators' : int(round(n_estimators)),      \n",
    "              }\n",
    "  rf = RandomForestClassifier(**rf_params)\n",
    "\n",
    "\n",
    "  rf.fit(X_train,y_train)\n",
    "  score = accuracy_score(y_valid, rf.predict(X_valid))\n",
    "  return score"
   ]
  },
  {
   "cell_type": "code",
   "execution_count": 90,
   "id": "51a1b344",
   "metadata": {},
   "outputs": [],
   "source": [
    "BO_rf = BayesianOptimization(f = rf_bo, pbounds = rf_parameter_bounds,random_state = 0)\n",
    "# pbounds : 하이퍼 파라미터 값의 최소~최대 지정"
   ]
  },
  {
   "cell_type": "code",
   "execution_count": 91,
   "id": "5f13bb98",
   "metadata": {},
   "outputs": [
    {
     "name": "stdout",
     "output_type": "stream",
     "text": [
      "|   iter    |  target   | max_depth | n_esti... |\n",
      "-------------------------------------------------\n",
      "| \u001b[0m 1       \u001b[0m | \u001b[0m 0.5409  \u001b[0m | \u001b[0m 2.646   \u001b[0m | \u001b[0m 80.06   \u001b[0m |\n",
      "| \u001b[95m 2       \u001b[0m | \u001b[95m 0.5436  \u001b[0m | \u001b[95m 2.808   \u001b[0m | \u001b[95m 68.14   \u001b[0m |\n",
      "| \u001b[0m 3       \u001b[0m | \u001b[0m 0.5382  \u001b[0m | \u001b[0m 2.271   \u001b[0m | \u001b[0m 75.21   \u001b[0m |\n",
      "| \u001b[95m 4       \u001b[0m | \u001b[95m 0.5455  \u001b[0m | \u001b[95m 2.313   \u001b[0m | \u001b[95m 92.42   \u001b[0m |\n",
      "| \u001b[95m 5       \u001b[0m | \u001b[95m 0.5636  \u001b[0m | \u001b[95m 3.891   \u001b[0m | \u001b[95m 56.84   \u001b[0m |\n",
      "| \u001b[0m 6       \u001b[0m | \u001b[0m 0.5636  \u001b[0m | \u001b[0m 4.0     \u001b[0m | \u001b[0m 47.41   \u001b[0m |\n",
      "| \u001b[0m 7       \u001b[0m | \u001b[0m 0.4627  \u001b[0m | \u001b[0m 1.0     \u001b[0m | \u001b[0m 30.0    \u001b[0m |\n",
      "| \u001b[0m 8       \u001b[0m | \u001b[0m 0.4627  \u001b[0m | \u001b[0m 1.0     \u001b[0m | \u001b[0m 51.89   \u001b[0m |\n",
      "| \u001b[0m 9       \u001b[0m | \u001b[0m 0.56    \u001b[0m | \u001b[0m 3.956   \u001b[0m | \u001b[0m 47.36   \u001b[0m |\n",
      "| \u001b[0m 10      \u001b[0m | \u001b[0m 0.5591  \u001b[0m | \u001b[0m 3.985   \u001b[0m | \u001b[0m 48.53   \u001b[0m |\n",
      "=================================================\n"
     ]
    }
   ],
   "source": [
    "BO_rf.maximize(init_points = 5, n_iter = 5)\n",
    "# init_points : 몇 번 탐색할지\n",
    "# n_iter : 최적 값을 몇 번 찾아 갈지\n",
    "# maximize : 반복하며 가장 높은 target값을 찾는다"
   ]
  },
  {
   "cell_type": "code",
   "execution_count": 92,
   "id": "b8e33038",
   "metadata": {},
   "outputs": [
    {
     "name": "stdout",
     "output_type": "stream",
     "text": [
      "{'max_depth': 3, 'n_estimators': 56}\n"
     ]
    }
   ],
   "source": [
    "max_params = BO_rf.max['params']\n",
    "\n",
    "max_params['max_depth'] = int(max_params['max_depth'])\n",
    "max_params['n_estimators'] = int(max_params['n_estimators'])\n",
    "print(max_params)"
   ]
  },
  {
   "cell_type": "code",
   "execution_count": null,
   "id": "6d2651f9",
   "metadata": {},
   "outputs": [],
   "source": []
  },
  {
   "cell_type": "markdown",
   "id": "24f0d6a2",
   "metadata": {},
   "source": [
    "### 베이지안 - XGBoost"
   ]
  },
  {
   "cell_type": "code",
   "execution_count": 122,
   "id": "9982a99c",
   "metadata": {},
   "outputs": [],
   "source": [
    "xgb_parameter_bounds = {\n",
    "                      'gamma' : (0,10),\n",
    "                      'max_depth' : (1,4), \n",
    "                      'subsample' : (0.5,1)\n",
    "                      }"
   ]
  },
  {
   "cell_type": "code",
   "execution_count": 123,
   "id": "8e6391d2",
   "metadata": {},
   "outputs": [],
   "source": [
    "def xgb_bo(gamma,max_depth, subsample):\n",
    "\n",
    "  xgb_params = {\n",
    "              'gamma' : int(round(gamma)),\n",
    "              'max_depth' : int(round(max_depth)),\n",
    "               'subsample' : int(round(subsample)),      \n",
    "              }\n",
    "\n",
    "  xgb = XGBClassifier(**xgb_params)\n",
    "    \n",
    "\n",
    "  xgb.fit(X_train,y_train)\n",
    "  score = accuracy_score(y_valid, xgb.predict(X_valid))\n",
    "  return score"
   ]
  },
  {
   "cell_type": "code",
   "execution_count": 124,
   "id": "8c9483d6",
   "metadata": {},
   "outputs": [],
   "source": [
    "BO_xgb = BayesianOptimization(f = xgb_bo, pbounds = xgb_parameter_bounds,random_state = 0)"
   ]
  },
  {
   "cell_type": "code",
   "execution_count": 125,
   "id": "3346665e",
   "metadata": {},
   "outputs": [
    {
     "name": "stdout",
     "output_type": "stream",
     "text": [
      "|   iter    |  target   |   gamma   | max_depth | subsample |\n",
      "-------------------------------------------------------------\n",
      "[14:42:20] WARNING: C:/Users/Administrator/workspace/xgboost-win64_release_1.5.1/src/learner.cc:1115: Starting in XGBoost 1.3.0, the default evaluation metric used with the objective 'multi:softprob' was changed from 'merror' to 'mlogloss'. Explicitly set eval_metric if you'd like to restore the old behavior.\n",
      "| \u001b[0m 1       \u001b[0m | \u001b[0m 0.5745  \u001b[0m | \u001b[0m 5.488   \u001b[0m | \u001b[0m 3.146   \u001b[0m | \u001b[0m 0.8014  \u001b[0m |\n",
      "[14:42:21] WARNING: C:/Users/Administrator/workspace/xgboost-win64_release_1.5.1/src/learner.cc:1115: Starting in XGBoost 1.3.0, the default evaluation metric used with the objective 'multi:softprob' was changed from 'merror' to 'mlogloss'. Explicitly set eval_metric if you'd like to restore the old behavior.\n",
      "| \u001b[0m 2       \u001b[0m | \u001b[0m 0.5709  \u001b[0m | \u001b[0m 5.449   \u001b[0m | \u001b[0m 2.271   \u001b[0m | \u001b[0m 0.8229  \u001b[0m |\n",
      "[14:42:21] WARNING: C:/Users/Administrator/workspace/xgboost-win64_release_1.5.1/src/learner.cc:1115: Starting in XGBoost 1.3.0, the default evaluation metric used with the objective 'multi:softprob' was changed from 'merror' to 'mlogloss'. Explicitly set eval_metric if you'd like to restore the old behavior.\n",
      "| \u001b[95m 3       \u001b[0m | \u001b[95m 0.58    \u001b[0m | \u001b[95m 4.376   \u001b[0m | \u001b[95m 3.675   \u001b[0m | \u001b[95m 0.9818  \u001b[0m |\n",
      "[14:42:22] WARNING: C:/Users/Administrator/workspace/xgboost-win64_release_1.5.1/src/learner.cc:1115: Starting in XGBoost 1.3.0, the default evaluation metric used with the objective 'multi:softprob' was changed from 'merror' to 'mlogloss'. Explicitly set eval_metric if you'd like to restore the old behavior.\n",
      "| \u001b[95m 4       \u001b[0m | \u001b[95m 0.5836  \u001b[0m | \u001b[95m 3.834   \u001b[0m | \u001b[95m 3.375   \u001b[0m | \u001b[95m 0.7644  \u001b[0m |\n",
      "[14:42:22] WARNING: C:/Users/Administrator/workspace/xgboost-win64_release_1.5.1/src/learner.cc:1115: Starting in XGBoost 1.3.0, the default evaluation metric used with the objective 'multi:softprob' was changed from 'merror' to 'mlogloss'. Explicitly set eval_metric if you'd like to restore the old behavior.\n",
      "| \u001b[95m 5       \u001b[0m | \u001b[95m 0.5945  \u001b[0m | \u001b[95m 5.68    \u001b[0m | \u001b[95m 3.777   \u001b[0m | \u001b[95m 0.5355  \u001b[0m |\n",
      "[14:42:23] WARNING: C:/Users/Administrator/workspace/xgboost-win64_release_1.5.1/src/learner.cc:1115: Starting in XGBoost 1.3.0, the default evaluation metric used with the objective 'multi:softprob' was changed from 'merror' to 'mlogloss'. Explicitly set eval_metric if you'd like to restore the old behavior.\n",
      "| \u001b[0m 6       \u001b[0m | \u001b[0m 0.5945  \u001b[0m | \u001b[0m 5.646   \u001b[0m | \u001b[0m 3.808   \u001b[0m | \u001b[0m 0.5304  \u001b[0m |\n",
      "[14:42:24] WARNING: C:/Users/Administrator/workspace/xgboost-win64_release_1.5.1/src/learner.cc:1115: Starting in XGBoost 1.3.0, the default evaluation metric used with the objective 'multi:softprob' was changed from 'merror' to 'mlogloss'. Explicitly set eval_metric if you'd like to restore the old behavior.\n",
      "| \u001b[0m 7       \u001b[0m | \u001b[0m 0.001818\u001b[0m | \u001b[0m 6.378   \u001b[0m | \u001b[0m 4.0     \u001b[0m | \u001b[0m 0.5     \u001b[0m |\n",
      "[14:42:24] WARNING: C:/Users/Administrator/workspace/xgboost-win64_release_1.5.1/src/learner.cc:1115: Starting in XGBoost 1.3.0, the default evaluation metric used with the objective 'multi:softprob' was changed from 'merror' to 'mlogloss'. Explicitly set eval_metric if you'd like to restore the old behavior.\n",
      "| \u001b[0m 8       \u001b[0m | \u001b[0m 0.5745  \u001b[0m | \u001b[0m 5.411   \u001b[0m | \u001b[0m 2.659   \u001b[0m | \u001b[0m 0.8663  \u001b[0m |\n",
      "[14:42:25] WARNING: C:/Users/Administrator/workspace/xgboost-win64_release_1.5.1/src/learner.cc:1115: Starting in XGBoost 1.3.0, the default evaluation metric used with the objective 'multi:softprob' was changed from 'merror' to 'mlogloss'. Explicitly set eval_metric if you'd like to restore the old behavior.\n",
      "| \u001b[0m 9       \u001b[0m | \u001b[0m 0.001818\u001b[0m | \u001b[0m 4.497   \u001b[0m | \u001b[0m 2.706   \u001b[0m | \u001b[0m 0.5     \u001b[0m |\n",
      "[14:42:25] WARNING: C:/Users/Administrator/workspace/xgboost-win64_release_1.5.1/src/learner.cc:1115: Starting in XGBoost 1.3.0, the default evaluation metric used with the objective 'multi:softprob' was changed from 'merror' to 'mlogloss'. Explicitly set eval_metric if you'd like to restore the old behavior.\n",
      "| \u001b[0m 10      \u001b[0m | \u001b[0m 0.5655  \u001b[0m | \u001b[0m 3.72    \u001b[0m | \u001b[0m 1.346   \u001b[0m | \u001b[0m 0.9286  \u001b[0m |\n",
      "=============================================================\n"
     ]
    }
   ],
   "source": [
    "BO_xgb.maximize(init_points = 5, n_iter = 5)"
   ]
  },
  {
   "cell_type": "code",
   "execution_count": 126,
   "id": "1a881e60",
   "metadata": {},
   "outputs": [
    {
     "data": {
      "text/plain": [
       "{'gamma': 5.680445610939323,\n",
       " 'max_depth': 3.776789914877983,\n",
       " 'subsample': 0.5355180290989434}"
      ]
     },
     "execution_count": 126,
     "metadata": {},
     "output_type": "execute_result"
    }
   ],
   "source": [
    "max_params = BO_xgb.max['params']\n",
    "max_params"
   ]
  },
  {
   "cell_type": "code",
   "execution_count": null,
   "id": "4857be0f",
   "metadata": {},
   "outputs": [],
   "source": []
  },
  {
   "cell_type": "markdown",
   "id": "ade0b173",
   "metadata": {},
   "source": [
    "### 베이지안 - LGBM"
   ]
  },
  {
   "cell_type": "code",
   "execution_count": 127,
   "id": "dd04af63",
   "metadata": {},
   "outputs": [],
   "source": [
    "lgbm_parameter_bounds = {\n",
    "                      'n_estimators' : (30,100),\n",
    "                      'max_depth' : (1,4), # 나무의 깊이\n",
    "                      'subsample' : (0.5,1)\n",
    "                      }"
   ]
  },
  {
   "cell_type": "code",
   "execution_count": 128,
   "id": "7793fad9",
   "metadata": {},
   "outputs": [],
   "source": [
    "def lgbm_bo(n_estimators,max_depth, subsample):\n",
    "\n",
    "  lgbm_params = {\n",
    "              'n_estimators' : int(round(n_estimators)),\n",
    "              'max_depth' : int(round(max_depth)),\n",
    "               'subsample' : int(round(subsample)),      \n",
    "              }\n",
    "\n",
    "  lgbm = LGBMClassifier(**lgbm_params)\n",
    "\n",
    "\n",
    "\n",
    "  lgbm.fit(X_train,y_train)\n",
    "  score = accuracy_score(y_valid, lgbm.predict(X_valid))\n",
    "  return score"
   ]
  },
  {
   "cell_type": "code",
   "execution_count": 129,
   "id": "ea4c3954",
   "metadata": {},
   "outputs": [],
   "source": [
    "BO_lgbm = BayesianOptimization(f = lgbm_bo, pbounds = lgbm_parameter_bounds,random_state = 0)"
   ]
  },
  {
   "cell_type": "code",
   "execution_count": 130,
   "id": "ef8e8c4b",
   "metadata": {},
   "outputs": [
    {
     "name": "stdout",
     "output_type": "stream",
     "text": [
      "|   iter    |  target   | max_depth | n_esti... | subsample |\n",
      "-------------------------------------------------------------\n",
      "| \u001b[0m 1       \u001b[0m | \u001b[0m 0.59    \u001b[0m | \u001b[0m 2.646   \u001b[0m | \u001b[0m 80.06   \u001b[0m | \u001b[0m 0.8014  \u001b[0m |\n",
      "| \u001b[95m 2       \u001b[0m | \u001b[95m 0.5927  \u001b[0m | \u001b[95m 2.635   \u001b[0m | \u001b[95m 59.66   \u001b[0m | \u001b[95m 0.8229  \u001b[0m |\n",
      "| \u001b[0m 3       \u001b[0m | \u001b[0m 0.5855  \u001b[0m | \u001b[0m 2.313   \u001b[0m | \u001b[0m 92.42   \u001b[0m | \u001b[0m 0.9818  \u001b[0m |\n",
      "| \u001b[0m 4       \u001b[0m | \u001b[0m 0.5791  \u001b[0m | \u001b[0m 2.15    \u001b[0m | \u001b[0m 85.42   \u001b[0m | \u001b[0m 0.7644  \u001b[0m |\n",
      "| \u001b[0m 5       \u001b[0m | \u001b[0m 0.5891  \u001b[0m | \u001b[0m 2.704   \u001b[0m | \u001b[0m 94.79   \u001b[0m | \u001b[0m 0.5355  \u001b[0m |\n",
      "| \u001b[0m 6       \u001b[0m | \u001b[0m 0.59    \u001b[0m | \u001b[0m 3.008   \u001b[0m | \u001b[0m 79.72   \u001b[0m | \u001b[0m 0.9232  \u001b[0m |\n",
      "| \u001b[0m 7       \u001b[0m | \u001b[0m 0.5818  \u001b[0m | \u001b[0m 2.185   \u001b[0m | \u001b[0m 64.04   \u001b[0m | \u001b[0m 0.5565  \u001b[0m |\n",
      "| \u001b[95m 8       \u001b[0m | \u001b[95m 0.5945  \u001b[0m | \u001b[95m 2.768   \u001b[0m | \u001b[95m 57.29   \u001b[0m | \u001b[95m 0.8886  \u001b[0m |\n"
     ]
    },
    {
     "ename": "LightGBMError",
     "evalue": "Check failed: (bagging_fraction) > (0.0) at D:\\a\\1\\s\\python-package\\compile\\src\\io\\config_auto.cpp, line 356 .\n",
     "output_type": "error",
     "traceback": [
      "\u001b[1;31m---------------------------------------------------------------------------\u001b[0m",
      "\u001b[1;31mKeyError\u001b[0m                                  Traceback (most recent call last)",
      "\u001b[1;32m~\\anaconda3\\lib\\site-packages\\bayes_opt\\target_space.py\u001b[0m in \u001b[0;36mprobe\u001b[1;34m(self, params)\u001b[0m\n\u001b[0;32m    190\u001b[0m         \u001b[1;32mtry\u001b[0m\u001b[1;33m:\u001b[0m\u001b[1;33m\u001b[0m\u001b[1;33m\u001b[0m\u001b[0m\n\u001b[1;32m--> 191\u001b[1;33m             \u001b[0mtarget\u001b[0m \u001b[1;33m=\u001b[0m \u001b[0mself\u001b[0m\u001b[1;33m.\u001b[0m\u001b[0m_cache\u001b[0m\u001b[1;33m[\u001b[0m\u001b[0m_hashable\u001b[0m\u001b[1;33m(\u001b[0m\u001b[0mx\u001b[0m\u001b[1;33m)\u001b[0m\u001b[1;33m]\u001b[0m\u001b[1;33m\u001b[0m\u001b[1;33m\u001b[0m\u001b[0m\n\u001b[0m\u001b[0;32m    192\u001b[0m         \u001b[1;32mexcept\u001b[0m \u001b[0mKeyError\u001b[0m\u001b[1;33m:\u001b[0m\u001b[1;33m\u001b[0m\u001b[1;33m\u001b[0m\u001b[0m\n",
      "\u001b[1;31mKeyError\u001b[0m: (1.0, 53.23733323098343, 0.5)",
      "\nDuring handling of the above exception, another exception occurred:\n",
      "\u001b[1;31mLightGBMError\u001b[0m                             Traceback (most recent call last)",
      "\u001b[1;32m~\\AppData\\Local\\Temp/ipykernel_17256/2005203499.py\u001b[0m in \u001b[0;36m<module>\u001b[1;34m\u001b[0m\n\u001b[1;32m----> 1\u001b[1;33m \u001b[0mBO_lgbm\u001b[0m\u001b[1;33m.\u001b[0m\u001b[0mmaximize\u001b[0m\u001b[1;33m(\u001b[0m\u001b[0minit_points\u001b[0m \u001b[1;33m=\u001b[0m \u001b[1;36m5\u001b[0m\u001b[1;33m,\u001b[0m \u001b[0mn_iter\u001b[0m \u001b[1;33m=\u001b[0m \u001b[1;36m5\u001b[0m\u001b[1;33m)\u001b[0m\u001b[1;33m\u001b[0m\u001b[1;33m\u001b[0m\u001b[0m\n\u001b[0m",
      "\u001b[1;32m~\\anaconda3\\lib\\site-packages\\bayes_opt\\bayesian_optimization.py\u001b[0m in \u001b[0;36mmaximize\u001b[1;34m(self, init_points, n_iter, acq, kappa, kappa_decay, kappa_decay_delay, xi, **gp_params)\u001b[0m\n\u001b[0;32m    183\u001b[0m                 \u001b[0miteration\u001b[0m \u001b[1;33m+=\u001b[0m \u001b[1;36m1\u001b[0m\u001b[1;33m\u001b[0m\u001b[1;33m\u001b[0m\u001b[0m\n\u001b[0;32m    184\u001b[0m \u001b[1;33m\u001b[0m\u001b[0m\n\u001b[1;32m--> 185\u001b[1;33m             \u001b[0mself\u001b[0m\u001b[1;33m.\u001b[0m\u001b[0mprobe\u001b[0m\u001b[1;33m(\u001b[0m\u001b[0mx_probe\u001b[0m\u001b[1;33m,\u001b[0m \u001b[0mlazy\u001b[0m\u001b[1;33m=\u001b[0m\u001b[1;32mFalse\u001b[0m\u001b[1;33m)\u001b[0m\u001b[1;33m\u001b[0m\u001b[1;33m\u001b[0m\u001b[0m\n\u001b[0m\u001b[0;32m    186\u001b[0m \u001b[1;33m\u001b[0m\u001b[0m\n\u001b[0;32m    187\u001b[0m             \u001b[1;32mif\u001b[0m \u001b[0mself\u001b[0m\u001b[1;33m.\u001b[0m\u001b[0m_bounds_transformer\u001b[0m\u001b[1;33m:\u001b[0m\u001b[1;33m\u001b[0m\u001b[1;33m\u001b[0m\u001b[0m\n",
      "\u001b[1;32m~\\anaconda3\\lib\\site-packages\\bayes_opt\\bayesian_optimization.py\u001b[0m in \u001b[0;36mprobe\u001b[1;34m(self, params, lazy)\u001b[0m\n\u001b[0;32m    114\u001b[0m             \u001b[0mself\u001b[0m\u001b[1;33m.\u001b[0m\u001b[0m_queue\u001b[0m\u001b[1;33m.\u001b[0m\u001b[0madd\u001b[0m\u001b[1;33m(\u001b[0m\u001b[0mparams\u001b[0m\u001b[1;33m)\u001b[0m\u001b[1;33m\u001b[0m\u001b[1;33m\u001b[0m\u001b[0m\n\u001b[0;32m    115\u001b[0m         \u001b[1;32melse\u001b[0m\u001b[1;33m:\u001b[0m\u001b[1;33m\u001b[0m\u001b[1;33m\u001b[0m\u001b[0m\n\u001b[1;32m--> 116\u001b[1;33m             \u001b[0mself\u001b[0m\u001b[1;33m.\u001b[0m\u001b[0m_space\u001b[0m\u001b[1;33m.\u001b[0m\u001b[0mprobe\u001b[0m\u001b[1;33m(\u001b[0m\u001b[0mparams\u001b[0m\u001b[1;33m)\u001b[0m\u001b[1;33m\u001b[0m\u001b[1;33m\u001b[0m\u001b[0m\n\u001b[0m\u001b[0;32m    117\u001b[0m             \u001b[0mself\u001b[0m\u001b[1;33m.\u001b[0m\u001b[0mdispatch\u001b[0m\u001b[1;33m(\u001b[0m\u001b[0mEvents\u001b[0m\u001b[1;33m.\u001b[0m\u001b[0mOPTIMIZATION_STEP\u001b[0m\u001b[1;33m)\u001b[0m\u001b[1;33m\u001b[0m\u001b[1;33m\u001b[0m\u001b[0m\n\u001b[0;32m    118\u001b[0m \u001b[1;33m\u001b[0m\u001b[0m\n",
      "\u001b[1;32m~\\anaconda3\\lib\\site-packages\\bayes_opt\\target_space.py\u001b[0m in \u001b[0;36mprobe\u001b[1;34m(self, params)\u001b[0m\n\u001b[0;32m    192\u001b[0m         \u001b[1;32mexcept\u001b[0m \u001b[0mKeyError\u001b[0m\u001b[1;33m:\u001b[0m\u001b[1;33m\u001b[0m\u001b[1;33m\u001b[0m\u001b[0m\n\u001b[0;32m    193\u001b[0m             \u001b[0mparams\u001b[0m \u001b[1;33m=\u001b[0m \u001b[0mdict\u001b[0m\u001b[1;33m(\u001b[0m\u001b[0mzip\u001b[0m\u001b[1;33m(\u001b[0m\u001b[0mself\u001b[0m\u001b[1;33m.\u001b[0m\u001b[0m_keys\u001b[0m\u001b[1;33m,\u001b[0m \u001b[0mx\u001b[0m\u001b[1;33m)\u001b[0m\u001b[1;33m)\u001b[0m\u001b[1;33m\u001b[0m\u001b[1;33m\u001b[0m\u001b[0m\n\u001b[1;32m--> 194\u001b[1;33m             \u001b[0mtarget\u001b[0m \u001b[1;33m=\u001b[0m \u001b[0mself\u001b[0m\u001b[1;33m.\u001b[0m\u001b[0mtarget_func\u001b[0m\u001b[1;33m(\u001b[0m\u001b[1;33m**\u001b[0m\u001b[0mparams\u001b[0m\u001b[1;33m)\u001b[0m\u001b[1;33m\u001b[0m\u001b[1;33m\u001b[0m\u001b[0m\n\u001b[0m\u001b[0;32m    195\u001b[0m             \u001b[0mself\u001b[0m\u001b[1;33m.\u001b[0m\u001b[0mregister\u001b[0m\u001b[1;33m(\u001b[0m\u001b[0mx\u001b[0m\u001b[1;33m,\u001b[0m \u001b[0mtarget\u001b[0m\u001b[1;33m)\u001b[0m\u001b[1;33m\u001b[0m\u001b[1;33m\u001b[0m\u001b[0m\n\u001b[0;32m    196\u001b[0m         \u001b[1;32mreturn\u001b[0m \u001b[0mtarget\u001b[0m\u001b[1;33m\u001b[0m\u001b[1;33m\u001b[0m\u001b[0m\n",
      "\u001b[1;32m~\\AppData\\Local\\Temp/ipykernel_17256/1042735675.py\u001b[0m in \u001b[0;36mlgbm_bo\u001b[1;34m(n_estimators, max_depth, subsample)\u001b[0m\n\u001b[0;32m     11\u001b[0m \u001b[1;33m\u001b[0m\u001b[0m\n\u001b[0;32m     12\u001b[0m \u001b[1;33m\u001b[0m\u001b[0m\n\u001b[1;32m---> 13\u001b[1;33m   \u001b[0mlgbm\u001b[0m\u001b[1;33m.\u001b[0m\u001b[0mfit\u001b[0m\u001b[1;33m(\u001b[0m\u001b[0mX_train\u001b[0m\u001b[1;33m,\u001b[0m\u001b[0my_train\u001b[0m\u001b[1;33m)\u001b[0m\u001b[1;33m\u001b[0m\u001b[1;33m\u001b[0m\u001b[0m\n\u001b[0m\u001b[0;32m     14\u001b[0m   \u001b[0mscore\u001b[0m \u001b[1;33m=\u001b[0m \u001b[0maccuracy_score\u001b[0m\u001b[1;33m(\u001b[0m\u001b[0my_valid\u001b[0m\u001b[1;33m,\u001b[0m \u001b[0mlgbm\u001b[0m\u001b[1;33m.\u001b[0m\u001b[0mpredict\u001b[0m\u001b[1;33m(\u001b[0m\u001b[0mX_valid\u001b[0m\u001b[1;33m)\u001b[0m\u001b[1;33m)\u001b[0m\u001b[1;33m\u001b[0m\u001b[1;33m\u001b[0m\u001b[0m\n\u001b[0;32m     15\u001b[0m   \u001b[1;32mreturn\u001b[0m \u001b[0mscore\u001b[0m\u001b[1;33m\u001b[0m\u001b[1;33m\u001b[0m\u001b[0m\n",
      "\u001b[1;32m~\\anaconda3\\lib\\site-packages\\lightgbm\\sklearn.py\u001b[0m in \u001b[0;36mfit\u001b[1;34m(self, X, y, sample_weight, init_score, eval_set, eval_names, eval_sample_weight, eval_class_weight, eval_init_score, eval_metric, early_stopping_rounds, verbose, feature_name, categorical_feature, callbacks, init_model)\u001b[0m\n\u001b[0;32m    965\u001b[0m                     \u001b[0mvalid_sets\u001b[0m\u001b[1;33m[\u001b[0m\u001b[0mi\u001b[0m\u001b[1;33m]\u001b[0m \u001b[1;33m=\u001b[0m \u001b[1;33m(\u001b[0m\u001b[0mvalid_x\u001b[0m\u001b[1;33m,\u001b[0m \u001b[0mself\u001b[0m\u001b[1;33m.\u001b[0m\u001b[0m_le\u001b[0m\u001b[1;33m.\u001b[0m\u001b[0mtransform\u001b[0m\u001b[1;33m(\u001b[0m\u001b[0mvalid_y\u001b[0m\u001b[1;33m)\u001b[0m\u001b[1;33m)\u001b[0m\u001b[1;33m\u001b[0m\u001b[1;33m\u001b[0m\u001b[0m\n\u001b[0;32m    966\u001b[0m \u001b[1;33m\u001b[0m\u001b[0m\n\u001b[1;32m--> 967\u001b[1;33m         super().fit(X, _y, sample_weight=sample_weight, init_score=init_score, eval_set=valid_sets,\n\u001b[0m\u001b[0;32m    968\u001b[0m                     \u001b[0meval_names\u001b[0m\u001b[1;33m=\u001b[0m\u001b[0meval_names\u001b[0m\u001b[1;33m,\u001b[0m \u001b[0meval_sample_weight\u001b[0m\u001b[1;33m=\u001b[0m\u001b[0meval_sample_weight\u001b[0m\u001b[1;33m,\u001b[0m\u001b[1;33m\u001b[0m\u001b[1;33m\u001b[0m\u001b[0m\n\u001b[0;32m    969\u001b[0m                     \u001b[0meval_class_weight\u001b[0m\u001b[1;33m=\u001b[0m\u001b[0meval_class_weight\u001b[0m\u001b[1;33m,\u001b[0m \u001b[0meval_init_score\u001b[0m\u001b[1;33m=\u001b[0m\u001b[0meval_init_score\u001b[0m\u001b[1;33m,\u001b[0m\u001b[1;33m\u001b[0m\u001b[1;33m\u001b[0m\u001b[0m\n",
      "\u001b[1;32m~\\anaconda3\\lib\\site-packages\\lightgbm\\sklearn.py\u001b[0m in \u001b[0;36mfit\u001b[1;34m(self, X, y, sample_weight, init_score, group, eval_set, eval_names, eval_sample_weight, eval_class_weight, eval_init_score, eval_group, eval_metric, early_stopping_rounds, verbose, feature_name, categorical_feature, callbacks, init_model)\u001b[0m\n\u001b[0;32m    746\u001b[0m         \u001b[0mcallbacks\u001b[0m\u001b[1;33m.\u001b[0m\u001b[0mappend\u001b[0m\u001b[1;33m(\u001b[0m\u001b[0mrecord_evaluation\u001b[0m\u001b[1;33m(\u001b[0m\u001b[0mevals_result\u001b[0m\u001b[1;33m)\u001b[0m\u001b[1;33m)\u001b[0m\u001b[1;33m\u001b[0m\u001b[1;33m\u001b[0m\u001b[0m\n\u001b[0;32m    747\u001b[0m \u001b[1;33m\u001b[0m\u001b[0m\n\u001b[1;32m--> 748\u001b[1;33m         self._Booster = train(\n\u001b[0m\u001b[0;32m    749\u001b[0m             \u001b[0mparams\u001b[0m\u001b[1;33m=\u001b[0m\u001b[0mparams\u001b[0m\u001b[1;33m,\u001b[0m\u001b[1;33m\u001b[0m\u001b[1;33m\u001b[0m\u001b[0m\n\u001b[0;32m    750\u001b[0m             \u001b[0mtrain_set\u001b[0m\u001b[1;33m=\u001b[0m\u001b[0mtrain_set\u001b[0m\u001b[1;33m,\u001b[0m\u001b[1;33m\u001b[0m\u001b[1;33m\u001b[0m\u001b[0m\n",
      "\u001b[1;32m~\\anaconda3\\lib\\site-packages\\lightgbm\\engine.py\u001b[0m in \u001b[0;36mtrain\u001b[1;34m(params, train_set, num_boost_round, valid_sets, valid_names, fobj, feval, init_model, feature_name, categorical_feature, early_stopping_rounds, evals_result, verbose_eval, learning_rates, keep_training_booster, callbacks)\u001b[0m\n\u001b[0;32m    269\u001b[0m     \u001b[1;31m# construct booster\u001b[0m\u001b[1;33m\u001b[0m\u001b[1;33m\u001b[0m\u001b[0m\n\u001b[0;32m    270\u001b[0m     \u001b[1;32mtry\u001b[0m\u001b[1;33m:\u001b[0m\u001b[1;33m\u001b[0m\u001b[1;33m\u001b[0m\u001b[0m\n\u001b[1;32m--> 271\u001b[1;33m         \u001b[0mbooster\u001b[0m \u001b[1;33m=\u001b[0m \u001b[0mBooster\u001b[0m\u001b[1;33m(\u001b[0m\u001b[0mparams\u001b[0m\u001b[1;33m=\u001b[0m\u001b[0mparams\u001b[0m\u001b[1;33m,\u001b[0m \u001b[0mtrain_set\u001b[0m\u001b[1;33m=\u001b[0m\u001b[0mtrain_set\u001b[0m\u001b[1;33m)\u001b[0m\u001b[1;33m\u001b[0m\u001b[1;33m\u001b[0m\u001b[0m\n\u001b[0m\u001b[0;32m    272\u001b[0m         \u001b[1;32mif\u001b[0m \u001b[0mis_valid_contain_train\u001b[0m\u001b[1;33m:\u001b[0m\u001b[1;33m\u001b[0m\u001b[1;33m\u001b[0m\u001b[0m\n\u001b[0;32m    273\u001b[0m             \u001b[0mbooster\u001b[0m\u001b[1;33m.\u001b[0m\u001b[0mset_train_data_name\u001b[0m\u001b[1;33m(\u001b[0m\u001b[0mtrain_data_name\u001b[0m\u001b[1;33m)\u001b[0m\u001b[1;33m\u001b[0m\u001b[1;33m\u001b[0m\u001b[0m\n",
      "\u001b[1;32m~\\anaconda3\\lib\\site-packages\\lightgbm\\basic.py\u001b[0m in \u001b[0;36m__init__\u001b[1;34m(self, params, train_set, model_file, model_str, silent)\u001b[0m\n\u001b[0;32m   2603\u001b[0m                 )\n\u001b[0;32m   2604\u001b[0m             \u001b[1;31m# construct booster object\u001b[0m\u001b[1;33m\u001b[0m\u001b[1;33m\u001b[0m\u001b[0m\n\u001b[1;32m-> 2605\u001b[1;33m             \u001b[0mtrain_set\u001b[0m\u001b[1;33m.\u001b[0m\u001b[0mconstruct\u001b[0m\u001b[1;33m(\u001b[0m\u001b[1;33m)\u001b[0m\u001b[1;33m\u001b[0m\u001b[1;33m\u001b[0m\u001b[0m\n\u001b[0m\u001b[0;32m   2606\u001b[0m             \u001b[1;31m# copy the parameters from train_set\u001b[0m\u001b[1;33m\u001b[0m\u001b[1;33m\u001b[0m\u001b[0m\n\u001b[0;32m   2607\u001b[0m             \u001b[0mparams\u001b[0m\u001b[1;33m.\u001b[0m\u001b[0mupdate\u001b[0m\u001b[1;33m(\u001b[0m\u001b[0mtrain_set\u001b[0m\u001b[1;33m.\u001b[0m\u001b[0mget_params\u001b[0m\u001b[1;33m(\u001b[0m\u001b[1;33m)\u001b[0m\u001b[1;33m)\u001b[0m\u001b[1;33m\u001b[0m\u001b[1;33m\u001b[0m\u001b[0m\n",
      "\u001b[1;32m~\\anaconda3\\lib\\site-packages\\lightgbm\\basic.py\u001b[0m in \u001b[0;36mconstruct\u001b[1;34m(self)\u001b[0m\n\u001b[0;32m   1813\u001b[0m             \u001b[1;32melse\u001b[0m\u001b[1;33m:\u001b[0m\u001b[1;33m\u001b[0m\u001b[1;33m\u001b[0m\u001b[0m\n\u001b[0;32m   1814\u001b[0m                 \u001b[1;31m# create train\u001b[0m\u001b[1;33m\u001b[0m\u001b[1;33m\u001b[0m\u001b[0m\n\u001b[1;32m-> 1815\u001b[1;33m                 self._lazy_init(self.data, label=self.label,\n\u001b[0m\u001b[0;32m   1816\u001b[0m                                 \u001b[0mweight\u001b[0m\u001b[1;33m=\u001b[0m\u001b[0mself\u001b[0m\u001b[1;33m.\u001b[0m\u001b[0mweight\u001b[0m\u001b[1;33m,\u001b[0m \u001b[0mgroup\u001b[0m\u001b[1;33m=\u001b[0m\u001b[0mself\u001b[0m\u001b[1;33m.\u001b[0m\u001b[0mgroup\u001b[0m\u001b[1;33m,\u001b[0m\u001b[1;33m\u001b[0m\u001b[1;33m\u001b[0m\u001b[0m\n\u001b[0;32m   1817\u001b[0m                                 \u001b[0minit_score\u001b[0m\u001b[1;33m=\u001b[0m\u001b[0mself\u001b[0m\u001b[1;33m.\u001b[0m\u001b[0minit_score\u001b[0m\u001b[1;33m,\u001b[0m \u001b[0mpredictor\u001b[0m\u001b[1;33m=\u001b[0m\u001b[0mself\u001b[0m\u001b[1;33m.\u001b[0m\u001b[0m_predictor\u001b[0m\u001b[1;33m,\u001b[0m\u001b[1;33m\u001b[0m\u001b[1;33m\u001b[0m\u001b[0m\n",
      "\u001b[1;32m~\\anaconda3\\lib\\site-packages\\lightgbm\\basic.py\u001b[0m in \u001b[0;36m_lazy_init\u001b[1;34m(self, data, label, reference, weight, group, init_score, predictor, silent, feature_name, categorical_feature, params)\u001b[0m\n\u001b[0;32m   1536\u001b[0m             \u001b[0mself\u001b[0m\u001b[1;33m.\u001b[0m\u001b[0m__init_from_csc\u001b[0m\u001b[1;33m(\u001b[0m\u001b[0mdata\u001b[0m\u001b[1;33m,\u001b[0m \u001b[0mparams_str\u001b[0m\u001b[1;33m,\u001b[0m \u001b[0mref_dataset\u001b[0m\u001b[1;33m)\u001b[0m\u001b[1;33m\u001b[0m\u001b[1;33m\u001b[0m\u001b[0m\n\u001b[0;32m   1537\u001b[0m         \u001b[1;32melif\u001b[0m \u001b[0misinstance\u001b[0m\u001b[1;33m(\u001b[0m\u001b[0mdata\u001b[0m\u001b[1;33m,\u001b[0m \u001b[0mnp\u001b[0m\u001b[1;33m.\u001b[0m\u001b[0mndarray\u001b[0m\u001b[1;33m)\u001b[0m\u001b[1;33m:\u001b[0m\u001b[1;33m\u001b[0m\u001b[1;33m\u001b[0m\u001b[0m\n\u001b[1;32m-> 1538\u001b[1;33m             \u001b[0mself\u001b[0m\u001b[1;33m.\u001b[0m\u001b[0m__init_from_np2d\u001b[0m\u001b[1;33m(\u001b[0m\u001b[0mdata\u001b[0m\u001b[1;33m,\u001b[0m \u001b[0mparams_str\u001b[0m\u001b[1;33m,\u001b[0m \u001b[0mref_dataset\u001b[0m\u001b[1;33m)\u001b[0m\u001b[1;33m\u001b[0m\u001b[1;33m\u001b[0m\u001b[0m\n\u001b[0m\u001b[0;32m   1539\u001b[0m         \u001b[1;32melif\u001b[0m \u001b[0misinstance\u001b[0m\u001b[1;33m(\u001b[0m\u001b[0mdata\u001b[0m\u001b[1;33m,\u001b[0m \u001b[0mlist\u001b[0m\u001b[1;33m)\u001b[0m \u001b[1;32mand\u001b[0m \u001b[0mlen\u001b[0m\u001b[1;33m(\u001b[0m\u001b[0mdata\u001b[0m\u001b[1;33m)\u001b[0m \u001b[1;33m>\u001b[0m \u001b[1;36m0\u001b[0m\u001b[1;33m:\u001b[0m\u001b[1;33m\u001b[0m\u001b[1;33m\u001b[0m\u001b[0m\n\u001b[0;32m   1540\u001b[0m             \u001b[1;32mif\u001b[0m \u001b[0mall\u001b[0m\u001b[1;33m(\u001b[0m\u001b[0misinstance\u001b[0m\u001b[1;33m(\u001b[0m\u001b[0mx\u001b[0m\u001b[1;33m,\u001b[0m \u001b[0mnp\u001b[0m\u001b[1;33m.\u001b[0m\u001b[0mndarray\u001b[0m\u001b[1;33m)\u001b[0m \u001b[1;32mfor\u001b[0m \u001b[0mx\u001b[0m \u001b[1;32min\u001b[0m \u001b[0mdata\u001b[0m\u001b[1;33m)\u001b[0m\u001b[1;33m:\u001b[0m\u001b[1;33m\u001b[0m\u001b[1;33m\u001b[0m\u001b[0m\n",
      "\u001b[1;32m~\\anaconda3\\lib\\site-packages\\lightgbm\\basic.py\u001b[0m in \u001b[0;36m__init_from_np2d\u001b[1;34m(self, mat, params_str, ref_dataset)\u001b[0m\n\u001b[0;32m   1657\u001b[0m \u001b[1;33m\u001b[0m\u001b[0m\n\u001b[0;32m   1658\u001b[0m         \u001b[0mptr_data\u001b[0m\u001b[1;33m,\u001b[0m \u001b[0mtype_ptr_data\u001b[0m\u001b[1;33m,\u001b[0m \u001b[0m_\u001b[0m \u001b[1;33m=\u001b[0m \u001b[0mc_float_array\u001b[0m\u001b[1;33m(\u001b[0m\u001b[0mdata\u001b[0m\u001b[1;33m)\u001b[0m\u001b[1;33m\u001b[0m\u001b[1;33m\u001b[0m\u001b[0m\n\u001b[1;32m-> 1659\u001b[1;33m         _safe_call(_LIB.LGBM_DatasetCreateFromMat(\n\u001b[0m\u001b[0;32m   1660\u001b[0m             \u001b[0mptr_data\u001b[0m\u001b[1;33m,\u001b[0m\u001b[1;33m\u001b[0m\u001b[1;33m\u001b[0m\u001b[0m\n\u001b[0;32m   1661\u001b[0m             \u001b[0mctypes\u001b[0m\u001b[1;33m.\u001b[0m\u001b[0mc_int\u001b[0m\u001b[1;33m(\u001b[0m\u001b[0mtype_ptr_data\u001b[0m\u001b[1;33m)\u001b[0m\u001b[1;33m,\u001b[0m\u001b[1;33m\u001b[0m\u001b[1;33m\u001b[0m\u001b[0m\n",
      "\u001b[1;32m~\\anaconda3\\lib\\site-packages\\lightgbm\\basic.py\u001b[0m in \u001b[0;36m_safe_call\u001b[1;34m(ret)\u001b[0m\n\u001b[0;32m    123\u001b[0m     \"\"\"\n\u001b[0;32m    124\u001b[0m     \u001b[1;32mif\u001b[0m \u001b[0mret\u001b[0m \u001b[1;33m!=\u001b[0m \u001b[1;36m0\u001b[0m\u001b[1;33m:\u001b[0m\u001b[1;33m\u001b[0m\u001b[1;33m\u001b[0m\u001b[0m\n\u001b[1;32m--> 125\u001b[1;33m         \u001b[1;32mraise\u001b[0m \u001b[0mLightGBMError\u001b[0m\u001b[1;33m(\u001b[0m\u001b[0m_LIB\u001b[0m\u001b[1;33m.\u001b[0m\u001b[0mLGBM_GetLastError\u001b[0m\u001b[1;33m(\u001b[0m\u001b[1;33m)\u001b[0m\u001b[1;33m.\u001b[0m\u001b[0mdecode\u001b[0m\u001b[1;33m(\u001b[0m\u001b[1;34m'utf-8'\u001b[0m\u001b[1;33m)\u001b[0m\u001b[1;33m)\u001b[0m\u001b[1;33m\u001b[0m\u001b[1;33m\u001b[0m\u001b[0m\n\u001b[0m\u001b[0;32m    126\u001b[0m \u001b[1;33m\u001b[0m\u001b[0m\n\u001b[0;32m    127\u001b[0m \u001b[1;33m\u001b[0m\u001b[0m\n",
      "\u001b[1;31mLightGBMError\u001b[0m: Check failed: (bagging_fraction) > (0.0) at D:\\a\\1\\s\\python-package\\compile\\src\\io\\config_auto.cpp, line 356 .\n"
     ]
    }
   ],
   "source": [
    "BO_lgbm.maximize(init_points = 5, n_iter = 5)"
   ]
  },
  {
   "cell_type": "code",
   "execution_count": 131,
   "id": "a5813842",
   "metadata": {},
   "outputs": [
    {
     "data": {
      "text/plain": [
       "{'max_depth': 2.76817440872047,\n",
       " 'n_estimators': 57.28536678996605,\n",
       " 'subsample': 0.888619690346877}"
      ]
     },
     "execution_count": 131,
     "metadata": {},
     "output_type": "execute_result"
    }
   ],
   "source": [
    "max_params = BO_lgbm.max['params']\n",
    "max_params"
   ]
  },
  {
   "cell_type": "code",
   "execution_count": 132,
   "id": "bd7af66c",
   "metadata": {},
   "outputs": [],
   "source": [
    "LGBM = LGBMClassifier(max_depth = 3,n_estimators=57, subsample = 0.8886)\n",
    "XGB = XGBClassifier(gamma =  5.6804, max_depth = 3, subsample = 0.5355)\n",
    "RF = RandomForestClassifier(max_depth = 3, n_estimators = 56)\n",
    "\n",
    "# VotingClassifier 정의\n",
    "VC = VotingClassifier(estimators=[('rf',RF),('xgb',XGB),('lgbm',LGBM)],voting = 'soft')"
   ]
  },
  {
   "cell_type": "code",
   "execution_count": 133,
   "id": "356eb4ea",
   "metadata": {},
   "outputs": [
    {
     "name": "stdout",
     "output_type": "stream",
     "text": [
      "[14:47:11] WARNING: C:/Users/Administrator/workspace/xgboost-win64_release_1.5.1/src/learner.cc:1115: Starting in XGBoost 1.3.0, the default evaluation metric used with the objective 'multi:softprob' was changed from 'merror' to 'mlogloss'. Explicitly set eval_metric if you'd like to restore the old behavior.\n"
     ]
    },
    {
     "data": {
      "text/plain": [
       "VotingClassifier(estimators=[('rf',\n",
       "                              RandomForestClassifier(max_depth=3,\n",
       "                                                     n_estimators=56)),\n",
       "                             ('xgb',\n",
       "                              XGBClassifier(base_score=None, booster=None,\n",
       "                                            colsample_bylevel=None,\n",
       "                                            colsample_bynode=None,\n",
       "                                            colsample_bytree=None,\n",
       "                                            enable_categorical=False,\n",
       "                                            gamma=5.6804, gpu_id=None,\n",
       "                                            importance_type=None,\n",
       "                                            interaction_constraints=None,\n",
       "                                            learning_rate=None,\n",
       "                                            max_delta_step=None, max_de...\n",
       "                                            min_child_weight=None, missing=nan,\n",
       "                                            monotone_constraints=None,\n",
       "                                            n_estimators=100, n_jobs=None,\n",
       "                                            num_parallel_tree=None,\n",
       "                                            predictor=None, random_state=None,\n",
       "                                            reg_alpha=None, reg_lambda=None,\n",
       "                                            scale_pos_weight=None,\n",
       "                                            subsample=0.5355, tree_method=None,\n",
       "                                            validate_parameters=None,\n",
       "                                            verbosity=None)),\n",
       "                             ('lgbm',\n",
       "                              LGBMClassifier(max_depth=3, n_estimators=57,\n",
       "                                             subsample=0.8886))],\n",
       "                 voting='soft')"
      ]
     },
     "execution_count": 133,
     "metadata": {},
     "output_type": "execute_result"
    }
   ],
   "source": [
    "VC.fit(X,y)"
   ]
  },
  {
   "cell_type": "code",
   "execution_count": 134,
   "id": "fd9611fd",
   "metadata": {},
   "outputs": [],
   "source": [
    "X_test = test.drop(['index'], axis = 1)"
   ]
  },
  {
   "cell_type": "code",
   "execution_count": 135,
   "id": "4af80eb7",
   "metadata": {},
   "outputs": [],
   "source": [
    "pred = VC.predict(X_test)"
   ]
  },
  {
   "cell_type": "code",
   "execution_count": 136,
   "id": "f90306ed",
   "metadata": {},
   "outputs": [],
   "source": [
    "submission = pd.read_csv('sample_submission.csv')\n",
    "\n",
    "submission['quality'] = pred\n",
    "\n",
    "submission\n",
    "\n",
    "submission.to_csv('submission.csv',index=False)"
   ]
  },
  {
   "cell_type": "code",
   "execution_count": null,
   "id": "8fe09f2e",
   "metadata": {},
   "outputs": [],
   "source": []
  },
  {
   "cell_type": "code",
   "execution_count": null,
   "id": "ede93e34",
   "metadata": {},
   "outputs": [],
   "source": []
  },
  {
   "cell_type": "markdown",
   "id": "438a0e2e",
   "metadata": {},
   "source": [
    "# Pycaret"
   ]
  },
  {
   "cell_type": "code",
   "execution_count": 2,
   "id": "e570cf83",
   "metadata": {},
   "outputs": [],
   "source": [
    "train = pd.read_csv('train.csv')\n",
    "test = pd.read_csv('test.csv')"
   ]
  },
  {
   "cell_type": "code",
   "execution_count": 3,
   "id": "ca296772",
   "metadata": {},
   "outputs": [],
   "source": [
    "from sklearn.preprocessing import LabelEncoder\n",
    "\n",
    "enc = LabelEncoder()\n",
    "enc.fit(train['type'])\n",
    "train['type'] = enc.transform(train['type'])\n",
    "test['type'] = enc.transform(test['type'])"
   ]
  },
  {
   "cell_type": "code",
   "execution_count": 4,
   "id": "54df4e0f",
   "metadata": {},
   "outputs": [],
   "source": [
    "train = train.drop('index', axis = 1)\n",
    "test = test.drop('index', axis = 1)"
   ]
  },
  {
   "cell_type": "code",
   "execution_count": 5,
   "id": "8bfb4a5a",
   "metadata": {},
   "outputs": [
    {
     "data": {
      "text/html": [
       "<div>\n",
       "<style scoped>\n",
       "    .dataframe tbody tr th:only-of-type {\n",
       "        vertical-align: middle;\n",
       "    }\n",
       "\n",
       "    .dataframe tbody tr th {\n",
       "        vertical-align: top;\n",
       "    }\n",
       "\n",
       "    .dataframe thead th {\n",
       "        text-align: right;\n",
       "    }\n",
       "</style>\n",
       "<table border=\"1\" class=\"dataframe\">\n",
       "  <thead>\n",
       "    <tr style=\"text-align: right;\">\n",
       "      <th></th>\n",
       "      <th>quality</th>\n",
       "      <th>fixed acidity</th>\n",
       "      <th>volatile acidity</th>\n",
       "      <th>citric acid</th>\n",
       "      <th>residual sugar</th>\n",
       "      <th>chlorides</th>\n",
       "      <th>free sulfur dioxide</th>\n",
       "      <th>total sulfur dioxide</th>\n",
       "      <th>density</th>\n",
       "      <th>pH</th>\n",
       "      <th>sulphates</th>\n",
       "      <th>alcohol</th>\n",
       "      <th>type</th>\n",
       "    </tr>\n",
       "  </thead>\n",
       "  <tbody>\n",
       "    <tr>\n",
       "      <th>0</th>\n",
       "      <td>5</td>\n",
       "      <td>5.6</td>\n",
       "      <td>0.695</td>\n",
       "      <td>0.06</td>\n",
       "      <td>6.8</td>\n",
       "      <td>0.042</td>\n",
       "      <td>9.0</td>\n",
       "      <td>84.0</td>\n",
       "      <td>0.99432</td>\n",
       "      <td>3.44</td>\n",
       "      <td>0.44</td>\n",
       "      <td>10.2</td>\n",
       "      <td>1</td>\n",
       "    </tr>\n",
       "    <tr>\n",
       "      <th>1</th>\n",
       "      <td>5</td>\n",
       "      <td>8.8</td>\n",
       "      <td>0.610</td>\n",
       "      <td>0.14</td>\n",
       "      <td>2.4</td>\n",
       "      <td>0.067</td>\n",
       "      <td>10.0</td>\n",
       "      <td>42.0</td>\n",
       "      <td>0.99690</td>\n",
       "      <td>3.19</td>\n",
       "      <td>0.59</td>\n",
       "      <td>9.5</td>\n",
       "      <td>0</td>\n",
       "    </tr>\n",
       "    <tr>\n",
       "      <th>2</th>\n",
       "      <td>5</td>\n",
       "      <td>7.9</td>\n",
       "      <td>0.210</td>\n",
       "      <td>0.39</td>\n",
       "      <td>2.0</td>\n",
       "      <td>0.057</td>\n",
       "      <td>21.0</td>\n",
       "      <td>138.0</td>\n",
       "      <td>0.99176</td>\n",
       "      <td>3.05</td>\n",
       "      <td>0.52</td>\n",
       "      <td>10.9</td>\n",
       "      <td>1</td>\n",
       "    </tr>\n",
       "    <tr>\n",
       "      <th>3</th>\n",
       "      <td>6</td>\n",
       "      <td>7.0</td>\n",
       "      <td>0.210</td>\n",
       "      <td>0.31</td>\n",
       "      <td>6.0</td>\n",
       "      <td>0.046</td>\n",
       "      <td>29.0</td>\n",
       "      <td>108.0</td>\n",
       "      <td>0.99390</td>\n",
       "      <td>3.26</td>\n",
       "      <td>0.50</td>\n",
       "      <td>10.8</td>\n",
       "      <td>1</td>\n",
       "    </tr>\n",
       "    <tr>\n",
       "      <th>4</th>\n",
       "      <td>6</td>\n",
       "      <td>7.8</td>\n",
       "      <td>0.400</td>\n",
       "      <td>0.26</td>\n",
       "      <td>9.5</td>\n",
       "      <td>0.059</td>\n",
       "      <td>32.0</td>\n",
       "      <td>178.0</td>\n",
       "      <td>0.99550</td>\n",
       "      <td>3.04</td>\n",
       "      <td>0.43</td>\n",
       "      <td>10.9</td>\n",
       "      <td>1</td>\n",
       "    </tr>\n",
       "    <tr>\n",
       "      <th>...</th>\n",
       "      <td>...</td>\n",
       "      <td>...</td>\n",
       "      <td>...</td>\n",
       "      <td>...</td>\n",
       "      <td>...</td>\n",
       "      <td>...</td>\n",
       "      <td>...</td>\n",
       "      <td>...</td>\n",
       "      <td>...</td>\n",
       "      <td>...</td>\n",
       "      <td>...</td>\n",
       "      <td>...</td>\n",
       "      <td>...</td>\n",
       "    </tr>\n",
       "    <tr>\n",
       "      <th>5492</th>\n",
       "      <td>5</td>\n",
       "      <td>7.7</td>\n",
       "      <td>0.150</td>\n",
       "      <td>0.29</td>\n",
       "      <td>1.3</td>\n",
       "      <td>0.029</td>\n",
       "      <td>10.0</td>\n",
       "      <td>64.0</td>\n",
       "      <td>0.99320</td>\n",
       "      <td>3.35</td>\n",
       "      <td>0.39</td>\n",
       "      <td>10.1</td>\n",
       "      <td>1</td>\n",
       "    </tr>\n",
       "    <tr>\n",
       "      <th>5493</th>\n",
       "      <td>6</td>\n",
       "      <td>6.3</td>\n",
       "      <td>0.180</td>\n",
       "      <td>0.36</td>\n",
       "      <td>1.2</td>\n",
       "      <td>0.034</td>\n",
       "      <td>26.0</td>\n",
       "      <td>111.0</td>\n",
       "      <td>0.99074</td>\n",
       "      <td>3.16</td>\n",
       "      <td>0.51</td>\n",
       "      <td>11.0</td>\n",
       "      <td>1</td>\n",
       "    </tr>\n",
       "    <tr>\n",
       "      <th>5494</th>\n",
       "      <td>7</td>\n",
       "      <td>7.8</td>\n",
       "      <td>0.150</td>\n",
       "      <td>0.34</td>\n",
       "      <td>1.1</td>\n",
       "      <td>0.035</td>\n",
       "      <td>31.0</td>\n",
       "      <td>93.0</td>\n",
       "      <td>0.99096</td>\n",
       "      <td>3.07</td>\n",
       "      <td>0.72</td>\n",
       "      <td>11.3</td>\n",
       "      <td>1</td>\n",
       "    </tr>\n",
       "    <tr>\n",
       "      <th>5495</th>\n",
       "      <td>5</td>\n",
       "      <td>6.6</td>\n",
       "      <td>0.410</td>\n",
       "      <td>0.31</td>\n",
       "      <td>1.6</td>\n",
       "      <td>0.042</td>\n",
       "      <td>18.0</td>\n",
       "      <td>101.0</td>\n",
       "      <td>0.99195</td>\n",
       "      <td>3.13</td>\n",
       "      <td>0.41</td>\n",
       "      <td>10.5</td>\n",
       "      <td>1</td>\n",
       "    </tr>\n",
       "    <tr>\n",
       "      <th>5496</th>\n",
       "      <td>6</td>\n",
       "      <td>7.0</td>\n",
       "      <td>0.350</td>\n",
       "      <td>0.17</td>\n",
       "      <td>1.1</td>\n",
       "      <td>0.049</td>\n",
       "      <td>7.0</td>\n",
       "      <td>119.0</td>\n",
       "      <td>0.99297</td>\n",
       "      <td>3.13</td>\n",
       "      <td>0.36</td>\n",
       "      <td>9.7</td>\n",
       "      <td>1</td>\n",
       "    </tr>\n",
       "  </tbody>\n",
       "</table>\n",
       "<p>5497 rows × 13 columns</p>\n",
       "</div>"
      ],
      "text/plain": [
       "      quality  fixed acidity  volatile acidity  citric acid  residual sugar  \\\n",
       "0           5            5.6             0.695         0.06             6.8   \n",
       "1           5            8.8             0.610         0.14             2.4   \n",
       "2           5            7.9             0.210         0.39             2.0   \n",
       "3           6            7.0             0.210         0.31             6.0   \n",
       "4           6            7.8             0.400         0.26             9.5   \n",
       "...       ...            ...               ...          ...             ...   \n",
       "5492        5            7.7             0.150         0.29             1.3   \n",
       "5493        6            6.3             0.180         0.36             1.2   \n",
       "5494        7            7.8             0.150         0.34             1.1   \n",
       "5495        5            6.6             0.410         0.31             1.6   \n",
       "5496        6            7.0             0.350         0.17             1.1   \n",
       "\n",
       "      chlorides  free sulfur dioxide  total sulfur dioxide  density    pH  \\\n",
       "0         0.042                  9.0                  84.0  0.99432  3.44   \n",
       "1         0.067                 10.0                  42.0  0.99690  3.19   \n",
       "2         0.057                 21.0                 138.0  0.99176  3.05   \n",
       "3         0.046                 29.0                 108.0  0.99390  3.26   \n",
       "4         0.059                 32.0                 178.0  0.99550  3.04   \n",
       "...         ...                  ...                   ...      ...   ...   \n",
       "5492      0.029                 10.0                  64.0  0.99320  3.35   \n",
       "5493      0.034                 26.0                 111.0  0.99074  3.16   \n",
       "5494      0.035                 31.0                  93.0  0.99096  3.07   \n",
       "5495      0.042                 18.0                 101.0  0.99195  3.13   \n",
       "5496      0.049                  7.0                 119.0  0.99297  3.13   \n",
       "\n",
       "      sulphates  alcohol  type  \n",
       "0          0.44     10.2     1  \n",
       "1          0.59      9.5     0  \n",
       "2          0.52     10.9     1  \n",
       "3          0.50     10.8     1  \n",
       "4          0.43     10.9     1  \n",
       "...         ...      ...   ...  \n",
       "5492       0.39     10.1     1  \n",
       "5493       0.51     11.0     1  \n",
       "5494       0.72     11.3     1  \n",
       "5495       0.41     10.5     1  \n",
       "5496       0.36      9.7     1  \n",
       "\n",
       "[5497 rows x 13 columns]"
      ]
     },
     "execution_count": 5,
     "metadata": {},
     "output_type": "execute_result"
    }
   ],
   "source": [
    "train"
   ]
  },
  {
   "cell_type": "code",
   "execution_count": 6,
   "id": "eb1a938e",
   "metadata": {},
   "outputs": [],
   "source": [
    "from pycaret.classification import *"
   ]
  },
  {
   "cell_type": "code",
   "execution_count": 7,
   "id": "8aee9a1a",
   "metadata": {},
   "outputs": [
    {
     "data": {
      "text/html": [
       "<style type=\"text/css\">\n",
       "</style>\n",
       "<table id=\"T_565ce_\">\n",
       "  <thead>\n",
       "    <tr>\n",
       "      <th class=\"blank level0\" >&nbsp;</th>\n",
       "      <th class=\"col_heading level0 col0\" >Description</th>\n",
       "      <th class=\"col_heading level0 col1\" >Value</th>\n",
       "    </tr>\n",
       "  </thead>\n",
       "  <tbody>\n",
       "    <tr>\n",
       "      <th id=\"T_565ce_level0_row0\" class=\"row_heading level0 row0\" >0</th>\n",
       "      <td id=\"T_565ce_row0_col0\" class=\"data row0 col0\" >session_id</td>\n",
       "      <td id=\"T_565ce_row0_col1\" class=\"data row0 col1\" >3174</td>\n",
       "    </tr>\n",
       "    <tr>\n",
       "      <th id=\"T_565ce_level0_row1\" class=\"row_heading level0 row1\" >1</th>\n",
       "      <td id=\"T_565ce_row1_col0\" class=\"data row1 col0\" >Target</td>\n",
       "      <td id=\"T_565ce_row1_col1\" class=\"data row1 col1\" >quality</td>\n",
       "    </tr>\n",
       "    <tr>\n",
       "      <th id=\"T_565ce_level0_row2\" class=\"row_heading level0 row2\" >2</th>\n",
       "      <td id=\"T_565ce_row2_col0\" class=\"data row2 col0\" >Target Type</td>\n",
       "      <td id=\"T_565ce_row2_col1\" class=\"data row2 col1\" >Multiclass</td>\n",
       "    </tr>\n",
       "    <tr>\n",
       "      <th id=\"T_565ce_level0_row3\" class=\"row_heading level0 row3\" >3</th>\n",
       "      <td id=\"T_565ce_row3_col0\" class=\"data row3 col0\" >Label Encoded</td>\n",
       "      <td id=\"T_565ce_row3_col1\" class=\"data row3 col1\" >3: 0, 4: 1, 5: 2, 6: 3, 7: 4, 8: 5, 9: 6</td>\n",
       "    </tr>\n",
       "    <tr>\n",
       "      <th id=\"T_565ce_level0_row4\" class=\"row_heading level0 row4\" >4</th>\n",
       "      <td id=\"T_565ce_row4_col0\" class=\"data row4 col0\" >Original Data</td>\n",
       "      <td id=\"T_565ce_row4_col1\" class=\"data row4 col1\" >(5497, 13)</td>\n",
       "    </tr>\n",
       "    <tr>\n",
       "      <th id=\"T_565ce_level0_row5\" class=\"row_heading level0 row5\" >5</th>\n",
       "      <td id=\"T_565ce_row5_col0\" class=\"data row5 col0\" >Missing Values</td>\n",
       "      <td id=\"T_565ce_row5_col1\" class=\"data row5 col1\" >False</td>\n",
       "    </tr>\n",
       "    <tr>\n",
       "      <th id=\"T_565ce_level0_row6\" class=\"row_heading level0 row6\" >6</th>\n",
       "      <td id=\"T_565ce_row6_col0\" class=\"data row6 col0\" >Numeric Features</td>\n",
       "      <td id=\"T_565ce_row6_col1\" class=\"data row6 col1\" >12</td>\n",
       "    </tr>\n",
       "    <tr>\n",
       "      <th id=\"T_565ce_level0_row7\" class=\"row_heading level0 row7\" >7</th>\n",
       "      <td id=\"T_565ce_row7_col0\" class=\"data row7 col0\" >Categorical Features</td>\n",
       "      <td id=\"T_565ce_row7_col1\" class=\"data row7 col1\" >0</td>\n",
       "    </tr>\n",
       "    <tr>\n",
       "      <th id=\"T_565ce_level0_row8\" class=\"row_heading level0 row8\" >8</th>\n",
       "      <td id=\"T_565ce_row8_col0\" class=\"data row8 col0\" >Ordinal Features</td>\n",
       "      <td id=\"T_565ce_row8_col1\" class=\"data row8 col1\" >False</td>\n",
       "    </tr>\n",
       "    <tr>\n",
       "      <th id=\"T_565ce_level0_row9\" class=\"row_heading level0 row9\" >9</th>\n",
       "      <td id=\"T_565ce_row9_col0\" class=\"data row9 col0\" >High Cardinality Features</td>\n",
       "      <td id=\"T_565ce_row9_col1\" class=\"data row9 col1\" >False</td>\n",
       "    </tr>\n",
       "    <tr>\n",
       "      <th id=\"T_565ce_level0_row10\" class=\"row_heading level0 row10\" >10</th>\n",
       "      <td id=\"T_565ce_row10_col0\" class=\"data row10 col0\" >High Cardinality Method</td>\n",
       "      <td id=\"T_565ce_row10_col1\" class=\"data row10 col1\" >None</td>\n",
       "    </tr>\n",
       "    <tr>\n",
       "      <th id=\"T_565ce_level0_row11\" class=\"row_heading level0 row11\" >11</th>\n",
       "      <td id=\"T_565ce_row11_col0\" class=\"data row11 col0\" >Transformed Train Set</td>\n",
       "      <td id=\"T_565ce_row11_col1\" class=\"data row11 col1\" >(3847, 12)</td>\n",
       "    </tr>\n",
       "    <tr>\n",
       "      <th id=\"T_565ce_level0_row12\" class=\"row_heading level0 row12\" >12</th>\n",
       "      <td id=\"T_565ce_row12_col0\" class=\"data row12 col0\" >Transformed Test Set</td>\n",
       "      <td id=\"T_565ce_row12_col1\" class=\"data row12 col1\" >(1650, 12)</td>\n",
       "    </tr>\n",
       "    <tr>\n",
       "      <th id=\"T_565ce_level0_row13\" class=\"row_heading level0 row13\" >13</th>\n",
       "      <td id=\"T_565ce_row13_col0\" class=\"data row13 col0\" >Shuffle Train-Test</td>\n",
       "      <td id=\"T_565ce_row13_col1\" class=\"data row13 col1\" >True</td>\n",
       "    </tr>\n",
       "    <tr>\n",
       "      <th id=\"T_565ce_level0_row14\" class=\"row_heading level0 row14\" >14</th>\n",
       "      <td id=\"T_565ce_row14_col0\" class=\"data row14 col0\" >Stratify Train-Test</td>\n",
       "      <td id=\"T_565ce_row14_col1\" class=\"data row14 col1\" >False</td>\n",
       "    </tr>\n",
       "    <tr>\n",
       "      <th id=\"T_565ce_level0_row15\" class=\"row_heading level0 row15\" >15</th>\n",
       "      <td id=\"T_565ce_row15_col0\" class=\"data row15 col0\" >Fold Generator</td>\n",
       "      <td id=\"T_565ce_row15_col1\" class=\"data row15 col1\" >StratifiedKFold</td>\n",
       "    </tr>\n",
       "    <tr>\n",
       "      <th id=\"T_565ce_level0_row16\" class=\"row_heading level0 row16\" >16</th>\n",
       "      <td id=\"T_565ce_row16_col0\" class=\"data row16 col0\" >Fold Number</td>\n",
       "      <td id=\"T_565ce_row16_col1\" class=\"data row16 col1\" >10</td>\n",
       "    </tr>\n",
       "    <tr>\n",
       "      <th id=\"T_565ce_level0_row17\" class=\"row_heading level0 row17\" >17</th>\n",
       "      <td id=\"T_565ce_row17_col0\" class=\"data row17 col0\" >CPU Jobs</td>\n",
       "      <td id=\"T_565ce_row17_col1\" class=\"data row17 col1\" >-1</td>\n",
       "    </tr>\n",
       "    <tr>\n",
       "      <th id=\"T_565ce_level0_row18\" class=\"row_heading level0 row18\" >18</th>\n",
       "      <td id=\"T_565ce_row18_col0\" class=\"data row18 col0\" >Use GPU</td>\n",
       "      <td id=\"T_565ce_row18_col1\" class=\"data row18 col1\" >False</td>\n",
       "    </tr>\n",
       "    <tr>\n",
       "      <th id=\"T_565ce_level0_row19\" class=\"row_heading level0 row19\" >19</th>\n",
       "      <td id=\"T_565ce_row19_col0\" class=\"data row19 col0\" >Log Experiment</td>\n",
       "      <td id=\"T_565ce_row19_col1\" class=\"data row19 col1\" >False</td>\n",
       "    </tr>\n",
       "    <tr>\n",
       "      <th id=\"T_565ce_level0_row20\" class=\"row_heading level0 row20\" >20</th>\n",
       "      <td id=\"T_565ce_row20_col0\" class=\"data row20 col0\" >Experiment Name</td>\n",
       "      <td id=\"T_565ce_row20_col1\" class=\"data row20 col1\" >clf-default-name</td>\n",
       "    </tr>\n",
       "    <tr>\n",
       "      <th id=\"T_565ce_level0_row21\" class=\"row_heading level0 row21\" >21</th>\n",
       "      <td id=\"T_565ce_row21_col0\" class=\"data row21 col0\" >USI</td>\n",
       "      <td id=\"T_565ce_row21_col1\" class=\"data row21 col1\" >3856</td>\n",
       "    </tr>\n",
       "    <tr>\n",
       "      <th id=\"T_565ce_level0_row22\" class=\"row_heading level0 row22\" >22</th>\n",
       "      <td id=\"T_565ce_row22_col0\" class=\"data row22 col0\" >Imputation Type</td>\n",
       "      <td id=\"T_565ce_row22_col1\" class=\"data row22 col1\" >simple</td>\n",
       "    </tr>\n",
       "    <tr>\n",
       "      <th id=\"T_565ce_level0_row23\" class=\"row_heading level0 row23\" >23</th>\n",
       "      <td id=\"T_565ce_row23_col0\" class=\"data row23 col0\" >Iterative Imputation Iteration</td>\n",
       "      <td id=\"T_565ce_row23_col1\" class=\"data row23 col1\" >None</td>\n",
       "    </tr>\n",
       "    <tr>\n",
       "      <th id=\"T_565ce_level0_row24\" class=\"row_heading level0 row24\" >24</th>\n",
       "      <td id=\"T_565ce_row24_col0\" class=\"data row24 col0\" >Numeric Imputer</td>\n",
       "      <td id=\"T_565ce_row24_col1\" class=\"data row24 col1\" >mean</td>\n",
       "    </tr>\n",
       "    <tr>\n",
       "      <th id=\"T_565ce_level0_row25\" class=\"row_heading level0 row25\" >25</th>\n",
       "      <td id=\"T_565ce_row25_col0\" class=\"data row25 col0\" >Iterative Imputation Numeric Model</td>\n",
       "      <td id=\"T_565ce_row25_col1\" class=\"data row25 col1\" >None</td>\n",
       "    </tr>\n",
       "    <tr>\n",
       "      <th id=\"T_565ce_level0_row26\" class=\"row_heading level0 row26\" >26</th>\n",
       "      <td id=\"T_565ce_row26_col0\" class=\"data row26 col0\" >Categorical Imputer</td>\n",
       "      <td id=\"T_565ce_row26_col1\" class=\"data row26 col1\" >constant</td>\n",
       "    </tr>\n",
       "    <tr>\n",
       "      <th id=\"T_565ce_level0_row27\" class=\"row_heading level0 row27\" >27</th>\n",
       "      <td id=\"T_565ce_row27_col0\" class=\"data row27 col0\" >Iterative Imputation Categorical Model</td>\n",
       "      <td id=\"T_565ce_row27_col1\" class=\"data row27 col1\" >None</td>\n",
       "    </tr>\n",
       "    <tr>\n",
       "      <th id=\"T_565ce_level0_row28\" class=\"row_heading level0 row28\" >28</th>\n",
       "      <td id=\"T_565ce_row28_col0\" class=\"data row28 col0\" >Unknown Categoricals Handling</td>\n",
       "      <td id=\"T_565ce_row28_col1\" class=\"data row28 col1\" >least_frequent</td>\n",
       "    </tr>\n",
       "    <tr>\n",
       "      <th id=\"T_565ce_level0_row29\" class=\"row_heading level0 row29\" >29</th>\n",
       "      <td id=\"T_565ce_row29_col0\" class=\"data row29 col0\" >Normalize</td>\n",
       "      <td id=\"T_565ce_row29_col1\" class=\"data row29 col1\" >False</td>\n",
       "    </tr>\n",
       "    <tr>\n",
       "      <th id=\"T_565ce_level0_row30\" class=\"row_heading level0 row30\" >30</th>\n",
       "      <td id=\"T_565ce_row30_col0\" class=\"data row30 col0\" >Normalize Method</td>\n",
       "      <td id=\"T_565ce_row30_col1\" class=\"data row30 col1\" >None</td>\n",
       "    </tr>\n",
       "    <tr>\n",
       "      <th id=\"T_565ce_level0_row31\" class=\"row_heading level0 row31\" >31</th>\n",
       "      <td id=\"T_565ce_row31_col0\" class=\"data row31 col0\" >Transformation</td>\n",
       "      <td id=\"T_565ce_row31_col1\" class=\"data row31 col1\" >False</td>\n",
       "    </tr>\n",
       "    <tr>\n",
       "      <th id=\"T_565ce_level0_row32\" class=\"row_heading level0 row32\" >32</th>\n",
       "      <td id=\"T_565ce_row32_col0\" class=\"data row32 col0\" >Transformation Method</td>\n",
       "      <td id=\"T_565ce_row32_col1\" class=\"data row32 col1\" >None</td>\n",
       "    </tr>\n",
       "    <tr>\n",
       "      <th id=\"T_565ce_level0_row33\" class=\"row_heading level0 row33\" >33</th>\n",
       "      <td id=\"T_565ce_row33_col0\" class=\"data row33 col0\" >PCA</td>\n",
       "      <td id=\"T_565ce_row33_col1\" class=\"data row33 col1\" >False</td>\n",
       "    </tr>\n",
       "    <tr>\n",
       "      <th id=\"T_565ce_level0_row34\" class=\"row_heading level0 row34\" >34</th>\n",
       "      <td id=\"T_565ce_row34_col0\" class=\"data row34 col0\" >PCA Method</td>\n",
       "      <td id=\"T_565ce_row34_col1\" class=\"data row34 col1\" >None</td>\n",
       "    </tr>\n",
       "    <tr>\n",
       "      <th id=\"T_565ce_level0_row35\" class=\"row_heading level0 row35\" >35</th>\n",
       "      <td id=\"T_565ce_row35_col0\" class=\"data row35 col0\" >PCA Components</td>\n",
       "      <td id=\"T_565ce_row35_col1\" class=\"data row35 col1\" >None</td>\n",
       "    </tr>\n",
       "    <tr>\n",
       "      <th id=\"T_565ce_level0_row36\" class=\"row_heading level0 row36\" >36</th>\n",
       "      <td id=\"T_565ce_row36_col0\" class=\"data row36 col0\" >Ignore Low Variance</td>\n",
       "      <td id=\"T_565ce_row36_col1\" class=\"data row36 col1\" >False</td>\n",
       "    </tr>\n",
       "    <tr>\n",
       "      <th id=\"T_565ce_level0_row37\" class=\"row_heading level0 row37\" >37</th>\n",
       "      <td id=\"T_565ce_row37_col0\" class=\"data row37 col0\" >Combine Rare Levels</td>\n",
       "      <td id=\"T_565ce_row37_col1\" class=\"data row37 col1\" >False</td>\n",
       "    </tr>\n",
       "    <tr>\n",
       "      <th id=\"T_565ce_level0_row38\" class=\"row_heading level0 row38\" >38</th>\n",
       "      <td id=\"T_565ce_row38_col0\" class=\"data row38 col0\" >Rare Level Threshold</td>\n",
       "      <td id=\"T_565ce_row38_col1\" class=\"data row38 col1\" >None</td>\n",
       "    </tr>\n",
       "    <tr>\n",
       "      <th id=\"T_565ce_level0_row39\" class=\"row_heading level0 row39\" >39</th>\n",
       "      <td id=\"T_565ce_row39_col0\" class=\"data row39 col0\" >Numeric Binning</td>\n",
       "      <td id=\"T_565ce_row39_col1\" class=\"data row39 col1\" >False</td>\n",
       "    </tr>\n",
       "    <tr>\n",
       "      <th id=\"T_565ce_level0_row40\" class=\"row_heading level0 row40\" >40</th>\n",
       "      <td id=\"T_565ce_row40_col0\" class=\"data row40 col0\" >Remove Outliers</td>\n",
       "      <td id=\"T_565ce_row40_col1\" class=\"data row40 col1\" >False</td>\n",
       "    </tr>\n",
       "    <tr>\n",
       "      <th id=\"T_565ce_level0_row41\" class=\"row_heading level0 row41\" >41</th>\n",
       "      <td id=\"T_565ce_row41_col0\" class=\"data row41 col0\" >Outliers Threshold</td>\n",
       "      <td id=\"T_565ce_row41_col1\" class=\"data row41 col1\" >None</td>\n",
       "    </tr>\n",
       "    <tr>\n",
       "      <th id=\"T_565ce_level0_row42\" class=\"row_heading level0 row42\" >42</th>\n",
       "      <td id=\"T_565ce_row42_col0\" class=\"data row42 col0\" >Remove Multicollinearity</td>\n",
       "      <td id=\"T_565ce_row42_col1\" class=\"data row42 col1\" >False</td>\n",
       "    </tr>\n",
       "    <tr>\n",
       "      <th id=\"T_565ce_level0_row43\" class=\"row_heading level0 row43\" >43</th>\n",
       "      <td id=\"T_565ce_row43_col0\" class=\"data row43 col0\" >Multicollinearity Threshold</td>\n",
       "      <td id=\"T_565ce_row43_col1\" class=\"data row43 col1\" >None</td>\n",
       "    </tr>\n",
       "    <tr>\n",
       "      <th id=\"T_565ce_level0_row44\" class=\"row_heading level0 row44\" >44</th>\n",
       "      <td id=\"T_565ce_row44_col0\" class=\"data row44 col0\" >Clustering</td>\n",
       "      <td id=\"T_565ce_row44_col1\" class=\"data row44 col1\" >False</td>\n",
       "    </tr>\n",
       "    <tr>\n",
       "      <th id=\"T_565ce_level0_row45\" class=\"row_heading level0 row45\" >45</th>\n",
       "      <td id=\"T_565ce_row45_col0\" class=\"data row45 col0\" >Clustering Iteration</td>\n",
       "      <td id=\"T_565ce_row45_col1\" class=\"data row45 col1\" >None</td>\n",
       "    </tr>\n",
       "    <tr>\n",
       "      <th id=\"T_565ce_level0_row46\" class=\"row_heading level0 row46\" >46</th>\n",
       "      <td id=\"T_565ce_row46_col0\" class=\"data row46 col0\" >Polynomial Features</td>\n",
       "      <td id=\"T_565ce_row46_col1\" class=\"data row46 col1\" >False</td>\n",
       "    </tr>\n",
       "    <tr>\n",
       "      <th id=\"T_565ce_level0_row47\" class=\"row_heading level0 row47\" >47</th>\n",
       "      <td id=\"T_565ce_row47_col0\" class=\"data row47 col0\" >Polynomial Degree</td>\n",
       "      <td id=\"T_565ce_row47_col1\" class=\"data row47 col1\" >None</td>\n",
       "    </tr>\n",
       "    <tr>\n",
       "      <th id=\"T_565ce_level0_row48\" class=\"row_heading level0 row48\" >48</th>\n",
       "      <td id=\"T_565ce_row48_col0\" class=\"data row48 col0\" >Trignometry Features</td>\n",
       "      <td id=\"T_565ce_row48_col1\" class=\"data row48 col1\" >False</td>\n",
       "    </tr>\n",
       "    <tr>\n",
       "      <th id=\"T_565ce_level0_row49\" class=\"row_heading level0 row49\" >49</th>\n",
       "      <td id=\"T_565ce_row49_col0\" class=\"data row49 col0\" >Polynomial Threshold</td>\n",
       "      <td id=\"T_565ce_row49_col1\" class=\"data row49 col1\" >None</td>\n",
       "    </tr>\n",
       "    <tr>\n",
       "      <th id=\"T_565ce_level0_row50\" class=\"row_heading level0 row50\" >50</th>\n",
       "      <td id=\"T_565ce_row50_col0\" class=\"data row50 col0\" >Group Features</td>\n",
       "      <td id=\"T_565ce_row50_col1\" class=\"data row50 col1\" >False</td>\n",
       "    </tr>\n",
       "    <tr>\n",
       "      <th id=\"T_565ce_level0_row51\" class=\"row_heading level0 row51\" >51</th>\n",
       "      <td id=\"T_565ce_row51_col0\" class=\"data row51 col0\" >Feature Selection</td>\n",
       "      <td id=\"T_565ce_row51_col1\" class=\"data row51 col1\" >False</td>\n",
       "    </tr>\n",
       "    <tr>\n",
       "      <th id=\"T_565ce_level0_row52\" class=\"row_heading level0 row52\" >52</th>\n",
       "      <td id=\"T_565ce_row52_col0\" class=\"data row52 col0\" >Features Selection Threshold</td>\n",
       "      <td id=\"T_565ce_row52_col1\" class=\"data row52 col1\" >None</td>\n",
       "    </tr>\n",
       "    <tr>\n",
       "      <th id=\"T_565ce_level0_row53\" class=\"row_heading level0 row53\" >53</th>\n",
       "      <td id=\"T_565ce_row53_col0\" class=\"data row53 col0\" >Feature Interaction</td>\n",
       "      <td id=\"T_565ce_row53_col1\" class=\"data row53 col1\" >False</td>\n",
       "    </tr>\n",
       "    <tr>\n",
       "      <th id=\"T_565ce_level0_row54\" class=\"row_heading level0 row54\" >54</th>\n",
       "      <td id=\"T_565ce_row54_col0\" class=\"data row54 col0\" >Feature Ratio</td>\n",
       "      <td id=\"T_565ce_row54_col1\" class=\"data row54 col1\" >False</td>\n",
       "    </tr>\n",
       "    <tr>\n",
       "      <th id=\"T_565ce_level0_row55\" class=\"row_heading level0 row55\" >55</th>\n",
       "      <td id=\"T_565ce_row55_col0\" class=\"data row55 col0\" >Interaction Threshold</td>\n",
       "      <td id=\"T_565ce_row55_col1\" class=\"data row55 col1\" >None</td>\n",
       "    </tr>\n",
       "    <tr>\n",
       "      <th id=\"T_565ce_level0_row56\" class=\"row_heading level0 row56\" >56</th>\n",
       "      <td id=\"T_565ce_row56_col0\" class=\"data row56 col0\" >Fix Imbalance</td>\n",
       "      <td id=\"T_565ce_row56_col1\" class=\"data row56 col1\" >False</td>\n",
       "    </tr>\n",
       "    <tr>\n",
       "      <th id=\"T_565ce_level0_row57\" class=\"row_heading level0 row57\" >57</th>\n",
       "      <td id=\"T_565ce_row57_col0\" class=\"data row57 col0\" >Fix Imbalance Method</td>\n",
       "      <td id=\"T_565ce_row57_col1\" class=\"data row57 col1\" >SMOTE</td>\n",
       "    </tr>\n",
       "  </tbody>\n",
       "</table>\n"
      ],
      "text/plain": [
       "<pandas.io.formats.style.Styler at 0x1eb17210400>"
      ]
     },
     "metadata": {},
     "output_type": "display_data"
    },
    {
     "ename": "AttributeError",
     "evalue": "'Simple_Imputer' object has no attribute 'fill_value_categorical'",
     "output_type": "error",
     "traceback": [
      "\u001b[1;31m---------------------------------------------------------------------------\u001b[0m",
      "\u001b[1;31mAttributeError\u001b[0m                            Traceback (most recent call last)",
      "\u001b[1;32m~\\AppData\\Local\\Temp/ipykernel_4960/2763663398.py\u001b[0m in \u001b[0;36m<module>\u001b[1;34m\u001b[0m\n\u001b[1;32m----> 1\u001b[1;33m \u001b[0msetup_clf\u001b[0m \u001b[1;33m=\u001b[0m \u001b[0msetup\u001b[0m\u001b[1;33m(\u001b[0m\u001b[0mdata\u001b[0m \u001b[1;33m=\u001b[0m \u001b[0mtrain\u001b[0m\u001b[1;33m,\u001b[0m \u001b[0mtarget\u001b[0m \u001b[1;33m=\u001b[0m \u001b[1;34m'quality'\u001b[0m\u001b[1;33m,\u001b[0m \u001b[0mfold_shuffle\u001b[0m\u001b[1;33m=\u001b[0m\u001b[1;32mTrue\u001b[0m\u001b[1;33m)\u001b[0m\u001b[1;33m\u001b[0m\u001b[1;33m\u001b[0m\u001b[0m\n\u001b[0m",
      "\u001b[1;32m~\\anaconda3\\lib\\site-packages\\pycaret\\classification.py\u001b[0m in \u001b[0;36msetup\u001b[1;34m(data, target, train_size, test_data, preprocess, imputation_type, iterative_imputation_iters, categorical_features, categorical_imputation, categorical_iterative_imputer, ordinal_features, high_cardinality_features, high_cardinality_method, numeric_features, numeric_imputation, numeric_iterative_imputer, date_features, ignore_features, normalize, normalize_method, transformation, transformation_method, handle_unknown_categorical, unknown_categorical_method, pca, pca_method, pca_components, ignore_low_variance, combine_rare_levels, rare_level_threshold, bin_numeric_features, remove_outliers, outliers_threshold, remove_multicollinearity, multicollinearity_threshold, remove_perfect_collinearity, create_clusters, cluster_iter, polynomial_features, polynomial_degree, trigonometry_features, polynomial_threshold, group_features, group_names, feature_selection, feature_selection_threshold, feature_selection_method, feature_interaction, feature_ratio, interaction_threshold, fix_imbalance, fix_imbalance_method, data_split_shuffle, data_split_stratify, fold_strategy, fold, fold_shuffle, fold_groups, n_jobs, use_gpu, custom_pipeline, html, session_id, log_experiment, experiment_name, log_plots, log_profile, log_data, silent, verbose, profile, profile_kwargs)\u001b[0m\n\u001b[0;32m    578\u001b[0m         \u001b[0mlog_plots\u001b[0m \u001b[1;33m=\u001b[0m \u001b[1;33m[\u001b[0m\u001b[1;34m\"auc\"\u001b[0m\u001b[1;33m,\u001b[0m \u001b[1;34m\"confusion_matrix\"\u001b[0m\u001b[1;33m,\u001b[0m \u001b[1;34m\"feature\"\u001b[0m\u001b[1;33m]\u001b[0m\u001b[1;33m\u001b[0m\u001b[1;33m\u001b[0m\u001b[0m\n\u001b[0;32m    579\u001b[0m \u001b[1;33m\u001b[0m\u001b[0m\n\u001b[1;32m--> 580\u001b[1;33m     return pycaret.internal.tabular.setup(\n\u001b[0m\u001b[0;32m    581\u001b[0m         \u001b[0mml_usecase\u001b[0m\u001b[1;33m=\u001b[0m\u001b[1;34m\"classification\"\u001b[0m\u001b[1;33m,\u001b[0m\u001b[1;33m\u001b[0m\u001b[1;33m\u001b[0m\u001b[0m\n\u001b[0;32m    582\u001b[0m         \u001b[0mavailable_plots\u001b[0m\u001b[1;33m=\u001b[0m\u001b[0mavailable_plots\u001b[0m\u001b[1;33m,\u001b[0m\u001b[1;33m\u001b[0m\u001b[1;33m\u001b[0m\u001b[0m\n",
      "\u001b[1;32m~\\anaconda3\\lib\\site-packages\\pycaret\\internal\\tabular.py\u001b[0m in \u001b[0;36msetup\u001b[1;34m(data, target, ml_usecase, available_plots, train_size, test_data, preprocess, imputation_type, iterative_imputation_iters, categorical_features, categorical_imputation, categorical_iterative_imputer, ordinal_features, high_cardinality_features, high_cardinality_method, numeric_features, numeric_imputation, numeric_iterative_imputer, date_features, ignore_features, normalize, normalize_method, transformation, transformation_method, handle_unknown_categorical, unknown_categorical_method, pca, pca_method, pca_components, ignore_low_variance, combine_rare_levels, rare_level_threshold, bin_numeric_features, remove_outliers, outliers_threshold, remove_multicollinearity, multicollinearity_threshold, remove_perfect_collinearity, create_clusters, cluster_iter, polynomial_features, polynomial_degree, trigonometry_features, polynomial_threshold, group_features, group_names, feature_selection, feature_selection_threshold, feature_selection_method, feature_interaction, feature_ratio, interaction_threshold, fix_imbalance, fix_imbalance_method, transform_target, transform_target_method, data_split_shuffle, data_split_stratify, fold_strategy, fold, fold_shuffle, fold_groups, n_jobs, use_gpu, custom_pipeline, html, session_id, log_experiment, experiment_name, log_plots, log_profile, log_data, silent, verbose, profile, profile_kwargs, display)\u001b[0m\n\u001b[0;32m   1743\u001b[0m     \u001b[0mlogger\u001b[0m\u001b[1;33m.\u001b[0m\u001b[0minfo\u001b[0m\u001b[1;33m(\u001b[0m\u001b[1;34mf\"display_container: {len(display_container)}\"\u001b[0m\u001b[1;33m)\u001b[0m\u001b[1;33m\u001b[0m\u001b[1;33m\u001b[0m\u001b[0m\n\u001b[0;32m   1744\u001b[0m \u001b[1;33m\u001b[0m\u001b[0m\n\u001b[1;32m-> 1745\u001b[1;33m     \u001b[0mlogger\u001b[0m\u001b[1;33m.\u001b[0m\u001b[0minfo\u001b[0m\u001b[1;33m(\u001b[0m\u001b[0mstr\u001b[0m\u001b[1;33m(\u001b[0m\u001b[0mprep_pipe\u001b[0m\u001b[1;33m)\u001b[0m\u001b[1;33m)\u001b[0m\u001b[1;33m\u001b[0m\u001b[1;33m\u001b[0m\u001b[0m\n\u001b[0m\u001b[0;32m   1746\u001b[0m     \u001b[0mlogger\u001b[0m\u001b[1;33m.\u001b[0m\u001b[0minfo\u001b[0m\u001b[1;33m(\u001b[0m\u001b[1;34m\"setup() succesfully completed......................................\"\u001b[0m\u001b[1;33m)\u001b[0m\u001b[1;33m\u001b[0m\u001b[1;33m\u001b[0m\u001b[0m\n\u001b[0;32m   1747\u001b[0m \u001b[1;33m\u001b[0m\u001b[0m\n",
      "\u001b[1;32m~\\anaconda3\\lib\\site-packages\\sklearn\\base.py\u001b[0m in \u001b[0;36m__repr__\u001b[1;34m(self, N_CHAR_MAX)\u001b[0m\n\u001b[0;32m    277\u001b[0m         )\n\u001b[0;32m    278\u001b[0m \u001b[1;33m\u001b[0m\u001b[0m\n\u001b[1;32m--> 279\u001b[1;33m         \u001b[0mrepr_\u001b[0m \u001b[1;33m=\u001b[0m \u001b[0mpp\u001b[0m\u001b[1;33m.\u001b[0m\u001b[0mpformat\u001b[0m\u001b[1;33m(\u001b[0m\u001b[0mself\u001b[0m\u001b[1;33m)\u001b[0m\u001b[1;33m\u001b[0m\u001b[1;33m\u001b[0m\u001b[0m\n\u001b[0m\u001b[0;32m    280\u001b[0m \u001b[1;33m\u001b[0m\u001b[0m\n\u001b[0;32m    281\u001b[0m         \u001b[1;31m# Use bruteforce ellipsis when there are a lot of non-blank characters\u001b[0m\u001b[1;33m\u001b[0m\u001b[1;33m\u001b[0m\u001b[0m\n",
      "\u001b[1;32m~\\anaconda3\\lib\\pprint.py\u001b[0m in \u001b[0;36mpformat\u001b[1;34m(self, object)\u001b[0m\n\u001b[0;32m    151\u001b[0m     \u001b[1;32mdef\u001b[0m \u001b[0mpformat\u001b[0m\u001b[1;33m(\u001b[0m\u001b[0mself\u001b[0m\u001b[1;33m,\u001b[0m \u001b[0mobject\u001b[0m\u001b[1;33m)\u001b[0m\u001b[1;33m:\u001b[0m\u001b[1;33m\u001b[0m\u001b[1;33m\u001b[0m\u001b[0m\n\u001b[0;32m    152\u001b[0m         \u001b[0msio\u001b[0m \u001b[1;33m=\u001b[0m \u001b[0m_StringIO\u001b[0m\u001b[1;33m(\u001b[0m\u001b[1;33m)\u001b[0m\u001b[1;33m\u001b[0m\u001b[1;33m\u001b[0m\u001b[0m\n\u001b[1;32m--> 153\u001b[1;33m         \u001b[0mself\u001b[0m\u001b[1;33m.\u001b[0m\u001b[0m_format\u001b[0m\u001b[1;33m(\u001b[0m\u001b[0mobject\u001b[0m\u001b[1;33m,\u001b[0m \u001b[0msio\u001b[0m\u001b[1;33m,\u001b[0m \u001b[1;36m0\u001b[0m\u001b[1;33m,\u001b[0m \u001b[1;36m0\u001b[0m\u001b[1;33m,\u001b[0m \u001b[1;33m{\u001b[0m\u001b[1;33m}\u001b[0m\u001b[1;33m,\u001b[0m \u001b[1;36m0\u001b[0m\u001b[1;33m)\u001b[0m\u001b[1;33m\u001b[0m\u001b[1;33m\u001b[0m\u001b[0m\n\u001b[0m\u001b[0;32m    154\u001b[0m         \u001b[1;32mreturn\u001b[0m \u001b[0msio\u001b[0m\u001b[1;33m.\u001b[0m\u001b[0mgetvalue\u001b[0m\u001b[1;33m(\u001b[0m\u001b[1;33m)\u001b[0m\u001b[1;33m\u001b[0m\u001b[1;33m\u001b[0m\u001b[0m\n\u001b[0;32m    155\u001b[0m \u001b[1;33m\u001b[0m\u001b[0m\n",
      "\u001b[1;32m~\\anaconda3\\lib\\pprint.py\u001b[0m in \u001b[0;36m_format\u001b[1;34m(self, object, stream, indent, allowance, context, level)\u001b[0m\n\u001b[0;32m    168\u001b[0m             \u001b[0mself\u001b[0m\u001b[1;33m.\u001b[0m\u001b[0m_readable\u001b[0m \u001b[1;33m=\u001b[0m \u001b[1;32mFalse\u001b[0m\u001b[1;33m\u001b[0m\u001b[1;33m\u001b[0m\u001b[0m\n\u001b[0;32m    169\u001b[0m             \u001b[1;32mreturn\u001b[0m\u001b[1;33m\u001b[0m\u001b[1;33m\u001b[0m\u001b[0m\n\u001b[1;32m--> 170\u001b[1;33m         \u001b[0mrep\u001b[0m \u001b[1;33m=\u001b[0m \u001b[0mself\u001b[0m\u001b[1;33m.\u001b[0m\u001b[0m_repr\u001b[0m\u001b[1;33m(\u001b[0m\u001b[0mobject\u001b[0m\u001b[1;33m,\u001b[0m \u001b[0mcontext\u001b[0m\u001b[1;33m,\u001b[0m \u001b[0mlevel\u001b[0m\u001b[1;33m)\u001b[0m\u001b[1;33m\u001b[0m\u001b[1;33m\u001b[0m\u001b[0m\n\u001b[0m\u001b[0;32m    171\u001b[0m         \u001b[0mmax_width\u001b[0m \u001b[1;33m=\u001b[0m \u001b[0mself\u001b[0m\u001b[1;33m.\u001b[0m\u001b[0m_width\u001b[0m \u001b[1;33m-\u001b[0m \u001b[0mindent\u001b[0m \u001b[1;33m-\u001b[0m \u001b[0mallowance\u001b[0m\u001b[1;33m\u001b[0m\u001b[1;33m\u001b[0m\u001b[0m\n\u001b[0;32m    172\u001b[0m         \u001b[1;32mif\u001b[0m \u001b[0mlen\u001b[0m\u001b[1;33m(\u001b[0m\u001b[0mrep\u001b[0m\u001b[1;33m)\u001b[0m \u001b[1;33m>\u001b[0m \u001b[0mmax_width\u001b[0m\u001b[1;33m:\u001b[0m\u001b[1;33m\u001b[0m\u001b[1;33m\u001b[0m\u001b[0m\n",
      "\u001b[1;32m~\\anaconda3\\lib\\pprint.py\u001b[0m in \u001b[0;36m_repr\u001b[1;34m(self, object, context, level)\u001b[0m\n\u001b[0;32m    429\u001b[0m \u001b[1;33m\u001b[0m\u001b[0m\n\u001b[0;32m    430\u001b[0m     \u001b[1;32mdef\u001b[0m \u001b[0m_repr\u001b[0m\u001b[1;33m(\u001b[0m\u001b[0mself\u001b[0m\u001b[1;33m,\u001b[0m \u001b[0mobject\u001b[0m\u001b[1;33m,\u001b[0m \u001b[0mcontext\u001b[0m\u001b[1;33m,\u001b[0m \u001b[0mlevel\u001b[0m\u001b[1;33m)\u001b[0m\u001b[1;33m:\u001b[0m\u001b[1;33m\u001b[0m\u001b[1;33m\u001b[0m\u001b[0m\n\u001b[1;32m--> 431\u001b[1;33m         repr, readable, recursive = self.format(object, context.copy(),\n\u001b[0m\u001b[0;32m    432\u001b[0m                                                 self._depth, level)\n\u001b[0;32m    433\u001b[0m         \u001b[1;32mif\u001b[0m \u001b[1;32mnot\u001b[0m \u001b[0mreadable\u001b[0m\u001b[1;33m:\u001b[0m\u001b[1;33m\u001b[0m\u001b[1;33m\u001b[0m\u001b[0m\n",
      "\u001b[1;32m~\\anaconda3\\lib\\site-packages\\sklearn\\utils\\_pprint.py\u001b[0m in \u001b[0;36mformat\u001b[1;34m(self, object, context, maxlevels, level)\u001b[0m\n\u001b[0;32m    187\u001b[0m \u001b[1;33m\u001b[0m\u001b[0m\n\u001b[0;32m    188\u001b[0m     \u001b[1;32mdef\u001b[0m \u001b[0mformat\u001b[0m\u001b[1;33m(\u001b[0m\u001b[0mself\u001b[0m\u001b[1;33m,\u001b[0m \u001b[0mobject\u001b[0m\u001b[1;33m,\u001b[0m \u001b[0mcontext\u001b[0m\u001b[1;33m,\u001b[0m \u001b[0mmaxlevels\u001b[0m\u001b[1;33m,\u001b[0m \u001b[0mlevel\u001b[0m\u001b[1;33m)\u001b[0m\u001b[1;33m:\u001b[0m\u001b[1;33m\u001b[0m\u001b[1;33m\u001b[0m\u001b[0m\n\u001b[1;32m--> 189\u001b[1;33m         return _safe_repr(\n\u001b[0m\u001b[0;32m    190\u001b[0m             \u001b[0mobject\u001b[0m\u001b[1;33m,\u001b[0m \u001b[0mcontext\u001b[0m\u001b[1;33m,\u001b[0m \u001b[0mmaxlevels\u001b[0m\u001b[1;33m,\u001b[0m \u001b[0mlevel\u001b[0m\u001b[1;33m,\u001b[0m \u001b[0mchanged_only\u001b[0m\u001b[1;33m=\u001b[0m\u001b[0mself\u001b[0m\u001b[1;33m.\u001b[0m\u001b[0m_changed_only\u001b[0m\u001b[1;33m\u001b[0m\u001b[1;33m\u001b[0m\u001b[0m\n\u001b[0;32m    191\u001b[0m         )\n",
      "\u001b[1;32m~\\anaconda3\\lib\\site-packages\\sklearn\\utils\\_pprint.py\u001b[0m in \u001b[0;36m_safe_repr\u001b[1;34m(object, context, maxlevels, level, changed_only)\u001b[0m\n\u001b[0;32m    450\u001b[0m                 \u001b[0mk\u001b[0m\u001b[1;33m,\u001b[0m \u001b[0mcontext\u001b[0m\u001b[1;33m,\u001b[0m \u001b[0mmaxlevels\u001b[0m\u001b[1;33m,\u001b[0m \u001b[0mlevel\u001b[0m\u001b[1;33m,\u001b[0m \u001b[0mchanged_only\u001b[0m\u001b[1;33m=\u001b[0m\u001b[0mchanged_only\u001b[0m\u001b[1;33m\u001b[0m\u001b[1;33m\u001b[0m\u001b[0m\n\u001b[0;32m    451\u001b[0m             )\n\u001b[1;32m--> 452\u001b[1;33m             vrepr, vreadable, vrecur = saferepr(\n\u001b[0m\u001b[0;32m    453\u001b[0m                 \u001b[0mv\u001b[0m\u001b[1;33m,\u001b[0m \u001b[0mcontext\u001b[0m\u001b[1;33m,\u001b[0m \u001b[0mmaxlevels\u001b[0m\u001b[1;33m,\u001b[0m \u001b[0mlevel\u001b[0m\u001b[1;33m,\u001b[0m \u001b[0mchanged_only\u001b[0m\u001b[1;33m=\u001b[0m\u001b[0mchanged_only\u001b[0m\u001b[1;33m\u001b[0m\u001b[1;33m\u001b[0m\u001b[0m\n\u001b[0;32m    454\u001b[0m             )\n",
      "\u001b[1;32m~\\anaconda3\\lib\\site-packages\\sklearn\\utils\\_pprint.py\u001b[0m in \u001b[0;36m_safe_repr\u001b[1;34m(object, context, maxlevels, level, changed_only)\u001b[0m\n\u001b[0;32m    417\u001b[0m         \u001b[0mlevel\u001b[0m \u001b[1;33m+=\u001b[0m \u001b[1;36m1\u001b[0m\u001b[1;33m\u001b[0m\u001b[1;33m\u001b[0m\u001b[0m\n\u001b[0;32m    418\u001b[0m         \u001b[1;32mfor\u001b[0m \u001b[0mo\u001b[0m \u001b[1;32min\u001b[0m \u001b[0mobject\u001b[0m\u001b[1;33m:\u001b[0m\u001b[1;33m\u001b[0m\u001b[1;33m\u001b[0m\u001b[0m\n\u001b[1;32m--> 419\u001b[1;33m             orepr, oreadable, orecur = _safe_repr(\n\u001b[0m\u001b[0;32m    420\u001b[0m                 \u001b[0mo\u001b[0m\u001b[1;33m,\u001b[0m \u001b[0mcontext\u001b[0m\u001b[1;33m,\u001b[0m \u001b[0mmaxlevels\u001b[0m\u001b[1;33m,\u001b[0m \u001b[0mlevel\u001b[0m\u001b[1;33m,\u001b[0m \u001b[0mchanged_only\u001b[0m\u001b[1;33m=\u001b[0m\u001b[0mchanged_only\u001b[0m\u001b[1;33m\u001b[0m\u001b[1;33m\u001b[0m\u001b[0m\n\u001b[0;32m    421\u001b[0m             )\n",
      "\u001b[1;32m~\\anaconda3\\lib\\site-packages\\sklearn\\utils\\_pprint.py\u001b[0m in \u001b[0;36m_safe_repr\u001b[1;34m(object, context, maxlevels, level, changed_only)\u001b[0m\n\u001b[0;32m    417\u001b[0m         \u001b[0mlevel\u001b[0m \u001b[1;33m+=\u001b[0m \u001b[1;36m1\u001b[0m\u001b[1;33m\u001b[0m\u001b[1;33m\u001b[0m\u001b[0m\n\u001b[0;32m    418\u001b[0m         \u001b[1;32mfor\u001b[0m \u001b[0mo\u001b[0m \u001b[1;32min\u001b[0m \u001b[0mobject\u001b[0m\u001b[1;33m:\u001b[0m\u001b[1;33m\u001b[0m\u001b[1;33m\u001b[0m\u001b[0m\n\u001b[1;32m--> 419\u001b[1;33m             orepr, oreadable, orecur = _safe_repr(\n\u001b[0m\u001b[0;32m    420\u001b[0m                 \u001b[0mo\u001b[0m\u001b[1;33m,\u001b[0m \u001b[0mcontext\u001b[0m\u001b[1;33m,\u001b[0m \u001b[0mmaxlevels\u001b[0m\u001b[1;33m,\u001b[0m \u001b[0mlevel\u001b[0m\u001b[1;33m,\u001b[0m \u001b[0mchanged_only\u001b[0m\u001b[1;33m=\u001b[0m\u001b[0mchanged_only\u001b[0m\u001b[1;33m\u001b[0m\u001b[1;33m\u001b[0m\u001b[0m\n\u001b[0;32m    421\u001b[0m             )\n",
      "\u001b[1;32m~\\anaconda3\\lib\\site-packages\\sklearn\\utils\\_pprint.py\u001b[0m in \u001b[0;36m_safe_repr\u001b[1;34m(object, context, maxlevels, level, changed_only)\u001b[0m\n\u001b[0;32m    440\u001b[0m             \u001b[0mparams\u001b[0m \u001b[1;33m=\u001b[0m \u001b[0m_changed_params\u001b[0m\u001b[1;33m(\u001b[0m\u001b[0mobject\u001b[0m\u001b[1;33m)\u001b[0m\u001b[1;33m\u001b[0m\u001b[1;33m\u001b[0m\u001b[0m\n\u001b[0;32m    441\u001b[0m         \u001b[1;32melse\u001b[0m\u001b[1;33m:\u001b[0m\u001b[1;33m\u001b[0m\u001b[1;33m\u001b[0m\u001b[0m\n\u001b[1;32m--> 442\u001b[1;33m             \u001b[0mparams\u001b[0m \u001b[1;33m=\u001b[0m \u001b[0mobject\u001b[0m\u001b[1;33m.\u001b[0m\u001b[0mget_params\u001b[0m\u001b[1;33m(\u001b[0m\u001b[0mdeep\u001b[0m\u001b[1;33m=\u001b[0m\u001b[1;32mFalse\u001b[0m\u001b[1;33m)\u001b[0m\u001b[1;33m\u001b[0m\u001b[1;33m\u001b[0m\u001b[0m\n\u001b[0m\u001b[0;32m    443\u001b[0m         \u001b[0mcomponents\u001b[0m \u001b[1;33m=\u001b[0m \u001b[1;33m[\u001b[0m\u001b[1;33m]\u001b[0m\u001b[1;33m\u001b[0m\u001b[1;33m\u001b[0m\u001b[0m\n\u001b[0;32m    444\u001b[0m         \u001b[0mappend\u001b[0m \u001b[1;33m=\u001b[0m \u001b[0mcomponents\u001b[0m\u001b[1;33m.\u001b[0m\u001b[0mappend\u001b[0m\u001b[1;33m\u001b[0m\u001b[1;33m\u001b[0m\u001b[0m\n",
      "\u001b[1;32m~\\anaconda3\\lib\\site-packages\\sklearn\\base.py\u001b[0m in \u001b[0;36mget_params\u001b[1;34m(self, deep)\u001b[0m\n\u001b[0;32m    208\u001b[0m         \u001b[0mout\u001b[0m \u001b[1;33m=\u001b[0m \u001b[0mdict\u001b[0m\u001b[1;33m(\u001b[0m\u001b[1;33m)\u001b[0m\u001b[1;33m\u001b[0m\u001b[1;33m\u001b[0m\u001b[0m\n\u001b[0;32m    209\u001b[0m         \u001b[1;32mfor\u001b[0m \u001b[0mkey\u001b[0m \u001b[1;32min\u001b[0m \u001b[0mself\u001b[0m\u001b[1;33m.\u001b[0m\u001b[0m_get_param_names\u001b[0m\u001b[1;33m(\u001b[0m\u001b[1;33m)\u001b[0m\u001b[1;33m:\u001b[0m\u001b[1;33m\u001b[0m\u001b[1;33m\u001b[0m\u001b[0m\n\u001b[1;32m--> 210\u001b[1;33m             \u001b[0mvalue\u001b[0m \u001b[1;33m=\u001b[0m \u001b[0mgetattr\u001b[0m\u001b[1;33m(\u001b[0m\u001b[0mself\u001b[0m\u001b[1;33m,\u001b[0m \u001b[0mkey\u001b[0m\u001b[1;33m)\u001b[0m\u001b[1;33m\u001b[0m\u001b[1;33m\u001b[0m\u001b[0m\n\u001b[0m\u001b[0;32m    211\u001b[0m             \u001b[1;32mif\u001b[0m \u001b[0mdeep\u001b[0m \u001b[1;32mand\u001b[0m \u001b[0mhasattr\u001b[0m\u001b[1;33m(\u001b[0m\u001b[0mvalue\u001b[0m\u001b[1;33m,\u001b[0m \u001b[1;34m\"get_params\"\u001b[0m\u001b[1;33m)\u001b[0m\u001b[1;33m:\u001b[0m\u001b[1;33m\u001b[0m\u001b[1;33m\u001b[0m\u001b[0m\n\u001b[0;32m    212\u001b[0m                 \u001b[0mdeep_items\u001b[0m \u001b[1;33m=\u001b[0m \u001b[0mvalue\u001b[0m\u001b[1;33m.\u001b[0m\u001b[0mget_params\u001b[0m\u001b[1;33m(\u001b[0m\u001b[1;33m)\u001b[0m\u001b[1;33m.\u001b[0m\u001b[0mitems\u001b[0m\u001b[1;33m(\u001b[0m\u001b[1;33m)\u001b[0m\u001b[1;33m\u001b[0m\u001b[1;33m\u001b[0m\u001b[0m\n",
      "\u001b[1;31mAttributeError\u001b[0m: 'Simple_Imputer' object has no attribute 'fill_value_categorical'"
     ]
    }
   ],
   "source": [
    "setup_clf = setup(data = train, target = 'quality', fold_shuffle=True)"
   ]
  },
  {
   "cell_type": "code",
   "execution_count": 18,
   "id": "bea24ac4",
   "metadata": {},
   "outputs": [
    {
     "data": {
      "text/html": [
       "<style type=\"text/css\">\n",
       "#T_b24c1_ th {\n",
       "  text-align: left;\n",
       "}\n",
       "#T_b24c1_row0_col0, #T_b24c1_row0_col2, #T_b24c1_row0_col3, #T_b24c1_row1_col0, #T_b24c1_row1_col1, #T_b24c1_row1_col4, #T_b24c1_row1_col5, #T_b24c1_row1_col6, #T_b24c1_row1_col7, #T_b24c1_row2_col0, #T_b24c1_row2_col1, #T_b24c1_row2_col2, #T_b24c1_row2_col3, #T_b24c1_row2_col4, #T_b24c1_row2_col5, #T_b24c1_row2_col6, #T_b24c1_row2_col7, #T_b24c1_row3_col0, #T_b24c1_row3_col1, #T_b24c1_row3_col2, #T_b24c1_row3_col3, #T_b24c1_row3_col4, #T_b24c1_row3_col5, #T_b24c1_row3_col6, #T_b24c1_row3_col7, #T_b24c1_row4_col0, #T_b24c1_row4_col1, #T_b24c1_row4_col2, #T_b24c1_row4_col3, #T_b24c1_row4_col4, #T_b24c1_row4_col5, #T_b24c1_row4_col6, #T_b24c1_row4_col7, #T_b24c1_row5_col0, #T_b24c1_row5_col1, #T_b24c1_row5_col2, #T_b24c1_row5_col3, #T_b24c1_row5_col4, #T_b24c1_row5_col5, #T_b24c1_row5_col6, #T_b24c1_row5_col7, #T_b24c1_row6_col0, #T_b24c1_row6_col1, #T_b24c1_row6_col2, #T_b24c1_row6_col3, #T_b24c1_row6_col4, #T_b24c1_row6_col5, #T_b24c1_row6_col6, #T_b24c1_row6_col7, #T_b24c1_row7_col0, #T_b24c1_row7_col1, #T_b24c1_row7_col2, #T_b24c1_row7_col3, #T_b24c1_row7_col4, #T_b24c1_row7_col5, #T_b24c1_row7_col6, #T_b24c1_row7_col7, #T_b24c1_row8_col0, #T_b24c1_row8_col1, #T_b24c1_row8_col2, #T_b24c1_row8_col3, #T_b24c1_row8_col4, #T_b24c1_row8_col5, #T_b24c1_row8_col6, #T_b24c1_row8_col7, #T_b24c1_row9_col0, #T_b24c1_row9_col1, #T_b24c1_row9_col2, #T_b24c1_row9_col3, #T_b24c1_row9_col4, #T_b24c1_row9_col5, #T_b24c1_row9_col6, #T_b24c1_row9_col7, #T_b24c1_row10_col0, #T_b24c1_row10_col1, #T_b24c1_row10_col2, #T_b24c1_row10_col3, #T_b24c1_row10_col4, #T_b24c1_row10_col5, #T_b24c1_row10_col6, #T_b24c1_row10_col7, #T_b24c1_row11_col0, #T_b24c1_row11_col1, #T_b24c1_row11_col2, #T_b24c1_row11_col3, #T_b24c1_row11_col4, #T_b24c1_row11_col5, #T_b24c1_row11_col6, #T_b24c1_row11_col7, #T_b24c1_row12_col0, #T_b24c1_row12_col1, #T_b24c1_row12_col2, #T_b24c1_row12_col3, #T_b24c1_row12_col4, #T_b24c1_row12_col5, #T_b24c1_row12_col6, #T_b24c1_row12_col7, #T_b24c1_row13_col0, #T_b24c1_row13_col1, #T_b24c1_row13_col2, #T_b24c1_row13_col3, #T_b24c1_row13_col4, #T_b24c1_row13_col5, #T_b24c1_row13_col6, #T_b24c1_row13_col7, #T_b24c1_row14_col0, #T_b24c1_row14_col1, #T_b24c1_row14_col2, #T_b24c1_row14_col3, #T_b24c1_row14_col4, #T_b24c1_row14_col5, #T_b24c1_row14_col6, #T_b24c1_row14_col7 {\n",
       "  text-align: left;\n",
       "}\n",
       "#T_b24c1_row0_col1, #T_b24c1_row0_col4, #T_b24c1_row0_col5, #T_b24c1_row0_col6, #T_b24c1_row0_col7, #T_b24c1_row1_col2, #T_b24c1_row1_col3 {\n",
       "  text-align: left;\n",
       "  background-color: yellow;\n",
       "}\n",
       "#T_b24c1_row0_col8, #T_b24c1_row1_col8, #T_b24c1_row2_col8, #T_b24c1_row3_col8, #T_b24c1_row4_col8, #T_b24c1_row5_col8, #T_b24c1_row6_col8, #T_b24c1_row7_col8, #T_b24c1_row8_col8, #T_b24c1_row9_col8, #T_b24c1_row10_col8, #T_b24c1_row12_col8, #T_b24c1_row13_col8 {\n",
       "  text-align: left;\n",
       "  background-color: lightgrey;\n",
       "}\n",
       "#T_b24c1_row11_col8, #T_b24c1_row14_col8 {\n",
       "  text-align: left;\n",
       "  background-color: yellow;\n",
       "  background-color: lightgrey;\n",
       "}\n",
       "</style>\n",
       "<table id=\"T_b24c1_\">\n",
       "  <thead>\n",
       "    <tr>\n",
       "      <th class=\"blank level0\" >&nbsp;</th>\n",
       "      <th class=\"col_heading level0 col0\" >Model</th>\n",
       "      <th class=\"col_heading level0 col1\" >Accuracy</th>\n",
       "      <th class=\"col_heading level0 col2\" >AUC</th>\n",
       "      <th class=\"col_heading level0 col3\" >Recall</th>\n",
       "      <th class=\"col_heading level0 col4\" >Prec.</th>\n",
       "      <th class=\"col_heading level0 col5\" >F1</th>\n",
       "      <th class=\"col_heading level0 col6\" >Kappa</th>\n",
       "      <th class=\"col_heading level0 col7\" >MCC</th>\n",
       "      <th class=\"col_heading level0 col8\" >TT (Sec)</th>\n",
       "    </tr>\n",
       "  </thead>\n",
       "  <tbody>\n",
       "    <tr>\n",
       "      <th id=\"T_b24c1_level0_row0\" class=\"row_heading level0 row0\" >rf</th>\n",
       "      <td id=\"T_b24c1_row0_col0\" class=\"data row0 col0\" >Random Forest Classifier</td>\n",
       "      <td id=\"T_b24c1_row0_col1\" class=\"data row0 col1\" >0.6384</td>\n",
       "      <td id=\"T_b24c1_row0_col2\" class=\"data row0 col2\" >0.3233</td>\n",
       "      <td id=\"T_b24c1_row0_col3\" class=\"data row0 col3\" >0.3674</td>\n",
       "      <td id=\"T_b24c1_row0_col4\" class=\"data row0 col4\" >0.6486</td>\n",
       "      <td id=\"T_b24c1_row0_col5\" class=\"data row0 col5\" >0.6244</td>\n",
       "      <td id=\"T_b24c1_row0_col6\" class=\"data row0 col6\" >0.4326</td>\n",
       "      <td id=\"T_b24c1_row0_col7\" class=\"data row0 col7\" >0.4385</td>\n",
       "      <td id=\"T_b24c1_row0_col8\" class=\"data row0 col8\" >0.1420</td>\n",
       "    </tr>\n",
       "    <tr>\n",
       "      <th id=\"T_b24c1_level0_row1\" class=\"row_heading level0 row1\" >et</th>\n",
       "      <td id=\"T_b24c1_row1_col0\" class=\"data row1 col0\" >Extra Trees Classifier</td>\n",
       "      <td id=\"T_b24c1_row1_col1\" class=\"data row1 col1\" >0.6311</td>\n",
       "      <td id=\"T_b24c1_row1_col2\" class=\"data row1 col2\" >0.3253</td>\n",
       "      <td id=\"T_b24c1_row1_col3\" class=\"data row1 col3\" >0.3682</td>\n",
       "      <td id=\"T_b24c1_row1_col4\" class=\"data row1 col4\" >0.6399</td>\n",
       "      <td id=\"T_b24c1_row1_col5\" class=\"data row1 col5\" >0.6176</td>\n",
       "      <td id=\"T_b24c1_row1_col6\" class=\"data row1 col6\" >0.4211</td>\n",
       "      <td id=\"T_b24c1_row1_col7\" class=\"data row1 col7\" >0.4272</td>\n",
       "      <td id=\"T_b24c1_row1_col8\" class=\"data row1 col8\" >0.1220</td>\n",
       "    </tr>\n",
       "    <tr>\n",
       "      <th id=\"T_b24c1_level0_row2\" class=\"row_heading level0 row2\" >xgboost</th>\n",
       "      <td id=\"T_b24c1_row2_col0\" class=\"data row2 col0\" >Extreme Gradient Boosting</td>\n",
       "      <td id=\"T_b24c1_row2_col1\" class=\"data row2 col1\" >0.6189</td>\n",
       "      <td id=\"T_b24c1_row2_col2\" class=\"data row2 col2\" >0.3175</td>\n",
       "      <td id=\"T_b24c1_row2_col3\" class=\"data row2 col3\" >0.3629</td>\n",
       "      <td id=\"T_b24c1_row2_col4\" class=\"data row2 col4\" >0.6166</td>\n",
       "      <td id=\"T_b24c1_row2_col5\" class=\"data row2 col5\" >0.6074</td>\n",
       "      <td id=\"T_b24c1_row2_col6\" class=\"data row2 col6\" >0.4089</td>\n",
       "      <td id=\"T_b24c1_row2_col7\" class=\"data row2 col7\" >0.4122</td>\n",
       "      <td id=\"T_b24c1_row2_col8\" class=\"data row2 col8\" >0.6620</td>\n",
       "    </tr>\n",
       "    <tr>\n",
       "      <th id=\"T_b24c1_level0_row3\" class=\"row_heading level0 row3\" >catboost</th>\n",
       "      <td id=\"T_b24c1_row3_col0\" class=\"data row3 col0\" >CatBoost Classifier</td>\n",
       "      <td id=\"T_b24c1_row3_col1\" class=\"data row3 col1\" >0.6171</td>\n",
       "      <td id=\"T_b24c1_row3_col2\" class=\"data row3 col2\" >0.3181</td>\n",
       "      <td id=\"T_b24c1_row3_col3\" class=\"data row3 col3\" >0.3674</td>\n",
       "      <td id=\"T_b24c1_row3_col4\" class=\"data row3 col4\" >0.6161</td>\n",
       "      <td id=\"T_b24c1_row3_col5\" class=\"data row3 col5\" >0.6063</td>\n",
       "      <td id=\"T_b24c1_row3_col6\" class=\"data row3 col6\" >0.4060</td>\n",
       "      <td id=\"T_b24c1_row3_col7\" class=\"data row3 col7\" >0.4092</td>\n",
       "      <td id=\"T_b24c1_row3_col8\" class=\"data row3 col8\" >3.7860</td>\n",
       "    </tr>\n",
       "    <tr>\n",
       "      <th id=\"T_b24c1_level0_row4\" class=\"row_heading level0 row4\" >lightgbm</th>\n",
       "      <td id=\"T_b24c1_row4_col0\" class=\"data row4 col0\" >Light Gradient Boosting Machine</td>\n",
       "      <td id=\"T_b24c1_row4_col1\" class=\"data row4 col1\" >0.6005</td>\n",
       "      <td id=\"T_b24c1_row4_col2\" class=\"data row4 col2\" >0.3166</td>\n",
       "      <td id=\"T_b24c1_row4_col3\" class=\"data row4 col3\" >0.3408</td>\n",
       "      <td id=\"T_b24c1_row4_col4\" class=\"data row4 col4\" >0.6030</td>\n",
       "      <td id=\"T_b24c1_row4_col5\" class=\"data row4 col5\" >0.5919</td>\n",
       "      <td id=\"T_b24c1_row4_col6\" class=\"data row4 col6\" >0.3871</td>\n",
       "      <td id=\"T_b24c1_row4_col7\" class=\"data row4 col7\" >0.3905</td>\n",
       "      <td id=\"T_b24c1_row4_col8\" class=\"data row4 col8\" >0.3920</td>\n",
       "    </tr>\n",
       "    <tr>\n",
       "      <th id=\"T_b24c1_level0_row5\" class=\"row_heading level0 row5\" >gbc</th>\n",
       "      <td id=\"T_b24c1_row5_col0\" class=\"data row5 col0\" >Gradient Boosting Classifier</td>\n",
       "      <td id=\"T_b24c1_row5_col1\" class=\"data row5 col1\" >0.5701</td>\n",
       "      <td id=\"T_b24c1_row5_col2\" class=\"data row5 col2\" >0.3018</td>\n",
       "      <td id=\"T_b24c1_row5_col3\" class=\"data row5 col3\" >0.3074</td>\n",
       "      <td id=\"T_b24c1_row5_col4\" class=\"data row5 col4\" >0.5616</td>\n",
       "      <td id=\"T_b24c1_row5_col5\" class=\"data row5 col5\" >0.5553</td>\n",
       "      <td id=\"T_b24c1_row5_col6\" class=\"data row5 col6\" >0.3269</td>\n",
       "      <td id=\"T_b24c1_row5_col7\" class=\"data row5 col7\" >0.3320</td>\n",
       "      <td id=\"T_b24c1_row5_col8\" class=\"data row5 col8\" >0.8300</td>\n",
       "    </tr>\n",
       "    <tr>\n",
       "      <th id=\"T_b24c1_level0_row6\" class=\"row_heading level0 row6\" >dt</th>\n",
       "      <td id=\"T_b24c1_row6_col0\" class=\"data row6 col0\" >Decision Tree Classifier</td>\n",
       "      <td id=\"T_b24c1_row6_col1\" class=\"data row6 col1\" >0.5583</td>\n",
       "      <td id=\"T_b24c1_row6_col2\" class=\"data row6 col2\" >0.2722</td>\n",
       "      <td id=\"T_b24c1_row6_col3\" class=\"data row6 col3\" >0.3460</td>\n",
       "      <td id=\"T_b24c1_row6_col4\" class=\"data row6 col4\" >0.5564</td>\n",
       "      <td id=\"T_b24c1_row6_col5\" class=\"data row6 col5\" >0.5565</td>\n",
       "      <td id=\"T_b24c1_row6_col6\" class=\"data row6 col6\" >0.3407</td>\n",
       "      <td id=\"T_b24c1_row6_col7\" class=\"data row6 col7\" >0.3411</td>\n",
       "      <td id=\"T_b24c1_row6_col8\" class=\"data row6 col8\" >0.0100</td>\n",
       "    </tr>\n",
       "    <tr>\n",
       "      <th id=\"T_b24c1_level0_row7\" class=\"row_heading level0 row7\" >lda</th>\n",
       "      <td id=\"T_b24c1_row7_col0\" class=\"data row7 col0\" >Linear Discriminant Analysis</td>\n",
       "      <td id=\"T_b24c1_row7_col1\" class=\"data row7 col1\" >0.5334</td>\n",
       "      <td id=\"T_b24c1_row7_col2\" class=\"data row7 col2\" >0.2863</td>\n",
       "      <td id=\"T_b24c1_row7_col3\" class=\"data row7 col3\" >0.2651</td>\n",
       "      <td id=\"T_b24c1_row7_col4\" class=\"data row7 col4\" >0.5272</td>\n",
       "      <td id=\"T_b24c1_row7_col5\" class=\"data row7 col5\" >0.5115</td>\n",
       "      <td id=\"T_b24c1_row7_col6\" class=\"data row7 col6\" >0.2601</td>\n",
       "      <td id=\"T_b24c1_row7_col7\" class=\"data row7 col7\" >0.2667</td>\n",
       "      <td id=\"T_b24c1_row7_col8\" class=\"data row7 col8\" >0.0100</td>\n",
       "    </tr>\n",
       "    <tr>\n",
       "      <th id=\"T_b24c1_level0_row8\" class=\"row_heading level0 row8\" >ridge</th>\n",
       "      <td id=\"T_b24c1_row8_col0\" class=\"data row8 col0\" >Ridge Classifier</td>\n",
       "      <td id=\"T_b24c1_row8_col1\" class=\"data row8 col1\" >0.5295</td>\n",
       "      <td id=\"T_b24c1_row8_col2\" class=\"data row8 col2\" >0.0000</td>\n",
       "      <td id=\"T_b24c1_row8_col3\" class=\"data row8 col3\" >0.2167</td>\n",
       "      <td id=\"T_b24c1_row8_col4\" class=\"data row8 col4\" >0.5024</td>\n",
       "      <td id=\"T_b24c1_row8_col5\" class=\"data row8 col5\" >0.4624</td>\n",
       "      <td id=\"T_b24c1_row8_col6\" class=\"data row8 col6\" >0.2188</td>\n",
       "      <td id=\"T_b24c1_row8_col7\" class=\"data row8 col7\" >0.2381</td>\n",
       "      <td id=\"T_b24c1_row8_col8\" class=\"data row8 col8\" >0.0100</td>\n",
       "    </tr>\n",
       "    <tr>\n",
       "      <th id=\"T_b24c1_level0_row9\" class=\"row_heading level0 row9\" >lr</th>\n",
       "      <td id=\"T_b24c1_row9_col0\" class=\"data row9 col0\" >Logistic Regression</td>\n",
       "      <td id=\"T_b24c1_row9_col1\" class=\"data row9 col1\" >0.5274</td>\n",
       "      <td id=\"T_b24c1_row9_col2\" class=\"data row9 col2\" >0.2758</td>\n",
       "      <td id=\"T_b24c1_row9_col3\" class=\"data row9 col3\" >0.2248</td>\n",
       "      <td id=\"T_b24c1_row9_col4\" class=\"data row9 col4\" >0.4871</td>\n",
       "      <td id=\"T_b24c1_row9_col5\" class=\"data row9 col5\" >0.4820</td>\n",
       "      <td id=\"T_b24c1_row9_col6\" class=\"data row9 col6\" >0.2267</td>\n",
       "      <td id=\"T_b24c1_row9_col7\" class=\"data row9 col7\" >0.2406</td>\n",
       "      <td id=\"T_b24c1_row9_col8\" class=\"data row9 col8\" >0.3180</td>\n",
       "    </tr>\n",
       "    <tr>\n",
       "      <th id=\"T_b24c1_level0_row10\" class=\"row_heading level0 row10\" >knn</th>\n",
       "      <td id=\"T_b24c1_row10_col0\" class=\"data row10 col0\" >K Neighbors Classifier</td>\n",
       "      <td id=\"T_b24c1_row10_col1\" class=\"data row10 col1\" >0.4583</td>\n",
       "      <td id=\"T_b24c1_row10_col2\" class=\"data row10 col2\" >0.2530</td>\n",
       "      <td id=\"T_b24c1_row10_col3\" class=\"data row10 col3\" >0.2219</td>\n",
       "      <td id=\"T_b24c1_row10_col4\" class=\"data row10 col4\" >0.4454</td>\n",
       "      <td id=\"T_b24c1_row10_col5\" class=\"data row10 col5\" >0.4408</td>\n",
       "      <td id=\"T_b24c1_row10_col6\" class=\"data row10 col6\" >0.1550</td>\n",
       "      <td id=\"T_b24c1_row10_col7\" class=\"data row10 col7\" >0.1568</td>\n",
       "      <td id=\"T_b24c1_row10_col8\" class=\"data row10 col8\" >0.0160</td>\n",
       "    </tr>\n",
       "    <tr>\n",
       "      <th id=\"T_b24c1_level0_row11\" class=\"row_heading level0 row11\" >nb</th>\n",
       "      <td id=\"T_b24c1_row11_col0\" class=\"data row11 col0\" >Naive Bayes</td>\n",
       "      <td id=\"T_b24c1_row11_col1\" class=\"data row11 col1\" >0.4063</td>\n",
       "      <td id=\"T_b24c1_row11_col2\" class=\"data row11 col2\" >0.2597</td>\n",
       "      <td id=\"T_b24c1_row11_col3\" class=\"data row11 col3\" >0.3005</td>\n",
       "      <td id=\"T_b24c1_row11_col4\" class=\"data row11 col4\" >0.4435</td>\n",
       "      <td id=\"T_b24c1_row11_col5\" class=\"data row11 col5\" >0.4183</td>\n",
       "      <td id=\"T_b24c1_row11_col6\" class=\"data row11 col6\" >0.1611</td>\n",
       "      <td id=\"T_b24c1_row11_col7\" class=\"data row11 col7\" >0.1635</td>\n",
       "      <td id=\"T_b24c1_row11_col8\" class=\"data row11 col8\" >0.0080</td>\n",
       "    </tr>\n",
       "    <tr>\n",
       "      <th id=\"T_b24c1_level0_row12\" class=\"row_heading level0 row12\" >ada</th>\n",
       "      <td id=\"T_b24c1_row12_col0\" class=\"data row12 col0\" >Ada Boost Classifier</td>\n",
       "      <td id=\"T_b24c1_row12_col1\" class=\"data row12 col1\" >0.3975</td>\n",
       "      <td id=\"T_b24c1_row12_col2\" class=\"data row12 col2\" >0.2154</td>\n",
       "      <td id=\"T_b24c1_row12_col3\" class=\"data row12 col3\" >0.2149</td>\n",
       "      <td id=\"T_b24c1_row12_col4\" class=\"data row12 col4\" >0.3819</td>\n",
       "      <td id=\"T_b24c1_row12_col5\" class=\"data row12 col5\" >0.3630</td>\n",
       "      <td id=\"T_b24c1_row12_col6\" class=\"data row12 col6\" >0.1195</td>\n",
       "      <td id=\"T_b24c1_row12_col7\" class=\"data row12 col7\" >0.1269</td>\n",
       "      <td id=\"T_b24c1_row12_col8\" class=\"data row12 col8\" >0.0540</td>\n",
       "    </tr>\n",
       "    <tr>\n",
       "      <th id=\"T_b24c1_level0_row13\" class=\"row_heading level0 row13\" >svm</th>\n",
       "      <td id=\"T_b24c1_row13_col0\" class=\"data row13 col0\" >SVM - Linear Kernel</td>\n",
       "      <td id=\"T_b24c1_row13_col1\" class=\"data row13 col1\" >0.3792</td>\n",
       "      <td id=\"T_b24c1_row13_col2\" class=\"data row13 col2\" >0.0000</td>\n",
       "      <td id=\"T_b24c1_row13_col3\" class=\"data row13 col3\" >0.2026</td>\n",
       "      <td id=\"T_b24c1_row13_col4\" class=\"data row13 col4\" >0.4021</td>\n",
       "      <td id=\"T_b24c1_row13_col5\" class=\"data row13 col5\" >0.2894</td>\n",
       "      <td id=\"T_b24c1_row13_col6\" class=\"data row13 col6\" >0.0866</td>\n",
       "      <td id=\"T_b24c1_row13_col7\" class=\"data row13 col7\" >0.1313</td>\n",
       "      <td id=\"T_b24c1_row13_col8\" class=\"data row13 col8\" >0.0300</td>\n",
       "    </tr>\n",
       "    <tr>\n",
       "      <th id=\"T_b24c1_level0_row14\" class=\"row_heading level0 row14\" >qda</th>\n",
       "      <td id=\"T_b24c1_row14_col0\" class=\"data row14 col0\" >Quadratic Discriminant Analysis</td>\n",
       "      <td id=\"T_b24c1_row14_col1\" class=\"data row14 col1\" >0.2671</td>\n",
       "      <td id=\"T_b24c1_row14_col2\" class=\"data row14 col2\" >0.0000</td>\n",
       "      <td id=\"T_b24c1_row14_col3\" class=\"data row14 col3\" >0.1806</td>\n",
       "      <td id=\"T_b24c1_row14_col4\" class=\"data row14 col4\" >0.2812</td>\n",
       "      <td id=\"T_b24c1_row14_col5\" class=\"data row14 col5\" >0.2662</td>\n",
       "      <td id=\"T_b24c1_row14_col6\" class=\"data row14 col6\" >0.1281</td>\n",
       "      <td id=\"T_b24c1_row14_col7\" class=\"data row14 col7\" >0.1316</td>\n",
       "      <td id=\"T_b24c1_row14_col8\" class=\"data row14 col8\" >0.0080</td>\n",
       "    </tr>\n",
       "  </tbody>\n",
       "</table>\n"
      ],
      "text/plain": [
       "<pandas.io.formats.style.Styler at 0x1eb24359790>"
      ]
     },
     "metadata": {},
     "output_type": "display_data"
    }
   ],
   "source": [
    "top2 = compare_models(sort='Accuracy', n_select=5, fold = 5)"
   ]
  },
  {
   "cell_type": "code",
   "execution_count": 19,
   "id": "4bfc94df",
   "metadata": {},
   "outputs": [
    {
     "data": {
      "text/html": [
       "<style type=\"text/css\">\n",
       "#T_862cd_row5_col0, #T_862cd_row5_col1, #T_862cd_row5_col2, #T_862cd_row5_col3, #T_862cd_row5_col4, #T_862cd_row5_col5, #T_862cd_row5_col6 {\n",
       "  background: yellow;\n",
       "}\n",
       "</style>\n",
       "<table id=\"T_862cd_\">\n",
       "  <thead>\n",
       "    <tr>\n",
       "      <th class=\"blank level0\" >&nbsp;</th>\n",
       "      <th class=\"col_heading level0 col0\" >Accuracy</th>\n",
       "      <th class=\"col_heading level0 col1\" >AUC</th>\n",
       "      <th class=\"col_heading level0 col2\" >Recall</th>\n",
       "      <th class=\"col_heading level0 col3\" >Prec.</th>\n",
       "      <th class=\"col_heading level0 col4\" >F1</th>\n",
       "      <th class=\"col_heading level0 col5\" >Kappa</th>\n",
       "      <th class=\"col_heading level0 col6\" >MCC</th>\n",
       "    </tr>\n",
       "  </thead>\n",
       "  <tbody>\n",
       "    <tr>\n",
       "      <th id=\"T_862cd_level0_row0\" class=\"row_heading level0 row0\" >0</th>\n",
       "      <td id=\"T_862cd_row0_col0\" class=\"data row0 col0\" >0.5974</td>\n",
       "      <td id=\"T_862cd_row0_col1\" class=\"data row0 col1\" >0.7714</td>\n",
       "      <td id=\"T_862cd_row0_col2\" class=\"data row0 col2\" >0.3155</td>\n",
       "      <td id=\"T_862cd_row0_col3\" class=\"data row0 col3\" >0.5985</td>\n",
       "      <td id=\"T_862cd_row0_col4\" class=\"data row0 col4\" >0.5858</td>\n",
       "      <td id=\"T_862cd_row0_col5\" class=\"data row0 col5\" >0.3714</td>\n",
       "      <td id=\"T_862cd_row0_col6\" class=\"data row0 col6\" >0.3764</td>\n",
       "    </tr>\n",
       "    <tr>\n",
       "      <th id=\"T_862cd_level0_row1\" class=\"row_heading level0 row1\" >1</th>\n",
       "      <td id=\"T_862cd_row1_col0\" class=\"data row1 col0\" >0.5844</td>\n",
       "      <td id=\"T_862cd_row1_col1\" class=\"data row1 col1\" >0.7602</td>\n",
       "      <td id=\"T_862cd_row1_col2\" class=\"data row1 col2\" >0.2774</td>\n",
       "      <td id=\"T_862cd_row1_col3\" class=\"data row1 col3\" >0.5727</td>\n",
       "      <td id=\"T_862cd_row1_col4\" class=\"data row1 col4\" >0.5672</td>\n",
       "      <td id=\"T_862cd_row1_col5\" class=\"data row1 col5\" >0.3483</td>\n",
       "      <td id=\"T_862cd_row1_col6\" class=\"data row1 col6\" >0.3532</td>\n",
       "    </tr>\n",
       "    <tr>\n",
       "      <th id=\"T_862cd_level0_row2\" class=\"row_heading level0 row2\" >2</th>\n",
       "      <td id=\"T_862cd_row2_col0\" class=\"data row2 col0\" >0.5787</td>\n",
       "      <td id=\"T_862cd_row2_col1\" class=\"data row2 col1\" >0.0000</td>\n",
       "      <td id=\"T_862cd_row2_col2\" class=\"data row2 col2\" >0.3174</td>\n",
       "      <td id=\"T_862cd_row2_col3\" class=\"data row2 col3\" >0.5575</td>\n",
       "      <td id=\"T_862cd_row2_col4\" class=\"data row2 col4\" >0.5639</td>\n",
       "      <td id=\"T_862cd_row2_col5\" class=\"data row2 col5\" >0.3471</td>\n",
       "      <td id=\"T_862cd_row2_col6\" class=\"data row2 col6\" >0.3493</td>\n",
       "    </tr>\n",
       "    <tr>\n",
       "      <th id=\"T_862cd_level0_row3\" class=\"row_heading level0 row3\" >3</th>\n",
       "      <td id=\"T_862cd_row3_col0\" class=\"data row3 col0\" >0.5722</td>\n",
       "      <td id=\"T_862cd_row3_col1\" class=\"data row3 col1\" >0.0000</td>\n",
       "      <td id=\"T_862cd_row3_col2\" class=\"data row3 col2\" >0.3494</td>\n",
       "      <td id=\"T_862cd_row3_col3\" class=\"data row3 col3\" >0.5635</td>\n",
       "      <td id=\"T_862cd_row3_col4\" class=\"data row3 col4\" >0.5637</td>\n",
       "      <td id=\"T_862cd_row3_col5\" class=\"data row3 col5\" >0.3418</td>\n",
       "      <td id=\"T_862cd_row3_col6\" class=\"data row3 col6\" >0.3434</td>\n",
       "    </tr>\n",
       "    <tr>\n",
       "      <th id=\"T_862cd_level0_row4\" class=\"row_heading level0 row4\" >4</th>\n",
       "      <td id=\"T_862cd_row4_col0\" class=\"data row4 col0\" >0.5787</td>\n",
       "      <td id=\"T_862cd_row4_col1\" class=\"data row4 col1\" >0.0000</td>\n",
       "      <td id=\"T_862cd_row4_col2\" class=\"data row4 col2\" >0.3423</td>\n",
       "      <td id=\"T_862cd_row4_col3\" class=\"data row4 col3\" >0.5658</td>\n",
       "      <td id=\"T_862cd_row4_col4\" class=\"data row4 col4\" >0.5640</td>\n",
       "      <td id=\"T_862cd_row4_col5\" class=\"data row4 col5\" >0.3446</td>\n",
       "      <td id=\"T_862cd_row4_col6\" class=\"data row4 col6\" >0.3475</td>\n",
       "    </tr>\n",
       "    <tr>\n",
       "      <th id=\"T_862cd_level0_row5\" class=\"row_heading level0 row5\" >Mean</th>\n",
       "      <td id=\"T_862cd_row5_col0\" class=\"data row5 col0\" >0.5823</td>\n",
       "      <td id=\"T_862cd_row5_col1\" class=\"data row5 col1\" >0.3063</td>\n",
       "      <td id=\"T_862cd_row5_col2\" class=\"data row5 col2\" >0.3204</td>\n",
       "      <td id=\"T_862cd_row5_col3\" class=\"data row5 col3\" >0.5716</td>\n",
       "      <td id=\"T_862cd_row5_col4\" class=\"data row5 col4\" >0.5689</td>\n",
       "      <td id=\"T_862cd_row5_col5\" class=\"data row5 col5\" >0.3507</td>\n",
       "      <td id=\"T_862cd_row5_col6\" class=\"data row5 col6\" >0.3540</td>\n",
       "    </tr>\n",
       "    <tr>\n",
       "      <th id=\"T_862cd_level0_row6\" class=\"row_heading level0 row6\" >SD</th>\n",
       "      <td id=\"T_862cd_row6_col0\" class=\"data row6 col0\" >0.0085</td>\n",
       "      <td id=\"T_862cd_row6_col1\" class=\"data row6 col1\" >0.3752</td>\n",
       "      <td id=\"T_862cd_row6_col2\" class=\"data row6 col2\" >0.0253</td>\n",
       "      <td id=\"T_862cd_row6_col3\" class=\"data row6 col3\" >0.0143</td>\n",
       "      <td id=\"T_862cd_row6_col4\" class=\"data row6 col4\" >0.0085</td>\n",
       "      <td id=\"T_862cd_row6_col5\" class=\"data row6 col5\" >0.0106</td>\n",
       "      <td id=\"T_862cd_row6_col6\" class=\"data row6 col6\" >0.0117</td>\n",
       "    </tr>\n",
       "  </tbody>\n",
       "</table>\n"
      ],
      "text/plain": [
       "<pandas.io.formats.style.Styler at 0x1eb247d7a30>"
      ]
     },
     "metadata": {},
     "output_type": "display_data"
    }
   ],
   "source": [
    "tuned_top5 = [tune_model(i, fold = 5) for i in top2]"
   ]
  },
  {
   "cell_type": "code",
   "execution_count": 17,
   "id": "2968569d",
   "metadata": {},
   "outputs": [
    {
     "data": {
      "text/html": [
       "<style type=\"text/css\">\n",
       "#T_a98d8_row10_col0, #T_a98d8_row10_col1, #T_a98d8_row10_col2, #T_a98d8_row10_col3, #T_a98d8_row10_col4, #T_a98d8_row10_col5, #T_a98d8_row10_col6 {\n",
       "  background: yellow;\n",
       "}\n",
       "</style>\n",
       "<table id=\"T_a98d8_\">\n",
       "  <thead>\n",
       "    <tr>\n",
       "      <th class=\"blank level0\" >&nbsp;</th>\n",
       "      <th class=\"col_heading level0 col0\" >Accuracy</th>\n",
       "      <th class=\"col_heading level0 col1\" >AUC</th>\n",
       "      <th class=\"col_heading level0 col2\" >Recall</th>\n",
       "      <th class=\"col_heading level0 col3\" >Prec.</th>\n",
       "      <th class=\"col_heading level0 col4\" >F1</th>\n",
       "      <th class=\"col_heading level0 col5\" >Kappa</th>\n",
       "      <th class=\"col_heading level0 col6\" >MCC</th>\n",
       "    </tr>\n",
       "  </thead>\n",
       "  <tbody>\n",
       "    <tr>\n",
       "      <th id=\"T_a98d8_level0_row0\" class=\"row_heading level0 row0\" >0</th>\n",
       "      <td id=\"T_a98d8_row0_col0\" class=\"data row0 col0\" >0.5351</td>\n",
       "      <td id=\"T_a98d8_row0_col1\" class=\"data row0 col1\" >0.0000</td>\n",
       "      <td id=\"T_a98d8_row0_col2\" class=\"data row0 col2\" >0.2252</td>\n",
       "      <td id=\"T_a98d8_row0_col3\" class=\"data row0 col3\" >0.4363</td>\n",
       "      <td id=\"T_a98d8_row0_col4\" class=\"data row0 col4\" >0.4578</td>\n",
       "      <td id=\"T_a98d8_row0_col5\" class=\"data row0 col5\" >0.2112</td>\n",
       "      <td id=\"T_a98d8_row0_col6\" class=\"data row0 col6\" >0.2546</td>\n",
       "    </tr>\n",
       "    <tr>\n",
       "      <th id=\"T_a98d8_level0_row1\" class=\"row_heading level0 row1\" >1</th>\n",
       "      <td id=\"T_a98d8_row1_col0\" class=\"data row1 col0\" >0.5455</td>\n",
       "      <td id=\"T_a98d8_row1_col1\" class=\"data row1 col1\" >0.0000</td>\n",
       "      <td id=\"T_a98d8_row1_col2\" class=\"data row1 col2\" >0.2286</td>\n",
       "      <td id=\"T_a98d8_row1_col3\" class=\"data row1 col3\" >0.4345</td>\n",
       "      <td id=\"T_a98d8_row1_col4\" class=\"data row1 col4\" >0.4659</td>\n",
       "      <td id=\"T_a98d8_row1_col5\" class=\"data row1 col5\" >0.2290</td>\n",
       "      <td id=\"T_a98d8_row1_col6\" class=\"data row1 col6\" >0.2693</td>\n",
       "    </tr>\n",
       "    <tr>\n",
       "      <th id=\"T_a98d8_level0_row2\" class=\"row_heading level0 row2\" >2</th>\n",
       "      <td id=\"T_a98d8_row2_col0\" class=\"data row2 col0\" >0.4961</td>\n",
       "      <td id=\"T_a98d8_row2_col1\" class=\"data row2 col1\" >0.0000</td>\n",
       "      <td id=\"T_a98d8_row2_col2\" class=\"data row2 col2\" >0.2090</td>\n",
       "      <td id=\"T_a98d8_row2_col3\" class=\"data row2 col3\" >0.3850</td>\n",
       "      <td id=\"T_a98d8_row2_col4\" class=\"data row2 col4\" >0.4237</td>\n",
       "      <td id=\"T_a98d8_row2_col5\" class=\"data row2 col5\" >0.1528</td>\n",
       "      <td id=\"T_a98d8_row2_col6\" class=\"data row2 col6\" >0.1736</td>\n",
       "    </tr>\n",
       "    <tr>\n",
       "      <th id=\"T_a98d8_level0_row3\" class=\"row_heading level0 row3\" >3</th>\n",
       "      <td id=\"T_a98d8_row3_col0\" class=\"data row3 col0\" >0.5377</td>\n",
       "      <td id=\"T_a98d8_row3_col1\" class=\"data row3 col1\" >0.0000</td>\n",
       "      <td id=\"T_a98d8_row3_col2\" class=\"data row3 col2\" >0.2245</td>\n",
       "      <td id=\"T_a98d8_row3_col3\" class=\"data row3 col3\" >0.4400</td>\n",
       "      <td id=\"T_a98d8_row3_col4\" class=\"data row3 col4\" >0.4578</td>\n",
       "      <td id=\"T_a98d8_row3_col5\" class=\"data row3 col5\" >0.2133</td>\n",
       "      <td id=\"T_a98d8_row3_col6\" class=\"data row3 col6\" >0.2608</td>\n",
       "    </tr>\n",
       "    <tr>\n",
       "      <th id=\"T_a98d8_level0_row4\" class=\"row_heading level0 row4\" >4</th>\n",
       "      <td id=\"T_a98d8_row4_col0\" class=\"data row4 col0\" >0.5299</td>\n",
       "      <td id=\"T_a98d8_row4_col1\" class=\"data row4 col1\" >0.0000</td>\n",
       "      <td id=\"T_a98d8_row4_col2\" class=\"data row4 col2\" >0.2232</td>\n",
       "      <td id=\"T_a98d8_row4_col3\" class=\"data row4 col3\" >0.4248</td>\n",
       "      <td id=\"T_a98d8_row4_col4\" class=\"data row4 col4\" >0.4545</td>\n",
       "      <td id=\"T_a98d8_row4_col5\" class=\"data row4 col5\" >0.2051</td>\n",
       "      <td id=\"T_a98d8_row4_col6\" class=\"data row4 col6\" >0.2402</td>\n",
       "    </tr>\n",
       "    <tr>\n",
       "      <th id=\"T_a98d8_level0_row5\" class=\"row_heading level0 row5\" >5</th>\n",
       "      <td id=\"T_a98d8_row5_col0\" class=\"data row5 col0\" >0.5091</td>\n",
       "      <td id=\"T_a98d8_row5_col1\" class=\"data row5 col1\" >0.7280</td>\n",
       "      <td id=\"T_a98d8_row5_col2\" class=\"data row5 col2\" >0.1845</td>\n",
       "      <td id=\"T_a98d8_row5_col3\" class=\"data row5 col3\" >0.4001</td>\n",
       "      <td id=\"T_a98d8_row5_col4\" class=\"data row5 col4\" >0.4354</td>\n",
       "      <td id=\"T_a98d8_row5_col5\" class=\"data row5 col5\" >0.1733</td>\n",
       "      <td id=\"T_a98d8_row5_col6\" class=\"data row5 col6\" >0.1996</td>\n",
       "    </tr>\n",
       "    <tr>\n",
       "      <th id=\"T_a98d8_level0_row6\" class=\"row_heading level0 row6\" >6</th>\n",
       "      <td id=\"T_a98d8_row6_col0\" class=\"data row6 col0\" >0.5455</td>\n",
       "      <td id=\"T_a98d8_row6_col1\" class=\"data row6 col1\" >0.7184</td>\n",
       "      <td id=\"T_a98d8_row6_col2\" class=\"data row6 col2\" >0.1970</td>\n",
       "      <td id=\"T_a98d8_row6_col3\" class=\"data row6 col3\" >0.4447</td>\n",
       "      <td id=\"T_a98d8_row6_col4\" class=\"data row6 col4\" >0.4674</td>\n",
       "      <td id=\"T_a98d8_row6_col5\" class=\"data row6 col5\" >0.2293</td>\n",
       "      <td id=\"T_a98d8_row6_col6\" class=\"data row6 col6\" >0.2752</td>\n",
       "    </tr>\n",
       "    <tr>\n",
       "      <th id=\"T_a98d8_level0_row7\" class=\"row_heading level0 row7\" >7</th>\n",
       "      <td id=\"T_a98d8_row7_col0\" class=\"data row7 col0\" >0.5026</td>\n",
       "      <td id=\"T_a98d8_row7_col1\" class=\"data row7 col1\" >0.0000</td>\n",
       "      <td id=\"T_a98d8_row7_col2\" class=\"data row7 col2\" >0.2065</td>\n",
       "      <td id=\"T_a98d8_row7_col3\" class=\"data row7 col3\" >0.4169</td>\n",
       "      <td id=\"T_a98d8_row7_col4\" class=\"data row7 col4\" >0.4178</td>\n",
       "      <td id=\"T_a98d8_row7_col5\" class=\"data row7 col5\" >0.1459</td>\n",
       "      <td id=\"T_a98d8_row7_col6\" class=\"data row7 col6\" >0.1919</td>\n",
       "    </tr>\n",
       "    <tr>\n",
       "      <th id=\"T_a98d8_level0_row8\" class=\"row_heading level0 row8\" >8</th>\n",
       "      <td id=\"T_a98d8_row8_col0\" class=\"data row8 col0\" >0.5156</td>\n",
       "      <td id=\"T_a98d8_row8_col1\" class=\"data row8 col1\" >0.0000</td>\n",
       "      <td id=\"T_a98d8_row8_col2\" class=\"data row8 col2\" >0.2166</td>\n",
       "      <td id=\"T_a98d8_row8_col3\" class=\"data row8 col3\" >0.4099</td>\n",
       "      <td id=\"T_a98d8_row8_col4\" class=\"data row8 col4\" >0.4403</td>\n",
       "      <td id=\"T_a98d8_row8_col5\" class=\"data row8 col5\" >0.1801</td>\n",
       "      <td id=\"T_a98d8_row8_col6\" class=\"data row8 col6\" >0.2113</td>\n",
       "    </tr>\n",
       "    <tr>\n",
       "      <th id=\"T_a98d8_level0_row9\" class=\"row_heading level0 row9\" >9</th>\n",
       "      <td id=\"T_a98d8_row9_col0\" class=\"data row9 col0\" >0.5234</td>\n",
       "      <td id=\"T_a98d8_row9_col1\" class=\"data row9 col1\" >0.0000</td>\n",
       "      <td id=\"T_a98d8_row9_col2\" class=\"data row9 col2\" >0.2172</td>\n",
       "      <td id=\"T_a98d8_row9_col3\" class=\"data row9 col3\" >0.4322</td>\n",
       "      <td id=\"T_a98d8_row9_col4\" class=\"data row9 col4\" >0.4421</td>\n",
       "      <td id=\"T_a98d8_row9_col5\" class=\"data row9 col5\" >0.1853</td>\n",
       "      <td id=\"T_a98d8_row9_col6\" class=\"data row9 col6\" >0.2335</td>\n",
       "    </tr>\n",
       "    <tr>\n",
       "      <th id=\"T_a98d8_level0_row10\" class=\"row_heading level0 row10\" >Mean</th>\n",
       "      <td id=\"T_a98d8_row10_col0\" class=\"data row10 col0\" >0.5240</td>\n",
       "      <td id=\"T_a98d8_row10_col1\" class=\"data row10 col1\" >0.1446</td>\n",
       "      <td id=\"T_a98d8_row10_col2\" class=\"data row10 col2\" >0.2132</td>\n",
       "      <td id=\"T_a98d8_row10_col3\" class=\"data row10 col3\" >0.4224</td>\n",
       "      <td id=\"T_a98d8_row10_col4\" class=\"data row10 col4\" >0.4463</td>\n",
       "      <td id=\"T_a98d8_row10_col5\" class=\"data row10 col5\" >0.1925</td>\n",
       "      <td id=\"T_a98d8_row10_col6\" class=\"data row10 col6\" >0.2310</td>\n",
       "    </tr>\n",
       "    <tr>\n",
       "      <th id=\"T_a98d8_level0_row11\" class=\"row_heading level0 row11\" >SD</th>\n",
       "      <td id=\"T_a98d8_row11_col0\" class=\"data row11 col0\" >0.0167</td>\n",
       "      <td id=\"T_a98d8_row11_col1\" class=\"data row11 col1\" >0.2893</td>\n",
       "      <td id=\"T_a98d8_row11_col2\" class=\"data row11 col2\" >0.0134</td>\n",
       "      <td id=\"T_a98d8_row11_col3\" class=\"data row11 col3\" >0.0183</td>\n",
       "      <td id=\"T_a98d8_row11_col4\" class=\"data row11 col4\" >0.0163</td>\n",
       "      <td id=\"T_a98d8_row11_col5\" class=\"data row11 col5\" >0.0282</td>\n",
       "      <td id=\"T_a98d8_row11_col6\" class=\"data row11 col6\" >0.0334</td>\n",
       "    </tr>\n",
       "  </tbody>\n",
       "</table>\n"
      ],
      "text/plain": [
       "<pandas.io.formats.style.Styler at 0x1eb24359940>"
      ]
     },
     "metadata": {},
     "output_type": "display_data"
    }
   ],
   "source": [
    "blender_top5 = blend_models(estimator_list=tuned_top5)"
   ]
  },
  {
   "cell_type": "code",
   "execution_count": 20,
   "id": "435a58c4",
   "metadata": {},
   "outputs": [],
   "source": [
    "final_model = finalize_model(blender_top5)\n",
    "prediction = predict_model(final_model, data= test)"
   ]
  },
  {
   "cell_type": "code",
   "execution_count": 21,
   "id": "6b03902d",
   "metadata": {},
   "outputs": [
    {
     "data": {
      "text/plain": [
       "0      6\n",
       "1      5\n",
       "2      6\n",
       "3      6\n",
       "4      6\n",
       "      ..\n",
       "995    5\n",
       "996    6\n",
       "997    5\n",
       "998    6\n",
       "999    6\n",
       "Name: Label, Length: 1000, dtype: int32"
      ]
     },
     "execution_count": 21,
     "metadata": {},
     "output_type": "execute_result"
    }
   ],
   "source": [
    "prediction['Label']"
   ]
  },
  {
   "cell_type": "code",
   "execution_count": 22,
   "id": "80792473",
   "metadata": {},
   "outputs": [],
   "source": [
    "submission = pd.read_csv('sample_submission.csv')\n",
    "\n",
    "submission['quality'] = prediction['Label']\n",
    "\n",
    "submission\n",
    "\n",
    "submission.to_csv('submission.csv',index=False)"
   ]
  },
  {
   "cell_type": "code",
   "execution_count": null,
   "id": "c1a17e17",
   "metadata": {},
   "outputs": [],
   "source": []
  },
  {
   "cell_type": "code",
   "execution_count": null,
   "id": "3237c38e",
   "metadata": {},
   "outputs": [],
   "source": []
  },
  {
   "cell_type": "code",
   "execution_count": null,
   "id": "5e0b30d5",
   "metadata": {},
   "outputs": [],
   "source": []
  },
  {
   "cell_type": "code",
   "execution_count": null,
   "id": "84ca5d56",
   "metadata": {},
   "outputs": [],
   "source": []
  },
  {
   "cell_type": "code",
   "execution_count": null,
   "id": "4761f961",
   "metadata": {},
   "outputs": [],
   "source": []
  },
  {
   "cell_type": "code",
   "execution_count": null,
   "id": "79cc0cdc",
   "metadata": {},
   "outputs": [],
   "source": []
  },
  {
   "cell_type": "code",
   "execution_count": null,
   "id": "0cc84398",
   "metadata": {},
   "outputs": [],
   "source": []
  },
  {
   "cell_type": "code",
   "execution_count": null,
   "id": "2a920673",
   "metadata": {},
   "outputs": [],
   "source": []
  },
  {
   "cell_type": "code",
   "execution_count": null,
   "id": "ddff9e9a",
   "metadata": {},
   "outputs": [],
   "source": []
  },
  {
   "cell_type": "code",
   "execution_count": null,
   "id": "e5f44a77",
   "metadata": {},
   "outputs": [],
   "source": []
  }
 ],
 "metadata": {
  "kernelspec": {
   "display_name": "Python 3 (ipykernel)",
   "language": "python",
   "name": "python3"
  },
  "language_info": {
   "codemirror_mode": {
    "name": "ipython",
    "version": 3
   },
   "file_extension": ".py",
   "mimetype": "text/x-python",
   "name": "python",
   "nbconvert_exporter": "python",
   "pygments_lexer": "ipython3",
   "version": "3.9.7"
  }
 },
 "nbformat": 4,
 "nbformat_minor": 5
}
