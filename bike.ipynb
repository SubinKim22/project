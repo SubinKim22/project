{
 "cells": [
  {
   "cell_type": "markdown",
   "id": "b3cf807c",
   "metadata": {},
   "source": [
    "# Lv2. 결측치 보간법과 랜덤포레스트로 따릉이 데이터 예측하기"
   ]
  },
  {
   "cell_type": "markdown",
   "id": "f073e28f",
   "metadata": {},
   "source": [
    "## Lv2 전처리 1/2 python 파이썬 결측치 대체 평균"
   ]
  },
  {
   "cell_type": "code",
   "execution_count": 1,
   "id": "25f67331",
   "metadata": {},
   "outputs": [],
   "source": [
    "import pandas as pd\n",
    "train = pd.read_csv('train.csv')\n",
    "test = pd.read_csv('test.csv')"
   ]
  },
  {
   "cell_type": "code",
   "execution_count": 2,
   "id": "e905e2dd",
   "metadata": {},
   "outputs": [
    {
     "data": {
      "text/plain": [
       "id                          0\n",
       "hour                        0\n",
       "hour_bef_temperature        2\n",
       "hour_bef_precipitation      2\n",
       "hour_bef_windspeed          9\n",
       "hour_bef_humidity           2\n",
       "hour_bef_visibility         2\n",
       "hour_bef_ozone             76\n",
       "hour_bef_pm10              90\n",
       "hour_bef_pm2.5            117\n",
       "count                       0\n",
       "dtype: int64"
      ]
     },
     "execution_count": 2,
     "metadata": {},
     "output_type": "execute_result"
    }
   ],
   "source": [
    "train.isna().sum()"
   ]
  },
  {
   "cell_type": "code",
   "execution_count": 3,
   "id": "1c7589dc",
   "metadata": {},
   "outputs": [],
   "source": [
    "for i in range(len(train.columns)):\n",
    "    train.fillna({train.columns[i]:int(train[train.columns[i]].mean())}, inplace=True)"
   ]
  },
  {
   "cell_type": "code",
   "execution_count": 4,
   "id": "18213f85",
   "metadata": {
    "scrolled": true
   },
   "outputs": [
    {
     "data": {
      "text/plain": [
       "id                        0\n",
       "hour                      0\n",
       "hour_bef_temperature      0\n",
       "hour_bef_precipitation    0\n",
       "hour_bef_windspeed        0\n",
       "hour_bef_humidity         0\n",
       "hour_bef_visibility       0\n",
       "hour_bef_ozone            0\n",
       "hour_bef_pm10             0\n",
       "hour_bef_pm2.5            0\n",
       "count                     0\n",
       "dtype: int64"
      ]
     },
     "execution_count": 4,
     "metadata": {},
     "output_type": "execute_result"
    }
   ],
   "source": [
    "train.isna().sum()"
   ]
  },
  {
   "cell_type": "code",
   "execution_count": null,
   "id": "3442ec28",
   "metadata": {},
   "outputs": [],
   "source": []
  },
  {
   "cell_type": "markdown",
   "id": "0c7803b6",
   "metadata": {},
   "source": [
    "## Lv2 전처리 2/2 python 파이썬 결측치 대체 보간법 => 이전 행과 다음 행의 평균"
   ]
  },
  {
   "cell_type": "code",
   "execution_count": 5,
   "id": "9bb683c4",
   "metadata": {},
   "outputs": [],
   "source": [
    "train = pd.read_csv('train.csv')\n",
    "test = pd.read_csv('test.csv')"
   ]
  },
  {
   "cell_type": "code",
   "execution_count": 6,
   "id": "b9996f50",
   "metadata": {},
   "outputs": [
    {
     "data": {
      "text/plain": [
       "id                          0\n",
       "hour                        0\n",
       "hour_bef_temperature        2\n",
       "hour_bef_precipitation      2\n",
       "hour_bef_windspeed          9\n",
       "hour_bef_humidity           2\n",
       "hour_bef_visibility         2\n",
       "hour_bef_ozone             76\n",
       "hour_bef_pm10              90\n",
       "hour_bef_pm2.5            117\n",
       "count                       0\n",
       "dtype: int64"
      ]
     },
     "execution_count": 6,
     "metadata": {},
     "output_type": "execute_result"
    }
   ],
   "source": [
    "train.isna().sum()"
   ]
  },
  {
   "cell_type": "code",
   "execution_count": 7,
   "id": "e848a19d",
   "metadata": {},
   "outputs": [],
   "source": [
    "train.interpolate(inplace=True)  #interpolate : 보간하다 \n",
    "#디폴트가 method = linear => 선형적으로 보간하겠다. "
   ]
  },
  {
   "cell_type": "code",
   "execution_count": 8,
   "id": "5016322b",
   "metadata": {
    "scrolled": true
   },
   "outputs": [
    {
     "data": {
      "text/plain": [
       "id                        0\n",
       "hour                      0\n",
       "hour_bef_temperature      0\n",
       "hour_bef_precipitation    0\n",
       "hour_bef_windspeed        0\n",
       "hour_bef_humidity         0\n",
       "hour_bef_visibility       0\n",
       "hour_bef_ozone            0\n",
       "hour_bef_pm10             0\n",
       "hour_bef_pm2.5            0\n",
       "count                     0\n",
       "dtype: int64"
      ]
     },
     "execution_count": 8,
     "metadata": {},
     "output_type": "execute_result"
    }
   ],
   "source": [
    "train.isna().sum()"
   ]
  },
  {
   "cell_type": "code",
   "execution_count": null,
   "id": "107f8fb3",
   "metadata": {},
   "outputs": [],
   "source": []
  },
  {
   "cell_type": "markdown",
   "id": "380dbe08",
   "metadata": {},
   "source": [
    "## Lv2 모델링 1/2 python 파이썬 랜덤포레스트 개념, 선언"
   ]
  },
  {
   "cell_type": "code",
   "execution_count": 9,
   "id": "33337871",
   "metadata": {},
   "outputs": [],
   "source": [
    "from sklearn.ensemble import RandomForestRegressor\n",
    "model = RandomForestRegressor()"
   ]
  },
  {
   "cell_type": "code",
   "execution_count": null,
   "id": "b2b542bb",
   "metadata": {},
   "outputs": [],
   "source": []
  },
  {
   "cell_type": "markdown",
   "id": "56be677f",
   "metadata": {},
   "source": [
    "## Lv2 모델링 2/2 python 파이썬 랜덤포레스트를 평가척도에 맞게 학습"
   ]
  },
  {
   "cell_type": "code",
   "execution_count": 10,
   "id": "ea68dc39",
   "metadata": {},
   "outputs": [],
   "source": [
    "import pandas as pd\n",
    "from sklearn.ensemble import RandomForestRegressor\n",
    "model = RandomForestRegressor()"
   ]
  },
  {
   "cell_type": "code",
   "execution_count": 11,
   "id": "81b59f7c",
   "metadata": {},
   "outputs": [],
   "source": [
    "train = pd.read_csv('train.csv')\n",
    "test = pd.read_csv('test.csv')"
   ]
  },
  {
   "cell_type": "code",
   "execution_count": 12,
   "id": "aacaaf2f",
   "metadata": {},
   "outputs": [],
   "source": [
    "train.interpolate(inplace=True)\n",
    "test.fillna(0, inplace = True)"
   ]
  },
  {
   "cell_type": "code",
   "execution_count": 13,
   "id": "83e5334c",
   "metadata": {},
   "outputs": [],
   "source": [
    "X_train = train.drop(['count'], axis=1)\n",
    "Y_train = train['count']"
   ]
  },
  {
   "cell_type": "code",
   "execution_count": 14,
   "id": "a07548d6",
   "metadata": {},
   "outputs": [
    {
     "name": "stderr",
     "output_type": "stream",
     "text": [
      "C:\\Users\\82106\\anaconda3\\lib\\site-packages\\sklearn\\ensemble\\_forest.py:396: FutureWarning: Criterion 'mse' was deprecated in v1.0 and will be removed in version 1.2. Use `criterion='squared_error'` which is equivalent.\n",
      "  warn(\n"
     ]
    }
   ],
   "source": [
    "model = RandomForestRegressor(criterion = 'mse')\n",
    "result = model.fit(X_train, Y_train)"
   ]
  },
  {
   "cell_type": "code",
   "execution_count": null,
   "id": "cdbdb6af",
   "metadata": {},
   "outputs": [],
   "source": []
  },
  {
   "cell_type": "markdown",
   "id": "a554da97",
   "metadata": {},
   "source": [
    "## Lv2 튜닝 1/4 python 파이썬 랜덤포레스트 변수중요도 확인"
   ]
  },
  {
   "cell_type": "code",
   "execution_count": 15,
   "id": "5988a442",
   "metadata": {},
   "outputs": [
    {
     "data": {
      "text/plain": [
       "array([0.02357004, 0.59372962, 0.18092016, 0.01886422, 0.02658263,\n",
       "       0.03446588, 0.03416529, 0.03491202, 0.03191372, 0.0208764 ])"
      ]
     },
     "execution_count": 15,
     "metadata": {},
     "output_type": "execute_result"
    }
   ],
   "source": [
    "# 변수의 중요도 = 예측변수를 결정할 때 각 피쳐가 얼마나 중요한지에 대한 척도\n",
    "# 변수의 중요도가 낮다면 해당 피쳐를 제거하는 것이 모델의 성능을 높일 수 있음.\n",
    "model.feature_importances_"
   ]
  },
  {
   "cell_type": "code",
   "execution_count": 16,
   "id": "4aa6968b",
   "metadata": {},
   "outputs": [
    {
     "data": {
      "text/plain": [
       "Index(['id', 'hour', 'hour_bef_temperature', 'hour_bef_precipitation',\n",
       "       'hour_bef_windspeed', 'hour_bef_humidity', 'hour_bef_visibility',\n",
       "       'hour_bef_ozone', 'hour_bef_pm10', 'hour_bef_pm2.5'],\n",
       "      dtype='object')"
      ]
     },
     "execution_count": 16,
     "metadata": {},
     "output_type": "execute_result"
    }
   ],
   "source": [
    "test.columns"
   ]
  },
  {
   "cell_type": "markdown",
   "id": "cc617cf1",
   "metadata": {},
   "source": [
    "## Lv2 튜닝 2/4 python 파이썬 변수 제거"
   ]
  },
  {
   "cell_type": "code",
   "execution_count": 17,
   "id": "8dcd5d8e",
   "metadata": {},
   "outputs": [],
   "source": [
    "# X_train 에서 drop 할 피쳐의 경우에 수 대로 3개의 X_train 을 생성하세요.\n",
    "\n",
    "X_train_1 = train.drop(['count','id'], axis=1)\n",
    "X_train_2 = train.drop(['count', 'id', 'hour_bef_windspeed'], axis=1)\n",
    "X_train_3 = train.drop(['count', 'id', 'hour_bef_windspeed', 'hour_bef_pm2.5'], axis=1)"
   ]
  },
  {
   "cell_type": "code",
   "execution_count": 18,
   "id": "cd8dfd80",
   "metadata": {},
   "outputs": [],
   "source": [
    "# 각 train 에 따라 동일하게 피쳐를 drop 한 test 셋들을 생성하세요.\n",
    "\n",
    "test_1 = test.drop(['id'], axis=1)\n",
    "test_2 = test.drop(['id', 'hour_bef_windspeed'], axis=1)\n",
    "test_3 = test.drop(['id', 'hour_bef_windspeed', 'hour_bef_pm2.5'], axis=1)"
   ]
  },
  {
   "cell_type": "code",
   "execution_count": 19,
   "id": "57975114",
   "metadata": {},
   "outputs": [
    {
     "name": "stderr",
     "output_type": "stream",
     "text": [
      "C:\\Users\\82106\\anaconda3\\lib\\site-packages\\sklearn\\ensemble\\_forest.py:396: FutureWarning: Criterion 'mse' was deprecated in v1.0 and will be removed in version 1.2. Use `criterion='squared_error'` which is equivalent.\n",
      "  warn(\n",
      "C:\\Users\\82106\\anaconda3\\lib\\site-packages\\sklearn\\ensemble\\_forest.py:396: FutureWarning: Criterion 'mse' was deprecated in v1.0 and will be removed in version 1.2. Use `criterion='squared_error'` which is equivalent.\n",
      "  warn(\n",
      "C:\\Users\\82106\\anaconda3\\lib\\site-packages\\sklearn\\ensemble\\_forest.py:396: FutureWarning: Criterion 'mse' was deprecated in v1.0 and will be removed in version 1.2. Use `criterion='squared_error'` which is equivalent.\n",
      "  warn(\n"
     ]
    },
    {
     "data": {
      "text/plain": [
       "RandomForestRegressor(criterion='mse')"
      ]
     },
     "execution_count": 19,
     "metadata": {},
     "output_type": "execute_result"
    }
   ],
   "source": [
    "# 각 X_train에 대해 모델 훈련을 해주세요.\n",
    "\n",
    "model_input_var1 = RandomForestRegressor(criterion = 'mse')\n",
    "model_input_var1.fit(X_train_1, Y_train)  #Y_train = train['count']\n",
    "\n",
    "model_input_var2 = RandomForestRegressor(criterion = 'mse')\n",
    "model_input_var2.fit(X_train_2, Y_train)  #Y_train = train['count']\n",
    "\n",
    "model_input_var3 = RandomForestRegressor(criterion = 'mse')\n",
    "model_input_var3.fit(X_train_3, Y_train)  #Y_train = train['count']"
   ]
  },
  {
   "cell_type": "code",
   "execution_count": 20,
   "id": "1e3b1d5b",
   "metadata": {},
   "outputs": [],
   "source": [
    "# 각 모델로 test 셋들을 예측해주세요.\n",
    "\n",
    "y_pred_1 = model_input_var1.predict(test_1)\n",
    "y_pred_2 = model_input_var2.predict(test_2)\n",
    "y_pred_3 = model_input_var3.predict(test_3)"
   ]
  },
  {
   "cell_type": "code",
   "execution_count": 21,
   "id": "b95afd22",
   "metadata": {
    "scrolled": true
   },
   "outputs": [
    {
     "data": {
      "text/plain": [
       "array([ 93.72, 211.22,  75.88,  31.25,  73.5 , 119.69, 221.38, 319.81,\n",
       "        40.75, 130.01, 299.68, 251.94,  93.71,  39.61, 202.49, 157.36,\n",
       "        28.01, 189.33, 355.25, 153.69, 228.34,  82.32,  17.3 , 136.03,\n",
       "       139.36, 119.75,  27.28, 116.34, 111.74, 153.58,  77.47,  30.15,\n",
       "        68.05, 130.88, 281.26,  35.86, 129.12, 122.92, 235.48,  68.95,\n",
       "        59.33, 121.38, 164.21,  83.69, 332.51, 176.45,  89.78,  66.51,\n",
       "        19.49,  88.91, 215.06,  91.24, 174.14,  85.5 , 201.65, 126.69,\n",
       "        46.16, 176.76,  16.29,  20.58,  92.37,  86.19, 267.04, 306.44,\n",
       "       139.84, 317.17,  15.6 , 233.  , 118.69,  26.27, 101.72,  33.77,\n",
       "       119.81,  16.28, 316.41, 225.33,  36.56, 174.04, 227.56,  18.52,\n",
       "       245.92, 138.16,  84.53,  83.76,  89.55, 314.68,  56.  , 168.86,\n",
       "       114.88, 264.86, 302.59, 155.82,  67.38,  98.87,  34.51,  82.74,\n",
       "        96.79,  29.52, 222.59, 137.41,  19.43, 148.04,  41.18, 121.54,\n",
       "        66.23,  75.06, 100.08,  16.94, 169.96, 132.53, 176.19, 230.44,\n",
       "       165.64, 119.84,  70.48, 132.34, 234.69,  35.38, 192.43,  17.59,\n",
       "       102.18, 109.11, 198.84, 134.14,  45.44, 114.36,  59.92,  15.7 ,\n",
       "       220.83,  62.57, 128.55, 159.62,  19.65, 138.55, 295.44, 127.43,\n",
       "        46.11, 145.53, 264.62, 375.42, 214.06,  26.19,  39.02, 108.84,\n",
       "        85.49, 115.96, 119.1 , 120.71, 152.42, 217.02, 134.32, 296.58,\n",
       "       340.37, 239.55, 172.31,  12.9 , 112.46,  13.62,  95.1 , 134.89,\n",
       "       130.3 ,  17.64, 213.95, 227.34, 122.68,  15.35, 248.41, 152.4 ,\n",
       "       287.85,  17.92, 121.86, 133.19,  86.98, 124.56, 101.31, 108.72,\n",
       "       240.59, 206.51, 158.39, 117.88, 201.19, 179.54, 171.85, 235.51,\n",
       "       138.52, 112.49, 114.2 , 294.23, 166.11,  45.35,  36.51, 136.48,\n",
       "       121.34, 112.13, 131.83, 266.9 , 346.62, 135.6 , 123.69, 110.88,\n",
       "        16.45, 225.19,  15.48, 355.  , 142.51,  36.54, 131.69, 252.97,\n",
       "       236.75,  67.92, 293.12, 184.24, 131.79, 208.67, 244.64, 123.06,\n",
       "       238.53, 118.29, 128.8 ,  92.77,  87.09,  24.02, 107.73,  73.42,\n",
       "       131.66,  34.42, 203.04, 178.59,  38.15, 197.94, 270.57, 109.02,\n",
       "        19.47,  83.92, 214.93, 102.66, 384.19, 319.67, 159.03, 215.93,\n",
       "        20.36, 218.38,  24.44, 143.4 , 138.13,  96.47, 116.97, 235.2 ,\n",
       "        99.11,  14.8 ,  83.28, 254.26, 251.04, 199.49, 131.78, 205.46,\n",
       "        26.11, 334.82,  72.34,  18.57, 165.05,  26.91, 233.02,  25.84,\n",
       "       190.37, 246.62,  16.84, 237.66,  88.22, 181.59, 135.01, 109.68,\n",
       "        59.26, 329.86,  19.5 , 281.57,  87.06, 166.86, 223.86,  32.39,\n",
       "       286.76, 102.78,  17.39, 164.47, 210.18, 115.13, 242.59, 128.14,\n",
       "        74.16, 118.45, 116.87, 262.29, 190.38, 119.57, 134.41,  33.74,\n",
       "       138.02,  44.64, 227.09,  24.79, 102.66, 227.25, 207.34, 220.77,\n",
       "       348.96, 201.78, 136.03,  61.  , 166.77,  84.78, 276.53, 253.97,\n",
       "       237.63,  41.56, 259.93, 208.9 , 118.21,  36.31,  24.42,  18.45,\n",
       "       222.57,  30.62, 117.53, 145.59,  87.31, 373.56, 270.65,  98.71,\n",
       "        90.67, 102.24,  27.54,  96.32,  83.4 , 189.52, 150.81,  42.96,\n",
       "       262.83, 233.52, 145.38, 372.23,  18.  ,  19.95, 330.41, 179.46,\n",
       "       123.3 ,  15.69,  29.66, 100.51, 113.17, 300.97, 218.36, 231.88,\n",
       "        73.04,  56.01, 185.54,  63.57,  19.13,  18.49, 100.09, 117.58,\n",
       "        69.05, 205.78, 237.67, 198.84, 153.04,  27.25,  76.13,  99.23,\n",
       "        14.79, 204.94,  95.96,  77.44, 240.13, 311.38, 213.91,  18.78,\n",
       "        38.19, 183.81, 102.93,  44.21, 123.99, 116.12, 304.23, 284.19,\n",
       "       122.37,  77.43, 133.67, 156.23, 120.25, 227.32,  35.91, 130.42,\n",
       "       303.09,  58.35, 115.17, 112.  , 270.09,  26.33,  28.5 , 192.09,\n",
       "        21.1 ,  84.21,  16.07, 261.39,  71.53, 118.2 , 163.89, 185.39,\n",
       "       115.01, 116.61, 158.53, 274.83, 135.39, 119.13,  45.98, 127.  ,\n",
       "       160.17, 116.5 ,  60.63,  60.69,  18.97,  28.43,  16.99,  41.89,\n",
       "       164.08, 112.75,  98.96, 171.83, 114.36, 351.96, 134.77, 189.02,\n",
       "       262.6 , 118.2 , 109.83, 232.38, 332.16,  35.04, 113.33, 365.69,\n",
       "       256.33, 152.65,  41.83,  97.7 , 117.67,  86.03, 114.41,  30.89,\n",
       "       318.52, 292.83, 249.11, 115.99, 168.7 , 230.15, 140.58, 147.14,\n",
       "       242.21, 107.07,  57.55, 121.98, 208.43, 122.9 , 113.6 , 113.06,\n",
       "        87.96, 137.25, 272.87, 100.08, 179.83, 187.15, 254.64,  56.55,\n",
       "       330.74,  91.88, 167.38, 175.33,  14.62,  29.56, 223.69, 273.58,\n",
       "       102.65, 101.43,  25.92,  16.65, 254.11, 135.83, 331.62, 243.68,\n",
       "        82.93, 102.73, 230.51, 167.44,  69.56,  78.15,  42.7 , 198.86,\n",
       "       118.93, 225.18, 302.76, 213.7 ,  15.05, 226.41,  59.57,  90.4 ,\n",
       "        35.98, 237.71, 241.52,  28.91, 152.24,  70.85, 216.77, 221.15,\n",
       "       212.71, 198.55, 369.21, 102.98,  36.09, 233.35, 142.  , 154.51,\n",
       "        25.97, 230.47,  19.2 ,  56.24,  18.23,  71.61,  30.99, 199.58,\n",
       "       185.2 , 149.35,  38.11,  79.78,  33.74, 307.44,  99.84,  35.57,\n",
       "        98.98,  16.7 ,  43.78,  33.39, 304.4 ,  17.55, 179.28, 242.32,\n",
       "       325.1 , 229.23, 102.72, 121.63, 106.07,  94.  , 219.8 ,  32.42,\n",
       "        19.09, 141.46,  17.47, 173.7 , 141.53,  42.16, 164.36, 210.61,\n",
       "       215.37, 330.2 ,  28.21,  98.9 ,  36.22,  39.8 ,  99.42,  94.02,\n",
       "        26.46, 176.8 ,  87.47, 199.67, 123.11, 357.76, 162.84, 271.92,\n",
       "       130.73, 282.66,  59.38,  29.98,  28.77,  40.23,  90.66,  14.87,\n",
       "        15.41, 101.63,  17.98, 269.1 , 226.43, 147.09,  89.98, 104.65,\n",
       "        29.75, 147.93, 100.61, 128.32, 175.19,  15.92, 222.79, 118.38,\n",
       "        14.87, 275.77, 105.68,  33.56,  78.59, 259.5 , 122.94, 374.51,\n",
       "       281.63, 224.59, 226.02, 161.2 ,  18.92, 113.6 , 156.4 ,  17.55,\n",
       "        45.45,  96.38, 196.74, 209.71,  56.11, 179.8 , 100.26, 249.98,\n",
       "       114.77, 319.81,  69.02,  34.75,  16.9 , 221.03, 244.79,  90.69,\n",
       "       111.78,  29.8 ,  95.11, 143.44, 171.09, 117.94, 106.74,  41.23,\n",
       "       119.  , 103.13,  75.14, 110.54, 317.3 , 129.34, 265.07, 138.33,\n",
       "       304.31, 196.13,  67.18, 118.45,  98.2 , 104.64, 268.65, 267.54,\n",
       "       109.17, 119.92, 126.66,  18.1 , 140.66, 267.42,  26.33,  89.2 ,\n",
       "       116.02, 122.26, 188.94, 125.08, 298.22,  90.55, 100.21, 133.89,\n",
       "       303.82, 125.76, 155.  , 129.99,  35.09, 190.11,  17.31,  29.78,\n",
       "        18.81, 229.06, 101.58, 152.99, 248.17, 132.7 , 120.32,  27.41,\n",
       "       194.93,  17.38, 135.85,  31.21,  39.9 , 103.36,  57.19, 186.05,\n",
       "        19.36,  92.92, 180.35,  31.22, 319.43, 268.94,  17.3 , 370.81,\n",
       "       114.53, 257.67,  34.63,  85.4 ,  28.19, 275.63,  60.14,  77.49,\n",
       "       124.78, 159.48, 224.12])"
      ]
     },
     "execution_count": 21,
     "metadata": {},
     "output_type": "execute_result"
    }
   ],
   "source": [
    "y_pred_1"
   ]
  },
  {
   "cell_type": "code",
   "execution_count": null,
   "id": "ebf2ef4d",
   "metadata": {},
   "outputs": [],
   "source": []
  },
  {
   "cell_type": "markdown",
   "id": "c8920b87",
   "metadata": {},
   "source": [
    "## Lv2 튜닝 4/4 python 파이썬 GridSearch 구현"
   ]
  },
  {
   "cell_type": "code",
   "execution_count": 23,
   "id": "b1d04e6d",
   "metadata": {},
   "outputs": [],
   "source": [
    "X_train = train.drop(['count', 'id', 'hour_bef_windspeed', 'hour_bef_pm2.5'], axis=1)\n",
    "Y_train = train['count']\n",
    "test = test.drop(['id', 'hour_bef_windspeed', 'hour_bef_pm2.5'], axis=1)"
   ]
  },
  {
   "cell_type": "code",
   "execution_count": 24,
   "id": "f62529b6",
   "metadata": {},
   "outputs": [
    {
     "name": "stderr",
     "output_type": "stream",
     "text": [
      "C:\\Users\\82106\\anaconda3\\lib\\site-packages\\sklearn\\model_selection\\_validation.py:372: FitFailedWarning: \n",
      "27 fits failed out of a total of 81.\n",
      "The score on these train-test partitions for these parameters will be set to nan.\n",
      "If these failures are not expected, you can try to debug them by setting error_score='raise'.\n",
      "\n",
      "Below are more details about the failures:\n",
      "--------------------------------------------------------------------------------\n",
      "27 fits failed with the following error:\n",
      "Traceback (most recent call last):\n",
      "  File \"C:\\Users\\82106\\anaconda3\\lib\\site-packages\\sklearn\\model_selection\\_validation.py\", line 680, in _fit_and_score\n",
      "    estimator.fit(X_train, y_train, **fit_params)\n",
      "  File \"C:\\Users\\82106\\anaconda3\\lib\\site-packages\\sklearn\\ensemble\\_forest.py\", line 450, in fit\n",
      "    trees = Parallel(\n",
      "  File \"C:\\Users\\82106\\anaconda3\\lib\\site-packages\\joblib\\parallel.py\", line 1043, in __call__\n",
      "    if self.dispatch_one_batch(iterator):\n",
      "  File \"C:\\Users\\82106\\anaconda3\\lib\\site-packages\\joblib\\parallel.py\", line 861, in dispatch_one_batch\n",
      "    self._dispatch(tasks)\n",
      "  File \"C:\\Users\\82106\\anaconda3\\lib\\site-packages\\joblib\\parallel.py\", line 779, in _dispatch\n",
      "    job = self._backend.apply_async(batch, callback=cb)\n",
      "  File \"C:\\Users\\82106\\anaconda3\\lib\\site-packages\\joblib\\_parallel_backends.py\", line 208, in apply_async\n",
      "    result = ImmediateResult(func)\n",
      "  File \"C:\\Users\\82106\\anaconda3\\lib\\site-packages\\joblib\\_parallel_backends.py\", line 572, in __init__\n",
      "    self.results = batch()\n",
      "  File \"C:\\Users\\82106\\anaconda3\\lib\\site-packages\\joblib\\parallel.py\", line 262, in __call__\n",
      "    return [func(*args, **kwargs)\n",
      "  File \"C:\\Users\\82106\\anaconda3\\lib\\site-packages\\joblib\\parallel.py\", line 262, in <listcomp>\n",
      "    return [func(*args, **kwargs)\n",
      "  File \"C:\\Users\\82106\\anaconda3\\lib\\site-packages\\sklearn\\utils\\fixes.py\", line 216, in __call__\n",
      "    return self.function(*args, **kwargs)\n",
      "  File \"C:\\Users\\82106\\anaconda3\\lib\\site-packages\\sklearn\\ensemble\\_forest.py\", line 185, in _parallel_build_trees\n",
      "    tree.fit(X, y, sample_weight=curr_sample_weight, check_input=False)\n",
      "  File \"C:\\Users\\82106\\anaconda3\\lib\\site-packages\\sklearn\\tree\\_classes.py\", line 1315, in fit\n",
      "    super().fit(\n",
      "  File \"C:\\Users\\82106\\anaconda3\\lib\\site-packages\\sklearn\\tree\\_classes.py\", line 308, in fit\n",
      "    raise ValueError(\"max_features must be in (0, n_features]\")\n",
      "ValueError: max_features must be in (0, n_features]\n",
      "\n",
      "  warnings.warn(some_fits_failed_message, FitFailedWarning)\n",
      "C:\\Users\\82106\\anaconda3\\lib\\site-packages\\sklearn\\model_selection\\_search.py:969: UserWarning: One or more of the test scores are non-finite: [0.76471255 0.76715733 0.76760135 0.7595002  0.76149772 0.76242049\n",
      " 0.75483632 0.75634884 0.7565387  0.76572399 0.7668088  0.76744152\n",
      " 0.7636398  0.76448244 0.76510206 0.75588522 0.75662569 0.75778341\n",
      "        nan        nan        nan        nan        nan        nan\n",
      "        nan        nan        nan]\n",
      "  warnings.warn(\n",
      "C:\\Users\\82106\\anaconda3\\lib\\site-packages\\sklearn\\ensemble\\_forest.py:396: FutureWarning: Criterion 'mse' was deprecated in v1.0 and will be removed in version 1.2. Use `criterion='squared_error'` which is equivalent.\n",
      "  warn(\n"
     ]
    },
    {
     "data": {
      "text/plain": [
       "GridSearchCV(cv=3,\n",
       "             estimator=RandomForestRegressor(criterion='mse', random_state=11),\n",
       "             n_jobs=-1,\n",
       "             param_grid={'max_features': [5, 6, 8],\n",
       "                         'min_samples_leaf': [1, 3, 5],\n",
       "                         'n_estimators': [200, 300, 500]})"
      ]
     },
     "execution_count": 24,
     "metadata": {},
     "output_type": "execute_result"
    }
   ],
   "source": [
    "from sklearn.model_selection import GridSearchCV\n",
    "\n",
    "\n",
    "model = RandomForestRegressor(criterion = 'mse', random_state=11)\n",
    "\n",
    "\n",
    "params = {'n_estimators': [200, 300, 500],\n",
    "          'max_features': [5, 6, 8],\n",
    "          'min_samples_leaf': [1, 3, 5]}\n",
    "\n",
    "\n",
    "greedy_CV = GridSearchCV(model, param_grid=params, cv = 3, n_jobs = -1)\n",
    "greedy_CV.fit(X_train, Y_train)"
   ]
  },
  {
   "cell_type": "code",
   "execution_count": null,
   "id": "219c86ab",
   "metadata": {},
   "outputs": [],
   "source": []
  },
  {
   "cell_type": "code",
   "execution_count": null,
   "id": "22b6df42",
   "metadata": {},
   "outputs": [],
   "source": []
  }
 ],
 "metadata": {
  "kernelspec": {
   "display_name": "Python 3 (ipykernel)",
   "language": "python",
   "name": "python3"
  },
  "language_info": {
   "codemirror_mode": {
    "name": "ipython",
    "version": 3
   },
   "file_extension": ".py",
   "mimetype": "text/x-python",
   "name": "python",
   "nbconvert_exporter": "python",
   "pygments_lexer": "ipython3",
   "version": "3.9.7"
  }
 },
 "nbformat": 4,
 "nbformat_minor": 5
}
