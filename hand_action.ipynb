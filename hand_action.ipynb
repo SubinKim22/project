{
 "cells": [
  {
   "cell_type": "raw",
   "id": "a46779ca",
   "metadata": {},
   "source": [
    "```\n",
    "22.03.07\n",
    "1. 보팅(xgboost + LGBM + RF) => 0.8278\n",
    "2. pycaret(catboost제외) => 0.8415\n",
    "3. 보팅 (extratree + LGBM + catboost) => 0.8411\n",
    "```\n",
    "22.03.08\n",
    "1. pycaret(catboost포함) => 0.8464 \n",
    "2. 보팅 (extratree + LGBM + catboost)- 파라미터 추가 => 0.847 (best)\n",
    "\n",
    "해볼것\n",
    "1. 파라미터 튜닝\n",
    "2. validation 만들기\n",
    "3. 딥러닝 기반"
   ]
  },
  {
   "cell_type": "markdown",
   "id": "d7c20f78",
   "metadata": {},
   "source": [
    "# 보팅 (xgboost + lgbm + rf)"
   ]
  },
  {
   "cell_type": "code",
   "execution_count": 4,
   "id": "7dcae1c8",
   "metadata": {},
   "outputs": [
    {
     "name": "stdout",
     "output_type": "stream",
     "text": [
      "3.4.3\n"
     ]
    }
   ],
   "source": [
    "import pandas as pd\n",
    "import os\n",
    "import matplotlib as mpl\n",
    "from matplotlib import font_manager, rc\n",
    "import matplotlib.pyplot as plt\n",
    "import numpy as np\n",
    "import pandas as pd\n",
    "print(mpl.__version__)\n",
    "# seaborn 스타일 사용\n",
    "plt.style.use('seaborn-notebook')\n",
    "\n",
    "# matplotlib 그래프 한글폰트 깨질 때 대처(Mac & Window)\n",
    "import platform\n",
    "if platform.system() == 'Windows':\n",
    "# 윈도우인 경우\n",
    "    font_name = font_manager.FontProperties(fname=\"c:/Windows/Fonts/malgun.ttf\").get_name()\n",
    "    rc('font', family=font_name)\n",
    "else:    \n",
    "# Mac 인 경우\n",
    "    rc('font', family='AppleGothic')\n",
    "    \n",
    "# 그래프에서 마이너스 기호가 표시되도록 하는 설정\n",
    "mpl.rcParams['axes.unicode_minus'] = False\n",
    "\n",
    "import seaborn as sns\n",
    "import warnings\n",
    "warnings.filterwarnings('ignore')\n",
    "%matplotlib inline\n"
   ]
  },
  {
   "cell_type": "code",
   "execution_count": 5,
   "id": "073175a1",
   "metadata": {},
   "outputs": [],
   "source": [
    "train = pd.read_csv('train.csv')\n",
    "test = pd.read_csv('test.csv')\n",
    "\n",
    "train.drop('id', axis=1, inplace=True)\n",
    "test.drop('id', axis=1, inplace=True)\n",
    "\n",
    "train_X = train.drop('target', axis=1)\n",
    "train_y = train.target"
   ]
  },
  {
   "cell_type": "code",
   "execution_count": null,
   "id": "81125f80",
   "metadata": {},
   "outputs": [],
   "source": [
    "from lightgbm import LGBMClassifier\n",
    "from xgboost import XGBClassifier\n",
    "from sklearn.ensemble import VotingClassifier\n",
    "from sklearn.ensemble import RandomForestClassifier"
   ]
  },
  {
   "cell_type": "code",
   "execution_count": null,
   "id": "15d007a5",
   "metadata": {},
   "outputs": [],
   "source": [
    "LGBM = LGBMClassifier()\n",
    "XGB = XGBClassifier()\n",
    "RF = RandomForestClassifier()\n",
    "\n",
    "VC = VotingClassifier(estimators=[('rf',RF),('xgb',XGB),('lgbm',LGBM)],voting = 'soft')"
   ]
  },
  {
   "cell_type": "code",
   "execution_count": null,
   "id": "6d9aa109",
   "metadata": {
    "scrolled": true
   },
   "outputs": [],
   "source": [
    "VC.fit(train_X,train_y)"
   ]
  },
  {
   "cell_type": "code",
   "execution_count": null,
   "id": "ca964467",
   "metadata": {},
   "outputs": [],
   "source": [
    "pred = VC.predict(test)"
   ]
  },
  {
   "cell_type": "code",
   "execution_count": null,
   "id": "870b7496",
   "metadata": {},
   "outputs": [],
   "source": [
    "submission = pd.read_csv('sample_submission.csv')\n",
    "\n",
    "submission['target'] = pred\n",
    "\n",
    "submission\n",
    "\n",
    "submission.to_csv('submission.csv',index=False)"
   ]
  },
  {
   "cell_type": "code",
   "execution_count": null,
   "id": "23bf9821",
   "metadata": {},
   "outputs": [],
   "source": []
  },
  {
   "cell_type": "code",
   "execution_count": null,
   "id": "2d4316a0",
   "metadata": {},
   "outputs": [],
   "source": []
  },
  {
   "cell_type": "markdown",
   "id": "e721c34a",
   "metadata": {},
   "source": [
    "# pycaret"
   ]
  },
  {
   "cell_type": "code",
   "execution_count": null,
   "id": "a0bb1b9a",
   "metadata": {},
   "outputs": [],
   "source": [
    "from pycaret.classification import *"
   ]
  },
  {
   "cell_type": "code",
   "execution_count": null,
   "id": "f2b74229",
   "metadata": {},
   "outputs": [],
   "source": [
    "setup_clf = setup(data = train, target = 'target', fold_shuffle=True, use_gpu=True, silent=True)"
   ]
  },
  {
   "cell_type": "code",
   "execution_count": null,
   "id": "bd22bd5c",
   "metadata": {
    "scrolled": false
   },
   "outputs": [],
   "source": [
    "top10 = compare_models(sort='Accuracy', n_select=10, fold = 5)"
   ]
  },
  {
   "cell_type": "code",
   "execution_count": null,
   "id": "afd53e1a",
   "metadata": {
    "scrolled": true
   },
   "outputs": [],
   "source": [
    "tuned_top10 = [tune_model(i, fold = 5) for i in top10]"
   ]
  },
  {
   "cell_type": "code",
   "execution_count": null,
   "id": "b9cbbd05",
   "metadata": {
    "scrolled": false
   },
   "outputs": [],
   "source": [
    "blender_top10 = blend_models(estimator_list=tuned_top10)"
   ]
  },
  {
   "cell_type": "code",
   "execution_count": null,
   "id": "669c3452",
   "metadata": {},
   "outputs": [],
   "source": [
    "final_model = finalize_model(blender_top10)\n",
    "prediction = predict_model(final_model, data= test)"
   ]
  },
  {
   "cell_type": "code",
   "execution_count": null,
   "id": "5aa27d39",
   "metadata": {
    "scrolled": true
   },
   "outputs": [],
   "source": [
    "prediction"
   ]
  },
  {
   "cell_type": "code",
   "execution_count": null,
   "id": "9edb2ba9",
   "metadata": {},
   "outputs": [],
   "source": [
    "prediction['Label']"
   ]
  },
  {
   "cell_type": "code",
   "execution_count": null,
   "id": "a70638fd",
   "metadata": {},
   "outputs": [],
   "source": [
    "submission = pd.read_csv('sample_submission.csv')\n",
    "\n",
    "submission['target'] = prediction['Label']\n",
    "\n",
    "submission\n",
    "\n",
    "submission.to_csv('submission.csv',index=False)"
   ]
  },
  {
   "cell_type": "code",
   "execution_count": null,
   "id": "f2b5c250",
   "metadata": {},
   "outputs": [],
   "source": [
    "# extratree => 0.87\n",
    "# xgboost => 0.87"
   ]
  },
  {
   "cell_type": "code",
   "execution_count": null,
   "id": "32194bfe",
   "metadata": {},
   "outputs": [],
   "source": []
  },
  {
   "cell_type": "code",
   "execution_count": null,
   "id": "b2baf332",
   "metadata": {},
   "outputs": [],
   "source": []
  },
  {
   "cell_type": "markdown",
   "id": "51907d52",
   "metadata": {},
   "source": [
    "# 보팅 (extratree + LGBM + catboost)"
   ]
  },
  {
   "cell_type": "code",
   "execution_count": null,
   "id": "2cdbc858",
   "metadata": {},
   "outputs": [],
   "source": [
    "train = pd.read_csv('train.csv')\n",
    "test = pd.read_csv('test.csv')\n",
    "\n",
    "train.drop('id', axis=1, inplace=True)\n",
    "test.drop('id', axis=1, inplace=True)\n",
    "\n",
    "train_X = train.drop('target', axis=1)\n",
    "train_y = train.target"
   ]
  },
  {
   "cell_type": "code",
   "execution_count": null,
   "id": "2b7b64fe",
   "metadata": {},
   "outputs": [],
   "source": [
    "from lightgbm import LGBMClassifier\n",
    "from xgboost import XGBClassifier\n",
    "from sklearn.ensemble import VotingClassifier\n",
    "from sklearn.ensemble import RandomForestClassifier\n",
    "from sklearn.ensemble import ExtraTreesClassifier\n",
    "import catboost as ctb"
   ]
  },
  {
   "cell_type": "code",
   "execution_count": null,
   "id": "ba274eeb",
   "metadata": {},
   "outputs": [],
   "source": [
    "LGBM = LGBMClassifier(max_bin=300, num_leaves=24)\n",
    "xtree = ExtraTreesClassifier(max_depth=6)\n",
    "ctb = ctb.CatBoostClassifier(silent=True, depth=6, l2_leaf_reg=7, learning_rate=0.1)\n",
    "\n",
    "VC = VotingClassifier(estimators=[('xt',xtree),('ctb',ctb),('lgbm',LGBM)],voting = 'soft')"
   ]
  },
  {
   "cell_type": "code",
   "execution_count": null,
   "id": "d662b03f",
   "metadata": {},
   "outputs": [],
   "source": [
    "VC.fit(train_X, train_y)"
   ]
  },
  {
   "cell_type": "code",
   "execution_count": null,
   "id": "f364ac68",
   "metadata": {},
   "outputs": [],
   "source": [
    "pred = VC.predict(test)"
   ]
  },
  {
   "cell_type": "code",
   "execution_count": null,
   "id": "67fc9faf",
   "metadata": {},
   "outputs": [],
   "source": [
    "submission = pd.read_csv('sample_submission.csv')\n",
    "\n",
    "submission['target'] = pred\n",
    "\n",
    "submission\n",
    "\n",
    "submission.to_csv('submission.csv',index=False)"
   ]
  },
  {
   "cell_type": "code",
   "execution_count": null,
   "id": "b36a3e70",
   "metadata": {},
   "outputs": [],
   "source": []
  },
  {
   "cell_type": "code",
   "execution_count": null,
   "id": "0e815cb6",
   "metadata": {},
   "outputs": [],
   "source": []
  },
  {
   "cell_type": "code",
   "execution_count": null,
   "id": "192a61b4",
   "metadata": {},
   "outputs": [],
   "source": []
  },
  {
   "cell_type": "code",
   "execution_count": null,
   "id": "d4980243",
   "metadata": {},
   "outputs": [],
   "source": []
  },
  {
   "cell_type": "code",
   "execution_count": null,
   "id": "1395742c",
   "metadata": {},
   "outputs": [],
   "source": []
  },
  {
   "cell_type": "code",
   "execution_count": null,
   "id": "83d570d0",
   "metadata": {},
   "outputs": [],
   "source": []
  },
  {
   "cell_type": "code",
   "execution_count": null,
   "id": "092e1bac",
   "metadata": {},
   "outputs": [],
   "source": []
  },
  {
   "cell_type": "code",
   "execution_count": null,
   "id": "513b4589",
   "metadata": {},
   "outputs": [],
   "source": []
  },
  {
   "cell_type": "code",
   "execution_count": null,
   "id": "90a288e4",
   "metadata": {},
   "outputs": [],
   "source": []
  },
  {
   "cell_type": "code",
   "execution_count": null,
   "id": "868f733a",
   "metadata": {},
   "outputs": [],
   "source": []
  },
  {
   "cell_type": "code",
   "execution_count": null,
   "id": "579fb2bf",
   "metadata": {},
   "outputs": [],
   "source": []
  },
  {
   "cell_type": "code",
   "execution_count": null,
   "id": "5452b9ae",
   "metadata": {},
   "outputs": [],
   "source": []
  },
  {
   "cell_type": "code",
   "execution_count": null,
   "id": "f5bf8848",
   "metadata": {},
   "outputs": [],
   "source": []
  },
  {
   "cell_type": "code",
   "execution_count": null,
   "id": "e2015725",
   "metadata": {},
   "outputs": [],
   "source": []
  },
  {
   "cell_type": "code",
   "execution_count": null,
   "id": "4436c4c9",
   "metadata": {},
   "outputs": [],
   "source": []
  },
  {
   "cell_type": "markdown",
   "id": "4006397d",
   "metadata": {},
   "source": [
    "# 정확도 계산 - test셋을 분리 후 정확도 보기"
   ]
  },
  {
   "cell_type": "markdown",
   "id": "b6c91f51",
   "metadata": {},
   "source": [
    "## 보팅으로 정확도 보기"
   ]
  },
  {
   "cell_type": "code",
   "execution_count": null,
   "id": "898c525b",
   "metadata": {},
   "outputs": [],
   "source": [
    "train = pd.read_csv('train.csv')\n",
    "test = pd.read_csv('test.csv')\n",
    "\n",
    "train.drop('id', axis=1, inplace=True)\n",
    "test.drop('id', axis=1, inplace=True)\n",
    "\n",
    "train_X = train.drop('target', axis=1)\n",
    "train_y = train.target"
   ]
  },
  {
   "cell_type": "code",
   "execution_count": null,
   "id": "d97b567e",
   "metadata": {},
   "outputs": [],
   "source": [
    "from sklearn.model_selection import train_test_split"
   ]
  },
  {
   "cell_type": "code",
   "execution_count": null,
   "id": "41167c35",
   "metadata": {},
   "outputs": [],
   "source": [
    "X_train, X_test, y_train, y_test = train_test_split(train_X, train_y,\n",
    "                                                   test_size = 0.2, random_state=1)"
   ]
  },
  {
   "cell_type": "code",
   "execution_count": null,
   "id": "9fb76896",
   "metadata": {},
   "outputs": [],
   "source": [
    "from lightgbm import LGBMClassifier\n",
    "from xgboost import XGBClassifier\n",
    "from sklearn.ensemble import VotingClassifier\n",
    "from sklearn.ensemble import RandomForestClassifier"
   ]
  },
  {
   "cell_type": "code",
   "execution_count": null,
   "id": "886a573a",
   "metadata": {},
   "outputs": [],
   "source": [
    "LGBM = LGBMClassifier()\n",
    "XGB = XGBClassifier()\n",
    "RF = RandomForestClassifier()\n",
    "\n",
    "VC = VotingClassifier(estimators=[('rf',RF),('xgb',XGB),('lgbm',LGBM)],voting = 'soft')"
   ]
  },
  {
   "cell_type": "code",
   "execution_count": null,
   "id": "f9e190eb",
   "metadata": {
    "scrolled": true
   },
   "outputs": [],
   "source": [
    "VC.fit(X_train, y_train)"
   ]
  },
  {
   "cell_type": "code",
   "execution_count": null,
   "id": "8767f27a",
   "metadata": {},
   "outputs": [],
   "source": [
    "pred = VC.predict(X_test)"
   ]
  },
  {
   "cell_type": "code",
   "execution_count": null,
   "id": "8d077957",
   "metadata": {},
   "outputs": [],
   "source": [
    "from sklearn.metrics import accuracy_score\n",
    "print('예측 정확도: {0:.4f}'.format(accuracy_score(y_test, pred)))\n",
    "\n",
    "\n",
    "# 예측 정확도: 0.8373"
   ]
  },
  {
   "cell_type": "code",
   "execution_count": null,
   "id": "6c1418eb",
   "metadata": {},
   "outputs": [],
   "source": []
  },
  {
   "cell_type": "code",
   "execution_count": null,
   "id": "e82bbe68",
   "metadata": {},
   "outputs": [],
   "source": []
  },
  {
   "cell_type": "markdown",
   "id": "bb70b633",
   "metadata": {},
   "source": [
    "## ExtraTreesClassifier"
   ]
  },
  {
   "cell_type": "code",
   "execution_count": null,
   "id": "00a54f36",
   "metadata": {},
   "outputs": [],
   "source": [
    "from sklearn.ensemble import ExtraTreesClassifier"
   ]
  },
  {
   "cell_type": "code",
   "execution_count": null,
   "id": "2eeb81d7",
   "metadata": {},
   "outputs": [],
   "source": [
    "xtree = ExtraTreesClassifier()\n",
    "xtree.fit(X_train, y_train)"
   ]
  },
  {
   "cell_type": "code",
   "execution_count": null,
   "id": "03a155e7",
   "metadata": {},
   "outputs": [],
   "source": [
    "pred = xtree.predict(X_test)"
   ]
  },
  {
   "cell_type": "code",
   "execution_count": null,
   "id": "8a4af50e",
   "metadata": {},
   "outputs": [],
   "source": [
    "from sklearn.metrics import accuracy_score\n",
    "print('예측 정확도: {0:.4f}'.format(accuracy_score(y_test, pred)))\n",
    "\n",
    "\n",
    "# 예측 정확도: 0.8030"
   ]
  },
  {
   "cell_type": "code",
   "execution_count": null,
   "id": "e5032162",
   "metadata": {},
   "outputs": [],
   "source": []
  },
  {
   "cell_type": "code",
   "execution_count": null,
   "id": "e0f1be39",
   "metadata": {},
   "outputs": [],
   "source": []
  },
  {
   "cell_type": "markdown",
   "id": "7e7e1e37",
   "metadata": {},
   "source": [
    "## 보팅으로 정확도 보기2 (RF -> extratree)"
   ]
  },
  {
   "cell_type": "code",
   "execution_count": null,
   "id": "8d13fafd",
   "metadata": {},
   "outputs": [],
   "source": [
    "train = pd.read_csv('train.csv')\n",
    "test = pd.read_csv('test.csv')\n",
    "\n",
    "train.drop('id', axis=1, inplace=True)\n",
    "test.drop('id', axis=1, inplace=True)\n",
    "\n",
    "train_X = train.drop('target', axis=1)\n",
    "train_y = train.target"
   ]
  },
  {
   "cell_type": "code",
   "execution_count": null,
   "id": "67bca761",
   "metadata": {},
   "outputs": [],
   "source": [
    "from sklearn.model_selection import train_test_split\n",
    "from sklearn.model_selection import GridSearchCV"
   ]
  },
  {
   "cell_type": "code",
   "execution_count": null,
   "id": "d7c702ff",
   "metadata": {},
   "outputs": [],
   "source": [
    "X_train, X_test, y_train, y_test = train_test_split(train_X, train_y,\n",
    "                                                   test_size = 0.2, random_state=1)"
   ]
  },
  {
   "cell_type": "code",
   "execution_count": null,
   "id": "f847cb41",
   "metadata": {},
   "outputs": [],
   "source": [
    "from lightgbm import LGBMClassifier\n",
    "from xgboost import XGBClassifier\n",
    "from sklearn.ensemble import VotingClassifier\n",
    "from sklearn.ensemble import RandomForestClassifier\n",
    "from sklearn.ensemble import ExtraTreesClassifier"
   ]
  },
  {
   "cell_type": "code",
   "execution_count": null,
   "id": "88664761",
   "metadata": {},
   "outputs": [],
   "source": [
    "LGBM = LGBMClassifier()\n",
    "XGB = XGBClassifier()\n",
    "xtree = ExtraTreesClassifier()\n",
    "\n",
    "VC = VotingClassifier(estimators=[('xt',xtree),('xgb',XGB),('lgbm',LGBM)],voting = 'soft')"
   ]
  },
  {
   "cell_type": "code",
   "execution_count": null,
   "id": "c9b7eb8f",
   "metadata": {
    "scrolled": true
   },
   "outputs": [],
   "source": [
    "VC.fit(X_train, y_train)"
   ]
  },
  {
   "cell_type": "code",
   "execution_count": null,
   "id": "eee6b674",
   "metadata": {},
   "outputs": [],
   "source": [
    "pred = VC.predict(X_test)"
   ]
  },
  {
   "cell_type": "code",
   "execution_count": null,
   "id": "729feb37",
   "metadata": {},
   "outputs": [],
   "source": [
    "from sklearn.metrics import accuracy_score\n",
    "print('예측 정확도: {0:.4f}'.format(accuracy_score(y_test, pred)))\n",
    "\n",
    "\n",
    "# 예측 정확도: 0.8415"
   ]
  },
  {
   "cell_type": "code",
   "execution_count": null,
   "id": "bf51d4b8",
   "metadata": {},
   "outputs": [],
   "source": []
  },
  {
   "cell_type": "code",
   "execution_count": null,
   "id": "f30ed2b5",
   "metadata": {},
   "outputs": [],
   "source": []
  },
  {
   "cell_type": "markdown",
   "id": "806f9eaa",
   "metadata": {},
   "source": [
    "## 랜덤포레스트로 정확도 보기"
   ]
  },
  {
   "cell_type": "code",
   "execution_count": null,
   "id": "547d0849",
   "metadata": {},
   "outputs": [],
   "source": [
    "rf_clf = RandomForestClassifier()\n",
    "rf_clf.fit(X_train , y_train)\n",
    "pred = rf_clf.predict(X_test)\n",
    "pred"
   ]
  },
  {
   "cell_type": "code",
   "execution_count": null,
   "id": "3150ada6",
   "metadata": {},
   "outputs": [],
   "source": [
    "from sklearn.metrics import accuracy_score\n",
    "print('예측 정확도: {0:.4f}'.format(accuracy_score(y_test, pred)))\n",
    "\n",
    "\n",
    "# 예측 정확도: 0.7709"
   ]
  },
  {
   "cell_type": "code",
   "execution_count": null,
   "id": "736b1f0b",
   "metadata": {},
   "outputs": [],
   "source": []
  },
  {
   "cell_type": "code",
   "execution_count": null,
   "id": "a6ea58d8",
   "metadata": {},
   "outputs": [],
   "source": []
  },
  {
   "cell_type": "markdown",
   "id": "6ba729da",
   "metadata": {},
   "source": [
    "## xgboost로 정확도 보기"
   ]
  },
  {
   "cell_type": "code",
   "execution_count": null,
   "id": "bf4a5a42",
   "metadata": {},
   "outputs": [],
   "source": [
    "import xgboost as xgb "
   ]
  },
  {
   "cell_type": "code",
   "execution_count": null,
   "id": "4d25e318",
   "metadata": {},
   "outputs": [],
   "source": [
    "dtrain = xgb.DMatrix(data=X_train , label=y_train)\n",
    "dtest = xgb.DMatrix(data=X_test , label=y_test)"
   ]
  },
  {
   "cell_type": "code",
   "execution_count": null,
   "id": "d993e9b6",
   "metadata": {},
   "outputs": [],
   "source": [
    "params = { 'max_depth':3,\n",
    "           'eta': 0.1,   # 학습률\n",
    "           'objective':'multi:softmax',\n",
    "           'eval_metric':'merror',\n",
    "           'early_stoppings':10\n",
    "        }\n",
    "\n",
    "# 학습 횟수\n",
    "num_rounds = 100"
   ]
  },
  {
   "cell_type": "code",
   "execution_count": null,
   "id": "f3d9bb50",
   "metadata": {},
   "outputs": [],
   "source": [
    "# 데이터를 학습용은 ‘train’ , 검증용은 ‘eval’로 표시\n",
    "wlist = [(dtrain,'train'),(dtest,'eval') ]"
   ]
  },
  {
   "cell_type": "code",
   "execution_count": null,
   "id": "232ea86e",
   "metadata": {},
   "outputs": [],
   "source": [
    "# 하이퍼 파라미터와 early stopping 파라미터를 train( ) 함수의 파라미터로 전달\n",
    "xgb_model = xgb.train(params = params, dtrain=dtrain, num_boost_round=num_rounds, evals=wlist)  #xgb.fit이 아닌 xgb.train\n",
    "xgb_model"
   ]
  },
  {
   "cell_type": "code",
   "execution_count": null,
   "id": "4d0b7afb",
   "metadata": {},
   "outputs": [],
   "source": []
  },
  {
   "cell_type": "markdown",
   "id": "fa460939",
   "metadata": {},
   "source": [
    "## Catboost"
   ]
  },
  {
   "cell_type": "code",
   "execution_count": null,
   "id": "3dda0423",
   "metadata": {},
   "outputs": [],
   "source": [
    "import catboost as ctb"
   ]
  },
  {
   "cell_type": "code",
   "execution_count": null,
   "id": "7518f207",
   "metadata": {},
   "outputs": [],
   "source": [
    "model_CBC = ctb.CatBoostClassifier()"
   ]
  },
  {
   "cell_type": "code",
   "execution_count": null,
   "id": "f085d2c6",
   "metadata": {},
   "outputs": [],
   "source": [
    "model_CBC.fit(X_train, y_train)"
   ]
  },
  {
   "cell_type": "code",
   "execution_count": null,
   "id": "552074de",
   "metadata": {},
   "outputs": [],
   "source": [
    "pred = model_CBC.predict(X_test)"
   ]
  },
  {
   "cell_type": "code",
   "execution_count": null,
   "id": "dc2c1369",
   "metadata": {},
   "outputs": [],
   "source": [
    "from sklearn.metrics import accuracy_score\n",
    "print('예측 정확도: {0:.4f}'.format(accuracy_score(y_test, pred)))\n",
    "\n",
    "#예측 정확도: 0.8458"
   ]
  },
  {
   "cell_type": "code",
   "execution_count": null,
   "id": "99353438",
   "metadata": {},
   "outputs": [],
   "source": []
  },
  {
   "cell_type": "code",
   "execution_count": null,
   "id": "49b2570b",
   "metadata": {},
   "outputs": [],
   "source": []
  },
  {
   "cell_type": "markdown",
   "id": "d0a5b16c",
   "metadata": {},
   "source": [
    "## 보팅으로 정확도 보기2 (xgboost => catboost)"
   ]
  },
  {
   "cell_type": "code",
   "execution_count": 6,
   "id": "8a950b77",
   "metadata": {},
   "outputs": [],
   "source": [
    "train = pd.read_csv('train.csv')\n",
    "test = pd.read_csv('test.csv')\n",
    "\n",
    "train.drop('id', axis=1, inplace=True)\n",
    "test.drop('id', axis=1, inplace=True)\n",
    "\n",
    "train_X = train.drop('target', axis=1)\n",
    "train_y = train.target"
   ]
  },
  {
   "cell_type": "code",
   "execution_count": 7,
   "id": "2b0021b0",
   "metadata": {},
   "outputs": [],
   "source": [
    "from sklearn.model_selection import train_test_split"
   ]
  },
  {
   "cell_type": "code",
   "execution_count": 8,
   "id": "75c2c6bf",
   "metadata": {},
   "outputs": [],
   "source": [
    "X_train, X_test, y_train, y_test = train_test_split(train_X, train_y,\n",
    "                                                   test_size = 0.2, random_state=1)"
   ]
  },
  {
   "cell_type": "code",
   "execution_count": 22,
   "id": "66a875b4",
   "metadata": {},
   "outputs": [],
   "source": [
    "from lightgbm import LGBMClassifier\n",
    "from xgboost import XGBClassifier\n",
    "from sklearn.ensemble import VotingClassifier\n",
    "from sklearn.ensemble import RandomForestClassifier\n",
    "from sklearn.ensemble import ExtraTreesClassifier\n",
    "import catboost as ctb"
   ]
  },
  {
   "cell_type": "code",
   "execution_count": 23,
   "id": "d3581ce3",
   "metadata": {},
   "outputs": [],
   "source": [
    "LGBM = LGBMClassifier(max_bin=100, num_leaves=15, max_depth=6)\n",
    "xtree = ExtraTreesClassifier(max_depth=6)\n",
    "ctb = ctb.CatBoostClassifier(silent=True, depth=6, l2_leaf_reg=7, learning_rate=0.1)\n",
    "\n",
    "\n",
    "VC = VotingClassifier(estimators=[('xt',xtree),('ctb',ctb),('lgbm',LGBM)],voting = 'soft')"
   ]
  },
  {
   "cell_type": "code",
   "execution_count": 24,
   "id": "a704b669",
   "metadata": {
    "scrolled": true
   },
   "outputs": [
    {
     "data": {
      "text/plain": [
       "VotingClassifier(estimators=[('xt', ExtraTreesClassifier(max_depth=6)),\n",
       "                             ('ctb',\n",
       "                              <catboost.core.CatBoostClassifier object at 0x000002105381F160>),\n",
       "                             ('lgbm',\n",
       "                              LGBMClassifier(max_bin=100, max_depth=6,\n",
       "                                             num_leaves=15))],\n",
       "                 voting='soft')"
      ]
     },
     "execution_count": 24,
     "metadata": {},
     "output_type": "execute_result"
    }
   ],
   "source": [
    "VC.fit(X_train, y_train)"
   ]
  },
  {
   "cell_type": "code",
   "execution_count": 25,
   "id": "03614b3c",
   "metadata": {},
   "outputs": [],
   "source": [
    "pred = VC.predict(X_test)"
   ]
  },
  {
   "cell_type": "code",
   "execution_count": 26,
   "id": "0fdac98a",
   "metadata": {},
   "outputs": [
    {
     "data": {
      "text/plain": [
       "array([0, 1, 0, 3, 0, 3, 1, 3, 0, 2, 2, 3, 0, 1, 0, 3, 1, 2, 1, 0, 2, 2,\n",
       "       0, 0, 1, 2, 3, 3, 2, 1, 0, 0, 3, 2, 3, 2, 0, 1, 3, 3, 1, 0, 2, 3,\n",
       "       3, 3, 0, 1, 2, 3, 0, 2, 1, 1, 3, 2, 1, 3, 0, 2, 2, 3, 1, 1, 2, 3,\n",
       "       1, 0, 2, 3, 1, 3, 1, 0, 2, 1, 0, 0, 2, 1, 2, 3, 1, 3, 1, 1, 3, 1,\n",
       "       1, 3, 1, 2, 3, 0, 1, 1, 0, 2, 3, 1, 2, 2, 3, 0, 3, 3, 2, 2, 1, 1,\n",
       "       2, 2, 0, 2, 1, 0, 2, 0, 2, 3, 3, 3, 1, 0, 0, 0, 1, 3, 2, 2, 2, 3,\n",
       "       0, 2, 3, 0, 3, 1, 2, 1, 1, 1, 2, 0, 2, 3, 1, 2, 0, 1, 1, 0, 2, 2,\n",
       "       0, 1, 0, 0, 1, 3, 0, 1, 1, 1, 2, 3, 2, 0, 1, 2, 2, 0, 3, 3, 3, 1,\n",
       "       2, 3, 2, 1, 1, 0, 0, 2, 2, 3, 2, 2, 1, 0, 1, 3, 1, 1, 1, 3, 1, 1,\n",
       "       2, 2, 3, 0, 0, 0, 1, 2, 3, 3, 0, 2, 1, 3, 0, 2, 3, 2, 2, 1, 3, 0,\n",
       "       3, 1, 3, 1, 0, 3, 0, 3, 1, 2, 3, 1, 2, 1, 1, 1, 3, 2, 2, 1, 3, 3,\n",
       "       1, 3, 2, 1, 3, 3, 1, 2, 3, 0, 2, 0, 2, 2, 1, 1, 1, 1, 3, 0, 2, 2,\n",
       "       0, 1, 0, 3, 1, 1, 1, 2, 0, 0, 2, 1, 3, 3, 0, 2, 3, 2, 0, 0, 2, 0,\n",
       "       1, 1, 3, 2, 2, 1, 2, 1, 3, 2, 2, 1, 1, 1, 1, 1, 3, 0, 1, 0, 3, 2,\n",
       "       1, 0, 2, 1, 2, 0, 0, 2, 0, 1, 2, 1, 2, 3, 1, 1, 2, 2, 2, 1, 1, 3,\n",
       "       3, 2, 2, 2, 3, 0, 1, 2, 0, 1, 3, 1, 0, 0, 0, 2, 0, 2, 1, 0, 0, 3,\n",
       "       2, 1, 0, 2, 3, 0, 3, 3, 0, 3, 1, 0, 0, 3, 3, 3, 0, 3, 3, 0, 2, 0,\n",
       "       2, 1, 0, 1, 1, 0, 0, 2, 3, 0, 3, 1, 2, 3, 2, 2, 0, 1, 0, 3, 2, 2,\n",
       "       1, 0, 1, 0, 1, 2, 1, 0, 0, 3, 0, 0, 3, 0, 2, 0, 0, 3, 2, 3, 1, 3,\n",
       "       0, 2, 2, 3, 2, 1, 3, 1, 2, 1, 3, 2, 3, 3, 0, 0, 2, 1, 3, 2, 3, 3,\n",
       "       3, 1, 2, 1, 3, 2, 1, 3, 0, 2, 2, 1, 3, 0, 3, 3, 0, 2, 0, 1, 1, 1,\n",
       "       3, 3, 3, 1, 0], dtype=int64)"
      ]
     },
     "execution_count": 26,
     "metadata": {},
     "output_type": "execute_result"
    }
   ],
   "source": [
    "pred"
   ]
  },
  {
   "cell_type": "code",
   "execution_count": 27,
   "id": "fa8e46a8",
   "metadata": {},
   "outputs": [
    {
     "name": "stdout",
     "output_type": "stream",
     "text": [
      "예측 정확도: 0.8608\n"
     ]
    }
   ],
   "source": [
    "from sklearn.metrics import accuracy_score\n",
    "print('예측 정확도: {0:.4f}'.format(accuracy_score(y_test, pred)))\n",
    "\n",
    "\n",
    "# 예측 정확도: 0.8672"
   ]
  },
  {
   "cell_type": "code",
   "execution_count": null,
   "id": "13df0dc0",
   "metadata": {},
   "outputs": [],
   "source": []
  },
  {
   "cell_type": "code",
   "execution_count": null,
   "id": "fb5fdeb3",
   "metadata": {},
   "outputs": [],
   "source": []
  },
  {
   "cell_type": "markdown",
   "id": "143361ec",
   "metadata": {},
   "source": [
    "# 딥러닝 기반"
   ]
  },
  {
   "cell_type": "code",
   "execution_count": null,
   "id": "4deb97c3",
   "metadata": {},
   "outputs": [],
   "source": [
    "import numpy as np\n",
    "import pandas as pd\n",
    "from keras.models import Sequential\n",
    "from keras.layers import Dense\n",
    "from keras.callbacks import ModelCheckpoint,EarlyStopping\n",
    "import tensorflow as tf"
   ]
  },
  {
   "cell_type": "code",
   "execution_count": null,
   "id": "1c6ed0bb",
   "metadata": {},
   "outputs": [],
   "source": [
    "train = pd.read_csv('train.csv')\n",
    "test = pd.read_csv('test.csv')\n",
    "\n",
    "train.drop('id', axis=1, inplace=True)\n",
    "test.drop('id', axis=1, inplace=True)\n",
    "\n",
    "train_X = train.drop('target', axis=1)\n",
    "train_y = train.target"
   ]
  },
  {
   "cell_type": "code",
   "execution_count": null,
   "id": "d33f91da",
   "metadata": {},
   "outputs": [],
   "source": [
    "from sklearn.model_selection import train_test_split"
   ]
  },
  {
   "cell_type": "code",
   "execution_count": null,
   "id": "be5e8470",
   "metadata": {},
   "outputs": [],
   "source": [
    "X_train, X_test, y_train, y_test = train_test_split(train_X, train_y,\n",
    "                                                   test_size = 0.2, random_state=1)"
   ]
  },
  {
   "cell_type": "raw",
   "id": "b5ebc1b3",
   "metadata": {
    "scrolled": true
   },
   "source": [
    "y_train = np.asarray(y_train).astype('object')"
   ]
  },
  {
   "cell_type": "raw",
   "id": "58b58b1e",
   "metadata": {},
   "source": [
    "from sklearn.preprocessing import LabelEncoder\n",
    "\n",
    "# 문자열을 숫자로 변환\n",
    "e = LabelEncoder()\n",
    "e.fit(y_train)\n",
    "Y = e.transform(y_train)\n",
    "Y_encoded = tf.keras.utils.to_categorical(Y)"
   ]
  },
  {
   "cell_type": "code",
   "execution_count": null,
   "id": "ccdeb2d8",
   "metadata": {},
   "outputs": [],
   "source": []
  },
  {
   "cell_type": "raw",
   "id": "05aed725",
   "metadata": {},
   "source": [
    "from sklearn.preprocessing import StandardScaler\n",
    "\n",
    "# 변형 객체 생성\n",
    "std_scaler = StandardScaler()\n",
    "\n",
    "# 훈련데이터의 모수 분포 저장\n",
    "std_scaler.fit(X_train)\n",
    "\n",
    "# 훈련 데이터 스케일링\n",
    "X_train_scaled = std_scaler.transform(X_train)\n",
    "\n",
    "# 테스트 데이터의 스케일링\n",
    "X_test_scaled = std_scaler.transform(X_test)"
   ]
  },
  {
   "cell_type": "code",
   "execution_count": null,
   "id": "5b0426b5",
   "metadata": {},
   "outputs": [],
   "source": [
    "model = Sequential()\n",
    "model.add(Dense(40, input_dim=32, activation = 'relu'))\n",
    "model.add(Dense(40, activation='relu'))\n",
    "#model.add(Dense(50, activation='relu'))\n",
    "model.add(Dense(4, activation='softmax'))\n",
    "\n",
    "model.compile(loss='sparse_categorical_crossentropy', optimizer='adam', metrics = ['accuracy'])"
   ]
  },
  {
   "cell_type": "code",
   "execution_count": null,
   "id": "0fcaf778",
   "metadata": {
    "scrolled": false
   },
   "outputs": [],
   "source": [
    "model.fit(train_X, train_y, epochs=30, batch_size=5)"
   ]
  },
  {
   "cell_type": "code",
   "execution_count": null,
   "id": "e94b9286",
   "metadata": {},
   "outputs": [],
   "source": []
  },
  {
   "cell_type": "code",
   "execution_count": null,
   "id": "6b627789",
   "metadata": {},
   "outputs": [],
   "source": [
    "# 예측 값과 실제 값의 비교\n",
    "Y_prediction = model.predict(test)\n",
    "# flatten : 데이터 배열이 몇 차원이든 모두 1차원으로 바꿔 읽기 쉽게 해 주는 함수"
   ]
  },
  {
   "cell_type": "code",
   "execution_count": null,
   "id": "1584a0b9",
   "metadata": {},
   "outputs": [],
   "source": [
    "value_list=[]\n",
    "for i in range(len(Y_prediction)):\n",
    "    maxindex = np.argmax(Y_prediction[i])\n",
    "    value_list.append(maxindex)"
   ]
  },
  {
   "cell_type": "code",
   "execution_count": null,
   "id": "5d52529a",
   "metadata": {},
   "outputs": [],
   "source": [
    "from sklearn.metrics import accuracy_score\n",
    "print('예측 정확도: {0:.4f}'.format(accuracy_score(y_test, value_list)))\n",
    "\n",
    "\n",
    "# 예측 정확도: 0.6146"
   ]
  },
  {
   "cell_type": "code",
   "execution_count": null,
   "id": "26f498b2",
   "metadata": {},
   "outputs": [],
   "source": [
    "submission = pd.read_csv('submission.csv')\n",
    "\n",
    "submission['target2'] = value_list\n",
    "\n",
    "submission\n",
    "\n",
    "submission.to_csv('submission.csv',index=False)"
   ]
  },
  {
   "cell_type": "code",
   "execution_count": null,
   "id": "17081541",
   "metadata": {},
   "outputs": [],
   "source": [
    "submission.target2.value_counts()"
   ]
  },
  {
   "cell_type": "code",
   "execution_count": null,
   "id": "96edc40f",
   "metadata": {},
   "outputs": [],
   "source": [
    "submission.target.value_counts()"
   ]
  },
  {
   "cell_type": "code",
   "execution_count": null,
   "id": "1220678f",
   "metadata": {},
   "outputs": [],
   "source": []
  },
  {
   "cell_type": "code",
   "execution_count": null,
   "id": "8940f76d",
   "metadata": {},
   "outputs": [],
   "source": []
  },
  {
   "cell_type": "markdown",
   "id": "f47c36c8",
   "metadata": {},
   "source": [
    "## 파라미터 튜닝"
   ]
  },
  {
   "cell_type": "code",
   "execution_count": null,
   "id": "91374728",
   "metadata": {},
   "outputs": [],
   "source": [
    "from sklearn.model_selection import StratifiedKFold, GridSearchCV"
   ]
  },
  {
   "cell_type": "code",
   "execution_count": null,
   "id": "9efde92a",
   "metadata": {},
   "outputs": [],
   "source": [
    "model_CAT = ctb.CatBoostClassifier(silent = True)\n",
    "\n",
    "grid = {'learning_rate': [0.03, 0.1],\n",
    "        'depth': [4, 6, 10],\n",
    "        'l2_leaf_reg': [1, 3, 5, 7, 9]}\n",
    "\n",
    "grid_cv_CAT = GridSearchCV(model_CAT, param_grid=grid, cv=3 , n_jobs=-1)\n",
    "grid_cv_CAT.fit(X_train, y_train)\n",
    "print('최적 하이퍼 파라미터: ', grid_cv_CAT.best_params_)\n",
    "print('최고 예측 정확도: {:.4f}'.format(grid_cv_CAT.best_score_))"
   ]
  },
  {
   "cell_type": "code",
   "execution_count": null,
   "id": "924b7fe7",
   "metadata": {},
   "outputs": [],
   "source": [
    "model_XGB = XGBClassifier(eval_metric='logloss', silent = True)\n",
    "\n",
    "param_grid={'booster' :['gbtree'],\n",
    "                 'silent':[True],\n",
    "                 'max_depth':[5,6,8],\n",
    "                 'min_child_weight':[1,3,5],\n",
    "                 'gamma':[0,1,2,3],\n",
    "                 'nthread':[4],\n",
    "                 'colsample_bytree':[0.5,0.8],\n",
    "                 'colsample_bylevel':[0.9],\n",
    "                 'n_estimators':[50],\n",
    "                 'objective':['multi:softmax'],\n",
    "                 'random_state':[2]}\n",
    "\n",
    "grid_cv_XGB=GridSearchCV(model_XGB, param_grid=param_grid, cv=5 , n_jobs=-1)\n",
    "grid_cv_XGB.fit(X_train, y_train)\n",
    "print('최적 하이퍼 파라미터: ', grid_cv_XGB.best_params_)\n",
    "print('최고 예측 정확도: {:.4f}'.format(grid_cv_XGB.best_score_))"
   ]
  }
 ],
 "metadata": {
  "kernelspec": {
   "display_name": "Python 3 (ipykernel)",
   "language": "python",
   "name": "python3"
  },
  "language_info": {
   "codemirror_mode": {
    "name": "ipython",
    "version": 3
   },
   "file_extension": ".py",
   "mimetype": "text/x-python",
   "name": "python",
   "nbconvert_exporter": "python",
   "pygments_lexer": "ipython3",
   "version": "3.9.7"
  }
 },
 "nbformat": 4,
 "nbformat_minor": 5
}
