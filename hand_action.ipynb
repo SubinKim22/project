{
 "cells": [
  {
   "cell_type": "raw",
   "id": "a46779ca",
   "metadata": {},
   "source": [
    "```\n",
    "22.03.07\n",
    "1. 보팅(xgboost + LGBM + RF) => 0.8278\n",
    "2. pycaret(catboost제외) => 0.8415\n",
    "3. 보팅 (extratree + LGBM + catboost) => 0.8411\n",
    "```\n",
    "22.03.08\n",
    "1. pycaret(catboost포함) => \n",
    "\n",
    "해볼것\n",
    "1. 파라미터 튜닝\n",
    "2. validation 만들기\n",
    "3. 딥러닝 기반"
   ]
  },
  {
   "cell_type": "markdown",
   "id": "d7c20f78",
   "metadata": {},
   "source": [
    "# 보팅 (xgboost + lgbm + rf)"
   ]
  },
  {
   "cell_type": "code",
   "execution_count": 1,
   "id": "7dcae1c8",
   "metadata": {},
   "outputs": [
    {
     "name": "stdout",
     "output_type": "stream",
     "text": [
      "3.4.3\n"
     ]
    }
   ],
   "source": [
    "import pandas as pd\n",
    "\n",
    "import matplotlib as mpl\n",
    "from matplotlib import font_manager, rc\n",
    "import matplotlib.pyplot as plt\n",
    "import numpy as np\n",
    "import pandas as pd\n",
    "print(mpl.__version__)\n",
    "# seaborn 스타일 사용\n",
    "plt.style.use('seaborn-notebook')\n",
    "\n",
    "# matplotlib 그래프 한글폰트 깨질 때 대처(Mac & Window)\n",
    "import platform\n",
    "if platform.system() == 'Windows':\n",
    "# 윈도우인 경우\n",
    "    font_name = font_manager.FontProperties(fname=\"c:/Windows/Fonts/malgun.ttf\").get_name()\n",
    "    rc('font', family=font_name)\n",
    "else:    \n",
    "# Mac 인 경우\n",
    "    rc('font', family='AppleGothic')\n",
    "    \n",
    "# 그래프에서 마이너스 기호가 표시되도록 하는 설정\n",
    "mpl.rcParams['axes.unicode_minus'] = False\n",
    "\n",
    "import seaborn as sns\n",
    "import warnings\n",
    "warnings.filterwarnings('ignore')\n",
    "%matplotlib inline\n"
   ]
  },
  {
   "cell_type": "code",
   "execution_count": 2,
   "id": "073175a1",
   "metadata": {},
   "outputs": [],
   "source": [
    "train = pd.read_csv('train.csv')\n",
    "test = pd.read_csv('test.csv')\n",
    "\n",
    "train.drop('id', axis=1, inplace=True)\n",
    "test.drop('id', axis=1, inplace=True)\n",
    "\n",
    "train_X = train.drop('target', axis=1)\n",
    "train_y = train.target"
   ]
  },
  {
   "cell_type": "code",
   "execution_count": null,
   "id": "280ef5c2",
   "metadata": {},
   "outputs": [],
   "source": [
    "train"
   ]
  },
  {
   "cell_type": "code",
   "execution_count": null,
   "id": "81125f80",
   "metadata": {},
   "outputs": [],
   "source": [
    "from lightgbm import LGBMClassifier\n",
    "from xgboost import XGBClassifier\n",
    "from sklearn.ensemble import VotingClassifier\n",
    "from sklearn.ensemble import RandomForestClassifier"
   ]
  },
  {
   "cell_type": "code",
   "execution_count": null,
   "id": "15d007a5",
   "metadata": {},
   "outputs": [],
   "source": [
    "LGBM = LGBMClassifier()\n",
    "XGB = XGBClassifier()\n",
    "RF = RandomForestClassifier()\n",
    "\n",
    "VC = VotingClassifier(estimators=[('rf',RF),('xgb',XGB),('lgbm',LGBM)],voting = 'soft')"
   ]
  },
  {
   "cell_type": "code",
   "execution_count": null,
   "id": "6d9aa109",
   "metadata": {
    "scrolled": true
   },
   "outputs": [],
   "source": [
    "VC.fit(train_X,train_y)"
   ]
  },
  {
   "cell_type": "code",
   "execution_count": null,
   "id": "ca964467",
   "metadata": {},
   "outputs": [],
   "source": [
    "pred = VC.predict(test)"
   ]
  },
  {
   "cell_type": "code",
   "execution_count": null,
   "id": "870b7496",
   "metadata": {},
   "outputs": [],
   "source": [
    "submission = pd.read_csv('sample_submission.csv')\n",
    "\n",
    "submission['target'] = pred\n",
    "\n",
    "submission\n",
    "\n",
    "submission.to_csv('submission.csv',index=False)"
   ]
  },
  {
   "cell_type": "code",
   "execution_count": null,
   "id": "23bf9821",
   "metadata": {},
   "outputs": [],
   "source": []
  },
  {
   "cell_type": "markdown",
   "id": "e721c34a",
   "metadata": {},
   "source": [
    "# pycaret"
   ]
  },
  {
   "cell_type": "code",
   "execution_count": 4,
   "id": "a0bb1b9a",
   "metadata": {},
   "outputs": [],
   "source": [
    "from pycaret.classification import *"
   ]
  },
  {
   "cell_type": "code",
   "execution_count": 5,
   "id": "f2b74229",
   "metadata": {},
   "outputs": [
    {
     "data": {
      "text/html": [
       "<style type=\"text/css\">\n",
       "#T_664fd_row18_col1 {\n",
       "  background-color: lightgreen;\n",
       "}\n",
       "</style>\n",
       "<table id=\"T_664fd_\">\n",
       "  <thead>\n",
       "    <tr>\n",
       "      <th class=\"blank level0\" >&nbsp;</th>\n",
       "      <th class=\"col_heading level0 col0\" >Description</th>\n",
       "      <th class=\"col_heading level0 col1\" >Value</th>\n",
       "    </tr>\n",
       "  </thead>\n",
       "  <tbody>\n",
       "    <tr>\n",
       "      <th id=\"T_664fd_level0_row0\" class=\"row_heading level0 row0\" >0</th>\n",
       "      <td id=\"T_664fd_row0_col0\" class=\"data row0 col0\" >session_id</td>\n",
       "      <td id=\"T_664fd_row0_col1\" class=\"data row0 col1\" >7757</td>\n",
       "    </tr>\n",
       "    <tr>\n",
       "      <th id=\"T_664fd_level0_row1\" class=\"row_heading level0 row1\" >1</th>\n",
       "      <td id=\"T_664fd_row1_col0\" class=\"data row1 col0\" >Target</td>\n",
       "      <td id=\"T_664fd_row1_col1\" class=\"data row1 col1\" >target</td>\n",
       "    </tr>\n",
       "    <tr>\n",
       "      <th id=\"T_664fd_level0_row2\" class=\"row_heading level0 row2\" >2</th>\n",
       "      <td id=\"T_664fd_row2_col0\" class=\"data row2 col0\" >Target Type</td>\n",
       "      <td id=\"T_664fd_row2_col1\" class=\"data row2 col1\" >Multiclass</td>\n",
       "    </tr>\n",
       "    <tr>\n",
       "      <th id=\"T_664fd_level0_row3\" class=\"row_heading level0 row3\" >3</th>\n",
       "      <td id=\"T_664fd_row3_col0\" class=\"data row3 col0\" >Label Encoded</td>\n",
       "      <td id=\"T_664fd_row3_col1\" class=\"data row3 col1\" >0: 0, 1: 1, 2: 2, 3: 3</td>\n",
       "    </tr>\n",
       "    <tr>\n",
       "      <th id=\"T_664fd_level0_row4\" class=\"row_heading level0 row4\" >4</th>\n",
       "      <td id=\"T_664fd_row4_col0\" class=\"data row4 col0\" >Original Data</td>\n",
       "      <td id=\"T_664fd_row4_col1\" class=\"data row4 col1\" >(2335, 33)</td>\n",
       "    </tr>\n",
       "    <tr>\n",
       "      <th id=\"T_664fd_level0_row5\" class=\"row_heading level0 row5\" >5</th>\n",
       "      <td id=\"T_664fd_row5_col0\" class=\"data row5 col0\" >Missing Values</td>\n",
       "      <td id=\"T_664fd_row5_col1\" class=\"data row5 col1\" >False</td>\n",
       "    </tr>\n",
       "    <tr>\n",
       "      <th id=\"T_664fd_level0_row6\" class=\"row_heading level0 row6\" >6</th>\n",
       "      <td id=\"T_664fd_row6_col0\" class=\"data row6 col0\" >Numeric Features</td>\n",
       "      <td id=\"T_664fd_row6_col1\" class=\"data row6 col1\" >32</td>\n",
       "    </tr>\n",
       "    <tr>\n",
       "      <th id=\"T_664fd_level0_row7\" class=\"row_heading level0 row7\" >7</th>\n",
       "      <td id=\"T_664fd_row7_col0\" class=\"data row7 col0\" >Categorical Features</td>\n",
       "      <td id=\"T_664fd_row7_col1\" class=\"data row7 col1\" >0</td>\n",
       "    </tr>\n",
       "    <tr>\n",
       "      <th id=\"T_664fd_level0_row8\" class=\"row_heading level0 row8\" >8</th>\n",
       "      <td id=\"T_664fd_row8_col0\" class=\"data row8 col0\" >Ordinal Features</td>\n",
       "      <td id=\"T_664fd_row8_col1\" class=\"data row8 col1\" >False</td>\n",
       "    </tr>\n",
       "    <tr>\n",
       "      <th id=\"T_664fd_level0_row9\" class=\"row_heading level0 row9\" >9</th>\n",
       "      <td id=\"T_664fd_row9_col0\" class=\"data row9 col0\" >High Cardinality Features</td>\n",
       "      <td id=\"T_664fd_row9_col1\" class=\"data row9 col1\" >False</td>\n",
       "    </tr>\n",
       "    <tr>\n",
       "      <th id=\"T_664fd_level0_row10\" class=\"row_heading level0 row10\" >10</th>\n",
       "      <td id=\"T_664fd_row10_col0\" class=\"data row10 col0\" >High Cardinality Method</td>\n",
       "      <td id=\"T_664fd_row10_col1\" class=\"data row10 col1\" >None</td>\n",
       "    </tr>\n",
       "    <tr>\n",
       "      <th id=\"T_664fd_level0_row11\" class=\"row_heading level0 row11\" >11</th>\n",
       "      <td id=\"T_664fd_row11_col0\" class=\"data row11 col0\" >Transformed Train Set</td>\n",
       "      <td id=\"T_664fd_row11_col1\" class=\"data row11 col1\" >(1634, 32)</td>\n",
       "    </tr>\n",
       "    <tr>\n",
       "      <th id=\"T_664fd_level0_row12\" class=\"row_heading level0 row12\" >12</th>\n",
       "      <td id=\"T_664fd_row12_col0\" class=\"data row12 col0\" >Transformed Test Set</td>\n",
       "      <td id=\"T_664fd_row12_col1\" class=\"data row12 col1\" >(701, 32)</td>\n",
       "    </tr>\n",
       "    <tr>\n",
       "      <th id=\"T_664fd_level0_row13\" class=\"row_heading level0 row13\" >13</th>\n",
       "      <td id=\"T_664fd_row13_col0\" class=\"data row13 col0\" >Shuffle Train-Test</td>\n",
       "      <td id=\"T_664fd_row13_col1\" class=\"data row13 col1\" >True</td>\n",
       "    </tr>\n",
       "    <tr>\n",
       "      <th id=\"T_664fd_level0_row14\" class=\"row_heading level0 row14\" >14</th>\n",
       "      <td id=\"T_664fd_row14_col0\" class=\"data row14 col0\" >Stratify Train-Test</td>\n",
       "      <td id=\"T_664fd_row14_col1\" class=\"data row14 col1\" >False</td>\n",
       "    </tr>\n",
       "    <tr>\n",
       "      <th id=\"T_664fd_level0_row15\" class=\"row_heading level0 row15\" >15</th>\n",
       "      <td id=\"T_664fd_row15_col0\" class=\"data row15 col0\" >Fold Generator</td>\n",
       "      <td id=\"T_664fd_row15_col1\" class=\"data row15 col1\" >StratifiedKFold</td>\n",
       "    </tr>\n",
       "    <tr>\n",
       "      <th id=\"T_664fd_level0_row16\" class=\"row_heading level0 row16\" >16</th>\n",
       "      <td id=\"T_664fd_row16_col0\" class=\"data row16 col0\" >Fold Number</td>\n",
       "      <td id=\"T_664fd_row16_col1\" class=\"data row16 col1\" >10</td>\n",
       "    </tr>\n",
       "    <tr>\n",
       "      <th id=\"T_664fd_level0_row17\" class=\"row_heading level0 row17\" >17</th>\n",
       "      <td id=\"T_664fd_row17_col0\" class=\"data row17 col0\" >CPU Jobs</td>\n",
       "      <td id=\"T_664fd_row17_col1\" class=\"data row17 col1\" >-1</td>\n",
       "    </tr>\n",
       "    <tr>\n",
       "      <th id=\"T_664fd_level0_row18\" class=\"row_heading level0 row18\" >18</th>\n",
       "      <td id=\"T_664fd_row18_col0\" class=\"data row18 col0\" >Use GPU</td>\n",
       "      <td id=\"T_664fd_row18_col1\" class=\"data row18 col1\" >True</td>\n",
       "    </tr>\n",
       "    <tr>\n",
       "      <th id=\"T_664fd_level0_row19\" class=\"row_heading level0 row19\" >19</th>\n",
       "      <td id=\"T_664fd_row19_col0\" class=\"data row19 col0\" >Log Experiment</td>\n",
       "      <td id=\"T_664fd_row19_col1\" class=\"data row19 col1\" >False</td>\n",
       "    </tr>\n",
       "    <tr>\n",
       "      <th id=\"T_664fd_level0_row20\" class=\"row_heading level0 row20\" >20</th>\n",
       "      <td id=\"T_664fd_row20_col0\" class=\"data row20 col0\" >Experiment Name</td>\n",
       "      <td id=\"T_664fd_row20_col1\" class=\"data row20 col1\" >clf-default-name</td>\n",
       "    </tr>\n",
       "    <tr>\n",
       "      <th id=\"T_664fd_level0_row21\" class=\"row_heading level0 row21\" >21</th>\n",
       "      <td id=\"T_664fd_row21_col0\" class=\"data row21 col0\" >USI</td>\n",
       "      <td id=\"T_664fd_row21_col1\" class=\"data row21 col1\" >8ccc</td>\n",
       "    </tr>\n",
       "    <tr>\n",
       "      <th id=\"T_664fd_level0_row22\" class=\"row_heading level0 row22\" >22</th>\n",
       "      <td id=\"T_664fd_row22_col0\" class=\"data row22 col0\" >Imputation Type</td>\n",
       "      <td id=\"T_664fd_row22_col1\" class=\"data row22 col1\" >simple</td>\n",
       "    </tr>\n",
       "    <tr>\n",
       "      <th id=\"T_664fd_level0_row23\" class=\"row_heading level0 row23\" >23</th>\n",
       "      <td id=\"T_664fd_row23_col0\" class=\"data row23 col0\" >Iterative Imputation Iteration</td>\n",
       "      <td id=\"T_664fd_row23_col1\" class=\"data row23 col1\" >None</td>\n",
       "    </tr>\n",
       "    <tr>\n",
       "      <th id=\"T_664fd_level0_row24\" class=\"row_heading level0 row24\" >24</th>\n",
       "      <td id=\"T_664fd_row24_col0\" class=\"data row24 col0\" >Numeric Imputer</td>\n",
       "      <td id=\"T_664fd_row24_col1\" class=\"data row24 col1\" >mean</td>\n",
       "    </tr>\n",
       "    <tr>\n",
       "      <th id=\"T_664fd_level0_row25\" class=\"row_heading level0 row25\" >25</th>\n",
       "      <td id=\"T_664fd_row25_col0\" class=\"data row25 col0\" >Iterative Imputation Numeric Model</td>\n",
       "      <td id=\"T_664fd_row25_col1\" class=\"data row25 col1\" >None</td>\n",
       "    </tr>\n",
       "    <tr>\n",
       "      <th id=\"T_664fd_level0_row26\" class=\"row_heading level0 row26\" >26</th>\n",
       "      <td id=\"T_664fd_row26_col0\" class=\"data row26 col0\" >Categorical Imputer</td>\n",
       "      <td id=\"T_664fd_row26_col1\" class=\"data row26 col1\" >constant</td>\n",
       "    </tr>\n",
       "    <tr>\n",
       "      <th id=\"T_664fd_level0_row27\" class=\"row_heading level0 row27\" >27</th>\n",
       "      <td id=\"T_664fd_row27_col0\" class=\"data row27 col0\" >Iterative Imputation Categorical Model</td>\n",
       "      <td id=\"T_664fd_row27_col1\" class=\"data row27 col1\" >None</td>\n",
       "    </tr>\n",
       "    <tr>\n",
       "      <th id=\"T_664fd_level0_row28\" class=\"row_heading level0 row28\" >28</th>\n",
       "      <td id=\"T_664fd_row28_col0\" class=\"data row28 col0\" >Unknown Categoricals Handling</td>\n",
       "      <td id=\"T_664fd_row28_col1\" class=\"data row28 col1\" >least_frequent</td>\n",
       "    </tr>\n",
       "    <tr>\n",
       "      <th id=\"T_664fd_level0_row29\" class=\"row_heading level0 row29\" >29</th>\n",
       "      <td id=\"T_664fd_row29_col0\" class=\"data row29 col0\" >Normalize</td>\n",
       "      <td id=\"T_664fd_row29_col1\" class=\"data row29 col1\" >False</td>\n",
       "    </tr>\n",
       "    <tr>\n",
       "      <th id=\"T_664fd_level0_row30\" class=\"row_heading level0 row30\" >30</th>\n",
       "      <td id=\"T_664fd_row30_col0\" class=\"data row30 col0\" >Normalize Method</td>\n",
       "      <td id=\"T_664fd_row30_col1\" class=\"data row30 col1\" >None</td>\n",
       "    </tr>\n",
       "    <tr>\n",
       "      <th id=\"T_664fd_level0_row31\" class=\"row_heading level0 row31\" >31</th>\n",
       "      <td id=\"T_664fd_row31_col0\" class=\"data row31 col0\" >Transformation</td>\n",
       "      <td id=\"T_664fd_row31_col1\" class=\"data row31 col1\" >False</td>\n",
       "    </tr>\n",
       "    <tr>\n",
       "      <th id=\"T_664fd_level0_row32\" class=\"row_heading level0 row32\" >32</th>\n",
       "      <td id=\"T_664fd_row32_col0\" class=\"data row32 col0\" >Transformation Method</td>\n",
       "      <td id=\"T_664fd_row32_col1\" class=\"data row32 col1\" >None</td>\n",
       "    </tr>\n",
       "    <tr>\n",
       "      <th id=\"T_664fd_level0_row33\" class=\"row_heading level0 row33\" >33</th>\n",
       "      <td id=\"T_664fd_row33_col0\" class=\"data row33 col0\" >PCA</td>\n",
       "      <td id=\"T_664fd_row33_col1\" class=\"data row33 col1\" >False</td>\n",
       "    </tr>\n",
       "    <tr>\n",
       "      <th id=\"T_664fd_level0_row34\" class=\"row_heading level0 row34\" >34</th>\n",
       "      <td id=\"T_664fd_row34_col0\" class=\"data row34 col0\" >PCA Method</td>\n",
       "      <td id=\"T_664fd_row34_col1\" class=\"data row34 col1\" >None</td>\n",
       "    </tr>\n",
       "    <tr>\n",
       "      <th id=\"T_664fd_level0_row35\" class=\"row_heading level0 row35\" >35</th>\n",
       "      <td id=\"T_664fd_row35_col0\" class=\"data row35 col0\" >PCA Components</td>\n",
       "      <td id=\"T_664fd_row35_col1\" class=\"data row35 col1\" >None</td>\n",
       "    </tr>\n",
       "    <tr>\n",
       "      <th id=\"T_664fd_level0_row36\" class=\"row_heading level0 row36\" >36</th>\n",
       "      <td id=\"T_664fd_row36_col0\" class=\"data row36 col0\" >Ignore Low Variance</td>\n",
       "      <td id=\"T_664fd_row36_col1\" class=\"data row36 col1\" >False</td>\n",
       "    </tr>\n",
       "    <tr>\n",
       "      <th id=\"T_664fd_level0_row37\" class=\"row_heading level0 row37\" >37</th>\n",
       "      <td id=\"T_664fd_row37_col0\" class=\"data row37 col0\" >Combine Rare Levels</td>\n",
       "      <td id=\"T_664fd_row37_col1\" class=\"data row37 col1\" >False</td>\n",
       "    </tr>\n",
       "    <tr>\n",
       "      <th id=\"T_664fd_level0_row38\" class=\"row_heading level0 row38\" >38</th>\n",
       "      <td id=\"T_664fd_row38_col0\" class=\"data row38 col0\" >Rare Level Threshold</td>\n",
       "      <td id=\"T_664fd_row38_col1\" class=\"data row38 col1\" >None</td>\n",
       "    </tr>\n",
       "    <tr>\n",
       "      <th id=\"T_664fd_level0_row39\" class=\"row_heading level0 row39\" >39</th>\n",
       "      <td id=\"T_664fd_row39_col0\" class=\"data row39 col0\" >Numeric Binning</td>\n",
       "      <td id=\"T_664fd_row39_col1\" class=\"data row39 col1\" >False</td>\n",
       "    </tr>\n",
       "    <tr>\n",
       "      <th id=\"T_664fd_level0_row40\" class=\"row_heading level0 row40\" >40</th>\n",
       "      <td id=\"T_664fd_row40_col0\" class=\"data row40 col0\" >Remove Outliers</td>\n",
       "      <td id=\"T_664fd_row40_col1\" class=\"data row40 col1\" >False</td>\n",
       "    </tr>\n",
       "    <tr>\n",
       "      <th id=\"T_664fd_level0_row41\" class=\"row_heading level0 row41\" >41</th>\n",
       "      <td id=\"T_664fd_row41_col0\" class=\"data row41 col0\" >Outliers Threshold</td>\n",
       "      <td id=\"T_664fd_row41_col1\" class=\"data row41 col1\" >None</td>\n",
       "    </tr>\n",
       "    <tr>\n",
       "      <th id=\"T_664fd_level0_row42\" class=\"row_heading level0 row42\" >42</th>\n",
       "      <td id=\"T_664fd_row42_col0\" class=\"data row42 col0\" >Remove Multicollinearity</td>\n",
       "      <td id=\"T_664fd_row42_col1\" class=\"data row42 col1\" >False</td>\n",
       "    </tr>\n",
       "    <tr>\n",
       "      <th id=\"T_664fd_level0_row43\" class=\"row_heading level0 row43\" >43</th>\n",
       "      <td id=\"T_664fd_row43_col0\" class=\"data row43 col0\" >Multicollinearity Threshold</td>\n",
       "      <td id=\"T_664fd_row43_col1\" class=\"data row43 col1\" >None</td>\n",
       "    </tr>\n",
       "    <tr>\n",
       "      <th id=\"T_664fd_level0_row44\" class=\"row_heading level0 row44\" >44</th>\n",
       "      <td id=\"T_664fd_row44_col0\" class=\"data row44 col0\" >Clustering</td>\n",
       "      <td id=\"T_664fd_row44_col1\" class=\"data row44 col1\" >False</td>\n",
       "    </tr>\n",
       "    <tr>\n",
       "      <th id=\"T_664fd_level0_row45\" class=\"row_heading level0 row45\" >45</th>\n",
       "      <td id=\"T_664fd_row45_col0\" class=\"data row45 col0\" >Clustering Iteration</td>\n",
       "      <td id=\"T_664fd_row45_col1\" class=\"data row45 col1\" >None</td>\n",
       "    </tr>\n",
       "    <tr>\n",
       "      <th id=\"T_664fd_level0_row46\" class=\"row_heading level0 row46\" >46</th>\n",
       "      <td id=\"T_664fd_row46_col0\" class=\"data row46 col0\" >Polynomial Features</td>\n",
       "      <td id=\"T_664fd_row46_col1\" class=\"data row46 col1\" >False</td>\n",
       "    </tr>\n",
       "    <tr>\n",
       "      <th id=\"T_664fd_level0_row47\" class=\"row_heading level0 row47\" >47</th>\n",
       "      <td id=\"T_664fd_row47_col0\" class=\"data row47 col0\" >Polynomial Degree</td>\n",
       "      <td id=\"T_664fd_row47_col1\" class=\"data row47 col1\" >None</td>\n",
       "    </tr>\n",
       "    <tr>\n",
       "      <th id=\"T_664fd_level0_row48\" class=\"row_heading level0 row48\" >48</th>\n",
       "      <td id=\"T_664fd_row48_col0\" class=\"data row48 col0\" >Trignometry Features</td>\n",
       "      <td id=\"T_664fd_row48_col1\" class=\"data row48 col1\" >False</td>\n",
       "    </tr>\n",
       "    <tr>\n",
       "      <th id=\"T_664fd_level0_row49\" class=\"row_heading level0 row49\" >49</th>\n",
       "      <td id=\"T_664fd_row49_col0\" class=\"data row49 col0\" >Polynomial Threshold</td>\n",
       "      <td id=\"T_664fd_row49_col1\" class=\"data row49 col1\" >None</td>\n",
       "    </tr>\n",
       "    <tr>\n",
       "      <th id=\"T_664fd_level0_row50\" class=\"row_heading level0 row50\" >50</th>\n",
       "      <td id=\"T_664fd_row50_col0\" class=\"data row50 col0\" >Group Features</td>\n",
       "      <td id=\"T_664fd_row50_col1\" class=\"data row50 col1\" >False</td>\n",
       "    </tr>\n",
       "    <tr>\n",
       "      <th id=\"T_664fd_level0_row51\" class=\"row_heading level0 row51\" >51</th>\n",
       "      <td id=\"T_664fd_row51_col0\" class=\"data row51 col0\" >Feature Selection</td>\n",
       "      <td id=\"T_664fd_row51_col1\" class=\"data row51 col1\" >False</td>\n",
       "    </tr>\n",
       "    <tr>\n",
       "      <th id=\"T_664fd_level0_row52\" class=\"row_heading level0 row52\" >52</th>\n",
       "      <td id=\"T_664fd_row52_col0\" class=\"data row52 col0\" >Features Selection Threshold</td>\n",
       "      <td id=\"T_664fd_row52_col1\" class=\"data row52 col1\" >None</td>\n",
       "    </tr>\n",
       "    <tr>\n",
       "      <th id=\"T_664fd_level0_row53\" class=\"row_heading level0 row53\" >53</th>\n",
       "      <td id=\"T_664fd_row53_col0\" class=\"data row53 col0\" >Feature Interaction</td>\n",
       "      <td id=\"T_664fd_row53_col1\" class=\"data row53 col1\" >False</td>\n",
       "    </tr>\n",
       "    <tr>\n",
       "      <th id=\"T_664fd_level0_row54\" class=\"row_heading level0 row54\" >54</th>\n",
       "      <td id=\"T_664fd_row54_col0\" class=\"data row54 col0\" >Feature Ratio</td>\n",
       "      <td id=\"T_664fd_row54_col1\" class=\"data row54 col1\" >False</td>\n",
       "    </tr>\n",
       "    <tr>\n",
       "      <th id=\"T_664fd_level0_row55\" class=\"row_heading level0 row55\" >55</th>\n",
       "      <td id=\"T_664fd_row55_col0\" class=\"data row55 col0\" >Interaction Threshold</td>\n",
       "      <td id=\"T_664fd_row55_col1\" class=\"data row55 col1\" >None</td>\n",
       "    </tr>\n",
       "    <tr>\n",
       "      <th id=\"T_664fd_level0_row56\" class=\"row_heading level0 row56\" >56</th>\n",
       "      <td id=\"T_664fd_row56_col0\" class=\"data row56 col0\" >Fix Imbalance</td>\n",
       "      <td id=\"T_664fd_row56_col1\" class=\"data row56 col1\" >False</td>\n",
       "    </tr>\n",
       "    <tr>\n",
       "      <th id=\"T_664fd_level0_row57\" class=\"row_heading level0 row57\" >57</th>\n",
       "      <td id=\"T_664fd_row57_col0\" class=\"data row57 col0\" >Fix Imbalance Method</td>\n",
       "      <td id=\"T_664fd_row57_col1\" class=\"data row57 col1\" >SMOTE</td>\n",
       "    </tr>\n",
       "  </tbody>\n",
       "</table>\n"
      ],
      "text/plain": [
       "<pandas.io.formats.style.Styler at 0x2a0e6a75190>"
      ]
     },
     "metadata": {},
     "output_type": "display_data"
    },
    {
     "ename": "AttributeError",
     "evalue": "'Simple_Imputer' object has no attribute 'fill_value_categorical'",
     "output_type": "error",
     "traceback": [
      "\u001b[1;31m---------------------------------------------------------------------------\u001b[0m",
      "\u001b[1;31mAttributeError\u001b[0m                            Traceback (most recent call last)",
      "\u001b[1;32m~\\AppData\\Local\\Temp/ipykernel_17740/2449833454.py\u001b[0m in \u001b[0;36m<module>\u001b[1;34m\u001b[0m\n\u001b[1;32m----> 1\u001b[1;33m \u001b[0msetup_clf\u001b[0m \u001b[1;33m=\u001b[0m \u001b[0msetup\u001b[0m\u001b[1;33m(\u001b[0m\u001b[0mdata\u001b[0m \u001b[1;33m=\u001b[0m \u001b[0mtrain\u001b[0m\u001b[1;33m,\u001b[0m \u001b[0mtarget\u001b[0m \u001b[1;33m=\u001b[0m \u001b[1;34m'target'\u001b[0m\u001b[1;33m,\u001b[0m \u001b[0mfold_shuffle\u001b[0m\u001b[1;33m=\u001b[0m\u001b[1;32mTrue\u001b[0m\u001b[1;33m,\u001b[0m \u001b[0muse_gpu\u001b[0m\u001b[1;33m=\u001b[0m\u001b[1;32mTrue\u001b[0m\u001b[1;33m)\u001b[0m\u001b[1;33m\u001b[0m\u001b[1;33m\u001b[0m\u001b[0m\n\u001b[0m",
      "\u001b[1;32m~\\anaconda3\\lib\\site-packages\\pycaret\\classification.py\u001b[0m in \u001b[0;36msetup\u001b[1;34m(data, target, train_size, test_data, preprocess, imputation_type, iterative_imputation_iters, categorical_features, categorical_imputation, categorical_iterative_imputer, ordinal_features, high_cardinality_features, high_cardinality_method, numeric_features, numeric_imputation, numeric_iterative_imputer, date_features, ignore_features, normalize, normalize_method, transformation, transformation_method, handle_unknown_categorical, unknown_categorical_method, pca, pca_method, pca_components, ignore_low_variance, combine_rare_levels, rare_level_threshold, bin_numeric_features, remove_outliers, outliers_threshold, remove_multicollinearity, multicollinearity_threshold, remove_perfect_collinearity, create_clusters, cluster_iter, polynomial_features, polynomial_degree, trigonometry_features, polynomial_threshold, group_features, group_names, feature_selection, feature_selection_threshold, feature_selection_method, feature_interaction, feature_ratio, interaction_threshold, fix_imbalance, fix_imbalance_method, data_split_shuffle, data_split_stratify, fold_strategy, fold, fold_shuffle, fold_groups, n_jobs, use_gpu, custom_pipeline, html, session_id, log_experiment, experiment_name, log_plots, log_profile, log_data, silent, verbose, profile, profile_kwargs)\u001b[0m\n\u001b[0;32m    578\u001b[0m         \u001b[0mlog_plots\u001b[0m \u001b[1;33m=\u001b[0m \u001b[1;33m[\u001b[0m\u001b[1;34m\"auc\"\u001b[0m\u001b[1;33m,\u001b[0m \u001b[1;34m\"confusion_matrix\"\u001b[0m\u001b[1;33m,\u001b[0m \u001b[1;34m\"feature\"\u001b[0m\u001b[1;33m]\u001b[0m\u001b[1;33m\u001b[0m\u001b[1;33m\u001b[0m\u001b[0m\n\u001b[0;32m    579\u001b[0m \u001b[1;33m\u001b[0m\u001b[0m\n\u001b[1;32m--> 580\u001b[1;33m     return pycaret.internal.tabular.setup(\n\u001b[0m\u001b[0;32m    581\u001b[0m         \u001b[0mml_usecase\u001b[0m\u001b[1;33m=\u001b[0m\u001b[1;34m\"classification\"\u001b[0m\u001b[1;33m,\u001b[0m\u001b[1;33m\u001b[0m\u001b[1;33m\u001b[0m\u001b[0m\n\u001b[0;32m    582\u001b[0m         \u001b[0mavailable_plots\u001b[0m\u001b[1;33m=\u001b[0m\u001b[0mavailable_plots\u001b[0m\u001b[1;33m,\u001b[0m\u001b[1;33m\u001b[0m\u001b[1;33m\u001b[0m\u001b[0m\n",
      "\u001b[1;32m~\\anaconda3\\lib\\site-packages\\pycaret\\internal\\tabular.py\u001b[0m in \u001b[0;36msetup\u001b[1;34m(data, target, ml_usecase, available_plots, train_size, test_data, preprocess, imputation_type, iterative_imputation_iters, categorical_features, categorical_imputation, categorical_iterative_imputer, ordinal_features, high_cardinality_features, high_cardinality_method, numeric_features, numeric_imputation, numeric_iterative_imputer, date_features, ignore_features, normalize, normalize_method, transformation, transformation_method, handle_unknown_categorical, unknown_categorical_method, pca, pca_method, pca_components, ignore_low_variance, combine_rare_levels, rare_level_threshold, bin_numeric_features, remove_outliers, outliers_threshold, remove_multicollinearity, multicollinearity_threshold, remove_perfect_collinearity, create_clusters, cluster_iter, polynomial_features, polynomial_degree, trigonometry_features, polynomial_threshold, group_features, group_names, feature_selection, feature_selection_threshold, feature_selection_method, feature_interaction, feature_ratio, interaction_threshold, fix_imbalance, fix_imbalance_method, transform_target, transform_target_method, data_split_shuffle, data_split_stratify, fold_strategy, fold, fold_shuffle, fold_groups, n_jobs, use_gpu, custom_pipeline, html, session_id, log_experiment, experiment_name, log_plots, log_profile, log_data, silent, verbose, profile, profile_kwargs, display)\u001b[0m\n\u001b[0;32m   1743\u001b[0m     \u001b[0mlogger\u001b[0m\u001b[1;33m.\u001b[0m\u001b[0minfo\u001b[0m\u001b[1;33m(\u001b[0m\u001b[1;34mf\"display_container: {len(display_container)}\"\u001b[0m\u001b[1;33m)\u001b[0m\u001b[1;33m\u001b[0m\u001b[1;33m\u001b[0m\u001b[0m\n\u001b[0;32m   1744\u001b[0m \u001b[1;33m\u001b[0m\u001b[0m\n\u001b[1;32m-> 1745\u001b[1;33m     \u001b[0mlogger\u001b[0m\u001b[1;33m.\u001b[0m\u001b[0minfo\u001b[0m\u001b[1;33m(\u001b[0m\u001b[0mstr\u001b[0m\u001b[1;33m(\u001b[0m\u001b[0mprep_pipe\u001b[0m\u001b[1;33m)\u001b[0m\u001b[1;33m)\u001b[0m\u001b[1;33m\u001b[0m\u001b[1;33m\u001b[0m\u001b[0m\n\u001b[0m\u001b[0;32m   1746\u001b[0m     \u001b[0mlogger\u001b[0m\u001b[1;33m.\u001b[0m\u001b[0minfo\u001b[0m\u001b[1;33m(\u001b[0m\u001b[1;34m\"setup() succesfully completed......................................\"\u001b[0m\u001b[1;33m)\u001b[0m\u001b[1;33m\u001b[0m\u001b[1;33m\u001b[0m\u001b[0m\n\u001b[0;32m   1747\u001b[0m \u001b[1;33m\u001b[0m\u001b[0m\n",
      "\u001b[1;32m~\\anaconda3\\lib\\site-packages\\sklearn\\base.py\u001b[0m in \u001b[0;36m__repr__\u001b[1;34m(self, N_CHAR_MAX)\u001b[0m\n\u001b[0;32m    277\u001b[0m         )\n\u001b[0;32m    278\u001b[0m \u001b[1;33m\u001b[0m\u001b[0m\n\u001b[1;32m--> 279\u001b[1;33m         \u001b[0mrepr_\u001b[0m \u001b[1;33m=\u001b[0m \u001b[0mpp\u001b[0m\u001b[1;33m.\u001b[0m\u001b[0mpformat\u001b[0m\u001b[1;33m(\u001b[0m\u001b[0mself\u001b[0m\u001b[1;33m)\u001b[0m\u001b[1;33m\u001b[0m\u001b[1;33m\u001b[0m\u001b[0m\n\u001b[0m\u001b[0;32m    280\u001b[0m \u001b[1;33m\u001b[0m\u001b[0m\n\u001b[0;32m    281\u001b[0m         \u001b[1;31m# Use bruteforce ellipsis when there are a lot of non-blank characters\u001b[0m\u001b[1;33m\u001b[0m\u001b[1;33m\u001b[0m\u001b[0m\n",
      "\u001b[1;32m~\\anaconda3\\lib\\pprint.py\u001b[0m in \u001b[0;36mpformat\u001b[1;34m(self, object)\u001b[0m\n\u001b[0;32m    151\u001b[0m     \u001b[1;32mdef\u001b[0m \u001b[0mpformat\u001b[0m\u001b[1;33m(\u001b[0m\u001b[0mself\u001b[0m\u001b[1;33m,\u001b[0m \u001b[0mobject\u001b[0m\u001b[1;33m)\u001b[0m\u001b[1;33m:\u001b[0m\u001b[1;33m\u001b[0m\u001b[1;33m\u001b[0m\u001b[0m\n\u001b[0;32m    152\u001b[0m         \u001b[0msio\u001b[0m \u001b[1;33m=\u001b[0m \u001b[0m_StringIO\u001b[0m\u001b[1;33m(\u001b[0m\u001b[1;33m)\u001b[0m\u001b[1;33m\u001b[0m\u001b[1;33m\u001b[0m\u001b[0m\n\u001b[1;32m--> 153\u001b[1;33m         \u001b[0mself\u001b[0m\u001b[1;33m.\u001b[0m\u001b[0m_format\u001b[0m\u001b[1;33m(\u001b[0m\u001b[0mobject\u001b[0m\u001b[1;33m,\u001b[0m \u001b[0msio\u001b[0m\u001b[1;33m,\u001b[0m \u001b[1;36m0\u001b[0m\u001b[1;33m,\u001b[0m \u001b[1;36m0\u001b[0m\u001b[1;33m,\u001b[0m \u001b[1;33m{\u001b[0m\u001b[1;33m}\u001b[0m\u001b[1;33m,\u001b[0m \u001b[1;36m0\u001b[0m\u001b[1;33m)\u001b[0m\u001b[1;33m\u001b[0m\u001b[1;33m\u001b[0m\u001b[0m\n\u001b[0m\u001b[0;32m    154\u001b[0m         \u001b[1;32mreturn\u001b[0m \u001b[0msio\u001b[0m\u001b[1;33m.\u001b[0m\u001b[0mgetvalue\u001b[0m\u001b[1;33m(\u001b[0m\u001b[1;33m)\u001b[0m\u001b[1;33m\u001b[0m\u001b[1;33m\u001b[0m\u001b[0m\n\u001b[0;32m    155\u001b[0m \u001b[1;33m\u001b[0m\u001b[0m\n",
      "\u001b[1;32m~\\anaconda3\\lib\\pprint.py\u001b[0m in \u001b[0;36m_format\u001b[1;34m(self, object, stream, indent, allowance, context, level)\u001b[0m\n\u001b[0;32m    168\u001b[0m             \u001b[0mself\u001b[0m\u001b[1;33m.\u001b[0m\u001b[0m_readable\u001b[0m \u001b[1;33m=\u001b[0m \u001b[1;32mFalse\u001b[0m\u001b[1;33m\u001b[0m\u001b[1;33m\u001b[0m\u001b[0m\n\u001b[0;32m    169\u001b[0m             \u001b[1;32mreturn\u001b[0m\u001b[1;33m\u001b[0m\u001b[1;33m\u001b[0m\u001b[0m\n\u001b[1;32m--> 170\u001b[1;33m         \u001b[0mrep\u001b[0m \u001b[1;33m=\u001b[0m \u001b[0mself\u001b[0m\u001b[1;33m.\u001b[0m\u001b[0m_repr\u001b[0m\u001b[1;33m(\u001b[0m\u001b[0mobject\u001b[0m\u001b[1;33m,\u001b[0m \u001b[0mcontext\u001b[0m\u001b[1;33m,\u001b[0m \u001b[0mlevel\u001b[0m\u001b[1;33m)\u001b[0m\u001b[1;33m\u001b[0m\u001b[1;33m\u001b[0m\u001b[0m\n\u001b[0m\u001b[0;32m    171\u001b[0m         \u001b[0mmax_width\u001b[0m \u001b[1;33m=\u001b[0m \u001b[0mself\u001b[0m\u001b[1;33m.\u001b[0m\u001b[0m_width\u001b[0m \u001b[1;33m-\u001b[0m \u001b[0mindent\u001b[0m \u001b[1;33m-\u001b[0m \u001b[0mallowance\u001b[0m\u001b[1;33m\u001b[0m\u001b[1;33m\u001b[0m\u001b[0m\n\u001b[0;32m    172\u001b[0m         \u001b[1;32mif\u001b[0m \u001b[0mlen\u001b[0m\u001b[1;33m(\u001b[0m\u001b[0mrep\u001b[0m\u001b[1;33m)\u001b[0m \u001b[1;33m>\u001b[0m \u001b[0mmax_width\u001b[0m\u001b[1;33m:\u001b[0m\u001b[1;33m\u001b[0m\u001b[1;33m\u001b[0m\u001b[0m\n",
      "\u001b[1;32m~\\anaconda3\\lib\\pprint.py\u001b[0m in \u001b[0;36m_repr\u001b[1;34m(self, object, context, level)\u001b[0m\n\u001b[0;32m    429\u001b[0m \u001b[1;33m\u001b[0m\u001b[0m\n\u001b[0;32m    430\u001b[0m     \u001b[1;32mdef\u001b[0m \u001b[0m_repr\u001b[0m\u001b[1;33m(\u001b[0m\u001b[0mself\u001b[0m\u001b[1;33m,\u001b[0m \u001b[0mobject\u001b[0m\u001b[1;33m,\u001b[0m \u001b[0mcontext\u001b[0m\u001b[1;33m,\u001b[0m \u001b[0mlevel\u001b[0m\u001b[1;33m)\u001b[0m\u001b[1;33m:\u001b[0m\u001b[1;33m\u001b[0m\u001b[1;33m\u001b[0m\u001b[0m\n\u001b[1;32m--> 431\u001b[1;33m         repr, readable, recursive = self.format(object, context.copy(),\n\u001b[0m\u001b[0;32m    432\u001b[0m                                                 self._depth, level)\n\u001b[0;32m    433\u001b[0m         \u001b[1;32mif\u001b[0m \u001b[1;32mnot\u001b[0m \u001b[0mreadable\u001b[0m\u001b[1;33m:\u001b[0m\u001b[1;33m\u001b[0m\u001b[1;33m\u001b[0m\u001b[0m\n",
      "\u001b[1;32m~\\anaconda3\\lib\\site-packages\\sklearn\\utils\\_pprint.py\u001b[0m in \u001b[0;36mformat\u001b[1;34m(self, object, context, maxlevels, level)\u001b[0m\n\u001b[0;32m    187\u001b[0m \u001b[1;33m\u001b[0m\u001b[0m\n\u001b[0;32m    188\u001b[0m     \u001b[1;32mdef\u001b[0m \u001b[0mformat\u001b[0m\u001b[1;33m(\u001b[0m\u001b[0mself\u001b[0m\u001b[1;33m,\u001b[0m \u001b[0mobject\u001b[0m\u001b[1;33m,\u001b[0m \u001b[0mcontext\u001b[0m\u001b[1;33m,\u001b[0m \u001b[0mmaxlevels\u001b[0m\u001b[1;33m,\u001b[0m \u001b[0mlevel\u001b[0m\u001b[1;33m)\u001b[0m\u001b[1;33m:\u001b[0m\u001b[1;33m\u001b[0m\u001b[1;33m\u001b[0m\u001b[0m\n\u001b[1;32m--> 189\u001b[1;33m         return _safe_repr(\n\u001b[0m\u001b[0;32m    190\u001b[0m             \u001b[0mobject\u001b[0m\u001b[1;33m,\u001b[0m \u001b[0mcontext\u001b[0m\u001b[1;33m,\u001b[0m \u001b[0mmaxlevels\u001b[0m\u001b[1;33m,\u001b[0m \u001b[0mlevel\u001b[0m\u001b[1;33m,\u001b[0m \u001b[0mchanged_only\u001b[0m\u001b[1;33m=\u001b[0m\u001b[0mself\u001b[0m\u001b[1;33m.\u001b[0m\u001b[0m_changed_only\u001b[0m\u001b[1;33m\u001b[0m\u001b[1;33m\u001b[0m\u001b[0m\n\u001b[0;32m    191\u001b[0m         )\n",
      "\u001b[1;32m~\\anaconda3\\lib\\site-packages\\sklearn\\utils\\_pprint.py\u001b[0m in \u001b[0;36m_safe_repr\u001b[1;34m(object, context, maxlevels, level, changed_only)\u001b[0m\n\u001b[0;32m    450\u001b[0m                 \u001b[0mk\u001b[0m\u001b[1;33m,\u001b[0m \u001b[0mcontext\u001b[0m\u001b[1;33m,\u001b[0m \u001b[0mmaxlevels\u001b[0m\u001b[1;33m,\u001b[0m \u001b[0mlevel\u001b[0m\u001b[1;33m,\u001b[0m \u001b[0mchanged_only\u001b[0m\u001b[1;33m=\u001b[0m\u001b[0mchanged_only\u001b[0m\u001b[1;33m\u001b[0m\u001b[1;33m\u001b[0m\u001b[0m\n\u001b[0;32m    451\u001b[0m             )\n\u001b[1;32m--> 452\u001b[1;33m             vrepr, vreadable, vrecur = saferepr(\n\u001b[0m\u001b[0;32m    453\u001b[0m                 \u001b[0mv\u001b[0m\u001b[1;33m,\u001b[0m \u001b[0mcontext\u001b[0m\u001b[1;33m,\u001b[0m \u001b[0mmaxlevels\u001b[0m\u001b[1;33m,\u001b[0m \u001b[0mlevel\u001b[0m\u001b[1;33m,\u001b[0m \u001b[0mchanged_only\u001b[0m\u001b[1;33m=\u001b[0m\u001b[0mchanged_only\u001b[0m\u001b[1;33m\u001b[0m\u001b[1;33m\u001b[0m\u001b[0m\n\u001b[0;32m    454\u001b[0m             )\n",
      "\u001b[1;32m~\\anaconda3\\lib\\site-packages\\sklearn\\utils\\_pprint.py\u001b[0m in \u001b[0;36m_safe_repr\u001b[1;34m(object, context, maxlevels, level, changed_only)\u001b[0m\n\u001b[0;32m    417\u001b[0m         \u001b[0mlevel\u001b[0m \u001b[1;33m+=\u001b[0m \u001b[1;36m1\u001b[0m\u001b[1;33m\u001b[0m\u001b[1;33m\u001b[0m\u001b[0m\n\u001b[0;32m    418\u001b[0m         \u001b[1;32mfor\u001b[0m \u001b[0mo\u001b[0m \u001b[1;32min\u001b[0m \u001b[0mobject\u001b[0m\u001b[1;33m:\u001b[0m\u001b[1;33m\u001b[0m\u001b[1;33m\u001b[0m\u001b[0m\n\u001b[1;32m--> 419\u001b[1;33m             orepr, oreadable, orecur = _safe_repr(\n\u001b[0m\u001b[0;32m    420\u001b[0m                 \u001b[0mo\u001b[0m\u001b[1;33m,\u001b[0m \u001b[0mcontext\u001b[0m\u001b[1;33m,\u001b[0m \u001b[0mmaxlevels\u001b[0m\u001b[1;33m,\u001b[0m \u001b[0mlevel\u001b[0m\u001b[1;33m,\u001b[0m \u001b[0mchanged_only\u001b[0m\u001b[1;33m=\u001b[0m\u001b[0mchanged_only\u001b[0m\u001b[1;33m\u001b[0m\u001b[1;33m\u001b[0m\u001b[0m\n\u001b[0;32m    421\u001b[0m             )\n",
      "\u001b[1;32m~\\anaconda3\\lib\\site-packages\\sklearn\\utils\\_pprint.py\u001b[0m in \u001b[0;36m_safe_repr\u001b[1;34m(object, context, maxlevels, level, changed_only)\u001b[0m\n\u001b[0;32m    417\u001b[0m         \u001b[0mlevel\u001b[0m \u001b[1;33m+=\u001b[0m \u001b[1;36m1\u001b[0m\u001b[1;33m\u001b[0m\u001b[1;33m\u001b[0m\u001b[0m\n\u001b[0;32m    418\u001b[0m         \u001b[1;32mfor\u001b[0m \u001b[0mo\u001b[0m \u001b[1;32min\u001b[0m \u001b[0mobject\u001b[0m\u001b[1;33m:\u001b[0m\u001b[1;33m\u001b[0m\u001b[1;33m\u001b[0m\u001b[0m\n\u001b[1;32m--> 419\u001b[1;33m             orepr, oreadable, orecur = _safe_repr(\n\u001b[0m\u001b[0;32m    420\u001b[0m                 \u001b[0mo\u001b[0m\u001b[1;33m,\u001b[0m \u001b[0mcontext\u001b[0m\u001b[1;33m,\u001b[0m \u001b[0mmaxlevels\u001b[0m\u001b[1;33m,\u001b[0m \u001b[0mlevel\u001b[0m\u001b[1;33m,\u001b[0m \u001b[0mchanged_only\u001b[0m\u001b[1;33m=\u001b[0m\u001b[0mchanged_only\u001b[0m\u001b[1;33m\u001b[0m\u001b[1;33m\u001b[0m\u001b[0m\n\u001b[0;32m    421\u001b[0m             )\n",
      "\u001b[1;32m~\\anaconda3\\lib\\site-packages\\sklearn\\utils\\_pprint.py\u001b[0m in \u001b[0;36m_safe_repr\u001b[1;34m(object, context, maxlevels, level, changed_only)\u001b[0m\n\u001b[0;32m    440\u001b[0m             \u001b[0mparams\u001b[0m \u001b[1;33m=\u001b[0m \u001b[0m_changed_params\u001b[0m\u001b[1;33m(\u001b[0m\u001b[0mobject\u001b[0m\u001b[1;33m)\u001b[0m\u001b[1;33m\u001b[0m\u001b[1;33m\u001b[0m\u001b[0m\n\u001b[0;32m    441\u001b[0m         \u001b[1;32melse\u001b[0m\u001b[1;33m:\u001b[0m\u001b[1;33m\u001b[0m\u001b[1;33m\u001b[0m\u001b[0m\n\u001b[1;32m--> 442\u001b[1;33m             \u001b[0mparams\u001b[0m \u001b[1;33m=\u001b[0m \u001b[0mobject\u001b[0m\u001b[1;33m.\u001b[0m\u001b[0mget_params\u001b[0m\u001b[1;33m(\u001b[0m\u001b[0mdeep\u001b[0m\u001b[1;33m=\u001b[0m\u001b[1;32mFalse\u001b[0m\u001b[1;33m)\u001b[0m\u001b[1;33m\u001b[0m\u001b[1;33m\u001b[0m\u001b[0m\n\u001b[0m\u001b[0;32m    443\u001b[0m         \u001b[0mcomponents\u001b[0m \u001b[1;33m=\u001b[0m \u001b[1;33m[\u001b[0m\u001b[1;33m]\u001b[0m\u001b[1;33m\u001b[0m\u001b[1;33m\u001b[0m\u001b[0m\n\u001b[0;32m    444\u001b[0m         \u001b[0mappend\u001b[0m \u001b[1;33m=\u001b[0m \u001b[0mcomponents\u001b[0m\u001b[1;33m.\u001b[0m\u001b[0mappend\u001b[0m\u001b[1;33m\u001b[0m\u001b[1;33m\u001b[0m\u001b[0m\n",
      "\u001b[1;32m~\\anaconda3\\lib\\site-packages\\sklearn\\base.py\u001b[0m in \u001b[0;36mget_params\u001b[1;34m(self, deep)\u001b[0m\n\u001b[0;32m    208\u001b[0m         \u001b[0mout\u001b[0m \u001b[1;33m=\u001b[0m \u001b[0mdict\u001b[0m\u001b[1;33m(\u001b[0m\u001b[1;33m)\u001b[0m\u001b[1;33m\u001b[0m\u001b[1;33m\u001b[0m\u001b[0m\n\u001b[0;32m    209\u001b[0m         \u001b[1;32mfor\u001b[0m \u001b[0mkey\u001b[0m \u001b[1;32min\u001b[0m \u001b[0mself\u001b[0m\u001b[1;33m.\u001b[0m\u001b[0m_get_param_names\u001b[0m\u001b[1;33m(\u001b[0m\u001b[1;33m)\u001b[0m\u001b[1;33m:\u001b[0m\u001b[1;33m\u001b[0m\u001b[1;33m\u001b[0m\u001b[0m\n\u001b[1;32m--> 210\u001b[1;33m             \u001b[0mvalue\u001b[0m \u001b[1;33m=\u001b[0m \u001b[0mgetattr\u001b[0m\u001b[1;33m(\u001b[0m\u001b[0mself\u001b[0m\u001b[1;33m,\u001b[0m \u001b[0mkey\u001b[0m\u001b[1;33m)\u001b[0m\u001b[1;33m\u001b[0m\u001b[1;33m\u001b[0m\u001b[0m\n\u001b[0m\u001b[0;32m    211\u001b[0m             \u001b[1;32mif\u001b[0m \u001b[0mdeep\u001b[0m \u001b[1;32mand\u001b[0m \u001b[0mhasattr\u001b[0m\u001b[1;33m(\u001b[0m\u001b[0mvalue\u001b[0m\u001b[1;33m,\u001b[0m \u001b[1;34m\"get_params\"\u001b[0m\u001b[1;33m)\u001b[0m\u001b[1;33m:\u001b[0m\u001b[1;33m\u001b[0m\u001b[1;33m\u001b[0m\u001b[0m\n\u001b[0;32m    212\u001b[0m                 \u001b[0mdeep_items\u001b[0m \u001b[1;33m=\u001b[0m \u001b[0mvalue\u001b[0m\u001b[1;33m.\u001b[0m\u001b[0mget_params\u001b[0m\u001b[1;33m(\u001b[0m\u001b[1;33m)\u001b[0m\u001b[1;33m.\u001b[0m\u001b[0mitems\u001b[0m\u001b[1;33m(\u001b[0m\u001b[1;33m)\u001b[0m\u001b[1;33m\u001b[0m\u001b[1;33m\u001b[0m\u001b[0m\n",
      "\u001b[1;31mAttributeError\u001b[0m: 'Simple_Imputer' object has no attribute 'fill_value_categorical'"
     ]
    }
   ],
   "source": [
    "setup_clf = setup(data = train, target = 'target', fold_shuffle=True, use_gpu=True)"
   ]
  },
  {
   "cell_type": "code",
   "execution_count": 6,
   "id": "bd22bd5c",
   "metadata": {
    "scrolled": false
   },
   "outputs": [
    {
     "data": {
      "text/html": [
       "<style type=\"text/css\">\n",
       "#T_12a2b_ th {\n",
       "  text-align: left;\n",
       "}\n",
       "#T_12a2b_row0_col0, #T_12a2b_row1_col0, #T_12a2b_row1_col1, #T_12a2b_row1_col2, #T_12a2b_row1_col3, #T_12a2b_row1_col4, #T_12a2b_row1_col5, #T_12a2b_row1_col6, #T_12a2b_row1_col7, #T_12a2b_row2_col0, #T_12a2b_row2_col1, #T_12a2b_row2_col2, #T_12a2b_row2_col3, #T_12a2b_row2_col4, #T_12a2b_row2_col5, #T_12a2b_row2_col6, #T_12a2b_row2_col7, #T_12a2b_row3_col0, #T_12a2b_row3_col1, #T_12a2b_row3_col2, #T_12a2b_row3_col3, #T_12a2b_row3_col4, #T_12a2b_row3_col5, #T_12a2b_row3_col6, #T_12a2b_row3_col7, #T_12a2b_row4_col0, #T_12a2b_row4_col1, #T_12a2b_row4_col2, #T_12a2b_row4_col3, #T_12a2b_row4_col4, #T_12a2b_row4_col5, #T_12a2b_row4_col6, #T_12a2b_row4_col7, #T_12a2b_row5_col0, #T_12a2b_row5_col1, #T_12a2b_row5_col2, #T_12a2b_row5_col3, #T_12a2b_row5_col4, #T_12a2b_row5_col5, #T_12a2b_row5_col6, #T_12a2b_row5_col7, #T_12a2b_row6_col0, #T_12a2b_row6_col1, #T_12a2b_row6_col2, #T_12a2b_row6_col3, #T_12a2b_row6_col4, #T_12a2b_row6_col5, #T_12a2b_row6_col6, #T_12a2b_row6_col7, #T_12a2b_row7_col0, #T_12a2b_row7_col1, #T_12a2b_row7_col2, #T_12a2b_row7_col3, #T_12a2b_row7_col4, #T_12a2b_row7_col5, #T_12a2b_row7_col6, #T_12a2b_row7_col7, #T_12a2b_row8_col0, #T_12a2b_row8_col1, #T_12a2b_row8_col2, #T_12a2b_row8_col3, #T_12a2b_row8_col4, #T_12a2b_row8_col5, #T_12a2b_row8_col6, #T_12a2b_row8_col7, #T_12a2b_row9_col0, #T_12a2b_row9_col1, #T_12a2b_row9_col2, #T_12a2b_row9_col3, #T_12a2b_row9_col4, #T_12a2b_row9_col5, #T_12a2b_row9_col6, #T_12a2b_row9_col7, #T_12a2b_row10_col0, #T_12a2b_row10_col1, #T_12a2b_row10_col2, #T_12a2b_row10_col3, #T_12a2b_row10_col4, #T_12a2b_row10_col5, #T_12a2b_row10_col6, #T_12a2b_row10_col7, #T_12a2b_row11_col0, #T_12a2b_row11_col1, #T_12a2b_row11_col2, #T_12a2b_row11_col3, #T_12a2b_row11_col4, #T_12a2b_row11_col5, #T_12a2b_row11_col6, #T_12a2b_row11_col7, #T_12a2b_row12_col0, #T_12a2b_row12_col1, #T_12a2b_row12_col2, #T_12a2b_row12_col3, #T_12a2b_row12_col4, #T_12a2b_row12_col5, #T_12a2b_row12_col6, #T_12a2b_row12_col7, #T_12a2b_row13_col0, #T_12a2b_row13_col1, #T_12a2b_row13_col2, #T_12a2b_row13_col3, #T_12a2b_row13_col4, #T_12a2b_row13_col5, #T_12a2b_row13_col6, #T_12a2b_row13_col7, #T_12a2b_row14_col0, #T_12a2b_row14_col1, #T_12a2b_row14_col2, #T_12a2b_row14_col3, #T_12a2b_row14_col4, #T_12a2b_row14_col5, #T_12a2b_row14_col6, #T_12a2b_row14_col7 {\n",
       "  text-align: left;\n",
       "}\n",
       "#T_12a2b_row0_col1, #T_12a2b_row0_col2, #T_12a2b_row0_col3, #T_12a2b_row0_col4, #T_12a2b_row0_col5, #T_12a2b_row0_col6, #T_12a2b_row0_col7 {\n",
       "  text-align: left;\n",
       "  background-color: yellow;\n",
       "}\n",
       "#T_12a2b_row0_col8, #T_12a2b_row1_col8, #T_12a2b_row2_col8, #T_12a2b_row3_col8, #T_12a2b_row4_col8, #T_12a2b_row5_col8, #T_12a2b_row6_col8, #T_12a2b_row8_col8, #T_12a2b_row9_col8, #T_12a2b_row10_col8, #T_12a2b_row11_col8, #T_12a2b_row12_col8, #T_12a2b_row13_col8, #T_12a2b_row14_col8 {\n",
       "  text-align: left;\n",
       "  background-color: lightgrey;\n",
       "}\n",
       "#T_12a2b_row7_col8 {\n",
       "  text-align: left;\n",
       "  background-color: yellow;\n",
       "  background-color: lightgrey;\n",
       "}\n",
       "</style>\n",
       "<table id=\"T_12a2b_\">\n",
       "  <thead>\n",
       "    <tr>\n",
       "      <th class=\"blank level0\" >&nbsp;</th>\n",
       "      <th class=\"col_heading level0 col0\" >Model</th>\n",
       "      <th class=\"col_heading level0 col1\" >Accuracy</th>\n",
       "      <th class=\"col_heading level0 col2\" >AUC</th>\n",
       "      <th class=\"col_heading level0 col3\" >Recall</th>\n",
       "      <th class=\"col_heading level0 col4\" >Prec.</th>\n",
       "      <th class=\"col_heading level0 col5\" >F1</th>\n",
       "      <th class=\"col_heading level0 col6\" >Kappa</th>\n",
       "      <th class=\"col_heading level0 col7\" >MCC</th>\n",
       "      <th class=\"col_heading level0 col8\" >TT (Sec)</th>\n",
       "    </tr>\n",
       "  </thead>\n",
       "  <tbody>\n",
       "    <tr>\n",
       "      <th id=\"T_12a2b_level0_row0\" class=\"row_heading level0 row0\" >catboost</th>\n",
       "      <td id=\"T_12a2b_row0_col0\" class=\"data row0 col0\" >CatBoost Classifier</td>\n",
       "      <td id=\"T_12a2b_row0_col1\" class=\"data row0 col1\" >0.8176</td>\n",
       "      <td id=\"T_12a2b_row0_col2\" class=\"data row0 col2\" >0.9579</td>\n",
       "      <td id=\"T_12a2b_row0_col3\" class=\"data row0 col3\" >0.8188</td>\n",
       "      <td id=\"T_12a2b_row0_col4\" class=\"data row0 col4\" >0.8199</td>\n",
       "      <td id=\"T_12a2b_row0_col5\" class=\"data row0 col5\" >0.8162</td>\n",
       "      <td id=\"T_12a2b_row0_col6\" class=\"data row0 col6\" >0.7569</td>\n",
       "      <td id=\"T_12a2b_row0_col7\" class=\"data row0 col7\" >0.7584</td>\n",
       "      <td id=\"T_12a2b_row0_col8\" class=\"data row0 col8\" >9.7920</td>\n",
       "    </tr>\n",
       "    <tr>\n",
       "      <th id=\"T_12a2b_level0_row1\" class=\"row_heading level0 row1\" >lightgbm</th>\n",
       "      <td id=\"T_12a2b_row1_col0\" class=\"data row1 col0\" >Light Gradient Boosting Machine</td>\n",
       "      <td id=\"T_12a2b_row1_col1\" class=\"data row1 col1\" >0.8023</td>\n",
       "      <td id=\"T_12a2b_row1_col2\" class=\"data row1 col2\" >0.9479</td>\n",
       "      <td id=\"T_12a2b_row1_col3\" class=\"data row1 col3\" >0.8029</td>\n",
       "      <td id=\"T_12a2b_row1_col4\" class=\"data row1 col4\" >0.8048</td>\n",
       "      <td id=\"T_12a2b_row1_col5\" class=\"data row1 col5\" >0.8017</td>\n",
       "      <td id=\"T_12a2b_row1_col6\" class=\"data row1 col6\" >0.7364</td>\n",
       "      <td id=\"T_12a2b_row1_col7\" class=\"data row1 col7\" >0.7375</td>\n",
       "      <td id=\"T_12a2b_row1_col8\" class=\"data row1 col8\" >5.7320</td>\n",
       "    </tr>\n",
       "    <tr>\n",
       "      <th id=\"T_12a2b_level0_row2\" class=\"row_heading level0 row2\" >et</th>\n",
       "      <td id=\"T_12a2b_row2_col0\" class=\"data row2 col0\" >Extra Trees Classifier</td>\n",
       "      <td id=\"T_12a2b_row2_col1\" class=\"data row2 col1\" >0.8011</td>\n",
       "      <td id=\"T_12a2b_row2_col2\" class=\"data row2 col2\" >0.9434</td>\n",
       "      <td id=\"T_12a2b_row2_col3\" class=\"data row2 col3\" >0.8025</td>\n",
       "      <td id=\"T_12a2b_row2_col4\" class=\"data row2 col4\" >0.8073</td>\n",
       "      <td id=\"T_12a2b_row2_col5\" class=\"data row2 col5\" >0.7981</td>\n",
       "      <td id=\"T_12a2b_row2_col6\" class=\"data row2 col6\" >0.7349</td>\n",
       "      <td id=\"T_12a2b_row2_col7\" class=\"data row2 col7\" >0.7386</td>\n",
       "      <td id=\"T_12a2b_row2_col8\" class=\"data row2 col8\" >0.5380</td>\n",
       "    </tr>\n",
       "    <tr>\n",
       "      <th id=\"T_12a2b_level0_row3\" class=\"row_heading level0 row3\" >xgboost</th>\n",
       "      <td id=\"T_12a2b_row3_col0\" class=\"data row3 col0\" >Extreme Gradient Boosting</td>\n",
       "      <td id=\"T_12a2b_row3_col1\" class=\"data row3 col1\" >0.7901</td>\n",
       "      <td id=\"T_12a2b_row3_col2\" class=\"data row3 col2\" >0.9459</td>\n",
       "      <td id=\"T_12a2b_row3_col3\" class=\"data row3 col3\" >0.7904</td>\n",
       "      <td id=\"T_12a2b_row3_col4\" class=\"data row3 col4\" >0.7927</td>\n",
       "      <td id=\"T_12a2b_row3_col5\" class=\"data row3 col5\" >0.7893</td>\n",
       "      <td id=\"T_12a2b_row3_col6\" class=\"data row3 col6\" >0.7200</td>\n",
       "      <td id=\"T_12a2b_row3_col7\" class=\"data row3 col7\" >0.7213</td>\n",
       "      <td id=\"T_12a2b_row3_col8\" class=\"data row3 col8\" >1.7160</td>\n",
       "    </tr>\n",
       "    <tr>\n",
       "      <th id=\"T_12a2b_level0_row4\" class=\"row_heading level0 row4\" >qda</th>\n",
       "      <td id=\"T_12a2b_row4_col0\" class=\"data row4 col0\" >Quadratic Discriminant Analysis</td>\n",
       "      <td id=\"T_12a2b_row4_col1\" class=\"data row4 col1\" >0.7797</td>\n",
       "      <td id=\"T_12a2b_row4_col2\" class=\"data row4 col2\" >0.9395</td>\n",
       "      <td id=\"T_12a2b_row4_col3\" class=\"data row4 col3\" >0.7794</td>\n",
       "      <td id=\"T_12a2b_row4_col4\" class=\"data row4 col4\" >0.7839</td>\n",
       "      <td id=\"T_12a2b_row4_col5\" class=\"data row4 col5\" >0.7771</td>\n",
       "      <td id=\"T_12a2b_row4_col6\" class=\"data row4 col6\" >0.7059</td>\n",
       "      <td id=\"T_12a2b_row4_col7\" class=\"data row4 col7\" >0.7085</td>\n",
       "      <td id=\"T_12a2b_row4_col8\" class=\"data row4 col8\" >0.0140</td>\n",
       "    </tr>\n",
       "    <tr>\n",
       "      <th id=\"T_12a2b_level0_row5\" class=\"row_heading level0 row5\" >gbc</th>\n",
       "      <td id=\"T_12a2b_row5_col0\" class=\"data row5 col0\" >Gradient Boosting Classifier</td>\n",
       "      <td id=\"T_12a2b_row5_col1\" class=\"data row5 col1\" >0.7742</td>\n",
       "      <td id=\"T_12a2b_row5_col2\" class=\"data row5 col2\" >0.9333</td>\n",
       "      <td id=\"T_12a2b_row5_col3\" class=\"data row5 col3\" >0.7752</td>\n",
       "      <td id=\"T_12a2b_row5_col4\" class=\"data row5 col4\" >0.7767</td>\n",
       "      <td id=\"T_12a2b_row5_col5\" class=\"data row5 col5\" >0.7725</td>\n",
       "      <td id=\"T_12a2b_row5_col6\" class=\"data row5 col6\" >0.6989</td>\n",
       "      <td id=\"T_12a2b_row5_col7\" class=\"data row5 col7\" >0.7006</td>\n",
       "      <td id=\"T_12a2b_row5_col8\" class=\"data row5 col8\" >2.9700</td>\n",
       "    </tr>\n",
       "    <tr>\n",
       "      <th id=\"T_12a2b_level0_row6\" class=\"row_heading level0 row6\" >rf</th>\n",
       "      <td id=\"T_12a2b_row6_col0\" class=\"data row6 col0\" >Random Forest Classifier</td>\n",
       "      <td id=\"T_12a2b_row6_col1\" class=\"data row6 col1\" >0.7546</td>\n",
       "      <td id=\"T_12a2b_row6_col2\" class=\"data row6 col2\" >0.9256</td>\n",
       "      <td id=\"T_12a2b_row6_col3\" class=\"data row6 col3\" >0.7554</td>\n",
       "      <td id=\"T_12a2b_row6_col4\" class=\"data row6 col4\" >0.7572</td>\n",
       "      <td id=\"T_12a2b_row6_col5\" class=\"data row6 col5\" >0.7509</td>\n",
       "      <td id=\"T_12a2b_row6_col6\" class=\"data row6 col6\" >0.6728</td>\n",
       "      <td id=\"T_12a2b_row6_col7\" class=\"data row6 col7\" >0.6758</td>\n",
       "      <td id=\"T_12a2b_row6_col8\" class=\"data row6 col8\" >0.7780</td>\n",
       "    </tr>\n",
       "    <tr>\n",
       "      <th id=\"T_12a2b_level0_row7\" class=\"row_heading level0 row7\" >nb</th>\n",
       "      <td id=\"T_12a2b_row7_col0\" class=\"data row7 col0\" >Naive Bayes</td>\n",
       "      <td id=\"T_12a2b_row7_col1\" class=\"data row7 col1\" >0.6585</td>\n",
       "      <td id=\"T_12a2b_row7_col2\" class=\"data row7 col2\" >0.8881</td>\n",
       "      <td id=\"T_12a2b_row7_col3\" class=\"data row7 col3\" >0.6611</td>\n",
       "      <td id=\"T_12a2b_row7_col4\" class=\"data row7 col4\" >0.6718</td>\n",
       "      <td id=\"T_12a2b_row7_col5\" class=\"data row7 col5\" >0.6512</td>\n",
       "      <td id=\"T_12a2b_row7_col6\" class=\"data row7 col6\" >0.5448</td>\n",
       "      <td id=\"T_12a2b_row7_col7\" class=\"data row7 col7\" >0.5537</td>\n",
       "      <td id=\"T_12a2b_row7_col8\" class=\"data row7 col8\" >0.0080</td>\n",
       "    </tr>\n",
       "    <tr>\n",
       "      <th id=\"T_12a2b_level0_row8\" class=\"row_heading level0 row8\" >ada</th>\n",
       "      <td id=\"T_12a2b_row8_col0\" class=\"data row8 col0\" >Ada Boost Classifier</td>\n",
       "      <td id=\"T_12a2b_row8_col1\" class=\"data row8 col1\" >0.6169</td>\n",
       "      <td id=\"T_12a2b_row8_col2\" class=\"data row8 col2\" >0.8249</td>\n",
       "      <td id=\"T_12a2b_row8_col3\" class=\"data row8 col3\" >0.6189</td>\n",
       "      <td id=\"T_12a2b_row8_col4\" class=\"data row8 col4\" >0.6280</td>\n",
       "      <td id=\"T_12a2b_row8_col5\" class=\"data row8 col5\" >0.6169</td>\n",
       "      <td id=\"T_12a2b_row8_col6\" class=\"data row8 col6\" >0.4894</td>\n",
       "      <td id=\"T_12a2b_row8_col7\" class=\"data row8 col7\" >0.4926</td>\n",
       "      <td id=\"T_12a2b_row8_col8\" class=\"data row8 col8\" >0.2060</td>\n",
       "    </tr>\n",
       "    <tr>\n",
       "      <th id=\"T_12a2b_level0_row9\" class=\"row_heading level0 row9\" >dt</th>\n",
       "      <td id=\"T_12a2b_row9_col0\" class=\"data row9 col0\" >Decision Tree Classifier</td>\n",
       "      <td id=\"T_12a2b_row9_col1\" class=\"data row9 col1\" >0.5459</td>\n",
       "      <td id=\"T_12a2b_row9_col2\" class=\"data row9 col2\" >0.6971</td>\n",
       "      <td id=\"T_12a2b_row9_col3\" class=\"data row9 col3\" >0.5460</td>\n",
       "      <td id=\"T_12a2b_row9_col4\" class=\"data row9 col4\" >0.5498</td>\n",
       "      <td id=\"T_12a2b_row9_col5\" class=\"data row9 col5\" >0.5459</td>\n",
       "      <td id=\"T_12a2b_row9_col6\" class=\"data row9 col6\" >0.3944</td>\n",
       "      <td id=\"T_12a2b_row9_col7\" class=\"data row9 col7\" >0.3952</td>\n",
       "      <td id=\"T_12a2b_row9_col8\" class=\"data row9 col8\" >0.0440</td>\n",
       "    </tr>\n",
       "    <tr>\n",
       "      <th id=\"T_12a2b_level0_row10\" class=\"row_heading level0 row10\" >knn</th>\n",
       "      <td id=\"T_12a2b_row10_col0\" class=\"data row10 col0\" >K Neighbors Classifier</td>\n",
       "      <td id=\"T_12a2b_row10_col1\" class=\"data row10 col1\" >0.5110</td>\n",
       "      <td id=\"T_12a2b_row10_col2\" class=\"data row10 col2\" >0.7896</td>\n",
       "      <td id=\"T_12a2b_row10_col3\" class=\"data row10 col3\" >0.5138</td>\n",
       "      <td id=\"T_12a2b_row10_col4\" class=\"data row10 col4\" >0.6132</td>\n",
       "      <td id=\"T_12a2b_row10_col5\" class=\"data row10 col5\" >0.4720</td>\n",
       "      <td id=\"T_12a2b_row10_col6\" class=\"data row10 col6\" >0.3491</td>\n",
       "      <td id=\"T_12a2b_row10_col7\" class=\"data row10 col7\" >0.4010</td>\n",
       "      <td id=\"T_12a2b_row10_col8\" class=\"data row10 col8\" >0.0440</td>\n",
       "    </tr>\n",
       "    <tr>\n",
       "      <th id=\"T_12a2b_level0_row11\" class=\"row_heading level0 row11\" >svm</th>\n",
       "      <td id=\"T_12a2b_row11_col0\" class=\"data row11 col0\" >SVM - Linear Kernel</td>\n",
       "      <td id=\"T_12a2b_row11_col1\" class=\"data row11 col1\" >0.3005</td>\n",
       "      <td id=\"T_12a2b_row11_col2\" class=\"data row11 col2\" >0.0000</td>\n",
       "      <td id=\"T_12a2b_row11_col3\" class=\"data row11 col3\" >0.3020</td>\n",
       "      <td id=\"T_12a2b_row11_col4\" class=\"data row11 col4\" >0.3004</td>\n",
       "      <td id=\"T_12a2b_row11_col5\" class=\"data row11 col5\" >0.2822</td>\n",
       "      <td id=\"T_12a2b_row11_col6\" class=\"data row11 col6\" >0.0690</td>\n",
       "      <td id=\"T_12a2b_row11_col7\" class=\"data row11 col7\" >0.0728</td>\n",
       "      <td id=\"T_12a2b_row11_col8\" class=\"data row11 col8\" >0.0340</td>\n",
       "    </tr>\n",
       "    <tr>\n",
       "      <th id=\"T_12a2b_level0_row12\" class=\"row_heading level0 row12\" >ridge</th>\n",
       "      <td id=\"T_12a2b_row12_col0\" class=\"data row12 col0\" >Ridge Classifier</td>\n",
       "      <td id=\"T_12a2b_row12_col1\" class=\"data row12 col1\" >0.2852</td>\n",
       "      <td id=\"T_12a2b_row12_col2\" class=\"data row12 col2\" >0.0000</td>\n",
       "      <td id=\"T_12a2b_row12_col3\" class=\"data row12 col3\" >0.2844</td>\n",
       "      <td id=\"T_12a2b_row12_col4\" class=\"data row12 col4\" >0.2830</td>\n",
       "      <td id=\"T_12a2b_row12_col5\" class=\"data row12 col5\" >0.2810</td>\n",
       "      <td id=\"T_12a2b_row12_col6\" class=\"data row12 col6\" >0.0455</td>\n",
       "      <td id=\"T_12a2b_row12_col7\" class=\"data row12 col7\" >0.0458</td>\n",
       "      <td id=\"T_12a2b_row12_col8\" class=\"data row12 col8\" >0.0100</td>\n",
       "    </tr>\n",
       "    <tr>\n",
       "      <th id=\"T_12a2b_level0_row13\" class=\"row_heading level0 row13\" >lda</th>\n",
       "      <td id=\"T_12a2b_row13_col0\" class=\"data row13 col0\" >Linear Discriminant Analysis</td>\n",
       "      <td id=\"T_12a2b_row13_col1\" class=\"data row13 col1\" >0.2852</td>\n",
       "      <td id=\"T_12a2b_row13_col2\" class=\"data row13 col2\" >0.5178</td>\n",
       "      <td id=\"T_12a2b_row13_col3\" class=\"data row13 col3\" >0.2844</td>\n",
       "      <td id=\"T_12a2b_row13_col4\" class=\"data row13 col4\" >0.2840</td>\n",
       "      <td id=\"T_12a2b_row13_col5\" class=\"data row13 col5\" >0.2818</td>\n",
       "      <td id=\"T_12a2b_row13_col6\" class=\"data row13 col6\" >0.0455</td>\n",
       "      <td id=\"T_12a2b_row13_col7\" class=\"data row13 col7\" >0.0458</td>\n",
       "      <td id=\"T_12a2b_row13_col8\" class=\"data row13 col8\" >0.0140</td>\n",
       "    </tr>\n",
       "    <tr>\n",
       "      <th id=\"T_12a2b_level0_row14\" class=\"row_heading level0 row14\" >lr</th>\n",
       "      <td id=\"T_12a2b_row14_col0\" class=\"data row14 col0\" >Logistic Regression</td>\n",
       "      <td id=\"T_12a2b_row14_col1\" class=\"data row14 col1\" >0.2827</td>\n",
       "      <td id=\"T_12a2b_row14_col2\" class=\"data row14 col2\" >0.5192</td>\n",
       "      <td id=\"T_12a2b_row14_col3\" class=\"data row14 col3\" >0.2818</td>\n",
       "      <td id=\"T_12a2b_row14_col4\" class=\"data row14 col4\" >0.2819</td>\n",
       "      <td id=\"T_12a2b_row14_col5\" class=\"data row14 col5\" >0.2795</td>\n",
       "      <td id=\"T_12a2b_row14_col6\" class=\"data row14 col6\" >0.0421</td>\n",
       "      <td id=\"T_12a2b_row14_col7\" class=\"data row14 col7\" >0.0424</td>\n",
       "      <td id=\"T_12a2b_row14_col8\" class=\"data row14 col8\" >0.0340</td>\n",
       "    </tr>\n",
       "  </tbody>\n",
       "</table>\n"
      ],
      "text/plain": [
       "<pandas.io.formats.style.Styler at 0x2a0e36944f0>"
      ]
     },
     "metadata": {},
     "output_type": "display_data"
    }
   ],
   "source": [
    "top10 = compare_models(sort='Accuracy', n_select=10, fold = 5)"
   ]
  },
  {
   "cell_type": "code",
   "execution_count": 8,
   "id": "afd53e1a",
   "metadata": {
    "scrolled": true
   },
   "outputs": [
    {
     "data": {
      "text/html": [
       "<style type=\"text/css\">\n",
       "#T_c0894_row5_col0, #T_c0894_row5_col1, #T_c0894_row5_col2, #T_c0894_row5_col3, #T_c0894_row5_col4, #T_c0894_row5_col5, #T_c0894_row5_col6 {\n",
       "  background: yellow;\n",
       "}\n",
       "</style>\n",
       "<table id=\"T_c0894_\">\n",
       "  <thead>\n",
       "    <tr>\n",
       "      <th class=\"blank level0\" >&nbsp;</th>\n",
       "      <th class=\"col_heading level0 col0\" >Accuracy</th>\n",
       "      <th class=\"col_heading level0 col1\" >AUC</th>\n",
       "      <th class=\"col_heading level0 col2\" >Recall</th>\n",
       "      <th class=\"col_heading level0 col3\" >Prec.</th>\n",
       "      <th class=\"col_heading level0 col4\" >F1</th>\n",
       "      <th class=\"col_heading level0 col5\" >Kappa</th>\n",
       "      <th class=\"col_heading level0 col6\" >MCC</th>\n",
       "    </tr>\n",
       "  </thead>\n",
       "  <tbody>\n",
       "    <tr>\n",
       "      <th id=\"T_c0894_level0_row0\" class=\"row_heading level0 row0\" >0</th>\n",
       "      <td id=\"T_c0894_row0_col0\" class=\"data row0 col0\" >0.8196</td>\n",
       "      <td id=\"T_c0894_row0_col1\" class=\"data row0 col1\" >0.9468</td>\n",
       "      <td id=\"T_c0894_row0_col2\" class=\"data row0 col2\" >0.8191</td>\n",
       "      <td id=\"T_c0894_row0_col3\" class=\"data row0 col3\" >0.8265</td>\n",
       "      <td id=\"T_c0894_row0_col4\" class=\"data row0 col4\" >0.8193</td>\n",
       "      <td id=\"T_c0894_row0_col5\" class=\"data row0 col5\" >0.7591</td>\n",
       "      <td id=\"T_c0894_row0_col6\" class=\"data row0 col6\" >0.7613</td>\n",
       "    </tr>\n",
       "    <tr>\n",
       "      <th id=\"T_c0894_level0_row1\" class=\"row_heading level0 row1\" >1</th>\n",
       "      <td id=\"T_c0894_row1_col0\" class=\"data row1 col0\" >0.7645</td>\n",
       "      <td id=\"T_c0894_row1_col1\" class=\"data row1 col1\" >0.9458</td>\n",
       "      <td id=\"T_c0894_row1_col2\" class=\"data row1 col2\" >0.7632</td>\n",
       "      <td id=\"T_c0894_row1_col3\" class=\"data row1 col3\" >0.7749</td>\n",
       "      <td id=\"T_c0894_row1_col4\" class=\"data row1 col4\" >0.7643</td>\n",
       "      <td id=\"T_c0894_row1_col5\" class=\"data row1 col5\" >0.6854</td>\n",
       "      <td id=\"T_c0894_row1_col6\" class=\"data row1 col6\" >0.6887</td>\n",
       "    </tr>\n",
       "    <tr>\n",
       "      <th id=\"T_c0894_level0_row2\" class=\"row_heading level0 row2\" >2</th>\n",
       "      <td id=\"T_c0894_row2_col0\" class=\"data row2 col0\" >0.7615</td>\n",
       "      <td id=\"T_c0894_row2_col1\" class=\"data row2 col1\" >0.9313</td>\n",
       "      <td id=\"T_c0894_row2_col2\" class=\"data row2 col2\" >0.7608</td>\n",
       "      <td id=\"T_c0894_row2_col3\" class=\"data row2 col3\" >0.7690</td>\n",
       "      <td id=\"T_c0894_row2_col4\" class=\"data row2 col4\" >0.7613</td>\n",
       "      <td id=\"T_c0894_row2_col5\" class=\"data row2 col5\" >0.6815</td>\n",
       "      <td id=\"T_c0894_row2_col6\" class=\"data row2 col6\" >0.6838</td>\n",
       "    </tr>\n",
       "    <tr>\n",
       "      <th id=\"T_c0894_level0_row3\" class=\"row_heading level0 row3\" >3</th>\n",
       "      <td id=\"T_c0894_row3_col0\" class=\"data row3 col0\" >0.7523</td>\n",
       "      <td id=\"T_c0894_row3_col1\" class=\"data row3 col1\" >0.9426</td>\n",
       "      <td id=\"T_c0894_row3_col2\" class=\"data row3 col2\" >0.7523</td>\n",
       "      <td id=\"T_c0894_row3_col3\" class=\"data row3 col3\" >0.7548</td>\n",
       "      <td id=\"T_c0894_row3_col4\" class=\"data row3 col4\" >0.7521</td>\n",
       "      <td id=\"T_c0894_row3_col5\" class=\"data row3 col5\" >0.6694</td>\n",
       "      <td id=\"T_c0894_row3_col6\" class=\"data row3 col6\" >0.6702</td>\n",
       "    </tr>\n",
       "    <tr>\n",
       "      <th id=\"T_c0894_level0_row4\" class=\"row_heading level0 row4\" >4</th>\n",
       "      <td id=\"T_c0894_row4_col0\" class=\"data row4 col0\" >0.8129</td>\n",
       "      <td id=\"T_c0894_row4_col1\" class=\"data row4 col1\" >0.9420</td>\n",
       "      <td id=\"T_c0894_row4_col2\" class=\"data row4 col2\" >0.8137</td>\n",
       "      <td id=\"T_c0894_row4_col3\" class=\"data row4 col3\" >0.8131</td>\n",
       "      <td id=\"T_c0894_row4_col4\" class=\"data row4 col4\" >0.8108</td>\n",
       "      <td id=\"T_c0894_row4_col5\" class=\"data row4 col5\" >0.7505</td>\n",
       "      <td id=\"T_c0894_row4_col6\" class=\"data row4 col6\" >0.7519</td>\n",
       "    </tr>\n",
       "    <tr>\n",
       "      <th id=\"T_c0894_level0_row5\" class=\"row_heading level0 row5\" >Mean</th>\n",
       "      <td id=\"T_c0894_row5_col0\" class=\"data row5 col0\" >0.7821</td>\n",
       "      <td id=\"T_c0894_row5_col1\" class=\"data row5 col1\" >0.9417</td>\n",
       "      <td id=\"T_c0894_row5_col2\" class=\"data row5 col2\" >0.7818</td>\n",
       "      <td id=\"T_c0894_row5_col3\" class=\"data row5 col3\" >0.7876</td>\n",
       "      <td id=\"T_c0894_row5_col4\" class=\"data row5 col4\" >0.7816</td>\n",
       "      <td id=\"T_c0894_row5_col5\" class=\"data row5 col5\" >0.7092</td>\n",
       "      <td id=\"T_c0894_row5_col6\" class=\"data row5 col6\" >0.7112</td>\n",
       "    </tr>\n",
       "    <tr>\n",
       "      <th id=\"T_c0894_level0_row6\" class=\"row_heading level0 row6\" >SD</th>\n",
       "      <td id=\"T_c0894_row6_col0\" class=\"data row6 col0\" >0.0282</td>\n",
       "      <td id=\"T_c0894_row6_col1\" class=\"data row6 col1\" >0.0055</td>\n",
       "      <td id=\"T_c0894_row6_col2\" class=\"data row6 col2\" >0.0285</td>\n",
       "      <td id=\"T_c0894_row6_col3\" class=\"data row6 col3\" >0.0274</td>\n",
       "      <td id=\"T_c0894_row6_col4\" class=\"data row6 col4\" >0.0278</td>\n",
       "      <td id=\"T_c0894_row6_col5\" class=\"data row6 col5\" >0.0377</td>\n",
       "      <td id=\"T_c0894_row6_col6\" class=\"data row6 col6\" >0.0377</td>\n",
       "    </tr>\n",
       "  </tbody>\n",
       "</table>\n"
      ],
      "text/plain": [
       "<pandas.io.formats.style.Styler at 0x2a082d96610>"
      ]
     },
     "metadata": {},
     "output_type": "display_data"
    }
   ],
   "source": [
    "tuned_top10 = [tune_model(i, fold = 5) for i in top10[:5]]"
   ]
  },
  {
   "cell_type": "code",
   "execution_count": 9,
   "id": "fe4a4aba",
   "metadata": {},
   "outputs": [
    {
     "data": {
      "text/html": [
       "<style type=\"text/css\">\n",
       "#T_bf424_row10_col0, #T_bf424_row10_col1, #T_bf424_row10_col2, #T_bf424_row10_col3, #T_bf424_row10_col4, #T_bf424_row10_col5, #T_bf424_row10_col6 {\n",
       "  background: yellow;\n",
       "}\n",
       "</style>\n",
       "<table id=\"T_bf424_\">\n",
       "  <thead>\n",
       "    <tr>\n",
       "      <th class=\"blank level0\" >&nbsp;</th>\n",
       "      <th class=\"col_heading level0 col0\" >Accuracy</th>\n",
       "      <th class=\"col_heading level0 col1\" >AUC</th>\n",
       "      <th class=\"col_heading level0 col2\" >Recall</th>\n",
       "      <th class=\"col_heading level0 col3\" >Prec.</th>\n",
       "      <th class=\"col_heading level0 col4\" >F1</th>\n",
       "      <th class=\"col_heading level0 col5\" >Kappa</th>\n",
       "      <th class=\"col_heading level0 col6\" >MCC</th>\n",
       "    </tr>\n",
       "  </thead>\n",
       "  <tbody>\n",
       "    <tr>\n",
       "      <th id=\"T_bf424_level0_row0\" class=\"row_heading level0 row0\" >0</th>\n",
       "      <td id=\"T_bf424_row0_col0\" class=\"data row0 col0\" >0.8720</td>\n",
       "      <td id=\"T_bf424_row0_col1\" class=\"data row0 col1\" >0.9650</td>\n",
       "      <td id=\"T_bf424_row0_col2\" class=\"data row0 col2\" >0.8709</td>\n",
       "      <td id=\"T_bf424_row0_col3\" class=\"data row0 col3\" >0.8744</td>\n",
       "      <td id=\"T_bf424_row0_col4\" class=\"data row0 col4\" >0.8717</td>\n",
       "      <td id=\"T_bf424_row0_col5\" class=\"data row0 col5\" >0.8291</td>\n",
       "      <td id=\"T_bf424_row0_col6\" class=\"data row0 col6\" >0.8301</td>\n",
       "    </tr>\n",
       "    <tr>\n",
       "      <th id=\"T_bf424_level0_row1\" class=\"row_heading level0 row1\" >1</th>\n",
       "      <td id=\"T_bf424_row1_col0\" class=\"data row1 col0\" >0.8537</td>\n",
       "      <td id=\"T_bf424_row1_col1\" class=\"data row1 col1\" >0.9583</td>\n",
       "      <td id=\"T_bf424_row1_col2\" class=\"data row1 col2\" >0.8547</td>\n",
       "      <td id=\"T_bf424_row1_col3\" class=\"data row1 col3\" >0.8552</td>\n",
       "      <td id=\"T_bf424_row1_col4\" class=\"data row1 col4\" >0.8536</td>\n",
       "      <td id=\"T_bf424_row1_col5\" class=\"data row1 col5\" >0.8048</td>\n",
       "      <td id=\"T_bf424_row1_col6\" class=\"data row1 col6\" >0.8054</td>\n",
       "    </tr>\n",
       "    <tr>\n",
       "      <th id=\"T_bf424_level0_row2\" class=\"row_heading level0 row2\" >2</th>\n",
       "      <td id=\"T_bf424_row2_col0\" class=\"data row2 col0\" >0.8354</td>\n",
       "      <td id=\"T_bf424_row2_col1\" class=\"data row2 col1\" >0.9581</td>\n",
       "      <td id=\"T_bf424_row2_col2\" class=\"data row2 col2\" >0.8355</td>\n",
       "      <td id=\"T_bf424_row2_col3\" class=\"data row2 col3\" >0.8395</td>\n",
       "      <td id=\"T_bf424_row2_col4\" class=\"data row2 col4\" >0.8367</td>\n",
       "      <td id=\"T_bf424_row2_col5\" class=\"data row2 col5\" >0.7803</td>\n",
       "      <td id=\"T_bf424_row2_col6\" class=\"data row2 col6\" >0.7808</td>\n",
       "    </tr>\n",
       "    <tr>\n",
       "      <th id=\"T_bf424_level0_row3\" class=\"row_heading level0 row3\" >3</th>\n",
       "      <td id=\"T_bf424_row3_col0\" class=\"data row3 col0\" >0.8476</td>\n",
       "      <td id=\"T_bf424_row3_col1\" class=\"data row3 col1\" >0.9637</td>\n",
       "      <td id=\"T_bf424_row3_col2\" class=\"data row3 col2\" >0.8480</td>\n",
       "      <td id=\"T_bf424_row3_col3\" class=\"data row3 col3\" >0.8488</td>\n",
       "      <td id=\"T_bf424_row3_col4\" class=\"data row3 col4\" >0.8475</td>\n",
       "      <td id=\"T_bf424_row3_col5\" class=\"data row3 col5\" >0.7966</td>\n",
       "      <td id=\"T_bf424_row3_col6\" class=\"data row3 col6\" >0.7970</td>\n",
       "    </tr>\n",
       "    <tr>\n",
       "      <th id=\"T_bf424_level0_row4\" class=\"row_heading level0 row4\" >4</th>\n",
       "      <td id=\"T_bf424_row4_col0\" class=\"data row4 col0\" >0.8405</td>\n",
       "      <td id=\"T_bf424_row4_col1\" class=\"data row4 col1\" >0.9453</td>\n",
       "      <td id=\"T_bf424_row4_col2\" class=\"data row4 col2\" >0.8410</td>\n",
       "      <td id=\"T_bf424_row4_col3\" class=\"data row4 col3\" >0.8432</td>\n",
       "      <td id=\"T_bf424_row4_col4\" class=\"data row4 col4\" >0.8398</td>\n",
       "      <td id=\"T_bf424_row4_col5\" class=\"data row4 col5\" >0.7872</td>\n",
       "      <td id=\"T_bf424_row4_col6\" class=\"data row4 col6\" >0.7885</td>\n",
       "    </tr>\n",
       "    <tr>\n",
       "      <th id=\"T_bf424_level0_row5\" class=\"row_heading level0 row5\" >5</th>\n",
       "      <td id=\"T_bf424_row5_col0\" class=\"data row5 col0\" >0.8160</td>\n",
       "      <td id=\"T_bf424_row5_col1\" class=\"data row5 col1\" >0.9495</td>\n",
       "      <td id=\"T_bf424_row5_col2\" class=\"data row5 col2\" >0.8190</td>\n",
       "      <td id=\"T_bf424_row5_col3\" class=\"data row5 col3\" >0.8138</td>\n",
       "      <td id=\"T_bf424_row5_col4\" class=\"data row5 col4\" >0.8138</td>\n",
       "      <td id=\"T_bf424_row5_col5\" class=\"data row5 col5\" >0.7547</td>\n",
       "      <td id=\"T_bf424_row5_col6\" class=\"data row5 col6\" >0.7554</td>\n",
       "    </tr>\n",
       "    <tr>\n",
       "      <th id=\"T_bf424_level0_row6\" class=\"row_heading level0 row6\" >6</th>\n",
       "      <td id=\"T_bf424_row6_col0\" class=\"data row6 col0\" >0.8098</td>\n",
       "      <td id=\"T_bf424_row6_col1\" class=\"data row6 col1\" >0.9577</td>\n",
       "      <td id=\"T_bf424_row6_col2\" class=\"data row6 col2\" >0.8119</td>\n",
       "      <td id=\"T_bf424_row6_col3\" class=\"data row6 col3\" >0.8091</td>\n",
       "      <td id=\"T_bf424_row6_col4\" class=\"data row6 col4\" >0.8080</td>\n",
       "      <td id=\"T_bf424_row6_col5\" class=\"data row6 col5\" >0.7465</td>\n",
       "      <td id=\"T_bf424_row6_col6\" class=\"data row6 col6\" >0.7475</td>\n",
       "    </tr>\n",
       "    <tr>\n",
       "      <th id=\"T_bf424_level0_row7\" class=\"row_heading level0 row7\" >7</th>\n",
       "      <td id=\"T_bf424_row7_col0\" class=\"data row7 col0\" >0.8344</td>\n",
       "      <td id=\"T_bf424_row7_col1\" class=\"data row7 col1\" >0.9663</td>\n",
       "      <td id=\"T_bf424_row7_col2\" class=\"data row7 col2\" >0.8348</td>\n",
       "      <td id=\"T_bf424_row7_col3\" class=\"data row7 col3\" >0.8338</td>\n",
       "      <td id=\"T_bf424_row7_col4\" class=\"data row7 col4\" >0.8331</td>\n",
       "      <td id=\"T_bf424_row7_col5\" class=\"data row7 col5\" >0.7791</td>\n",
       "      <td id=\"T_bf424_row7_col6\" class=\"data row7 col6\" >0.7797</td>\n",
       "    </tr>\n",
       "    <tr>\n",
       "      <th id=\"T_bf424_level0_row8\" class=\"row_heading level0 row8\" >8</th>\n",
       "      <td id=\"T_bf424_row8_col0\" class=\"data row8 col0\" >0.8221</td>\n",
       "      <td id=\"T_bf424_row8_col1\" class=\"data row8 col1\" >0.9523</td>\n",
       "      <td id=\"T_bf424_row8_col2\" class=\"data row8 col2\" >0.8225</td>\n",
       "      <td id=\"T_bf424_row8_col3\" class=\"data row8 col3\" >0.8284</td>\n",
       "      <td id=\"T_bf424_row8_col4\" class=\"data row8 col4\" >0.8172</td>\n",
       "      <td id=\"T_bf424_row8_col5\" class=\"data row8 col5\" >0.7628</td>\n",
       "      <td id=\"T_bf424_row8_col6\" class=\"data row8 col6\" >0.7674</td>\n",
       "    </tr>\n",
       "    <tr>\n",
       "      <th id=\"T_bf424_level0_row9\" class=\"row_heading level0 row9\" >9</th>\n",
       "      <td id=\"T_bf424_row9_col0\" class=\"data row9 col0\" >0.8037</td>\n",
       "      <td id=\"T_bf424_row9_col1\" class=\"data row9 col1\" >0.9608</td>\n",
       "      <td id=\"T_bf424_row9_col2\" class=\"data row9 col2\" >0.8041</td>\n",
       "      <td id=\"T_bf424_row9_col3\" class=\"data row9 col3\" >0.8045</td>\n",
       "      <td id=\"T_bf424_row9_col4\" class=\"data row9 col4\" >0.8029</td>\n",
       "      <td id=\"T_bf424_row9_col5\" class=\"data row9 col5\" >0.7382</td>\n",
       "      <td id=\"T_bf424_row9_col6\" class=\"data row9 col6\" >0.7389</td>\n",
       "    </tr>\n",
       "    <tr>\n",
       "      <th id=\"T_bf424_level0_row10\" class=\"row_heading level0 row10\" >Mean</th>\n",
       "      <td id=\"T_bf424_row10_col0\" class=\"data row10 col0\" >0.8335</td>\n",
       "      <td id=\"T_bf424_row10_col1\" class=\"data row10 col1\" >0.9577</td>\n",
       "      <td id=\"T_bf424_row10_col2\" class=\"data row10 col2\" >0.8342</td>\n",
       "      <td id=\"T_bf424_row10_col3\" class=\"data row10 col3\" >0.8351</td>\n",
       "      <td id=\"T_bf424_row10_col4\" class=\"data row10 col4\" >0.8324</td>\n",
       "      <td id=\"T_bf424_row10_col5\" class=\"data row10 col5\" >0.7779</td>\n",
       "      <td id=\"T_bf424_row10_col6\" class=\"data row10 col6\" >0.7791</td>\n",
       "    </tr>\n",
       "    <tr>\n",
       "      <th id=\"T_bf424_level0_row11\" class=\"row_heading level0 row11\" >SD</th>\n",
       "      <td id=\"T_bf424_row11_col0\" class=\"data row11 col0\" >0.0201</td>\n",
       "      <td id=\"T_bf424_row11_col1\" class=\"data row11 col1\" >0.0065</td>\n",
       "      <td id=\"T_bf424_row11_col2\" class=\"data row11 col2\" >0.0194</td>\n",
       "      <td id=\"T_bf424_row11_col3\" class=\"data row11 col3\" >0.0208</td>\n",
       "      <td id=\"T_bf424_row11_col4\" class=\"data row11 col4\" >0.0208</td>\n",
       "      <td id=\"T_bf424_row11_col5\" class=\"data row11 col5\" >0.0267</td>\n",
       "      <td id=\"T_bf424_row11_col6\" class=\"data row11 col6\" >0.0265</td>\n",
       "    </tr>\n",
       "  </tbody>\n",
       "</table>\n"
      ],
      "text/plain": [
       "<pandas.io.formats.style.Styler at 0x2a082b53250>"
      ]
     },
     "metadata": {},
     "output_type": "display_data"
    }
   ],
   "source": [
    "blender_top10 = blend_models(estimator_list=tuned_top10)"
   ]
  },
  {
   "cell_type": "code",
   "execution_count": 10,
   "id": "669c3452",
   "metadata": {},
   "outputs": [
    {
     "name": "stdout",
     "output_type": "stream",
     "text": [
      "[LightGBM] [Warning] feature_fraction is set=0.9, colsample_bytree=1.0 will be ignored. Current value: feature_fraction=0.9\n",
      "[LightGBM] [Warning] bagging_fraction is set=0.9, subsample=1.0 will be ignored. Current value: bagging_fraction=0.9\n",
      "[LightGBM] [Warning] bagging_freq is set=2, subsample_freq=0 will be ignored. Current value: bagging_freq=2\n",
      "[LightGBM] [Warning] feature_fraction is set=0.9, colsample_bytree=1.0 will be ignored. Current value: feature_fraction=0.9\n",
      "[LightGBM] [Warning] bagging_fraction is set=0.9, subsample=1.0 will be ignored. Current value: bagging_fraction=0.9\n",
      "[LightGBM] [Warning] bagging_freq is set=2, subsample_freq=0 will be ignored. Current value: bagging_freq=2\n",
      "[LightGBM] [Warning] feature_fraction is set=0.9, colsample_bytree=1.0 will be ignored. Current value: feature_fraction=0.9\n",
      "[LightGBM] [Warning] bagging_fraction is set=0.9, subsample=1.0 will be ignored. Current value: bagging_fraction=0.9\n",
      "[LightGBM] [Warning] bagging_freq is set=2, subsample_freq=0 will be ignored. Current value: bagging_freq=2\n",
      "[LightGBM] [Warning] feature_fraction is set=0.9, colsample_bytree=1.0 will be ignored. Current value: feature_fraction=0.9\n",
      "[LightGBM] [Warning] bagging_fraction is set=0.9, subsample=1.0 will be ignored. Current value: bagging_fraction=0.9\n",
      "[LightGBM] [Warning] bagging_freq is set=2, subsample_freq=0 will be ignored. Current value: bagging_freq=2\n",
      "[LightGBM] [Warning] feature_fraction is set=0.9, colsample_bytree=1.0 will be ignored. Current value: feature_fraction=0.9\n",
      "[LightGBM] [Warning] bagging_fraction is set=0.9, subsample=1.0 will be ignored. Current value: bagging_fraction=0.9\n",
      "[LightGBM] [Warning] bagging_freq is set=2, subsample_freq=0 will be ignored. Current value: bagging_freq=2\n",
      "[LightGBM] [Warning] feature_fraction is set=0.9, colsample_bytree=1.0 will be ignored. Current value: feature_fraction=0.9\n",
      "[LightGBM] [Warning] bagging_fraction is set=0.9, subsample=1.0 will be ignored. Current value: bagging_fraction=0.9\n",
      "[LightGBM] [Warning] bagging_freq is set=2, subsample_freq=0 will be ignored. Current value: bagging_freq=2\n",
      "[LightGBM] [Warning] feature_fraction is set=0.9, colsample_bytree=1.0 will be ignored. Current value: feature_fraction=0.9\n",
      "[LightGBM] [Warning] bagging_fraction is set=0.9, subsample=1.0 will be ignored. Current value: bagging_fraction=0.9\n",
      "[LightGBM] [Warning] bagging_freq is set=2, subsample_freq=0 will be ignored. Current value: bagging_freq=2\n",
      "[LightGBM] [Warning] feature_fraction is set=0.9, colsample_bytree=1.0 will be ignored. Current value: feature_fraction=0.9\n",
      "[LightGBM] [Warning] bagging_fraction is set=0.9, subsample=1.0 will be ignored. Current value: bagging_fraction=0.9\n",
      "[LightGBM] [Warning] bagging_freq is set=2, subsample_freq=0 will be ignored. Current value: bagging_freq=2\n",
      "[LightGBM] [Warning] feature_fraction is set=0.9, colsample_bytree=1.0 will be ignored. Current value: feature_fraction=0.9\n",
      "[LightGBM] [Warning] bagging_fraction is set=0.9, subsample=1.0 will be ignored. Current value: bagging_fraction=0.9\n",
      "[LightGBM] [Warning] bagging_freq is set=2, subsample_freq=0 will be ignored. Current value: bagging_freq=2\n"
     ]
    }
   ],
   "source": [
    "final_model = finalize_model(blender_top10)\n",
    "prediction = predict_model(final_model, data= test)"
   ]
  },
  {
   "cell_type": "code",
   "execution_count": 11,
   "id": "5aa27d39",
   "metadata": {
    "scrolled": true
   },
   "outputs": [
    {
     "data": {
      "text/html": [
       "<div>\n",
       "<style scoped>\n",
       "    .dataframe tbody tr th:only-of-type {\n",
       "        vertical-align: middle;\n",
       "    }\n",
       "\n",
       "    .dataframe tbody tr th {\n",
       "        vertical-align: top;\n",
       "    }\n",
       "\n",
       "    .dataframe thead th {\n",
       "        text-align: right;\n",
       "    }\n",
       "</style>\n",
       "<table border=\"1\" class=\"dataframe\">\n",
       "  <thead>\n",
       "    <tr style=\"text-align: right;\">\n",
       "      <th></th>\n",
       "      <th>sensor_1</th>\n",
       "      <th>sensor_2</th>\n",
       "      <th>sensor_3</th>\n",
       "      <th>sensor_4</th>\n",
       "      <th>sensor_5</th>\n",
       "      <th>sensor_6</th>\n",
       "      <th>sensor_7</th>\n",
       "      <th>sensor_8</th>\n",
       "      <th>sensor_9</th>\n",
       "      <th>sensor_10</th>\n",
       "      <th>...</th>\n",
       "      <th>sensor_25</th>\n",
       "      <th>sensor_26</th>\n",
       "      <th>sensor_27</th>\n",
       "      <th>sensor_28</th>\n",
       "      <th>sensor_29</th>\n",
       "      <th>sensor_30</th>\n",
       "      <th>sensor_31</th>\n",
       "      <th>sensor_32</th>\n",
       "      <th>Label</th>\n",
       "      <th>Score</th>\n",
       "    </tr>\n",
       "  </thead>\n",
       "  <tbody>\n",
       "    <tr>\n",
       "      <th>0</th>\n",
       "      <td>0.067135</td>\n",
       "      <td>5.040383</td>\n",
       "      <td>-2.965405</td>\n",
       "      <td>-12.952880</td>\n",
       "      <td>-1.938465</td>\n",
       "      <td>-10.997802</td>\n",
       "      <td>1.853669</td>\n",
       "      <td>21.077862</td>\n",
       "      <td>7.963131</td>\n",
       "      <td>0.009773</td>\n",
       "      <td>...</td>\n",
       "      <td>1.889536</td>\n",
       "      <td>-3.926719</td>\n",
       "      <td>0.929041</td>\n",
       "      <td>4.999071</td>\n",
       "      <td>-7.963270</td>\n",
       "      <td>4.044370</td>\n",
       "      <td>-1.993315</td>\n",
       "      <td>10.855771</td>\n",
       "      <td>0</td>\n",
       "      <td>0.7087</td>\n",
       "    </tr>\n",
       "    <tr>\n",
       "      <th>1</th>\n",
       "      <td>6.890655</td>\n",
       "      <td>-12.010728</td>\n",
       "      <td>24.881907</td>\n",
       "      <td>38.943245</td>\n",
       "      <td>-4.757496</td>\n",
       "      <td>5.926453</td>\n",
       "      <td>7.923851</td>\n",
       "      <td>3.925545</td>\n",
       "      <td>4.012127</td>\n",
       "      <td>-6.921524</td>\n",
       "      <td>...</td>\n",
       "      <td>-16.940167</td>\n",
       "      <td>-11.169073</td>\n",
       "      <td>0.202975</td>\n",
       "      <td>6.846631</td>\n",
       "      <td>7.911875</td>\n",
       "      <td>-2.852819</td>\n",
       "      <td>56.028042</td>\n",
       "      <td>52.967175</td>\n",
       "      <td>0</td>\n",
       "      <td>0.7780</td>\n",
       "    </tr>\n",
       "    <tr>\n",
       "      <th>2</th>\n",
       "      <td>-4.809695</td>\n",
       "      <td>0.962863</td>\n",
       "      <td>-1.893647</td>\n",
       "      <td>-6.168084</td>\n",
       "      <td>-3.948282</td>\n",
       "      <td>0.977219</td>\n",
       "      <td>12.960620</td>\n",
       "      <td>-9.048958</td>\n",
       "      <td>5.969053</td>\n",
       "      <td>0.874370</td>\n",
       "      <td>...</td>\n",
       "      <td>-0.025761</td>\n",
       "      <td>2.981749</td>\n",
       "      <td>4.948704</td>\n",
       "      <td>-10.841968</td>\n",
       "      <td>-4.860024</td>\n",
       "      <td>-6.917495</td>\n",
       "      <td>2.842422</td>\n",
       "      <td>-3.081374</td>\n",
       "      <td>1</td>\n",
       "      <td>0.7331</td>\n",
       "    </tr>\n",
       "    <tr>\n",
       "      <th>3</th>\n",
       "      <td>0.018158</td>\n",
       "      <td>-3.993114</td>\n",
       "      <td>12.001667</td>\n",
       "      <td>22.960746</td>\n",
       "      <td>-2.121793</td>\n",
       "      <td>-6.002385</td>\n",
       "      <td>2.173744</td>\n",
       "      <td>1.045248</td>\n",
       "      <td>1.073869</td>\n",
       "      <td>-0.019322</td>\n",
       "      <td>...</td>\n",
       "      <td>0.903349</td>\n",
       "      <td>5.156367</td>\n",
       "      <td>40.827713</td>\n",
       "      <td>-1.160840</td>\n",
       "      <td>-1.215552</td>\n",
       "      <td>0.037914</td>\n",
       "      <td>-24.968873</td>\n",
       "      <td>-7.148603</td>\n",
       "      <td>3</td>\n",
       "      <td>0.7100</td>\n",
       "    </tr>\n",
       "    <tr>\n",
       "      <th>4</th>\n",
       "      <td>-7.841592</td>\n",
       "      <td>-2.129997</td>\n",
       "      <td>7.872448</td>\n",
       "      <td>-8.953428</td>\n",
       "      <td>28.080007</td>\n",
       "      <td>-5.019895</td>\n",
       "      <td>-10.922551</td>\n",
       "      <td>-15.045833</td>\n",
       "      <td>-56.981894</td>\n",
       "      <td>-8.831718</td>\n",
       "      <td>...</td>\n",
       "      <td>-6.741350</td>\n",
       "      <td>0.831967</td>\n",
       "      <td>11.905613</td>\n",
       "      <td>3.106004</td>\n",
       "      <td>46.899363</td>\n",
       "      <td>3.001353</td>\n",
       "      <td>-17.881074</td>\n",
       "      <td>-6.882390</td>\n",
       "      <td>2</td>\n",
       "      <td>0.8873</td>\n",
       "    </tr>\n",
       "    <tr>\n",
       "      <th>...</th>\n",
       "      <td>...</td>\n",
       "      <td>...</td>\n",
       "      <td>...</td>\n",
       "      <td>...</td>\n",
       "      <td>...</td>\n",
       "      <td>...</td>\n",
       "      <td>...</td>\n",
       "      <td>...</td>\n",
       "      <td>...</td>\n",
       "      <td>...</td>\n",
       "      <td>...</td>\n",
       "      <td>...</td>\n",
       "      <td>...</td>\n",
       "      <td>...</td>\n",
       "      <td>...</td>\n",
       "      <td>...</td>\n",
       "      <td>...</td>\n",
       "      <td>...</td>\n",
       "      <td>...</td>\n",
       "      <td>...</td>\n",
       "      <td>...</td>\n",
       "    </tr>\n",
       "    <tr>\n",
       "      <th>9338</th>\n",
       "      <td>7.963652</td>\n",
       "      <td>7.973099</td>\n",
       "      <td>12.877346</td>\n",
       "      <td>11.015341</td>\n",
       "      <td>-0.963491</td>\n",
       "      <td>-3.926525</td>\n",
       "      <td>-30.875620</td>\n",
       "      <td>6.022538</td>\n",
       "      <td>-1.934085</td>\n",
       "      <td>-2.019713</td>\n",
       "      <td>...</td>\n",
       "      <td>-0.822110</td>\n",
       "      <td>3.043326</td>\n",
       "      <td>11.113028</td>\n",
       "      <td>11.160472</td>\n",
       "      <td>2.034703</td>\n",
       "      <td>-0.056564</td>\n",
       "      <td>-3.959809</td>\n",
       "      <td>22.986533</td>\n",
       "      <td>3</td>\n",
       "      <td>0.6940</td>\n",
       "    </tr>\n",
       "    <tr>\n",
       "      <th>9339</th>\n",
       "      <td>-7.974772</td>\n",
       "      <td>0.997146</td>\n",
       "      <td>8.011316</td>\n",
       "      <td>-10.007376</td>\n",
       "      <td>1.065419</td>\n",
       "      <td>-15.090632</td>\n",
       "      <td>1.916883</td>\n",
       "      <td>-2.981494</td>\n",
       "      <td>2.948488</td>\n",
       "      <td>12.012327</td>\n",
       "      <td>...</td>\n",
       "      <td>-4.971529</td>\n",
       "      <td>-9.957906</td>\n",
       "      <td>19.081232</td>\n",
       "      <td>-3.056299</td>\n",
       "      <td>-0.714567</td>\n",
       "      <td>-0.859710</td>\n",
       "      <td>7.950773</td>\n",
       "      <td>2.952029</td>\n",
       "      <td>1</td>\n",
       "      <td>0.5180</td>\n",
       "    </tr>\n",
       "    <tr>\n",
       "      <th>9340</th>\n",
       "      <td>4.035916</td>\n",
       "      <td>-10.138330</td>\n",
       "      <td>5.943174</td>\n",
       "      <td>8.080807</td>\n",
       "      <td>28.007780</td>\n",
       "      <td>4.981148</td>\n",
       "      <td>23.084630</td>\n",
       "      <td>-30.048268</td>\n",
       "      <td>9.877151</td>\n",
       "      <td>-2.048269</td>\n",
       "      <td>...</td>\n",
       "      <td>23.143486</td>\n",
       "      <td>4.913298</td>\n",
       "      <td>25.066640</td>\n",
       "      <td>4.044110</td>\n",
       "      <td>-1.948533</td>\n",
       "      <td>1.921691</td>\n",
       "      <td>13.952396</td>\n",
       "      <td>11.866490</td>\n",
       "      <td>0</td>\n",
       "      <td>0.4727</td>\n",
       "    </tr>\n",
       "    <tr>\n",
       "      <th>9341</th>\n",
       "      <td>8.920498</td>\n",
       "      <td>0.033165</td>\n",
       "      <td>20.058309</td>\n",
       "      <td>68.132886</td>\n",
       "      <td>4.037498</td>\n",
       "      <td>19.068331</td>\n",
       "      <td>-4.109146</td>\n",
       "      <td>-4.067740</td>\n",
       "      <td>-11.044263</td>\n",
       "      <td>1.134035</td>\n",
       "      <td>...</td>\n",
       "      <td>2.902505</td>\n",
       "      <td>-13.936057</td>\n",
       "      <td>3.058599</td>\n",
       "      <td>33.004942</td>\n",
       "      <td>2.932643</td>\n",
       "      <td>9.968502</td>\n",
       "      <td>-3.097104</td>\n",
       "      <td>7.966220</td>\n",
       "      <td>0</td>\n",
       "      <td>0.8438</td>\n",
       "    </tr>\n",
       "    <tr>\n",
       "      <th>9342</th>\n",
       "      <td>1.042177</td>\n",
       "      <td>-2.928366</td>\n",
       "      <td>-34.982431</td>\n",
       "      <td>-0.114721</td>\n",
       "      <td>-0.127424</td>\n",
       "      <td>2.003162</td>\n",
       "      <td>61.955343</td>\n",
       "      <td>-0.128017</td>\n",
       "      <td>-0.006172</td>\n",
       "      <td>-1.211008</td>\n",
       "      <td>...</td>\n",
       "      <td>0.886503</td>\n",
       "      <td>4.933997</td>\n",
       "      <td>-68.115156</td>\n",
       "      <td>13.871766</td>\n",
       "      <td>0.941964</td>\n",
       "      <td>3.811566</td>\n",
       "      <td>77.962102</td>\n",
       "      <td>-22.973813</td>\n",
       "      <td>3</td>\n",
       "      <td>0.8495</td>\n",
       "    </tr>\n",
       "  </tbody>\n",
       "</table>\n",
       "<p>9343 rows × 34 columns</p>\n",
       "</div>"
      ],
      "text/plain": [
       "      sensor_1   sensor_2   sensor_3   sensor_4   sensor_5   sensor_6  \\\n",
       "0     0.067135   5.040383  -2.965405 -12.952880  -1.938465 -10.997802   \n",
       "1     6.890655 -12.010728  24.881907  38.943245  -4.757496   5.926453   \n",
       "2    -4.809695   0.962863  -1.893647  -6.168084  -3.948282   0.977219   \n",
       "3     0.018158  -3.993114  12.001667  22.960746  -2.121793  -6.002385   \n",
       "4    -7.841592  -2.129997   7.872448  -8.953428  28.080007  -5.019895   \n",
       "...        ...        ...        ...        ...        ...        ...   \n",
       "9338  7.963652   7.973099  12.877346  11.015341  -0.963491  -3.926525   \n",
       "9339 -7.974772   0.997146   8.011316 -10.007376   1.065419 -15.090632   \n",
       "9340  4.035916 -10.138330   5.943174   8.080807  28.007780   4.981148   \n",
       "9341  8.920498   0.033165  20.058309  68.132886   4.037498  19.068331   \n",
       "9342  1.042177  -2.928366 -34.982431  -0.114721  -0.127424   2.003162   \n",
       "\n",
       "       sensor_7   sensor_8   sensor_9  sensor_10  ...  sensor_25  sensor_26  \\\n",
       "0      1.853669  21.077862   7.963131   0.009773  ...   1.889536  -3.926719   \n",
       "1      7.923851   3.925545   4.012127  -6.921524  ... -16.940167 -11.169073   \n",
       "2     12.960620  -9.048958   5.969053   0.874370  ...  -0.025761   2.981749   \n",
       "3      2.173744   1.045248   1.073869  -0.019322  ...   0.903349   5.156367   \n",
       "4    -10.922551 -15.045833 -56.981894  -8.831718  ...  -6.741350   0.831967   \n",
       "...         ...        ...        ...        ...  ...        ...        ...   \n",
       "9338 -30.875620   6.022538  -1.934085  -2.019713  ...  -0.822110   3.043326   \n",
       "9339   1.916883  -2.981494   2.948488  12.012327  ...  -4.971529  -9.957906   \n",
       "9340  23.084630 -30.048268   9.877151  -2.048269  ...  23.143486   4.913298   \n",
       "9341  -4.109146  -4.067740 -11.044263   1.134035  ...   2.902505 -13.936057   \n",
       "9342  61.955343  -0.128017  -0.006172  -1.211008  ...   0.886503   4.933997   \n",
       "\n",
       "      sensor_27  sensor_28  sensor_29  sensor_30  sensor_31  sensor_32  Label  \\\n",
       "0      0.929041   4.999071  -7.963270   4.044370  -1.993315  10.855771      0   \n",
       "1      0.202975   6.846631   7.911875  -2.852819  56.028042  52.967175      0   \n",
       "2      4.948704 -10.841968  -4.860024  -6.917495   2.842422  -3.081374      1   \n",
       "3     40.827713  -1.160840  -1.215552   0.037914 -24.968873  -7.148603      3   \n",
       "4     11.905613   3.106004  46.899363   3.001353 -17.881074  -6.882390      2   \n",
       "...         ...        ...        ...        ...        ...        ...    ...   \n",
       "9338  11.113028  11.160472   2.034703  -0.056564  -3.959809  22.986533      3   \n",
       "9339  19.081232  -3.056299  -0.714567  -0.859710   7.950773   2.952029      1   \n",
       "9340  25.066640   4.044110  -1.948533   1.921691  13.952396  11.866490      0   \n",
       "9341   3.058599  33.004942   2.932643   9.968502  -3.097104   7.966220      0   \n",
       "9342 -68.115156  13.871766   0.941964   3.811566  77.962102 -22.973813      3   \n",
       "\n",
       "       Score  \n",
       "0     0.7087  \n",
       "1     0.7780  \n",
       "2     0.7331  \n",
       "3     0.7100  \n",
       "4     0.8873  \n",
       "...      ...  \n",
       "9338  0.6940  \n",
       "9339  0.5180  \n",
       "9340  0.4727  \n",
       "9341  0.8438  \n",
       "9342  0.8495  \n",
       "\n",
       "[9343 rows x 34 columns]"
      ]
     },
     "execution_count": 11,
     "metadata": {},
     "output_type": "execute_result"
    }
   ],
   "source": [
    "prediction"
   ]
  },
  {
   "cell_type": "code",
   "execution_count": 12,
   "id": "9edb2ba9",
   "metadata": {},
   "outputs": [
    {
     "data": {
      "text/plain": [
       "0       0\n",
       "1       0\n",
       "2       1\n",
       "3       3\n",
       "4       2\n",
       "       ..\n",
       "9338    3\n",
       "9339    1\n",
       "9340    0\n",
       "9341    0\n",
       "9342    3\n",
       "Name: Label, Length: 9343, dtype: int32"
      ]
     },
     "execution_count": 12,
     "metadata": {},
     "output_type": "execute_result"
    }
   ],
   "source": [
    "prediction['Label']"
   ]
  },
  {
   "cell_type": "code",
   "execution_count": 13,
   "id": "a70638fd",
   "metadata": {},
   "outputs": [],
   "source": [
    "submission = pd.read_csv('sample_submission.csv')\n",
    "\n",
    "submission['target'] = prediction['Label']\n",
    "\n",
    "submission\n",
    "\n",
    "submission.to_csv('submission.csv',index=False)"
   ]
  },
  {
   "cell_type": "code",
   "execution_count": null,
   "id": "f2b5c250",
   "metadata": {},
   "outputs": [],
   "source": [
    "# extratree => 0.87\n",
    "# xgboost => 0.87"
   ]
  },
  {
   "cell_type": "code",
   "execution_count": null,
   "id": "32194bfe",
   "metadata": {},
   "outputs": [],
   "source": []
  },
  {
   "cell_type": "code",
   "execution_count": null,
   "id": "b2baf332",
   "metadata": {},
   "outputs": [],
   "source": []
  },
  {
   "cell_type": "markdown",
   "id": "51907d52",
   "metadata": {},
   "source": [
    "# 보팅 (extratree + LGBM + catboost)"
   ]
  },
  {
   "cell_type": "code",
   "execution_count": null,
   "id": "2cdbc858",
   "metadata": {},
   "outputs": [],
   "source": [
    "train = pd.read_csv('train.csv')\n",
    "test = pd.read_csv('test.csv')\n",
    "\n",
    "train.drop('id', axis=1, inplace=True)\n",
    "test.drop('id', axis=1, inplace=True)\n",
    "\n",
    "train_X = train.drop('target', axis=1)\n",
    "train_y = train.target"
   ]
  },
  {
   "cell_type": "code",
   "execution_count": null,
   "id": "2b7b64fe",
   "metadata": {},
   "outputs": [],
   "source": [
    "from lightgbm import LGBMClassifier\n",
    "from xgboost import XGBClassifier\n",
    "from sklearn.ensemble import VotingClassifier\n",
    "from sklearn.ensemble import RandomForestClassifier\n",
    "from sklearn.ensemble import ExtraTreesClassifier\n",
    "import catboost as ctb"
   ]
  },
  {
   "cell_type": "code",
   "execution_count": null,
   "id": "ba274eeb",
   "metadata": {},
   "outputs": [],
   "source": [
    "LGBM = LGBMClassifier()\n",
    "xtree = ExtraTreesClassifier()\n",
    "ctb = ctb.CatBoostClassifier()\n",
    "\n",
    "VC = VotingClassifier(estimators=[('xt',xtree),('ctb',ctb),('lgbm',LGBM)],voting = 'soft')"
   ]
  },
  {
   "cell_type": "code",
   "execution_count": null,
   "id": "d662b03f",
   "metadata": {},
   "outputs": [],
   "source": [
    "VC.fit(train_X, train_y)"
   ]
  },
  {
   "cell_type": "code",
   "execution_count": null,
   "id": "f364ac68",
   "metadata": {},
   "outputs": [],
   "source": [
    "pred = VC.predict(test)"
   ]
  },
  {
   "cell_type": "code",
   "execution_count": null,
   "id": "67fc9faf",
   "metadata": {},
   "outputs": [],
   "source": [
    "submission = pd.read_csv('sample_submission.csv')\n",
    "\n",
    "submission['target'] = pred\n",
    "\n",
    "submission\n",
    "\n",
    "submission.to_csv('submission.csv',index=False)"
   ]
  },
  {
   "cell_type": "code",
   "execution_count": null,
   "id": "b36a3e70",
   "metadata": {},
   "outputs": [],
   "source": []
  },
  {
   "cell_type": "code",
   "execution_count": null,
   "id": "0e815cb6",
   "metadata": {},
   "outputs": [],
   "source": []
  },
  {
   "cell_type": "code",
   "execution_count": null,
   "id": "192a61b4",
   "metadata": {},
   "outputs": [],
   "source": []
  },
  {
   "cell_type": "code",
   "execution_count": null,
   "id": "d4980243",
   "metadata": {},
   "outputs": [],
   "source": []
  },
  {
   "cell_type": "code",
   "execution_count": null,
   "id": "1395742c",
   "metadata": {},
   "outputs": [],
   "source": []
  },
  {
   "cell_type": "code",
   "execution_count": null,
   "id": "83d570d0",
   "metadata": {},
   "outputs": [],
   "source": []
  },
  {
   "cell_type": "code",
   "execution_count": null,
   "id": "092e1bac",
   "metadata": {},
   "outputs": [],
   "source": []
  },
  {
   "cell_type": "code",
   "execution_count": null,
   "id": "513b4589",
   "metadata": {},
   "outputs": [],
   "source": []
  },
  {
   "cell_type": "code",
   "execution_count": null,
   "id": "90a288e4",
   "metadata": {},
   "outputs": [],
   "source": []
  },
  {
   "cell_type": "code",
   "execution_count": null,
   "id": "868f733a",
   "metadata": {},
   "outputs": [],
   "source": []
  },
  {
   "cell_type": "code",
   "execution_count": null,
   "id": "579fb2bf",
   "metadata": {},
   "outputs": [],
   "source": []
  },
  {
   "cell_type": "code",
   "execution_count": null,
   "id": "5452b9ae",
   "metadata": {},
   "outputs": [],
   "source": []
  },
  {
   "cell_type": "code",
   "execution_count": null,
   "id": "f5bf8848",
   "metadata": {},
   "outputs": [],
   "source": []
  },
  {
   "cell_type": "code",
   "execution_count": null,
   "id": "e2015725",
   "metadata": {},
   "outputs": [],
   "source": []
  },
  {
   "cell_type": "code",
   "execution_count": null,
   "id": "4436c4c9",
   "metadata": {},
   "outputs": [],
   "source": []
  },
  {
   "cell_type": "markdown",
   "id": "4006397d",
   "metadata": {},
   "source": [
    "# 정확도 계산 - test셋을 분리 후 정확도 보기"
   ]
  },
  {
   "cell_type": "markdown",
   "id": "b6c91f51",
   "metadata": {},
   "source": [
    "## 보팅으로 정확도 보기"
   ]
  },
  {
   "cell_type": "code",
   "execution_count": null,
   "id": "898c525b",
   "metadata": {},
   "outputs": [],
   "source": [
    "train = pd.read_csv('train.csv')\n",
    "test = pd.read_csv('test.csv')\n",
    "\n",
    "train.drop('id', axis=1, inplace=True)\n",
    "test.drop('id', axis=1, inplace=True)\n",
    "\n",
    "train_X = train.drop('target', axis=1)\n",
    "train_y = train.target"
   ]
  },
  {
   "cell_type": "code",
   "execution_count": null,
   "id": "d97b567e",
   "metadata": {},
   "outputs": [],
   "source": [
    "from sklearn.model_selection import train_test_split"
   ]
  },
  {
   "cell_type": "code",
   "execution_count": null,
   "id": "41167c35",
   "metadata": {},
   "outputs": [],
   "source": [
    "X_train, X_test, y_train, y_test = train_test_split(train_X, train_y,\n",
    "                                                   test_size = 0.2, random_state=1)"
   ]
  },
  {
   "cell_type": "code",
   "execution_count": null,
   "id": "9fb76896",
   "metadata": {},
   "outputs": [],
   "source": [
    "from lightgbm import LGBMClassifier\n",
    "from xgboost import XGBClassifier\n",
    "from sklearn.ensemble import VotingClassifier\n",
    "from sklearn.ensemble import RandomForestClassifier"
   ]
  },
  {
   "cell_type": "code",
   "execution_count": null,
   "id": "886a573a",
   "metadata": {},
   "outputs": [],
   "source": [
    "LGBM = LGBMClassifier()\n",
    "XGB = XGBClassifier()\n",
    "RF = RandomForestClassifier()\n",
    "\n",
    "VC = VotingClassifier(estimators=[('rf',RF),('xgb',XGB),('lgbm',LGBM)],voting = 'soft')"
   ]
  },
  {
   "cell_type": "code",
   "execution_count": null,
   "id": "f9e190eb",
   "metadata": {
    "scrolled": true
   },
   "outputs": [],
   "source": [
    "VC.fit(X_train, y_train)"
   ]
  },
  {
   "cell_type": "code",
   "execution_count": null,
   "id": "8767f27a",
   "metadata": {},
   "outputs": [],
   "source": [
    "pred = VC.predict(X_test)"
   ]
  },
  {
   "cell_type": "code",
   "execution_count": null,
   "id": "8d077957",
   "metadata": {},
   "outputs": [],
   "source": [
    "from sklearn.metrics import accuracy_score\n",
    "print('예측 정확도: {0:.4f}'.format(accuracy_score(y_test, pred)))\n",
    "\n",
    "\n",
    "# 예측 정확도: 0.8373"
   ]
  },
  {
   "cell_type": "code",
   "execution_count": null,
   "id": "6c1418eb",
   "metadata": {},
   "outputs": [],
   "source": []
  },
  {
   "cell_type": "code",
   "execution_count": null,
   "id": "e82bbe68",
   "metadata": {},
   "outputs": [],
   "source": []
  },
  {
   "cell_type": "markdown",
   "id": "bb70b633",
   "metadata": {},
   "source": [
    "## ExtraTreesClassifier"
   ]
  },
  {
   "cell_type": "code",
   "execution_count": null,
   "id": "00a54f36",
   "metadata": {},
   "outputs": [],
   "source": [
    "from sklearn.ensemble import ExtraTreesClassifier"
   ]
  },
  {
   "cell_type": "code",
   "execution_count": null,
   "id": "2eeb81d7",
   "metadata": {},
   "outputs": [],
   "source": [
    "xtree = ExtraTreesClassifier()\n",
    "xtree.fit(X_train, y_train)"
   ]
  },
  {
   "cell_type": "code",
   "execution_count": null,
   "id": "03a155e7",
   "metadata": {},
   "outputs": [],
   "source": [
    "pred = xtree.predict(X_test)"
   ]
  },
  {
   "cell_type": "code",
   "execution_count": null,
   "id": "8a4af50e",
   "metadata": {},
   "outputs": [],
   "source": [
    "from sklearn.metrics import accuracy_score\n",
    "print('예측 정확도: {0:.4f}'.format(accuracy_score(y_test, pred)))\n",
    "\n",
    "\n",
    "# 예측 정확도: 0.8030"
   ]
  },
  {
   "cell_type": "code",
   "execution_count": null,
   "id": "e5032162",
   "metadata": {},
   "outputs": [],
   "source": []
  },
  {
   "cell_type": "code",
   "execution_count": null,
   "id": "e0f1be39",
   "metadata": {},
   "outputs": [],
   "source": []
  },
  {
   "cell_type": "markdown",
   "id": "7e7e1e37",
   "metadata": {},
   "source": [
    "## 보팅으로 정확도 보기2 (RF -> extratree)"
   ]
  },
  {
   "cell_type": "code",
   "execution_count": null,
   "id": "8d13fafd",
   "metadata": {},
   "outputs": [],
   "source": [
    "train = pd.read_csv('train.csv')\n",
    "test = pd.read_csv('test.csv')\n",
    "\n",
    "train.drop('id', axis=1, inplace=True)\n",
    "test.drop('id', axis=1, inplace=True)\n",
    "\n",
    "train_X = train.drop('target', axis=1)\n",
    "train_y = train.target"
   ]
  },
  {
   "cell_type": "code",
   "execution_count": null,
   "id": "67bca761",
   "metadata": {},
   "outputs": [],
   "source": [
    "from sklearn.model_selection import train_test_split"
   ]
  },
  {
   "cell_type": "code",
   "execution_count": null,
   "id": "d7c702ff",
   "metadata": {},
   "outputs": [],
   "source": [
    "X_train, X_test, y_train, y_test = train_test_split(train_X, train_y,\n",
    "                                                   test_size = 0.2, random_state=1)"
   ]
  },
  {
   "cell_type": "code",
   "execution_count": null,
   "id": "f847cb41",
   "metadata": {},
   "outputs": [],
   "source": [
    "from lightgbm import LGBMClassifier\n",
    "from xgboost import XGBClassifier\n",
    "from sklearn.ensemble import VotingClassifier\n",
    "from sklearn.ensemble import RandomForestClassifier\n",
    "from sklearn.ensemble import ExtraTreesClassifier"
   ]
  },
  {
   "cell_type": "code",
   "execution_count": null,
   "id": "88664761",
   "metadata": {},
   "outputs": [],
   "source": [
    "LGBM = LGBMClassifier()\n",
    "XGB = XGBClassifier()\n",
    "xtree = ExtraTreesClassifier()\n",
    "\n",
    "VC = VotingClassifier(estimators=[('xt',xtree),('xgb',XGB),('lgbm',LGBM)],voting = 'soft')"
   ]
  },
  {
   "cell_type": "code",
   "execution_count": null,
   "id": "c9b7eb8f",
   "metadata": {
    "scrolled": true
   },
   "outputs": [],
   "source": [
    "VC.fit(X_train, y_train)"
   ]
  },
  {
   "cell_type": "code",
   "execution_count": null,
   "id": "eee6b674",
   "metadata": {},
   "outputs": [],
   "source": [
    "pred = VC.predict(X_test)"
   ]
  },
  {
   "cell_type": "code",
   "execution_count": null,
   "id": "729feb37",
   "metadata": {},
   "outputs": [],
   "source": [
    "from sklearn.metrics import accuracy_score\n",
    "print('예측 정확도: {0:.4f}'.format(accuracy_score(y_test, pred)))\n",
    "\n",
    "\n",
    "# 예측 정확도: 0.8415"
   ]
  },
  {
   "cell_type": "code",
   "execution_count": null,
   "id": "bf51d4b8",
   "metadata": {},
   "outputs": [],
   "source": []
  },
  {
   "cell_type": "code",
   "execution_count": null,
   "id": "f30ed2b5",
   "metadata": {},
   "outputs": [],
   "source": []
  },
  {
   "cell_type": "markdown",
   "id": "806f9eaa",
   "metadata": {},
   "source": [
    "## 랜덤포레스트로 정확도 보기"
   ]
  },
  {
   "cell_type": "code",
   "execution_count": null,
   "id": "547d0849",
   "metadata": {},
   "outputs": [],
   "source": [
    "rf_clf = RandomForestClassifier()\n",
    "rf_clf.fit(X_train , y_train)\n",
    "pred = rf_clf.predict(X_test)\n",
    "pred"
   ]
  },
  {
   "cell_type": "code",
   "execution_count": null,
   "id": "3150ada6",
   "metadata": {},
   "outputs": [],
   "source": [
    "from sklearn.metrics import accuracy_score\n",
    "print('예측 정확도: {0:.4f}'.format(accuracy_score(y_test, pred)))\n",
    "\n",
    "\n",
    "# 예측 정확도: 0.7709"
   ]
  },
  {
   "cell_type": "code",
   "execution_count": null,
   "id": "736b1f0b",
   "metadata": {},
   "outputs": [],
   "source": []
  },
  {
   "cell_type": "code",
   "execution_count": null,
   "id": "a6ea58d8",
   "metadata": {},
   "outputs": [],
   "source": []
  },
  {
   "cell_type": "markdown",
   "id": "6ba729da",
   "metadata": {},
   "source": [
    "## xgboost로 정확도 보기"
   ]
  },
  {
   "cell_type": "code",
   "execution_count": null,
   "id": "bf4a5a42",
   "metadata": {},
   "outputs": [],
   "source": [
    "import xgboost as xgb "
   ]
  },
  {
   "cell_type": "code",
   "execution_count": null,
   "id": "4d25e318",
   "metadata": {},
   "outputs": [],
   "source": [
    "dtrain = xgb.DMatrix(data=X_train , label=y_train)\n",
    "dtest = xgb.DMatrix(data=X_test , label=y_test)"
   ]
  },
  {
   "cell_type": "code",
   "execution_count": null,
   "id": "d993e9b6",
   "metadata": {},
   "outputs": [],
   "source": [
    "params = { 'max_depth':3,\n",
    "           'eta': 0.1,   # 학습률\n",
    "           'objective':'multi:softmax',\n",
    "           'eval_metric':'merror',\n",
    "           'early_stoppings':10\n",
    "        }\n",
    "\n",
    "# 학습 횟수\n",
    "num_rounds = 100"
   ]
  },
  {
   "cell_type": "code",
   "execution_count": null,
   "id": "f3d9bb50",
   "metadata": {},
   "outputs": [],
   "source": [
    "# 데이터를 학습용은 ‘train’ , 검증용은 ‘eval’로 표시\n",
    "wlist = [(dtrain,'train'),(dtest,'eval') ]"
   ]
  },
  {
   "cell_type": "code",
   "execution_count": null,
   "id": "232ea86e",
   "metadata": {},
   "outputs": [],
   "source": [
    "# 하이퍼 파라미터와 early stopping 파라미터를 train( ) 함수의 파라미터로 전달\n",
    "xgb_model = xgb.train(params = params, dtrain=dtrain, num_boost_round=num_rounds, evals=wlist)  #xgb.fit이 아닌 xgb.train\n",
    "xgb_model"
   ]
  },
  {
   "cell_type": "code",
   "execution_count": null,
   "id": "77d8753e",
   "metadata": {},
   "outputs": [],
   "source": []
  },
  {
   "cell_type": "code",
   "execution_count": null,
   "id": "4d0b7afb",
   "metadata": {},
   "outputs": [],
   "source": []
  },
  {
   "cell_type": "markdown",
   "id": "fa460939",
   "metadata": {},
   "source": [
    "## Catboost"
   ]
  },
  {
   "cell_type": "code",
   "execution_count": null,
   "id": "3dda0423",
   "metadata": {},
   "outputs": [],
   "source": [
    "import catboost as ctb"
   ]
  },
  {
   "cell_type": "code",
   "execution_count": null,
   "id": "7518f207",
   "metadata": {},
   "outputs": [],
   "source": [
    "model_CBC = ctb.CatBoostClassifier()"
   ]
  },
  {
   "cell_type": "code",
   "execution_count": null,
   "id": "f085d2c6",
   "metadata": {},
   "outputs": [],
   "source": [
    "model_CBC.fit(X_train, y_train)"
   ]
  },
  {
   "cell_type": "code",
   "execution_count": null,
   "id": "552074de",
   "metadata": {},
   "outputs": [],
   "source": [
    "pred = model_CBC.predict(X_test)"
   ]
  },
  {
   "cell_type": "code",
   "execution_count": null,
   "id": "dc2c1369",
   "metadata": {},
   "outputs": [],
   "source": [
    "from sklearn.metrics import accuracy_score\n",
    "print('예측 정확도: {0:.4f}'.format(accuracy_score(y_test, pred)))\n",
    "\n",
    "#예측 정확도: 0.8458"
   ]
  },
  {
   "cell_type": "code",
   "execution_count": null,
   "id": "99353438",
   "metadata": {},
   "outputs": [],
   "source": []
  },
  {
   "cell_type": "code",
   "execution_count": null,
   "id": "49b2570b",
   "metadata": {},
   "outputs": [],
   "source": []
  },
  {
   "cell_type": "markdown",
   "id": "d0a5b16c",
   "metadata": {},
   "source": [
    "## 보팅으로 정확도 보기2 (xgboost => catboost)"
   ]
  },
  {
   "cell_type": "code",
   "execution_count": null,
   "id": "8a950b77",
   "metadata": {},
   "outputs": [],
   "source": [
    "train = pd.read_csv('train.csv')\n",
    "test = pd.read_csv('test.csv')\n",
    "\n",
    "train.drop('id', axis=1, inplace=True)\n",
    "test.drop('id', axis=1, inplace=True)\n",
    "\n",
    "train_X = train.drop('target', axis=1)\n",
    "train_y = train.target"
   ]
  },
  {
   "cell_type": "code",
   "execution_count": null,
   "id": "2b0021b0",
   "metadata": {},
   "outputs": [],
   "source": [
    "from sklearn.model_selection import train_test_split"
   ]
  },
  {
   "cell_type": "code",
   "execution_count": null,
   "id": "75c2c6bf",
   "metadata": {},
   "outputs": [],
   "source": [
    "X_train, X_test, y_train, y_test = train_test_split(train_X, train_y,\n",
    "                                                   test_size = 0.2, random_state=1)"
   ]
  },
  {
   "cell_type": "code",
   "execution_count": null,
   "id": "66a875b4",
   "metadata": {},
   "outputs": [],
   "source": [
    "from lightgbm import LGBMClassifier\n",
    "from xgboost import XGBClassifier\n",
    "from sklearn.ensemble import VotingClassifier\n",
    "from sklearn.ensemble import RandomForestClassifier\n",
    "from sklearn.ensemble import ExtraTreesClassifier\n",
    "import catboost as ctb"
   ]
  },
  {
   "cell_type": "code",
   "execution_count": null,
   "id": "d3581ce3",
   "metadata": {},
   "outputs": [],
   "source": [
    "LGBM = LGBMClassifier()\n",
    "xtree = ExtraTreesClassifier()\n",
    "ctb = ctb.CatBoostClassifier()\n",
    "\n",
    "VC = VotingClassifier(estimators=[('xt',xtree),('ctb',ctb),('lgbm',LGBM)],voting = 'soft')"
   ]
  },
  {
   "cell_type": "code",
   "execution_count": null,
   "id": "a704b669",
   "metadata": {
    "scrolled": true
   },
   "outputs": [],
   "source": [
    "VC.fit(X_train, y_train)"
   ]
  },
  {
   "cell_type": "code",
   "execution_count": null,
   "id": "03614b3c",
   "metadata": {},
   "outputs": [],
   "source": [
    "pred = VC.predict(X_test)"
   ]
  },
  {
   "cell_type": "code",
   "execution_count": null,
   "id": "0fdac98a",
   "metadata": {},
   "outputs": [],
   "source": [
    "pred"
   ]
  },
  {
   "cell_type": "code",
   "execution_count": null,
   "id": "fa8e46a8",
   "metadata": {},
   "outputs": [],
   "source": [
    "from sklearn.metrics import accuracy_score\n",
    "print('예측 정확도: {0:.4f}'.format(accuracy_score(y_test, pred)))\n",
    "\n",
    "\n",
    "# 예측 정확도: 0.8544"
   ]
  },
  {
   "cell_type": "code",
   "execution_count": null,
   "id": "13df0dc0",
   "metadata": {},
   "outputs": [],
   "source": []
  },
  {
   "cell_type": "code",
   "execution_count": null,
   "id": "fb5fdeb3",
   "metadata": {},
   "outputs": [],
   "source": []
  },
  {
   "cell_type": "markdown",
   "id": "143361ec",
   "metadata": {},
   "source": [
    "# 딥러닝 기반"
   ]
  },
  {
   "cell_type": "code",
   "execution_count": null,
   "id": "4deb97c3",
   "metadata": {},
   "outputs": [],
   "source": [
    "import numpy as np\n",
    "import pandas as pd\n",
    "from keras.models import Sequential\n",
    "from keras.layers import Dense\n",
    "from keras.callbacks import ModelCheckpoint,EarlyStopping\n",
    "import tensorflow as tf"
   ]
  },
  {
   "cell_type": "code",
   "execution_count": null,
   "id": "1c6ed0bb",
   "metadata": {},
   "outputs": [],
   "source": [
    "train = pd.read_csv('train.csv')\n",
    "test = pd.read_csv('test.csv')\n",
    "\n",
    "train.drop('id', axis=1, inplace=True)\n",
    "test.drop('id', axis=1, inplace=True)\n",
    "\n",
    "train_X = train.drop('target', axis=1)\n",
    "train_y = train.target"
   ]
  },
  {
   "cell_type": "code",
   "execution_count": null,
   "id": "d33f91da",
   "metadata": {},
   "outputs": [],
   "source": [
    "from sklearn.model_selection import train_test_split"
   ]
  },
  {
   "cell_type": "code",
   "execution_count": null,
   "id": "be5e8470",
   "metadata": {},
   "outputs": [],
   "source": [
    "X_train, X_test, y_train, y_test = train_test_split(train_X, train_y,\n",
    "                                                   test_size = 0.2, random_state=1)"
   ]
  },
  {
   "cell_type": "code",
   "execution_count": null,
   "id": "89f1e004",
   "metadata": {
    "scrolled": true
   },
   "outputs": [],
   "source": [
    "train_y = np.asarray(train_y).astype('object')"
   ]
  },
  {
   "cell_type": "code",
   "execution_count": null,
   "id": "a5a9d127",
   "metadata": {},
   "outputs": [],
   "source": [
    "from sklearn.preprocessing import LabelEncoder\n",
    "\n",
    "# 문자열을 숫자로 변환\n",
    "e = LabelEncoder()\n",
    "e.fit(train_y)\n",
    "Y = e.transform(train_y)\n",
    "Y_encoded = tf.keras.utils.to_categorical(Y)"
   ]
  },
  {
   "cell_type": "code",
   "execution_count": null,
   "id": "51b5ee6d",
   "metadata": {},
   "outputs": [],
   "source": [
    "Y_encoded"
   ]
  },
  {
   "cell_type": "code",
   "execution_count": null,
   "id": "3a251936",
   "metadata": {},
   "outputs": [],
   "source": [
    "model = Sequential()\n",
    "model.add(Dense(40, input_dim=32, activation = 'relu'))\n",
    "model.add(Dense(15, activation='relu'))\n",
    "model.add(Dense(4, activation='softmax'))\n",
    "\n",
    "model.compile(loss='categorical_crossentropy', optimizer='adam', metrics = ['accuracy'])"
   ]
  },
  {
   "cell_type": "code",
   "execution_count": null,
   "id": "1b232fb5",
   "metadata": {},
   "outputs": [],
   "source": [
    "model.fit(train_X, Y_encoded, epochs=100, batch_size=10)\n",
    "\n"
   ]
  },
  {
   "cell_type": "code",
   "execution_count": null,
   "id": "6b627789",
   "metadata": {},
   "outputs": [],
   "source": [
    "# 예측 값과 실제 값의 비교\n",
    "Y_prediction = model.predict(test)\n",
    "# flatten : 데이터 배열이 몇 차원이든 모두 1차원으로 바꿔 읽기 쉽게 해 주는 함수"
   ]
  },
  {
   "cell_type": "code",
   "execution_count": null,
   "id": "5383efcd",
   "metadata": {},
   "outputs": [],
   "source": [
    "Y_prediction"
   ]
  },
  {
   "cell_type": "code",
   "execution_count": null,
   "id": "1584a0b9",
   "metadata": {},
   "outputs": [],
   "source": [
    "value_list=[]\n",
    "for i in range(len(Y_prediction)):\n",
    "    maxindex = numpy.argmax(Y_prediction[i])\n",
    "    value_list.append(maxindex)"
   ]
  },
  {
   "cell_type": "code",
   "execution_count": null,
   "id": "5916f5ab",
   "metadata": {},
   "outputs": [],
   "source": [
    "value_list"
   ]
  },
  {
   "cell_type": "code",
   "execution_count": null,
   "id": "5d52529a",
   "metadata": {},
   "outputs": [],
   "source": [
    "from sklearn.metrics import accuracy_score\n",
    "print('예측 정확도: {0:.4f}'.format(accuracy_score(y_test, value_list)))\n",
    "\n",
    "\n",
    "# 예측 정확도: 0.8544"
   ]
  },
  {
   "cell_type": "code",
   "execution_count": null,
   "id": "26f498b2",
   "metadata": {},
   "outputs": [],
   "source": [
    "submission = pd.read_csv('submission.csv')\n",
    "\n",
    "submission['target2'] = value_list\n",
    "\n",
    "submission\n",
    "\n",
    "submission.to_csv('submission.csv',index=False)"
   ]
  },
  {
   "cell_type": "code",
   "execution_count": null,
   "id": "496244bd",
   "metadata": {},
   "outputs": [],
   "source": []
  }
 ],
 "metadata": {
  "kernelspec": {
   "display_name": "Python 3 (ipykernel)",
   "language": "python",
   "name": "python3"
  },
  "language_info": {
   "codemirror_mode": {
    "name": "ipython",
    "version": 3
   },
   "file_extension": ".py",
   "mimetype": "text/x-python",
   "name": "python",
   "nbconvert_exporter": "python",
   "pygments_lexer": "ipython3",
   "version": "3.9.7"
  }
 },
 "nbformat": 4,
 "nbformat_minor": 5
}
