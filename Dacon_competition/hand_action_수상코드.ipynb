{
 "cells": [
  {
   "cell_type": "markdown",
   "id": "619f0623",
   "metadata": {},
   "source": [
    "# 데이터 로드 및 인코딩"
   ]
  },
  {
   "cell_type": "code",
   "execution_count": 1,
   "id": "c00d40d0",
   "metadata": {},
   "outputs": [],
   "source": [
    "import pandas as pd\n",
    "import numpy as np\n",
    "import warnings\n",
    "warnings.filterwarnings('ignore')\n",
    "%matplotlib inline"
   ]
  },
  {
   "cell_type": "code",
   "execution_count": 2,
   "id": "b0fad9a0",
   "metadata": {},
   "outputs": [],
   "source": [
    "train = pd.read_csv('train.csv')\n",
    "test = pd.read_csv('test.csv')"
   ]
  },
  {
   "cell_type": "code",
   "execution_count": 3,
   "id": "ee05511d",
   "metadata": {},
   "outputs": [],
   "source": [
    "from sklearn.model_selection import StratifiedKFold\n",
    "from sklearn.metrics import accuracy_score\n",
    "from sklearn.preprocessing import OneHotEncoder\n",
    "\n",
    "from tensorflow.keras.layers import *\n",
    "from tensorflow.keras.models import *\n",
    "from tensorflow.keras.optimizers import *\n",
    "from tensorflow.keras.callbacks import *"
   ]
  },
  {
   "cell_type": "code",
   "execution_count": 4,
   "id": "92f92cb6",
   "metadata": {},
   "outputs": [],
   "source": [
    "X = train.iloc[:, 1:-1]\n",
    "target = test.iloc[:, 1:]"
   ]
  },
  {
   "cell_type": "code",
   "execution_count": 5,
   "id": "af6d70a8",
   "metadata": {},
   "outputs": [],
   "source": [
    "X = np.array(X).reshape(-1, 8, 4, 1)\n",
    "target = np.array(target).reshape(-1, 8, 4, 1)"
   ]
  },
  {
   "cell_type": "code",
   "execution_count": 6,
   "id": "82b3034a",
   "metadata": {},
   "outputs": [],
   "source": [
    "ohe = OneHotEncoder(sparse = False)\n",
    "y = ohe.fit_transform(train[['target']])"
   ]
  },
  {
   "cell_type": "code",
   "execution_count": 9,
   "id": "b64004c0",
   "metadata": {},
   "outputs": [],
   "source": [
    "skf = StratifiedKFold(n_splits = 10, random_state = 1, shuffle = True)"
   ]
  },
  {
   "cell_type": "code",
   "execution_count": null,
   "id": "3af02577",
   "metadata": {},
   "outputs": [],
   "source": []
  },
  {
   "cell_type": "markdown",
   "id": "697f3c12",
   "metadata": {},
   "source": [
    "# 모델링"
   ]
  },
  {
   "cell_type": "code",
   "execution_count": 10,
   "id": "78a52f08",
   "metadata": {},
   "outputs": [],
   "source": [
    "es = EarlyStopping(monitor = 'val_acc', patience = 50, mode = 'max', verbose = 0)\n",
    "rlrp = ReduceLROnPlateau(monitor='val_acc', factor=0.2, patience=5, mode='max')\n",
    "\n",
    "# 콜백함수 중 ReduceLROnPlateau를 새롭게 알게되어 써봤습니다. factor는 0.1보다는 0.2가 더 좋은 성능을 보였습니다"
   ]
  },
  {
   "cell_type": "code",
   "execution_count": null,
   "id": "9389f80e",
   "metadata": {},
   "outputs": [],
   "source": [
    "cnn_acc = []\n",
    "cnn_pred = np.zeros((target.shape[0], 4))\n",
    "for i, (tr_idx, val_idx) in enumerate(skf.split(X, train.target)) :\n",
    "    print(f'{i + 1} Fold Training.....')\n",
    "    tr_x, tr_y = X[tr_idx], y[tr_idx]\n",
    "    val_x, val_y = X[val_idx], y[val_idx]\n",
    "    \n",
    "    ### CNN 모델\n",
    "    cnn = Sequential()\n",
    "    cnn.add(Conv2D(64, (2, 4), padding = \"same\", activation = 'elu', input_shape = (8, 4, 1))) # 정사각필터보다 직사각필터가 좋은 성능\n",
    "    cnn.add(BatchNormalization())\n",
    "    \n",
    "    cnn.add(Conv2D(32, (2, 4), padding = \"same\", activation = 'elu'))\n",
    "    cnn.add(BatchNormalization())\n",
    "    \n",
    "    cnn.add(Conv2D(16, (3, 4), padding = \"same\", activation = 'elu'))\n",
    "    cnn.add(BatchNormalization())\n",
    "    \n",
    "    cnn.add(Conv2D(32, (3, 4), padding = \"same\", activation = 'elu'))\n",
    "    \n",
    "    cnn.add(BatchNormalization())\n",
    "    cnn.add(GlobalAveragePooling2D())\n",
    "    \n",
    "    cnn.add(Dense(16, activation = 'relu'))\n",
    "    cnn.add(Dense(4, activation = 'softmax'))\n",
    "\n",
    "    ### ModelCheckPoint Fold마다 갱신\n",
    "    mc = ModelCheckpoint(f'model_{i + 1}.h5', save_best_only = True, monitor = 'val_acc', mode = 'max', verbose = 0)\n",
    "   \n",
    "    ### 모델 compile\n",
    "    cnn.compile(optimizer = RMSprop(lr=0.04), loss = 'categorical_crossentropy', metrics = ['acc'])\n",
    "\n",
    "    cnn.fit(tr_x, tr_y, validation_data = (val_x, val_y), epochs = 100, batch_size = 32, callbacks = [es, mc, rlrp], verbose = 0)\n",
    "\n",
    "    ### 최고 성능 기록 모델 Load\n",
    "    best = load_model(f'model_{i + 1}.h5')\n",
    "    ### validation predict\n",
    "    val_pred = best.predict(val_x)\n",
    "    ### 확률값 중 최대값을 클래스로 매칭\n",
    "    val_cls = np.argmax(val_pred, axis = 1)\n",
    "    ### Fold별 정확도 산출\n",
    "    fold_cnn_acc = accuracy_score(np.argmax(val_y, axis = 1), val_cls)\n",
    "    cnn_acc.append(fold_cnn_acc)\n",
    "    print(f'{i + 1} Fold ACC of CNN = {fold_cnn_acc}\\n')\n",
    "\n",
    "    ### Fold별 test 데이터에 대한 예측값 생성 및 앙상블\n",
    "    fold_pred = best.predict(target) / skf.n_splits\n",
    "    cnn_pred += fold_pred"
   ]
  },
  {
   "cell_type": "code",
   "execution_count": null,
   "id": "4e0d8e7c",
   "metadata": {},
   "outputs": [],
   "source": [
    "np.mean(cnn_acc)\n",
    "\n",
    "# 정확도들의 평균이 0.8972로 나왔습니다."
   ]
  },
  {
   "cell_type": "code",
   "execution_count": null,
   "id": "9890cf72",
   "metadata": {},
   "outputs": [],
   "source": [
    "submission = pd.read_csv('sample_submission.csv')\n",
    "\n",
    "submission['target'] = np.argmax(cnn_pred, axis = 1)\n",
    "\n",
    "submission\n",
    "\n",
    "submission.to_csv('submission.csv',index=False)"
   ]
  },
  {
   "cell_type": "code",
   "execution_count": null,
   "id": "1a821594",
   "metadata": {},
   "outputs": [],
   "source": []
  },
  {
   "cell_type": "code",
   "execution_count": null,
   "id": "9a966e3c",
   "metadata": {},
   "outputs": [],
   "source": []
  }
 ],
 "metadata": {
  "kernelspec": {
   "display_name": "Python 3 (ipykernel)",
   "language": "python",
   "name": "python3"
  },
  "language_info": {
   "codemirror_mode": {
    "name": "ipython",
    "version": 3
   },
   "file_extension": ".py",
   "mimetype": "text/x-python",
   "name": "python",
   "nbconvert_exporter": "python",
   "pygments_lexer": "ipython3",
   "version": "3.9.7"
  }
 },
 "nbformat": 4,
 "nbformat_minor": 5
}
