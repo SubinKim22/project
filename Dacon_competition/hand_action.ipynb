{
 "cells": [
  {
   "cell_type": "code",
   "execution_count": null,
   "id": "596a8818",
   "metadata": {},
   "outputs": [],
   "source": [
    "```\n",
    "22.03.07\n",
    "1. 보팅(xgboost + LGBM + RF) => 0.8278\n",
    "2. pycaret(catboost제외) => 0.8415\n",
    "3. 보팅 (extratree + LGBM + catboost) => 0.8411\n",
    "\n",
    "22.03.08\n",
    "1. pycaret(catboost포함) => 0.8464 \n",
    "2. 보팅 (extratree + LGBM + catboost)- 파라미터 추가 => 0.847\n",
    "\n",
    "22.03.10\n",
    "1. cnn => 0.8916  \n",
    "2. cnn(+dropout, adam) => 0.8788\n",
    "3. cnn(dropout+0.03) => 0.8850\n",
    "\n",
    "22.03.11\n",
    "1. cnn(+dropout) => 0.8811\n",
    "2. cnn(+patient=10) => 0.8918\n",
    "3. cnn(+patient=50) => 0.8963 \n",
    "\n",
    "22.03.12\n",
    "1. cnn(Nadam) => 0.8961\n",
    "2. cnn(adam) => 0.8944\n",
    "3. cnn(filter) => 0.8925\n",
    "\n",
    "22.03.13\n",
    "1. cnn(차원) => 0.8961\n",
    "2. CNN(flatten) => 0.8935\n",
    "\n",
    "22.03.14\n",
    "1. cnn(필터 수 + 콜백 + nadam) => 0.8869\n",
    "2. cnn(dense층 여러개 + dropout) => 0.8927\n",
    "3. cnn(dense=32, dropout=0.5) => 0.8931\n",
    "\n",
    "22.03.15\n",
    "1. cnn(adam학습률 + 배치 16) => 0.8850\n",
    "2. cnn(레이어 수 추가, 필터갯수 변경, dense추가) => 0.8957\n",
    "3. cnn(val_loss) => 0.8843\n",
    "\n",
    "22.03.16\n",
    "1. cnn(epoch=200) => 0.8959\n",
    "2. cnn(RMSprop 학습률 0.001) => 0.8933\n",
    "\n",
    "22.03.17\n",
    "1. cnn(직사각 필터 21 21 32 32) => 0.90023 \n",
    "2. cnn(직사각 필터 21 21 32 43) => 0.90021\n",
    "3. cnn(직사각 필터 21 21 32 32) => 0.8942\n",
    "\n",
    "22.03.18\n",
    "1. cnn(콜백 pa5 0.8852) => 0.900663\n",
    "2. cnn(차원 41 31 32 22 0.8864) => 0.90730\n",
    "3. cnn(팩터 0.2 24 24 34 34 0.8972) => 0.90751 (best)\n",
    "```\n"
   ]
  },
  {
   "cell_type": "markdown",
   "id": "d7c20f78",
   "metadata": {},
   "source": [
    "# 보팅 (xgboost + lgbm + rf)"
   ]
  },
  {
   "cell_type": "code",
   "execution_count": 88,
   "id": "7dcae1c8",
   "metadata": {},
   "outputs": [
    {
     "name": "stdout",
     "output_type": "stream",
     "text": [
      "3.4.3\n"
     ]
    }
   ],
   "source": [
    "import pandas as pd\n",
    "import os\n",
    "import matplotlib as mpl\n",
    "from matplotlib import font_manager, rc\n",
    "import matplotlib.pyplot as plt\n",
    "import numpy as np\n",
    "import pandas as pd\n",
    "print(mpl.__version__)\n",
    "# seaborn 스타일 사용\n",
    "plt.style.use('seaborn-notebook')\n",
    "\n",
    "# matplotlib 그래프 한글폰트 깨질 때 대처(Mac & Window)\n",
    "import platform\n",
    "if platform.system() == 'Windows':\n",
    "# 윈도우인 경우\n",
    "    font_name = font_manager.FontProperties(fname=\"c:/Windows/Fonts/malgun.ttf\").get_name()\n",
    "    rc('font', family=font_name)\n",
    "else:    \n",
    "# Mac 인 경우\n",
    "    rc('font', family='AppleGothic')\n",
    "    \n",
    "# 그래프에서 마이너스 기호가 표시되도록 하는 설정\n",
    "mpl.rcParams['axes.unicode_minus'] = False\n",
    "\n",
    "import seaborn as sns\n",
    "import warnings\n",
    "warnings.filterwarnings('ignore')\n",
    "%matplotlib inline\n"
   ]
  },
  {
   "cell_type": "code",
   "execution_count": null,
   "id": "073175a1",
   "metadata": {},
   "outputs": [],
   "source": [
    "train = pd.read_csv('train.csv')\n",
    "test = pd.read_csv('test.csv')\n",
    "\n",
    "train.drop('id', axis=1, inplace=True)\n",
    "test.drop('id', axis=1, inplace=True)\n",
    "\n",
    "train_X = train.drop('target', axis=1)\n",
    "train_y = train.target"
   ]
  },
  {
   "cell_type": "code",
   "execution_count": null,
   "id": "81125f80",
   "metadata": {},
   "outputs": [],
   "source": [
    "from lightgbm import LGBMClassifier\n",
    "from xgboost import XGBClassifier\n",
    "from sklearn.ensemble import VotingClassifier\n",
    "from sklearn.ensemble import RandomForestClassifier"
   ]
  },
  {
   "cell_type": "code",
   "execution_count": null,
   "id": "15d007a5",
   "metadata": {},
   "outputs": [],
   "source": [
    "LGBM = LGBMClassifier()\n",
    "XGB = XGBClassifier()\n",
    "RF = RandomForestClassifier()\n",
    "\n",
    "VC = VotingClassifier(estimators=[('rf',RF),('xgb',XGB),('lgbm',LGBM)],voting = 'soft')"
   ]
  },
  {
   "cell_type": "code",
   "execution_count": null,
   "id": "6d9aa109",
   "metadata": {
    "scrolled": true
   },
   "outputs": [],
   "source": [
    "VC.fit(train_X,train_y)"
   ]
  },
  {
   "cell_type": "code",
   "execution_count": null,
   "id": "ca964467",
   "metadata": {},
   "outputs": [],
   "source": [
    "pred = VC.predict(test)"
   ]
  },
  {
   "cell_type": "code",
   "execution_count": null,
   "id": "870b7496",
   "metadata": {},
   "outputs": [],
   "source": [
    "submission = pd.read_csv('sample_submission.csv')\n",
    "\n",
    "submission['target'] = pred\n",
    "\n",
    "submission\n",
    "\n",
    "submission.to_csv('submission.csv',index=False)"
   ]
  },
  {
   "cell_type": "code",
   "execution_count": null,
   "id": "23bf9821",
   "metadata": {},
   "outputs": [],
   "source": []
  },
  {
   "cell_type": "code",
   "execution_count": null,
   "id": "2d4316a0",
   "metadata": {},
   "outputs": [],
   "source": []
  },
  {
   "cell_type": "markdown",
   "id": "e721c34a",
   "metadata": {},
   "source": [
    "# pycaret"
   ]
  },
  {
   "cell_type": "code",
   "execution_count": null,
   "id": "a0bb1b9a",
   "metadata": {},
   "outputs": [],
   "source": [
    "from pycaret.classification import *"
   ]
  },
  {
   "cell_type": "code",
   "execution_count": null,
   "id": "f2b74229",
   "metadata": {},
   "outputs": [],
   "source": [
    "setup_clf = setup(data = train, target = 'target', fold_shuffle=True, use_gpu=True, silent=True)"
   ]
  },
  {
   "cell_type": "code",
   "execution_count": null,
   "id": "bd22bd5c",
   "metadata": {
    "scrolled": false
   },
   "outputs": [],
   "source": [
    "top10 = compare_models(sort='Accuracy', n_select=10, fold = 5)"
   ]
  },
  {
   "cell_type": "code",
   "execution_count": null,
   "id": "afd53e1a",
   "metadata": {
    "scrolled": true
   },
   "outputs": [],
   "source": [
    "tuned_top10 = [tune_model(i, fold = 5) for i in top10]"
   ]
  },
  {
   "cell_type": "code",
   "execution_count": null,
   "id": "b9cbbd05",
   "metadata": {
    "scrolled": false
   },
   "outputs": [],
   "source": [
    "blender_top10 = blend_models(estimator_list=tuned_top10)"
   ]
  },
  {
   "cell_type": "code",
   "execution_count": null,
   "id": "669c3452",
   "metadata": {},
   "outputs": [],
   "source": [
    "final_model = finalize_model(blender_top10)\n",
    "prediction = predict_model(final_model, data= test)"
   ]
  },
  {
   "cell_type": "code",
   "execution_count": null,
   "id": "5aa27d39",
   "metadata": {
    "scrolled": true
   },
   "outputs": [],
   "source": [
    "prediction"
   ]
  },
  {
   "cell_type": "code",
   "execution_count": null,
   "id": "9edb2ba9",
   "metadata": {},
   "outputs": [],
   "source": [
    "prediction['Label']"
   ]
  },
  {
   "cell_type": "code",
   "execution_count": null,
   "id": "a70638fd",
   "metadata": {},
   "outputs": [],
   "source": [
    "submission = pd.read_csv('sample_submission.csv')\n",
    "\n",
    "submission['target'] = prediction['Label']\n",
    "\n",
    "submission\n",
    "\n",
    "submission.to_csv('submission.csv',index=False)"
   ]
  },
  {
   "cell_type": "code",
   "execution_count": null,
   "id": "f2b5c250",
   "metadata": {},
   "outputs": [],
   "source": [
    "# extratree => 0.87\n",
    "# xgboost => 0.87"
   ]
  },
  {
   "cell_type": "code",
   "execution_count": null,
   "id": "32194bfe",
   "metadata": {},
   "outputs": [],
   "source": []
  },
  {
   "cell_type": "code",
   "execution_count": null,
   "id": "b2baf332",
   "metadata": {},
   "outputs": [],
   "source": []
  },
  {
   "cell_type": "markdown",
   "id": "51907d52",
   "metadata": {},
   "source": [
    "# 보팅 (extratree + LGBM + catboost)"
   ]
  },
  {
   "cell_type": "code",
   "execution_count": null,
   "id": "2cdbc858",
   "metadata": {},
   "outputs": [],
   "source": [
    "train = pd.read_csv('train.csv')\n",
    "test = pd.read_csv('test.csv')\n",
    "\n",
    "train.drop('id', axis=1, inplace=True)\n",
    "test.drop('id', axis=1, inplace=True)\n",
    "\n",
    "train_X = train.drop('target', axis=1)\n",
    "train_y = train.target"
   ]
  },
  {
   "cell_type": "code",
   "execution_count": null,
   "id": "2b7b64fe",
   "metadata": {},
   "outputs": [],
   "source": [
    "from lightgbm import LGBMClassifier\n",
    "from xgboost import XGBClassifier\n",
    "from sklearn.ensemble import VotingClassifier\n",
    "from sklearn.ensemble import RandomForestClassifier\n",
    "from sklearn.ensemble import ExtraTreesClassifier\n",
    "import catboost as ctb"
   ]
  },
  {
   "cell_type": "code",
   "execution_count": null,
   "id": "ba274eeb",
   "metadata": {},
   "outputs": [],
   "source": [
    "LGBM = LGBMClassifier(max_bin=300, num_leaves=24)\n",
    "xtree = ExtraTreesClassifier(max_depth=6)\n",
    "ctb = ctb.CatBoostClassifier(silent=True, depth=6, l2_leaf_reg=7, learning_rate=0.1)\n",
    "\n",
    "VC = VotingClassifier(estimators=[('xt',xtree),('ctb',ctb),('lgbm',LGBM)],voting = 'soft')"
   ]
  },
  {
   "cell_type": "code",
   "execution_count": null,
   "id": "d662b03f",
   "metadata": {},
   "outputs": [],
   "source": [
    "VC.fit(train_X, train_y)"
   ]
  },
  {
   "cell_type": "code",
   "execution_count": null,
   "id": "f364ac68",
   "metadata": {},
   "outputs": [],
   "source": [
    "pred = VC.predict(test)"
   ]
  },
  {
   "cell_type": "code",
   "execution_count": null,
   "id": "67fc9faf",
   "metadata": {},
   "outputs": [],
   "source": [
    "submission = pd.read_csv('sample_submission.csv')\n",
    "\n",
    "submission['target'] = pred\n",
    "\n",
    "submission\n",
    "\n",
    "submission.to_csv('submission.csv',index=False)"
   ]
  },
  {
   "cell_type": "code",
   "execution_count": null,
   "id": "b36a3e70",
   "metadata": {},
   "outputs": [],
   "source": []
  },
  {
   "cell_type": "code",
   "execution_count": null,
   "id": "0e815cb6",
   "metadata": {},
   "outputs": [],
   "source": []
  },
  {
   "cell_type": "code",
   "execution_count": null,
   "id": "192a61b4",
   "metadata": {},
   "outputs": [],
   "source": []
  },
  {
   "cell_type": "code",
   "execution_count": null,
   "id": "d4980243",
   "metadata": {},
   "outputs": [],
   "source": []
  },
  {
   "cell_type": "code",
   "execution_count": null,
   "id": "1395742c",
   "metadata": {},
   "outputs": [],
   "source": []
  },
  {
   "cell_type": "code",
   "execution_count": null,
   "id": "83d570d0",
   "metadata": {},
   "outputs": [],
   "source": []
  },
  {
   "cell_type": "code",
   "execution_count": null,
   "id": "092e1bac",
   "metadata": {},
   "outputs": [],
   "source": []
  },
  {
   "cell_type": "code",
   "execution_count": null,
   "id": "513b4589",
   "metadata": {},
   "outputs": [],
   "source": []
  },
  {
   "cell_type": "code",
   "execution_count": null,
   "id": "90a288e4",
   "metadata": {},
   "outputs": [],
   "source": []
  },
  {
   "cell_type": "code",
   "execution_count": null,
   "id": "868f733a",
   "metadata": {},
   "outputs": [],
   "source": []
  },
  {
   "cell_type": "code",
   "execution_count": null,
   "id": "579fb2bf",
   "metadata": {},
   "outputs": [],
   "source": []
  },
  {
   "cell_type": "code",
   "execution_count": null,
   "id": "5452b9ae",
   "metadata": {},
   "outputs": [],
   "source": []
  },
  {
   "cell_type": "code",
   "execution_count": null,
   "id": "f5bf8848",
   "metadata": {},
   "outputs": [],
   "source": []
  },
  {
   "cell_type": "code",
   "execution_count": null,
   "id": "e2015725",
   "metadata": {},
   "outputs": [],
   "source": []
  },
  {
   "cell_type": "code",
   "execution_count": null,
   "id": "4436c4c9",
   "metadata": {},
   "outputs": [],
   "source": []
  },
  {
   "cell_type": "markdown",
   "id": "4006397d",
   "metadata": {},
   "source": [
    "# 정확도 계산 - test셋을 분리 후 정확도 보기"
   ]
  },
  {
   "cell_type": "markdown",
   "id": "b6c91f51",
   "metadata": {},
   "source": [
    "## 보팅으로 정확도 보기"
   ]
  },
  {
   "cell_type": "code",
   "execution_count": null,
   "id": "898c525b",
   "metadata": {},
   "outputs": [],
   "source": [
    "train = pd.read_csv('train.csv')\n",
    "test = pd.read_csv('test.csv')\n",
    "\n",
    "train.drop('id', axis=1, inplace=True)\n",
    "test.drop('id', axis=1, inplace=True)\n",
    "\n",
    "train_X = train.drop('target', axis=1)\n",
    "train_y = train.target"
   ]
  },
  {
   "cell_type": "code",
   "execution_count": null,
   "id": "d97b567e",
   "metadata": {},
   "outputs": [],
   "source": [
    "from sklearn.model_selection import train_test_split"
   ]
  },
  {
   "cell_type": "code",
   "execution_count": null,
   "id": "41167c35",
   "metadata": {},
   "outputs": [],
   "source": [
    "X_train, X_test, y_train, y_test = train_test_split(train_X, train_y,\n",
    "                                                   test_size = 0.2, random_state=1)"
   ]
  },
  {
   "cell_type": "code",
   "execution_count": null,
   "id": "9fb76896",
   "metadata": {},
   "outputs": [],
   "source": [
    "from lightgbm import LGBMClassifier\n",
    "from xgboost import XGBClassifier\n",
    "from sklearn.ensemble import VotingClassifier\n",
    "from sklearn.ensemble import RandomForestClassifier"
   ]
  },
  {
   "cell_type": "code",
   "execution_count": null,
   "id": "886a573a",
   "metadata": {},
   "outputs": [],
   "source": [
    "LGBM = LGBMClassifier()\n",
    "XGB = XGBClassifier()\n",
    "RF = RandomForestClassifier()\n",
    "\n",
    "VC = VotingClassifier(estimators=[('rf',RF),('xgb',XGB),('lgbm',LGBM)],voting = 'soft')"
   ]
  },
  {
   "cell_type": "code",
   "execution_count": null,
   "id": "f9e190eb",
   "metadata": {
    "scrolled": true
   },
   "outputs": [],
   "source": [
    "VC.fit(X_train, y_train)"
   ]
  },
  {
   "cell_type": "code",
   "execution_count": null,
   "id": "8767f27a",
   "metadata": {},
   "outputs": [],
   "source": [
    "pred = VC.predict(X_test)"
   ]
  },
  {
   "cell_type": "code",
   "execution_count": null,
   "id": "8d077957",
   "metadata": {},
   "outputs": [],
   "source": [
    "from sklearn.metrics import accuracy_score\n",
    "print('예측 정확도: {0:.4f}'.format(accuracy_score(y_test, pred)))\n",
    "\n",
    "\n",
    "# 예측 정확도: 0.8373"
   ]
  },
  {
   "cell_type": "code",
   "execution_count": null,
   "id": "6c1418eb",
   "metadata": {},
   "outputs": [],
   "source": []
  },
  {
   "cell_type": "code",
   "execution_count": null,
   "id": "e82bbe68",
   "metadata": {},
   "outputs": [],
   "source": []
  },
  {
   "cell_type": "markdown",
   "id": "bb70b633",
   "metadata": {},
   "source": [
    "## ExtraTreesClassifier"
   ]
  },
  {
   "cell_type": "code",
   "execution_count": null,
   "id": "00a54f36",
   "metadata": {},
   "outputs": [],
   "source": [
    "from sklearn.ensemble import ExtraTreesClassifier"
   ]
  },
  {
   "cell_type": "code",
   "execution_count": null,
   "id": "2eeb81d7",
   "metadata": {},
   "outputs": [],
   "source": [
    "xtree = ExtraTreesClassifier()\n",
    "xtree.fit(X_train, y_train)"
   ]
  },
  {
   "cell_type": "code",
   "execution_count": null,
   "id": "03a155e7",
   "metadata": {},
   "outputs": [],
   "source": [
    "pred = xtree.predict(X_test)"
   ]
  },
  {
   "cell_type": "code",
   "execution_count": null,
   "id": "8a4af50e",
   "metadata": {},
   "outputs": [],
   "source": [
    "from sklearn.metrics import accuracy_score\n",
    "print('예측 정확도: {0:.4f}'.format(accuracy_score(y_test, pred)))\n",
    "\n",
    "\n",
    "# 예측 정확도: 0.8030"
   ]
  },
  {
   "cell_type": "code",
   "execution_count": null,
   "id": "e5032162",
   "metadata": {},
   "outputs": [],
   "source": []
  },
  {
   "cell_type": "code",
   "execution_count": null,
   "id": "e0f1be39",
   "metadata": {},
   "outputs": [],
   "source": []
  },
  {
   "cell_type": "markdown",
   "id": "7e7e1e37",
   "metadata": {},
   "source": [
    "## 보팅으로 정확도 보기2 (RF -> extratree)"
   ]
  },
  {
   "cell_type": "code",
   "execution_count": null,
   "id": "8d13fafd",
   "metadata": {},
   "outputs": [],
   "source": [
    "train = pd.read_csv('train.csv')\n",
    "test = pd.read_csv('test.csv')\n",
    "\n",
    "train.drop('id', axis=1, inplace=True)\n",
    "test.drop('id', axis=1, inplace=True)\n",
    "\n",
    "train_X = train.drop('target', axis=1)\n",
    "train_y = train.target"
   ]
  },
  {
   "cell_type": "code",
   "execution_count": null,
   "id": "67bca761",
   "metadata": {},
   "outputs": [],
   "source": [
    "from sklearn.model_selection import train_test_split\n",
    "from sklearn.model_selection import GridSearchCV"
   ]
  },
  {
   "cell_type": "code",
   "execution_count": null,
   "id": "d7c702ff",
   "metadata": {},
   "outputs": [],
   "source": [
    "X_train, X_test, y_train, y_test = train_test_split(train_X, train_y,\n",
    "                                                   test_size = 0.2, random_state=1)"
   ]
  },
  {
   "cell_type": "code",
   "execution_count": null,
   "id": "f847cb41",
   "metadata": {},
   "outputs": [],
   "source": [
    "from lightgbm import LGBMClassifier\n",
    "from xgboost import XGBClassifier\n",
    "from sklearn.ensemble import VotingClassifier\n",
    "from sklearn.ensemble import RandomForestClassifier\n",
    "from sklearn.ensemble import ExtraTreesClassifier"
   ]
  },
  {
   "cell_type": "code",
   "execution_count": null,
   "id": "88664761",
   "metadata": {},
   "outputs": [],
   "source": [
    "LGBM = LGBMClassifier()\n",
    "XGB = XGBClassifier()\n",
    "xtree = ExtraTreesClassifier()\n",
    "\n",
    "VC = VotingClassifier(estimators=[('xt',xtree),('xgb',XGB),('lgbm',LGBM)],voting = 'soft')"
   ]
  },
  {
   "cell_type": "code",
   "execution_count": null,
   "id": "c9b7eb8f",
   "metadata": {
    "scrolled": true
   },
   "outputs": [],
   "source": [
    "VC.fit(X_train, y_train)"
   ]
  },
  {
   "cell_type": "code",
   "execution_count": null,
   "id": "eee6b674",
   "metadata": {},
   "outputs": [],
   "source": [
    "pred = VC.predict(X_test)"
   ]
  },
  {
   "cell_type": "code",
   "execution_count": null,
   "id": "729feb37",
   "metadata": {},
   "outputs": [],
   "source": [
    "from sklearn.metrics import accuracy_score\n",
    "print('예측 정확도: {0:.4f}'.format(accuracy_score(y_test, pred)))\n",
    "\n",
    "\n",
    "# 예측 정확도: 0.8415"
   ]
  },
  {
   "cell_type": "code",
   "execution_count": null,
   "id": "bf51d4b8",
   "metadata": {},
   "outputs": [],
   "source": []
  },
  {
   "cell_type": "code",
   "execution_count": null,
   "id": "f30ed2b5",
   "metadata": {},
   "outputs": [],
   "source": []
  },
  {
   "cell_type": "markdown",
   "id": "806f9eaa",
   "metadata": {},
   "source": [
    "## 랜덤포레스트로 정확도 보기"
   ]
  },
  {
   "cell_type": "code",
   "execution_count": null,
   "id": "547d0849",
   "metadata": {},
   "outputs": [],
   "source": [
    "rf_clf = RandomForestClassifier()\n",
    "rf_clf.fit(X_train , y_train)\n",
    "pred = rf_clf.predict(X_test)\n",
    "pred"
   ]
  },
  {
   "cell_type": "code",
   "execution_count": null,
   "id": "3150ada6",
   "metadata": {},
   "outputs": [],
   "source": [
    "from sklearn.metrics import accuracy_score\n",
    "print('예측 정확도: {0:.4f}'.format(accuracy_score(y_test, pred)))\n",
    "\n",
    "\n",
    "# 예측 정확도: 0.7709"
   ]
  },
  {
   "cell_type": "code",
   "execution_count": null,
   "id": "736b1f0b",
   "metadata": {},
   "outputs": [],
   "source": []
  },
  {
   "cell_type": "code",
   "execution_count": null,
   "id": "a6ea58d8",
   "metadata": {},
   "outputs": [],
   "source": []
  },
  {
   "cell_type": "markdown",
   "id": "6ba729da",
   "metadata": {},
   "source": [
    "## xgboost로 정확도 보기"
   ]
  },
  {
   "cell_type": "code",
   "execution_count": null,
   "id": "bf4a5a42",
   "metadata": {},
   "outputs": [],
   "source": [
    "import xgboost as xgb "
   ]
  },
  {
   "cell_type": "code",
   "execution_count": null,
   "id": "4d25e318",
   "metadata": {},
   "outputs": [],
   "source": [
    "dtrain = xgb.DMatrix(data=X_train , label=y_train)\n",
    "dtest = xgb.DMatrix(data=X_test , label=y_test)"
   ]
  },
  {
   "cell_type": "code",
   "execution_count": null,
   "id": "d993e9b6",
   "metadata": {},
   "outputs": [],
   "source": [
    "params = { 'max_depth':3,\n",
    "           'eta': 0.1,   # 학습률\n",
    "           'objective':'multi:softmax',\n",
    "           'eval_metric':'merror',\n",
    "           'early_stoppings':10\n",
    "        }\n",
    "\n",
    "# 학습 횟수\n",
    "num_rounds = 100"
   ]
  },
  {
   "cell_type": "code",
   "execution_count": null,
   "id": "f3d9bb50",
   "metadata": {},
   "outputs": [],
   "source": [
    "# 데이터를 학습용은 ‘train’ , 검증용은 ‘eval’로 표시\n",
    "wlist = [(dtrain,'train'),(dtest,'eval') ]"
   ]
  },
  {
   "cell_type": "code",
   "execution_count": null,
   "id": "232ea86e",
   "metadata": {},
   "outputs": [],
   "source": [
    "# 하이퍼 파라미터와 early stopping 파라미터를 train( ) 함수의 파라미터로 전달\n",
    "xgb_model = xgb.train(params = params, dtrain=dtrain, num_boost_round=num_rounds, evals=wlist)  #xgb.fit이 아닌 xgb.train\n",
    "xgb_model"
   ]
  },
  {
   "cell_type": "code",
   "execution_count": null,
   "id": "4d0b7afb",
   "metadata": {},
   "outputs": [],
   "source": []
  },
  {
   "cell_type": "markdown",
   "id": "fa460939",
   "metadata": {},
   "source": [
    "## Catboost"
   ]
  },
  {
   "cell_type": "code",
   "execution_count": null,
   "id": "3dda0423",
   "metadata": {},
   "outputs": [],
   "source": [
    "import catboost as ctb"
   ]
  },
  {
   "cell_type": "code",
   "execution_count": null,
   "id": "7518f207",
   "metadata": {},
   "outputs": [],
   "source": [
    "model_CBC = ctb.CatBoostClassifier()"
   ]
  },
  {
   "cell_type": "code",
   "execution_count": null,
   "id": "f085d2c6",
   "metadata": {},
   "outputs": [],
   "source": [
    "model_CBC.fit(X_train, y_train)"
   ]
  },
  {
   "cell_type": "code",
   "execution_count": null,
   "id": "552074de",
   "metadata": {},
   "outputs": [],
   "source": [
    "pred = model_CBC.predict(X_test)"
   ]
  },
  {
   "cell_type": "code",
   "execution_count": null,
   "id": "dc2c1369",
   "metadata": {},
   "outputs": [],
   "source": [
    "from sklearn.metrics import accuracy_score\n",
    "print('예측 정확도: {0:.4f}'.format(accuracy_score(y_test, pred)))\n",
    "\n",
    "#예측 정확도: 0.8458"
   ]
  },
  {
   "cell_type": "code",
   "execution_count": null,
   "id": "99353438",
   "metadata": {},
   "outputs": [],
   "source": []
  },
  {
   "cell_type": "code",
   "execution_count": null,
   "id": "49b2570b",
   "metadata": {},
   "outputs": [],
   "source": []
  },
  {
   "cell_type": "markdown",
   "id": "d0a5b16c",
   "metadata": {},
   "source": [
    "## 보팅으로 정확도 보기2 (xgboost => catboost)"
   ]
  },
  {
   "cell_type": "code",
   "execution_count": null,
   "id": "8a950b77",
   "metadata": {},
   "outputs": [],
   "source": [
    "train = pd.read_csv('train.csv')\n",
    "test = pd.read_csv('test.csv')\n",
    "\n",
    "train.drop('id', axis=1, inplace=True)\n",
    "test.drop('id', axis=1, inplace=True)\n",
    "\n",
    "train_X = train.drop('target', axis=1)\n",
    "train_y = train.target"
   ]
  },
  {
   "cell_type": "code",
   "execution_count": null,
   "id": "2b0021b0",
   "metadata": {},
   "outputs": [],
   "source": [
    "from sklearn.model_selection import train_test_split"
   ]
  },
  {
   "cell_type": "code",
   "execution_count": null,
   "id": "75c2c6bf",
   "metadata": {},
   "outputs": [],
   "source": [
    "X_train, X_test, y_train, y_test = train_test_split(train_X, train_y,\n",
    "                                                   test_size = 0.2, random_state=1)"
   ]
  },
  {
   "cell_type": "code",
   "execution_count": null,
   "id": "66a875b4",
   "metadata": {},
   "outputs": [],
   "source": [
    "from lightgbm import LGBMClassifier\n",
    "from xgboost import XGBClassifier\n",
    "from sklearn.ensemble import VotingClassifier\n",
    "from sklearn.ensemble import RandomForestClassifier\n",
    "from sklearn.ensemble import ExtraTreesClassifier\n",
    "import catboost as ctb"
   ]
  },
  {
   "cell_type": "code",
   "execution_count": null,
   "id": "d3581ce3",
   "metadata": {},
   "outputs": [],
   "source": [
    "LGBM = LGBMClassifier(max_bin=100, num_leaves=15, max_depth=6)\n",
    "xtree = ExtraTreesClassifier(max_depth=6)\n",
    "ctb = ctb.CatBoostClassifier(silent=True, depth=6, l2_leaf_reg=7, learning_rate=0.1)\n",
    "\n",
    "\n",
    "VC = VotingClassifier(estimators=[('xt',xtree),('ctb',ctb),('lgbm',LGBM)],voting = 'soft')"
   ]
  },
  {
   "cell_type": "code",
   "execution_count": null,
   "id": "a704b669",
   "metadata": {
    "scrolled": true
   },
   "outputs": [],
   "source": [
    "VC.fit(X_train, y_train)"
   ]
  },
  {
   "cell_type": "code",
   "execution_count": null,
   "id": "03614b3c",
   "metadata": {},
   "outputs": [],
   "source": [
    "pred = VC.predict(X_test)"
   ]
  },
  {
   "cell_type": "code",
   "execution_count": null,
   "id": "0fdac98a",
   "metadata": {},
   "outputs": [],
   "source": [
    "pred"
   ]
  },
  {
   "cell_type": "code",
   "execution_count": null,
   "id": "fa8e46a8",
   "metadata": {},
   "outputs": [],
   "source": [
    "from sklearn.metrics import accuracy_score\n",
    "print('예측 정확도: {0:.4f}'.format(accuracy_score(y_test, pred)))\n",
    "\n",
    "\n",
    "# 예측 정확도: 0.8672"
   ]
  },
  {
   "cell_type": "code",
   "execution_count": null,
   "id": "13df0dc0",
   "metadata": {},
   "outputs": [],
   "source": []
  },
  {
   "cell_type": "code",
   "execution_count": null,
   "id": "fb5fdeb3",
   "metadata": {},
   "outputs": [],
   "source": []
  },
  {
   "cell_type": "markdown",
   "id": "143361ec",
   "metadata": {},
   "source": [
    "# 딥러닝 기반"
   ]
  },
  {
   "cell_type": "code",
   "execution_count": null,
   "id": "dc752c53",
   "metadata": {},
   "outputs": [],
   "source": [
    "import numpy as np\n",
    "import pandas as pd\n",
    "from keras.models import Sequential\n",
    "from keras.layers import Dense\n",
    "from keras.callbacks import ModelCheckpoint,EarlyStopping\n",
    "import tensorflow as tf"
   ]
  },
  {
   "cell_type": "code",
   "execution_count": null,
   "id": "1c6ed0bb",
   "metadata": {},
   "outputs": [],
   "source": [
    "train = pd.read_csv('train.csv')\n",
    "test = pd.read_csv('test.csv')\n",
    "\n",
    "train.drop('id', axis=1, inplace=True)\n",
    "test.drop('id', axis=1, inplace=True)\n",
    "\n",
    "train_X = train.drop('target', axis=1)\n",
    "train_y = train.target"
   ]
  },
  {
   "cell_type": "code",
   "execution_count": null,
   "id": "d33f91da",
   "metadata": {},
   "outputs": [],
   "source": [
    "from sklearn.model_selection import train_test_split"
   ]
  },
  {
   "cell_type": "code",
   "execution_count": null,
   "id": "be5e8470",
   "metadata": {},
   "outputs": [],
   "source": [
    "X_train, X_test, y_train, y_test = train_test_split(train_X, train_y,\n",
    "                                                   test_size = 0.2, random_state=1)"
   ]
  },
  {
   "cell_type": "raw",
   "id": "b5ebc1b3",
   "metadata": {
    "scrolled": true
   },
   "source": [
    "y_train = np.asarray(y_train).astype('object')"
   ]
  },
  {
   "cell_type": "raw",
   "id": "58b58b1e",
   "metadata": {},
   "source": [
    "from sklearn.preprocessing import LabelEncoder\n",
    "\n",
    "# 문자열을 숫자로 변환\n",
    "e = LabelEncoder()\n",
    "e.fit(y_train)\n",
    "Y = e.transform(y_train)\n",
    "Y_encoded = tf.keras.utils.to_categorical(Y)"
   ]
  },
  {
   "cell_type": "raw",
   "id": "05aed725",
   "metadata": {},
   "source": [
    "from sklearn.preprocessing import StandardScaler\n",
    "\n",
    "# 변형 객체 생성\n",
    "std_scaler = StandardScaler()\n",
    "\n",
    "# 훈련데이터의 모수 분포 저장\n",
    "std_scaler.fit(X_train)\n",
    "\n",
    "# 훈련 데이터 스케일링\n",
    "X_train_scaled = std_scaler.transform(X_train)\n",
    "\n",
    "# 테스트 데이터의 스케일링\n",
    "X_test_scaled = std_scaler.transform(X_test)"
   ]
  },
  {
   "cell_type": "code",
   "execution_count": 11,
   "id": "5b0426b5",
   "metadata": {},
   "outputs": [],
   "source": [
    "model = Sequential()\n",
    "model.add(Dense(40, input_dim=32, activation = 'relu'))\n",
    "model.add(Dense(20, activation='relu'))\n",
    "#model.add(Dense(50, activation='relu'))\n",
    "model.add(Dense(4, activation='softmax'))\n",
    "\n",
    "model.compile(loss='sparse_categorical_crossentropy', optimizer='adam', metrics = ['accuracy'])"
   ]
  },
  {
   "cell_type": "code",
   "execution_count": null,
   "id": "0fcaf778",
   "metadata": {
    "scrolled": true
   },
   "outputs": [],
   "source": [
    "model.fit(train_X, train_y, epochs=30, batch_size=3)"
   ]
  },
  {
   "cell_type": "code",
   "execution_count": null,
   "id": "e94b9286",
   "metadata": {},
   "outputs": [],
   "source": []
  },
  {
   "cell_type": "code",
   "execution_count": null,
   "id": "6b627789",
   "metadata": {},
   "outputs": [],
   "source": [
    "# 예측 값과 실제 값의 비교\n",
    "Y_prediction = model.predict(test)\n",
    "# flatten : 데이터 배열이 몇 차원이든 모두 1차원으로 바꿔 읽기 쉽게 해 주는 함수"
   ]
  },
  {
   "cell_type": "code",
   "execution_count": null,
   "id": "1584a0b9",
   "metadata": {},
   "outputs": [],
   "source": [
    "value_list=[]\n",
    "for i in range(len(Y_prediction)):\n",
    "    maxindex = np.argmax(Y_prediction[i])\n",
    "    value_list.append(maxindex)"
   ]
  },
  {
   "cell_type": "code",
   "execution_count": null,
   "id": "5d52529a",
   "metadata": {},
   "outputs": [],
   "source": [
    "from sklearn.metrics import accuracy_score\n",
    "print('예측 정확도: {0:.4f}'.format(accuracy_score(y_test, value_list)))\n",
    "\n",
    "\n",
    "# 예측 정확도: 0.6146"
   ]
  },
  {
   "cell_type": "code",
   "execution_count": null,
   "id": "26f498b2",
   "metadata": {},
   "outputs": [],
   "source": [
    "submission = pd.read_csv('sample_submission.csv')\n",
    "\n",
    "submission['target'] = value_list\n",
    "\n",
    "submission\n",
    "\n",
    "submission.to_csv('submission.csv',index=False)"
   ]
  },
  {
   "cell_type": "code",
   "execution_count": null,
   "id": "17081541",
   "metadata": {},
   "outputs": [],
   "source": [
    "submission.target2.value_counts()"
   ]
  },
  {
   "cell_type": "code",
   "execution_count": null,
   "id": "96edc40f",
   "metadata": {},
   "outputs": [],
   "source": [
    "submission.target.value_counts()"
   ]
  },
  {
   "cell_type": "code",
   "execution_count": null,
   "id": "1220678f",
   "metadata": {},
   "outputs": [],
   "source": []
  },
  {
   "cell_type": "code",
   "execution_count": null,
   "id": "8940f76d",
   "metadata": {},
   "outputs": [],
   "source": []
  },
  {
   "cell_type": "markdown",
   "id": "f47c36c8",
   "metadata": {},
   "source": [
    "## 파라미터 튜닝"
   ]
  },
  {
   "cell_type": "code",
   "execution_count": null,
   "id": "91374728",
   "metadata": {},
   "outputs": [],
   "source": [
    "from sklearn.model_selection import StratifiedKFold, GridSearchCV"
   ]
  },
  {
   "cell_type": "code",
   "execution_count": null,
   "id": "9efde92a",
   "metadata": {},
   "outputs": [],
   "source": [
    "model_CAT = ctb.CatBoostClassifier(silent = True)\n",
    "\n",
    "grid = {'learning_rate': [0.03, 0.1],\n",
    "        'depth': [4, 6, 10],\n",
    "        'l2_leaf_reg': [1, 3, 5, 7, 9]}\n",
    "\n",
    "grid_cv_CAT = GridSearchCV(model_CAT, param_grid=grid, cv=3 , n_jobs=-1)\n",
    "grid_cv_CAT.fit(X_train, y_train)\n",
    "print('최적 하이퍼 파라미터: ', grid_cv_CAT.best_params_)\n",
    "print('최고 예측 정확도: {:.4f}'.format(grid_cv_CAT.best_score_))"
   ]
  },
  {
   "cell_type": "code",
   "execution_count": null,
   "id": "924b7fe7",
   "metadata": {},
   "outputs": [],
   "source": [
    "model_XGB = XGBClassifier(eval_metric='logloss', silent = True)\n",
    "\n",
    "param_grid={'booster' :['gbtree'],\n",
    "                 'silent':[True],\n",
    "                 'max_depth':[5,6,8],\n",
    "                 'min_child_weight':[1,3,5],\n",
    "                 'gamma':[0,1,2,3],\n",
    "                 'nthread':[4],\n",
    "                 'colsample_bytree':[0.5,0.8],\n",
    "                 'colsample_bylevel':[0.9],\n",
    "                 'n_estimators':[50],\n",
    "                 'objective':['multi:softmax'],\n",
    "                 'random_state':[2]}\n",
    "\n",
    "grid_cv_XGB=GridSearchCV(model_XGB, param_grid=param_grid, cv=5 , n_jobs=-1)\n",
    "grid_cv_XGB.fit(X_train, y_train)\n",
    "print('최적 하이퍼 파라미터: ', grid_cv_XGB.best_params_)\n",
    "print('최고 예측 정확도: {:.4f}'.format(grid_cv_XGB.best_score_))"
   ]
  },
  {
   "cell_type": "code",
   "execution_count": null,
   "id": "9b4f7a68",
   "metadata": {},
   "outputs": [],
   "source": []
  },
  {
   "cell_type": "code",
   "execution_count": null,
   "id": "368e22bd",
   "metadata": {},
   "outputs": [],
   "source": []
  },
  {
   "cell_type": "markdown",
   "id": "34828f42",
   "metadata": {},
   "source": [
    "# CNN - 기세현님 코드 참고"
   ]
  },
  {
   "cell_type": "raw",
   "id": "2960be5d",
   "metadata": {},
   "source": [
    "콜백함수 : https://deep-deep-deep.tistory.com/56?category=852518 참고\n",
    "EarlyStopping\n",
    "ModelCheckpoint\n",
    "ReduceLROnPlateau : 학습률"
   ]
  },
  {
   "cell_type": "code",
   "execution_count": 90,
   "id": "081b6346",
   "metadata": {},
   "outputs": [],
   "source": [
    "train = pd.read_csv('train.csv')\n",
    "test = pd.read_csv('test.csv')"
   ]
  },
  {
   "cell_type": "code",
   "execution_count": 91,
   "id": "63a6cd3d",
   "metadata": {},
   "outputs": [],
   "source": [
    "from sklearn.model_selection import StratifiedKFold\n",
    "from sklearn.metrics import accuracy_score\n",
    "from sklearn.preprocessing import OneHotEncoder\n",
    "\n",
    "from tensorflow.keras.layers import *\n",
    "from tensorflow.keras.models import *\n",
    "from tensorflow.keras.optimizers import *\n",
    "from tensorflow.keras.callbacks import *"
   ]
  },
  {
   "cell_type": "code",
   "execution_count": 92,
   "id": "c4693e4b",
   "metadata": {},
   "outputs": [],
   "source": [
    "X = train.iloc[:, 1:-1]\n",
    "target = test.iloc[:, 1:]"
   ]
  },
  {
   "cell_type": "code",
   "execution_count": 93,
   "id": "7b66e314",
   "metadata": {},
   "outputs": [],
   "source": [
    "X = np.array(X).reshape(-1, 8, 4, 1)\n",
    "target = np.array(target).reshape(-1, 8, 4, 1)"
   ]
  },
  {
   "cell_type": "code",
   "execution_count": 94,
   "id": "b2f8deef",
   "metadata": {},
   "outputs": [],
   "source": [
    "ohe = OneHotEncoder(sparse = False)\n",
    "y = ohe.fit_transform(train[['target']])"
   ]
  },
  {
   "cell_type": "code",
   "execution_count": 95,
   "id": "820aa580",
   "metadata": {},
   "outputs": [],
   "source": [
    "skf = StratifiedKFold(n_splits = 10, random_state = 1, shuffle = True)"
   ]
  },
  {
   "cell_type": "code",
   "execution_count": 112,
   "id": "c3d3e1c3",
   "metadata": {},
   "outputs": [],
   "source": [
    "es = EarlyStopping(monitor = 'val_acc', patience = 50, mode = 'max', verbose = 0)\n",
    "rlrp = ReduceLROnPlateau(monitor='val_acc', factor=0.2, patience=5, mode='max')"
   ]
  },
  {
   "cell_type": "code",
   "execution_count": 116,
   "id": "88aaadd3",
   "metadata": {
    "scrolled": false
   },
   "outputs": [
    {
     "name": "stdout",
     "output_type": "stream",
     "text": [
      "1 Fold Training.....\n",
      "1 Fold ACC of CNN = 0.8717948717948718\n",
      "\n",
      "2 Fold Training.....\n",
      "2 Fold ACC of CNN = 0.9145299145299145\n",
      "\n",
      "3 Fold Training.....\n",
      "3 Fold ACC of CNN = 0.8974358974358975\n",
      "\n",
      "4 Fold Training.....\n",
      "4 Fold ACC of CNN = 0.8760683760683761\n",
      "\n",
      "5 Fold Training.....\n",
      "5 Fold ACC of CNN = 0.8974358974358975\n",
      "\n",
      "6 Fold Training.....\n",
      "6 Fold ACC of CNN = 0.8841201716738197\n",
      "\n",
      "7 Fold Training.....\n",
      "7 Fold ACC of CNN = 0.8755364806866953\n",
      "\n",
      "8 Fold Training.....\n",
      "8 Fold ACC of CNN = 0.9098712446351931\n",
      "\n",
      "9 Fold Training.....\n",
      "9 Fold ACC of CNN = 0.9012875536480687\n",
      "\n",
      "10 Fold Training.....\n",
      "10 Fold ACC of CNN = 0.8454935622317596\n",
      "\n"
     ]
    }
   ],
   "source": [
    "cnn_acc = []\n",
    "cnn_pred = np.zeros((target.shape[0], 4))\n",
    "for i, (tr_idx, val_idx) in enumerate(skf.split(X, train.target)) :\n",
    "    print(f'{i + 1} Fold Training.....')\n",
    "    tr_x, tr_y = X[tr_idx], y[tr_idx]\n",
    "    val_x, val_y = X[val_idx], y[val_idx]\n",
    "    \n",
    "    ### CNN 모델\n",
    "    cnn = Sequential()\n",
    "    cnn.add(Conv2D(64, (2, 4), padding = \"same\", activation = 'elu', input_shape = (8, 4, 1)))\n",
    "    cnn.add(BatchNormalization())\n",
    "    \n",
    "    cnn.add(Conv2D(32, (2, 4), padding = \"same\", activation = 'elu'))\n",
    "    cnn.add(BatchNormalization())\n",
    "    \n",
    "    cnn.add(Conv2D(16, (3, 4), padding = \"same\", activation = 'elu'))\n",
    "    cnn.add(BatchNormalization())\n",
    "    \n",
    "    cnn.add(Conv2D(32, (3, 4), padding = \"same\", activation = 'elu'))\n",
    "    \n",
    "    cnn.add(BatchNormalization())\n",
    "    cnn.add(GlobalAveragePooling2D())\n",
    "    \n",
    "    cnn.add(Dense(16, activation = 'relu'))\n",
    "    cnn.add(Dense(4, activation = 'softmax'))\n",
    "\n",
    "    ### ModelCheckPoint Fold마다 갱신\n",
    "    mc = ModelCheckpoint(f'model_{i + 1}.h5', save_best_only = True, monitor = 'val_acc', mode = 'max', verbose = 0)\n",
    "   \n",
    "    ### 모델 compile\n",
    "    cnn.compile(optimizer = RMSprop(lr=0.04), loss = 'categorical_crossentropy', metrics = ['acc'])\n",
    "\n",
    "    cnn.fit(tr_x, tr_y, validation_data = (val_x, val_y), epochs = 100, batch_size = 32, callbacks = [es, mc, rlrp], verbose = 0)\n",
    "\n",
    "    ### 최고 성능 기록 모델 Load\n",
    "    best = load_model(f'model_{i + 1}.h5')\n",
    "    ### validation predict\n",
    "    val_pred = best.predict(val_x)\n",
    "    ### 확률값 중 최대값을 클래스로 매칭\n",
    "    val_cls = np.argmax(val_pred, axis = 1)\n",
    "    ### Fold별 정확도 산출\n",
    "    fold_cnn_acc = accuracy_score(np.argmax(val_y, axis = 1), val_cls)\n",
    "    cnn_acc.append(fold_cnn_acc)\n",
    "    print(f'{i + 1} Fold ACC of CNN = {fold_cnn_acc}\\n')\n",
    "\n",
    "    ### Fold별 test 데이터에 대한 예측값 생성 및 앙상블\n",
    "    fold_pred = best.predict(target) / skf.n_splits\n",
    "    cnn_pred += fold_pred"
   ]
  },
  {
   "cell_type": "code",
   "execution_count": 117,
   "id": "2b7133c1",
   "metadata": {},
   "outputs": [
    {
     "data": {
      "text/plain": [
       "0.8873573970140495"
      ]
     },
     "execution_count": 117,
     "metadata": {},
     "output_type": "execute_result"
    }
   ],
   "source": [
    "np.mean(cnn_acc)\n",
    "\n",
    "# 0.8749\n",
    "# 0.8757\n",
    "# 0.8689"
   ]
  },
  {
   "cell_type": "code",
   "execution_count": null,
   "id": "7b79d363",
   "metadata": {},
   "outputs": [],
   "source": []
  },
  {
   "cell_type": "code",
   "execution_count": null,
   "id": "9ea6d3ea",
   "metadata": {},
   "outputs": [],
   "source": []
  },
  {
   "cell_type": "code",
   "execution_count": 105,
   "id": "d86202be",
   "metadata": {},
   "outputs": [],
   "source": [
    "submission = pd.read_csv('sample_submission.csv')\n",
    "\n",
    "submission['target'] = np.argmax(cnn_pred, axis = 1)\n",
    "\n",
    "submission\n",
    "\n",
    "submission.to_csv('submission.csv',index=False)"
   ]
  },
  {
   "cell_type": "code",
   "execution_count": null,
   "id": "4d88abdd",
   "metadata": {},
   "outputs": [],
   "source": []
  },
  {
   "cell_type": "code",
   "execution_count": 89,
   "id": "90bf4462",
   "metadata": {},
   "outputs": [
    {
     "data": {
      "text/plain": [
       "[name: \"/device:CPU:0\"\n",
       " device_type: \"CPU\"\n",
       " memory_limit: 268435456\n",
       " locality {\n",
       " }\n",
       " incarnation: 11849014223694398871]"
      ]
     },
     "execution_count": 89,
     "metadata": {},
     "output_type": "execute_result"
    }
   ],
   "source": [
    "from tensorflow.python.client import device_lib \n",
    "device_lib.list_local_devices()"
   ]
  },
  {
   "cell_type": "code",
   "execution_count": null,
   "id": "252da094",
   "metadata": {},
   "outputs": [],
   "source": []
  }
 ],
 "metadata": {
  "kernelspec": {
   "display_name": "Python 3 (ipykernel)",
   "language": "python",
   "name": "python3"
  },
  "language_info": {
   "codemirror_mode": {
    "name": "ipython",
    "version": 3
   },
   "file_extension": ".py",
   "mimetype": "text/x-python",
   "name": "python",
   "nbconvert_exporter": "python",
   "pygments_lexer": "ipython3",
   "version": "3.9.7"
  }
 },
 "nbformat": 4,
 "nbformat_minor": 5
}
