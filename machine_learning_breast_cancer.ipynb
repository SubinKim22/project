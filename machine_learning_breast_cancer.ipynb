{
 "cells": [
  {
   "cell_type": "raw",
   "id": "b8893237",
   "metadata": {},
   "source": [
    "분류기 \n",
    " \n",
    "1. 디시젼트리 \n",
    "from sklearn.tree import DecisionTreeClassifier\n",
    "dt_clf = DecisionTreeClassifier(random_state=11)\n",
    "grid_cv = GridSearchCV(dt_clf, param_grid=params, scoring='accuracy', cv=5, verbose=1)\n",
    "\n",
    "2. 앙상블\n",
    "from sklearn.ensemble import VotingClassifier # 앙상블 - 보팅\n",
    "from sklearn.linear_model import LogisticRegression # 분류 알고리즘\n",
    "from sklearn.neighbors import KNeighborsClassifier  # 분류 알고리즘 \n",
    "\n",
    "lr_clf = LogisticRegression()\n",
    "knn_clf = KNeighborsClassifier(n_neighbors=8)\n",
    "vo_clf = VotingClassifier( estimators=[('LR', lr_clf),('KNN', knn_clf)] , voting='soft')\n",
    "\n",
    "3. 랜덤포레스트\n",
    "from sklearn.ensemble import RandomForestClassifier\n",
    "rf_clf = RandomForestClassifier(random_state=11, max_depth=10) \n",
    "grid_cv = GridSearchCV(rf_clf , param_grid=params , cv=2, n_jobs=-1)\n",
    "\n",
    "4. GBM\n",
    "from sklearn.ensemble import GradientBoostingClassifier\n",
    "gb_clf = GradientBoostingClassifier(random_state=15)\n",
    "grid_cv = GridSearchCV(gb_clf , param_grid=params , cv=2 ,verbose=1, n_jobs=-1)\n",
    "\n",
    "5. XGBoost\n",
    "\n",
    "6. LightGBM"
   ]
  },
  {
   "cell_type": "code",
   "execution_count": null,
   "id": "fbf74db8",
   "metadata": {},
   "outputs": [],
   "source": []
  },
  {
   "cell_type": "code",
   "execution_count": null,
   "id": "204ee79e",
   "metadata": {},
   "outputs": [],
   "source": []
  },
  {
   "cell_type": "code",
   "execution_count": 1,
   "id": "370e74b7",
   "metadata": {},
   "outputs": [],
   "source": [
    "from sklearn.tree import DecisionTreeClassifier\n",
    "from sklearn.model_selection import train_test_split\n",
    "# 워닝 무시\n",
    "import warnings\n",
    "warnings.filterwarnings('ignore')"
   ]
  },
  {
   "cell_type": "code",
   "execution_count": 2,
   "id": "891ab394",
   "metadata": {},
   "outputs": [],
   "source": [
    "import pandas as pd\n",
    "from sklearn.datasets import load_breast_cancer\n",
    "cancer = load_breast_cancer()"
   ]
  },
  {
   "cell_type": "markdown",
   "id": "0fcabc5c",
   "metadata": {},
   "source": [
    "## 데이터셋에서 필요한 독립변수들의 값 추출"
   ]
  },
  {
   "cell_type": "code",
   "execution_count": 3,
   "id": "6ce2df01",
   "metadata": {},
   "outputs": [
    {
     "data": {
      "text/plain": [
       "array([[1.799e+01, 1.038e+01, 1.228e+02, ..., 2.654e-01, 4.601e-01,\n",
       "        1.189e-01],\n",
       "       [2.057e+01, 1.777e+01, 1.329e+02, ..., 1.860e-01, 2.750e-01,\n",
       "        8.902e-02],\n",
       "       [1.969e+01, 2.125e+01, 1.300e+02, ..., 2.430e-01, 3.613e-01,\n",
       "        8.758e-02],\n",
       "       ...,\n",
       "       [1.660e+01, 2.808e+01, 1.083e+02, ..., 1.418e-01, 2.218e-01,\n",
       "        7.820e-02],\n",
       "       [2.060e+01, 2.933e+01, 1.401e+02, ..., 2.650e-01, 4.087e-01,\n",
       "        1.240e-01],\n",
       "       [7.760e+00, 2.454e+01, 4.792e+01, ..., 0.000e+00, 2.871e-01,\n",
       "        7.039e-02]])"
      ]
     },
     "execution_count": 3,
     "metadata": {},
     "output_type": "execute_result"
    }
   ],
   "source": [
    "cancer_data = cancer.data\n",
    "cancer_data"
   ]
  },
  {
   "cell_type": "markdown",
   "id": "5cebbf05",
   "metadata": {},
   "source": [
    "## 데이터셋에서 종속변수값 추출 => 분류라서 0과 1의 값"
   ]
  },
  {
   "cell_type": "code",
   "execution_count": 4,
   "id": "3895e09c",
   "metadata": {
    "scrolled": true
   },
   "outputs": [
    {
     "data": {
      "text/plain": [
       "array([0, 0, 0, 0, 0, 0, 0, 0, 0, 0, 0, 0, 0, 0, 0, 0, 0, 0, 0, 1, 1, 1,\n",
       "       0, 0, 0, 0, 0, 0, 0, 0, 0, 0, 0, 0, 0, 0, 0, 1, 0, 0, 0, 0, 0, 0,\n",
       "       0, 0, 1, 0, 1, 1, 1, 1, 1, 0, 0, 1, 0, 0, 1, 1, 1, 1, 0, 1, 0, 0,\n",
       "       1, 1, 1, 1, 0, 1, 0, 0, 1, 0, 1, 0, 0, 1, 1, 1, 0, 0, 1, 0, 0, 0,\n",
       "       1, 1, 1, 0, 1, 1, 0, 0, 1, 1, 1, 0, 0, 1, 1, 1, 1, 0, 1, 1, 0, 1,\n",
       "       1, 1, 1, 1, 1, 1, 1, 0, 0, 0, 1, 0, 0, 1, 1, 1, 0, 0, 1, 0, 1, 0,\n",
       "       0, 1, 0, 0, 1, 1, 0, 1, 1, 0, 1, 1, 1, 1, 0, 1, 1, 1, 1, 1, 1, 1,\n",
       "       1, 1, 0, 1, 1, 1, 1, 0, 0, 1, 0, 1, 1, 0, 0, 1, 1, 0, 0, 1, 1, 1,\n",
       "       1, 0, 1, 1, 0, 0, 0, 1, 0, 1, 0, 1, 1, 1, 0, 1, 1, 0, 0, 1, 0, 0,\n",
       "       0, 0, 1, 0, 0, 0, 1, 0, 1, 0, 1, 1, 0, 1, 0, 0, 0, 0, 1, 1, 0, 0,\n",
       "       1, 1, 1, 0, 1, 1, 1, 1, 1, 0, 0, 1, 1, 0, 1, 1, 0, 0, 1, 0, 1, 1,\n",
       "       1, 1, 0, 1, 1, 1, 1, 1, 0, 1, 0, 0, 0, 0, 0, 0, 0, 0, 0, 0, 0, 0,\n",
       "       0, 0, 1, 1, 1, 1, 1, 1, 0, 1, 0, 1, 1, 0, 1, 1, 0, 1, 0, 0, 1, 1,\n",
       "       1, 1, 1, 1, 1, 1, 1, 1, 1, 1, 1, 0, 1, 1, 0, 1, 0, 1, 1, 1, 1, 1,\n",
       "       1, 1, 1, 1, 1, 1, 1, 1, 1, 0, 1, 1, 1, 0, 1, 0, 1, 1, 1, 1, 0, 0,\n",
       "       0, 1, 1, 1, 1, 0, 1, 0, 1, 0, 1, 1, 1, 0, 1, 1, 1, 1, 1, 1, 1, 0,\n",
       "       0, 0, 1, 1, 1, 1, 1, 1, 1, 1, 1, 1, 1, 0, 0, 1, 0, 0, 0, 1, 0, 0,\n",
       "       1, 1, 1, 1, 1, 0, 1, 1, 1, 1, 1, 0, 1, 1, 1, 0, 1, 1, 0, 0, 1, 1,\n",
       "       1, 1, 1, 1, 0, 1, 1, 1, 1, 1, 1, 1, 0, 1, 1, 1, 1, 1, 0, 1, 1, 0,\n",
       "       1, 1, 1, 1, 1, 1, 1, 1, 1, 1, 1, 1, 0, 1, 0, 0, 1, 0, 1, 1, 1, 1,\n",
       "       1, 0, 1, 1, 0, 1, 0, 1, 1, 0, 1, 0, 1, 1, 1, 1, 1, 1, 1, 1, 0, 0,\n",
       "       1, 1, 1, 1, 1, 1, 0, 1, 1, 1, 1, 1, 1, 1, 1, 1, 1, 0, 1, 1, 1, 1,\n",
       "       1, 1, 1, 0, 1, 0, 1, 1, 0, 1, 1, 1, 1, 1, 0, 0, 1, 0, 1, 0, 1, 1,\n",
       "       1, 1, 1, 0, 1, 1, 0, 1, 0, 1, 0, 0, 1, 1, 1, 0, 1, 1, 1, 1, 1, 1,\n",
       "       1, 1, 1, 1, 1, 0, 1, 0, 0, 1, 1, 1, 1, 1, 1, 1, 1, 1, 1, 1, 1, 1,\n",
       "       1, 1, 1, 1, 1, 1, 1, 1, 1, 1, 1, 1, 0, 0, 0, 0, 0, 0, 1])"
      ]
     },
     "execution_count": 4,
     "metadata": {},
     "output_type": "execute_result"
    }
   ],
   "source": [
    "cancer_target = cancer.target\n",
    "cancer_target"
   ]
  },
  {
   "cell_type": "code",
   "execution_count": 5,
   "id": "d7aa9619",
   "metadata": {},
   "outputs": [
    {
     "data": {
      "text/plain": [
       "array(['mean radius', 'mean texture', 'mean perimeter', 'mean area',\n",
       "       'mean smoothness', 'mean compactness', 'mean concavity',\n",
       "       'mean concave points', 'mean symmetry', 'mean fractal dimension',\n",
       "       'radius error', 'texture error', 'perimeter error', 'area error',\n",
       "       'smoothness error', 'compactness error', 'concavity error',\n",
       "       'concave points error', 'symmetry error',\n",
       "       'fractal dimension error', 'worst radius', 'worst texture',\n",
       "       'worst perimeter', 'worst area', 'worst smoothness',\n",
       "       'worst compactness', 'worst concavity', 'worst concave points',\n",
       "       'worst symmetry', 'worst fractal dimension'], dtype='<U23')"
      ]
     },
     "execution_count": 5,
     "metadata": {},
     "output_type": "execute_result"
    }
   ],
   "source": [
    "cancer.feature_names"
   ]
  },
  {
   "cell_type": "code",
   "execution_count": 6,
   "id": "4275ec23",
   "metadata": {},
   "outputs": [
    {
     "data": {
      "text/plain": [
       "array(['malignant', 'benign'], dtype='<U9')"
      ]
     },
     "execution_count": 6,
     "metadata": {},
     "output_type": "execute_result"
    }
   ],
   "source": [
    "cancer.target_names\n",
    "# malignant : 악성\n",
    "# benign : 양성 (음성이 아님)"
   ]
  },
  {
   "cell_type": "markdown",
   "id": "5e484de7",
   "metadata": {},
   "source": [
    "## 한눈에 보기위해 데이터프레임 => 컬럼명은 독립변수 명\n",
    "## 데이터프레임에 종속변수 합치기"
   ]
  },
  {
   "cell_type": "code",
   "execution_count": 7,
   "id": "3d9db7ee",
   "metadata": {},
   "outputs": [],
   "source": [
    "cancer_df = pd.DataFrame(data = cancer.data, columns = cancer.feature_names)"
   ]
  },
  {
   "cell_type": "code",
   "execution_count": 8,
   "id": "f87728a7",
   "metadata": {},
   "outputs": [
    {
     "data": {
      "text/html": [
       "<div>\n",
       "<style scoped>\n",
       "    .dataframe tbody tr th:only-of-type {\n",
       "        vertical-align: middle;\n",
       "    }\n",
       "\n",
       "    .dataframe tbody tr th {\n",
       "        vertical-align: top;\n",
       "    }\n",
       "\n",
       "    .dataframe thead th {\n",
       "        text-align: right;\n",
       "    }\n",
       "</style>\n",
       "<table border=\"1\" class=\"dataframe\">\n",
       "  <thead>\n",
       "    <tr style=\"text-align: right;\">\n",
       "      <th></th>\n",
       "      <th>mean radius</th>\n",
       "      <th>mean texture</th>\n",
       "      <th>mean perimeter</th>\n",
       "      <th>mean area</th>\n",
       "      <th>mean smoothness</th>\n",
       "      <th>mean compactness</th>\n",
       "      <th>mean concavity</th>\n",
       "      <th>mean concave points</th>\n",
       "      <th>mean symmetry</th>\n",
       "      <th>mean fractal dimension</th>\n",
       "      <th>...</th>\n",
       "      <th>worst radius</th>\n",
       "      <th>worst texture</th>\n",
       "      <th>worst perimeter</th>\n",
       "      <th>worst area</th>\n",
       "      <th>worst smoothness</th>\n",
       "      <th>worst compactness</th>\n",
       "      <th>worst concavity</th>\n",
       "      <th>worst concave points</th>\n",
       "      <th>worst symmetry</th>\n",
       "      <th>worst fractal dimension</th>\n",
       "    </tr>\n",
       "  </thead>\n",
       "  <tbody>\n",
       "    <tr>\n",
       "      <th>0</th>\n",
       "      <td>17.99</td>\n",
       "      <td>10.38</td>\n",
       "      <td>122.80</td>\n",
       "      <td>1001.0</td>\n",
       "      <td>0.11840</td>\n",
       "      <td>0.27760</td>\n",
       "      <td>0.30010</td>\n",
       "      <td>0.14710</td>\n",
       "      <td>0.2419</td>\n",
       "      <td>0.07871</td>\n",
       "      <td>...</td>\n",
       "      <td>25.380</td>\n",
       "      <td>17.33</td>\n",
       "      <td>184.60</td>\n",
       "      <td>2019.0</td>\n",
       "      <td>0.16220</td>\n",
       "      <td>0.66560</td>\n",
       "      <td>0.7119</td>\n",
       "      <td>0.2654</td>\n",
       "      <td>0.4601</td>\n",
       "      <td>0.11890</td>\n",
       "    </tr>\n",
       "    <tr>\n",
       "      <th>1</th>\n",
       "      <td>20.57</td>\n",
       "      <td>17.77</td>\n",
       "      <td>132.90</td>\n",
       "      <td>1326.0</td>\n",
       "      <td>0.08474</td>\n",
       "      <td>0.07864</td>\n",
       "      <td>0.08690</td>\n",
       "      <td>0.07017</td>\n",
       "      <td>0.1812</td>\n",
       "      <td>0.05667</td>\n",
       "      <td>...</td>\n",
       "      <td>24.990</td>\n",
       "      <td>23.41</td>\n",
       "      <td>158.80</td>\n",
       "      <td>1956.0</td>\n",
       "      <td>0.12380</td>\n",
       "      <td>0.18660</td>\n",
       "      <td>0.2416</td>\n",
       "      <td>0.1860</td>\n",
       "      <td>0.2750</td>\n",
       "      <td>0.08902</td>\n",
       "    </tr>\n",
       "    <tr>\n",
       "      <th>2</th>\n",
       "      <td>19.69</td>\n",
       "      <td>21.25</td>\n",
       "      <td>130.00</td>\n",
       "      <td>1203.0</td>\n",
       "      <td>0.10960</td>\n",
       "      <td>0.15990</td>\n",
       "      <td>0.19740</td>\n",
       "      <td>0.12790</td>\n",
       "      <td>0.2069</td>\n",
       "      <td>0.05999</td>\n",
       "      <td>...</td>\n",
       "      <td>23.570</td>\n",
       "      <td>25.53</td>\n",
       "      <td>152.50</td>\n",
       "      <td>1709.0</td>\n",
       "      <td>0.14440</td>\n",
       "      <td>0.42450</td>\n",
       "      <td>0.4504</td>\n",
       "      <td>0.2430</td>\n",
       "      <td>0.3613</td>\n",
       "      <td>0.08758</td>\n",
       "    </tr>\n",
       "    <tr>\n",
       "      <th>3</th>\n",
       "      <td>11.42</td>\n",
       "      <td>20.38</td>\n",
       "      <td>77.58</td>\n",
       "      <td>386.1</td>\n",
       "      <td>0.14250</td>\n",
       "      <td>0.28390</td>\n",
       "      <td>0.24140</td>\n",
       "      <td>0.10520</td>\n",
       "      <td>0.2597</td>\n",
       "      <td>0.09744</td>\n",
       "      <td>...</td>\n",
       "      <td>14.910</td>\n",
       "      <td>26.50</td>\n",
       "      <td>98.87</td>\n",
       "      <td>567.7</td>\n",
       "      <td>0.20980</td>\n",
       "      <td>0.86630</td>\n",
       "      <td>0.6869</td>\n",
       "      <td>0.2575</td>\n",
       "      <td>0.6638</td>\n",
       "      <td>0.17300</td>\n",
       "    </tr>\n",
       "    <tr>\n",
       "      <th>4</th>\n",
       "      <td>20.29</td>\n",
       "      <td>14.34</td>\n",
       "      <td>135.10</td>\n",
       "      <td>1297.0</td>\n",
       "      <td>0.10030</td>\n",
       "      <td>0.13280</td>\n",
       "      <td>0.19800</td>\n",
       "      <td>0.10430</td>\n",
       "      <td>0.1809</td>\n",
       "      <td>0.05883</td>\n",
       "      <td>...</td>\n",
       "      <td>22.540</td>\n",
       "      <td>16.67</td>\n",
       "      <td>152.20</td>\n",
       "      <td>1575.0</td>\n",
       "      <td>0.13740</td>\n",
       "      <td>0.20500</td>\n",
       "      <td>0.4000</td>\n",
       "      <td>0.1625</td>\n",
       "      <td>0.2364</td>\n",
       "      <td>0.07678</td>\n",
       "    </tr>\n",
       "    <tr>\n",
       "      <th>...</th>\n",
       "      <td>...</td>\n",
       "      <td>...</td>\n",
       "      <td>...</td>\n",
       "      <td>...</td>\n",
       "      <td>...</td>\n",
       "      <td>...</td>\n",
       "      <td>...</td>\n",
       "      <td>...</td>\n",
       "      <td>...</td>\n",
       "      <td>...</td>\n",
       "      <td>...</td>\n",
       "      <td>...</td>\n",
       "      <td>...</td>\n",
       "      <td>...</td>\n",
       "      <td>...</td>\n",
       "      <td>...</td>\n",
       "      <td>...</td>\n",
       "      <td>...</td>\n",
       "      <td>...</td>\n",
       "      <td>...</td>\n",
       "      <td>...</td>\n",
       "    </tr>\n",
       "    <tr>\n",
       "      <th>564</th>\n",
       "      <td>21.56</td>\n",
       "      <td>22.39</td>\n",
       "      <td>142.00</td>\n",
       "      <td>1479.0</td>\n",
       "      <td>0.11100</td>\n",
       "      <td>0.11590</td>\n",
       "      <td>0.24390</td>\n",
       "      <td>0.13890</td>\n",
       "      <td>0.1726</td>\n",
       "      <td>0.05623</td>\n",
       "      <td>...</td>\n",
       "      <td>25.450</td>\n",
       "      <td>26.40</td>\n",
       "      <td>166.10</td>\n",
       "      <td>2027.0</td>\n",
       "      <td>0.14100</td>\n",
       "      <td>0.21130</td>\n",
       "      <td>0.4107</td>\n",
       "      <td>0.2216</td>\n",
       "      <td>0.2060</td>\n",
       "      <td>0.07115</td>\n",
       "    </tr>\n",
       "    <tr>\n",
       "      <th>565</th>\n",
       "      <td>20.13</td>\n",
       "      <td>28.25</td>\n",
       "      <td>131.20</td>\n",
       "      <td>1261.0</td>\n",
       "      <td>0.09780</td>\n",
       "      <td>0.10340</td>\n",
       "      <td>0.14400</td>\n",
       "      <td>0.09791</td>\n",
       "      <td>0.1752</td>\n",
       "      <td>0.05533</td>\n",
       "      <td>...</td>\n",
       "      <td>23.690</td>\n",
       "      <td>38.25</td>\n",
       "      <td>155.00</td>\n",
       "      <td>1731.0</td>\n",
       "      <td>0.11660</td>\n",
       "      <td>0.19220</td>\n",
       "      <td>0.3215</td>\n",
       "      <td>0.1628</td>\n",
       "      <td>0.2572</td>\n",
       "      <td>0.06637</td>\n",
       "    </tr>\n",
       "    <tr>\n",
       "      <th>566</th>\n",
       "      <td>16.60</td>\n",
       "      <td>28.08</td>\n",
       "      <td>108.30</td>\n",
       "      <td>858.1</td>\n",
       "      <td>0.08455</td>\n",
       "      <td>0.10230</td>\n",
       "      <td>0.09251</td>\n",
       "      <td>0.05302</td>\n",
       "      <td>0.1590</td>\n",
       "      <td>0.05648</td>\n",
       "      <td>...</td>\n",
       "      <td>18.980</td>\n",
       "      <td>34.12</td>\n",
       "      <td>126.70</td>\n",
       "      <td>1124.0</td>\n",
       "      <td>0.11390</td>\n",
       "      <td>0.30940</td>\n",
       "      <td>0.3403</td>\n",
       "      <td>0.1418</td>\n",
       "      <td>0.2218</td>\n",
       "      <td>0.07820</td>\n",
       "    </tr>\n",
       "    <tr>\n",
       "      <th>567</th>\n",
       "      <td>20.60</td>\n",
       "      <td>29.33</td>\n",
       "      <td>140.10</td>\n",
       "      <td>1265.0</td>\n",
       "      <td>0.11780</td>\n",
       "      <td>0.27700</td>\n",
       "      <td>0.35140</td>\n",
       "      <td>0.15200</td>\n",
       "      <td>0.2397</td>\n",
       "      <td>0.07016</td>\n",
       "      <td>...</td>\n",
       "      <td>25.740</td>\n",
       "      <td>39.42</td>\n",
       "      <td>184.60</td>\n",
       "      <td>1821.0</td>\n",
       "      <td>0.16500</td>\n",
       "      <td>0.86810</td>\n",
       "      <td>0.9387</td>\n",
       "      <td>0.2650</td>\n",
       "      <td>0.4087</td>\n",
       "      <td>0.12400</td>\n",
       "    </tr>\n",
       "    <tr>\n",
       "      <th>568</th>\n",
       "      <td>7.76</td>\n",
       "      <td>24.54</td>\n",
       "      <td>47.92</td>\n",
       "      <td>181.0</td>\n",
       "      <td>0.05263</td>\n",
       "      <td>0.04362</td>\n",
       "      <td>0.00000</td>\n",
       "      <td>0.00000</td>\n",
       "      <td>0.1587</td>\n",
       "      <td>0.05884</td>\n",
       "      <td>...</td>\n",
       "      <td>9.456</td>\n",
       "      <td>30.37</td>\n",
       "      <td>59.16</td>\n",
       "      <td>268.6</td>\n",
       "      <td>0.08996</td>\n",
       "      <td>0.06444</td>\n",
       "      <td>0.0000</td>\n",
       "      <td>0.0000</td>\n",
       "      <td>0.2871</td>\n",
       "      <td>0.07039</td>\n",
       "    </tr>\n",
       "  </tbody>\n",
       "</table>\n",
       "<p>569 rows × 30 columns</p>\n",
       "</div>"
      ],
      "text/plain": [
       "     mean radius  mean texture  mean perimeter  mean area  mean smoothness  \\\n",
       "0          17.99         10.38          122.80     1001.0          0.11840   \n",
       "1          20.57         17.77          132.90     1326.0          0.08474   \n",
       "2          19.69         21.25          130.00     1203.0          0.10960   \n",
       "3          11.42         20.38           77.58      386.1          0.14250   \n",
       "4          20.29         14.34          135.10     1297.0          0.10030   \n",
       "..           ...           ...             ...        ...              ...   \n",
       "564        21.56         22.39          142.00     1479.0          0.11100   \n",
       "565        20.13         28.25          131.20     1261.0          0.09780   \n",
       "566        16.60         28.08          108.30      858.1          0.08455   \n",
       "567        20.60         29.33          140.10     1265.0          0.11780   \n",
       "568         7.76         24.54           47.92      181.0          0.05263   \n",
       "\n",
       "     mean compactness  mean concavity  mean concave points  mean symmetry  \\\n",
       "0             0.27760         0.30010              0.14710         0.2419   \n",
       "1             0.07864         0.08690              0.07017         0.1812   \n",
       "2             0.15990         0.19740              0.12790         0.2069   \n",
       "3             0.28390         0.24140              0.10520         0.2597   \n",
       "4             0.13280         0.19800              0.10430         0.1809   \n",
       "..                ...             ...                  ...            ...   \n",
       "564           0.11590         0.24390              0.13890         0.1726   \n",
       "565           0.10340         0.14400              0.09791         0.1752   \n",
       "566           0.10230         0.09251              0.05302         0.1590   \n",
       "567           0.27700         0.35140              0.15200         0.2397   \n",
       "568           0.04362         0.00000              0.00000         0.1587   \n",
       "\n",
       "     mean fractal dimension  ...  worst radius  worst texture  \\\n",
       "0                   0.07871  ...        25.380          17.33   \n",
       "1                   0.05667  ...        24.990          23.41   \n",
       "2                   0.05999  ...        23.570          25.53   \n",
       "3                   0.09744  ...        14.910          26.50   \n",
       "4                   0.05883  ...        22.540          16.67   \n",
       "..                      ...  ...           ...            ...   \n",
       "564                 0.05623  ...        25.450          26.40   \n",
       "565                 0.05533  ...        23.690          38.25   \n",
       "566                 0.05648  ...        18.980          34.12   \n",
       "567                 0.07016  ...        25.740          39.42   \n",
       "568                 0.05884  ...         9.456          30.37   \n",
       "\n",
       "     worst perimeter  worst area  worst smoothness  worst compactness  \\\n",
       "0             184.60      2019.0           0.16220            0.66560   \n",
       "1             158.80      1956.0           0.12380            0.18660   \n",
       "2             152.50      1709.0           0.14440            0.42450   \n",
       "3              98.87       567.7           0.20980            0.86630   \n",
       "4             152.20      1575.0           0.13740            0.20500   \n",
       "..               ...         ...               ...                ...   \n",
       "564           166.10      2027.0           0.14100            0.21130   \n",
       "565           155.00      1731.0           0.11660            0.19220   \n",
       "566           126.70      1124.0           0.11390            0.30940   \n",
       "567           184.60      1821.0           0.16500            0.86810   \n",
       "568            59.16       268.6           0.08996            0.06444   \n",
       "\n",
       "     worst concavity  worst concave points  worst symmetry  \\\n",
       "0             0.7119                0.2654          0.4601   \n",
       "1             0.2416                0.1860          0.2750   \n",
       "2             0.4504                0.2430          0.3613   \n",
       "3             0.6869                0.2575          0.6638   \n",
       "4             0.4000                0.1625          0.2364   \n",
       "..               ...                   ...             ...   \n",
       "564           0.4107                0.2216          0.2060   \n",
       "565           0.3215                0.1628          0.2572   \n",
       "566           0.3403                0.1418          0.2218   \n",
       "567           0.9387                0.2650          0.4087   \n",
       "568           0.0000                0.0000          0.2871   \n",
       "\n",
       "     worst fractal dimension  \n",
       "0                    0.11890  \n",
       "1                    0.08902  \n",
       "2                    0.08758  \n",
       "3                    0.17300  \n",
       "4                    0.07678  \n",
       "..                       ...  \n",
       "564                  0.07115  \n",
       "565                  0.06637  \n",
       "566                  0.07820  \n",
       "567                  0.12400  \n",
       "568                  0.07039  \n",
       "\n",
       "[569 rows x 30 columns]"
      ]
     },
     "execution_count": 8,
     "metadata": {},
     "output_type": "execute_result"
    }
   ],
   "source": [
    "cancer_df"
   ]
  },
  {
   "cell_type": "code",
   "execution_count": 9,
   "id": "20713882",
   "metadata": {},
   "outputs": [],
   "source": [
    "cancer_df['label'] = cancer.target"
   ]
  },
  {
   "cell_type": "code",
   "execution_count": 10,
   "id": "0cc6633d",
   "metadata": {},
   "outputs": [
    {
     "data": {
      "text/html": [
       "<div>\n",
       "<style scoped>\n",
       "    .dataframe tbody tr th:only-of-type {\n",
       "        vertical-align: middle;\n",
       "    }\n",
       "\n",
       "    .dataframe tbody tr th {\n",
       "        vertical-align: top;\n",
       "    }\n",
       "\n",
       "    .dataframe thead th {\n",
       "        text-align: right;\n",
       "    }\n",
       "</style>\n",
       "<table border=\"1\" class=\"dataframe\">\n",
       "  <thead>\n",
       "    <tr style=\"text-align: right;\">\n",
       "      <th></th>\n",
       "      <th>mean radius</th>\n",
       "      <th>mean texture</th>\n",
       "      <th>mean perimeter</th>\n",
       "      <th>mean area</th>\n",
       "      <th>mean smoothness</th>\n",
       "      <th>mean compactness</th>\n",
       "      <th>mean concavity</th>\n",
       "      <th>mean concave points</th>\n",
       "      <th>mean symmetry</th>\n",
       "      <th>mean fractal dimension</th>\n",
       "      <th>...</th>\n",
       "      <th>worst texture</th>\n",
       "      <th>worst perimeter</th>\n",
       "      <th>worst area</th>\n",
       "      <th>worst smoothness</th>\n",
       "      <th>worst compactness</th>\n",
       "      <th>worst concavity</th>\n",
       "      <th>worst concave points</th>\n",
       "      <th>worst symmetry</th>\n",
       "      <th>worst fractal dimension</th>\n",
       "      <th>label</th>\n",
       "    </tr>\n",
       "  </thead>\n",
       "  <tbody>\n",
       "    <tr>\n",
       "      <th>0</th>\n",
       "      <td>17.99</td>\n",
       "      <td>10.38</td>\n",
       "      <td>122.80</td>\n",
       "      <td>1001.0</td>\n",
       "      <td>0.11840</td>\n",
       "      <td>0.27760</td>\n",
       "      <td>0.30010</td>\n",
       "      <td>0.14710</td>\n",
       "      <td>0.2419</td>\n",
       "      <td>0.07871</td>\n",
       "      <td>...</td>\n",
       "      <td>17.33</td>\n",
       "      <td>184.60</td>\n",
       "      <td>2019.0</td>\n",
       "      <td>0.16220</td>\n",
       "      <td>0.66560</td>\n",
       "      <td>0.7119</td>\n",
       "      <td>0.2654</td>\n",
       "      <td>0.4601</td>\n",
       "      <td>0.11890</td>\n",
       "      <td>0</td>\n",
       "    </tr>\n",
       "    <tr>\n",
       "      <th>1</th>\n",
       "      <td>20.57</td>\n",
       "      <td>17.77</td>\n",
       "      <td>132.90</td>\n",
       "      <td>1326.0</td>\n",
       "      <td>0.08474</td>\n",
       "      <td>0.07864</td>\n",
       "      <td>0.08690</td>\n",
       "      <td>0.07017</td>\n",
       "      <td>0.1812</td>\n",
       "      <td>0.05667</td>\n",
       "      <td>...</td>\n",
       "      <td>23.41</td>\n",
       "      <td>158.80</td>\n",
       "      <td>1956.0</td>\n",
       "      <td>0.12380</td>\n",
       "      <td>0.18660</td>\n",
       "      <td>0.2416</td>\n",
       "      <td>0.1860</td>\n",
       "      <td>0.2750</td>\n",
       "      <td>0.08902</td>\n",
       "      <td>0</td>\n",
       "    </tr>\n",
       "    <tr>\n",
       "      <th>2</th>\n",
       "      <td>19.69</td>\n",
       "      <td>21.25</td>\n",
       "      <td>130.00</td>\n",
       "      <td>1203.0</td>\n",
       "      <td>0.10960</td>\n",
       "      <td>0.15990</td>\n",
       "      <td>0.19740</td>\n",
       "      <td>0.12790</td>\n",
       "      <td>0.2069</td>\n",
       "      <td>0.05999</td>\n",
       "      <td>...</td>\n",
       "      <td>25.53</td>\n",
       "      <td>152.50</td>\n",
       "      <td>1709.0</td>\n",
       "      <td>0.14440</td>\n",
       "      <td>0.42450</td>\n",
       "      <td>0.4504</td>\n",
       "      <td>0.2430</td>\n",
       "      <td>0.3613</td>\n",
       "      <td>0.08758</td>\n",
       "      <td>0</td>\n",
       "    </tr>\n",
       "    <tr>\n",
       "      <th>3</th>\n",
       "      <td>11.42</td>\n",
       "      <td>20.38</td>\n",
       "      <td>77.58</td>\n",
       "      <td>386.1</td>\n",
       "      <td>0.14250</td>\n",
       "      <td>0.28390</td>\n",
       "      <td>0.24140</td>\n",
       "      <td>0.10520</td>\n",
       "      <td>0.2597</td>\n",
       "      <td>0.09744</td>\n",
       "      <td>...</td>\n",
       "      <td>26.50</td>\n",
       "      <td>98.87</td>\n",
       "      <td>567.7</td>\n",
       "      <td>0.20980</td>\n",
       "      <td>0.86630</td>\n",
       "      <td>0.6869</td>\n",
       "      <td>0.2575</td>\n",
       "      <td>0.6638</td>\n",
       "      <td>0.17300</td>\n",
       "      <td>0</td>\n",
       "    </tr>\n",
       "    <tr>\n",
       "      <th>4</th>\n",
       "      <td>20.29</td>\n",
       "      <td>14.34</td>\n",
       "      <td>135.10</td>\n",
       "      <td>1297.0</td>\n",
       "      <td>0.10030</td>\n",
       "      <td>0.13280</td>\n",
       "      <td>0.19800</td>\n",
       "      <td>0.10430</td>\n",
       "      <td>0.1809</td>\n",
       "      <td>0.05883</td>\n",
       "      <td>...</td>\n",
       "      <td>16.67</td>\n",
       "      <td>152.20</td>\n",
       "      <td>1575.0</td>\n",
       "      <td>0.13740</td>\n",
       "      <td>0.20500</td>\n",
       "      <td>0.4000</td>\n",
       "      <td>0.1625</td>\n",
       "      <td>0.2364</td>\n",
       "      <td>0.07678</td>\n",
       "      <td>0</td>\n",
       "    </tr>\n",
       "    <tr>\n",
       "      <th>...</th>\n",
       "      <td>...</td>\n",
       "      <td>...</td>\n",
       "      <td>...</td>\n",
       "      <td>...</td>\n",
       "      <td>...</td>\n",
       "      <td>...</td>\n",
       "      <td>...</td>\n",
       "      <td>...</td>\n",
       "      <td>...</td>\n",
       "      <td>...</td>\n",
       "      <td>...</td>\n",
       "      <td>...</td>\n",
       "      <td>...</td>\n",
       "      <td>...</td>\n",
       "      <td>...</td>\n",
       "      <td>...</td>\n",
       "      <td>...</td>\n",
       "      <td>...</td>\n",
       "      <td>...</td>\n",
       "      <td>...</td>\n",
       "      <td>...</td>\n",
       "    </tr>\n",
       "    <tr>\n",
       "      <th>564</th>\n",
       "      <td>21.56</td>\n",
       "      <td>22.39</td>\n",
       "      <td>142.00</td>\n",
       "      <td>1479.0</td>\n",
       "      <td>0.11100</td>\n",
       "      <td>0.11590</td>\n",
       "      <td>0.24390</td>\n",
       "      <td>0.13890</td>\n",
       "      <td>0.1726</td>\n",
       "      <td>0.05623</td>\n",
       "      <td>...</td>\n",
       "      <td>26.40</td>\n",
       "      <td>166.10</td>\n",
       "      <td>2027.0</td>\n",
       "      <td>0.14100</td>\n",
       "      <td>0.21130</td>\n",
       "      <td>0.4107</td>\n",
       "      <td>0.2216</td>\n",
       "      <td>0.2060</td>\n",
       "      <td>0.07115</td>\n",
       "      <td>0</td>\n",
       "    </tr>\n",
       "    <tr>\n",
       "      <th>565</th>\n",
       "      <td>20.13</td>\n",
       "      <td>28.25</td>\n",
       "      <td>131.20</td>\n",
       "      <td>1261.0</td>\n",
       "      <td>0.09780</td>\n",
       "      <td>0.10340</td>\n",
       "      <td>0.14400</td>\n",
       "      <td>0.09791</td>\n",
       "      <td>0.1752</td>\n",
       "      <td>0.05533</td>\n",
       "      <td>...</td>\n",
       "      <td>38.25</td>\n",
       "      <td>155.00</td>\n",
       "      <td>1731.0</td>\n",
       "      <td>0.11660</td>\n",
       "      <td>0.19220</td>\n",
       "      <td>0.3215</td>\n",
       "      <td>0.1628</td>\n",
       "      <td>0.2572</td>\n",
       "      <td>0.06637</td>\n",
       "      <td>0</td>\n",
       "    </tr>\n",
       "    <tr>\n",
       "      <th>566</th>\n",
       "      <td>16.60</td>\n",
       "      <td>28.08</td>\n",
       "      <td>108.30</td>\n",
       "      <td>858.1</td>\n",
       "      <td>0.08455</td>\n",
       "      <td>0.10230</td>\n",
       "      <td>0.09251</td>\n",
       "      <td>0.05302</td>\n",
       "      <td>0.1590</td>\n",
       "      <td>0.05648</td>\n",
       "      <td>...</td>\n",
       "      <td>34.12</td>\n",
       "      <td>126.70</td>\n",
       "      <td>1124.0</td>\n",
       "      <td>0.11390</td>\n",
       "      <td>0.30940</td>\n",
       "      <td>0.3403</td>\n",
       "      <td>0.1418</td>\n",
       "      <td>0.2218</td>\n",
       "      <td>0.07820</td>\n",
       "      <td>0</td>\n",
       "    </tr>\n",
       "    <tr>\n",
       "      <th>567</th>\n",
       "      <td>20.60</td>\n",
       "      <td>29.33</td>\n",
       "      <td>140.10</td>\n",
       "      <td>1265.0</td>\n",
       "      <td>0.11780</td>\n",
       "      <td>0.27700</td>\n",
       "      <td>0.35140</td>\n",
       "      <td>0.15200</td>\n",
       "      <td>0.2397</td>\n",
       "      <td>0.07016</td>\n",
       "      <td>...</td>\n",
       "      <td>39.42</td>\n",
       "      <td>184.60</td>\n",
       "      <td>1821.0</td>\n",
       "      <td>0.16500</td>\n",
       "      <td>0.86810</td>\n",
       "      <td>0.9387</td>\n",
       "      <td>0.2650</td>\n",
       "      <td>0.4087</td>\n",
       "      <td>0.12400</td>\n",
       "      <td>0</td>\n",
       "    </tr>\n",
       "    <tr>\n",
       "      <th>568</th>\n",
       "      <td>7.76</td>\n",
       "      <td>24.54</td>\n",
       "      <td>47.92</td>\n",
       "      <td>181.0</td>\n",
       "      <td>0.05263</td>\n",
       "      <td>0.04362</td>\n",
       "      <td>0.00000</td>\n",
       "      <td>0.00000</td>\n",
       "      <td>0.1587</td>\n",
       "      <td>0.05884</td>\n",
       "      <td>...</td>\n",
       "      <td>30.37</td>\n",
       "      <td>59.16</td>\n",
       "      <td>268.6</td>\n",
       "      <td>0.08996</td>\n",
       "      <td>0.06444</td>\n",
       "      <td>0.0000</td>\n",
       "      <td>0.0000</td>\n",
       "      <td>0.2871</td>\n",
       "      <td>0.07039</td>\n",
       "      <td>1</td>\n",
       "    </tr>\n",
       "  </tbody>\n",
       "</table>\n",
       "<p>569 rows × 31 columns</p>\n",
       "</div>"
      ],
      "text/plain": [
       "     mean radius  mean texture  mean perimeter  mean area  mean smoothness  \\\n",
       "0          17.99         10.38          122.80     1001.0          0.11840   \n",
       "1          20.57         17.77          132.90     1326.0          0.08474   \n",
       "2          19.69         21.25          130.00     1203.0          0.10960   \n",
       "3          11.42         20.38           77.58      386.1          0.14250   \n",
       "4          20.29         14.34          135.10     1297.0          0.10030   \n",
       "..           ...           ...             ...        ...              ...   \n",
       "564        21.56         22.39          142.00     1479.0          0.11100   \n",
       "565        20.13         28.25          131.20     1261.0          0.09780   \n",
       "566        16.60         28.08          108.30      858.1          0.08455   \n",
       "567        20.60         29.33          140.10     1265.0          0.11780   \n",
       "568         7.76         24.54           47.92      181.0          0.05263   \n",
       "\n",
       "     mean compactness  mean concavity  mean concave points  mean symmetry  \\\n",
       "0             0.27760         0.30010              0.14710         0.2419   \n",
       "1             0.07864         0.08690              0.07017         0.1812   \n",
       "2             0.15990         0.19740              0.12790         0.2069   \n",
       "3             0.28390         0.24140              0.10520         0.2597   \n",
       "4             0.13280         0.19800              0.10430         0.1809   \n",
       "..                ...             ...                  ...            ...   \n",
       "564           0.11590         0.24390              0.13890         0.1726   \n",
       "565           0.10340         0.14400              0.09791         0.1752   \n",
       "566           0.10230         0.09251              0.05302         0.1590   \n",
       "567           0.27700         0.35140              0.15200         0.2397   \n",
       "568           0.04362         0.00000              0.00000         0.1587   \n",
       "\n",
       "     mean fractal dimension  ...  worst texture  worst perimeter  worst area  \\\n",
       "0                   0.07871  ...          17.33           184.60      2019.0   \n",
       "1                   0.05667  ...          23.41           158.80      1956.0   \n",
       "2                   0.05999  ...          25.53           152.50      1709.0   \n",
       "3                   0.09744  ...          26.50            98.87       567.7   \n",
       "4                   0.05883  ...          16.67           152.20      1575.0   \n",
       "..                      ...  ...            ...              ...         ...   \n",
       "564                 0.05623  ...          26.40           166.10      2027.0   \n",
       "565                 0.05533  ...          38.25           155.00      1731.0   \n",
       "566                 0.05648  ...          34.12           126.70      1124.0   \n",
       "567                 0.07016  ...          39.42           184.60      1821.0   \n",
       "568                 0.05884  ...          30.37            59.16       268.6   \n",
       "\n",
       "     worst smoothness  worst compactness  worst concavity  \\\n",
       "0             0.16220            0.66560           0.7119   \n",
       "1             0.12380            0.18660           0.2416   \n",
       "2             0.14440            0.42450           0.4504   \n",
       "3             0.20980            0.86630           0.6869   \n",
       "4             0.13740            0.20500           0.4000   \n",
       "..                ...                ...              ...   \n",
       "564           0.14100            0.21130           0.4107   \n",
       "565           0.11660            0.19220           0.3215   \n",
       "566           0.11390            0.30940           0.3403   \n",
       "567           0.16500            0.86810           0.9387   \n",
       "568           0.08996            0.06444           0.0000   \n",
       "\n",
       "     worst concave points  worst symmetry  worst fractal dimension  label  \n",
       "0                  0.2654          0.4601                  0.11890      0  \n",
       "1                  0.1860          0.2750                  0.08902      0  \n",
       "2                  0.2430          0.3613                  0.08758      0  \n",
       "3                  0.2575          0.6638                  0.17300      0  \n",
       "4                  0.1625          0.2364                  0.07678      0  \n",
       "..                    ...             ...                      ...    ...  \n",
       "564                0.2216          0.2060                  0.07115      0  \n",
       "565                0.1628          0.2572                  0.06637      0  \n",
       "566                0.1418          0.2218                  0.07820      0  \n",
       "567                0.2650          0.4087                  0.12400      0  \n",
       "568                0.0000          0.2871                  0.07039      1  \n",
       "\n",
       "[569 rows x 31 columns]"
      ]
     },
     "execution_count": 10,
     "metadata": {},
     "output_type": "execute_result"
    }
   ],
   "source": [
    "cancer_df"
   ]
  },
  {
   "cell_type": "markdown",
   "id": "1890066a",
   "metadata": {},
   "source": [
    "## train, test 셋으로 분리"
   ]
  },
  {
   "cell_type": "code",
   "execution_count": 11,
   "id": "851e192c",
   "metadata": {},
   "outputs": [],
   "source": [
    "X_train, X_test, y_train, y_test = train_test_split(cancer_data, cancer_target,\n",
    "                                                   test_size = 0.2, random_state=11)"
   ]
  },
  {
   "cell_type": "code",
   "execution_count": 12,
   "id": "0f996c19",
   "metadata": {},
   "outputs": [
    {
     "data": {
      "text/plain": [
       "(455, 30)"
      ]
     },
     "execution_count": 12,
     "metadata": {},
     "output_type": "execute_result"
    }
   ],
   "source": [
    "X_train.shape"
   ]
  },
  {
   "cell_type": "code",
   "execution_count": 13,
   "id": "b88e65d4",
   "metadata": {},
   "outputs": [
    {
     "data": {
      "text/plain": [
       "114"
      ]
     },
     "execution_count": 13,
     "metadata": {},
     "output_type": "execute_result"
    }
   ],
   "source": [
    "len(y_test)"
   ]
  },
  {
   "cell_type": "markdown",
   "id": "e2755a9b",
   "metadata": {},
   "source": [
    "## 분류를 위해 의사결정나무 활용"
   ]
  },
  {
   "cell_type": "code",
   "execution_count": 14,
   "id": "2deed355",
   "metadata": {},
   "outputs": [],
   "source": [
    "dt_clf = DecisionTreeClassifier(random_state=11)"
   ]
  },
  {
   "cell_type": "code",
   "execution_count": 15,
   "id": "c241a909",
   "metadata": {},
   "outputs": [
    {
     "data": {
      "text/plain": [
       "DecisionTreeClassifier(random_state=11)"
      ]
     },
     "execution_count": 15,
     "metadata": {},
     "output_type": "execute_result"
    }
   ],
   "source": [
    "dt_clf.fit(X_train, y_train)"
   ]
  },
  {
   "cell_type": "code",
   "execution_count": 16,
   "id": "d325c455",
   "metadata": {},
   "outputs": [],
   "source": [
    "# fit에 테스트셋을 넣어 새로운 모델 예측\n",
    "pred = dt_clf.predict(X_test)"
   ]
  },
  {
   "cell_type": "code",
   "execution_count": 17,
   "id": "801bd9ad",
   "metadata": {},
   "outputs": [
    {
     "data": {
      "text/plain": [
       "array([0, 0, 0, 0, 0, 1, 0, 1, 1, 1, 1, 1, 1, 1, 1, 1, 0, 1, 1, 0, 0, 1,\n",
       "       1, 1, 1, 1, 1, 0, 1, 1, 1, 1, 1, 1, 1, 1, 1, 1, 1, 1, 1, 0, 1, 1,\n",
       "       1, 1, 0, 1, 0, 0, 1, 1, 0, 1, 0, 1, 0, 1, 1, 1, 0, 0, 1, 1, 0, 1,\n",
       "       1, 1, 1, 1, 0, 1, 1, 0, 1, 0, 0, 1, 1, 1, 1, 1, 0, 1, 0, 1, 0, 0,\n",
       "       1, 1, 0, 0, 1, 1, 0, 1, 1, 1, 1, 1, 0, 1, 0, 1, 0, 0, 0, 1, 1, 1,\n",
       "       1, 0, 1, 0])"
      ]
     },
     "execution_count": 17,
     "metadata": {},
     "output_type": "execute_result"
    }
   ],
   "source": [
    "pred"
   ]
  },
  {
   "cell_type": "code",
   "execution_count": 18,
   "id": "f2d471e4",
   "metadata": {},
   "outputs": [
    {
     "name": "stdout",
     "output_type": "stream",
     "text": [
      "[0 0 0 0 0 1 0 1 1 1 1 1 1 1 1 1 0 1 1 0 0 1 1 1 1 1 1 0 1 1 1 1 1 1 1 1 1\n",
      " 1 1 1 1 0 1 1 1 1 0 1 0 0 1 1 0 1 0 1 0 1 1 1 0 0 1 1 0 1 1 1 1 1 0 1 1 0\n",
      " 1 0 0 1 1 1 1 1 0 1 0 1 0 0 1 1 0 0 1 1 0 1 1 1 1 1 0 1 0 1 0 0 0 1 1 1 1\n",
      " 0 1 0]\n",
      "[0 0 0 0 0 1 0 1 1 1 1 0 1 1 1 1 0 1 1 0 0 1 1 1 1 1 1 1 1 1 1 1 1 1 1 1 1\n",
      " 1 1 1 1 0 1 1 1 1 0 1 0 0 1 1 0 1 1 1 0 1 1 1 0 0 1 1 0 1 1 1 1 1 0 1 1 0\n",
      " 1 0 0 1 1 1 1 1 0 1 0 1 0 0 1 1 0 0 1 1 0 1 1 1 1 0 0 1 0 1 0 0 0 1 1 1 1\n",
      " 0 1 0]\n"
     ]
    }
   ],
   "source": [
    "print(pred ,y_test, sep = '\\n')"
   ]
  },
  {
   "cell_type": "markdown",
   "id": "d080ceb3",
   "metadata": {},
   "source": [
    "## 예측 정확도 평가"
   ]
  },
  {
   "cell_type": "code",
   "execution_count": 19,
   "id": "e1a6e447",
   "metadata": {},
   "outputs": [
    {
     "name": "stdout",
     "output_type": "stream",
     "text": [
      "예측 정확도: 0.9649\n"
     ]
    }
   ],
   "source": [
    "from sklearn.metrics import accuracy_score\n",
    "print('예측 정확도: {0:.4f}'.format(accuracy_score(y_test, pred)))"
   ]
  },
  {
   "cell_type": "code",
   "execution_count": null,
   "id": "9c84a2d8",
   "metadata": {},
   "outputs": [],
   "source": []
  },
  {
   "cell_type": "markdown",
   "id": "745a2fb4",
   "metadata": {},
   "source": [
    "# 디시젼트리 그래프비즈로 시각화"
   ]
  },
  {
   "cell_type": "code",
   "execution_count": 20,
   "id": "4b6ffd2a",
   "metadata": {},
   "outputs": [],
   "source": [
    "from sklearn.tree import export_graphviz\n",
    "\n",
    "# export_graphviz()의 호출 결과로 out_file로 지정된 tree.dot 파일을 생성함. \n",
    "export_graphviz(dt_clf, out_file=\"tree.dot\", class_names= cancer.target_names, \\\n",
    "                feature_names = cancer.feature_names, impurity=True, filled=True)\n",
    "\n",
    "# out_file : 파일로 저장\n",
    "# class_name : 종속\n",
    "# feature_names : 독립\n",
    "# impurity : 지니계수\n",
    "# filled : node색 다르게"
   ]
  },
  {
   "cell_type": "code",
   "execution_count": 21,
   "id": "3846e0da",
   "metadata": {
    "scrolled": true
   },
   "outputs": [
    {
     "data": {
      "image/svg+xml": "<?xml version=\"1.0\" encoding=\"UTF-8\" standalone=\"no\"?>\n<!DOCTYPE svg PUBLIC \"-//W3C//DTD SVG 1.1//EN\"\n \"http://www.w3.org/Graphics/SVG/1.1/DTD/svg11.dtd\">\n<!-- Generated by graphviz version 2.50.0 (20211204.2007)\n -->\n<!-- Title: Tree Pages: 1 -->\n<svg width=\"2015pt\" height=\"909pt\"\n viewBox=\"0.00 0.00 2015.00 909.00\" xmlns=\"http://www.w3.org/2000/svg\" xmlns:xlink=\"http://www.w3.org/1999/xlink\">\n<g id=\"graph0\" class=\"graph\" transform=\"scale(1 1) rotate(0) translate(4 905)\">\n<title>Tree</title>\n<polygon fill=\"white\" stroke=\"transparent\" points=\"-4,4 -4,-905 2011,-905 2011,4 -4,4\"/>\n<!-- 0 -->\n<g id=\"node1\" class=\"node\">\n<title>0</title>\n<polygon fill=\"#b4daf5\" stroke=\"black\" points=\"1780,-901 1615,-901 1615,-818 1780,-818 1780,-901\"/>\n<text text-anchor=\"middle\" x=\"1697.5\" y=\"-885.8\" font-family=\"Times New Roman,serif\" font-size=\"14.00\">worst perimeter &lt;= 114.45</text>\n<text text-anchor=\"middle\" x=\"1697.5\" y=\"-870.8\" font-family=\"Times New Roman,serif\" font-size=\"14.00\">gini = 0.472</text>\n<text text-anchor=\"middle\" x=\"1697.5\" y=\"-855.8\" font-family=\"Times New Roman,serif\" font-size=\"14.00\">samples = 455</text>\n<text text-anchor=\"middle\" x=\"1697.5\" y=\"-840.8\" font-family=\"Times New Roman,serif\" font-size=\"14.00\">value = [174, 281]</text>\n<text text-anchor=\"middle\" x=\"1697.5\" y=\"-825.8\" font-family=\"Times New Roman,serif\" font-size=\"14.00\">class = benign</text>\n</g>\n<!-- 1 -->\n<g id=\"node2\" class=\"node\">\n<title>1</title>\n<polygon fill=\"#50a8e8\" stroke=\"black\" points=\"1567,-782 1376,-782 1376,-699 1567,-699 1567,-782\"/>\n<text text-anchor=\"middle\" x=\"1471.5\" y=\"-766.8\" font-family=\"Times New Roman,serif\" font-size=\"14.00\">worst concave points &lt;= 0.146</text>\n<text text-anchor=\"middle\" x=\"1471.5\" y=\"-751.8\" font-family=\"Times New Roman,serif\" font-size=\"14.00\">gini = 0.186</text>\n<text text-anchor=\"middle\" x=\"1471.5\" y=\"-736.8\" font-family=\"Times New Roman,serif\" font-size=\"14.00\">samples = 308</text>\n<text text-anchor=\"middle\" x=\"1471.5\" y=\"-721.8\" font-family=\"Times New Roman,serif\" font-size=\"14.00\">value = [32, 276]</text>\n<text text-anchor=\"middle\" x=\"1471.5\" y=\"-706.8\" font-family=\"Times New Roman,serif\" font-size=\"14.00\">class = benign</text>\n</g>\n<!-- 0&#45;&gt;1 -->\n<g id=\"edge1\" class=\"edge\">\n<title>0&#45;&gt;1</title>\n<path fill=\"none\" stroke=\"black\" d=\"M1619.09,-817.91C1599.63,-807.83 1578.66,-796.98 1558.81,-786.7\"/>\n<polygon fill=\"black\" stroke=\"black\" points=\"1560.26,-783.51 1549.77,-782.02 1557.04,-789.73 1560.26,-783.51\"/>\n<text text-anchor=\"middle\" x=\"1557.34\" y=\"-802.15\" font-family=\"Times New Roman,serif\" font-size=\"14.00\">True</text>\n</g>\n<!-- 34 -->\n<g id=\"node35\" class=\"node\">\n<title>34</title>\n<polygon fill=\"#e68540\" stroke=\"black\" points=\"1886.5,-782 1704.5,-782 1704.5,-699 1886.5,-699 1886.5,-782\"/>\n<text text-anchor=\"middle\" x=\"1795.5\" y=\"-766.8\" font-family=\"Times New Roman,serif\" font-size=\"14.00\">mean concave points &lt;= 0.05</text>\n<text text-anchor=\"middle\" x=\"1795.5\" y=\"-751.8\" font-family=\"Times New Roman,serif\" font-size=\"14.00\">gini = 0.066</text>\n<text text-anchor=\"middle\" x=\"1795.5\" y=\"-736.8\" font-family=\"Times New Roman,serif\" font-size=\"14.00\">samples = 147</text>\n<text text-anchor=\"middle\" x=\"1795.5\" y=\"-721.8\" font-family=\"Times New Roman,serif\" font-size=\"14.00\">value = [142, 5]</text>\n<text text-anchor=\"middle\" x=\"1795.5\" y=\"-706.8\" font-family=\"Times New Roman,serif\" font-size=\"14.00\">class = malignant</text>\n</g>\n<!-- 0&#45;&gt;34 -->\n<g id=\"edge34\" class=\"edge\">\n<title>0&#45;&gt;34</title>\n<path fill=\"none\" stroke=\"black\" d=\"M1731.5,-817.91C1739.1,-808.83 1747.24,-799.12 1755.07,-789.77\"/>\n<polygon fill=\"black\" stroke=\"black\" points=\"1757.82,-791.93 1761.56,-782.02 1752.46,-787.44 1757.82,-791.93\"/>\n<text text-anchor=\"middle\" x=\"1763.76\" y=\"-803.22\" font-family=\"Times New Roman,serif\" font-size=\"14.00\">False</text>\n</g>\n<!-- 2 -->\n<g id=\"node3\" class=\"node\">\n<title>2</title>\n<polygon fill=\"#43a2e6\" stroke=\"black\" points=\"1112,-663 981,-663 981,-580 1112,-580 1112,-663\"/>\n<text text-anchor=\"middle\" x=\"1046.5\" y=\"-647.8\" font-family=\"Times New Roman,serif\" font-size=\"14.00\">area error &lt;= 36.465</text>\n<text text-anchor=\"middle\" x=\"1046.5\" y=\"-632.8\" font-family=\"Times New Roman,serif\" font-size=\"14.00\">gini = 0.094</text>\n<text text-anchor=\"middle\" x=\"1046.5\" y=\"-617.8\" font-family=\"Times New Roman,serif\" font-size=\"14.00\">samples = 282</text>\n<text text-anchor=\"middle\" x=\"1046.5\" y=\"-602.8\" font-family=\"Times New Roman,serif\" font-size=\"14.00\">value = [14, 268]</text>\n<text text-anchor=\"middle\" x=\"1046.5\" y=\"-587.8\" font-family=\"Times New Roman,serif\" font-size=\"14.00\">class = benign</text>\n</g>\n<!-- 1&#45;&gt;2 -->\n<g id=\"edge2\" class=\"edge\">\n<title>1&#45;&gt;2</title>\n<path fill=\"none\" stroke=\"black\" d=\"M1375.86,-713.17C1299.06,-692.03 1192.71,-662.75 1121.86,-643.25\"/>\n<polygon fill=\"black\" stroke=\"black\" points=\"1122.68,-639.84 1112.11,-640.56 1120.82,-646.59 1122.68,-639.84\"/>\n</g>\n<!-- 27 -->\n<g id=\"node28\" class=\"node\">\n<title>27</title>\n<polygon fill=\"#f1b991\" stroke=\"black\" points=\"1543.5,-663 1399.5,-663 1399.5,-580 1543.5,-580 1543.5,-663\"/>\n<text text-anchor=\"middle\" x=\"1471.5\" y=\"-647.8\" font-family=\"Times New Roman,serif\" font-size=\"14.00\">worst texture &lt;= 23.74</text>\n<text text-anchor=\"middle\" x=\"1471.5\" y=\"-632.8\" font-family=\"Times New Roman,serif\" font-size=\"14.00\">gini = 0.426</text>\n<text text-anchor=\"middle\" x=\"1471.5\" y=\"-617.8\" font-family=\"Times New Roman,serif\" font-size=\"14.00\">samples = 26</text>\n<text text-anchor=\"middle\" x=\"1471.5\" y=\"-602.8\" font-family=\"Times New Roman,serif\" font-size=\"14.00\">value = [18, 8]</text>\n<text text-anchor=\"middle\" x=\"1471.5\" y=\"-587.8\" font-family=\"Times New Roman,serif\" font-size=\"14.00\">class = malignant</text>\n</g>\n<!-- 1&#45;&gt;27 -->\n<g id=\"edge27\" class=\"edge\">\n<title>1&#45;&gt;27</title>\n<path fill=\"none\" stroke=\"black\" d=\"M1471.5,-698.91C1471.5,-690.65 1471.5,-681.86 1471.5,-673.3\"/>\n<polygon fill=\"black\" stroke=\"black\" points=\"1475,-673.02 1471.5,-663.02 1468,-673.02 1475,-673.02\"/>\n</g>\n<!-- 3 -->\n<g id=\"node4\" class=\"node\">\n<title>3</title>\n<polygon fill=\"#3ea0e6\" stroke=\"black\" points=\"791,-544 600,-544 600,-461 791,-461 791,-544\"/>\n<text text-anchor=\"middle\" x=\"695.5\" y=\"-528.8\" font-family=\"Times New Roman,serif\" font-size=\"14.00\">worst concave points &lt;= 0.132</text>\n<text text-anchor=\"middle\" x=\"695.5\" y=\"-513.8\" font-family=\"Times New Roman,serif\" font-size=\"14.00\">gini = 0.052</text>\n<text text-anchor=\"middle\" x=\"695.5\" y=\"-498.8\" font-family=\"Times New Roman,serif\" font-size=\"14.00\">samples = 262</text>\n<text text-anchor=\"middle\" x=\"695.5\" y=\"-483.8\" font-family=\"Times New Roman,serif\" font-size=\"14.00\">value = [7, 255]</text>\n<text text-anchor=\"middle\" x=\"695.5\" y=\"-468.8\" font-family=\"Times New Roman,serif\" font-size=\"14.00\">class = benign</text>\n</g>\n<!-- 2&#45;&gt;3 -->\n<g id=\"edge3\" class=\"edge\">\n<title>2&#45;&gt;3</title>\n<path fill=\"none\" stroke=\"black\" d=\"M980.89,-598.63C930.33,-581.78 859.41,-558.14 800.91,-538.64\"/>\n<polygon fill=\"black\" stroke=\"black\" points=\"801.86,-535.26 791.27,-535.42 799.65,-541.9 801.86,-535.26\"/>\n</g>\n<!-- 20 -->\n<g id=\"node21\" class=\"node\">\n<title>20</title>\n<polygon fill=\"#a4d2f3\" stroke=\"black\" points=\"1121,-544 972,-544 972,-461 1121,-461 1121,-544\"/>\n<text text-anchor=\"middle\" x=\"1046.5\" y=\"-528.8\" font-family=\"Times New Roman,serif\" font-size=\"14.00\">mean texture &lt;= 21.435</text>\n<text text-anchor=\"middle\" x=\"1046.5\" y=\"-513.8\" font-family=\"Times New Roman,serif\" font-size=\"14.00\">gini = 0.455</text>\n<text text-anchor=\"middle\" x=\"1046.5\" y=\"-498.8\" font-family=\"Times New Roman,serif\" font-size=\"14.00\">samples = 20</text>\n<text text-anchor=\"middle\" x=\"1046.5\" y=\"-483.8\" font-family=\"Times New Roman,serif\" font-size=\"14.00\">value = [7, 13]</text>\n<text text-anchor=\"middle\" x=\"1046.5\" y=\"-468.8\" font-family=\"Times New Roman,serif\" font-size=\"14.00\">class = benign</text>\n</g>\n<!-- 2&#45;&gt;20 -->\n<g id=\"edge20\" class=\"edge\">\n<title>2&#45;&gt;20</title>\n<path fill=\"none\" stroke=\"black\" d=\"M1046.5,-579.91C1046.5,-571.65 1046.5,-562.86 1046.5,-554.3\"/>\n<polygon fill=\"black\" stroke=\"black\" points=\"1050,-554.02 1046.5,-544.02 1043,-554.02 1050,-554.02\"/>\n</g>\n<!-- 4 -->\n<g id=\"node5\" class=\"node\">\n<title>4</title>\n<polygon fill=\"#3b9ee5\" stroke=\"black\" points=\"498,-425 301,-425 301,-342 498,-342 498,-425\"/>\n<text text-anchor=\"middle\" x=\"399.5\" y=\"-409.8\" font-family=\"Times New Roman,serif\" font-size=\"14.00\">fractal dimension error &lt;= 0.001</text>\n<text text-anchor=\"middle\" x=\"399.5\" y=\"-394.8\" font-family=\"Times New Roman,serif\" font-size=\"14.00\">gini = 0.016</text>\n<text text-anchor=\"middle\" x=\"399.5\" y=\"-379.8\" font-family=\"Times New Roman,serif\" font-size=\"14.00\">samples = 244</text>\n<text text-anchor=\"middle\" x=\"399.5\" y=\"-364.8\" font-family=\"Times New Roman,serif\" font-size=\"14.00\">value = [2, 242]</text>\n<text text-anchor=\"middle\" x=\"399.5\" y=\"-349.8\" font-family=\"Times New Roman,serif\" font-size=\"14.00\">class = benign</text>\n</g>\n<!-- 3&#45;&gt;4 -->\n<g id=\"edge4\" class=\"edge\">\n<title>3&#45;&gt;4</title>\n<path fill=\"none\" stroke=\"black\" d=\"M599.81,-463.68C570.47,-452.08 537.98,-439.24 507.86,-427.33\"/>\n<polygon fill=\"black\" stroke=\"black\" points=\"508.76,-423.92 498.17,-423.5 506.18,-430.43 508.76,-423.92\"/>\n</g>\n<!-- 13 -->\n<g id=\"node14\" class=\"node\">\n<title>13</title>\n<polygon fill=\"#85c3ef\" stroke=\"black\" points=\"766.5,-425 624.5,-425 624.5,-342 766.5,-342 766.5,-425\"/>\n<text text-anchor=\"middle\" x=\"695.5\" y=\"-409.8\" font-family=\"Times New Roman,serif\" font-size=\"14.00\">mean texture &lt;= 20.94</text>\n<text text-anchor=\"middle\" x=\"695.5\" y=\"-394.8\" font-family=\"Times New Roman,serif\" font-size=\"14.00\">gini = 0.401</text>\n<text text-anchor=\"middle\" x=\"695.5\" y=\"-379.8\" font-family=\"Times New Roman,serif\" font-size=\"14.00\">samples = 18</text>\n<text text-anchor=\"middle\" x=\"695.5\" y=\"-364.8\" font-family=\"Times New Roman,serif\" font-size=\"14.00\">value = [5, 13]</text>\n<text text-anchor=\"middle\" x=\"695.5\" y=\"-349.8\" font-family=\"Times New Roman,serif\" font-size=\"14.00\">class = benign</text>\n</g>\n<!-- 3&#45;&gt;13 -->\n<g id=\"edge13\" class=\"edge\">\n<title>3&#45;&gt;13</title>\n<path fill=\"none\" stroke=\"black\" d=\"M695.5,-460.91C695.5,-452.65 695.5,-443.86 695.5,-435.3\"/>\n<polygon fill=\"black\" stroke=\"black\" points=\"699,-435.02 695.5,-425.02 692,-435.02 699,-435.02\"/>\n</g>\n<!-- 5 -->\n<g id=\"node6\" class=\"node\">\n<title>5</title>\n<polygon fill=\"#5aade9\" stroke=\"black\" points=\"267,-306 76,-306 76,-223 267,-223 267,-306\"/>\n<text text-anchor=\"middle\" x=\"171.5\" y=\"-290.8\" font-family=\"Times New Roman,serif\" font-size=\"14.00\">worst concave points &lt;= 0.095</text>\n<text text-anchor=\"middle\" x=\"171.5\" y=\"-275.8\" font-family=\"Times New Roman,serif\" font-size=\"14.00\">gini = 0.245</text>\n<text text-anchor=\"middle\" x=\"171.5\" y=\"-260.8\" font-family=\"Times New Roman,serif\" font-size=\"14.00\">samples = 7</text>\n<text text-anchor=\"middle\" x=\"171.5\" y=\"-245.8\" font-family=\"Times New Roman,serif\" font-size=\"14.00\">value = [1, 6]</text>\n<text text-anchor=\"middle\" x=\"171.5\" y=\"-230.8\" font-family=\"Times New Roman,serif\" font-size=\"14.00\">class = benign</text>\n</g>\n<!-- 4&#45;&gt;5 -->\n<g id=\"edge5\" class=\"edge\">\n<title>4&#45;&gt;5</title>\n<path fill=\"none\" stroke=\"black\" d=\"M320.4,-341.91C300.77,-331.83 279.61,-320.98 259.58,-310.7\"/>\n<polygon fill=\"black\" stroke=\"black\" points=\"260.96,-307.47 250.46,-306.02 257.76,-313.7 260.96,-307.47\"/>\n</g>\n<!-- 8 -->\n<g id=\"node9\" class=\"node\">\n<title>8</title>\n<polygon fill=\"#3a9de5\" stroke=\"black\" points=\"471.5,-306 327.5,-306 327.5,-223 471.5,-223 471.5,-306\"/>\n<text text-anchor=\"middle\" x=\"399.5\" y=\"-290.8\" font-family=\"Times New Roman,serif\" font-size=\"14.00\">worst texture &lt;= 33.27</text>\n<text text-anchor=\"middle\" x=\"399.5\" y=\"-275.8\" font-family=\"Times New Roman,serif\" font-size=\"14.00\">gini = 0.008</text>\n<text text-anchor=\"middle\" x=\"399.5\" y=\"-260.8\" font-family=\"Times New Roman,serif\" font-size=\"14.00\">samples = 237</text>\n<text text-anchor=\"middle\" x=\"399.5\" y=\"-245.8\" font-family=\"Times New Roman,serif\" font-size=\"14.00\">value = [1, 236]</text>\n<text text-anchor=\"middle\" x=\"399.5\" y=\"-230.8\" font-family=\"Times New Roman,serif\" font-size=\"14.00\">class = benign</text>\n</g>\n<!-- 4&#45;&gt;8 -->\n<g id=\"edge8\" class=\"edge\">\n<title>4&#45;&gt;8</title>\n<path fill=\"none\" stroke=\"black\" d=\"M399.5,-341.91C399.5,-333.65 399.5,-324.86 399.5,-316.3\"/>\n<polygon fill=\"black\" stroke=\"black\" points=\"403,-316.02 399.5,-306.02 396,-316.02 403,-316.02\"/>\n</g>\n<!-- 6 -->\n<g id=\"node7\" class=\"node\">\n<title>6</title>\n<polygon fill=\"#399de5\" stroke=\"black\" points=\"97,-179.5 0,-179.5 0,-111.5 97,-111.5 97,-179.5\"/>\n<text text-anchor=\"middle\" x=\"48.5\" y=\"-164.3\" font-family=\"Times New Roman,serif\" font-size=\"14.00\">gini = 0.0</text>\n<text text-anchor=\"middle\" x=\"48.5\" y=\"-149.3\" font-family=\"Times New Roman,serif\" font-size=\"14.00\">samples = 6</text>\n<text text-anchor=\"middle\" x=\"48.5\" y=\"-134.3\" font-family=\"Times New Roman,serif\" font-size=\"14.00\">value = [0, 6]</text>\n<text text-anchor=\"middle\" x=\"48.5\" y=\"-119.3\" font-family=\"Times New Roman,serif\" font-size=\"14.00\">class = benign</text>\n</g>\n<!-- 5&#45;&gt;6 -->\n<g id=\"edge6\" class=\"edge\">\n<title>5&#45;&gt;6</title>\n<path fill=\"none\" stroke=\"black\" d=\"M128.83,-222.91C116.53,-211.21 103.12,-198.46 90.85,-186.78\"/>\n<polygon fill=\"black\" stroke=\"black\" points=\"93.03,-184.02 83.37,-179.67 88.2,-189.1 93.03,-184.02\"/>\n</g>\n<!-- 7 -->\n<g id=\"node8\" class=\"node\">\n<title>7</title>\n<polygon fill=\"#e58139\" stroke=\"black\" points=\"228,-179.5 115,-179.5 115,-111.5 228,-111.5 228,-179.5\"/>\n<text text-anchor=\"middle\" x=\"171.5\" y=\"-164.3\" font-family=\"Times New Roman,serif\" font-size=\"14.00\">gini = 0.0</text>\n<text text-anchor=\"middle\" x=\"171.5\" y=\"-149.3\" font-family=\"Times New Roman,serif\" font-size=\"14.00\">samples = 1</text>\n<text text-anchor=\"middle\" x=\"171.5\" y=\"-134.3\" font-family=\"Times New Roman,serif\" font-size=\"14.00\">value = [1, 0]</text>\n<text text-anchor=\"middle\" x=\"171.5\" y=\"-119.3\" font-family=\"Times New Roman,serif\" font-size=\"14.00\">class = malignant</text>\n</g>\n<!-- 5&#45;&gt;7 -->\n<g id=\"edge7\" class=\"edge\">\n<title>5&#45;&gt;7</title>\n<path fill=\"none\" stroke=\"black\" d=\"M171.5,-222.91C171.5,-212.2 171.5,-200.62 171.5,-189.78\"/>\n<polygon fill=\"black\" stroke=\"black\" points=\"175,-189.67 171.5,-179.67 168,-189.67 175,-189.67\"/>\n</g>\n<!-- 9 -->\n<g id=\"node10\" class=\"node\">\n<title>9</title>\n<polygon fill=\"#399de5\" stroke=\"black\" points=\"350.5,-179.5 246.5,-179.5 246.5,-111.5 350.5,-111.5 350.5,-179.5\"/>\n<text text-anchor=\"middle\" x=\"298.5\" y=\"-164.3\" font-family=\"Times New Roman,serif\" font-size=\"14.00\">gini = 0.0</text>\n<text text-anchor=\"middle\" x=\"298.5\" y=\"-149.3\" font-family=\"Times New Roman,serif\" font-size=\"14.00\">samples = 221</text>\n<text text-anchor=\"middle\" x=\"298.5\" y=\"-134.3\" font-family=\"Times New Roman,serif\" font-size=\"14.00\">value = [0, 221]</text>\n<text text-anchor=\"middle\" x=\"298.5\" y=\"-119.3\" font-family=\"Times New Roman,serif\" font-size=\"14.00\">class = benign</text>\n</g>\n<!-- 8&#45;&gt;9 -->\n<g id=\"edge9\" class=\"edge\">\n<title>8&#45;&gt;9</title>\n<path fill=\"none\" stroke=\"black\" d=\"M364.46,-222.91C354.55,-211.43 343.77,-198.94 333.84,-187.44\"/>\n<polygon fill=\"black\" stroke=\"black\" points=\"336.32,-184.95 327.13,-179.67 331.02,-189.52 336.32,-184.95\"/>\n</g>\n<!-- 10 -->\n<g id=\"node11\" class=\"node\">\n<title>10</title>\n<polygon fill=\"#46a4e7\" stroke=\"black\" points=\"512.5,-187 368.5,-187 368.5,-104 512.5,-104 512.5,-187\"/>\n<text text-anchor=\"middle\" x=\"440.5\" y=\"-171.8\" font-family=\"Times New Roman,serif\" font-size=\"14.00\">worst texture &lt;= 33.56</text>\n<text text-anchor=\"middle\" x=\"440.5\" y=\"-156.8\" font-family=\"Times New Roman,serif\" font-size=\"14.00\">gini = 0.117</text>\n<text text-anchor=\"middle\" x=\"440.5\" y=\"-141.8\" font-family=\"Times New Roman,serif\" font-size=\"14.00\">samples = 16</text>\n<text text-anchor=\"middle\" x=\"440.5\" y=\"-126.8\" font-family=\"Times New Roman,serif\" font-size=\"14.00\">value = [1, 15]</text>\n<text text-anchor=\"middle\" x=\"440.5\" y=\"-111.8\" font-family=\"Times New Roman,serif\" font-size=\"14.00\">class = benign</text>\n</g>\n<!-- 8&#45;&gt;10 -->\n<g id=\"edge10\" class=\"edge\">\n<title>8&#45;&gt;10</title>\n<path fill=\"none\" stroke=\"black\" d=\"M413.72,-222.91C416.68,-214.47 419.83,-205.48 422.9,-196.74\"/>\n<polygon fill=\"black\" stroke=\"black\" points=\"426.3,-197.62 426.3,-187.02 419.69,-195.3 426.3,-197.62\"/>\n</g>\n<!-- 11 -->\n<g id=\"node12\" class=\"node\">\n<title>11</title>\n<polygon fill=\"#e58139\" stroke=\"black\" points=\"388,-68 275,-68 275,0 388,0 388,-68\"/>\n<text text-anchor=\"middle\" x=\"331.5\" y=\"-52.8\" font-family=\"Times New Roman,serif\" font-size=\"14.00\">gini = 0.0</text>\n<text text-anchor=\"middle\" x=\"331.5\" y=\"-37.8\" font-family=\"Times New Roman,serif\" font-size=\"14.00\">samples = 1</text>\n<text text-anchor=\"middle\" x=\"331.5\" y=\"-22.8\" font-family=\"Times New Roman,serif\" font-size=\"14.00\">value = [1, 0]</text>\n<text text-anchor=\"middle\" x=\"331.5\" y=\"-7.8\" font-family=\"Times New Roman,serif\" font-size=\"14.00\">class = malignant</text>\n</g>\n<!-- 10&#45;&gt;11 -->\n<g id=\"edge11\" class=\"edge\">\n<title>10&#45;&gt;11</title>\n<path fill=\"none\" stroke=\"black\" d=\"M399.91,-103.73C390.74,-94.51 381.01,-84.74 371.85,-75.53\"/>\n<polygon fill=\"black\" stroke=\"black\" points=\"374.18,-72.92 364.65,-68.3 369.22,-77.86 374.18,-72.92\"/>\n</g>\n<!-- 12 -->\n<g id=\"node13\" class=\"node\">\n<title>12</title>\n<polygon fill=\"#399de5\" stroke=\"black\" points=\"504.5,-68 406.5,-68 406.5,0 504.5,0 504.5,-68\"/>\n<text text-anchor=\"middle\" x=\"455.5\" y=\"-52.8\" font-family=\"Times New Roman,serif\" font-size=\"14.00\">gini = 0.0</text>\n<text text-anchor=\"middle\" x=\"455.5\" y=\"-37.8\" font-family=\"Times New Roman,serif\" font-size=\"14.00\">samples = 15</text>\n<text text-anchor=\"middle\" x=\"455.5\" y=\"-22.8\" font-family=\"Times New Roman,serif\" font-size=\"14.00\">value = [0, 15]</text>\n<text text-anchor=\"middle\" x=\"455.5\" y=\"-7.8\" font-family=\"Times New Roman,serif\" font-size=\"14.00\">class = benign</text>\n</g>\n<!-- 10&#45;&gt;12 -->\n<g id=\"edge12\" class=\"edge\">\n<title>10&#45;&gt;12</title>\n<path fill=\"none\" stroke=\"black\" d=\"M446.09,-103.73C447.22,-95.43 448.42,-86.67 449.57,-78.28\"/>\n<polygon fill=\"black\" stroke=\"black\" points=\"453.05,-78.68 450.94,-68.3 446.11,-77.73 453.05,-78.68\"/>\n</g>\n<!-- 14 -->\n<g id=\"node15\" class=\"node\">\n<title>14</title>\n<polygon fill=\"#48a5e7\" stroke=\"black\" points=\"697,-306 540,-306 540,-223 697,-223 697,-306\"/>\n<text text-anchor=\"middle\" x=\"618.5\" y=\"-290.8\" font-family=\"Times New Roman,serif\" font-size=\"14.00\">symmetry error &lt;= 0.013</text>\n<text text-anchor=\"middle\" x=\"618.5\" y=\"-275.8\" font-family=\"Times New Roman,serif\" font-size=\"14.00\">gini = 0.133</text>\n<text text-anchor=\"middle\" x=\"618.5\" y=\"-260.8\" font-family=\"Times New Roman,serif\" font-size=\"14.00\">samples = 14</text>\n<text text-anchor=\"middle\" x=\"618.5\" y=\"-245.8\" font-family=\"Times New Roman,serif\" font-size=\"14.00\">value = [1, 13]</text>\n<text text-anchor=\"middle\" x=\"618.5\" y=\"-230.8\" font-family=\"Times New Roman,serif\" font-size=\"14.00\">class = benign</text>\n</g>\n<!-- 13&#45;&gt;14 -->\n<g id=\"edge14\" class=\"edge\">\n<title>13&#45;&gt;14</title>\n<path fill=\"none\" stroke=\"black\" d=\"M668.79,-341.91C662.99,-333.1 656.8,-323.7 650.82,-314.61\"/>\n<polygon fill=\"black\" stroke=\"black\" points=\"653.59,-312.45 645.17,-306.02 647.74,-316.3 653.59,-312.45\"/>\n</g>\n<!-- 19 -->\n<g id=\"node20\" class=\"node\">\n<title>19</title>\n<polygon fill=\"#e58139\" stroke=\"black\" points=\"828,-298.5 715,-298.5 715,-230.5 828,-230.5 828,-298.5\"/>\n<text text-anchor=\"middle\" x=\"771.5\" y=\"-283.3\" font-family=\"Times New Roman,serif\" font-size=\"14.00\">gini = 0.0</text>\n<text text-anchor=\"middle\" x=\"771.5\" y=\"-268.3\" font-family=\"Times New Roman,serif\" font-size=\"14.00\">samples = 4</text>\n<text text-anchor=\"middle\" x=\"771.5\" y=\"-253.3\" font-family=\"Times New Roman,serif\" font-size=\"14.00\">value = [4, 0]</text>\n<text text-anchor=\"middle\" x=\"771.5\" y=\"-238.3\" font-family=\"Times New Roman,serif\" font-size=\"14.00\">class = malignant</text>\n</g>\n<!-- 13&#45;&gt;19 -->\n<g id=\"edge19\" class=\"edge\">\n<title>13&#45;&gt;19</title>\n<path fill=\"none\" stroke=\"black\" d=\"M721.87,-341.91C729.18,-330.65 737.13,-318.42 744.47,-307.11\"/>\n<polygon fill=\"black\" stroke=\"black\" points=\"747.44,-308.96 749.96,-298.67 741.57,-305.15 747.44,-308.96\"/>\n</g>\n<!-- 15 -->\n<g id=\"node16\" class=\"node\">\n<title>15</title>\n<polygon fill=\"#ffffff\" stroke=\"black\" points=\"706.5,-187 530.5,-187 530.5,-104 706.5,-104 706.5,-187\"/>\n<text text-anchor=\"middle\" x=\"618.5\" y=\"-171.8\" font-family=\"Times New Roman,serif\" font-size=\"14.00\">compactness error &lt;= 0.019</text>\n<text text-anchor=\"middle\" x=\"618.5\" y=\"-156.8\" font-family=\"Times New Roman,serif\" font-size=\"14.00\">gini = 0.5</text>\n<text text-anchor=\"middle\" x=\"618.5\" y=\"-141.8\" font-family=\"Times New Roman,serif\" font-size=\"14.00\">samples = 2</text>\n<text text-anchor=\"middle\" x=\"618.5\" y=\"-126.8\" font-family=\"Times New Roman,serif\" font-size=\"14.00\">value = [1, 1]</text>\n<text text-anchor=\"middle\" x=\"618.5\" y=\"-111.8\" font-family=\"Times New Roman,serif\" font-size=\"14.00\">class = malignant</text>\n</g>\n<!-- 14&#45;&gt;15 -->\n<g id=\"edge15\" class=\"edge\">\n<title>14&#45;&gt;15</title>\n<path fill=\"none\" stroke=\"black\" d=\"M618.5,-222.91C618.5,-214.65 618.5,-205.86 618.5,-197.3\"/>\n<polygon fill=\"black\" stroke=\"black\" points=\"622,-197.02 618.5,-187.02 615,-197.02 622,-197.02\"/>\n</g>\n<!-- 18 -->\n<g id=\"node19\" class=\"node\">\n<title>18</title>\n<polygon fill=\"#399de5\" stroke=\"black\" points=\"822.5,-179.5 724.5,-179.5 724.5,-111.5 822.5,-111.5 822.5,-179.5\"/>\n<text text-anchor=\"middle\" x=\"773.5\" y=\"-164.3\" font-family=\"Times New Roman,serif\" font-size=\"14.00\">gini = 0.0</text>\n<text text-anchor=\"middle\" x=\"773.5\" y=\"-149.3\" font-family=\"Times New Roman,serif\" font-size=\"14.00\">samples = 12</text>\n<text text-anchor=\"middle\" x=\"773.5\" y=\"-134.3\" font-family=\"Times New Roman,serif\" font-size=\"14.00\">value = [0, 12]</text>\n<text text-anchor=\"middle\" x=\"773.5\" y=\"-119.3\" font-family=\"Times New Roman,serif\" font-size=\"14.00\">class = benign</text>\n</g>\n<!-- 14&#45;&gt;18 -->\n<g id=\"edge18\" class=\"edge\">\n<title>14&#45;&gt;18</title>\n<path fill=\"none\" stroke=\"black\" d=\"M672.28,-222.91C688.21,-210.88 705.63,-197.73 721.45,-185.79\"/>\n<polygon fill=\"black\" stroke=\"black\" points=\"723.69,-188.49 729.56,-179.67 719.47,-182.9 723.69,-188.49\"/>\n</g>\n<!-- 16 -->\n<g id=\"node17\" class=\"node\">\n<title>16</title>\n<polygon fill=\"#399de5\" stroke=\"black\" points=\"651,-68 554,-68 554,0 651,0 651,-68\"/>\n<text text-anchor=\"middle\" x=\"602.5\" y=\"-52.8\" font-family=\"Times New Roman,serif\" font-size=\"14.00\">gini = 0.0</text>\n<text text-anchor=\"middle\" x=\"602.5\" y=\"-37.8\" font-family=\"Times New Roman,serif\" font-size=\"14.00\">samples = 1</text>\n<text text-anchor=\"middle\" x=\"602.5\" y=\"-22.8\" font-family=\"Times New Roman,serif\" font-size=\"14.00\">value = [0, 1]</text>\n<text text-anchor=\"middle\" x=\"602.5\" y=\"-7.8\" font-family=\"Times New Roman,serif\" font-size=\"14.00\">class = benign</text>\n</g>\n<!-- 15&#45;&gt;16 -->\n<g id=\"edge16\" class=\"edge\">\n<title>15&#45;&gt;16</title>\n<path fill=\"none\" stroke=\"black\" d=\"M612.54,-103.73C611.33,-95.43 610.05,-86.67 608.82,-78.28\"/>\n<polygon fill=\"black\" stroke=\"black\" points=\"612.27,-77.69 607.37,-68.3 605.35,-78.7 612.27,-77.69\"/>\n</g>\n<!-- 17 -->\n<g id=\"node18\" class=\"node\">\n<title>17</title>\n<polygon fill=\"#e58139\" stroke=\"black\" points=\"782,-68 669,-68 669,0 782,0 782,-68\"/>\n<text text-anchor=\"middle\" x=\"725.5\" y=\"-52.8\" font-family=\"Times New Roman,serif\" font-size=\"14.00\">gini = 0.0</text>\n<text text-anchor=\"middle\" x=\"725.5\" y=\"-37.8\" font-family=\"Times New Roman,serif\" font-size=\"14.00\">samples = 1</text>\n<text text-anchor=\"middle\" x=\"725.5\" y=\"-22.8\" font-family=\"Times New Roman,serif\" font-size=\"14.00\">value = [1, 0]</text>\n<text text-anchor=\"middle\" x=\"725.5\" y=\"-7.8\" font-family=\"Times New Roman,serif\" font-size=\"14.00\">class = malignant</text>\n</g>\n<!-- 15&#45;&gt;17 -->\n<g id=\"edge17\" class=\"edge\">\n<title>15&#45;&gt;17</title>\n<path fill=\"none\" stroke=\"black\" d=\"M658.34,-103.73C667.34,-94.51 676.9,-84.74 685.89,-75.53\"/>\n<polygon fill=\"black\" stroke=\"black\" points=\"688.47,-77.9 692.96,-68.3 683.47,-73.01 688.47,-77.9\"/>\n</g>\n<!-- 21 -->\n<g id=\"node22\" class=\"node\">\n<title>21</title>\n<polygon fill=\"#49a5e7\" stroke=\"black\" points=\"1030,-425 871,-425 871,-342 1030,-342 1030,-425\"/>\n<text text-anchor=\"middle\" x=\"950.5\" y=\"-409.8\" font-family=\"Times New Roman,serif\" font-size=\"14.00\">mean symmetry &lt;= 0.166</text>\n<text text-anchor=\"middle\" x=\"950.5\" y=\"-394.8\" font-family=\"Times New Roman,serif\" font-size=\"14.00\">gini = 0.142</text>\n<text text-anchor=\"middle\" x=\"950.5\" y=\"-379.8\" font-family=\"Times New Roman,serif\" font-size=\"14.00\">samples = 13</text>\n<text text-anchor=\"middle\" x=\"950.5\" y=\"-364.8\" font-family=\"Times New Roman,serif\" font-size=\"14.00\">value = [1, 12]</text>\n<text text-anchor=\"middle\" x=\"950.5\" y=\"-349.8\" font-family=\"Times New Roman,serif\" font-size=\"14.00\">class = benign</text>\n</g>\n<!-- 20&#45;&gt;21 -->\n<g id=\"edge21\" class=\"edge\">\n<title>20&#45;&gt;21</title>\n<path fill=\"none\" stroke=\"black\" d=\"M1013.19,-460.91C1005.75,-451.83 997.78,-442.12 990.11,-432.77\"/>\n<polygon fill=\"black\" stroke=\"black\" points=\"992.8,-430.53 983.75,-425.02 987.39,-434.97 992.8,-430.53\"/>\n</g>\n<!-- 24 -->\n<g id=\"node25\" class=\"node\">\n<title>24</title>\n<polygon fill=\"#e9965a\" stroke=\"black\" points=\"1237,-425 1048,-425 1048,-342 1237,-342 1237,-425\"/>\n<text text-anchor=\"middle\" x=\"1142.5\" y=\"-409.8\" font-family=\"Times New Roman,serif\" font-size=\"14.00\">mean concave points &lt;= 0.025</text>\n<text text-anchor=\"middle\" x=\"1142.5\" y=\"-394.8\" font-family=\"Times New Roman,serif\" font-size=\"14.00\">gini = 0.245</text>\n<text text-anchor=\"middle\" x=\"1142.5\" y=\"-379.8\" font-family=\"Times New Roman,serif\" font-size=\"14.00\">samples = 7</text>\n<text text-anchor=\"middle\" x=\"1142.5\" y=\"-364.8\" font-family=\"Times New Roman,serif\" font-size=\"14.00\">value = [6, 1]</text>\n<text text-anchor=\"middle\" x=\"1142.5\" y=\"-349.8\" font-family=\"Times New Roman,serif\" font-size=\"14.00\">class = malignant</text>\n</g>\n<!-- 20&#45;&gt;24 -->\n<g id=\"edge24\" class=\"edge\">\n<title>20&#45;&gt;24</title>\n<path fill=\"none\" stroke=\"black\" d=\"M1079.81,-460.91C1087.25,-451.83 1095.22,-442.12 1102.89,-432.77\"/>\n<polygon fill=\"black\" stroke=\"black\" points=\"1105.61,-434.97 1109.25,-425.02 1100.2,-430.53 1105.61,-434.97\"/>\n</g>\n<!-- 22 -->\n<g id=\"node23\" class=\"node\">\n<title>22</title>\n<polygon fill=\"#e58139\" stroke=\"black\" points=\"959,-298.5 846,-298.5 846,-230.5 959,-230.5 959,-298.5\"/>\n<text text-anchor=\"middle\" x=\"902.5\" y=\"-283.3\" font-family=\"Times New Roman,serif\" font-size=\"14.00\">gini = 0.0</text>\n<text text-anchor=\"middle\" x=\"902.5\" y=\"-268.3\" font-family=\"Times New Roman,serif\" font-size=\"14.00\">samples = 1</text>\n<text text-anchor=\"middle\" x=\"902.5\" y=\"-253.3\" font-family=\"Times New Roman,serif\" font-size=\"14.00\">value = [1, 0]</text>\n<text text-anchor=\"middle\" x=\"902.5\" y=\"-238.3\" font-family=\"Times New Roman,serif\" font-size=\"14.00\">class = malignant</text>\n</g>\n<!-- 21&#45;&gt;22 -->\n<g id=\"edge22\" class=\"edge\">\n<title>21&#45;&gt;22</title>\n<path fill=\"none\" stroke=\"black\" d=\"M933.85,-341.91C929.36,-330.98 924.5,-319.14 919.98,-308.11\"/>\n<polygon fill=\"black\" stroke=\"black\" points=\"923.14,-306.59 916.11,-298.67 916.66,-309.25 923.14,-306.59\"/>\n</g>\n<!-- 23 -->\n<g id=\"node24\" class=\"node\">\n<title>23</title>\n<polygon fill=\"#399de5\" stroke=\"black\" points=\"1075.5,-298.5 977.5,-298.5 977.5,-230.5 1075.5,-230.5 1075.5,-298.5\"/>\n<text text-anchor=\"middle\" x=\"1026.5\" y=\"-283.3\" font-family=\"Times New Roman,serif\" font-size=\"14.00\">gini = 0.0</text>\n<text text-anchor=\"middle\" x=\"1026.5\" y=\"-268.3\" font-family=\"Times New Roman,serif\" font-size=\"14.00\">samples = 12</text>\n<text text-anchor=\"middle\" x=\"1026.5\" y=\"-253.3\" font-family=\"Times New Roman,serif\" font-size=\"14.00\">value = [0, 12]</text>\n<text text-anchor=\"middle\" x=\"1026.5\" y=\"-238.3\" font-family=\"Times New Roman,serif\" font-size=\"14.00\">class = benign</text>\n</g>\n<!-- 21&#45;&gt;23 -->\n<g id=\"edge23\" class=\"edge\">\n<title>21&#45;&gt;23</title>\n<path fill=\"none\" stroke=\"black\" d=\"M976.87,-341.91C984.18,-330.65 992.13,-318.42 999.47,-307.11\"/>\n<polygon fill=\"black\" stroke=\"black\" points=\"1002.44,-308.96 1004.96,-298.67 996.57,-305.15 1002.44,-308.96\"/>\n</g>\n<!-- 25 -->\n<g id=\"node26\" class=\"node\">\n<title>25</title>\n<polygon fill=\"#399de5\" stroke=\"black\" points=\"1191,-298.5 1094,-298.5 1094,-230.5 1191,-230.5 1191,-298.5\"/>\n<text text-anchor=\"middle\" x=\"1142.5\" y=\"-283.3\" font-family=\"Times New Roman,serif\" font-size=\"14.00\">gini = 0.0</text>\n<text text-anchor=\"middle\" x=\"1142.5\" y=\"-268.3\" font-family=\"Times New Roman,serif\" font-size=\"14.00\">samples = 1</text>\n<text text-anchor=\"middle\" x=\"1142.5\" y=\"-253.3\" font-family=\"Times New Roman,serif\" font-size=\"14.00\">value = [0, 1]</text>\n<text text-anchor=\"middle\" x=\"1142.5\" y=\"-238.3\" font-family=\"Times New Roman,serif\" font-size=\"14.00\">class = benign</text>\n</g>\n<!-- 24&#45;&gt;25 -->\n<g id=\"edge25\" class=\"edge\">\n<title>24&#45;&gt;25</title>\n<path fill=\"none\" stroke=\"black\" d=\"M1142.5,-341.91C1142.5,-331.2 1142.5,-319.62 1142.5,-308.78\"/>\n<polygon fill=\"black\" stroke=\"black\" points=\"1146,-308.67 1142.5,-298.67 1139,-308.67 1146,-308.67\"/>\n</g>\n<!-- 26 -->\n<g id=\"node27\" class=\"node\">\n<title>26</title>\n<polygon fill=\"#e58139\" stroke=\"black\" points=\"1322,-298.5 1209,-298.5 1209,-230.5 1322,-230.5 1322,-298.5\"/>\n<text text-anchor=\"middle\" x=\"1265.5\" y=\"-283.3\" font-family=\"Times New Roman,serif\" font-size=\"14.00\">gini = 0.0</text>\n<text text-anchor=\"middle\" x=\"1265.5\" y=\"-268.3\" font-family=\"Times New Roman,serif\" font-size=\"14.00\">samples = 6</text>\n<text text-anchor=\"middle\" x=\"1265.5\" y=\"-253.3\" font-family=\"Times New Roman,serif\" font-size=\"14.00\">value = [6, 0]</text>\n<text text-anchor=\"middle\" x=\"1265.5\" y=\"-238.3\" font-family=\"Times New Roman,serif\" font-size=\"14.00\">class = malignant</text>\n</g>\n<!-- 24&#45;&gt;26 -->\n<g id=\"edge26\" class=\"edge\">\n<title>24&#45;&gt;26</title>\n<path fill=\"none\" stroke=\"black\" d=\"M1185.17,-341.91C1197.47,-330.21 1210.88,-317.46 1223.15,-305.78\"/>\n<polygon fill=\"black\" stroke=\"black\" points=\"1225.8,-308.1 1230.63,-298.67 1220.97,-303.02 1225.8,-308.1\"/>\n</g>\n<!-- 28 -->\n<g id=\"node29\" class=\"node\">\n<title>28</title>\n<polygon fill=\"#55abe9\" stroke=\"black\" points=\"1463,-544 1274,-544 1274,-461 1463,-461 1463,-544\"/>\n<text text-anchor=\"middle\" x=\"1368.5\" y=\"-528.8\" font-family=\"Times New Roman,serif\" font-size=\"14.00\">mean concave points &lt;= 0.087</text>\n<text text-anchor=\"middle\" x=\"1368.5\" y=\"-513.8\" font-family=\"Times New Roman,serif\" font-size=\"14.00\">gini = 0.219</text>\n<text text-anchor=\"middle\" x=\"1368.5\" y=\"-498.8\" font-family=\"Times New Roman,serif\" font-size=\"14.00\">samples = 8</text>\n<text text-anchor=\"middle\" x=\"1368.5\" y=\"-483.8\" font-family=\"Times New Roman,serif\" font-size=\"14.00\">value = [1, 7]</text>\n<text text-anchor=\"middle\" x=\"1368.5\" y=\"-468.8\" font-family=\"Times New Roman,serif\" font-size=\"14.00\">class = benign</text>\n</g>\n<!-- 27&#45;&gt;28 -->\n<g id=\"edge28\" class=\"edge\">\n<title>27&#45;&gt;28</title>\n<path fill=\"none\" stroke=\"black\" d=\"M1435.76,-579.91C1427.78,-570.83 1419.23,-561.12 1410.99,-551.77\"/>\n<polygon fill=\"black\" stroke=\"black\" points=\"1413.41,-549.21 1404.17,-544.02 1408.15,-553.84 1413.41,-549.21\"/>\n</g>\n<!-- 31 -->\n<g id=\"node32\" class=\"node\">\n<title>31</title>\n<polygon fill=\"#e78845\" stroke=\"black\" points=\"1670,-544 1481,-544 1481,-461 1670,-461 1670,-544\"/>\n<text text-anchor=\"middle\" x=\"1575.5\" y=\"-528.8\" font-family=\"Times New Roman,serif\" font-size=\"14.00\">mean concave points &lt;= 0.041</text>\n<text text-anchor=\"middle\" x=\"1575.5\" y=\"-513.8\" font-family=\"Times New Roman,serif\" font-size=\"14.00\">gini = 0.105</text>\n<text text-anchor=\"middle\" x=\"1575.5\" y=\"-498.8\" font-family=\"Times New Roman,serif\" font-size=\"14.00\">samples = 18</text>\n<text text-anchor=\"middle\" x=\"1575.5\" y=\"-483.8\" font-family=\"Times New Roman,serif\" font-size=\"14.00\">value = [17, 1]</text>\n<text text-anchor=\"middle\" x=\"1575.5\" y=\"-468.8\" font-family=\"Times New Roman,serif\" font-size=\"14.00\">class = malignant</text>\n</g>\n<!-- 27&#45;&gt;31 -->\n<g id=\"edge31\" class=\"edge\">\n<title>27&#45;&gt;31</title>\n<path fill=\"none\" stroke=\"black\" d=\"M1507.58,-579.91C1515.65,-570.83 1524.28,-561.12 1532.59,-551.77\"/>\n<polygon fill=\"black\" stroke=\"black\" points=\"1535.45,-553.82 1539.48,-544.02 1530.22,-549.17 1535.45,-553.82\"/>\n</g>\n<!-- 29 -->\n<g id=\"node30\" class=\"node\">\n<title>29</title>\n<polygon fill=\"#399de5\" stroke=\"black\" points=\"1352,-417.5 1255,-417.5 1255,-349.5 1352,-349.5 1352,-417.5\"/>\n<text text-anchor=\"middle\" x=\"1303.5\" y=\"-402.3\" font-family=\"Times New Roman,serif\" font-size=\"14.00\">gini = 0.0</text>\n<text text-anchor=\"middle\" x=\"1303.5\" y=\"-387.3\" font-family=\"Times New Roman,serif\" font-size=\"14.00\">samples = 7</text>\n<text text-anchor=\"middle\" x=\"1303.5\" y=\"-372.3\" font-family=\"Times New Roman,serif\" font-size=\"14.00\">value = [0, 7]</text>\n<text text-anchor=\"middle\" x=\"1303.5\" y=\"-357.3\" font-family=\"Times New Roman,serif\" font-size=\"14.00\">class = benign</text>\n</g>\n<!-- 28&#45;&gt;29 -->\n<g id=\"edge29\" class=\"edge\">\n<title>28&#45;&gt;29</title>\n<path fill=\"none\" stroke=\"black\" d=\"M1345.95,-460.91C1339.76,-449.76 1333.03,-437.66 1326.8,-426.44\"/>\n<polygon fill=\"black\" stroke=\"black\" points=\"1329.84,-424.71 1321.93,-417.67 1323.72,-428.11 1329.84,-424.71\"/>\n</g>\n<!-- 30 -->\n<g id=\"node31\" class=\"node\">\n<title>30</title>\n<polygon fill=\"#e58139\" stroke=\"black\" points=\"1483,-417.5 1370,-417.5 1370,-349.5 1483,-349.5 1483,-417.5\"/>\n<text text-anchor=\"middle\" x=\"1426.5\" y=\"-402.3\" font-family=\"Times New Roman,serif\" font-size=\"14.00\">gini = 0.0</text>\n<text text-anchor=\"middle\" x=\"1426.5\" y=\"-387.3\" font-family=\"Times New Roman,serif\" font-size=\"14.00\">samples = 1</text>\n<text text-anchor=\"middle\" x=\"1426.5\" y=\"-372.3\" font-family=\"Times New Roman,serif\" font-size=\"14.00\">value = [1, 0]</text>\n<text text-anchor=\"middle\" x=\"1426.5\" y=\"-357.3\" font-family=\"Times New Roman,serif\" font-size=\"14.00\">class = malignant</text>\n</g>\n<!-- 28&#45;&gt;30 -->\n<g id=\"edge30\" class=\"edge\">\n<title>28&#45;&gt;30</title>\n<path fill=\"none\" stroke=\"black\" d=\"M1388.62,-460.91C1394.09,-449.87 1400.03,-437.9 1405.54,-426.77\"/>\n<polygon fill=\"black\" stroke=\"black\" points=\"1408.75,-428.18 1410.06,-417.67 1402.48,-425.07 1408.75,-428.18\"/>\n</g>\n<!-- 32 -->\n<g id=\"node33\" class=\"node\">\n<title>32</title>\n<polygon fill=\"#399de5\" stroke=\"black\" points=\"1598,-417.5 1501,-417.5 1501,-349.5 1598,-349.5 1598,-417.5\"/>\n<text text-anchor=\"middle\" x=\"1549.5\" y=\"-402.3\" font-family=\"Times New Roman,serif\" font-size=\"14.00\">gini = 0.0</text>\n<text text-anchor=\"middle\" x=\"1549.5\" y=\"-387.3\" font-family=\"Times New Roman,serif\" font-size=\"14.00\">samples = 1</text>\n<text text-anchor=\"middle\" x=\"1549.5\" y=\"-372.3\" font-family=\"Times New Roman,serif\" font-size=\"14.00\">value = [0, 1]</text>\n<text text-anchor=\"middle\" x=\"1549.5\" y=\"-357.3\" font-family=\"Times New Roman,serif\" font-size=\"14.00\">class = benign</text>\n</g>\n<!-- 31&#45;&gt;32 -->\n<g id=\"edge32\" class=\"edge\">\n<title>31&#45;&gt;32</title>\n<path fill=\"none\" stroke=\"black\" d=\"M1566.48,-460.91C1564.08,-450.09 1561.47,-438.38 1559.04,-427.44\"/>\n<polygon fill=\"black\" stroke=\"black\" points=\"1562.46,-426.67 1556.87,-417.67 1555.62,-428.19 1562.46,-426.67\"/>\n</g>\n<!-- 33 -->\n<g id=\"node34\" class=\"node\">\n<title>33</title>\n<polygon fill=\"#e58139\" stroke=\"black\" points=\"1729,-417.5 1616,-417.5 1616,-349.5 1729,-349.5 1729,-417.5\"/>\n<text text-anchor=\"middle\" x=\"1672.5\" y=\"-402.3\" font-family=\"Times New Roman,serif\" font-size=\"14.00\">gini = 0.0</text>\n<text text-anchor=\"middle\" x=\"1672.5\" y=\"-387.3\" font-family=\"Times New Roman,serif\" font-size=\"14.00\">samples = 17</text>\n<text text-anchor=\"middle\" x=\"1672.5\" y=\"-372.3\" font-family=\"Times New Roman,serif\" font-size=\"14.00\">value = [17, 0]</text>\n<text text-anchor=\"middle\" x=\"1672.5\" y=\"-357.3\" font-family=\"Times New Roman,serif\" font-size=\"14.00\">class = malignant</text>\n</g>\n<!-- 31&#45;&gt;33 -->\n<g id=\"edge33\" class=\"edge\">\n<title>31&#45;&gt;33</title>\n<path fill=\"none\" stroke=\"black\" d=\"M1609.15,-460.91C1618.67,-449.43 1629.03,-436.94 1638.56,-425.44\"/>\n<polygon fill=\"black\" stroke=\"black\" points=\"1641.31,-427.6 1645,-417.67 1635.93,-423.13 1641.31,-427.6\"/>\n</g>\n<!-- 35 -->\n<g id=\"node36\" class=\"node\">\n<title>35</title>\n<polygon fill=\"#f5d0b5\" stroke=\"black\" points=\"1867.5,-663 1723.5,-663 1723.5,-580 1867.5,-580 1867.5,-663\"/>\n<text text-anchor=\"middle\" x=\"1795.5\" y=\"-647.8\" font-family=\"Times New Roman,serif\" font-size=\"14.00\">worst texture &lt;= 28.97</text>\n<text text-anchor=\"middle\" x=\"1795.5\" y=\"-632.8\" font-family=\"Times New Roman,serif\" font-size=\"14.00\">gini = 0.473</text>\n<text text-anchor=\"middle\" x=\"1795.5\" y=\"-617.8\" font-family=\"Times New Roman,serif\" font-size=\"14.00\">samples = 13</text>\n<text text-anchor=\"middle\" x=\"1795.5\" y=\"-602.8\" font-family=\"Times New Roman,serif\" font-size=\"14.00\">value = [8, 5]</text>\n<text text-anchor=\"middle\" x=\"1795.5\" y=\"-587.8\" font-family=\"Times New Roman,serif\" font-size=\"14.00\">class = malignant</text>\n</g>\n<!-- 34&#45;&gt;35 -->\n<g id=\"edge35\" class=\"edge\">\n<title>34&#45;&gt;35</title>\n<path fill=\"none\" stroke=\"black\" d=\"M1795.5,-698.91C1795.5,-690.65 1795.5,-681.86 1795.5,-673.3\"/>\n<polygon fill=\"black\" stroke=\"black\" points=\"1799,-673.02 1795.5,-663.02 1792,-673.02 1799,-673.02\"/>\n</g>\n<!-- 40 -->\n<g id=\"node41\" class=\"node\">\n<title>40</title>\n<polygon fill=\"#e58139\" stroke=\"black\" points=\"1999,-655.5 1886,-655.5 1886,-587.5 1999,-587.5 1999,-655.5\"/>\n<text text-anchor=\"middle\" x=\"1942.5\" y=\"-640.3\" font-family=\"Times New Roman,serif\" font-size=\"14.00\">gini = 0.0</text>\n<text text-anchor=\"middle\" x=\"1942.5\" y=\"-625.3\" font-family=\"Times New Roman,serif\" font-size=\"14.00\">samples = 134</text>\n<text text-anchor=\"middle\" x=\"1942.5\" y=\"-610.3\" font-family=\"Times New Roman,serif\" font-size=\"14.00\">value = [134, 0]</text>\n<text text-anchor=\"middle\" x=\"1942.5\" y=\"-595.3\" font-family=\"Times New Roman,serif\" font-size=\"14.00\">class = malignant</text>\n</g>\n<!-- 34&#45;&gt;40 -->\n<g id=\"edge40\" class=\"edge\">\n<title>34&#45;&gt;40</title>\n<path fill=\"none\" stroke=\"black\" d=\"M1846.5,-698.91C1861.47,-686.99 1877.83,-673.98 1892.72,-662.12\"/>\n<polygon fill=\"black\" stroke=\"black\" points=\"1895.18,-664.63 1900.83,-655.67 1890.82,-659.16 1895.18,-664.63\"/>\n</g>\n<!-- 36 -->\n<g id=\"node37\" class=\"node\">\n<title>36</title>\n<polygon fill=\"#88c4ef\" stroke=\"black\" points=\"1876,-544 1715,-544 1715,-461 1876,-461 1876,-544\"/>\n<text text-anchor=\"middle\" x=\"1795.5\" y=\"-528.8\" font-family=\"Times New Roman,serif\" font-size=\"14.00\">worst symmetry &lt;= 0.313</text>\n<text text-anchor=\"middle\" x=\"1795.5\" y=\"-513.8\" font-family=\"Times New Roman,serif\" font-size=\"14.00\">gini = 0.408</text>\n<text text-anchor=\"middle\" x=\"1795.5\" y=\"-498.8\" font-family=\"Times New Roman,serif\" font-size=\"14.00\">samples = 7</text>\n<text text-anchor=\"middle\" x=\"1795.5\" y=\"-483.8\" font-family=\"Times New Roman,serif\" font-size=\"14.00\">value = [2, 5]</text>\n<text text-anchor=\"middle\" x=\"1795.5\" y=\"-468.8\" font-family=\"Times New Roman,serif\" font-size=\"14.00\">class = benign</text>\n</g>\n<!-- 35&#45;&gt;36 -->\n<g id=\"edge36\" class=\"edge\">\n<title>35&#45;&gt;36</title>\n<path fill=\"none\" stroke=\"black\" d=\"M1795.5,-579.91C1795.5,-571.65 1795.5,-562.86 1795.5,-554.3\"/>\n<polygon fill=\"black\" stroke=\"black\" points=\"1799,-554.02 1795.5,-544.02 1792,-554.02 1799,-554.02\"/>\n</g>\n<!-- 39 -->\n<g id=\"node40\" class=\"node\">\n<title>39</title>\n<polygon fill=\"#e58139\" stroke=\"black\" points=\"2007,-536.5 1894,-536.5 1894,-468.5 2007,-468.5 2007,-536.5\"/>\n<text text-anchor=\"middle\" x=\"1950.5\" y=\"-521.3\" font-family=\"Times New Roman,serif\" font-size=\"14.00\">gini = 0.0</text>\n<text text-anchor=\"middle\" x=\"1950.5\" y=\"-506.3\" font-family=\"Times New Roman,serif\" font-size=\"14.00\">samples = 6</text>\n<text text-anchor=\"middle\" x=\"1950.5\" y=\"-491.3\" font-family=\"Times New Roman,serif\" font-size=\"14.00\">value = [6, 0]</text>\n<text text-anchor=\"middle\" x=\"1950.5\" y=\"-476.3\" font-family=\"Times New Roman,serif\" font-size=\"14.00\">class = malignant</text>\n</g>\n<!-- 35&#45;&gt;39 -->\n<g id=\"edge39\" class=\"edge\">\n<title>35&#45;&gt;39</title>\n<path fill=\"none\" stroke=\"black\" d=\"M1849.28,-579.91C1865.21,-567.88 1882.63,-554.73 1898.45,-542.79\"/>\n<polygon fill=\"black\" stroke=\"black\" points=\"1900.69,-545.49 1906.56,-536.67 1896.47,-539.9 1900.69,-545.49\"/>\n</g>\n<!-- 37 -->\n<g id=\"node38\" class=\"node\">\n<title>37</title>\n<polygon fill=\"#399de5\" stroke=\"black\" points=\"1844,-417.5 1747,-417.5 1747,-349.5 1844,-349.5 1844,-417.5\"/>\n<text text-anchor=\"middle\" x=\"1795.5\" y=\"-402.3\" font-family=\"Times New Roman,serif\" font-size=\"14.00\">gini = 0.0</text>\n<text text-anchor=\"middle\" x=\"1795.5\" y=\"-387.3\" font-family=\"Times New Roman,serif\" font-size=\"14.00\">samples = 5</text>\n<text text-anchor=\"middle\" x=\"1795.5\" y=\"-372.3\" font-family=\"Times New Roman,serif\" font-size=\"14.00\">value = [0, 5]</text>\n<text text-anchor=\"middle\" x=\"1795.5\" y=\"-357.3\" font-family=\"Times New Roman,serif\" font-size=\"14.00\">class = benign</text>\n</g>\n<!-- 36&#45;&gt;37 -->\n<g id=\"edge37\" class=\"edge\">\n<title>36&#45;&gt;37</title>\n<path fill=\"none\" stroke=\"black\" d=\"M1795.5,-460.91C1795.5,-450.2 1795.5,-438.62 1795.5,-427.78\"/>\n<polygon fill=\"black\" stroke=\"black\" points=\"1799,-427.67 1795.5,-417.67 1792,-427.67 1799,-427.67\"/>\n</g>\n<!-- 38 -->\n<g id=\"node39\" class=\"node\">\n<title>38</title>\n<polygon fill=\"#e58139\" stroke=\"black\" points=\"1975,-417.5 1862,-417.5 1862,-349.5 1975,-349.5 1975,-417.5\"/>\n<text text-anchor=\"middle\" x=\"1918.5\" y=\"-402.3\" font-family=\"Times New Roman,serif\" font-size=\"14.00\">gini = 0.0</text>\n<text text-anchor=\"middle\" x=\"1918.5\" y=\"-387.3\" font-family=\"Times New Roman,serif\" font-size=\"14.00\">samples = 2</text>\n<text text-anchor=\"middle\" x=\"1918.5\" y=\"-372.3\" font-family=\"Times New Roman,serif\" font-size=\"14.00\">value = [2, 0]</text>\n<text text-anchor=\"middle\" x=\"1918.5\" y=\"-357.3\" font-family=\"Times New Roman,serif\" font-size=\"14.00\">class = malignant</text>\n</g>\n<!-- 36&#45;&gt;38 -->\n<g id=\"edge38\" class=\"edge\">\n<title>36&#45;&gt;38</title>\n<path fill=\"none\" stroke=\"black\" d=\"M1838.17,-460.91C1850.47,-449.21 1863.88,-436.46 1876.15,-424.78\"/>\n<polygon fill=\"black\" stroke=\"black\" points=\"1878.8,-427.1 1883.63,-417.67 1873.97,-422.02 1878.8,-427.1\"/>\n</g>\n</g>\n</svg>\n",
      "text/plain": [
       "<graphviz.sources.Source at 0x2a262552220>"
      ]
     },
     "execution_count": 21,
     "metadata": {},
     "output_type": "execute_result"
    }
   ],
   "source": [
    "import graphviz\n",
    "\n",
    "# 위에서 생성된 tree.dot 파일을 Graphviz 읽어서 Jupyter Notebook상에서 시각화 \n",
    "# with open : \"파일을 읽겠다\"\n",
    "with open(\"tree.dot\") as f:\n",
    "    dot_graph = f.read()\n",
    "\n",
    "# graphviz.Source 메소드로 dot_graph 읽기\n",
    "graphviz.Source(dot_graph)"
   ]
  },
  {
   "cell_type": "markdown",
   "id": "7c1f8644",
   "metadata": {},
   "source": [
    "## 디시젼트리 피처 중요도 파악"
   ]
  },
  {
   "cell_type": "code",
   "execution_count": 22,
   "id": "27e8484e",
   "metadata": {},
   "outputs": [],
   "source": [
    "import seaborn as sns\n",
    "import numpy as np\n",
    "%matplotlib inline"
   ]
  },
  {
   "cell_type": "code",
   "execution_count": 23,
   "id": "72c50a4e",
   "metadata": {},
   "outputs": [
    {
     "data": {
      "text/plain": [
       "array(['mean radius', 'mean texture', 'mean perimeter', 'mean area',\n",
       "       'mean smoothness', 'mean compactness', 'mean concavity',\n",
       "       'mean concave points', 'mean symmetry', 'mean fractal dimension',\n",
       "       'radius error', 'texture error', 'perimeter error', 'area error',\n",
       "       'smoothness error', 'compactness error', 'concavity error',\n",
       "       'concave points error', 'symmetry error',\n",
       "       'fractal dimension error', 'worst radius', 'worst texture',\n",
       "       'worst perimeter', 'worst area', 'worst smoothness',\n",
       "       'worst compactness', 'worst concavity', 'worst concave points',\n",
       "       'worst symmetry', 'worst fractal dimension'], dtype='<U23')"
      ]
     },
     "execution_count": 23,
     "metadata": {},
     "output_type": "execute_result"
    }
   ],
   "source": [
    "# cancer 데이터의 피처 확인\n",
    "cancer.feature_names"
   ]
  },
  {
   "cell_type": "code",
   "execution_count": 24,
   "id": "8cf88804",
   "metadata": {},
   "outputs": [
    {
     "data": {
      "text/plain": [
       "array([0.        , 0.05073845, 0.        , 0.        , 0.        ,\n",
       "       0.        , 0.        , 0.04122114, 0.00859001, 0.        ,\n",
       "       0.        , 0.        , 0.        , 0.01807183, 0.        ,\n",
       "       0.00465292, 0.        , 0.        , 0.00398822, 0.00121612,\n",
       "       0.        , 0.05921448, 0.68820526, 0.        , 0.        ,\n",
       "       0.        , 0.        , 0.1108075 , 0.01329406, 0.        ])"
      ]
     },
     "execution_count": 24,
     "metadata": {},
     "output_type": "execute_result"
    }
   ],
   "source": [
    "# 피처에 대한 각각의 feature importance 확인\n",
    "dt_clf.feature_importances_"
   ]
  },
  {
   "cell_type": "code",
   "execution_count": 25,
   "id": "c50328bf",
   "metadata": {},
   "outputs": [
    {
     "name": "stdout",
     "output_type": "stream",
     "text": [
      "Feature importances:\n",
      "[0.    0.051 0.    0.    0.    0.    0.    0.041 0.009 0.    0.    0.\n",
      " 0.    0.018 0.    0.005 0.    0.    0.004 0.001 0.    0.059 0.688 0.\n",
      " 0.    0.    0.    0.111 0.013 0.   ]\n"
     ]
    }
   ],
   "source": [
    "# feature importance 소수 3째 자리까지\n",
    "print(\"Feature importances:\\n{0}\".format(np.round(dt_clf.feature_importances_, 3)))"
   ]
  },
  {
   "cell_type": "code",
   "execution_count": 26,
   "id": "dd17ebe8",
   "metadata": {
    "scrolled": true
   },
   "outputs": [
    {
     "name": "stdout",
     "output_type": "stream",
     "text": [
      "mean radius : 0.000\n",
      "mean texture : 0.051\n",
      "mean perimeter : 0.000\n",
      "mean area : 0.000\n",
      "mean smoothness : 0.000\n",
      "mean compactness : 0.000\n",
      "mean concavity : 0.000\n",
      "mean concave points : 0.041\n",
      "mean symmetry : 0.009\n",
      "mean fractal dimension : 0.000\n",
      "radius error : 0.000\n",
      "texture error : 0.000\n",
      "perimeter error : 0.000\n",
      "area error : 0.018\n",
      "smoothness error : 0.000\n",
      "compactness error : 0.005\n",
      "concavity error : 0.000\n",
      "concave points error : 0.000\n",
      "symmetry error : 0.004\n",
      "fractal dimension error : 0.001\n",
      "worst radius : 0.000\n",
      "worst texture : 0.059\n",
      "worst perimeter : 0.688\n",
      "worst area : 0.000\n",
      "worst smoothness : 0.000\n",
      "worst compactness : 0.000\n",
      "worst concavity : 0.000\n",
      "worst concave points : 0.111\n",
      "worst symmetry : 0.013\n",
      "worst fractal dimension : 0.000\n"
     ]
    },
    {
     "data": {
      "text/plain": [
       "<AxesSubplot:>"
      ]
     },
     "execution_count": 26,
     "metadata": {},
     "output_type": "execute_result"
    },
    {
     "data": {
      "image/png": "[encoded data removed]",
      "text/plain": [
       "<Figure size 1080x576 with 1 Axes>"
      ]
     },
     "metadata": {},
     "output_type": "display_data"
    }
   ],
   "source": [
    "# feature별 importance 매핑\n",
    "for name, value in zip(cancer.feature_names , dt_clf.feature_importances_):\n",
    "    print('{0} : {1:.3f}'.format(name, value))\n",
    "\n",
    "# feature importance를 column 별로 시각화 하기 \n",
    "sns.set(rc = {'figure.figsize':(15,8)})\n",
    "sns.barplot(x=dt_clf.feature_importances_ , y=cancer.feature_names)"
   ]
  },
  {
   "cell_type": "code",
   "execution_count": 27,
   "id": "7382c17b",
   "metadata": {},
   "outputs": [
    {
     "name": "stdout",
     "output_type": "stream",
     "text": [
      "DecisionTreeClassifier 기본 하이퍼 파라미터:\n",
      " {'ccp_alpha': 0.0, 'class_weight': None, 'criterion': 'gini', 'max_depth': None, 'max_features': None, 'max_leaf_nodes': None, 'min_impurity_decrease': 0.0, 'min_impurity_split': None, 'min_samples_leaf': 1, 'min_samples_split': 2, 'min_weight_fraction_leaf': 0.0, 'random_state': 11, 'splitter': 'best'}\n"
     ]
    }
   ],
   "source": [
    "print('DecisionTreeClassifier 기본 하이퍼 파라미터:\\n', dt_clf.get_params())"
   ]
  },
  {
   "cell_type": "code",
   "execution_count": 28,
   "id": "57d9fca7",
   "metadata": {},
   "outputs": [
    {
     "name": "stdout",
     "output_type": "stream",
     "text": [
      "예측 정확도: 0.9649\n"
     ]
    }
   ],
   "source": [
    "from sklearn.metrics import accuracy_score\n",
    "print('예측 정확도: {0:.4f}'.format(accuracy_score(y_test, pred)))"
   ]
  },
  {
   "cell_type": "raw",
   "id": "30ed2826",
   "metadata": {},
   "source": [
    "-> GridSearchCV를 적용하기 전 모델의 정확도는 0.9474\n",
    "GridSearchCV를 적용해서 하이퍼 파라미터 튜닝을 하면 정확도가 올라갈까?"
   ]
  },
  {
   "cell_type": "code",
   "execution_count": null,
   "id": "a4f73f20",
   "metadata": {},
   "outputs": [],
   "source": []
  },
  {
   "cell_type": "markdown",
   "id": "65e3d36d",
   "metadata": {},
   "source": [
    "# GridSearchCV로 DecisionTreeClassifier 하이퍼 파라미터 튜닝"
   ]
  },
  {
   "cell_type": "code",
   "execution_count": 29,
   "id": "58d289fb",
   "metadata": {},
   "outputs": [
    {
     "name": "stdout",
     "output_type": "stream",
     "text": [
      "Fitting 5 folds for each of 8 candidates, totalling 40 fits\n",
      "GridSearchCV 최고 평균 정확도 수치:0.9275\n",
      "GridSearchCV 최적 하이퍼 파라미터: {'max_depth': 8}\n",
      "Wall time: 187 ms\n"
     ]
    }
   ],
   "source": [
    "%%time\n",
    "from sklearn.model_selection import GridSearchCV\n",
    "\n",
    "params = {\n",
    "    'max_depth' : [4, 6, 8 ,10, 12, 16 ,20, 24]\n",
    "}\n",
    "\n",
    "grid_cv = GridSearchCV(dt_clf, param_grid=params, scoring='accuracy', cv=5, verbose=1)\n",
    "grid_cv.fit(X_train , y_train)\n",
    "print('GridSearchCV 최고 평균 정확도 수치:{0:.4f}'.format(grid_cv.best_score_))\n",
    "print('GridSearchCV 최적 하이퍼 파라미터:', grid_cv.best_params_)"
   ]
  },
  {
   "cell_type": "code",
   "execution_count": 30,
   "id": "fc2442a4",
   "metadata": {},
   "outputs": [
    {
     "data": {
      "text/plain": [
       "Index(['mean_fit_time', 'std_fit_time', 'mean_score_time', 'std_score_time',\n",
       "       'param_max_depth', 'params', 'split0_test_score', 'split1_test_score',\n",
       "       'split2_test_score', 'split3_test_score', 'split4_test_score',\n",
       "       'mean_test_score', 'std_test_score', 'rank_test_score'],\n",
       "      dtype='object')"
      ]
     },
     "execution_count": 30,
     "metadata": {},
     "output_type": "execute_result"
    }
   ],
   "source": [
    "# GridSearchCV객체의 cv_results_ 속성을 DataFrame으로 생성.\n",
    "cv_results_df = pd.DataFrame(grid_cv.cv_results_)\n",
    "cv_results_df.columns"
   ]
  },
  {
   "cell_type": "code",
   "execution_count": 31,
   "id": "241e417d",
   "metadata": {},
   "outputs": [
    {
     "data": {
      "text/html": [
       "<div>\n",
       "<style scoped>\n",
       "    .dataframe tbody tr th:only-of-type {\n",
       "        vertical-align: middle;\n",
       "    }\n",
       "\n",
       "    .dataframe tbody tr th {\n",
       "        vertical-align: top;\n",
       "    }\n",
       "\n",
       "    .dataframe thead th {\n",
       "        text-align: right;\n",
       "    }\n",
       "</style>\n",
       "<table border=\"1\" class=\"dataframe\">\n",
       "  <thead>\n",
       "    <tr style=\"text-align: right;\">\n",
       "      <th></th>\n",
       "      <th>param_max_depth</th>\n",
       "      <th>mean_test_score</th>\n",
       "      <th>rank_test_score</th>\n",
       "    </tr>\n",
       "  </thead>\n",
       "  <tbody>\n",
       "    <tr>\n",
       "      <th>2</th>\n",
       "      <td>8</td>\n",
       "      <td>0.927473</td>\n",
       "      <td>1</td>\n",
       "    </tr>\n",
       "    <tr>\n",
       "      <th>3</th>\n",
       "      <td>10</td>\n",
       "      <td>0.927473</td>\n",
       "      <td>1</td>\n",
       "    </tr>\n",
       "    <tr>\n",
       "      <th>4</th>\n",
       "      <td>12</td>\n",
       "      <td>0.927473</td>\n",
       "      <td>1</td>\n",
       "    </tr>\n",
       "    <tr>\n",
       "      <th>5</th>\n",
       "      <td>16</td>\n",
       "      <td>0.927473</td>\n",
       "      <td>1</td>\n",
       "    </tr>\n",
       "    <tr>\n",
       "      <th>6</th>\n",
       "      <td>20</td>\n",
       "      <td>0.927473</td>\n",
       "      <td>1</td>\n",
       "    </tr>\n",
       "    <tr>\n",
       "      <th>7</th>\n",
       "      <td>24</td>\n",
       "      <td>0.927473</td>\n",
       "      <td>1</td>\n",
       "    </tr>\n",
       "    <tr>\n",
       "      <th>1</th>\n",
       "      <td>6</td>\n",
       "      <td>0.925275</td>\n",
       "      <td>7</td>\n",
       "    </tr>\n",
       "    <tr>\n",
       "      <th>0</th>\n",
       "      <td>4</td>\n",
       "      <td>0.918681</td>\n",
       "      <td>8</td>\n",
       "    </tr>\n",
       "  </tbody>\n",
       "</table>\n",
       "</div>"
      ],
      "text/plain": [
       "  param_max_depth  mean_test_score  rank_test_score\n",
       "2               8         0.927473                1\n",
       "3              10         0.927473                1\n",
       "4              12         0.927473                1\n",
       "5              16         0.927473                1\n",
       "6              20         0.927473                1\n",
       "7              24         0.927473                1\n",
       "1               6         0.925275                7\n",
       "0               4         0.918681                8"
      ]
     },
     "execution_count": 31,
     "metadata": {},
     "output_type": "execute_result"
    }
   ],
   "source": [
    "# max_depth 파라미터 값과 그때의 테스트(Evaluation)셋, 학습 데이터 셋의 정확도 수치 추출\n",
    "result_rank = cv_results_df[['param_max_depth', 'mean_test_score', 'rank_test_score']]   # 리스트에서 'mean_train_score' 제거한 상태\n",
    "\n",
    "# test socre 순위 기준으로 정렬해보면 아래와 같다.\n",
    "result_rank.sort_values(by='rank_test_score')"
   ]
  },
  {
   "cell_type": "raw",
   "id": "b13b029f",
   "metadata": {},
   "source": [
    "-> 위에서는 검증 데이터셋으로 성능을 측정해본 것이고\n",
    "이제 테스트 데이터로 성능을 측정해보자"
   ]
  },
  {
   "cell_type": "code",
   "execution_count": 32,
   "id": "40f3c1d4",
   "metadata": {},
   "outputs": [
    {
     "name": "stdout",
     "output_type": "stream",
     "text": [
      "max_depth = 4 정확도: 0.9561\n",
      "max_depth = 6 정확도: 0.9561\n",
      "max_depth = 8 정확도: 0.9649\n",
      "max_depth = 10 정확도: 0.9649\n",
      "max_depth = 12 정확도: 0.9649\n",
      "max_depth = 16 정확도: 0.9649\n",
      "max_depth = 20 정확도: 0.9649\n"
     ]
    }
   ],
   "source": [
    "# max_depth 값을 변화 시키면서 그때마다 학습과 테스트 셋에서의 예측 성능 측정\n",
    "max_depths = [ 4, 6, 8 ,10, 12, 16 ,20 ]\n",
    "\n",
    "for depth in max_depths:\n",
    "    dt_clf = DecisionTreeClassifier(max_depth=depth, random_state=11)\n",
    "    dt_clf.fit(X_train , y_train)\n",
    "    pred = dt_clf.predict(X_test)\n",
    "    accuracy = accuracy_score(y_test , pred)\n",
    "    print('max_depth = {0} 정확도: {1:.4f}'.format(depth , accuracy))"
   ]
  },
  {
   "cell_type": "code",
   "execution_count": 33,
   "id": "449831fd",
   "metadata": {},
   "outputs": [
    {
     "name": "stdout",
     "output_type": "stream",
     "text": [
      "Fitting 5 folds for each of 36 candidates, totalling 180 fits\n",
      "GridSearchCV 최고 평균 정확도 수치: 0.9253 \n",
      "\n",
      "GridSearchCV 최적 하이퍼 파라미터: {'max_depth': 8, 'min_samples_split': 6}\n",
      "Wall time: 744 ms\n"
     ]
    }
   ],
   "source": [
    "%%time\n",
    "# min_samples_split 하이퍼 파라미터도 추가해서 GridSearchCV 수행 (수행시간 1~2분 정도)\n",
    "params = {\n",
    "    'max_depth' : [ 4, 6, 8 , 12, 16 , 20 ], \n",
    "    'min_samples_split' : [ 4, 6 , 8, 12, 16, 24 ],\n",
    "}\n",
    "\n",
    "grid_cv = GridSearchCV(dt_clf, param_grid=params, scoring='accuracy', cv=5, verbose=1 )\n",
    "\n",
    "grid_cv.fit(X_train , y_train)\n",
    "print('GridSearchCV 최고 평균 정확도 수치: {0:.4f}'.format(grid_cv.best_score_), '\\n')\n",
    "print('GridSearchCV 최적 하이퍼 파라미터:', grid_cv.best_params_)"
   ]
  },
  {
   "cell_type": "raw",
   "id": "ffcc4f42",
   "metadata": {},
   "source": [
    "-> 그리드서치로 찾아진 최적의 하이퍼 파라미터를 가진 모델을 가지고 테스트 데이터에 적용해보자."
   ]
  },
  {
   "cell_type": "code",
   "execution_count": 34,
   "id": "d5ec683c",
   "metadata": {},
   "outputs": [
    {
     "data": {
      "text/plain": [
       "DecisionTreeClassifier(max_depth=8, min_samples_split=6, random_state=11)"
      ]
     },
     "execution_count": 34,
     "metadata": {},
     "output_type": "execute_result"
    }
   ],
   "source": [
    "grid_cv.best_estimator_"
   ]
  },
  {
   "cell_type": "code",
   "execution_count": 35,
   "id": "fc82928b",
   "metadata": {},
   "outputs": [
    {
     "name": "stdout",
     "output_type": "stream",
     "text": [
      "결정 트리 예측 정확도:0.9561\n"
     ]
    }
   ],
   "source": [
    "best_df_clf = grid_cv.best_estimator_\n",
    "\n",
    "pred1 = best_df_clf.predict(X_test)\n",
    "accuracy = accuracy_score(y_test , pred1)\n",
    "print('결정 트리 예측 정확도:{0:.4f}'.format(accuracy))"
   ]
  },
  {
   "cell_type": "raw",
   "id": "ec5d48e0",
   "metadata": {},
   "source": [
    "-> 결론 : 그리드서치로 하이퍼 파라미터 튜닝을 했더니 기존의 정확도가 0.9474에서 0.9561로 상승했음을 볼 수 있다. "
   ]
  },
  {
   "cell_type": "code",
   "execution_count": 36,
   "id": "79fad5a3",
   "metadata": {},
   "outputs": [
    {
     "data": {
      "text/plain": [
       "array([0.        , 0.05097563, 0.        , 0.        , 0.        ,\n",
       "       0.        , 0.        , 0.03340011, 0.        , 0.        ,\n",
       "       0.        , 0.        , 0.        , 0.01815631, 0.00801373,\n",
       "       0.00863017, 0.        , 0.        , 0.00400686, 0.0012218 ,\n",
       "       0.        , 0.05949129, 0.6914224 , 0.        , 0.        ,\n",
       "       0.        , 0.        , 0.11132549, 0.01335621, 0.        ])"
      ]
     },
     "execution_count": 36,
     "metadata": {},
     "output_type": "execute_result"
    }
   ],
   "source": [
    "# 피처 중요도 확인해보기\n",
    "import seaborn as sns\n",
    "import matplotlib.pyplot as plt\n",
    "\n",
    "ftr_importances_values = best_df_clf.feature_importances_\n",
    "ftr_importances_values"
   ]
  },
  {
   "cell_type": "code",
   "execution_count": 37,
   "id": "2dcdec0c",
   "metadata": {},
   "outputs": [
    {
     "data": {
      "image/png": "[encoded data removed]",
      "text/plain": [
       "<Figure size 1080x576 with 1 Axes>"
      ]
     },
     "metadata": {},
     "output_type": "display_data"
    }
   ],
   "source": [
    "# Top 중요도로 정렬을 쉽게 하고, 시본(Seaborn)의 막대그래프로 쉽게 표현하기 위해 Series변환\n",
    "ftr_importances = pd.Series(ftr_importances_values, index= cancer.feature_names)\n",
    "\n",
    "# 중요도값 순으로 Series를 정렬. 피처는 중요도 상위 20개만 추출해서 정렬.\n",
    "ftr_top20 = ftr_importances.sort_values(ascending=False)[:20]\n",
    "\n",
    "plt.figure(figsize=(15, 8))\n",
    "plt.title('Feature importances Top 20')\n",
    "sns.barplot(x=ftr_top20 , y = ftr_top20.index)\n",
    "plt.show()"
   ]
  },
  {
   "cell_type": "code",
   "execution_count": null,
   "id": "2b40bc8e",
   "metadata": {},
   "outputs": [],
   "source": []
  },
  {
   "cell_type": "markdown",
   "id": "9c647e5d",
   "metadata": {},
   "source": [
    "## VotingClassifier로 로지스틱 회귀와 KNN을 보팅 방식으로 결합하고 단일 모델과 성능을 비교해보자"
   ]
  },
  {
   "cell_type": "code",
   "execution_count": 38,
   "id": "f576c5f7",
   "metadata": {},
   "outputs": [],
   "source": [
    "import pandas as pd\n",
    "\n",
    "from sklearn.ensemble import VotingClassifier # 앙상블 - 보팅\n",
    "from sklearn.linear_model import LogisticRegression # 분류 알고리즘\n",
    "from sklearn.neighbors import KNeighborsClassifier  # 분류 알고리즘 \n",
    "from sklearn.model_selection import train_test_split\n",
    "from sklearn.metrics import accuracy_score\n",
    "\n",
    "# 워닝 무시\n",
    "import warnings\n",
    "warnings.filterwarnings('ignore')"
   ]
  },
  {
   "cell_type": "code",
   "execution_count": 39,
   "id": "609a2489",
   "metadata": {},
   "outputs": [
    {
     "data": {
      "text/plain": [
       "VotingClassifier(estimators=[('LR', LogisticRegression()),\n",
       "                             ('KNN', KNeighborsClassifier(n_neighbors=8))],\n",
       "                 voting='soft')"
      ]
     },
     "execution_count": 39,
     "metadata": {},
     "output_type": "execute_result"
    }
   ],
   "source": [
    "# 개별 모델은 로지스틱 회귀와 KNN 임.\n",
    "lr_clf = LogisticRegression()\n",
    "knn_clf = KNeighborsClassifier(n_neighbors=8)\n",
    "\n",
    "# 개별 모델을 소프트 보팅 기반의 앙상블 모델로 구현한 분류기 \n",
    "vo_clf = VotingClassifier( estimators=[('LR', lr_clf),('KNN', knn_clf)] , voting='soft')\n",
    "vo_clf"
   ]
  },
  {
   "cell_type": "code",
   "execution_count": 40,
   "id": "6e39fe14",
   "metadata": {},
   "outputs": [
    {
     "name": "stdout",
     "output_type": "stream",
     "text": [
      "Voting 분류기 정확도: 0.9737\n"
     ]
    }
   ],
   "source": [
    "# VotingClassifier 학습/예측/평가. \n",
    "vo_clf.fit(X_train , y_train)\n",
    "pred = vo_clf.predict(X_test)\n",
    "print('Voting 분류기 정확도: {0:.4f}'.format(accuracy_score(y_test , pred)))"
   ]
  },
  {
   "cell_type": "code",
   "execution_count": 41,
   "id": "029191ed",
   "metadata": {},
   "outputs": [
    {
     "name": "stdout",
     "output_type": "stream",
     "text": [
      "LogisticRegression 정확도: 0.9474\n",
      "KNeighborsClassifier 정확도: 0.9561\n"
     ]
    }
   ],
   "source": [
    "# 개별 모델의 학습/예측/평가.\n",
    "classifiers = [lr_clf, knn_clf]\n",
    "\n",
    "for classifier in classifiers:\n",
    "    classifier.fit(X_train , y_train)\n",
    "    pred = classifier.predict(X_test)\n",
    "    class_name= classifier.__class__.__name__  # classifier 이름확인하는 방법\n",
    "    print('{0} 정확도: {1:.4f}'.format(class_name, accuracy_score(y_test , pred)))"
   ]
  },
  {
   "cell_type": "code",
   "execution_count": null,
   "id": "95c9084b",
   "metadata": {},
   "outputs": [],
   "source": []
  },
  {
   "cell_type": "markdown",
   "id": "1738902e",
   "metadata": {},
   "source": [
    "# Random Forest"
   ]
  },
  {
   "cell_type": "code",
   "execution_count": 42,
   "id": "da3fe1e7",
   "metadata": {},
   "outputs": [],
   "source": [
    "from sklearn.ensemble import RandomForestClassifier"
   ]
  },
  {
   "cell_type": "code",
   "execution_count": 43,
   "id": "d07d7aa9",
   "metadata": {},
   "outputs": [
    {
     "name": "stdout",
     "output_type": "stream",
     "text": [
      "랜덤 포레스트 정확도: 0.9825\n"
     ]
    }
   ],
   "source": [
    "# 랜덤 포레스트 학습 및 별도의 테스트 셋으로 예측 성능 평가\n",
    "rf_clf = RandomForestClassifier(random_state=11, max_depth=10) \n",
    "# (default) min_samples_leaf=1, min_samples_split=2\n",
    "\n",
    "rf_clf.fit(X_train , y_train)\n",
    "pred = rf_clf.predict(X_test)\n",
    "accuracy = accuracy_score(y_test , pred)\n",
    "print('랜덤 포레스트 정확도: {0:.4f}'.format(accuracy))"
   ]
  },
  {
   "cell_type": "code",
   "execution_count": null,
   "id": "cf3cd47a",
   "metadata": {},
   "outputs": [],
   "source": []
  },
  {
   "cell_type": "markdown",
   "id": "80220f31",
   "metadata": {},
   "source": [
    "## GridSearchCV 로 교차검증 및 하이퍼 파라미터 튜닝"
   ]
  },
  {
   "cell_type": "code",
   "execution_count": 44,
   "id": "59ef8feb",
   "metadata": {},
   "outputs": [
    {
     "name": "stdout",
     "output_type": "stream",
     "text": [
      "최적 하이퍼 파라미터:\n",
      " {'max_depth': 6, 'min_samples_leaf': 1, 'min_samples_split': 2, 'n_estimators': 100}\n",
      "최고 예측 정확도: 0.9538\n",
      "Wall time: 6.14 s\n"
     ]
    }
   ],
   "source": [
    "%%time\n",
    "from sklearn.model_selection import GridSearchCV\n",
    "\n",
    "params = {\n",
    "    'n_estimators':[100],\n",
    "    'max_depth' : [6, 8, 10, 12],\n",
    "    'min_samples_leaf' :  [1, 8, 12, 18],\n",
    "    'min_samples_split' : [2, 8, 16, 20]\n",
    "}\n",
    "\n",
    "# RandomForestClassifier 객체 생성 후 GridSearchCV 수행\n",
    "rf_clf = RandomForestClassifier(random_state=11, n_jobs=-1)  # n_jobs=-1 : 컴퓨터의 모든 코어를 다 사용해라\n",
    "                                                           # https://aimb.tistory.com/150\n",
    "# 그리드서치 수행\n",
    "# # n_jobs=-1  : 전체 cpu core를 사용해라.\n",
    "grid_cv = GridSearchCV(rf_clf , param_grid=params , cv=2, n_jobs=-1)\n",
    "grid_cv.fit(X_train , y_train)\n",
    "\n",
    "print('최적 하이퍼 파라미터:\\n', grid_cv.best_params_)\n",
    "print('최고 예측 정확도: {0:.4f}'.format(grid_cv.best_score_))"
   ]
  },
  {
   "cell_type": "code",
   "execution_count": null,
   "id": "13bb9b40",
   "metadata": {},
   "outputs": [],
   "source": []
  },
  {
   "cell_type": "markdown",
   "id": "bdfe9027",
   "metadata": {},
   "source": [
    "## 튜닝된 하이퍼 파라미터로 랜덤포레스트 재학습/예측/평가"
   ]
  },
  {
   "cell_type": "code",
   "execution_count": 45,
   "id": "7efabf5c",
   "metadata": {},
   "outputs": [
    {
     "name": "stdout",
     "output_type": "stream",
     "text": [
      "예측 정확도: 0.9825\n"
     ]
    }
   ],
   "source": [
    "# n_estimators(결정 트리 개수)는 300으로 늘린다.\n",
    "rf_clf1 = RandomForestClassifier(n_estimators=300, max_depth=10, min_samples_leaf=8, \\\n",
    "                                 min_samples_split=2, random_state=11)\n",
    "rf_clf1.fit(X_train , y_train)\n",
    "pred = rf_clf1.predict(X_test)\n",
    "print('예측 정확도: {0:.4f}'.format(accuracy_score(y_test , pred)))"
   ]
  },
  {
   "cell_type": "raw",
   "id": "1aecf569",
   "metadata": {},
   "source": [
    "-> 랜덤포레스트의 정확도는 0.9825"
   ]
  },
  {
   "cell_type": "code",
   "execution_count": 46,
   "id": "96bcc991",
   "metadata": {},
   "outputs": [
    {
     "data": {
      "image/png": "[encoded data removed]",
      "text/plain": [
       "<Figure size 576x432 with 1 Axes>"
      ]
     },
     "metadata": {
      "needs_background": "light"
     },
     "output_type": "display_data"
    }
   ],
   "source": [
    "import matplotlib.pyplot as plt\n",
    "import seaborn as sns\n",
    "%matplotlib inline\n",
    "\n",
    "ftr_importances_values = rf_clf1.feature_importances_\n",
    "ftr_importances = pd.Series(ftr_importances_values, index= cancer.feature_names )\n",
    "\n",
    "# 중요도가 높은 20개의 피처들만 확인\n",
    "ftr_top20 = ftr_importances.sort_values(ascending=False)[:20]\n",
    "\n",
    "plt.figure(figsize=(8,6))\n",
    "plt.title('Feature importances Top 20')\n",
    "sns.barplot(x=ftr_top20 , y = ftr_top20.index)\n",
    "plt.show()"
   ]
  },
  {
   "cell_type": "code",
   "execution_count": null,
   "id": "bd44d3c8",
   "metadata": {},
   "outputs": [],
   "source": []
  },
  {
   "cell_type": "markdown",
   "id": "7eaf5c05",
   "metadata": {},
   "source": [
    "## GBM(Gradient Boosting Machine)"
   ]
  },
  {
   "cell_type": "code",
   "execution_count": 47,
   "id": "50a5b628",
   "metadata": {},
   "outputs": [],
   "source": [
    "# 수행시간 약 8분\n",
    "from sklearn.ensemble import GradientBoostingClassifier\n",
    "import time\n",
    "\n",
    "# 워닝 무시\n",
    "import warnings\n",
    "warnings.filterwarnings('ignore')\n",
    "\n",
    "# GBM 수행 시간 측정을 위함. 시작 시간 설정.\n",
    "start_time = time.time()\n",
    "\n",
    "# GBM 클래스 객체 생성\n",
    "gb_clf = GradientBoostingClassifier(random_state=15)   # n_estimators = 100(default)"
   ]
  },
  {
   "cell_type": "code",
   "execution_count": 48,
   "id": "eee9627b",
   "metadata": {},
   "outputs": [
    {
     "name": "stdout",
     "output_type": "stream",
     "text": [
      "GBM 정확도: 0.9825\n",
      "GBM 수행 시간: 0.3 초 \n"
     ]
    }
   ],
   "source": [
    "# 학습\n",
    "gb_clf.fit(X_train , y_train)\n",
    "\n",
    "# 예측\n",
    "gb_pred = gb_clf.predict(X_test)\n",
    "\n",
    "# 평가\n",
    "gb_accuracy = accuracy_score(y_test, gb_pred)\n",
    "\n",
    "print('GBM 정확도: {0:.4f}'.format(gb_accuracy))\n",
    "print(\"GBM 수행 시간: {0:.1f} 초 \".format(time.time() - start_time))  # 약 8분"
   ]
  },
  {
   "cell_type": "code",
   "execution_count": 49,
   "id": "90fcb272",
   "metadata": {},
   "outputs": [
    {
     "name": "stdout",
     "output_type": "stream",
     "text": [
      "Fitting 2 folds for each of 4 candidates, totalling 8 fits\n",
      "최적 하이퍼 파라미터:\n",
      " {'learning_rate': 0.05, 'n_estimators': 100}\n",
      "최고 예측 정확도: 0.9450\n",
      "학습에 걸린 시간: \n"
     ]
    }
   ],
   "source": [
    "# 수행시간 - n_jobs defalut : \n",
    "#          n_jobs=-1 : 약 \n",
    "# 그리드서치 수행\n",
    "\n",
    "from sklearn.model_selection import GridSearchCV\n",
    "\n",
    "start_time = time.time()\n",
    "params = {\n",
    "    'n_estimators':[100, 500],\n",
    "    'learning_rate' : [0.05, 0.1]\n",
    "}\n",
    "\n",
    "grid_cv = GridSearchCV(gb_clf , param_grid=params , cv=2 ,verbose=1, n_jobs=-1)\n",
    "grid_cv.fit(X_train , y_train)\n",
    "print('최적 하이퍼 파라미터:\\n', grid_cv.best_params_)\n",
    "print('최고 예측 정확도: {0:.4f}'.format(grid_cv.best_score_))\n",
    "print(\"학습에 걸린 시간: \".format(time.time() - start_time))"
   ]
  },
  {
   "cell_type": "code",
   "execution_count": 50,
   "id": "9fb5b84f",
   "metadata": {},
   "outputs": [
    {
     "data": {
      "text/html": [
       "<div>\n",
       "<style scoped>\n",
       "    .dataframe tbody tr th:only-of-type {\n",
       "        vertical-align: middle;\n",
       "    }\n",
       "\n",
       "    .dataframe tbody tr th {\n",
       "        vertical-align: top;\n",
       "    }\n",
       "\n",
       "    .dataframe thead th {\n",
       "        text-align: right;\n",
       "    }\n",
       "</style>\n",
       "<table border=\"1\" class=\"dataframe\">\n",
       "  <thead>\n",
       "    <tr style=\"text-align: right;\">\n",
       "      <th></th>\n",
       "      <th>params</th>\n",
       "      <th>mean_test_score</th>\n",
       "      <th>rank_test_score</th>\n",
       "      <th>split0_test_score</th>\n",
       "      <th>split1_test_score</th>\n",
       "    </tr>\n",
       "  </thead>\n",
       "  <tbody>\n",
       "    <tr>\n",
       "      <th>0</th>\n",
       "      <td>{'learning_rate': 0.05, 'n_estimators': 100}</td>\n",
       "      <td>0.945011</td>\n",
       "      <td>1</td>\n",
       "      <td>0.964912</td>\n",
       "      <td>0.925110</td>\n",
       "    </tr>\n",
       "    <tr>\n",
       "      <th>1</th>\n",
       "      <td>{'learning_rate': 0.05, 'n_estimators': 500}</td>\n",
       "      <td>0.940654</td>\n",
       "      <td>2</td>\n",
       "      <td>0.942982</td>\n",
       "      <td>0.938326</td>\n",
       "    </tr>\n",
       "    <tr>\n",
       "      <th>2</th>\n",
       "      <td>{'learning_rate': 0.1, 'n_estimators': 100}</td>\n",
       "      <td>0.940625</td>\n",
       "      <td>3</td>\n",
       "      <td>0.956140</td>\n",
       "      <td>0.925110</td>\n",
       "    </tr>\n",
       "    <tr>\n",
       "      <th>3</th>\n",
       "      <td>{'learning_rate': 0.1, 'n_estimators': 500}</td>\n",
       "      <td>0.938442</td>\n",
       "      <td>4</td>\n",
       "      <td>0.947368</td>\n",
       "      <td>0.929515</td>\n",
       "    </tr>\n",
       "  </tbody>\n",
       "</table>\n",
       "</div>"
      ],
      "text/plain": [
       "                                         params  mean_test_score  \\\n",
       "0  {'learning_rate': 0.05, 'n_estimators': 100}         0.945011   \n",
       "1  {'learning_rate': 0.05, 'n_estimators': 500}         0.940654   \n",
       "2   {'learning_rate': 0.1, 'n_estimators': 100}         0.940625   \n",
       "3   {'learning_rate': 0.1, 'n_estimators': 500}         0.938442   \n",
       "\n",
       "   rank_test_score  split0_test_score  split1_test_score  \n",
       "0                1           0.964912           0.925110  \n",
       "1                2           0.942982           0.938326  \n",
       "2                3           0.956140           0.925110  \n",
       "3                4           0.947368           0.929515  "
      ]
     },
     "execution_count": 50,
     "metadata": {},
     "output_type": "execute_result"
    }
   ],
   "source": [
    "# 그리드서치 결과 보기\n",
    "scores_df = pd.DataFrame(grid_cv.cv_results_)\n",
    "scores_df[['params', 'mean_test_score', 'rank_test_score',\n",
    "'split0_test_score', 'split1_test_score']]"
   ]
  },
  {
   "cell_type": "code",
   "execution_count": 51,
   "id": "e5c9148b",
   "metadata": {},
   "outputs": [
    {
     "name": "stdout",
     "output_type": "stream",
     "text": [
      "GBM 정확도: 0.9912\n"
     ]
    }
   ],
   "source": [
    "# GridSearchCV를 이용하여 최적으로 학습된 estimator로 predict 수행. \n",
    "gb_pred = grid_cv.best_estimator_.predict(X_test)\n",
    "gb_accuracy = accuracy_score(y_test, gb_pred)\n",
    "print('GBM 정확도: {0:.4f}'.format(gb_accuracy))"
   ]
  },
  {
   "cell_type": "raw",
   "id": "07fa689f",
   "metadata": {},
   "source": [
    "-> GBM의 정확도는 0.9825 로 랜덤포레스트의 0.9825와 같다\n",
    "    원래는 GBM이 오랜 시간이 걸리는만큼 정확도가 더 높다.\n",
    "    시드값을 동일한 11이 아닌 15로 주고 그리드서치 수행하면\n",
    "    정확도가 0.9912로 랜덤포레스트보다 높다."
   ]
  },
  {
   "cell_type": "code",
   "execution_count": null,
   "id": "abe719f7",
   "metadata": {},
   "outputs": [],
   "source": []
  },
  {
   "cell_type": "markdown",
   "id": "bee85963",
   "metadata": {},
   "source": [
    "## XGBoost"
   ]
  },
  {
   "cell_type": "markdown",
   "id": "b52685a1",
   "metadata": {},
   "source": [
    "### case1. python wrapper xgb"
   ]
  },
  {
   "cell_type": "code",
   "execution_count": 52,
   "id": "69b1a6bd",
   "metadata": {},
   "outputs": [],
   "source": [
    "import xgboost as xgb   # Python wrapper xgb\n",
    "from xgboost import plot_importance"
   ]
  },
  {
   "cell_type": "code",
   "execution_count": 53,
   "id": "2462c211",
   "metadata": {},
   "outputs": [],
   "source": [
    "# Python Wrapper XGBoost - 학습과 예측 데이터 세트를 DMatrix로 변환 필요\n",
    "dtrain = xgb.DMatrix(data=X_train , label=y_train)\n",
    "dtest = xgb.DMatrix(data=X_test , label=y_test)"
   ]
  },
  {
   "cell_type": "markdown",
   "id": "b7ea5ba0",
   "metadata": {},
   "source": [
    "** 하이퍼 파라미터 설정 **"
   ]
  },
  {
   "cell_type": "code",
   "execution_count": 54,
   "id": "4c4c0787",
   "metadata": {},
   "outputs": [],
   "source": [
    "params = { 'max_depth':3,\n",
    "           'eta': 0.1,   # 학습률(0.1 ~ 0.01)\n",
    "           'objective':'binary:logistic',  # 예측 결정 함수 : 이진 분류\n",
    "           'eval_metric':'logloss',  #평가지표 : logloss\n",
    "           'early_stoppings':100   # 100번동안 성능향상 없으면 학습 조기종료\n",
    "        }\n",
    "\n",
    "# 학습 횟수\n",
    "num_rounds = 400"
   ]
  },
  {
   "cell_type": "code",
   "execution_count": 55,
   "id": "1504f596",
   "metadata": {},
   "outputs": [
    {
     "name": "stdout",
     "output_type": "stream",
     "text": [
      "[11:29:54] WARNING: C:/Users/Administrator/workspace/xgboost-win64_release_1.5.1/src/learner.cc:576: \n",
      "Parameters: { \"early_stoppings\" } might not be used.\n",
      "\n",
      "  This could be a false alarm, with some parameters getting used by language bindings but\n",
      "  then being mistakenly passed down to XGBoost core, or some parameter actually being used\n",
      "  but getting flagged wrongly here. Please open an issue if you find any such cases.\n",
      "\n",
      "\n",
      "[0]\ttrain-logloss:0.61325\teval-logloss:0.61282\n",
      "[1]\ttrain-logloss:0.54348\teval-logloss:0.54112\n",
      "[2]\ttrain-logloss:0.48665\teval-logloss:0.48139\n",
      "[3]\ttrain-logloss:0.43676\teval-logloss:0.42984\n",
      "[4]\ttrain-logloss:0.39648\teval-logloss:0.38936\n",
      "[5]\ttrain-logloss:0.36053\teval-logloss:0.35109\n",
      "[6]\ttrain-logloss:0.32853\teval-logloss:0.32014\n",
      "[7]\ttrain-logloss:0.29896\teval-logloss:0.29190\n",
      "[8]\ttrain-logloss:0.27343\teval-logloss:0.26556\n",
      "[9]\ttrain-logloss:0.25042\teval-logloss:0.24385\n",
      "[10]\ttrain-logloss:0.23213\teval-logloss:0.22614\n",
      "[11]\ttrain-logloss:0.21369\teval-logloss:0.21025\n",
      "[12]\ttrain-logloss:0.19745\teval-logloss:0.19319\n",
      "[13]\ttrain-logloss:0.18268\teval-logloss:0.17976\n",
      "[14]\ttrain-logloss:0.16968\teval-logloss:0.16620\n",
      "[15]\ttrain-logloss:0.15799\teval-logloss:0.15614\n",
      "[16]\ttrain-logloss:0.14718\teval-logloss:0.14731\n",
      "[17]\ttrain-logloss:0.13787\teval-logloss:0.13762\n",
      "[18]\ttrain-logloss:0.12911\teval-logloss:0.12923\n",
      "[19]\ttrain-logloss:0.12130\teval-logloss:0.12281\n",
      "[20]\ttrain-logloss:0.11414\teval-logloss:0.11820\n",
      "[21]\ttrain-logloss:0.10758\teval-logloss:0.11244\n",
      "[22]\ttrain-logloss:0.10097\teval-logloss:0.10646\n",
      "[23]\ttrain-logloss:0.09513\teval-logloss:0.10116\n",
      "[24]\ttrain-logloss:0.08973\teval-logloss:0.09627\n",
      "[25]\ttrain-logloss:0.08451\teval-logloss:0.09168\n",
      "[26]\ttrain-logloss:0.08026\teval-logloss:0.08974\n",
      "[27]\ttrain-logloss:0.07620\teval-logloss:0.08500\n",
      "[28]\ttrain-logloss:0.07276\teval-logloss:0.08140\n",
      "[29]\ttrain-logloss:0.06926\teval-logloss:0.07823\n",
      "[30]\ttrain-logloss:0.06608\teval-logloss:0.07595\n",
      "[31]\ttrain-logloss:0.06310\teval-logloss:0.07197\n",
      "[32]\ttrain-logloss:0.06017\teval-logloss:0.06964\n",
      "[33]\ttrain-logloss:0.05762\teval-logloss:0.06739\n",
      "[34]\ttrain-logloss:0.05537\teval-logloss:0.06703\n",
      "[35]\ttrain-logloss:0.05327\teval-logloss:0.06517\n",
      "[36]\ttrain-logloss:0.05124\teval-logloss:0.06332\n",
      "[37]\ttrain-logloss:0.04948\teval-logloss:0.06339\n",
      "[38]\ttrain-logloss:0.04775\teval-logloss:0.06086\n",
      "[39]\ttrain-logloss:0.04602\teval-logloss:0.05902\n",
      "[40]\ttrain-logloss:0.04433\teval-logloss:0.05782\n",
      "[41]\ttrain-logloss:0.04282\teval-logloss:0.05660\n",
      "[42]\ttrain-logloss:0.04118\teval-logloss:0.05502\n",
      "[43]\ttrain-logloss:0.03990\teval-logloss:0.05382\n",
      "[44]\ttrain-logloss:0.03853\teval-logloss:0.05224\n",
      "[45]\ttrain-logloss:0.03736\teval-logloss:0.05077\n",
      "[46]\ttrain-logloss:0.03610\teval-logloss:0.05048\n",
      "[47]\ttrain-logloss:0.03486\teval-logloss:0.04899\n",
      "[48]\ttrain-logloss:0.03387\teval-logloss:0.04830\n",
      "[49]\ttrain-logloss:0.03277\teval-logloss:0.04765\n",
      "[50]\ttrain-logloss:0.03189\teval-logloss:0.04695\n",
      "[51]\ttrain-logloss:0.03094\teval-logloss:0.04620\n",
      "[52]\ttrain-logloss:0.02970\teval-logloss:0.04524\n",
      "[53]\ttrain-logloss:0.02884\teval-logloss:0.04422\n",
      "[54]\ttrain-logloss:0.02815\teval-logloss:0.04380\n",
      "[55]\ttrain-logloss:0.02746\teval-logloss:0.04282\n",
      "[56]\ttrain-logloss:0.02676\teval-logloss:0.04246\n",
      "[57]\ttrain-logloss:0.02606\teval-logloss:0.04161\n",
      "[58]\ttrain-logloss:0.02526\teval-logloss:0.04100\n",
      "[59]\ttrain-logloss:0.02464\teval-logloss:0.04023\n",
      "[60]\ttrain-logloss:0.02400\teval-logloss:0.03919\n",
      "[61]\ttrain-logloss:0.02336\teval-logloss:0.03948\n",
      "[62]\ttrain-logloss:0.02286\teval-logloss:0.03877\n",
      "[63]\ttrain-logloss:0.02234\teval-logloss:0.03867\n",
      "[64]\ttrain-logloss:0.02186\teval-logloss:0.03901\n",
      "[65]\ttrain-logloss:0.02132\teval-logloss:0.03837\n",
      "[66]\ttrain-logloss:0.02092\teval-logloss:0.03794\n",
      "[67]\ttrain-logloss:0.02044\teval-logloss:0.03754\n",
      "[68]\ttrain-logloss:0.01995\teval-logloss:0.03799\n",
      "[69]\ttrain-logloss:0.01958\teval-logloss:0.03735\n",
      "[70]\ttrain-logloss:0.01925\teval-logloss:0.03700\n",
      "[71]\ttrain-logloss:0.01887\teval-logloss:0.03704\n",
      "[72]\ttrain-logloss:0.01846\teval-logloss:0.03683\n",
      "[73]\ttrain-logloss:0.01814\teval-logloss:0.03672\n",
      "[74]\ttrain-logloss:0.01777\teval-logloss:0.03622\n",
      "[75]\ttrain-logloss:0.01750\teval-logloss:0.03602\n",
      "[76]\ttrain-logloss:0.01712\teval-logloss:0.03547\n",
      "[77]\ttrain-logloss:0.01683\teval-logloss:0.03497\n",
      "[78]\ttrain-logloss:0.01654\teval-logloss:0.03460\n",
      "[79]\ttrain-logloss:0.01621\teval-logloss:0.03433\n",
      "[80]\ttrain-logloss:0.01595\teval-logloss:0.03466\n",
      "[81]\ttrain-logloss:0.01564\teval-logloss:0.03465\n",
      "[82]\ttrain-logloss:0.01542\teval-logloss:0.03434\n",
      "[83]\ttrain-logloss:0.01527\teval-logloss:0.03422\n",
      "[84]\ttrain-logloss:0.01499\teval-logloss:0.03401\n",
      "[85]\ttrain-logloss:0.01480\teval-logloss:0.03385\n",
      "[86]\ttrain-logloss:0.01459\teval-logloss:0.03362\n",
      "[87]\ttrain-logloss:0.01439\teval-logloss:0.03339\n",
      "[88]\ttrain-logloss:0.01420\teval-logloss:0.03308\n",
      "[89]\ttrain-logloss:0.01391\teval-logloss:0.03296\n",
      "[90]\ttrain-logloss:0.01379\teval-logloss:0.03278\n",
      "[91]\ttrain-logloss:0.01354\teval-logloss:0.03250\n",
      "[92]\ttrain-logloss:0.01338\teval-logloss:0.03277\n",
      "[93]\ttrain-logloss:0.01322\teval-logloss:0.03265\n",
      "[94]\ttrain-logloss:0.01308\teval-logloss:0.03222\n",
      "[95]\ttrain-logloss:0.01290\teval-logloss:0.03192\n",
      "[96]\ttrain-logloss:0.01276\teval-logloss:0.03167\n",
      "[97]\ttrain-logloss:0.01263\teval-logloss:0.03173\n",
      "[98]\ttrain-logloss:0.01246\teval-logloss:0.03162\n",
      "[99]\ttrain-logloss:0.01233\teval-logloss:0.03147\n",
      "[100]\ttrain-logloss:0.01221\teval-logloss:0.03183\n",
      "[101]\ttrain-logloss:0.01208\teval-logloss:0.03175\n",
      "[102]\ttrain-logloss:0.01198\teval-logloss:0.03159\n",
      "[103]\ttrain-logloss:0.01187\teval-logloss:0.03193\n",
      "[104]\ttrain-logloss:0.01172\teval-logloss:0.03175\n",
      "[105]\ttrain-logloss:0.01154\teval-logloss:0.03173\n",
      "[106]\ttrain-logloss:0.01145\teval-logloss:0.03173\n",
      "[107]\ttrain-logloss:0.01134\teval-logloss:0.03166\n",
      "[108]\ttrain-logloss:0.01125\teval-logloss:0.03151\n",
      "[109]\ttrain-logloss:0.01117\teval-logloss:0.03135\n",
      "[110]\ttrain-logloss:0.01106\teval-logloss:0.03110\n",
      "[111]\ttrain-logloss:0.01090\teval-logloss:0.03104\n",
      "[112]\ttrain-logloss:0.01080\teval-logloss:0.03136\n",
      "[113]\ttrain-logloss:0.01071\teval-logloss:0.03106\n",
      "[114]\ttrain-logloss:0.01064\teval-logloss:0.03102\n",
      "[115]\ttrain-logloss:0.01055\teval-logloss:0.03088\n",
      "[116]\ttrain-logloss:0.01045\teval-logloss:0.03079\n",
      "[117]\ttrain-logloss:0.01037\teval-logloss:0.03083\n",
      "[118]\ttrain-logloss:0.01030\teval-logloss:0.03071\n",
      "[119]\ttrain-logloss:0.01022\teval-logloss:0.03103\n",
      "[120]\ttrain-logloss:0.01013\teval-logloss:0.03074\n",
      "[121]\ttrain-logloss:0.01009\teval-logloss:0.03083\n",
      "[122]\ttrain-logloss:0.00997\teval-logloss:0.03076\n",
      "[123]\ttrain-logloss:0.00992\teval-logloss:0.03072\n",
      "[124]\ttrain-logloss:0.00983\teval-logloss:0.03063\n",
      "[125]\ttrain-logloss:0.00976\teval-logloss:0.03093\n",
      "[126]\ttrain-logloss:0.00970\teval-logloss:0.03082\n",
      "[127]\ttrain-logloss:0.00959\teval-logloss:0.03077\n",
      "[128]\ttrain-logloss:0.00954\teval-logloss:0.03063\n",
      "[129]\ttrain-logloss:0.00949\teval-logloss:0.03051\n",
      "[130]\ttrain-logloss:0.00942\teval-logloss:0.03039\n",
      "[131]\ttrain-logloss:0.00937\teval-logloss:0.03029\n",
      "[132]\ttrain-logloss:0.00930\teval-logloss:0.03030\n",
      "[133]\ttrain-logloss:0.00923\teval-logloss:0.03019\n",
      "[134]\ttrain-logloss:0.00918\teval-logloss:0.02992\n",
      "[135]\ttrain-logloss:0.00913\teval-logloss:0.02970\n",
      "[136]\ttrain-logloss:0.00904\teval-logloss:0.02963\n",
      "[137]\ttrain-logloss:0.00901\teval-logloss:0.02976\n",
      "[138]\ttrain-logloss:0.00896\teval-logloss:0.02956\n",
      "[139]\ttrain-logloss:0.00888\teval-logloss:0.02951\n",
      "[140]\ttrain-logloss:0.00886\teval-logloss:0.02946\n",
      "[141]\ttrain-logloss:0.00880\teval-logloss:0.02936\n",
      "[142]\ttrain-logloss:0.00875\teval-logloss:0.02911\n",
      "[143]\ttrain-logloss:0.00871\teval-logloss:0.02891\n",
      "[144]\ttrain-logloss:0.00864\teval-logloss:0.02887\n",
      "[145]\ttrain-logloss:0.00857\teval-logloss:0.02888\n",
      "[146]\ttrain-logloss:0.00853\teval-logloss:0.02864\n",
      "[147]\ttrain-logloss:0.00849\teval-logloss:0.02845\n",
      "[148]\ttrain-logloss:0.00842\teval-logloss:0.02842\n",
      "[149]\ttrain-logloss:0.00840\teval-logloss:0.02837\n",
      "[150]\ttrain-logloss:0.00836\teval-logloss:0.02819\n",
      "[151]\ttrain-logloss:0.00834\teval-logloss:0.02837\n",
      "[152]\ttrain-logloss:0.00828\teval-logloss:0.02834\n",
      "[153]\ttrain-logloss:0.00825\teval-logloss:0.02829\n",
      "[154]\ttrain-logloss:0.00817\teval-logloss:0.02825\n",
      "[155]\ttrain-logloss:0.00814\teval-logloss:0.02805\n",
      "[156]\ttrain-logloss:0.00809\teval-logloss:0.02796\n",
      "[157]\ttrain-logloss:0.00805\teval-logloss:0.02773\n",
      "[158]\ttrain-logloss:0.00801\teval-logloss:0.02754\n",
      "[159]\ttrain-logloss:0.00797\teval-logloss:0.02755\n",
      "[160]\ttrain-logloss:0.00791\teval-logloss:0.02765\n"
     ]
    },
    {
     "name": "stdout",
     "output_type": "stream",
     "text": [
      "[161]\ttrain-logloss:0.00789\teval-logloss:0.02781\n",
      "[162]\ttrain-logloss:0.00785\teval-logloss:0.02768\n",
      "[163]\ttrain-logloss:0.00781\teval-logloss:0.02760\n",
      "[164]\ttrain-logloss:0.00776\teval-logloss:0.02763\n",
      "[165]\ttrain-logloss:0.00773\teval-logloss:0.02750\n",
      "[166]\ttrain-logloss:0.00769\teval-logloss:0.02743\n",
      "[167]\ttrain-logloss:0.00767\teval-logloss:0.02734\n",
      "[168]\ttrain-logloss:0.00764\teval-logloss:0.02729\n",
      "[169]\ttrain-logloss:0.00760\teval-logloss:0.02722\n",
      "[170]\ttrain-logloss:0.00758\teval-logloss:0.02742\n",
      "[171]\ttrain-logloss:0.00756\teval-logloss:0.02736\n",
      "[172]\ttrain-logloss:0.00755\teval-logloss:0.02729\n",
      "[173]\ttrain-logloss:0.00751\teval-logloss:0.02732\n",
      "[174]\ttrain-logloss:0.00749\teval-logloss:0.02745\n",
      "[175]\ttrain-logloss:0.00744\teval-logloss:0.02747\n",
      "[176]\ttrain-logloss:0.00743\teval-logloss:0.02748\n",
      "[177]\ttrain-logloss:0.00739\teval-logloss:0.02741\n",
      "[178]\ttrain-logloss:0.00737\teval-logloss:0.02732\n",
      "[179]\ttrain-logloss:0.00734\teval-logloss:0.02735\n",
      "[180]\ttrain-logloss:0.00730\teval-logloss:0.02728\n",
      "[181]\ttrain-logloss:0.00729\teval-logloss:0.02729\n",
      "[182]\ttrain-logloss:0.00727\teval-logloss:0.02734\n",
      "[183]\ttrain-logloss:0.00724\teval-logloss:0.02741\n",
      "[184]\ttrain-logloss:0.00720\teval-logloss:0.02735\n",
      "[185]\ttrain-logloss:0.00719\teval-logloss:0.02727\n",
      "[186]\ttrain-logloss:0.00717\teval-logloss:0.02727\n",
      "[187]\ttrain-logloss:0.00716\teval-logloss:0.02731\n",
      "[188]\ttrain-logloss:0.00714\teval-logloss:0.02725\n",
      "[189]\ttrain-logloss:0.00713\teval-logloss:0.02739\n",
      "[190]\ttrain-logloss:0.00711\teval-logloss:0.02730\n",
      "[191]\ttrain-logloss:0.00710\teval-logloss:0.02730\n",
      "[192]\ttrain-logloss:0.00708\teval-logloss:0.02735\n",
      "[193]\ttrain-logloss:0.00707\teval-logloss:0.02751\n",
      "[194]\ttrain-logloss:0.00706\teval-logloss:0.02745\n",
      "[195]\ttrain-logloss:0.00704\teval-logloss:0.02725\n",
      "[196]\ttrain-logloss:0.00703\teval-logloss:0.02736\n",
      "[197]\ttrain-logloss:0.00702\teval-logloss:0.02726\n",
      "[198]\ttrain-logloss:0.00700\teval-logloss:0.02740\n",
      "[199]\ttrain-logloss:0.00699\teval-logloss:0.02740\n",
      "[200]\ttrain-logloss:0.00698\teval-logloss:0.02744\n",
      "[201]\ttrain-logloss:0.00696\teval-logloss:0.02743\n",
      "[202]\ttrain-logloss:0.00695\teval-logloss:0.02738\n",
      "[203]\ttrain-logloss:0.00694\teval-logloss:0.02755\n",
      "[204]\ttrain-logloss:0.00692\teval-logloss:0.02751\n",
      "[205]\ttrain-logloss:0.00691\teval-logloss:0.02744\n",
      "[206]\ttrain-logloss:0.00690\teval-logloss:0.02761\n",
      "[207]\ttrain-logloss:0.00689\teval-logloss:0.02753\n",
      "[208]\ttrain-logloss:0.00687\teval-logloss:0.02751\n",
      "[209]\ttrain-logloss:0.00686\teval-logloss:0.02746\n",
      "[210]\ttrain-logloss:0.00685\teval-logloss:0.02740\n",
      "[211]\ttrain-logloss:0.00684\teval-logloss:0.02753\n",
      "[212]\ttrain-logloss:0.00683\teval-logloss:0.02751\n",
      "[213]\ttrain-logloss:0.00681\teval-logloss:0.02744\n",
      "[214]\ttrain-logloss:0.00680\teval-logloss:0.02741\n",
      "[215]\ttrain-logloss:0.00679\teval-logloss:0.02740\n",
      "[216]\ttrain-logloss:0.00678\teval-logloss:0.02757\n",
      "[217]\ttrain-logloss:0.00677\teval-logloss:0.02753\n",
      "[218]\ttrain-logloss:0.00675\teval-logloss:0.02743\n",
      "[219]\ttrain-logloss:0.00674\teval-logloss:0.02738\n",
      "[220]\ttrain-logloss:0.00673\teval-logloss:0.02751\n",
      "[221]\ttrain-logloss:0.00672\teval-logloss:0.02748\n",
      "[222]\ttrain-logloss:0.00671\teval-logloss:0.02747\n",
      "[223]\ttrain-logloss:0.00670\teval-logloss:0.02739\n",
      "[224]\ttrain-logloss:0.00669\teval-logloss:0.02749\n",
      "[225]\ttrain-logloss:0.00667\teval-logloss:0.02744\n",
      "[226]\ttrain-logloss:0.00666\teval-logloss:0.02748\n",
      "[227]\ttrain-logloss:0.00665\teval-logloss:0.02743\n",
      "[228]\ttrain-logloss:0.00664\teval-logloss:0.02739\n",
      "[229]\ttrain-logloss:0.00663\teval-logloss:0.02730\n",
      "[230]\ttrain-logloss:0.00662\teval-logloss:0.02729\n",
      "[231]\ttrain-logloss:0.00661\teval-logloss:0.02742\n",
      "[232]\ttrain-logloss:0.00660\teval-logloss:0.02736\n",
      "[233]\ttrain-logloss:0.00659\teval-logloss:0.02737\n",
      "[234]\ttrain-logloss:0.00658\teval-logloss:0.02746\n",
      "[235]\ttrain-logloss:0.00656\teval-logloss:0.02738\n",
      "[236]\ttrain-logloss:0.00656\teval-logloss:0.02736\n",
      "[237]\ttrain-logloss:0.00654\teval-logloss:0.02732\n",
      "[238]\ttrain-logloss:0.00653\teval-logloss:0.02726\n",
      "[239]\ttrain-logloss:0.00652\teval-logloss:0.02724\n",
      "[240]\ttrain-logloss:0.00651\teval-logloss:0.02728\n",
      "[241]\ttrain-logloss:0.00650\teval-logloss:0.02726\n",
      "[242]\ttrain-logloss:0.00649\teval-logloss:0.02739\n",
      "[243]\ttrain-logloss:0.00648\teval-logloss:0.02756\n",
      "[244]\ttrain-logloss:0.00647\teval-logloss:0.02752\n",
      "[245]\ttrain-logloss:0.00646\teval-logloss:0.02745\n",
      "[246]\ttrain-logloss:0.00645\teval-logloss:0.02755\n",
      "[247]\ttrain-logloss:0.00644\teval-logloss:0.02749\n",
      "[248]\ttrain-logloss:0.00643\teval-logloss:0.02750\n",
      "[249]\ttrain-logloss:0.00642\teval-logloss:0.02748\n",
      "[250]\ttrain-logloss:0.00641\teval-logloss:0.02747\n",
      "[251]\ttrain-logloss:0.00640\teval-logloss:0.02739\n",
      "[252]\ttrain-logloss:0.00639\teval-logloss:0.02752\n",
      "[253]\ttrain-logloss:0.00638\teval-logloss:0.02761\n",
      "[254]\ttrain-logloss:0.00637\teval-logloss:0.02755\n",
      "[255]\ttrain-logloss:0.00636\teval-logloss:0.02751\n",
      "[256]\ttrain-logloss:0.00635\teval-logloss:0.02749\n",
      "[257]\ttrain-logloss:0.00634\teval-logloss:0.02765\n",
      "[258]\ttrain-logloss:0.00633\teval-logloss:0.02763\n",
      "[259]\ttrain-logloss:0.00632\teval-logloss:0.02772\n",
      "[260]\ttrain-logloss:0.00631\teval-logloss:0.02766\n",
      "[261]\ttrain-logloss:0.00630\teval-logloss:0.02778\n",
      "[262]\ttrain-logloss:0.00629\teval-logloss:0.02773\n",
      "[263]\ttrain-logloss:0.00628\teval-logloss:0.02769\n",
      "[264]\ttrain-logloss:0.00628\teval-logloss:0.02762\n",
      "[265]\ttrain-logloss:0.00627\teval-logloss:0.02762\n",
      "[266]\ttrain-logloss:0.00626\teval-logloss:0.02761\n",
      "[267]\ttrain-logloss:0.00625\teval-logloss:0.02759\n",
      "[268]\ttrain-logloss:0.00624\teval-logloss:0.02775\n",
      "[269]\ttrain-logloss:0.00623\teval-logloss:0.02773\n",
      "[270]\ttrain-logloss:0.00622\teval-logloss:0.02768\n",
      "[271]\ttrain-logloss:0.00621\teval-logloss:0.02778\n",
      "[272]\ttrain-logloss:0.00620\teval-logloss:0.02774\n",
      "[273]\ttrain-logloss:0.00619\teval-logloss:0.02772\n",
      "[274]\ttrain-logloss:0.00618\teval-logloss:0.02767\n",
      "[275]\ttrain-logloss:0.00617\teval-logloss:0.02777\n",
      "[276]\ttrain-logloss:0.00617\teval-logloss:0.02769\n",
      "[277]\ttrain-logloss:0.00616\teval-logloss:0.02781\n",
      "[278]\ttrain-logloss:0.00615\teval-logloss:0.02782\n",
      "[279]\ttrain-logloss:0.00614\teval-logloss:0.02798\n",
      "[280]\ttrain-logloss:0.00613\teval-logloss:0.02807\n",
      "[281]\ttrain-logloss:0.00612\teval-logloss:0.02802\n",
      "[282]\ttrain-logloss:0.00611\teval-logloss:0.02799\n",
      "[283]\ttrain-logloss:0.00611\teval-logloss:0.02798\n",
      "[284]\ttrain-logloss:0.00610\teval-logloss:0.02796\n",
      "[285]\ttrain-logloss:0.00609\teval-logloss:0.02812\n",
      "[286]\ttrain-logloss:0.00608\teval-logloss:0.02810\n",
      "[287]\ttrain-logloss:0.00607\teval-logloss:0.02803\n",
      "[288]\ttrain-logloss:0.00606\teval-logloss:0.02802\n",
      "[289]\ttrain-logloss:0.00605\teval-logloss:0.02797\n",
      "[290]\ttrain-logloss:0.00605\teval-logloss:0.02808\n",
      "[291]\ttrain-logloss:0.00604\teval-logloss:0.02809\n",
      "[292]\ttrain-logloss:0.00603\teval-logloss:0.02818\n",
      "[293]\ttrain-logloss:0.00602\teval-logloss:0.02811\n",
      "[294]\ttrain-logloss:0.00601\teval-logloss:0.02806\n",
      "[295]\ttrain-logloss:0.00601\teval-logloss:0.02815\n",
      "[296]\ttrain-logloss:0.00600\teval-logloss:0.02813\n",
      "[297]\ttrain-logloss:0.00599\teval-logloss:0.02828\n",
      "[298]\ttrain-logloss:0.00598\teval-logloss:0.02829\n",
      "[299]\ttrain-logloss:0.00597\teval-logloss:0.02827\n",
      "[300]\ttrain-logloss:0.00597\teval-logloss:0.02822\n",
      "[301]\ttrain-logloss:0.00596\teval-logloss:0.02831\n",
      "[302]\ttrain-logloss:0.00595\teval-logloss:0.02826\n",
      "[303]\ttrain-logloss:0.00594\teval-logloss:0.02838\n",
      "[304]\ttrain-logloss:0.00594\teval-logloss:0.02836\n",
      "[305]\ttrain-logloss:0.00593\teval-logloss:0.02851\n",
      "[306]\ttrain-logloss:0.00592\teval-logloss:0.02849\n",
      "[307]\ttrain-logloss:0.00591\teval-logloss:0.02848\n",
      "[308]\ttrain-logloss:0.00590\teval-logloss:0.02842\n",
      "[309]\ttrain-logloss:0.00590\teval-logloss:0.02852\n",
      "[310]\ttrain-logloss:0.00589\teval-logloss:0.02847\n",
      "[311]\ttrain-logloss:0.00588\teval-logloss:0.02848\n",
      "[312]\ttrain-logloss:0.00588\teval-logloss:0.02857\n",
      "[313]\ttrain-logloss:0.00587\teval-logloss:0.02856\n",
      "[314]\ttrain-logloss:0.00586\teval-logloss:0.02851\n",
      "[315]\ttrain-logloss:0.00585\teval-logloss:0.02850\n",
      "[316]\ttrain-logloss:0.00585\teval-logloss:0.02861\n",
      "[317]\ttrain-logloss:0.00584\teval-logloss:0.02852\n",
      "[318]\ttrain-logloss:0.00583\teval-logloss:0.02850\n",
      "[319]\ttrain-logloss:0.00582\teval-logloss:0.02849\n",
      "[320]\ttrain-logloss:0.00582\teval-logloss:0.02863\n",
      "[321]\ttrain-logloss:0.00581\teval-logloss:0.02872\n",
      "[322]\ttrain-logloss:0.00580\teval-logloss:0.02863\n",
      "[323]\ttrain-logloss:0.00579\teval-logloss:0.02868\n",
      "[324]\ttrain-logloss:0.00579\teval-logloss:0.02864\n",
      "[325]\ttrain-logloss:0.00578\teval-logloss:0.02863\n",
      "[326]\ttrain-logloss:0.00577\teval-logloss:0.02872\n",
      "[327]\ttrain-logloss:0.00577\teval-logloss:0.02863\n",
      "[328]\ttrain-logloss:0.00576\teval-logloss:0.02861\n"
     ]
    },
    {
     "name": "stdout",
     "output_type": "stream",
     "text": [
      "[329]\ttrain-logloss:0.00575\teval-logloss:0.02859\n",
      "[330]\ttrain-logloss:0.00575\teval-logloss:0.02855\n",
      "[331]\ttrain-logloss:0.00574\teval-logloss:0.02853\n",
      "[332]\ttrain-logloss:0.00573\teval-logloss:0.02854\n",
      "[333]\ttrain-logloss:0.00573\teval-logloss:0.02863\n",
      "[334]\ttrain-logloss:0.00572\teval-logloss:0.02854\n",
      "[335]\ttrain-logloss:0.00571\teval-logloss:0.02859\n",
      "[336]\ttrain-logloss:0.00571\teval-logloss:0.02855\n",
      "[337]\ttrain-logloss:0.00570\teval-logloss:0.02864\n",
      "[338]\ttrain-logloss:0.00569\teval-logloss:0.02855\n",
      "[339]\ttrain-logloss:0.00569\teval-logloss:0.02854\n",
      "[340]\ttrain-logloss:0.00568\teval-logloss:0.02852\n",
      "[341]\ttrain-logloss:0.00567\teval-logloss:0.02853\n",
      "[342]\ttrain-logloss:0.00567\teval-logloss:0.02848\n",
      "[343]\ttrain-logloss:0.00566\teval-logloss:0.02847\n",
      "[344]\ttrain-logloss:0.00565\teval-logloss:0.02856\n",
      "[345]\ttrain-logloss:0.00565\teval-logloss:0.02851\n",
      "[346]\ttrain-logloss:0.00564\teval-logloss:0.02856\n",
      "[347]\ttrain-logloss:0.00563\teval-logloss:0.02847\n",
      "[348]\ttrain-logloss:0.00563\teval-logloss:0.02856\n",
      "[349]\ttrain-logloss:0.00562\teval-logloss:0.02852\n",
      "[350]\ttrain-logloss:0.00562\teval-logloss:0.02851\n",
      "[351]\ttrain-logloss:0.00561\teval-logloss:0.02849\n",
      "[352]\ttrain-logloss:0.00560\teval-logloss:0.02848\n",
      "[353]\ttrain-logloss:0.00560\teval-logloss:0.02839\n",
      "[354]\ttrain-logloss:0.00559\teval-logloss:0.02848\n",
      "[355]\ttrain-logloss:0.00558\teval-logloss:0.02843\n",
      "[356]\ttrain-logloss:0.00558\teval-logloss:0.02844\n",
      "[357]\ttrain-logloss:0.00557\teval-logloss:0.02849\n",
      "[358]\ttrain-logloss:0.00557\teval-logloss:0.02858\n",
      "[359]\ttrain-logloss:0.00556\teval-logloss:0.02849\n",
      "[360]\ttrain-logloss:0.00556\teval-logloss:0.02845\n",
      "[361]\ttrain-logloss:0.00555\teval-logloss:0.02854\n",
      "[362]\ttrain-logloss:0.00554\teval-logloss:0.02852\n",
      "[363]\ttrain-logloss:0.00554\teval-logloss:0.02853\n",
      "[364]\ttrain-logloss:0.00553\teval-logloss:0.02849\n",
      "[365]\ttrain-logloss:0.00553\teval-logloss:0.02857\n",
      "[366]\ttrain-logloss:0.00552\teval-logloss:0.02849\n",
      "[367]\ttrain-logloss:0.00551\teval-logloss:0.02854\n",
      "[368]\ttrain-logloss:0.00551\teval-logloss:0.02862\n",
      "[369]\ttrain-logloss:0.00550\teval-logloss:0.02854\n",
      "[370]\ttrain-logloss:0.00550\teval-logloss:0.02862\n",
      "[371]\ttrain-logloss:0.00549\teval-logloss:0.02858\n",
      "[372]\ttrain-logloss:0.00549\teval-logloss:0.02859\n",
      "[373]\ttrain-logloss:0.00548\teval-logloss:0.02864\n",
      "[374]\ttrain-logloss:0.00547\teval-logloss:0.02860\n",
      "[375]\ttrain-logloss:0.00547\teval-logloss:0.02868\n",
      "[376]\ttrain-logloss:0.00546\teval-logloss:0.02860\n",
      "[377]\ttrain-logloss:0.00546\teval-logloss:0.02868\n",
      "[378]\ttrain-logloss:0.00545\teval-logloss:0.02867\n",
      "[379]\ttrain-logloss:0.00545\teval-logloss:0.02868\n",
      "[380]\ttrain-logloss:0.00544\teval-logloss:0.02864\n",
      "[381]\ttrain-logloss:0.00544\teval-logloss:0.02864\n",
      "[382]\ttrain-logloss:0.00543\teval-logloss:0.02857\n",
      "[383]\ttrain-logloss:0.00543\teval-logloss:0.02853\n",
      "[384]\ttrain-logloss:0.00542\teval-logloss:0.02861\n",
      "[385]\ttrain-logloss:0.00542\teval-logloss:0.02854\n",
      "[386]\ttrain-logloss:0.00541\teval-logloss:0.02862\n",
      "[387]\ttrain-logloss:0.00541\teval-logloss:0.02858\n",
      "[388]\ttrain-logloss:0.00540\teval-logloss:0.02856\n",
      "[389]\ttrain-logloss:0.00540\teval-logloss:0.02856\n",
      "[390]\ttrain-logloss:0.00539\teval-logloss:0.02856\n",
      "[391]\ttrain-logloss:0.00539\teval-logloss:0.02849\n",
      "[392]\ttrain-logloss:0.00538\teval-logloss:0.02845\n",
      "[393]\ttrain-logloss:0.00538\teval-logloss:0.02853\n",
      "[394]\ttrain-logloss:0.00537\teval-logloss:0.02845\n",
      "[395]\ttrain-logloss:0.00537\teval-logloss:0.02849\n",
      "[396]\ttrain-logloss:0.00536\teval-logloss:0.02851\n",
      "[397]\ttrain-logloss:0.00536\teval-logloss:0.02858\n",
      "[398]\ttrain-logloss:0.00535\teval-logloss:0.02855\n",
      "[399]\ttrain-logloss:0.00535\teval-logloss:0.02853\n"
     ]
    },
    {
     "data": {
      "text/plain": [
       "<xgboost.core.Booster at 0x2a264588850>"
      ]
     },
     "execution_count": 55,
     "metadata": {},
     "output_type": "execute_result"
    }
   ],
   "source": [
    "# 데이터를 학습용은 ‘train’ , 검증용은 ‘eval’로 표시\n",
    "wlist = [(dtrain,'train'),(dtest,'eval') ]\n",
    "\n",
    "# 하이퍼 파라미터와 early stopping 파라미터를 train( ) 함수의 파라미터로 전달\n",
    "xgb_model = xgb.train(params = params, dtrain=dtrain, num_boost_round=num_rounds, evals=wlist)  #xgb.fit이 아닌 xgb.train\n",
    "xgb_model"
   ]
  },
  {
   "cell_type": "code",
   "execution_count": 56,
   "id": "3a808a3f",
   "metadata": {},
   "outputs": [
    {
     "name": "stdout",
     "output_type": "stream",
     "text": [
      "predict( ) 수행 결과값을 10개만 표시, 예측 확률 값으로 표시됨\n",
      "[0.    0.    0.    0.    0.    0.997 0.734 0.999 1.    0.999]\n"
     ]
    }
   ],
   "source": [
    "pred_probs = xgb_model.predict(dtest)  #dtest를 넣는다.\n",
    "print('predict( ) 수행 결과값을 10개만 표시, 예측 확률 값으로 표시됨')\n",
    "print(np.round(pred_probs[:10], 3))"
   ]
  },
  {
   "cell_type": "code",
   "execution_count": 57,
   "id": "fc4fc66b",
   "metadata": {},
   "outputs": [
    {
     "name": "stdout",
     "output_type": "stream",
     "text": [
      "예측값 10개만 표시: [0, 0, 0, 0, 0, 1, 1, 1, 1, 1]\n"
     ]
    }
   ],
   "source": [
    "# 예측 확률이 0.5 보다 크면 1, 그렇지 않으면 0으로 예측값 결정하여 리스트에 저장\n",
    "preds = [ 1 if x > 0.5 else 0 for x in pred_probs ]\n",
    "print('예측값 10개만 표시:', preds[:10])"
   ]
  },
  {
   "cell_type": "raw",
   "id": "e3821d73",
   "metadata": {},
   "source": [
    "평가 => get_clf_eval()이라는 함수를 만들어서 수행"
   ]
  },
  {
   "cell_type": "code",
   "execution_count": 58,
   "id": "67690399",
   "metadata": {},
   "outputs": [],
   "source": [
    "from sklearn.metrics import confusion_matrix, accuracy_score\n",
    "from sklearn.metrics import precision_score, recall_score\n",
    "from sklearn.metrics import f1_score, roc_auc_score\n",
    "\n",
    "# 수정된 get_clf_eval() 함수 \n",
    "def get_clf_eval(y_test, pred=None, pred_proba=None):\n",
    "    confusion = confusion_matrix( y_test, pred)\n",
    "    accuracy = accuracy_score(y_test , pred)\n",
    "    precision = precision_score(y_test , pred)\n",
    "    recall = recall_score(y_test , pred)\n",
    "    f1 = f1_score(y_test,pred)\n",
    "    # ROC-AUC 추가 \n",
    "    roc_auc = roc_auc_score(y_test, pred_proba)\n",
    "    print('오차 행렬')\n",
    "    print(confusion)\n",
    "    # ROC-AUC print 추가\n",
    "    print('정확도: {0:.4f}, 정밀도: {1:.4f}, 재현율: {2:.4f},\\\n",
    "    F1: {3:.4f}, AUC:{4:.4f}'.format(accuracy, precision, recall, f1, roc_auc), '\\n')"
   ]
  },
  {
   "cell_type": "code",
   "execution_count": 59,
   "id": "a67b8ede",
   "metadata": {},
   "outputs": [
    {
     "name": "stdout",
     "output_type": "stream",
     "text": [
      "오차 행렬\n",
      "[[36  2]\n",
      " [ 0 76]]\n",
      "정확도: 0.9825, 정밀도: 0.9744, 재현율: 1.0000,    F1: 0.9870, AUC:0.9997 \n",
      "\n"
     ]
    }
   ],
   "source": [
    "get_clf_eval(y_test , preds, pred_probs)"
   ]
  },
  {
   "cell_type": "code",
   "execution_count": 60,
   "id": "a1b46a9b",
   "metadata": {},
   "outputs": [
    {
     "data": {
      "text/plain": [
       "<AxesSubplot:title={'center':'Feature importance'}, xlabel='F score', ylabel='Features'>"
      ]
     },
     "execution_count": 60,
     "metadata": {},
     "output_type": "execute_result"
    },
    {
     "data": {
      "image/png": "[encoded data removed]",
      "text/plain": [
       "<Figure size 720x864 with 1 Axes>"
      ]
     },
     "metadata": {
      "needs_background": "light"
     },
     "output_type": "display_data"
    }
   ],
   "source": [
    "#Feature Importance 시각화\n",
    "import matplotlib.pyplot as plt\n",
    "%matplotlib inline\n",
    "\n",
    "fig, ax = plt.subplots(figsize=(10, 12))\n",
    "plot_importance(xgb_model, ax=ax)"
   ]
  },
  {
   "cell_type": "code",
   "execution_count": null,
   "id": "7a1d8983",
   "metadata": {},
   "outputs": [],
   "source": []
  },
  {
   "cell_type": "markdown",
   "id": "a6cf4b36",
   "metadata": {},
   "source": [
    "### case2. 사이킷런 Wrapper XGBoost"
   ]
  },
  {
   "cell_type": "code",
   "execution_count": 61,
   "id": "bbcd39cc",
   "metadata": {},
   "outputs": [],
   "source": [
    "# Scikit-learn Wrapper XGBoost 클래스인 XGBClassifier 임포트\n",
    "from xgboost import XGBClassifier"
   ]
  },
  {
   "cell_type": "code",
   "execution_count": 62,
   "id": "2307676e",
   "metadata": {},
   "outputs": [],
   "source": [
    "# 원래 검증에 test 데이터를 사용하면 안되지만 여기서는 검증 데이터가 따로 없으므로 쓴다.\n",
    "evals = [(X_test, y_test)]\n",
    "\n",
    "# XGBClassifier 클래스의 객체 생성\n",
    "xgb_wrapper = XGBClassifier(n_estimators=400, learning_rate=0.1, max_depth=3)"
   ]
  },
  {
   "cell_type": "code",
   "execution_count": 63,
   "id": "0976b113",
   "metadata": {},
   "outputs": [
    {
     "name": "stdout",
     "output_type": "stream",
     "text": [
      "[0]\tvalidation_0-logloss:0.61282\n",
      "[1]\tvalidation_0-logloss:0.54112\n",
      "[2]\tvalidation_0-logloss:0.48139\n",
      "[3]\tvalidation_0-logloss:0.42984\n",
      "[4]\tvalidation_0-logloss:0.38936\n",
      "[5]\tvalidation_0-logloss:0.35109\n",
      "[6]\tvalidation_0-logloss:0.32014\n",
      "[7]\tvalidation_0-logloss:0.29190\n",
      "[8]\tvalidation_0-logloss:0.26556\n",
      "[9]\tvalidation_0-logloss:0.24385\n",
      "[10]\tvalidation_0-logloss:0.22614\n",
      "[11]\tvalidation_0-logloss:0.21025\n",
      "[12]\tvalidation_0-logloss:0.19319\n",
      "[13]\tvalidation_0-logloss:0.17976\n",
      "[14]\tvalidation_0-logloss:0.16620\n",
      "[15]\tvalidation_0-logloss:0.15614\n",
      "[16]\tvalidation_0-logloss:0.14731\n",
      "[17]\tvalidation_0-logloss:0.13762\n",
      "[18]\tvalidation_0-logloss:0.12923\n",
      "[19]\tvalidation_0-logloss:0.12281\n",
      "[20]\tvalidation_0-logloss:0.11820\n",
      "[21]\tvalidation_0-logloss:0.11244\n",
      "[22]\tvalidation_0-logloss:0.10646\n",
      "[23]\tvalidation_0-logloss:0.10116\n",
      "[24]\tvalidation_0-logloss:0.09627\n",
      "[25]\tvalidation_0-logloss:0.09168\n",
      "[26]\tvalidation_0-logloss:0.08974\n",
      "[27]\tvalidation_0-logloss:0.08500\n",
      "[28]\tvalidation_0-logloss:0.08140\n",
      "[29]\tvalidation_0-logloss:0.07823\n",
      "[30]\tvalidation_0-logloss:0.07595\n",
      "[31]\tvalidation_0-logloss:0.07197\n",
      "[32]\tvalidation_0-logloss:0.06964\n",
      "[33]\tvalidation_0-logloss:0.06739\n",
      "[34]\tvalidation_0-logloss:0.06703\n",
      "[35]\tvalidation_0-logloss:0.06517\n",
      "[36]\tvalidation_0-logloss:0.06332\n",
      "[37]\tvalidation_0-logloss:0.06339\n",
      "[38]\tvalidation_0-logloss:0.06086\n",
      "[39]\tvalidation_0-logloss:0.05902\n",
      "[40]\tvalidation_0-logloss:0.05782\n",
      "[41]\tvalidation_0-logloss:0.05660\n",
      "[42]\tvalidation_0-logloss:0.05502\n",
      "[43]\tvalidation_0-logloss:0.05382\n",
      "[44]\tvalidation_0-logloss:0.05224\n",
      "[45]\tvalidation_0-logloss:0.05077\n",
      "[46]\tvalidation_0-logloss:0.05048\n",
      "[47]\tvalidation_0-logloss:0.04899\n",
      "[48]\tvalidation_0-logloss:0.04830\n",
      "[49]\tvalidation_0-logloss:0.04765\n",
      "[50]\tvalidation_0-logloss:0.04695\n",
      "[51]\tvalidation_0-logloss:0.04620\n",
      "[52]\tvalidation_0-logloss:0.04524\n",
      "[53]\tvalidation_0-logloss:0.04422\n",
      "[54]\tvalidation_0-logloss:0.04380\n",
      "[55]\tvalidation_0-logloss:0.04282\n",
      "[56]\tvalidation_0-logloss:0.04246\n",
      "[57]\tvalidation_0-logloss:0.04161\n",
      "[58]\tvalidation_0-logloss:0.04100\n",
      "[59]\tvalidation_0-logloss:0.04023\n",
      "[60]\tvalidation_0-logloss:0.03919\n",
      "[61]\tvalidation_0-logloss:0.03948\n",
      "[62]\tvalidation_0-logloss:0.03877\n",
      "[63]\tvalidation_0-logloss:0.03867\n",
      "[64]\tvalidation_0-logloss:0.03901\n",
      "[65]\tvalidation_0-logloss:0.03837\n",
      "[66]\tvalidation_0-logloss:0.03794\n",
      "[67]\tvalidation_0-logloss:0.03754\n",
      "[68]\tvalidation_0-logloss:0.03799\n",
      "[69]\tvalidation_0-logloss:0.03735\n",
      "[70]\tvalidation_0-logloss:0.03700\n",
      "[71]\tvalidation_0-logloss:0.03704\n",
      "[72]\tvalidation_0-logloss:0.03683\n",
      "[73]\tvalidation_0-logloss:0.03672\n",
      "[74]\tvalidation_0-logloss:0.03622\n",
      "[75]\tvalidation_0-logloss:0.03602\n",
      "[76]\tvalidation_0-logloss:0.03547\n",
      "[77]\tvalidation_0-logloss:0.03497\n",
      "[78]\tvalidation_0-logloss:0.03460\n",
      "[79]\tvalidation_0-logloss:0.03433\n",
      "[80]\tvalidation_0-logloss:0.03466\n",
      "[81]\tvalidation_0-logloss:0.03465\n",
      "[82]\tvalidation_0-logloss:0.03434\n",
      "[83]\tvalidation_0-logloss:0.03422\n",
      "[84]\tvalidation_0-logloss:0.03401\n",
      "[85]\tvalidation_0-logloss:0.03385\n",
      "[86]\tvalidation_0-logloss:0.03362\n",
      "[87]\tvalidation_0-logloss:0.03339\n",
      "[88]\tvalidation_0-logloss:0.03308\n",
      "[89]\tvalidation_0-logloss:0.03296\n",
      "[90]\tvalidation_0-logloss:0.03278\n",
      "[91]\tvalidation_0-logloss:0.03250\n",
      "[92]\tvalidation_0-logloss:0.03277\n",
      "[93]\tvalidation_0-logloss:0.03265\n",
      "[94]\tvalidation_0-logloss:0.03222\n",
      "[95]\tvalidation_0-logloss:0.03192\n",
      "[96]\tvalidation_0-logloss:0.03167\n",
      "[97]\tvalidation_0-logloss:0.03173\n",
      "[98]\tvalidation_0-logloss:0.03162\n",
      "[99]\tvalidation_0-logloss:0.03147\n",
      "[100]\tvalidation_0-logloss:0.03183\n",
      "[101]\tvalidation_0-logloss:0.03175\n",
      "[102]\tvalidation_0-logloss:0.03159\n",
      "[103]\tvalidation_0-logloss:0.03193\n",
      "[104]\tvalidation_0-logloss:0.03175\n",
      "[105]\tvalidation_0-logloss:0.03173\n",
      "[106]\tvalidation_0-logloss:0.03173\n",
      "[107]\tvalidation_0-logloss:0.03166\n",
      "[108]\tvalidation_0-logloss:0.03151\n",
      "[109]\tvalidation_0-logloss:0.03135\n",
      "[110]\tvalidation_0-logloss:0.03110\n",
      "[111]\tvalidation_0-logloss:0.03104\n",
      "[112]\tvalidation_0-logloss:0.03136\n",
      "[113]\tvalidation_0-logloss:0.03106\n",
      "[114]\tvalidation_0-logloss:0.03102\n",
      "[115]\tvalidation_0-logloss:0.03088\n",
      "[116]\tvalidation_0-logloss:0.03079\n",
      "[117]\tvalidation_0-logloss:0.03083\n",
      "[118]\tvalidation_0-logloss:0.03071\n",
      "[119]\tvalidation_0-logloss:0.03103\n",
      "[120]\tvalidation_0-logloss:0.03074\n",
      "[121]\tvalidation_0-logloss:0.03083\n",
      "[122]\tvalidation_0-logloss:0.03076\n",
      "[123]\tvalidation_0-logloss:0.03072\n",
      "[124]\tvalidation_0-logloss:0.03063\n",
      "[125]\tvalidation_0-logloss:0.03093\n",
      "[126]\tvalidation_0-logloss:0.03082\n",
      "[127]\tvalidation_0-logloss:0.03077\n",
      "[128]\tvalidation_0-logloss:0.03063\n",
      "[129]\tvalidation_0-logloss:0.03051\n",
      "[130]\tvalidation_0-logloss:0.03039\n",
      "[131]\tvalidation_0-logloss:0.03029\n",
      "[132]\tvalidation_0-logloss:0.03030\n",
      "[133]\tvalidation_0-logloss:0.03019\n",
      "[134]\tvalidation_0-logloss:0.02992\n",
      "[135]\tvalidation_0-logloss:0.02970\n",
      "[136]\tvalidation_0-logloss:0.02963\n",
      "[137]\tvalidation_0-logloss:0.02976\n",
      "[138]\tvalidation_0-logloss:0.02956\n",
      "[139]\tvalidation_0-logloss:0.02951\n",
      "[140]\tvalidation_0-logloss:0.02946\n",
      "[141]\tvalidation_0-logloss:0.02936\n",
      "[142]\tvalidation_0-logloss:0.02911\n",
      "[143]\tvalidation_0-logloss:0.02891\n",
      "[144]\tvalidation_0-logloss:0.02887\n",
      "[145]\tvalidation_0-logloss:0.02888\n",
      "[146]\tvalidation_0-logloss:0.02864\n",
      "[147]\tvalidation_0-logloss:0.02845\n",
      "[148]\tvalidation_0-logloss:0.02842\n",
      "[149]\tvalidation_0-logloss:0.02837\n",
      "[150]\tvalidation_0-logloss:0.02819\n",
      "[151]\tvalidation_0-logloss:0.02837\n",
      "[152]\tvalidation_0-logloss:0.02834\n",
      "[153]\tvalidation_0-logloss:0.02829\n",
      "[154]\tvalidation_0-logloss:0.02825\n",
      "[155]\tvalidation_0-logloss:0.02805\n",
      "[156]\tvalidation_0-logloss:0.02796\n",
      "[157]\tvalidation_0-logloss:0.02773\n",
      "[158]\tvalidation_0-logloss:0.02754\n",
      "[159]\tvalidation_0-logloss:0.02755\n",
      "[160]\tvalidation_0-logloss:0.02765\n",
      "[161]\tvalidation_0-logloss:0.02781\n",
      "[162]\tvalidation_0-logloss:0.02768\n",
      "[163]\tvalidation_0-logloss:0.02760\n",
      "[164]\tvalidation_0-logloss:0.02763\n",
      "[165]\tvalidation_0-logloss:0.02750\n",
      "[166]\tvalidation_0-logloss:0.02743\n",
      "[167]\tvalidation_0-logloss:0.02734\n",
      "[168]\tvalidation_0-logloss:0.02729\n",
      "[169]\tvalidation_0-logloss:0.02722\n",
      "[170]\tvalidation_0-logloss:0.02742\n",
      "[171]\tvalidation_0-logloss:0.02736\n",
      "[172]\tvalidation_0-logloss:0.02729\n",
      "[173]\tvalidation_0-logloss:0.02732\n",
      "[174]\tvalidation_0-logloss:0.02745\n",
      "[175]\tvalidation_0-logloss:0.02747\n",
      "[176]\tvalidation_0-logloss:0.02748\n",
      "[177]\tvalidation_0-logloss:0.02741\n",
      "[178]\tvalidation_0-logloss:0.02732\n",
      "[179]\tvalidation_0-logloss:0.02735\n",
      "[180]\tvalidation_0-logloss:0.02728\n",
      "[181]\tvalidation_0-logloss:0.02729\n",
      "[182]\tvalidation_0-logloss:0.02734\n",
      "[183]\tvalidation_0-logloss:0.02741\n",
      "[184]\tvalidation_0-logloss:0.02735\n",
      "[185]\tvalidation_0-logloss:0.02727\n",
      "[186]\tvalidation_0-logloss:0.02727\n",
      "[187]\tvalidation_0-logloss:0.02731\n",
      "[188]\tvalidation_0-logloss:0.02725\n",
      "[189]\tvalidation_0-logloss:0.02739\n",
      "[190]\tvalidation_0-logloss:0.02730\n",
      "[191]\tvalidation_0-logloss:0.02730\n",
      "[192]\tvalidation_0-logloss:0.02735\n",
      "[193]\tvalidation_0-logloss:0.02751\n",
      "[194]\tvalidation_0-logloss:0.02745\n",
      "[195]\tvalidation_0-logloss:0.02725\n",
      "[196]\tvalidation_0-logloss:0.02736\n",
      "[197]\tvalidation_0-logloss:0.02726\n",
      "[198]\tvalidation_0-logloss:0.02740\n",
      "[199]\tvalidation_0-logloss:0.02740\n",
      "[200]\tvalidation_0-logloss:0.02744\n",
      "[201]\tvalidation_0-logloss:0.02743\n",
      "[202]\tvalidation_0-logloss:0.02738\n",
      "[203]\tvalidation_0-logloss:0.02755\n",
      "[204]\tvalidation_0-logloss:0.02751\n",
      "[205]\tvalidation_0-logloss:0.02744\n",
      "[206]\tvalidation_0-logloss:0.02761\n",
      "[207]\tvalidation_0-logloss:0.02753\n",
      "[208]\tvalidation_0-logloss:0.02751\n",
      "[209]\tvalidation_0-logloss:0.02746\n",
      "[210]\tvalidation_0-logloss:0.02740\n",
      "[211]\tvalidation_0-logloss:0.02753\n",
      "[212]\tvalidation_0-logloss:0.02751\n",
      "[213]\tvalidation_0-logloss:0.02744\n",
      "[214]\tvalidation_0-logloss:0.02741\n",
      "[215]\tvalidation_0-logloss:0.02740\n",
      "[216]\tvalidation_0-logloss:0.02757\n",
      "[217]\tvalidation_0-logloss:0.02753\n",
      "[218]\tvalidation_0-logloss:0.02743\n",
      "[219]\tvalidation_0-logloss:0.02738\n",
      "[220]\tvalidation_0-logloss:0.02751\n",
      "[221]\tvalidation_0-logloss:0.02748\n",
      "[222]\tvalidation_0-logloss:0.02747\n",
      "[223]\tvalidation_0-logloss:0.02739\n",
      "[224]\tvalidation_0-logloss:0.02749\n",
      "[225]\tvalidation_0-logloss:0.02744\n",
      "[226]\tvalidation_0-logloss:0.02748\n",
      "[227]\tvalidation_0-logloss:0.02743\n",
      "[228]\tvalidation_0-logloss:0.02739\n",
      "[229]\tvalidation_0-logloss:0.02730\n",
      "[230]\tvalidation_0-logloss:0.02729\n",
      "[231]\tvalidation_0-logloss:0.02742\n",
      "[232]\tvalidation_0-logloss:0.02736\n",
      "[233]\tvalidation_0-logloss:0.02737\n",
      "[234]\tvalidation_0-logloss:0.02746\n",
      "[235]\tvalidation_0-logloss:0.02738\n",
      "[236]\tvalidation_0-logloss:0.02736\n",
      "[237]\tvalidation_0-logloss:0.02732\n"
     ]
    },
    {
     "name": "stdout",
     "output_type": "stream",
     "text": [
      "[238]\tvalidation_0-logloss:0.02726\n",
      "[239]\tvalidation_0-logloss:0.02724\n",
      "[240]\tvalidation_0-logloss:0.02728\n",
      "[241]\tvalidation_0-logloss:0.02726\n",
      "[242]\tvalidation_0-logloss:0.02739\n",
      "[243]\tvalidation_0-logloss:0.02756\n",
      "[244]\tvalidation_0-logloss:0.02752\n",
      "[245]\tvalidation_0-logloss:0.02745\n",
      "[246]\tvalidation_0-logloss:0.02755\n",
      "[247]\tvalidation_0-logloss:0.02749\n",
      "[248]\tvalidation_0-logloss:0.02750\n",
      "[249]\tvalidation_0-logloss:0.02748\n",
      "[250]\tvalidation_0-logloss:0.02747\n",
      "[251]\tvalidation_0-logloss:0.02739\n",
      "[252]\tvalidation_0-logloss:0.02752\n",
      "[253]\tvalidation_0-logloss:0.02761\n",
      "[254]\tvalidation_0-logloss:0.02755\n",
      "[255]\tvalidation_0-logloss:0.02751\n",
      "[256]\tvalidation_0-logloss:0.02749\n",
      "[257]\tvalidation_0-logloss:0.02765\n",
      "[258]\tvalidation_0-logloss:0.02763\n",
      "[259]\tvalidation_0-logloss:0.02772\n",
      "[260]\tvalidation_0-logloss:0.02766\n",
      "[261]\tvalidation_0-logloss:0.02778\n",
      "[262]\tvalidation_0-logloss:0.02773\n",
      "[263]\tvalidation_0-logloss:0.02769\n",
      "[264]\tvalidation_0-logloss:0.02762\n",
      "[265]\tvalidation_0-logloss:0.02762\n",
      "[266]\tvalidation_0-logloss:0.02761\n",
      "[267]\tvalidation_0-logloss:0.02759\n",
      "[268]\tvalidation_0-logloss:0.02775\n",
      "[269]\tvalidation_0-logloss:0.02773\n"
     ]
    },
    {
     "data": {
      "text/plain": [
       "XGBClassifier(base_score=0.5, booster='gbtree', colsample_bylevel=1,\n",
       "              colsample_bynode=1, colsample_bytree=1, enable_categorical=False,\n",
       "              gamma=0, gpu_id=-1, importance_type=None,\n",
       "              interaction_constraints='', learning_rate=0.1, max_delta_step=0,\n",
       "              max_depth=3, min_child_weight=1, missing=nan,\n",
       "              monotone_constraints='()', n_estimators=400, n_jobs=8,\n",
       "              num_parallel_tree=1, predictor='auto', random_state=0,\n",
       "              reg_alpha=0, reg_lambda=1, scale_pos_weight=1, subsample=1,\n",
       "              tree_method='exact', validate_parameters=1, verbosity=None)"
      ]
     },
     "execution_count": 63,
     "metadata": {},
     "output_type": "execute_result"
    }
   ],
   "source": [
    "xgb_wrapper.fit(X_train, y_train, early_stopping_rounds=100, eval_set=evals, eval_metric=\"logloss\",  verbose=True)"
   ]
  },
  {
   "cell_type": "code",
   "execution_count": 64,
   "id": "e7116c4d",
   "metadata": {},
   "outputs": [],
   "source": [
    "# 예측\n",
    "w_preds = xgb_wrapper.predict(X_test)\n",
    "w_pred_proba = xgb_wrapper.predict_proba(X_test)[:, 1]"
   ]
  },
  {
   "cell_type": "code",
   "execution_count": 65,
   "id": "149fc63c",
   "metadata": {},
   "outputs": [
    {
     "name": "stdout",
     "output_type": "stream",
     "text": [
      "오차 행렬\n",
      "[[36  2]\n",
      " [ 0 76]]\n",
      "정확도: 0.9825, 정밀도: 0.9744, 재현율: 1.0000,    F1: 0.9870, AUC:1.0000 \n",
      "\n"
     ]
    }
   ],
   "source": [
    "# 평가\n",
    "get_clf_eval(y_test , w_preds, w_pred_proba)"
   ]
  },
  {
   "cell_type": "markdown",
   "id": "01dffda3",
   "metadata": {},
   "source": [
    "### early_stopping_rounds을 50으로 설정하고 재 학습/예측/평가"
   ]
  },
  {
   "cell_type": "code",
   "execution_count": 66,
   "id": "d39e74ca",
   "metadata": {},
   "outputs": [
    {
     "name": "stdout",
     "output_type": "stream",
     "text": [
      "[0]\tvalidation_0-logloss:0.61282\n",
      "[1]\tvalidation_0-logloss:0.54112\n",
      "[2]\tvalidation_0-logloss:0.48139\n",
      "[3]\tvalidation_0-logloss:0.42984\n",
      "[4]\tvalidation_0-logloss:0.38936\n",
      "[5]\tvalidation_0-logloss:0.35109\n",
      "[6]\tvalidation_0-logloss:0.32014\n",
      "[7]\tvalidation_0-logloss:0.29190\n",
      "[8]\tvalidation_0-logloss:0.26556\n",
      "[9]\tvalidation_0-logloss:0.24385\n",
      "[10]\tvalidation_0-logloss:0.22614\n",
      "[11]\tvalidation_0-logloss:0.21025\n",
      "[12]\tvalidation_0-logloss:0.19319\n",
      "[13]\tvalidation_0-logloss:0.17976\n",
      "[14]\tvalidation_0-logloss:0.16620\n",
      "[15]\tvalidation_0-logloss:0.15614\n",
      "[16]\tvalidation_0-logloss:0.14731\n",
      "[17]\tvalidation_0-logloss:0.13762\n",
      "[18]\tvalidation_0-logloss:0.12923\n",
      "[19]\tvalidation_0-logloss:0.12281\n",
      "[20]\tvalidation_0-logloss:0.11820\n",
      "[21]\tvalidation_0-logloss:0.11244\n",
      "[22]\tvalidation_0-logloss:0.10646\n",
      "[23]\tvalidation_0-logloss:0.10116\n",
      "[24]\tvalidation_0-logloss:0.09627\n",
      "[25]\tvalidation_0-logloss:0.09168\n",
      "[26]\tvalidation_0-logloss:0.08974\n",
      "[27]\tvalidation_0-logloss:0.08500\n",
      "[28]\tvalidation_0-logloss:0.08140\n",
      "[29]\tvalidation_0-logloss:0.07823\n",
      "[30]\tvalidation_0-logloss:0.07595\n",
      "[31]\tvalidation_0-logloss:0.07197\n",
      "[32]\tvalidation_0-logloss:0.06964\n",
      "[33]\tvalidation_0-logloss:0.06739\n",
      "[34]\tvalidation_0-logloss:0.06703\n",
      "[35]\tvalidation_0-logloss:0.06517\n",
      "[36]\tvalidation_0-logloss:0.06332\n",
      "[37]\tvalidation_0-logloss:0.06339\n",
      "[38]\tvalidation_0-logloss:0.06086\n",
      "[39]\tvalidation_0-logloss:0.05902\n",
      "[40]\tvalidation_0-logloss:0.05782\n",
      "[41]\tvalidation_0-logloss:0.05660\n",
      "[42]\tvalidation_0-logloss:0.05502\n",
      "[43]\tvalidation_0-logloss:0.05382\n",
      "[44]\tvalidation_0-logloss:0.05224\n",
      "[45]\tvalidation_0-logloss:0.05077\n",
      "[46]\tvalidation_0-logloss:0.05048\n",
      "[47]\tvalidation_0-logloss:0.04899\n",
      "[48]\tvalidation_0-logloss:0.04830\n",
      "[49]\tvalidation_0-logloss:0.04765\n",
      "[50]\tvalidation_0-logloss:0.04695\n",
      "[51]\tvalidation_0-logloss:0.04620\n",
      "[52]\tvalidation_0-logloss:0.04524\n",
      "[53]\tvalidation_0-logloss:0.04422\n",
      "[54]\tvalidation_0-logloss:0.04380\n",
      "[55]\tvalidation_0-logloss:0.04282\n",
      "[56]\tvalidation_0-logloss:0.04246\n",
      "[57]\tvalidation_0-logloss:0.04161\n",
      "[58]\tvalidation_0-logloss:0.04100\n",
      "[59]\tvalidation_0-logloss:0.04023\n",
      "[60]\tvalidation_0-logloss:0.03919\n",
      "[61]\tvalidation_0-logloss:0.03948\n",
      "[62]\tvalidation_0-logloss:0.03877\n",
      "[63]\tvalidation_0-logloss:0.03867\n",
      "[64]\tvalidation_0-logloss:0.03901\n",
      "[65]\tvalidation_0-logloss:0.03837\n",
      "[66]\tvalidation_0-logloss:0.03794\n",
      "[67]\tvalidation_0-logloss:0.03754\n",
      "[68]\tvalidation_0-logloss:0.03799\n",
      "[69]\tvalidation_0-logloss:0.03735\n",
      "[70]\tvalidation_0-logloss:0.03700\n",
      "[71]\tvalidation_0-logloss:0.03704\n",
      "[72]\tvalidation_0-logloss:0.03683\n",
      "[73]\tvalidation_0-logloss:0.03672\n",
      "[74]\tvalidation_0-logloss:0.03622\n",
      "[75]\tvalidation_0-logloss:0.03602\n",
      "[76]\tvalidation_0-logloss:0.03547\n",
      "[77]\tvalidation_0-logloss:0.03497\n",
      "[78]\tvalidation_0-logloss:0.03460\n",
      "[79]\tvalidation_0-logloss:0.03433\n",
      "[80]\tvalidation_0-logloss:0.03466\n",
      "[81]\tvalidation_0-logloss:0.03465\n",
      "[82]\tvalidation_0-logloss:0.03434\n",
      "[83]\tvalidation_0-logloss:0.03422\n",
      "[84]\tvalidation_0-logloss:0.03401\n",
      "[85]\tvalidation_0-logloss:0.03385\n",
      "[86]\tvalidation_0-logloss:0.03362\n",
      "[87]\tvalidation_0-logloss:0.03339\n",
      "[88]\tvalidation_0-logloss:0.03308\n",
      "[89]\tvalidation_0-logloss:0.03296\n",
      "[90]\tvalidation_0-logloss:0.03278\n",
      "[91]\tvalidation_0-logloss:0.03250\n",
      "[92]\tvalidation_0-logloss:0.03277\n",
      "[93]\tvalidation_0-logloss:0.03265\n",
      "[94]\tvalidation_0-logloss:0.03222\n",
      "[95]\tvalidation_0-logloss:0.03192\n",
      "[96]\tvalidation_0-logloss:0.03167\n",
      "[97]\tvalidation_0-logloss:0.03173\n",
      "[98]\tvalidation_0-logloss:0.03162\n",
      "[99]\tvalidation_0-logloss:0.03147\n",
      "[100]\tvalidation_0-logloss:0.03183\n",
      "[101]\tvalidation_0-logloss:0.03175\n",
      "[102]\tvalidation_0-logloss:0.03159\n",
      "[103]\tvalidation_0-logloss:0.03193\n",
      "[104]\tvalidation_0-logloss:0.03175\n",
      "[105]\tvalidation_0-logloss:0.03173\n",
      "[106]\tvalidation_0-logloss:0.03173\n",
      "[107]\tvalidation_0-logloss:0.03166\n",
      "[108]\tvalidation_0-logloss:0.03151\n",
      "[109]\tvalidation_0-logloss:0.03135\n",
      "[110]\tvalidation_0-logloss:0.03110\n",
      "[111]\tvalidation_0-logloss:0.03104\n",
      "[112]\tvalidation_0-logloss:0.03136\n",
      "[113]\tvalidation_0-logloss:0.03106\n",
      "[114]\tvalidation_0-logloss:0.03102\n",
      "[115]\tvalidation_0-logloss:0.03088\n",
      "[116]\tvalidation_0-logloss:0.03079\n",
      "[117]\tvalidation_0-logloss:0.03083\n",
      "[118]\tvalidation_0-logloss:0.03071\n",
      "[119]\tvalidation_0-logloss:0.03103\n",
      "[120]\tvalidation_0-logloss:0.03074\n",
      "[121]\tvalidation_0-logloss:0.03083\n",
      "[122]\tvalidation_0-logloss:0.03076\n",
      "[123]\tvalidation_0-logloss:0.03072\n",
      "[124]\tvalidation_0-logloss:0.03063\n",
      "[125]\tvalidation_0-logloss:0.03093\n",
      "[126]\tvalidation_0-logloss:0.03082\n",
      "[127]\tvalidation_0-logloss:0.03077\n",
      "[128]\tvalidation_0-logloss:0.03063\n",
      "[129]\tvalidation_0-logloss:0.03051\n",
      "[130]\tvalidation_0-logloss:0.03039\n",
      "[131]\tvalidation_0-logloss:0.03029\n",
      "[132]\tvalidation_0-logloss:0.03030\n",
      "[133]\tvalidation_0-logloss:0.03019\n",
      "[134]\tvalidation_0-logloss:0.02992\n",
      "[135]\tvalidation_0-logloss:0.02970\n",
      "[136]\tvalidation_0-logloss:0.02963\n",
      "[137]\tvalidation_0-logloss:0.02976\n",
      "[138]\tvalidation_0-logloss:0.02956\n",
      "[139]\tvalidation_0-logloss:0.02951\n",
      "[140]\tvalidation_0-logloss:0.02946\n",
      "[141]\tvalidation_0-logloss:0.02936\n",
      "[142]\tvalidation_0-logloss:0.02911\n",
      "[143]\tvalidation_0-logloss:0.02891\n",
      "[144]\tvalidation_0-logloss:0.02887\n",
      "[145]\tvalidation_0-logloss:0.02888\n",
      "[146]\tvalidation_0-logloss:0.02864\n",
      "[147]\tvalidation_0-logloss:0.02845\n",
      "[148]\tvalidation_0-logloss:0.02842\n",
      "[149]\tvalidation_0-logloss:0.02837\n",
      "[150]\tvalidation_0-logloss:0.02819\n",
      "[151]\tvalidation_0-logloss:0.02837\n",
      "[152]\tvalidation_0-logloss:0.02834\n",
      "[153]\tvalidation_0-logloss:0.02829\n",
      "[154]\tvalidation_0-logloss:0.02825\n",
      "[155]\tvalidation_0-logloss:0.02805\n",
      "[156]\tvalidation_0-logloss:0.02796\n",
      "[157]\tvalidation_0-logloss:0.02773\n",
      "[158]\tvalidation_0-logloss:0.02754\n",
      "[159]\tvalidation_0-logloss:0.02755\n",
      "[160]\tvalidation_0-logloss:0.02765\n",
      "[161]\tvalidation_0-logloss:0.02781\n",
      "[162]\tvalidation_0-logloss:0.02768\n",
      "[163]\tvalidation_0-logloss:0.02760\n",
      "[164]\tvalidation_0-logloss:0.02763\n",
      "[165]\tvalidation_0-logloss:0.02750\n",
      "[166]\tvalidation_0-logloss:0.02743\n",
      "[167]\tvalidation_0-logloss:0.02734\n",
      "[168]\tvalidation_0-logloss:0.02729\n",
      "[169]\tvalidation_0-logloss:0.02722\n",
      "[170]\tvalidation_0-logloss:0.02742\n",
      "[171]\tvalidation_0-logloss:0.02736\n",
      "[172]\tvalidation_0-logloss:0.02729\n",
      "[173]\tvalidation_0-logloss:0.02732\n",
      "[174]\tvalidation_0-logloss:0.02745\n",
      "[175]\tvalidation_0-logloss:0.02747\n",
      "[176]\tvalidation_0-logloss:0.02748\n",
      "[177]\tvalidation_0-logloss:0.02741\n",
      "[178]\tvalidation_0-logloss:0.02732\n",
      "[179]\tvalidation_0-logloss:0.02735\n",
      "[180]\tvalidation_0-logloss:0.02728\n",
      "[181]\tvalidation_0-logloss:0.02729\n",
      "[182]\tvalidation_0-logloss:0.02734\n",
      "[183]\tvalidation_0-logloss:0.02741\n",
      "[184]\tvalidation_0-logloss:0.02735\n",
      "[185]\tvalidation_0-logloss:0.02727\n",
      "[186]\tvalidation_0-logloss:0.02727\n",
      "[187]\tvalidation_0-logloss:0.02731\n",
      "[188]\tvalidation_0-logloss:0.02725\n",
      "[189]\tvalidation_0-logloss:0.02739\n",
      "[190]\tvalidation_0-logloss:0.02730\n",
      "[191]\tvalidation_0-logloss:0.02730\n",
      "[192]\tvalidation_0-logloss:0.02735\n",
      "[193]\tvalidation_0-logloss:0.02751\n",
      "[194]\tvalidation_0-logloss:0.02745\n",
      "[195]\tvalidation_0-logloss:0.02725\n",
      "[196]\tvalidation_0-logloss:0.02736\n",
      "[197]\tvalidation_0-logloss:0.02726\n",
      "[198]\tvalidation_0-logloss:0.02740\n",
      "[199]\tvalidation_0-logloss:0.02740\n",
      "[200]\tvalidation_0-logloss:0.02744\n",
      "[201]\tvalidation_0-logloss:0.02743\n",
      "[202]\tvalidation_0-logloss:0.02738\n",
      "[203]\tvalidation_0-logloss:0.02755\n",
      "[204]\tvalidation_0-logloss:0.02751\n",
      "[205]\tvalidation_0-logloss:0.02744\n",
      "[206]\tvalidation_0-logloss:0.02761\n",
      "[207]\tvalidation_0-logloss:0.02753\n",
      "[208]\tvalidation_0-logloss:0.02751\n",
      "[209]\tvalidation_0-logloss:0.02746\n",
      "[210]\tvalidation_0-logloss:0.02740\n",
      "[211]\tvalidation_0-logloss:0.02753\n",
      "[212]\tvalidation_0-logloss:0.02751\n",
      "[213]\tvalidation_0-logloss:0.02744\n",
      "[214]\tvalidation_0-logloss:0.02741\n",
      "[215]\tvalidation_0-logloss:0.02740\n",
      "[216]\tvalidation_0-logloss:0.02757\n",
      "[217]\tvalidation_0-logloss:0.02753\n",
      "[218]\tvalidation_0-logloss:0.02743\n"
     ]
    }
   ],
   "source": [
    "from xgboost import XGBClassifier\n",
    "\n",
    "xgb_wrapper = XGBClassifier(n_estimators=400, learning_rate=0.1, max_depth=3)\n",
    "\n",
    "evals = [(X_test, y_test)]\n",
    "\n",
    "# early_stopping_rounds=50\n",
    "xgb_wrapper.fit(X_train, y_train, early_stopping_rounds=50, eval_metric=\"logloss\", \n",
    "                eval_set=evals, verbose=True)\n",
    "\n",
    "ws100_preds = xgb_wrapper.predict(X_test)\n",
    "ws100_pred_proba = xgb_wrapper.predict_proba(X_test)[:, 1]"
   ]
  },
  {
   "cell_type": "code",
   "execution_count": 67,
   "id": "98d6d5b1",
   "metadata": {},
   "outputs": [
    {
     "name": "stdout",
     "output_type": "stream",
     "text": [
      "오차 행렬\n",
      "[[36  2]\n",
      " [ 0 76]]\n",
      "정확도: 0.9825, 정밀도: 0.9744, 재현율: 1.0000,    F1: 0.9870, AUC:1.0000 \n",
      "\n"
     ]
    }
   ],
   "source": [
    "get_clf_eval(y_test , ws100_preds, ws100_pred_proba)"
   ]
  },
  {
   "cell_type": "code",
   "execution_count": 68,
   "id": "8747de24",
   "metadata": {},
   "outputs": [
    {
     "name": "stdout",
     "output_type": "stream",
     "text": [
      "[0]\tvalidation_0-logloss:0.61282\n",
      "[1]\tvalidation_0-logloss:0.54112\n",
      "[2]\tvalidation_0-logloss:0.48139\n",
      "[3]\tvalidation_0-logloss:0.42984\n",
      "[4]\tvalidation_0-logloss:0.38936\n",
      "[5]\tvalidation_0-logloss:0.35109\n",
      "[6]\tvalidation_0-logloss:0.32014\n",
      "[7]\tvalidation_0-logloss:0.29190\n",
      "[8]\tvalidation_0-logloss:0.26556\n",
      "[9]\tvalidation_0-logloss:0.24385\n",
      "[10]\tvalidation_0-logloss:0.22614\n",
      "[11]\tvalidation_0-logloss:0.21025\n",
      "[12]\tvalidation_0-logloss:0.19319\n",
      "[13]\tvalidation_0-logloss:0.17976\n",
      "[14]\tvalidation_0-logloss:0.16620\n",
      "[15]\tvalidation_0-logloss:0.15614\n",
      "[16]\tvalidation_0-logloss:0.14731\n",
      "[17]\tvalidation_0-logloss:0.13762\n",
      "[18]\tvalidation_0-logloss:0.12923\n",
      "[19]\tvalidation_0-logloss:0.12281\n",
      "[20]\tvalidation_0-logloss:0.11820\n",
      "[21]\tvalidation_0-logloss:0.11244\n",
      "[22]\tvalidation_0-logloss:0.10646\n",
      "[23]\tvalidation_0-logloss:0.10116\n",
      "[24]\tvalidation_0-logloss:0.09627\n",
      "[25]\tvalidation_0-logloss:0.09168\n",
      "[26]\tvalidation_0-logloss:0.08974\n",
      "[27]\tvalidation_0-logloss:0.08500\n",
      "[28]\tvalidation_0-logloss:0.08140\n",
      "[29]\tvalidation_0-logloss:0.07823\n",
      "[30]\tvalidation_0-logloss:0.07595\n",
      "[31]\tvalidation_0-logloss:0.07197\n",
      "[32]\tvalidation_0-logloss:0.06964\n",
      "[33]\tvalidation_0-logloss:0.06739\n",
      "[34]\tvalidation_0-logloss:0.06703\n",
      "[35]\tvalidation_0-logloss:0.06517\n",
      "[36]\tvalidation_0-logloss:0.06332\n",
      "[37]\tvalidation_0-logloss:0.06339\n",
      "[38]\tvalidation_0-logloss:0.06086\n",
      "[39]\tvalidation_0-logloss:0.05902\n",
      "[40]\tvalidation_0-logloss:0.05782\n",
      "[41]\tvalidation_0-logloss:0.05660\n",
      "[42]\tvalidation_0-logloss:0.05502\n",
      "[43]\tvalidation_0-logloss:0.05382\n",
      "[44]\tvalidation_0-logloss:0.05224\n",
      "[45]\tvalidation_0-logloss:0.05077\n",
      "[46]\tvalidation_0-logloss:0.05048\n",
      "[47]\tvalidation_0-logloss:0.04899\n",
      "[48]\tvalidation_0-logloss:0.04830\n",
      "[49]\tvalidation_0-logloss:0.04765\n",
      "[50]\tvalidation_0-logloss:0.04695\n",
      "[51]\tvalidation_0-logloss:0.04620\n",
      "[52]\tvalidation_0-logloss:0.04524\n",
      "[53]\tvalidation_0-logloss:0.04422\n",
      "[54]\tvalidation_0-logloss:0.04380\n",
      "[55]\tvalidation_0-logloss:0.04282\n",
      "[56]\tvalidation_0-logloss:0.04246\n",
      "[57]\tvalidation_0-logloss:0.04161\n",
      "[58]\tvalidation_0-logloss:0.04100\n",
      "[59]\tvalidation_0-logloss:0.04023\n",
      "[60]\tvalidation_0-logloss:0.03919\n",
      "[61]\tvalidation_0-logloss:0.03948\n",
      "[62]\tvalidation_0-logloss:0.03877\n",
      "[63]\tvalidation_0-logloss:0.03867\n",
      "[64]\tvalidation_0-logloss:0.03901\n",
      "[65]\tvalidation_0-logloss:0.03837\n",
      "[66]\tvalidation_0-logloss:0.03794\n",
      "[67]\tvalidation_0-logloss:0.03754\n",
      "[68]\tvalidation_0-logloss:0.03799\n",
      "[69]\tvalidation_0-logloss:0.03735\n",
      "[70]\tvalidation_0-logloss:0.03700\n",
      "[71]\tvalidation_0-logloss:0.03704\n",
      "[72]\tvalidation_0-logloss:0.03683\n",
      "[73]\tvalidation_0-logloss:0.03672\n",
      "[74]\tvalidation_0-logloss:0.03622\n",
      "[75]\tvalidation_0-logloss:0.03602\n",
      "[76]\tvalidation_0-logloss:0.03547\n",
      "[77]\tvalidation_0-logloss:0.03497\n",
      "[78]\tvalidation_0-logloss:0.03460\n",
      "[79]\tvalidation_0-logloss:0.03433\n",
      "[80]\tvalidation_0-logloss:0.03466\n",
      "[81]\tvalidation_0-logloss:0.03465\n",
      "[82]\tvalidation_0-logloss:0.03434\n",
      "[83]\tvalidation_0-logloss:0.03422\n",
      "[84]\tvalidation_0-logloss:0.03401\n",
      "[85]\tvalidation_0-logloss:0.03385\n",
      "[86]\tvalidation_0-logloss:0.03362\n",
      "[87]\tvalidation_0-logloss:0.03339\n",
      "[88]\tvalidation_0-logloss:0.03308\n",
      "[89]\tvalidation_0-logloss:0.03296\n",
      "[90]\tvalidation_0-logloss:0.03278\n",
      "[91]\tvalidation_0-logloss:0.03250\n",
      "[92]\tvalidation_0-logloss:0.03277\n",
      "[93]\tvalidation_0-logloss:0.03265\n",
      "[94]\tvalidation_0-logloss:0.03222\n",
      "[95]\tvalidation_0-logloss:0.03192\n",
      "[96]\tvalidation_0-logloss:0.03167\n",
      "[97]\tvalidation_0-logloss:0.03173\n",
      "[98]\tvalidation_0-logloss:0.03162\n",
      "[99]\tvalidation_0-logloss:0.03147\n",
      "[100]\tvalidation_0-logloss:0.03183\n",
      "[101]\tvalidation_0-logloss:0.03175\n",
      "[102]\tvalidation_0-logloss:0.03159\n",
      "[103]\tvalidation_0-logloss:0.03193\n",
      "[104]\tvalidation_0-logloss:0.03175\n",
      "[105]\tvalidation_0-logloss:0.03173\n",
      "[106]\tvalidation_0-logloss:0.03173\n",
      "[107]\tvalidation_0-logloss:0.03166\n",
      "[108]\tvalidation_0-logloss:0.03151\n",
      "[109]\tvalidation_0-logloss:0.03135\n",
      "[110]\tvalidation_0-logloss:0.03110\n",
      "[111]\tvalidation_0-logloss:0.03104\n",
      "[112]\tvalidation_0-logloss:0.03136\n",
      "[113]\tvalidation_0-logloss:0.03106\n",
      "[114]\tvalidation_0-logloss:0.03102\n",
      "[115]\tvalidation_0-logloss:0.03088\n",
      "[116]\tvalidation_0-logloss:0.03079\n",
      "[117]\tvalidation_0-logloss:0.03083\n",
      "[118]\tvalidation_0-logloss:0.03071\n",
      "[119]\tvalidation_0-logloss:0.03103\n",
      "[120]\tvalidation_0-logloss:0.03074\n",
      "[121]\tvalidation_0-logloss:0.03083\n",
      "[122]\tvalidation_0-logloss:0.03076\n",
      "[123]\tvalidation_0-logloss:0.03072\n",
      "[124]\tvalidation_0-logloss:0.03063\n",
      "[125]\tvalidation_0-logloss:0.03093\n",
      "[126]\tvalidation_0-logloss:0.03082\n",
      "[127]\tvalidation_0-logloss:0.03077\n",
      "[128]\tvalidation_0-logloss:0.03063\n",
      "[129]\tvalidation_0-logloss:0.03051\n",
      "[130]\tvalidation_0-logloss:0.03039\n",
      "[131]\tvalidation_0-logloss:0.03029\n",
      "[132]\tvalidation_0-logloss:0.03030\n",
      "[133]\tvalidation_0-logloss:0.03019\n",
      "[134]\tvalidation_0-logloss:0.02992\n",
      "[135]\tvalidation_0-logloss:0.02970\n",
      "[136]\tvalidation_0-logloss:0.02963\n",
      "[137]\tvalidation_0-logloss:0.02976\n",
      "[138]\tvalidation_0-logloss:0.02956\n",
      "[139]\tvalidation_0-logloss:0.02951\n",
      "[140]\tvalidation_0-logloss:0.02946\n",
      "[141]\tvalidation_0-logloss:0.02936\n",
      "[142]\tvalidation_0-logloss:0.02911\n",
      "[143]\tvalidation_0-logloss:0.02891\n",
      "[144]\tvalidation_0-logloss:0.02887\n",
      "[145]\tvalidation_0-logloss:0.02888\n",
      "[146]\tvalidation_0-logloss:0.02864\n",
      "[147]\tvalidation_0-logloss:0.02845\n",
      "[148]\tvalidation_0-logloss:0.02842\n",
      "[149]\tvalidation_0-logloss:0.02837\n",
      "[150]\tvalidation_0-logloss:0.02819\n",
      "[151]\tvalidation_0-logloss:0.02837\n",
      "[152]\tvalidation_0-logloss:0.02834\n",
      "[153]\tvalidation_0-logloss:0.02829\n",
      "[154]\tvalidation_0-logloss:0.02825\n",
      "[155]\tvalidation_0-logloss:0.02805\n",
      "[156]\tvalidation_0-logloss:0.02796\n",
      "[157]\tvalidation_0-logloss:0.02773\n",
      "[158]\tvalidation_0-logloss:0.02754\n",
      "[159]\tvalidation_0-logloss:0.02755\n",
      "[160]\tvalidation_0-logloss:0.02765\n",
      "[161]\tvalidation_0-logloss:0.02781\n",
      "[162]\tvalidation_0-logloss:0.02768\n",
      "[163]\tvalidation_0-logloss:0.02760\n",
      "[164]\tvalidation_0-logloss:0.02763\n",
      "[165]\tvalidation_0-logloss:0.02750\n",
      "[166]\tvalidation_0-logloss:0.02743\n",
      "[167]\tvalidation_0-logloss:0.02734\n",
      "[168]\tvalidation_0-logloss:0.02729\n",
      "[169]\tvalidation_0-logloss:0.02722\n",
      "[170]\tvalidation_0-logloss:0.02742\n",
      "[171]\tvalidation_0-logloss:0.02736\n",
      "[172]\tvalidation_0-logloss:0.02729\n",
      "[173]\tvalidation_0-logloss:0.02732\n",
      "[174]\tvalidation_0-logloss:0.02745\n",
      "[175]\tvalidation_0-logloss:0.02747\n",
      "[176]\tvalidation_0-logloss:0.02748\n",
      "[177]\tvalidation_0-logloss:0.02741\n",
      "[178]\tvalidation_0-logloss:0.02732\n",
      "[179]\tvalidation_0-logloss:0.02735\n",
      "오차 행렬\n",
      "[[36  2]\n",
      " [ 0 76]]\n",
      "정확도: 0.9825, 정밀도: 0.9744, 재현율: 1.0000,    F1: 0.9870, AUC:1.0000 \n",
      "\n"
     ]
    }
   ],
   "source": [
    "# early_stopping_rounds를 10으로 설정하고 재 학습. \n",
    "\n",
    "# 학습(early_stopping_rounds=10)\n",
    "xgb_wrapper.fit(X_train, y_train, early_stopping_rounds=10, \n",
    "                eval_metric=\"logloss\", eval_set=evals,verbose=True)\n",
    "# 예측\n",
    "ws10_preds = xgb_wrapper.predict(X_test)\n",
    "\n",
    "# 평가\n",
    "ws10_pred_proba = xgb_wrapper.predict_proba(X_test)[:, 1]\n",
    "get_clf_eval(y_test , ws10_preds, ws10_pred_proba)"
   ]
  },
  {
   "cell_type": "code",
   "execution_count": 69,
   "id": "9a412973",
   "metadata": {},
   "outputs": [
    {
     "data": {
      "text/plain": [
       "<AxesSubplot:title={'center':'Feature importance'}, xlabel='F score', ylabel='Features'>"
      ]
     },
     "execution_count": 69,
     "metadata": {},
     "output_type": "execute_result"
    },
    {
     "data": {
      "image/png": "[encoded data removed]",
      "text/plain": [
       "<Figure size 720x864 with 1 Axes>"
      ]
     },
     "metadata": {
      "needs_background": "light"
     },
     "output_type": "display_data"
    }
   ],
   "source": [
    "from xgboost import plot_importance\n",
    "import matplotlib.pyplot as plt\n",
    "%matplotlib inline\n",
    "\n",
    "fig, ax = plt.subplots(figsize=(10, 12))\n",
    "\n",
    "# feature importance 확인은 사이킷런 래퍼 클래스를 입력해도 무방. \n",
    "plot_importance(xgb_wrapper, ax=ax)"
   ]
  },
  {
   "cell_type": "code",
   "execution_count": null,
   "id": "2a9ed374",
   "metadata": {},
   "outputs": [],
   "source": []
  },
  {
   "cell_type": "markdown",
   "id": "dac2a137",
   "metadata": {},
   "source": [
    "## LightGBM"
   ]
  },
  {
   "cell_type": "code",
   "execution_count": 70,
   "id": "a6cb8a43",
   "metadata": {},
   "outputs": [],
   "source": [
    "# LightGBM의 파이썬 패키지인 lightgbm에서 LGBMClassifier 임포트\n",
    "from lightgbm import LGBMClassifier"
   ]
  },
  {
   "cell_type": "code",
   "execution_count": 71,
   "id": "5038e634",
   "metadata": {},
   "outputs": [
    {
     "name": "stdout",
     "output_type": "stream",
     "text": [
      "[1]\tvalid_0's binary_logloss: 0.563819\n",
      "[2]\tvalid_0's binary_logloss: 0.499158\n",
      "[3]\tvalid_0's binary_logloss: 0.448067\n",
      "[4]\tvalid_0's binary_logloss: 0.401018\n",
      "[5]\tvalid_0's binary_logloss: 0.361462\n",
      "[6]\tvalid_0's binary_logloss: 0.329586\n",
      "[7]\tvalid_0's binary_logloss: 0.298421\n",
      "[8]\tvalid_0's binary_logloss: 0.271126\n",
      "[9]\tvalid_0's binary_logloss: 0.248142\n",
      "[10]\tvalid_0's binary_logloss: 0.228089\n",
      "[11]\tvalid_0's binary_logloss: 0.21386\n",
      "[12]\tvalid_0's binary_logloss: 0.19799\n",
      "[13]\tvalid_0's binary_logloss: 0.184998\n",
      "[14]\tvalid_0's binary_logloss: 0.173513\n",
      "[15]\tvalid_0's binary_logloss: 0.162488\n",
      "[16]\tvalid_0's binary_logloss: 0.155302\n",
      "[17]\tvalid_0's binary_logloss: 0.145601\n",
      "[18]\tvalid_0's binary_logloss: 0.138116\n",
      "[19]\tvalid_0's binary_logloss: 0.131759\n",
      "[20]\tvalid_0's binary_logloss: 0.125033\n",
      "[21]\tvalid_0's binary_logloss: 0.119589\n",
      "[22]\tvalid_0's binary_logloss: 0.113771\n",
      "[23]\tvalid_0's binary_logloss: 0.109999\n",
      "[24]\tvalid_0's binary_logloss: 0.10591\n",
      "[25]\tvalid_0's binary_logloss: 0.100538\n",
      "[26]\tvalid_0's binary_logloss: 0.0976308\n",
      "[27]\tvalid_0's binary_logloss: 0.0931821\n",
      "[28]\tvalid_0's binary_logloss: 0.0882951\n",
      "[29]\tvalid_0's binary_logloss: 0.0832676\n",
      "[30]\tvalid_0's binary_logloss: 0.0788967\n",
      "[31]\tvalid_0's binary_logloss: 0.073642\n",
      "[32]\tvalid_0's binary_logloss: 0.0711851\n",
      "[33]\tvalid_0's binary_logloss: 0.0690295\n",
      "[34]\tvalid_0's binary_logloss: 0.0674509\n",
      "[35]\tvalid_0's binary_logloss: 0.0660102\n",
      "[36]\tvalid_0's binary_logloss: 0.0646864\n",
      "[37]\tvalid_0's binary_logloss: 0.062887\n",
      "[38]\tvalid_0's binary_logloss: 0.0604913\n",
      "[39]\tvalid_0's binary_logloss: 0.0587378\n",
      "[40]\tvalid_0's binary_logloss: 0.0575167\n",
      "[41]\tvalid_0's binary_logloss: 0.0581101\n",
      "[42]\tvalid_0's binary_logloss: 0.0557154\n",
      "[43]\tvalid_0's binary_logloss: 0.0524199\n",
      "[44]\tvalid_0's binary_logloss: 0.0518041\n",
      "[45]\tvalid_0's binary_logloss: 0.0499887\n",
      "[46]\tvalid_0's binary_logloss: 0.049176\n",
      "[47]\tvalid_0's binary_logloss: 0.0488873\n",
      "[48]\tvalid_0's binary_logloss: 0.0465249\n",
      "[49]\tvalid_0's binary_logloss: 0.044752\n",
      "[50]\tvalid_0's binary_logloss: 0.0455379\n",
      "[51]\tvalid_0's binary_logloss: 0.0459353\n",
      "[52]\tvalid_0's binary_logloss: 0.0444206\n",
      "[53]\tvalid_0's binary_logloss: 0.0429965\n",
      "[54]\tvalid_0's binary_logloss: 0.0440761\n",
      "[55]\tvalid_0's binary_logloss: 0.0434893\n",
      "[56]\tvalid_0's binary_logloss: 0.042048\n",
      "[57]\tvalid_0's binary_logloss: 0.0419912\n",
      "[58]\tvalid_0's binary_logloss: 0.0413913\n",
      "[59]\tvalid_0's binary_logloss: 0.0416672\n",
      "[60]\tvalid_0's binary_logloss: 0.0390602\n",
      "[61]\tvalid_0's binary_logloss: 0.0393835\n",
      "[62]\tvalid_0's binary_logloss: 0.0385537\n",
      "[63]\tvalid_0's binary_logloss: 0.0377939\n",
      "[64]\tvalid_0's binary_logloss: 0.0374403\n",
      "[65]\tvalid_0's binary_logloss: 0.0373643\n",
      "[66]\tvalid_0's binary_logloss: 0.0359643\n",
      "[67]\tvalid_0's binary_logloss: 0.0345491\n",
      "[68]\tvalid_0's binary_logloss: 0.034308\n",
      "[69]\tvalid_0's binary_logloss: 0.0339312\n",
      "[70]\tvalid_0's binary_logloss: 0.0338598\n",
      "[71]\tvalid_0's binary_logloss: 0.0343768\n",
      "[72]\tvalid_0's binary_logloss: 0.0346029\n",
      "[73]\tvalid_0's binary_logloss: 0.0356837\n",
      "[74]\tvalid_0's binary_logloss: 0.0361281\n",
      "[75]\tvalid_0's binary_logloss: 0.0346438\n",
      "[76]\tvalid_0's binary_logloss: 0.0349467\n",
      "[77]\tvalid_0's binary_logloss: 0.033701\n",
      "[78]\tvalid_0's binary_logloss: 0.0346724\n",
      "[79]\tvalid_0's binary_logloss: 0.0336369\n",
      "[80]\tvalid_0's binary_logloss: 0.0339747\n",
      "[81]\tvalid_0's binary_logloss: 0.0322167\n",
      "[82]\tvalid_0's binary_logloss: 0.0326204\n",
      "[83]\tvalid_0's binary_logloss: 0.0330823\n",
      "[84]\tvalid_0's binary_logloss: 0.0333477\n",
      "[85]\tvalid_0's binary_logloss: 0.0325528\n",
      "[86]\tvalid_0's binary_logloss: 0.0333227\n",
      "[87]\tvalid_0's binary_logloss: 0.0342658\n",
      "[88]\tvalid_0's binary_logloss: 0.0339074\n",
      "[89]\tvalid_0's binary_logloss: 0.0325803\n",
      "[90]\tvalid_0's binary_logloss: 0.0331441\n",
      "[91]\tvalid_0's binary_logloss: 0.03355\n",
      "[92]\tvalid_0's binary_logloss: 0.0348045\n",
      "[93]\tvalid_0's binary_logloss: 0.0338029\n",
      "[94]\tvalid_0's binary_logloss: 0.0342209\n",
      "[95]\tvalid_0's binary_logloss: 0.0347367\n",
      "[96]\tvalid_0's binary_logloss: 0.0335382\n",
      "[97]\tvalid_0's binary_logloss: 0.0341265\n",
      "[98]\tvalid_0's binary_logloss: 0.0338033\n",
      "[99]\tvalid_0's binary_logloss: 0.0323944\n",
      "[100]\tvalid_0's binary_logloss: 0.0331274\n",
      "[101]\tvalid_0's binary_logloss: 0.0313824\n",
      "[102]\tvalid_0's binary_logloss: 0.0302112\n",
      "[103]\tvalid_0's binary_logloss: 0.02981\n",
      "[104]\tvalid_0's binary_logloss: 0.0296915\n",
      "[105]\tvalid_0's binary_logloss: 0.0311536\n",
      "[106]\tvalid_0's binary_logloss: 0.0314578\n",
      "[107]\tvalid_0's binary_logloss: 0.0312898\n",
      "[108]\tvalid_0's binary_logloss: 0.0316604\n",
      "[109]\tvalid_0's binary_logloss: 0.0316558\n",
      "[110]\tvalid_0's binary_logloss: 0.030711\n",
      "[111]\tvalid_0's binary_logloss: 0.0301489\n",
      "[112]\tvalid_0's binary_logloss: 0.0309137\n",
      "[113]\tvalid_0's binary_logloss: 0.0308328\n",
      "[114]\tvalid_0's binary_logloss: 0.0315636\n",
      "[115]\tvalid_0's binary_logloss: 0.030434\n",
      "[116]\tvalid_0's binary_logloss: 0.0293688\n",
      "[117]\tvalid_0's binary_logloss: 0.0280202\n",
      "[118]\tvalid_0's binary_logloss: 0.0268851\n",
      "[119]\tvalid_0's binary_logloss: 0.027644\n",
      "[120]\tvalid_0's binary_logloss: 0.0272794\n",
      "[121]\tvalid_0's binary_logloss: 0.0281064\n",
      "[122]\tvalid_0's binary_logloss: 0.0278707\n",
      "[123]\tvalid_0's binary_logloss: 0.0270222\n",
      "[124]\tvalid_0's binary_logloss: 0.027375\n",
      "[125]\tvalid_0's binary_logloss: 0.0279472\n",
      "[126]\tvalid_0's binary_logloss: 0.0291505\n",
      "[127]\tvalid_0's binary_logloss: 0.0293045\n",
      "[128]\tvalid_0's binary_logloss: 0.0296958\n",
      "[129]\tvalid_0's binary_logloss: 0.0302423\n",
      "[130]\tvalid_0's binary_logloss: 0.0301367\n",
      "[131]\tvalid_0's binary_logloss: 0.0291792\n",
      "[132]\tvalid_0's binary_logloss: 0.0300214\n",
      "[133]\tvalid_0's binary_logloss: 0.0304091\n",
      "[134]\tvalid_0's binary_logloss: 0.0296432\n",
      "[135]\tvalid_0's binary_logloss: 0.0287362\n",
      "[136]\tvalid_0's binary_logloss: 0.029253\n",
      "[137]\tvalid_0's binary_logloss: 0.0307387\n",
      "[138]\tvalid_0's binary_logloss: 0.0310256\n",
      "[139]\tvalid_0's binary_logloss: 0.0316227\n",
      "[140]\tvalid_0's binary_logloss: 0.0325726\n",
      "[141]\tvalid_0's binary_logloss: 0.0331317\n",
      "[142]\tvalid_0's binary_logloss: 0.0315955\n",
      "[143]\tvalid_0's binary_logloss: 0.0317309\n",
      "[144]\tvalid_0's binary_logloss: 0.0318248\n",
      "[145]\tvalid_0's binary_logloss: 0.0317464\n",
      "[146]\tvalid_0's binary_logloss: 0.0315663\n",
      "[147]\tvalid_0's binary_logloss: 0.0310906\n",
      "[148]\tvalid_0's binary_logloss: 0.0317696\n",
      "[149]\tvalid_0's binary_logloss: 0.0321327\n",
      "[150]\tvalid_0's binary_logloss: 0.0317348\n",
      "[151]\tvalid_0's binary_logloss: 0.0307597\n",
      "[152]\tvalid_0's binary_logloss: 0.0312029\n",
      "[153]\tvalid_0's binary_logloss: 0.0308375\n",
      "[154]\tvalid_0's binary_logloss: 0.0315881\n",
      "[155]\tvalid_0's binary_logloss: 0.0317465\n",
      "[156]\tvalid_0's binary_logloss: 0.0315241\n",
      "[157]\tvalid_0's binary_logloss: 0.0320936\n",
      "[158]\tvalid_0's binary_logloss: 0.0316705\n",
      "[159]\tvalid_0's binary_logloss: 0.0314702\n",
      "[160]\tvalid_0's binary_logloss: 0.0309941\n",
      "[161]\tvalid_0's binary_logloss: 0.0299815\n",
      "[162]\tvalid_0's binary_logloss: 0.0299625\n",
      "[163]\tvalid_0's binary_logloss: 0.0298659\n",
      "[164]\tvalid_0's binary_logloss: 0.0299769\n",
      "[165]\tvalid_0's binary_logloss: 0.0294046\n",
      "[166]\tvalid_0's binary_logloss: 0.0301886\n",
      "[167]\tvalid_0's binary_logloss: 0.0301173\n",
      "[168]\tvalid_0's binary_logloss: 0.0294176\n",
      "[169]\tvalid_0's binary_logloss: 0.0302173\n",
      "[170]\tvalid_0's binary_logloss: 0.0298073\n",
      "[171]\tvalid_0's binary_logloss: 0.0298729\n",
      "[172]\tvalid_0's binary_logloss: 0.0306139\n",
      "[173]\tvalid_0's binary_logloss: 0.0302422\n",
      "[174]\tvalid_0's binary_logloss: 0.0302915\n",
      "[175]\tvalid_0's binary_logloss: 0.0297121\n",
      "[176]\tvalid_0's binary_logloss: 0.0303446\n",
      "[177]\tvalid_0's binary_logloss: 0.0302989\n",
      "[178]\tvalid_0's binary_logloss: 0.0301326\n",
      "[179]\tvalid_0's binary_logloss: 0.0305985\n",
      "[180]\tvalid_0's binary_logloss: 0.0304203\n",
      "[181]\tvalid_0's binary_logloss: 0.0301102\n",
      "[182]\tvalid_0's binary_logloss: 0.0301389\n",
      "[183]\tvalid_0's binary_logloss: 0.0309924\n",
      "[184]\tvalid_0's binary_logloss: 0.0309736\n",
      "[185]\tvalid_0's binary_logloss: 0.0307826\n",
      "[186]\tvalid_0's binary_logloss: 0.0306335\n",
      "[187]\tvalid_0's binary_logloss: 0.0303398\n",
      "[188]\tvalid_0's binary_logloss: 0.0312015\n",
      "[189]\tvalid_0's binary_logloss: 0.0311339\n",
      "[190]\tvalid_0's binary_logloss: 0.0311867\n",
      "[191]\tvalid_0's binary_logloss: 0.0318727\n",
      "[192]\tvalid_0's binary_logloss: 0.0312046\n",
      "[193]\tvalid_0's binary_logloss: 0.0313897\n",
      "[194]\tvalid_0's binary_logloss: 0.0313023\n",
      "[195]\tvalid_0's binary_logloss: 0.0313489\n",
      "[196]\tvalid_0's binary_logloss: 0.0317379\n",
      "[197]\tvalid_0's binary_logloss: 0.0315775\n",
      "[198]\tvalid_0's binary_logloss: 0.0316241\n",
      "[199]\tvalid_0's binary_logloss: 0.0309435\n",
      "[200]\tvalid_0's binary_logloss: 0.0307982\n",
      "[201]\tvalid_0's binary_logloss: 0.0305249\n",
      "[202]\tvalid_0's binary_logloss: 0.0305263\n",
      "[203]\tvalid_0's binary_logloss: 0.0303955\n",
      "[204]\tvalid_0's binary_logloss: 0.0301118\n",
      "[205]\tvalid_0's binary_logloss: 0.0297393\n",
      "[206]\tvalid_0's binary_logloss: 0.0301207\n",
      "[207]\tvalid_0's binary_logloss: 0.0307253\n",
      "[208]\tvalid_0's binary_logloss: 0.0302666\n",
      "[209]\tvalid_0's binary_logloss: 0.030382\n",
      "[210]\tvalid_0's binary_logloss: 0.0304235\n",
      "[211]\tvalid_0's binary_logloss: 0.0301669\n",
      "[212]\tvalid_0's binary_logloss: 0.0300232\n",
      "[213]\tvalid_0's binary_logloss: 0.0294688\n",
      "[214]\tvalid_0's binary_logloss: 0.0298988\n",
      "[215]\tvalid_0's binary_logloss: 0.0300508\n",
      "[216]\tvalid_0's binary_logloss: 0.029468\n",
      "[217]\tvalid_0's binary_logloss: 0.0298426\n",
      "[218]\tvalid_0's binary_logloss: 0.0295791\n"
     ]
    },
    {
     "data": {
      "text/plain": [
       "LGBMClassifier(n_estimators=400)"
      ]
     },
     "execution_count": 71,
     "metadata": {},
     "output_type": "execute_result"
    }
   ],
   "source": [
    "# 앞서 XGBoost와 동일하게 n_estimators는 400 설정. \n",
    "lgbm_wrapper = LGBMClassifier(n_estimators=400)\n",
    "\n",
    "# LightGBM도 XGBoost와 동일하게 조기 중단 수행 가능. \n",
    "evals = [(X_test, y_test)]  # 원래 evals 데이터는 검증 데이터 셋을 별도로 둬야되는데 여기서는 테스트 데이터 사용\n",
    "lgbm_wrapper.fit(X_train, y_train, early_stopping_rounds=100, eval_metric=\"logloss\", \n",
    "                 eval_set=evals, verbose=True)"
   ]
  },
  {
   "cell_type": "code",
   "execution_count": 72,
   "id": "db498b04",
   "metadata": {},
   "outputs": [
    {
     "data": {
      "text/plain": [
       "array([0, 0, 0, 0, 0, 1, 1, 1, 1, 1, 1, 0, 1, 1, 1, 1, 1, 1, 1, 0, 0, 1,\n",
       "       1, 1, 1, 1, 1, 1, 1, 1, 1, 1, 1, 1, 1, 1, 1, 1, 1, 1, 1, 0, 1, 1,\n",
       "       1, 1, 0, 1, 0, 0, 1, 1, 0, 1, 1, 1, 0, 1, 1, 1, 0, 0, 1, 1, 0, 1,\n",
       "       1, 1, 1, 1, 0, 1, 1, 0, 1, 0, 0, 1, 1, 1, 1, 1, 0, 1, 0, 1, 0, 0,\n",
       "       1, 1, 0, 0, 1, 1, 0, 1, 1, 1, 1, 0, 0, 1, 0, 1, 0, 0, 0, 1, 1, 1,\n",
       "       1, 0, 1, 0])"
      ]
     },
     "execution_count": 72,
     "metadata": {},
     "output_type": "execute_result"
    }
   ],
   "source": [
    "preds = lgbm_wrapper.predict(X_test)\n",
    "preds"
   ]
  },
  {
   "cell_type": "code",
   "execution_count": 73,
   "id": "9b168f5e",
   "metadata": {},
   "outputs": [
    {
     "data": {
      "text/plain": [
       "array([8.43021090e-06, 7.05032065e-06, 8.98786655e-06, 4.44015178e-06,\n",
       "       7.85353750e-06, 9.99824776e-01, 5.68652597e-01, 9.99958840e-01,\n",
       "       9.99992118e-01, 9.99954543e-01])"
      ]
     },
     "execution_count": 73,
     "metadata": {},
     "output_type": "execute_result"
    }
   ],
   "source": [
    "# 1 예측 확률값 10개만 확인\n",
    "pred_proba = lgbm_wrapper.predict_proba(X_test)[:, 1]  # 종속이 1일 확률만 추출\n",
    "pred_proba[:10]"
   ]
  },
  {
   "cell_type": "code",
   "execution_count": 74,
   "id": "849468c3",
   "metadata": {},
   "outputs": [],
   "source": [
    "# 평가\n",
    "from sklearn.metrics import confusion_matrix, accuracy_score\n",
    "from sklearn.metrics import precision_score, recall_score\n",
    "from sklearn.metrics import f1_score, roc_auc_score\n",
    "\n",
    "# 성능 평가 함수\n",
    "def get_clf_eval(y_test, pred=None, pred_proba=None):\n",
    "    confusion = confusion_matrix( y_test, pred)\n",
    "    accuracy = accuracy_score(y_test , pred)\n",
    "    precision = precision_score(y_test , pred)\n",
    "    recall = recall_score(y_test , pred)\n",
    "    f1 = f1_score(y_test,pred)\n",
    "    # ROC-AUC 추가 \n",
    "    roc_auc = roc_auc_score(y_test, pred_proba)\n",
    "    print('오차 행렬')\n",
    "    print(confusion)\n",
    "    # ROC-AUC print 추가\n",
    "    print('정확도: {0:.4f}, 정밀도: {1:.4f}, 재현율: {2:.4f},\\\n",
    "    F1: {3:.4f}, AUC:{4:.4f}'.format(accuracy, precision, recall, f1, roc_auc), '\\n')"
   ]
  },
  {
   "cell_type": "code",
   "execution_count": 75,
   "id": "f05f039e",
   "metadata": {},
   "outputs": [
    {
     "name": "stdout",
     "output_type": "stream",
     "text": [
      "오차 행렬\n",
      "[[36  2]\n",
      " [ 0 76]]\n",
      "정확도: 0.9825, 정밀도: 0.9744, 재현율: 1.0000,    F1: 0.9870, AUC:0.9993 \n",
      "\n"
     ]
    }
   ],
   "source": [
    "get_clf_eval(y_test, preds, pred_proba)"
   ]
  },
  {
   "cell_type": "code",
   "execution_count": 76,
   "id": "0884151b",
   "metadata": {},
   "outputs": [
    {
     "data": {
      "text/plain": [
       "<AxesSubplot:title={'center':'Feature importance'}, xlabel='Feature importance', ylabel='Features'>"
      ]
     },
     "execution_count": 76,
     "metadata": {},
     "output_type": "execute_result"
    },
    {
     "data": {
      "image/png": "[encoded data removed]",
      "text/plain": [
       "<Figure size 720x864 with 1 Axes>"
      ]
     },
     "metadata": {
      "needs_background": "light"
     },
     "output_type": "display_data"
    }
   ],
   "source": [
    "from lightgbm import plot_importance\n",
    "import matplotlib.pyplot as plt\n",
    "%matplotlib inline\n",
    "\n",
    "fig, ax = plt.subplots(figsize=(10, 12))\n",
    "# 사이킷런 래퍼 클래스를 입력해도 무방. \n",
    "plot_importance(lgbm_wrapper, ax=ax)"
   ]
  },
  {
   "cell_type": "code",
   "execution_count": null,
   "id": "e751bf88",
   "metadata": {},
   "outputs": [],
   "source": []
  },
  {
   "cell_type": "markdown",
   "id": "cbb2496d",
   "metadata": {},
   "source": [
    "### 오차행렬, 정확도, 정밀도, 재현율을 한꺼번에 계산하는 함수 생성"
   ]
  },
  {
   "cell_type": "code",
   "execution_count": 77,
   "id": "84993a2d",
   "metadata": {},
   "outputs": [],
   "source": [
    "from sklearn.metrics import accuracy_score, precision_score , recall_score , confusion_matrix\n",
    "\n",
    "# confusion matrix, accuracy, precision, recall을 한꺼번에 계산하는 함수\n",
    "def get_clf_eval(y_test , pred):\n",
    "    confusion = confusion_matrix( y_test, pred)\n",
    "    accuracy = accuracy_score(y_test , pred)\n",
    "    precision = precision_score(y_test , pred)\n",
    "    recall = recall_score(y_test , pred)\n",
    "\n",
    "    print('오차 행렬')\n",
    "    print(confusion)\n",
    "    print('정확도: {0:.4f}, 정밀도: {1:.4f}, 재현율: {2:.4f}'.format(accuracy , precision ,recall), '\\n')"
   ]
  },
  {
   "cell_type": "code",
   "execution_count": 78,
   "id": "acdfb6e8",
   "metadata": {},
   "outputs": [
    {
     "data": {
      "text/plain": [
       "LogisticRegression()"
      ]
     },
     "execution_count": 78,
     "metadata": {},
     "output_type": "execute_result"
    }
   ],
   "source": [
    "# 로지스틱 회귀(분류 모델) 모델 정의\n",
    "lr_clf = LogisticRegression()\n",
    "lr_clf"
   ]
  },
  {
   "cell_type": "code",
   "execution_count": 79,
   "id": "b4f9ca72",
   "metadata": {},
   "outputs": [
    {
     "name": "stdout",
     "output_type": "stream",
     "text": [
      "오차 행렬\n",
      "[[33  5]\n",
      " [ 1 75]]\n",
      "정확도: 0.9474, 정밀도: 0.9375, 재현율: 0.9868 \n",
      "\n"
     ]
    }
   ],
   "source": [
    "# 학습\n",
    "lr_clf.fit(X_train , y_train)\n",
    "\n",
    "# 예측\n",
    "pred = lr_clf.predict(X_test)\n",
    "get_clf_eval(y_test , pred)"
   ]
  },
  {
   "cell_type": "code",
   "execution_count": 81,
   "id": "8700ac10",
   "metadata": {},
   "outputs": [
    {
     "data": {
      "text/plain": [
       "array([0, 0, 0, 0, 0, 1, 1, 1, 1, 1])"
      ]
     },
     "execution_count": 81,
     "metadata": {},
     "output_type": "execute_result"
    }
   ],
   "source": [
    "pred[:10]"
   ]
  },
  {
   "cell_type": "code",
   "execution_count": 80,
   "id": "91de3b6b",
   "metadata": {},
   "outputs": [
    {
     "data": {
      "text/plain": [
       "array([[9.99999775e-01, 2.25304053e-07],\n",
       "       [1.00000000e+00, 1.39033228e-10],\n",
       "       [9.99999986e-01, 1.36842578e-08],\n",
       "       [9.99999968e-01, 3.20689320e-08],\n",
       "       [1.00000000e+00, 1.14419213e-10],\n",
       "       [1.41504693e-01, 8.58495307e-01],\n",
       "       [2.95125010e-01, 7.04874990e-01],\n",
       "       [2.58035832e-02, 9.74196417e-01],\n",
       "       [1.03446456e-03, 9.98965535e-01],\n",
       "       [1.26550641e-02, 9.87344936e-01]])"
      ]
     },
     "execution_count": 80,
     "metadata": {},
     "output_type": "execute_result"
    }
   ],
   "source": [
    "# 테스트 데이터(타이타닉)의 분류 결정 예측 확률을 반환해준다.\n",
    "pred_proba = lr_clf.predict_proba(X_test)\n",
    "\n",
    "pred_proba.shape\n",
    "pred_proba[:10]  # [Negatve(0)가 될 확률, Positive(1)가 될 확률]"
   ]
  },
  {
   "cell_type": "code",
   "execution_count": 82,
   "id": "4917f553",
   "metadata": {},
   "outputs": [
    {
     "data": {
      "text/plain": [
       "array([[9.99999775e-01, 2.25304053e-07, 0.00000000e+00],\n",
       "       [1.00000000e+00, 1.39033228e-10, 0.00000000e+00],\n",
       "       [9.99999986e-01, 1.36842578e-08, 0.00000000e+00],\n",
       "       [9.99999968e-01, 3.20689320e-08, 0.00000000e+00],\n",
       "       [1.00000000e+00, 1.14419213e-10, 0.00000000e+00],\n",
       "       [1.41504693e-01, 8.58495307e-01, 1.00000000e+00],\n",
       "       [2.95125010e-01, 7.04874990e-01, 1.00000000e+00],\n",
       "       [2.58035832e-02, 9.74196417e-01, 1.00000000e+00],\n",
       "       [1.03446456e-03, 9.98965535e-01, 1.00000000e+00],\n",
       "       [1.26550641e-02, 9.87344936e-01, 1.00000000e+00]])"
      ]
     },
     "execution_count": 82,
     "metadata": {},
     "output_type": "execute_result"
    }
   ],
   "source": [
    "# 예측 결과값은 1차원 이므로 2차원으로 reshape 한 후에 예측 확률과 concatenate 함\n",
    "pred_proba_result = np.concatenate([pred_proba , pred.reshape(-1, 1)],axis=1)\n",
    "\n",
    "# 두개의 class 중에서 더 큰 확률을 클래스 값으로 예측\n",
    "pred_proba_result[:10]"
   ]
  },
  {
   "cell_type": "code",
   "execution_count": null,
   "id": "c8c0e957",
   "metadata": {},
   "outputs": [],
   "source": []
  },
  {
   "cell_type": "code",
   "execution_count": 85,
   "id": "847a529c",
   "metadata": {},
   "outputs": [
    {
     "name": "stdout",
     "output_type": "stream",
     "text": [
      "114\n"
     ]
    },
    {
     "data": {
      "text/plain": [
       "array([2.25304053e-07, 1.39033228e-10, 1.36842578e-08, 3.20689320e-08,\n",
       "       1.14419213e-10, 8.58495307e-01, 7.04874990e-01, 9.74196417e-01,\n",
       "       9.98965535e-01, 9.87344936e-01, 9.99129749e-01, 8.23889382e-01,\n",
       "       9.34991605e-01, 9.87852456e-01, 9.99876464e-01, 9.96735111e-01,\n",
       "       8.79379780e-02, 1.02158569e-01, 9.94745886e-01, 4.33851977e-09])"
      ]
     },
     "execution_count": 85,
     "metadata": {},
     "output_type": "execute_result"
    }
   ],
   "source": [
    "from sklearn.metrics import roc_curve\n",
    "\n",
    "# 레이블 값이 1일때의 예측 확률을 추출\n",
    "pred_proba_class1 = lr_clf.predict_proba(X_test)[:, 1] \n",
    "\n",
    "print(len(pred_proba_class1))\n",
    "pred_proba_class1[:20]"
   ]
  },
  {
   "cell_type": "code",
   "execution_count": 86,
   "id": "1d3ab336",
   "metadata": {},
   "outputs": [
    {
     "name": "stdout",
     "output_type": "stream",
     "text": [
      "분류 임곗값 Shape : (12,) \n",
      "\n"
     ]
    }
   ],
   "source": [
    "# fpr, tps, thresholds\n",
    "fprs , tprs , thresholds = roc_curve(y_test, pred_proba_class1)\n",
    "\n",
    "print('분류 임곗값 Shape :', thresholds.shape, '\\n')"
   ]
  },
  {
   "cell_type": "code",
   "execution_count": 87,
   "id": "3b0d3a14",
   "metadata": {},
   "outputs": [
    {
     "name": "stdout",
     "output_type": "stream",
     "text": [
      "샘플 추출을 위한 임곗값 배열의 index 10개: [ 0  5 10]\n",
      "샘플용 10개의 임곗값:  [2.  0.7 0.1]\n"
     ]
    }
   ],
   "source": [
    "# 반환된 임곗값 배열 로우가 55건이므로 샘플로 10건만 추출하되, 임곗값을 5 Step으로 추출. \n",
    "thr_index = np.arange(0, thresholds.shape[0], 5)\n",
    "print('샘플 추출을 위한 임곗값 배열의 index 10개:', thr_index)\n",
    "print('샘플용 10개의 임곗값: ', np.round(thresholds[thr_index], 2))"
   ]
  },
  {
   "cell_type": "code",
   "execution_count": 88,
   "id": "665c7954",
   "metadata": {},
   "outputs": [
    {
     "name": "stdout",
     "output_type": "stream",
     "text": [
      "샘플 임곗값별 FPR:  [0.    0.105 0.184]\n",
      "샘플 임곗값별 TPR:  [0.    0.947 1.   ]\n"
     ]
    }
   ],
   "source": [
    "# 5 step 단위로 추출된 임계값에 따른 FPR, TPR 값\n",
    "print('샘플 임곗값별 FPR: ', np.round(fprs[thr_index], 3))\n",
    "print('샘플 임곗값별 TPR: ', np.round(tprs[thr_index], 3))"
   ]
  },
  {
   "cell_type": "code",
   "execution_count": 89,
   "id": "7d1375f2",
   "metadata": {},
   "outputs": [
    {
     "data": {
      "image/png": "[encoded data removed]",
      "text/plain": [
       "<Figure size 432x288 with 1 Axes>"
      ]
     },
     "metadata": {
      "needs_background": "light"
     },
     "output_type": "display_data"
    }
   ],
   "source": [
    "def roc_curve_plot(y_test , pred_proba_c1):\n",
    "    # 임곗값에 따른 FPR, TPR 값을 반환 받음. \n",
    "    fprs , tprs , thresholds = roc_curve(y_test ,pred_proba_c1)\n",
    "\n",
    "    # ROC Curve를 plot 곡선으로 그림. \n",
    "    plt.plot(fprs , tprs, label='ROC')\n",
    "    \n",
    "    # 가운데 대각선 직선(random 값일 때)을 그림. \n",
    "    plt.plot([0, 1], [0, 1], 'k--', label='Random')\n",
    "    \n",
    "    # FPR X 축의 Scale을 0.1 단위로 변경, X,Y 축명 설정등   \n",
    "    start, end = plt.xlim()\n",
    "    plt.xticks(np.round(np.arange(start, end, 0.1),2))\n",
    "    plt.xlim(0,1); plt.ylim(0,1)\n",
    "    plt.xlabel('FPR( 1 - Sensitivity )'); plt.ylabel('TPR( Recall )')\n",
    "    plt.legend()\n",
    "    plt.show()\n",
    "    \n",
    "roc_curve_plot(y_test, lr_clf.predict_proba(X_test)[:, 1] )"
   ]
  },
  {
   "cell_type": "code",
   "execution_count": 90,
   "id": "d5374159",
   "metadata": {},
   "outputs": [
    {
     "name": "stdout",
     "output_type": "stream",
     "text": [
      "ROC AUC 값: 0.9913\n"
     ]
    }
   ],
   "source": [
    "from sklearn.metrics import roc_auc_score\n",
    "\n",
    "### 아래는 roc_auc_score()의 인자를 잘못 입력한 것으로, 책에서 수정이 필요한 부분입니다. \n",
    "### 책에서는 roc_auc_score(y_test, pred)로 예측 타겟값을 입력하였으나 \n",
    "### roc_auc_score(y_test, y_score)로 y_score는 predict_proba()로 호출된 예측 확률 ndarray중 Positive 열에 해당하는 ndarray입니다. \n",
    "\n",
    "# pred = lr_clf.predict(X_test)\n",
    "# roc_score = roc_auc_score(y_test, pred)\n",
    "\n",
    "# 수정된 내용\n",
    "pred_proba = lr_clf.predict_proba(X_test)[:, 1]\n",
    "roc_score = roc_auc_score(y_test, pred_proba)\n",
    "print('ROC AUC 값: {0:.4f}'.format(roc_score))"
   ]
  },
  {
   "cell_type": "code",
   "execution_count": 91,
   "id": "d92cf980",
   "metadata": {},
   "outputs": [],
   "source": [
    "# ROC-AUC가 추가된 get_clf_eval 함수 \n",
    "# : 모델의 평가지표들(오차 행렬, 정확도, 정밀도, 재현율, f1 score, ROC AUC)을 보여준다.\n",
    "def get_clf_eval(y_test, pred=None, pred_proba=None):\n",
    "    confusion = confusion_matrix( y_test, pred)\n",
    "    accuracy = accuracy_score(y_test , pred)\n",
    "    precision = precision_score(y_test , pred)\n",
    "    recall = recall_score(y_test , pred)\n",
    "    f1 = f1_score(y_test,pred)\n",
    "    \n",
    "    # ROC-AUC 추가 \n",
    "    roc_auc = roc_auc_score(y_test, pred_proba)\n",
    "    print('오차 행렬')\n",
    "    print(confusion)\n",
    "    # ROC-AUC print 추가\n",
    "    print('정확도: {0:.4f}, 정밀도: {1:.4f}, 재현율: {2:.4f},\\\n",
    "          F1: {3:.4f}, AUC:{4:.4f}'.format(accuracy, precision, recall, f1, roc_auc), '\\n')\n"
   ]
  },
  {
   "cell_type": "code",
   "execution_count": null,
   "id": "cf5fcc9c",
   "metadata": {},
   "outputs": [],
   "source": []
  },
  {
   "cell_type": "raw",
   "id": "1f9e2673",
   "metadata": {},
   "source": [
    "-----------------정확도-----------------------\n",
    "DecisionTreeClassifier = 0.9649\n",
    "DecisionTreeClassifier grid = 0.9561\n",
    "logistic regression = 0.9474\n",
    "KneighborsClassifier = 0.9561\n",
    "voting = 0.9737\n",
    "randomforest = 0.9825\n",
    "randomforest grid = 0.9825\n",
    "GBM = 0.9825\n",
    "GBM grid = 0.9912\n",
    "\n",
    "-----------------정확도 + 다양한 평가-----------------------\n",
    "XGBoost = 정확도: 0.9825, 정밀도: 0.9744, 재현율: 1.0000,    F1: 0.9870, AUC:0.9997\n",
    "lightGBM = 정확도: 0.9825, 정밀도: 0.9744, 재현율: 1.0000,    F1: 0.9870, AUC:0.9997\n"
   ]
  }
 ],
 "metadata": {
  "kernelspec": {
   "display_name": "Python 3 (ipykernel)",
   "language": "python",
   "name": "python3"
  },
  "language_info": {
   "codemirror_mode": {
    "name": "ipython",
    "version": 3
   },
   "file_extension": ".py",
   "mimetype": "text/x-python",
   "name": "python",
   "nbconvert_exporter": "python",
   "pygments_lexer": "ipython3",
   "version": "3.9.7"
  }
 },
 "nbformat": 4,
 "nbformat_minor": 5
}
