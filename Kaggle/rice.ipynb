{
 "cells": [
  {
   "cell_type": "code",
   "execution_count": 12,
   "id": "f3b66c76",
   "metadata": {},
   "outputs": [
    {
     "name": "stdout",
     "output_type": "stream",
     "text": [
      "3.4.3\n"
     ]
    }
   ],
   "source": [
    "# test\n",
    "import pandas as pd\n",
    "import os\n",
    "import matplotlib as mpl\n",
    "from matplotlib import font_manager, rc\n",
    "import matplotlib.pyplot as plt\n",
    "import numpy as np\n",
    "import pandas as pd\n",
    "print(mpl.__version__)\n",
    "# seaborn 스타일 사용\n",
    "plt.style.use('seaborn-notebook')\n",
    "\n",
    "# matplotlib 그래프 한글폰트 깨질 때 대처(Mac & Window)\n",
    "import platform\n",
    "if platform.system() == 'Windows':\n",
    "# 윈도우인 경우\n",
    "    font_name = font_manager.FontProperties(fname=\"c:/Windows/Fonts/malgun.ttf\").get_name()\n",
    "    rc('font', family=font_name)\n",
    "else:    \n",
    "# Mac 인 경우\n",
    "    rc('font', family='AppleGothic')\n",
    "    \n",
    "# 그래프에서 마이너스 기호가 표시되도록 하는 설정\n",
    "mpl.rcParams['axes.unicode_minus'] = False\n",
    "\n",
    "import seaborn as sns\n",
    "import warnings\n",
    "warnings.filterwarnings('ignore')\n",
    "%matplotlib inline"
   ]
  },
  {
   "cell_type": "code",
   "execution_count": 19,
   "id": "0b463f79",
   "metadata": {},
   "outputs": [],
   "source": [
    "data = pd.read_csv('riceClassification.csv')"
   ]
  },
  {
   "cell_type": "code",
   "execution_count": 20,
   "id": "b88f283e",
   "metadata": {},
   "outputs": [],
   "source": [
    "data = data.drop('id' , axis = 1)"
   ]
  },
  {
   "cell_type": "code",
   "execution_count": 21,
   "id": "bf540897",
   "metadata": {},
   "outputs": [
    {
     "data": {
      "text/html": [
       "<div>\n",
       "<style scoped>\n",
       "    .dataframe tbody tr th:only-of-type {\n",
       "        vertical-align: middle;\n",
       "    }\n",
       "\n",
       "    .dataframe tbody tr th {\n",
       "        vertical-align: top;\n",
       "    }\n",
       "\n",
       "    .dataframe thead th {\n",
       "        text-align: right;\n",
       "    }\n",
       "</style>\n",
       "<table border=\"1\" class=\"dataframe\">\n",
       "  <thead>\n",
       "    <tr style=\"text-align: right;\">\n",
       "      <th></th>\n",
       "      <th>Area</th>\n",
       "      <th>MajorAxisLength</th>\n",
       "      <th>MinorAxisLength</th>\n",
       "      <th>Eccentricity</th>\n",
       "      <th>ConvexArea</th>\n",
       "      <th>EquivDiameter</th>\n",
       "      <th>Extent</th>\n",
       "      <th>Perimeter</th>\n",
       "      <th>Roundness</th>\n",
       "      <th>AspectRation</th>\n",
       "      <th>Class</th>\n",
       "    </tr>\n",
       "  </thead>\n",
       "  <tbody>\n",
       "    <tr>\n",
       "      <th>0</th>\n",
       "      <td>4537</td>\n",
       "      <td>92.229316</td>\n",
       "      <td>64.012769</td>\n",
       "      <td>0.719916</td>\n",
       "      <td>4677</td>\n",
       "      <td>76.004525</td>\n",
       "      <td>0.657536</td>\n",
       "      <td>273.085</td>\n",
       "      <td>0.764510</td>\n",
       "      <td>1.440796</td>\n",
       "      <td>1</td>\n",
       "    </tr>\n",
       "    <tr>\n",
       "      <th>1</th>\n",
       "      <td>2872</td>\n",
       "      <td>74.691881</td>\n",
       "      <td>51.400454</td>\n",
       "      <td>0.725553</td>\n",
       "      <td>3015</td>\n",
       "      <td>60.471018</td>\n",
       "      <td>0.713009</td>\n",
       "      <td>208.317</td>\n",
       "      <td>0.831658</td>\n",
       "      <td>1.453137</td>\n",
       "      <td>1</td>\n",
       "    </tr>\n",
       "    <tr>\n",
       "      <th>2</th>\n",
       "      <td>3048</td>\n",
       "      <td>76.293164</td>\n",
       "      <td>52.043491</td>\n",
       "      <td>0.731211</td>\n",
       "      <td>3132</td>\n",
       "      <td>62.296341</td>\n",
       "      <td>0.759153</td>\n",
       "      <td>210.012</td>\n",
       "      <td>0.868434</td>\n",
       "      <td>1.465950</td>\n",
       "      <td>1</td>\n",
       "    </tr>\n",
       "    <tr>\n",
       "      <th>3</th>\n",
       "      <td>3073</td>\n",
       "      <td>77.033628</td>\n",
       "      <td>51.928487</td>\n",
       "      <td>0.738639</td>\n",
       "      <td>3157</td>\n",
       "      <td>62.551300</td>\n",
       "      <td>0.783529</td>\n",
       "      <td>210.657</td>\n",
       "      <td>0.870203</td>\n",
       "      <td>1.483456</td>\n",
       "      <td>1</td>\n",
       "    </tr>\n",
       "    <tr>\n",
       "      <th>4</th>\n",
       "      <td>3693</td>\n",
       "      <td>85.124785</td>\n",
       "      <td>56.374021</td>\n",
       "      <td>0.749282</td>\n",
       "      <td>3802</td>\n",
       "      <td>68.571668</td>\n",
       "      <td>0.769375</td>\n",
       "      <td>230.332</td>\n",
       "      <td>0.874743</td>\n",
       "      <td>1.510000</td>\n",
       "      <td>1</td>\n",
       "    </tr>\n",
       "    <tr>\n",
       "      <th>...</th>\n",
       "      <td>...</td>\n",
       "      <td>...</td>\n",
       "      <td>...</td>\n",
       "      <td>...</td>\n",
       "      <td>...</td>\n",
       "      <td>...</td>\n",
       "      <td>...</td>\n",
       "      <td>...</td>\n",
       "      <td>...</td>\n",
       "      <td>...</td>\n",
       "      <td>...</td>\n",
       "    </tr>\n",
       "    <tr>\n",
       "      <th>18180</th>\n",
       "      <td>5853</td>\n",
       "      <td>148.624571</td>\n",
       "      <td>51.029281</td>\n",
       "      <td>0.939210</td>\n",
       "      <td>6008</td>\n",
       "      <td>86.326537</td>\n",
       "      <td>0.498594</td>\n",
       "      <td>332.960</td>\n",
       "      <td>0.663444</td>\n",
       "      <td>2.912535</td>\n",
       "      <td>0</td>\n",
       "    </tr>\n",
       "    <tr>\n",
       "      <th>18181</th>\n",
       "      <td>7585</td>\n",
       "      <td>169.593996</td>\n",
       "      <td>58.141659</td>\n",
       "      <td>0.939398</td>\n",
       "      <td>7806</td>\n",
       "      <td>98.272692</td>\n",
       "      <td>0.647461</td>\n",
       "      <td>385.506</td>\n",
       "      <td>0.641362</td>\n",
       "      <td>2.916910</td>\n",
       "      <td>0</td>\n",
       "    </tr>\n",
       "    <tr>\n",
       "      <th>18182</th>\n",
       "      <td>6365</td>\n",
       "      <td>154.777085</td>\n",
       "      <td>52.908085</td>\n",
       "      <td>0.939760</td>\n",
       "      <td>6531</td>\n",
       "      <td>90.023162</td>\n",
       "      <td>0.561287</td>\n",
       "      <td>342.253</td>\n",
       "      <td>0.682832</td>\n",
       "      <td>2.925396</td>\n",
       "      <td>0</td>\n",
       "    </tr>\n",
       "    <tr>\n",
       "      <th>18183</th>\n",
       "      <td>5960</td>\n",
       "      <td>151.397924</td>\n",
       "      <td>51.474600</td>\n",
       "      <td>0.940427</td>\n",
       "      <td>6189</td>\n",
       "      <td>87.112041</td>\n",
       "      <td>0.492399</td>\n",
       "      <td>343.371</td>\n",
       "      <td>0.635227</td>\n",
       "      <td>2.941216</td>\n",
       "      <td>0</td>\n",
       "    </tr>\n",
       "    <tr>\n",
       "      <th>18184</th>\n",
       "      <td>6134</td>\n",
       "      <td>153.081981</td>\n",
       "      <td>51.590606</td>\n",
       "      <td>0.941500</td>\n",
       "      <td>6283</td>\n",
       "      <td>88.374495</td>\n",
       "      <td>0.489975</td>\n",
       "      <td>338.613</td>\n",
       "      <td>0.672274</td>\n",
       "      <td>2.967245</td>\n",
       "      <td>0</td>\n",
       "    </tr>\n",
       "  </tbody>\n",
       "</table>\n",
       "<p>18185 rows × 11 columns</p>\n",
       "</div>"
      ],
      "text/plain": [
       "       Area  MajorAxisLength  MinorAxisLength  Eccentricity  ConvexArea  \\\n",
       "0      4537        92.229316        64.012769      0.719916        4677   \n",
       "1      2872        74.691881        51.400454      0.725553        3015   \n",
       "2      3048        76.293164        52.043491      0.731211        3132   \n",
       "3      3073        77.033628        51.928487      0.738639        3157   \n",
       "4      3693        85.124785        56.374021      0.749282        3802   \n",
       "...     ...              ...              ...           ...         ...   \n",
       "18180  5853       148.624571        51.029281      0.939210        6008   \n",
       "18181  7585       169.593996        58.141659      0.939398        7806   \n",
       "18182  6365       154.777085        52.908085      0.939760        6531   \n",
       "18183  5960       151.397924        51.474600      0.940427        6189   \n",
       "18184  6134       153.081981        51.590606      0.941500        6283   \n",
       "\n",
       "       EquivDiameter    Extent  Perimeter  Roundness  AspectRation  Class  \n",
       "0          76.004525  0.657536    273.085   0.764510      1.440796      1  \n",
       "1          60.471018  0.713009    208.317   0.831658      1.453137      1  \n",
       "2          62.296341  0.759153    210.012   0.868434      1.465950      1  \n",
       "3          62.551300  0.783529    210.657   0.870203      1.483456      1  \n",
       "4          68.571668  0.769375    230.332   0.874743      1.510000      1  \n",
       "...              ...       ...        ...        ...           ...    ...  \n",
       "18180      86.326537  0.498594    332.960   0.663444      2.912535      0  \n",
       "18181      98.272692  0.647461    385.506   0.641362      2.916910      0  \n",
       "18182      90.023162  0.561287    342.253   0.682832      2.925396      0  \n",
       "18183      87.112041  0.492399    343.371   0.635227      2.941216      0  \n",
       "18184      88.374495  0.489975    338.613   0.672274      2.967245      0  \n",
       "\n",
       "[18185 rows x 11 columns]"
      ]
     },
     "execution_count": 21,
     "metadata": {},
     "output_type": "execute_result"
    }
   ],
   "source": [
    "data"
   ]
  },
  {
   "cell_type": "code",
   "execution_count": 22,
   "id": "bb279d2c",
   "metadata": {},
   "outputs": [],
   "source": [
    "X = data.iloc[:,:-1]"
   ]
  },
  {
   "cell_type": "code",
   "execution_count": 23,
   "id": "68d08c9a",
   "metadata": {},
   "outputs": [],
   "source": [
    "y = data.iloc[:,-1]"
   ]
  },
  {
   "cell_type": "code",
   "execution_count": 7,
   "id": "edd740f0",
   "metadata": {},
   "outputs": [
    {
     "data": {
      "text/plain": [
       "0        1\n",
       "1        1\n",
       "2        1\n",
       "3        1\n",
       "4        1\n",
       "        ..\n",
       "18180    0\n",
       "18181    0\n",
       "18182    0\n",
       "18183    0\n",
       "18184    0\n",
       "Name: Class, Length: 18185, dtype: int64"
      ]
     },
     "execution_count": 7,
     "metadata": {},
     "output_type": "execute_result"
    }
   ],
   "source": [
    "y"
   ]
  },
  {
   "cell_type": "code",
   "execution_count": 8,
   "id": "24f7bf0a",
   "metadata": {},
   "outputs": [],
   "source": [
    "from sklearn.model_selection import train_test_split\n",
    "from sklearn.tree import DecisionTreeClassifier\n",
    "from sklearn.metrics import accuracy_score"
   ]
  },
  {
   "cell_type": "code",
   "execution_count": 9,
   "id": "73636b9b",
   "metadata": {},
   "outputs": [],
   "source": [
    "X_train, X_test, y_train, y_test = train_test_split(X, y, test_size = 0.2, random_state = 0)"
   ]
  },
  {
   "cell_type": "markdown",
   "id": "9f3e1223",
   "metadata": {},
   "source": [
    "# 의사결정 나무"
   ]
  },
  {
   "cell_type": "code",
   "execution_count": 24,
   "id": "c481e3a6",
   "metadata": {},
   "outputs": [
    {
     "data": {
      "text/plain": [
       "array([0, 0, 0, ..., 1, 1, 0], dtype=int64)"
      ]
     },
     "execution_count": 24,
     "metadata": {},
     "output_type": "execute_result"
    }
   ],
   "source": [
    "dt_clf = DecisionTreeClassifier()\n",
    "dt_clf.fit(X_train,y_train)\n",
    "pred = dt_clf.predict(X_test)\n",
    "pred"
   ]
  },
  {
   "cell_type": "code",
   "execution_count": 26,
   "id": "32d3662b",
   "metadata": {},
   "outputs": [
    {
     "name": "stdout",
     "output_type": "stream",
     "text": [
      "예측 정확도: 0.9819\n"
     ]
    }
   ],
   "source": [
    "# 예측정확도\n",
    "print('예측 정확도: {0:.4f}'.format(accuracy_score(y_test, pred)))"
   ]
  },
  {
   "cell_type": "code",
   "execution_count": null,
   "id": "3ccf5268",
   "metadata": {},
   "outputs": [],
   "source": []
  },
  {
   "cell_type": "markdown",
   "id": "eb8ce214",
   "metadata": {},
   "source": [
    "# 정규화"
   ]
  },
  {
   "cell_type": "code",
   "execution_count": 37,
   "id": "5ab1be28",
   "metadata": {},
   "outputs": [],
   "source": [
    "from sklearn.preprocessing import StandardScaler"
   ]
  },
  {
   "cell_type": "code",
   "execution_count": 38,
   "id": "7121e7fa",
   "metadata": {},
   "outputs": [],
   "source": [
    "standard = StandardScaler()"
   ]
  },
  {
   "cell_type": "code",
   "execution_count": 39,
   "id": "921f93df",
   "metadata": {},
   "outputs": [
    {
     "data": {
      "text/plain": [
       "StandardScaler()"
      ]
     },
     "execution_count": 39,
     "metadata": {},
     "output_type": "execute_result"
    }
   ],
   "source": [
    "standard.fit(X)"
   ]
  },
  {
   "cell_type": "code",
   "execution_count": 40,
   "id": "a9e5e085",
   "metadata": {},
   "outputs": [],
   "source": [
    "Xs = standard.transform(X)"
   ]
  },
  {
   "cell_type": "code",
   "execution_count": 41,
   "id": "7d06b3ab",
   "metadata": {},
   "outputs": [
    {
     "data": {
      "text/plain": [
       "array([[-1.70363043, -4.80374424,  0.41792669, ..., -2.66177825,\n",
       "         0.83958835, -2.66379989],\n",
       "       [-2.83847845, -6.22078914, -0.83561103, ..., -4.85731791,\n",
       "         1.83721534, -2.6354184 ],\n",
       "       [-2.71851854, -6.09140363, -0.77169963, ..., -4.79985991,\n",
       "         2.3835873 , -2.60595002],\n",
       "       ...,\n",
       "       [-0.45768318,  0.25018706, -0.6857677 , ..., -0.31708508,\n",
       "        -0.37389933,  0.75045135],\n",
       "       [-0.73372729, -0.02285299, -0.82824173, ..., -0.27918653,\n",
       "        -1.08116545,  0.7868348 ],\n",
       "       [-0.61513056,  0.11322075, -0.81671191, ..., -0.44047571,\n",
       "        -0.53075529,  0.84669604]])"
      ]
     },
     "execution_count": 41,
     "metadata": {},
     "output_type": "execute_result"
    }
   ],
   "source": [
    "Xs"
   ]
  },
  {
   "cell_type": "code",
   "execution_count": 52,
   "id": "73286c85",
   "metadata": {},
   "outputs": [
    {
     "data": {
      "text/html": [
       "<div>\n",
       "<style scoped>\n",
       "    .dataframe tbody tr th:only-of-type {\n",
       "        vertical-align: middle;\n",
       "    }\n",
       "\n",
       "    .dataframe tbody tr th {\n",
       "        vertical-align: top;\n",
       "    }\n",
       "\n",
       "    .dataframe thead th {\n",
       "        text-align: right;\n",
       "    }\n",
       "</style>\n",
       "<table border=\"1\" class=\"dataframe\">\n",
       "  <thead>\n",
       "    <tr style=\"text-align: right;\">\n",
       "      <th></th>\n",
       "      <th>Area</th>\n",
       "      <th>MajorAxisLength</th>\n",
       "      <th>MinorAxisLength</th>\n",
       "      <th>Eccentricity</th>\n",
       "      <th>ConvexArea</th>\n",
       "      <th>EquivDiameter</th>\n",
       "      <th>Extent</th>\n",
       "      <th>Perimeter</th>\n",
       "      <th>Roundness</th>\n",
       "      <th>AspectRation</th>\n",
       "    </tr>\n",
       "  </thead>\n",
       "  <tbody>\n",
       "    <tr>\n",
       "      <th>0</th>\n",
       "      <td>-1.703630</td>\n",
       "      <td>-4.803744</td>\n",
       "      <td>0.417927</td>\n",
       "      <td>-6.393938</td>\n",
       "      <td>-1.696989</td>\n",
       "      <td>-1.830049</td>\n",
       "      <td>0.391654</td>\n",
       "      <td>-2.661778</td>\n",
       "      <td>0.839588</td>\n",
       "      <td>-2.663800</td>\n",
       "    </tr>\n",
       "    <tr>\n",
       "      <th>1</th>\n",
       "      <td>-2.838478</td>\n",
       "      <td>-6.220789</td>\n",
       "      <td>-0.835611</td>\n",
       "      <td>-6.209583</td>\n",
       "      <td>-2.803539</td>\n",
       "      <td>-3.398143</td>\n",
       "      <td>0.923070</td>\n",
       "      <td>-4.857318</td>\n",
       "      <td>1.837215</td>\n",
       "      <td>-2.635418</td>\n",
       "    </tr>\n",
       "    <tr>\n",
       "      <th>2</th>\n",
       "      <td>-2.718519</td>\n",
       "      <td>-6.091404</td>\n",
       "      <td>-0.771700</td>\n",
       "      <td>-6.024520</td>\n",
       "      <td>-2.725641</td>\n",
       "      <td>-3.213879</td>\n",
       "      <td>1.365122</td>\n",
       "      <td>-4.799860</td>\n",
       "      <td>2.383587</td>\n",
       "      <td>-2.605950</td>\n",
       "    </tr>\n",
       "    <tr>\n",
       "      <th>3</th>\n",
       "      <td>-2.701479</td>\n",
       "      <td>-6.031573</td>\n",
       "      <td>-0.783130</td>\n",
       "      <td>-5.781578</td>\n",
       "      <td>-2.708996</td>\n",
       "      <td>-3.188141</td>\n",
       "      <td>1.598635</td>\n",
       "      <td>-4.777995</td>\n",
       "      <td>2.409877</td>\n",
       "      <td>-2.565690</td>\n",
       "    </tr>\n",
       "    <tr>\n",
       "      <th>4</th>\n",
       "      <td>-2.278893</td>\n",
       "      <td>-5.377799</td>\n",
       "      <td>-0.341288</td>\n",
       "      <td>-5.433479</td>\n",
       "      <td>-2.279559</td>\n",
       "      <td>-2.580390</td>\n",
       "      <td>1.463045</td>\n",
       "      <td>-4.111042</td>\n",
       "      <td>2.477331</td>\n",
       "      <td>-2.504645</td>\n",
       "    </tr>\n",
       "    <tr>\n",
       "      <th>...</th>\n",
       "      <td>...</td>\n",
       "      <td>...</td>\n",
       "      <td>...</td>\n",
       "      <td>...</td>\n",
       "      <td>...</td>\n",
       "      <td>...</td>\n",
       "      <td>...</td>\n",
       "      <td>...</td>\n",
       "      <td>...</td>\n",
       "      <td>...</td>\n",
       "    </tr>\n",
       "    <tr>\n",
       "      <th>18180</th>\n",
       "      <td>-0.806657</td>\n",
       "      <td>-0.246943</td>\n",
       "      <td>-0.872502</td>\n",
       "      <td>0.778548</td>\n",
       "      <td>-0.810816</td>\n",
       "      <td>-0.788051</td>\n",
       "      <td>-1.130973</td>\n",
       "      <td>-0.632104</td>\n",
       "      <td>-0.661944</td>\n",
       "      <td>0.720875</td>\n",
       "    </tr>\n",
       "    <tr>\n",
       "      <th>18181</th>\n",
       "      <td>0.373857</td>\n",
       "      <td>1.447410</td>\n",
       "      <td>-0.165603</td>\n",
       "      <td>0.784700</td>\n",
       "      <td>0.386282</td>\n",
       "      <td>0.417903</td>\n",
       "      <td>0.295131</td>\n",
       "      <td>1.149128</td>\n",
       "      <td>-0.990018</td>\n",
       "      <td>0.730936</td>\n",
       "    </tr>\n",
       "    <tr>\n",
       "      <th>18182</th>\n",
       "      <td>-0.457683</td>\n",
       "      <td>0.250187</td>\n",
       "      <td>-0.685768</td>\n",
       "      <td>0.796550</td>\n",
       "      <td>-0.462606</td>\n",
       "      <td>-0.414880</td>\n",
       "      <td>-0.530388</td>\n",
       "      <td>-0.317085</td>\n",
       "      <td>-0.373899</td>\n",
       "      <td>0.750451</td>\n",
       "    </tr>\n",
       "    <tr>\n",
       "      <th>18183</th>\n",
       "      <td>-0.733727</td>\n",
       "      <td>-0.022853</td>\n",
       "      <td>-0.828242</td>\n",
       "      <td>0.818359</td>\n",
       "      <td>-0.690307</td>\n",
       "      <td>-0.708755</td>\n",
       "      <td>-1.190322</td>\n",
       "      <td>-0.279187</td>\n",
       "      <td>-1.081165</td>\n",
       "      <td>0.786835</td>\n",
       "    </tr>\n",
       "    <tr>\n",
       "      <th>18184</th>\n",
       "      <td>-0.615131</td>\n",
       "      <td>0.113221</td>\n",
       "      <td>-0.816712</td>\n",
       "      <td>0.853451</td>\n",
       "      <td>-0.627723</td>\n",
       "      <td>-0.581311</td>\n",
       "      <td>-1.213543</td>\n",
       "      <td>-0.440476</td>\n",
       "      <td>-0.530755</td>\n",
       "      <td>0.846696</td>\n",
       "    </tr>\n",
       "  </tbody>\n",
       "</table>\n",
       "<p>18185 rows × 10 columns</p>\n",
       "</div>"
      ],
      "text/plain": [
       "           Area  MajorAxisLength  MinorAxisLength  Eccentricity  ConvexArea  \\\n",
       "0     -1.703630        -4.803744         0.417927     -6.393938   -1.696989   \n",
       "1     -2.838478        -6.220789        -0.835611     -6.209583   -2.803539   \n",
       "2     -2.718519        -6.091404        -0.771700     -6.024520   -2.725641   \n",
       "3     -2.701479        -6.031573        -0.783130     -5.781578   -2.708996   \n",
       "4     -2.278893        -5.377799        -0.341288     -5.433479   -2.279559   \n",
       "...         ...              ...              ...           ...         ...   \n",
       "18180 -0.806657        -0.246943        -0.872502      0.778548   -0.810816   \n",
       "18181  0.373857         1.447410        -0.165603      0.784700    0.386282   \n",
       "18182 -0.457683         0.250187        -0.685768      0.796550   -0.462606   \n",
       "18183 -0.733727        -0.022853        -0.828242      0.818359   -0.690307   \n",
       "18184 -0.615131         0.113221        -0.816712      0.853451   -0.627723   \n",
       "\n",
       "       EquivDiameter    Extent  Perimeter  Roundness  AspectRation  \n",
       "0          -1.830049  0.391654  -2.661778   0.839588     -2.663800  \n",
       "1          -3.398143  0.923070  -4.857318   1.837215     -2.635418  \n",
       "2          -3.213879  1.365122  -4.799860   2.383587     -2.605950  \n",
       "3          -3.188141  1.598635  -4.777995   2.409877     -2.565690  \n",
       "4          -2.580390  1.463045  -4.111042   2.477331     -2.504645  \n",
       "...              ...       ...        ...        ...           ...  \n",
       "18180      -0.788051 -1.130973  -0.632104  -0.661944      0.720875  \n",
       "18181       0.417903  0.295131   1.149128  -0.990018      0.730936  \n",
       "18182      -0.414880 -0.530388  -0.317085  -0.373899      0.750451  \n",
       "18183      -0.708755 -1.190322  -0.279187  -1.081165      0.786835  \n",
       "18184      -0.581311 -1.213543  -0.440476  -0.530755      0.846696  \n",
       "\n",
       "[18185 rows x 10 columns]"
      ]
     },
     "execution_count": 52,
     "metadata": {},
     "output_type": "execute_result"
    }
   ],
   "source": [
    "X = pd.DataFrame(Xs, columns = X.columns)\n",
    "X"
   ]
  },
  {
   "cell_type": "code",
   "execution_count": 75,
   "id": "3f1ae999",
   "metadata": {},
   "outputs": [],
   "source": [
    "X_train, X_test, y_train, y_test = train_test_split(X, y, test_size = 0.2, random_state = 1)"
   ]
  },
  {
   "cell_type": "code",
   "execution_count": 76,
   "id": "3a8ae932",
   "metadata": {},
   "outputs": [
    {
     "data": {
      "text/plain": [
       "array([0, 0, 1, ..., 0, 1, 1], dtype=int64)"
      ]
     },
     "execution_count": 76,
     "metadata": {},
     "output_type": "execute_result"
    }
   ],
   "source": [
    "dt_clf = DecisionTreeClassifier()\n",
    "dt_clf.fit(X_train,y_train)\n",
    "pred = dt_clf.predict(X_test)\n",
    "pred"
   ]
  },
  {
   "cell_type": "code",
   "execution_count": 77,
   "id": "b8b7c970",
   "metadata": {},
   "outputs": [
    {
     "name": "stdout",
     "output_type": "stream",
     "text": [
      "예측 정확도: 0.9860\n"
     ]
    }
   ],
   "source": [
    "# 예측정확도\n",
    "print('결정 트리 예측 정확도: {0:.4f}'.format(accuracy_score(y_test, pred)))"
   ]
  },
  {
   "cell_type": "code",
   "execution_count": null,
   "id": "af7b527a",
   "metadata": {},
   "outputs": [],
   "source": []
  },
  {
   "cell_type": "markdown",
   "id": "0a5038ee",
   "metadata": {},
   "source": [
    "# randomforest"
   ]
  },
  {
   "cell_type": "code",
   "execution_count": 14,
   "id": "ccee9e5f",
   "metadata": {},
   "outputs": [],
   "source": [
    "from sklearn.ensemble import RandomForestClassifier"
   ]
  },
  {
   "cell_type": "code",
   "execution_count": 15,
   "id": "3ba30438",
   "metadata": {},
   "outputs": [
    {
     "data": {
      "text/plain": [
       "array([0, 0, 0, ..., 1, 1, 0], dtype=int64)"
      ]
     },
     "execution_count": 15,
     "metadata": {},
     "output_type": "execute_result"
    }
   ],
   "source": [
    "rf_clf = RandomForestClassifier()\n",
    "rf_clf.fit(X_train,y_train)\n",
    "pred = rf_clf.predict(X_test)\n",
    "pred"
   ]
  },
  {
   "cell_type": "code",
   "execution_count": 16,
   "id": "42d64a86",
   "metadata": {},
   "outputs": [
    {
     "name": "stdout",
     "output_type": "stream",
     "text": [
      "rf 예측 정확도: 0.9882\n"
     ]
    }
   ],
   "source": [
    "# 예측정확도\n",
    "print('rf 예측 정확도: {0:.4f}'.format(accuracy_score(y_test, pred)))"
   ]
  },
  {
   "cell_type": "code",
   "execution_count": 17,
   "id": "8d3b6350",
   "metadata": {},
   "outputs": [
    {
     "data": {
      "image/png": "[encoded data removed]",
      "text/plain": [
       "<Figure size 576x432 with 1 Axes>"
      ]
     },
     "metadata": {
      "needs_background": "light"
     },
     "output_type": "display_data"
    }
   ],
   "source": [
    "import matplotlib.pyplot as plt\n",
    "import seaborn as sns\n",
    "%matplotlib inline\n",
    "\n",
    "ftr_importances_values = rf_clf.feature_importances_\n",
    "ftr_importances = pd.Series(ftr_importances_values, index= X.columns )\n",
    "\n",
    "# 중요도가 높은 10개의 피처들만 확인\n",
    "ftr_top10 = ftr_importances.sort_values(ascending=False)[:10]\n",
    "\n",
    "plt.figure(figsize=(8,6))\n",
    "plt.title('Feature importances Top 20')\n",
    "sns.barplot(x=ftr_top10 , y = ftr_top10.index)\n",
    "plt.show()"
   ]
  },
  {
   "cell_type": "code",
   "execution_count": 19,
   "id": "88a37f1b",
   "metadata": {},
   "outputs": [
    {
     "name": "stdout",
     "output_type": "stream",
     "text": [
      "max_depth | accuracy\n",
      "2 0.9868\n",
      "3 0.9871\n",
      "4 0.9876\n",
      "5 0.9879\n",
      "6 0.9879\n",
      "7 0.9879\n",
      "8 0.9882\n",
      "9 0.9879\n",
      "10 0.9885\n",
      "11 0.9876\n",
      "12 0.9879\n",
      "13 0.9874\n",
      "14 0.9893\n",
      "15 0.9885\n",
      "16 0.9876\n",
      "17 0.9887\n",
      "18 0.9885\n",
      "19 0.9879\n",
      "20 0.989\n",
      "21 0.9882\n",
      "22 0.9879\n",
      "23 0.9885\n",
      "24 0.9885\n",
      "25 0.989\n",
      "26 0.989\n",
      "27 0.9885\n",
      "28 0.9882\n",
      "29 0.9882\n",
      "30 0.9882\n"
     ]
    }
   ],
   "source": [
    "# 최적의 max_depth 찾기\n",
    "print('max_depth | accuracy')\n",
    "for i in range(2, 31):\n",
    "    model = RandomForestClassifier(max_depth = i)\n",
    "    model.fit(X_train, y_train)\n",
    "    pred = model.predict(X_test)\n",
    "    print(i, round(accuracy_score(y_test, pred), 4))"
   ]
  },
  {
   "cell_type": "markdown",
   "id": "f10afacb",
   "metadata": {},
   "source": [
    "# GridSearch"
   ]
  },
  {
   "cell_type": "code",
   "execution_count": 78,
   "id": "d3eef428",
   "metadata": {},
   "outputs": [],
   "source": [
    "from sklearn.model_selection import GridSearchCV"
   ]
  },
  {
   "cell_type": "code",
   "execution_count": 79,
   "id": "32a7e424",
   "metadata": {},
   "outputs": [
    {
     "name": "stdout",
     "output_type": "stream",
     "text": [
      "Fitting 5 folds for each of 36 candidates, totalling 180 fits\n",
      "GridSearchCV 최고 평균 정확도 수치: 0.9876 \n",
      "\n",
      "GridSearchCV 최적 하이퍼 파라미터: {'max_depth': 4, 'min_samples_split': 16}\n",
      "Wall time: 10.3 s\n"
     ]
    }
   ],
   "source": [
    "%%time\n",
    "params = {\n",
    "    'max_depth' : [ 4, 6, 8 , 12, 16 , 20 ], \n",
    "    'min_samples_split' : [ 4, 6 , 8, 12, 16, 24 ],\n",
    "}\n",
    "\n",
    "grid_cv = GridSearchCV(dt_clf, param_grid=params, scoring='accuracy', cv=5, verbose=1 )\n",
    "\n",
    "grid_cv.fit(X_train , y_train)\n",
    "print('GridSearchCV 최고 평균 정확도 수치: {0:.4f}'.format(grid_cv.best_score_), '\\n')\n",
    "print('GridSearchCV 최적 하이퍼 파라미터:', grid_cv.best_params_)"
   ]
  },
  {
   "cell_type": "code",
   "execution_count": 80,
   "id": "43cf13c8",
   "metadata": {},
   "outputs": [
    {
     "data": {
      "text/plain": [
       "DecisionTreeClassifier(max_depth=4, min_samples_split=16)"
      ]
     },
     "execution_count": 80,
     "metadata": {},
     "output_type": "execute_result"
    }
   ],
   "source": [
    "grid_cv.best_estimator_"
   ]
  },
  {
   "cell_type": "code",
   "execution_count": 81,
   "id": "c37a7118",
   "metadata": {},
   "outputs": [
    {
     "name": "stdout",
     "output_type": "stream",
     "text": [
      "결정 트리 예측 정확도:0.9885\n"
     ]
    }
   ],
   "source": [
    "best_df_clf = grid_cv.best_estimator_\n",
    "\n",
    "pred = best_df_clf.predict(X_test)\n",
    "accuracy = accuracy_score(y_test , pred)\n",
    "print('결정 트리 예측 정확도:{0:.4f}'.format(accuracy))"
   ]
  },
  {
   "cell_type": "code",
   "execution_count": null,
   "id": "02d56d2f",
   "metadata": {},
   "outputs": [],
   "source": []
  },
  {
   "cell_type": "code",
   "execution_count": 85,
   "id": "4366be00",
   "metadata": {},
   "outputs": [
    {
     "name": "stdout",
     "output_type": "stream",
     "text": [
      "Fitting 5 folds for each of 36 candidates, totalling 180 fits\n",
      "GridSearchCV 최고 평균 정확도 수치: 0.9900 \n",
      "\n",
      "GridSearchCV 최적 하이퍼 파라미터: {'max_depth': 12, 'min_samples_split': 6}\n",
      "Wall time: 3min 31s\n"
     ]
    }
   ],
   "source": [
    "%%time\n",
    "params = {\n",
    "    'max_depth' : [ 4, 6, 8 , 12, 16 , 20 ], \n",
    "    'min_samples_split' : [ 4, 6 , 8, 12, 16, 24 ],\n",
    "}\n",
    "\n",
    "grid_cv = GridSearchCV(rf_clf, param_grid=params, scoring='accuracy', cv=5, verbose=1 )\n",
    "\n",
    "grid_cv.fit(X_train , y_train)\n",
    "print('GridSearchCV 최고 평균 정확도 수치: {0:.4f}'.format(grid_cv.best_score_), '\\n')\n",
    "print('GridSearchCV 최적 하이퍼 파라미터:', grid_cv.best_params_)"
   ]
  },
  {
   "cell_type": "code",
   "execution_count": 86,
   "id": "c5a26835",
   "metadata": {},
   "outputs": [
    {
     "data": {
      "text/plain": [
       "RandomForestClassifier(max_depth=12, min_samples_split=6)"
      ]
     },
     "execution_count": 86,
     "metadata": {},
     "output_type": "execute_result"
    }
   ],
   "source": [
    "grid_cv.best_estimator_"
   ]
  },
  {
   "cell_type": "code",
   "execution_count": 88,
   "id": "f743324b",
   "metadata": {},
   "outputs": [
    {
     "name": "stdout",
     "output_type": "stream",
     "text": [
      "rf 예측 정확도:0.9893\n"
     ]
    }
   ],
   "source": [
    "best_rf_clf = grid_cv.best_estimator_\n",
    "\n",
    "pred = best_rf_clf.predict(X_test)\n",
    "accuracy = accuracy_score(y_test , pred)\n",
    "print('rf 예측 정확도:{0:.4f}'.format(accuracy))"
   ]
  },
  {
   "cell_type": "code",
   "execution_count": null,
   "id": "647b58ad",
   "metadata": {},
   "outputs": [],
   "source": []
  },
  {
   "cell_type": "markdown",
   "id": "3130d5a8",
   "metadata": {},
   "source": [
    "# voting"
   ]
  },
  {
   "cell_type": "code",
   "execution_count": 10,
   "id": "f86d4771",
   "metadata": {},
   "outputs": [],
   "source": [
    "from lightgbm import LGBMClassifier\n",
    "from xgboost import XGBClassifier\n",
    "from sklearn.ensemble import VotingClassifier\n",
    "from sklearn.ensemble import RandomForestClassifier"
   ]
  },
  {
   "cell_type": "code",
   "execution_count": 11,
   "id": "67e2419f",
   "metadata": {},
   "outputs": [],
   "source": [
    "LGBM = LGBMClassifier()\n",
    "XGB = XGBClassifier()\n",
    "RF = RandomForestClassifier()\n",
    "\n",
    "# VotingClassifier 정의\n",
    "VC = VotingClassifier(estimators=[('rf',RF),('xgb',XGB),('lgbm',LGBM)],voting = 'soft')"
   ]
  },
  {
   "cell_type": "code",
   "execution_count": 12,
   "id": "2163ecc1",
   "metadata": {},
   "outputs": [
    {
     "name": "stdout",
     "output_type": "stream",
     "text": [
      "[11:14:54] WARNING: C:/Users/Administrator/workspace/xgboost-win64_release_1.5.1/src/learner.cc:1115: Starting in XGBoost 1.3.0, the default evaluation metric used with the objective 'binary:logistic' was changed from 'error' to 'logloss'. Explicitly set eval_metric if you'd like to restore the old behavior.\n"
     ]
    }
   ],
   "source": [
    "VC.fit(X_train,y_train)\n",
    "pred = VC.predict(X_test)"
   ]
  },
  {
   "cell_type": "code",
   "execution_count": 13,
   "id": "261f47d9",
   "metadata": {},
   "outputs": [
    {
     "name": "stdout",
     "output_type": "stream",
     "text": [
      "voting 예측 정확도: 0.9879\n"
     ]
    }
   ],
   "source": [
    "# 예측정확도\n",
    "print('voting 예측 정확도: {0:.4f}'.format(accuracy_score(y_test, pred)))"
   ]
  },
  {
   "cell_type": "code",
   "execution_count": null,
   "id": "6985fd1b",
   "metadata": {},
   "outputs": [],
   "source": []
  },
  {
   "cell_type": "markdown",
   "id": "59fe518c",
   "metadata": {},
   "source": [
    "# 딥러닝"
   ]
  },
  {
   "cell_type": "code",
   "execution_count": 61,
   "id": "823b340a",
   "metadata": {},
   "outputs": [
    {
     "data": {
      "text/html": [
       "<div>\n",
       "<style scoped>\n",
       "    .dataframe tbody tr th:only-of-type {\n",
       "        vertical-align: middle;\n",
       "    }\n",
       "\n",
       "    .dataframe tbody tr th {\n",
       "        vertical-align: top;\n",
       "    }\n",
       "\n",
       "    .dataframe thead th {\n",
       "        text-align: right;\n",
       "    }\n",
       "</style>\n",
       "<table border=\"1\" class=\"dataframe\">\n",
       "  <thead>\n",
       "    <tr style=\"text-align: right;\">\n",
       "      <th></th>\n",
       "      <th>Area</th>\n",
       "      <th>MajorAxisLength</th>\n",
       "      <th>MinorAxisLength</th>\n",
       "      <th>Eccentricity</th>\n",
       "      <th>ConvexArea</th>\n",
       "      <th>EquivDiameter</th>\n",
       "      <th>Extent</th>\n",
       "      <th>Perimeter</th>\n",
       "      <th>Roundness</th>\n",
       "      <th>AspectRation</th>\n",
       "    </tr>\n",
       "  </thead>\n",
       "  <tbody>\n",
       "    <tr>\n",
       "      <th>0</th>\n",
       "      <td>4537</td>\n",
       "      <td>92.229316</td>\n",
       "      <td>64.012769</td>\n",
       "      <td>0.719916</td>\n",
       "      <td>4677</td>\n",
       "      <td>76.004525</td>\n",
       "      <td>0.657536</td>\n",
       "      <td>273.085</td>\n",
       "      <td>0.764510</td>\n",
       "      <td>1.440796</td>\n",
       "    </tr>\n",
       "    <tr>\n",
       "      <th>1</th>\n",
       "      <td>2872</td>\n",
       "      <td>74.691881</td>\n",
       "      <td>51.400454</td>\n",
       "      <td>0.725553</td>\n",
       "      <td>3015</td>\n",
       "      <td>60.471018</td>\n",
       "      <td>0.713009</td>\n",
       "      <td>208.317</td>\n",
       "      <td>0.831658</td>\n",
       "      <td>1.453137</td>\n",
       "    </tr>\n",
       "    <tr>\n",
       "      <th>2</th>\n",
       "      <td>3048</td>\n",
       "      <td>76.293164</td>\n",
       "      <td>52.043491</td>\n",
       "      <td>0.731211</td>\n",
       "      <td>3132</td>\n",
       "      <td>62.296341</td>\n",
       "      <td>0.759153</td>\n",
       "      <td>210.012</td>\n",
       "      <td>0.868434</td>\n",
       "      <td>1.465950</td>\n",
       "    </tr>\n",
       "    <tr>\n",
       "      <th>3</th>\n",
       "      <td>3073</td>\n",
       "      <td>77.033628</td>\n",
       "      <td>51.928487</td>\n",
       "      <td>0.738639</td>\n",
       "      <td>3157</td>\n",
       "      <td>62.551300</td>\n",
       "      <td>0.783529</td>\n",
       "      <td>210.657</td>\n",
       "      <td>0.870203</td>\n",
       "      <td>1.483456</td>\n",
       "    </tr>\n",
       "    <tr>\n",
       "      <th>4</th>\n",
       "      <td>3693</td>\n",
       "      <td>85.124785</td>\n",
       "      <td>56.374021</td>\n",
       "      <td>0.749282</td>\n",
       "      <td>3802</td>\n",
       "      <td>68.571668</td>\n",
       "      <td>0.769375</td>\n",
       "      <td>230.332</td>\n",
       "      <td>0.874743</td>\n",
       "      <td>1.510000</td>\n",
       "    </tr>\n",
       "    <tr>\n",
       "      <th>...</th>\n",
       "      <td>...</td>\n",
       "      <td>...</td>\n",
       "      <td>...</td>\n",
       "      <td>...</td>\n",
       "      <td>...</td>\n",
       "      <td>...</td>\n",
       "      <td>...</td>\n",
       "      <td>...</td>\n",
       "      <td>...</td>\n",
       "      <td>...</td>\n",
       "    </tr>\n",
       "    <tr>\n",
       "      <th>18180</th>\n",
       "      <td>5853</td>\n",
       "      <td>148.624571</td>\n",
       "      <td>51.029281</td>\n",
       "      <td>0.939210</td>\n",
       "      <td>6008</td>\n",
       "      <td>86.326537</td>\n",
       "      <td>0.498594</td>\n",
       "      <td>332.960</td>\n",
       "      <td>0.663444</td>\n",
       "      <td>2.912535</td>\n",
       "    </tr>\n",
       "    <tr>\n",
       "      <th>18181</th>\n",
       "      <td>7585</td>\n",
       "      <td>169.593996</td>\n",
       "      <td>58.141659</td>\n",
       "      <td>0.939398</td>\n",
       "      <td>7806</td>\n",
       "      <td>98.272692</td>\n",
       "      <td>0.647461</td>\n",
       "      <td>385.506</td>\n",
       "      <td>0.641362</td>\n",
       "      <td>2.916910</td>\n",
       "    </tr>\n",
       "    <tr>\n",
       "      <th>18182</th>\n",
       "      <td>6365</td>\n",
       "      <td>154.777085</td>\n",
       "      <td>52.908085</td>\n",
       "      <td>0.939760</td>\n",
       "      <td>6531</td>\n",
       "      <td>90.023162</td>\n",
       "      <td>0.561287</td>\n",
       "      <td>342.253</td>\n",
       "      <td>0.682832</td>\n",
       "      <td>2.925396</td>\n",
       "    </tr>\n",
       "    <tr>\n",
       "      <th>18183</th>\n",
       "      <td>5960</td>\n",
       "      <td>151.397924</td>\n",
       "      <td>51.474600</td>\n",
       "      <td>0.940427</td>\n",
       "      <td>6189</td>\n",
       "      <td>87.112041</td>\n",
       "      <td>0.492399</td>\n",
       "      <td>343.371</td>\n",
       "      <td>0.635227</td>\n",
       "      <td>2.941216</td>\n",
       "    </tr>\n",
       "    <tr>\n",
       "      <th>18184</th>\n",
       "      <td>6134</td>\n",
       "      <td>153.081981</td>\n",
       "      <td>51.590606</td>\n",
       "      <td>0.941500</td>\n",
       "      <td>6283</td>\n",
       "      <td>88.374495</td>\n",
       "      <td>0.489975</td>\n",
       "      <td>338.613</td>\n",
       "      <td>0.672274</td>\n",
       "      <td>2.967245</td>\n",
       "    </tr>\n",
       "  </tbody>\n",
       "</table>\n",
       "<p>18185 rows × 10 columns</p>\n",
       "</div>"
      ],
      "text/plain": [
       "       Area  MajorAxisLength  MinorAxisLength  Eccentricity  ConvexArea  \\\n",
       "0      4537        92.229316        64.012769      0.719916        4677   \n",
       "1      2872        74.691881        51.400454      0.725553        3015   \n",
       "2      3048        76.293164        52.043491      0.731211        3132   \n",
       "3      3073        77.033628        51.928487      0.738639        3157   \n",
       "4      3693        85.124785        56.374021      0.749282        3802   \n",
       "...     ...              ...              ...           ...         ...   \n",
       "18180  5853       148.624571        51.029281      0.939210        6008   \n",
       "18181  7585       169.593996        58.141659      0.939398        7806   \n",
       "18182  6365       154.777085        52.908085      0.939760        6531   \n",
       "18183  5960       151.397924        51.474600      0.940427        6189   \n",
       "18184  6134       153.081981        51.590606      0.941500        6283   \n",
       "\n",
       "       EquivDiameter    Extent  Perimeter  Roundness  AspectRation  \n",
       "0          76.004525  0.657536    273.085   0.764510      1.440796  \n",
       "1          60.471018  0.713009    208.317   0.831658      1.453137  \n",
       "2          62.296341  0.759153    210.012   0.868434      1.465950  \n",
       "3          62.551300  0.783529    210.657   0.870203      1.483456  \n",
       "4          68.571668  0.769375    230.332   0.874743      1.510000  \n",
       "...              ...       ...        ...        ...           ...  \n",
       "18180      86.326537  0.498594    332.960   0.663444      2.912535  \n",
       "18181      98.272692  0.647461    385.506   0.641362      2.916910  \n",
       "18182      90.023162  0.561287    342.253   0.682832      2.925396  \n",
       "18183      87.112041  0.492399    343.371   0.635227      2.941216  \n",
       "18184      88.374495  0.489975    338.613   0.672274      2.967245  \n",
       "\n",
       "[18185 rows x 10 columns]"
      ]
     },
     "execution_count": 61,
     "metadata": {},
     "output_type": "execute_result"
    }
   ],
   "source": [
    "X"
   ]
  },
  {
   "cell_type": "code",
   "execution_count": 62,
   "id": "ea2b726d",
   "metadata": {},
   "outputs": [
    {
     "data": {
      "text/plain": [
       "0        1\n",
       "1        1\n",
       "2        1\n",
       "3        1\n",
       "4        1\n",
       "        ..\n",
       "18180    0\n",
       "18181    0\n",
       "18182    0\n",
       "18183    0\n",
       "18184    0\n",
       "Name: Class, Length: 18185, dtype: int64"
      ]
     },
     "execution_count": 62,
     "metadata": {},
     "output_type": "execute_result"
    }
   ],
   "source": [
    "y"
   ]
  },
  {
   "cell_type": "code",
   "execution_count": 63,
   "id": "3c442fbb",
   "metadata": {},
   "outputs": [],
   "source": [
    "from sklearn.model_selection import train_test_split"
   ]
  },
  {
   "cell_type": "code",
   "execution_count": 64,
   "id": "ffac5f32",
   "metadata": {},
   "outputs": [],
   "source": [
    "X_train, X_test, Y_train, Y_test = train_test_split(X, y, test_size=0.3, random_state=123)"
   ]
  },
  {
   "cell_type": "code",
   "execution_count": 65,
   "id": "e35e9698",
   "metadata": {},
   "outputs": [],
   "source": [
    "# X_train 피처는 'float32' 타입으로 만들어줘야 학습이 가능\n",
    "X_train = np.asarray(X_train).astype('float32')\n",
    "# X_test 피처도 'float32' 타입으로 만들어준다.\n",
    "X_test = np.asarray(X_test).astype('float32')"
   ]
  },
  {
   "cell_type": "code",
   "execution_count": 66,
   "id": "e9bd51da",
   "metadata": {},
   "outputs": [],
   "source": [
    "Y_train = np.asarray(Y_train)"
   ]
  },
  {
   "cell_type": "code",
   "execution_count": 67,
   "id": "082c1719",
   "metadata": {},
   "outputs": [],
   "source": [
    "from keras.models import Sequential\n",
    "from keras.layers import Dense\n",
    "from keras.callbacks import ModelCheckpoint,EarlyStopping\n",
    "import tensorflow as tf"
   ]
  },
  {
   "cell_type": "code",
   "execution_count": 68,
   "id": "e37640b6",
   "metadata": {},
   "outputs": [],
   "source": [
    "model = Sequential()\n",
    "model.add(Dense(30,  input_dim=10, activation='relu'))\n",
    "model.add(Dense(12, activation='relu'))\n",
    "model.add(Dense(8, activation='relu'))\n",
    "model.add(Dense(1, activation='sigmoid'))\n",
    "\n",
    "model.compile(loss='binary_crossentropy',\n",
    "          optimizer='adam',\n",
    "          metrics=['accuracy'])"
   ]
  },
  {
   "cell_type": "code",
   "execution_count": 69,
   "id": "fc8dbcd0",
   "metadata": {},
   "outputs": [],
   "source": [
    "# 모델 저장 폴더 만들기\n",
    "MODEL_DIR = './model/'\n",
    "if not os.path.exists(MODEL_DIR):\n",
    "    os.mkdir(MODEL_DIR)\n",
    "\n",
    "modelpath = \"./model/{epoch:02d}-{val_loss:.4f}.hdf5\"\n",
    "\n",
    "# 모델 업데이트 및 저장\n",
    "checkpointer = ModelCheckpoint(filepath=modelpath, monitor='val_loss', verbose=1, save_best_only=True)\n",
    "\n",
    "# 학습 자동 중단 설정\n",
    "early_stopping_callback = EarlyStopping(monitor='val_loss', patience=15)"
   ]
  },
  {
   "cell_type": "code",
   "execution_count": 70,
   "id": "2d91c9b6",
   "metadata": {
    "scrolled": true
   },
   "outputs": [
    {
     "name": "stdout",
     "output_type": "stream",
     "text": [
      "\n",
      "Epoch 1: val_loss improved from inf to 0.26839, saving model to ./model\\01-0.2684.hdf5\n",
      "\n",
      "Epoch 2: val_loss improved from 0.26839 to 0.22040, saving model to ./model\\02-0.2204.hdf5\n",
      "\n",
      "Epoch 3: val_loss improved from 0.22040 to 0.16463, saving model to ./model\\03-0.1646.hdf5\n",
      "\n",
      "Epoch 4: val_loss did not improve from 0.16463\n",
      "\n",
      "Epoch 5: val_loss did not improve from 0.16463\n",
      "\n",
      "Epoch 6: val_loss improved from 0.16463 to 0.07687, saving model to ./model\\06-0.0769.hdf5\n",
      "\n",
      "Epoch 7: val_loss did not improve from 0.07687\n",
      "\n",
      "Epoch 8: val_loss did not improve from 0.07687\n",
      "\n",
      "Epoch 9: val_loss did not improve from 0.07687\n",
      "\n",
      "Epoch 10: val_loss did not improve from 0.07687\n",
      "\n",
      "Epoch 11: val_loss improved from 0.07687 to 0.06314, saving model to ./model\\11-0.0631.hdf5\n",
      "\n",
      "Epoch 12: val_loss improved from 0.06314 to 0.05739, saving model to ./model\\12-0.0574.hdf5\n",
      "\n",
      "Epoch 13: val_loss did not improve from 0.05739\n",
      "\n",
      "Epoch 14: val_loss improved from 0.05739 to 0.05735, saving model to ./model\\14-0.0573.hdf5\n",
      "\n",
      "Epoch 15: val_loss did not improve from 0.05735\n",
      "\n",
      "Epoch 16: val_loss improved from 0.05735 to 0.04887, saving model to ./model\\16-0.0489.hdf5\n",
      "\n",
      "Epoch 17: val_loss did not improve from 0.04887\n",
      "\n",
      "Epoch 18: val_loss improved from 0.04887 to 0.04675, saving model to ./model\\18-0.0467.hdf5\n",
      "\n",
      "Epoch 19: val_loss did not improve from 0.04675\n",
      "\n",
      "Epoch 20: val_loss did not improve from 0.04675\n",
      "\n",
      "Epoch 21: val_loss did not improve from 0.04675\n",
      "\n",
      "Epoch 22: val_loss did not improve from 0.04675\n",
      "\n",
      "Epoch 23: val_loss did not improve from 0.04675\n",
      "\n",
      "Epoch 24: val_loss did not improve from 0.04675\n",
      "\n",
      "Epoch 25: val_loss did not improve from 0.04675\n",
      "\n",
      "Epoch 26: val_loss improved from 0.04675 to 0.04518, saving model to ./model\\26-0.0452.hdf5\n",
      "\n",
      "Epoch 27: val_loss did not improve from 0.04518\n",
      "\n",
      "Epoch 28: val_loss did not improve from 0.04518\n",
      "\n",
      "Epoch 29: val_loss did not improve from 0.04518\n",
      "\n",
      "Epoch 30: val_loss did not improve from 0.04518\n",
      "\n",
      "Epoch 31: val_loss did not improve from 0.04518\n",
      "\n",
      "Epoch 32: val_loss did not improve from 0.04518\n",
      "\n",
      "Epoch 33: val_loss did not improve from 0.04518\n",
      "\n",
      "Epoch 34: val_loss did not improve from 0.04518\n",
      "\n",
      "Epoch 35: val_loss did not improve from 0.04518\n",
      "\n",
      "Epoch 36: val_loss improved from 0.04518 to 0.04428, saving model to ./model\\36-0.0443.hdf5\n",
      "\n",
      "Epoch 37: val_loss did not improve from 0.04428\n",
      "\n",
      "Epoch 38: val_loss did not improve from 0.04428\n",
      "\n",
      "Epoch 39: val_loss did not improve from 0.04428\n",
      "\n",
      "Epoch 40: val_loss did not improve from 0.04428\n",
      "\n",
      "Epoch 41: val_loss did not improve from 0.04428\n",
      "\n",
      "Epoch 42: val_loss improved from 0.04428 to 0.04417, saving model to ./model\\42-0.0442.hdf5\n",
      "\n",
      "Epoch 43: val_loss did not improve from 0.04417\n",
      "\n",
      "Epoch 44: val_loss improved from 0.04417 to 0.04363, saving model to ./model\\44-0.0436.hdf5\n",
      "\n",
      "Epoch 45: val_loss did not improve from 0.04363\n",
      "\n",
      "Epoch 46: val_loss did not improve from 0.04363\n",
      "\n",
      "Epoch 47: val_loss did not improve from 0.04363\n",
      "\n",
      "Epoch 48: val_loss did not improve from 0.04363\n",
      "\n",
      "Epoch 49: val_loss did not improve from 0.04363\n",
      "\n",
      "Epoch 50: val_loss did not improve from 0.04363\n"
     ]
    },
    {
     "data": {
      "text/plain": [
       "<keras.callbacks.History at 0x2bbbd7358b0>"
      ]
     },
     "execution_count": 70,
     "metadata": {},
     "output_type": "execute_result"
    }
   ],
   "source": [
    "# 모델 학습\n",
    "model.fit(X_train, Y_train, epochs=50, batch_size=5, validation_split=0.2, verbose=0, callbacks=[early_stopping_callback, checkpointer])"
   ]
  },
  {
   "cell_type": "code",
   "execution_count": 71,
   "id": "3166649d",
   "metadata": {},
   "outputs": [],
   "source": [
    "Y_test = np.asarray(Y_test)"
   ]
  },
  {
   "cell_type": "code",
   "execution_count": 72,
   "id": "1ab2d3e0",
   "metadata": {},
   "outputs": [
    {
     "name": "stdout",
     "output_type": "stream",
     "text": [
      "171/171 [==============================] - 0s 560us/step - loss: 0.0666 - accuracy: 0.9767\n",
      "\n",
      " Test Accuracy: 0.9767\n"
     ]
    }
   ],
   "source": [
    "# 테스트셋에 모델 적용\n",
    "print(\"\\n Test Accuracy: %.4f\" % (model.evaluate(X_test, Y_test)[1]))"
   ]
  },
  {
   "cell_type": "code",
   "execution_count": null,
   "id": "112dad7d",
   "metadata": {},
   "outputs": [],
   "source": []
  }
 ],
 "metadata": {
  "kernelspec": {
   "display_name": "Python 3 (ipykernel)",
   "language": "python",
   "name": "python3"
  },
  "language_info": {
   "codemirror_mode": {
    "name": "ipython",
    "version": 3
   },
   "file_extension": ".py",
   "mimetype": "text/x-python",
   "name": "python",
   "nbconvert_exporter": "python",
   "pygments_lexer": "ipython3",
   "version": "3.9.7"
  }
 },
 "nbformat": 4,
 "nbformat_minor": 5
}
