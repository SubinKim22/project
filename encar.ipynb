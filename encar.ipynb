{
 "cells": [
  {
   "cell_type": "raw",
   "id": "049c40ba",
   "metadata": {},
   "source": [
    "추천시스템 만들기 - 엔카 차량(중고차) 추천\n",
    "\n",
    "22.02.09\n",
    "\n",
    "1. 데이터 수집(크롤링) : 엔카 중고차 평점 및 닉네임 수집\n",
    " - 유저 아이디 ( 영어 or 숫자???)\n",
    " - 차량 아이디 ( 차량이름 or 숫자???)\n",
    " - 평점 (별점 - 숫자로 환산필요??)\n",
    "\n",
    "\n",
    "\n",
    "2. 코사인 유사도 \n",
    "\n",
    "\n",
    "3. 유사도 높은 순으로 출력\n",
    "\n",
    "\n",
    "마지막에 surprise로 rmse 출력"
   ]
  },
  {
   "cell_type": "markdown",
   "id": "8aaa55bf",
   "metadata": {},
   "source": [
    "# 데이터 수집(크롤링) : SK엔카 중고차 평점 및 추천"
   ]
  },
  {
   "cell_type": "code",
   "execution_count": 1,
   "id": "4bb4af12",
   "metadata": {},
   "outputs": [],
   "source": [
    "import pandas as pd\n",
    "import numpy as np\n",
    "from selenium import webdriver\n",
    "import time\n",
    "from tqdm import tqdm_notebook\n",
    "import chromedriver_autoinstaller\n",
    "import warnings\n",
    "warnings.filterwarnings('ignore')"
   ]
  },
  {
   "cell_type": "code",
   "execution_count": 278,
   "id": "693cd2ba",
   "metadata": {},
   "outputs": [],
   "source": [
    "chrome_path = chromedriver_autoinstaller.install()\n",
    "driver = webdriver.Chrome(chrome_path)\n",
    "\n",
    "driver.get('http://www.encar.com/mocha.do?WT.hit=index_contents_title')\n",
    "time.sleep(1) "
   ]
  },
  {
   "cell_type": "code",
   "execution_count": 279,
   "id": "a2e9198d",
   "metadata": {},
   "outputs": [],
   "source": [
    "# 더보기\n",
    "try : \n",
    "    for more in range(10):\n",
    "        more_page = driver.find_element_by_css_selector('.btn_info_more')\n",
    "        more_page.click()   \n",
    "except:\n",
    "    pass"
   ]
  },
  {
   "cell_type": "code",
   "execution_count": 280,
   "id": "f5f8124d",
   "metadata": {},
   "outputs": [
    {
     "data": {
      "text/plain": [
       "<selenium.webdriver.remote.webelement.WebElement (session=\"9f93fc1a3d2f8734d1550bbe53f76f1d\", element=\"81ecf0a7-4aae-4c71-a170-bac72efa71c5\")>"
      ]
     },
     "execution_count": 280,
     "metadata": {},
     "output_type": "execute_result"
    }
   ],
   "source": [
    "#url 수집\n",
    "product_url_list = []\n",
    "\n",
    "product = \".link_car\"\n",
    "product_raw = driver.find_elements_by_css_selector(product)\n",
    "product_raw[0]"
   ]
  },
  {
   "cell_type": "code",
   "execution_count": 281,
   "id": "89990606",
   "metadata": {},
   "outputs": [
    {
     "data": {
      "text/plain": [
       "<selenium.webdriver.remote.webelement.WebElement (session=\"9f93fc1a3d2f8734d1550bbe53f76f1d\", element=\"e885e50b-1128-42cc-8624-97dd4c3be69f\")>"
      ]
     },
     "execution_count": 281,
     "metadata": {},
     "output_type": "execute_result"
    }
   ],
   "source": [
    "#title 수집\n",
    "product_title_list = []\n",
    "\n",
    "product2 = \".link_car .tit_car\"\n",
    "product_raw2 = driver.find_elements_by_css_selector(product2)\n",
    "product_raw2[0]"
   ]
  },
  {
   "cell_type": "code",
   "execution_count": 282,
   "id": "f93bad78",
   "metadata": {},
   "outputs": [
    {
     "data": {
      "text/plain": [
       "'현대 아반떼 (CN7)'"
      ]
     },
     "execution_count": 282,
     "metadata": {},
     "output_type": "execute_result"
    }
   ],
   "source": [
    "product_raw2[0].text"
   ]
  },
  {
   "cell_type": "code",
   "execution_count": 283,
   "id": "30355ff9",
   "metadata": {},
   "outputs": [
    {
     "name": "stdout",
     "output_type": "stream",
     "text": [
      "현대 아반떼 (CN7)\n",
      "볼보 S60 3세대\n",
      "BMW M2 (F87)\n",
      "현대 싼타페 TM\n",
      "BMW 5시리즈 (G30)\n",
      "벤츠 S-클래스 W222\n",
      "포르쉐 카이맨\n",
      "포르쉐 911\n",
      "현대 LF 쏘나타 하이브리드\n",
      "기아 K8\n",
      "현대 더 뉴 싼타페\n",
      "아우디 A5 (F5)\n",
      "현대 아이오닉5\n",
      "르노삼성 더 뉴 SM6\n",
      "현대 코나 하이브리드\n",
      "르노삼성 XM3\n",
      "쉐보레(GM대우) 트레일블레이저\n",
      "기아 셀토스\n",
      "기아 K5 3세대\n",
      "기아 모하비 더 마스터\n",
      "기아 쏘울 부스터\n",
      "기아 더 뉴 니로\n",
      "기아 스토닉\n",
      "현대 쏘나타 (DN8)\n",
      "기아 더 K9\n",
      "현대 아슬란\n",
      "기아 올 뉴 K3\n",
      "현대 아반떼 AD\n",
      "제네시스 G70\n",
      "기아 스팅어\n",
      "현대 그랜저 IG 하이브리드\n",
      "볼보 V90 크로스컨트리\n",
      "볼보 S90\n",
      "벤츠 E-클래스 W213\n",
      "기아 K5 하이브리드 2세대\n",
      "포르쉐 718 박스터\n",
      "BMW 3시리즈 (F30)\n",
      "BMW 5시리즈 (F10)\n",
      "현대 팰리세이드\n",
      "폭스바겐 티구안 2세대\n",
      "현대 스타리아\n",
      "폭스바겐 티록\n",
      "제네시스 G80 (RG3)\n",
      "쉐보레(GM대우) 볼트 EV\n",
      "쉐보레(GM대우) 트래버스\n",
      "미니 쿠퍼 S 컨버터블\n",
      "쉐보레(GM대우) 올 뉴 크루즈\n",
      "쉐보레(GM대우) 콜로라도\n",
      "현대 베뉴\n",
      "쉐보레(GM대우) 더 뉴 말리부\n",
      "지프 랭글러 (JL)\n",
      "기아 더 뉴 K5 2세대\n",
      "현대 올 뉴 투싼\n",
      "도요타 RAV4\n",
      "현대 더 뉴 아반떼 AD\n",
      "기아 스포티지 더 볼드\n",
      "현대 벨로스터 (JS)\n",
      "기아 더 뉴 쏘렌토\n",
      "기아 스포티지 4세대\n",
      "현대 코나\n",
      "현대 i30 (PD)\n",
      "기아 니로\n",
      "쉐보레(GM대우) 올 뉴 카마로\n",
      "현대 쏘나타 뉴 라이즈\n",
      "기아 올 뉴 카니발\n",
      "BMW 1시리즈 (F20)\n",
      "기아 K5 2세대\n",
      "기아 올 뉴 K7\n",
      "현대 그랜저 IG\n",
      "벤츠 GLC-클래스 X253\n",
      "벤츠 C-클래스 W205\n",
      "포르쉐 마칸\n",
      "렉서스 뉴 ES300h\n",
      "쉐보레(GM대우) 올 뉴 말리부\n",
      "르노삼성 QM6\n",
      "제네시스 G80\n",
      "현대 더 뉴 맥스크루즈\n",
      "현대 싼타페 더 프라임\n",
      "인피니티 Q50\n",
      "렉서스 CT200h\n",
      "현대 더 뉴 i30\n",
      "제네시스 EQ900\n",
      "현대 NF 쏘나타 트랜스폼\n",
      "현대 올 뉴 투싼\n",
      "아우디 뉴 A6\n",
      "현대 LF 쏘나타\n",
      "현대 아반떼 AD\n",
      "현대 i30\n",
      "현대 엑센트(신형)\n",
      "현대 i40\n",
      "기아 K9\n",
      "기아 올 뉴 프라이드\n",
      "현대 제네시스 DH\n",
      "쉐보레(GM대우) 말리부\n",
      "기아 모하비\n",
      "폭스바겐 골프 7세대\n",
      "기아 올 뉴 쏘렌토\n",
      "현대 그랜저 HG\n",
      "기아 오피러스 프리미엄\n",
      "기아 뉴오피러스\n",
      "쌍용 뷰티풀 코란도\n",
      "현대 더 럭셔리 그랜저\n",
      "쉐보레(GM대우) 알페온\n",
      "쌍용 티볼리 아머\n",
      "쉐보레(GM대우) 더 뉴 스파크\n",
      "르노삼성 클리오\n",
      "스마트 포투 쿠페 3세대\n",
      "기아 더 뉴 K5\n",
      "쉐보레(GM대우) 어메이징 뉴 크루즈\n",
      "쉐보레(GM대우) 올란도\n",
      "쌍용 G4 렉스턴\n",
      "기아 더 뉴 K3\n",
      "쌍용 티볼리 에어\n",
      "기아 더 뉴 레이\n",
      "기아 올 뉴 모닝 (JA)\n",
      "쉐보레(GM대우) 더 넥스트 스파크\n",
      "현대 베라크루즈\n",
      "기아 로체 이노베이션\n",
      "벤츠 E-클래스 W212\n",
      "벤츠 뉴 SLK-클래스\n",
      "혼다 New CR-V\n",
      "현대 더 뉴 아반떼\n",
      "기아 포르테 쿱\n",
      "볼보 V40 크로스컨트리\n",
      "벤츠 A-클래스 W176\n",
      "BMW Z4 (E89)\n",
      "닛산 370Z\n",
      "닛산 알티마\n",
      "현대 쏘나타 더 브릴리언트\n",
      "미니 쿠퍼 D\n",
      "르노삼성 SM6\n",
      "렉서스 IS250\n",
      "쉐보레(GM대우) 임팔라\n",
      "현대 아이오닉 하이브리드\n",
      "현대 NF 쏘나타\n",
      "르노삼성 SM5 뉴 임프레션\n",
      "르노삼성 SM7 New Art\n",
      "르노삼성 QM3\n",
      "르노삼성 QM5\n",
      "르노삼성 SM7\n",
      "르노삼성 뉴SM5\n",
      "기아 쏘렌토 R\n",
      "현대 맥스크루즈\n",
      "쌍용 티볼리\n",
      "현대 싼타페 DM\n",
      "기아 K3\n",
      "기아 레이\n",
      "현대 투싼 ix\n",
      "기아 올 뉴 모닝\n",
      "현대 에쿠스(신형)\n",
      "현대 제네시스\n",
      "현대 아반떼 HD\n",
      "기아 스포티지 R\n",
      "현대 그랜저 뉴 럭셔리\n",
      "르노삼성 SM7 노바\n",
      "현대 투스카니\n",
      "미니 쿠퍼 D 컨트리맨\n",
      "현대 더 뉴 벨로스터\n",
      "기아 그랜드 카니발\n",
      "현대 싼타페 CM\n",
      "쌍용 체어맨 W\n",
      "현대 제네시스 쿠페\n",
      "폭스바겐 더 뉴 파사트\n",
      "쉐보레(GM대우) 크루즈\n",
      "기아 K5\n",
      "현대 YF 쏘나타\n",
      "르노삼성 뉴SM5(신형)\n",
      "기아 포르테\n",
      "쌍용 체어맨 H\n",
      "쌍용 코란도 투리스모\n",
      "르노삼성 SM5\n",
      "폭스바겐 뉴 제타\n",
      "기아 K7\n",
      "현대 그랜저 TG\n",
      "쉐보레(GM대우) 스파크\n",
      "현대 아반떼 MD\n",
      "현대 뉴 아반떼 XD\n",
      "르노삼성 뉴SM3\n",
      "쌍용 코란도 스포츠\n",
      "현대 뉴 그랜저 XG\n",
      "쌍용 렉스턴 W\n",
      "\n",
      "url갯수:  181\n",
      "title갯수:  181\n"
     ]
    }
   ],
   "source": [
    "# 크롤링한 url 정제 시작\n",
    "for i in product_raw:\n",
    "    url = i.get_attribute('href')\n",
    "    product_url_list.append(url)\n",
    "time.sleep(1)\n",
    "    \n",
    "# 제목 크롤링 시작    \n",
    "for j in product_raw2:\n",
    "    title = j.text\n",
    "    product_title_list.append(title)\n",
    "\n",
    "    print(title)\n",
    "\n",
    "print(\"\")\n",
    "print('url갯수: ', len(product_url_list))\n",
    "print('title갯수: ', len(product_title_list))"
   ]
  },
  {
   "cell_type": "code",
   "execution_count": 284,
   "id": "25f7c667",
   "metadata": {},
   "outputs": [
    {
     "data": {
      "text/html": [
       "<div>\n",
       "<style scoped>\n",
       "    .dataframe tbody tr th:only-of-type {\n",
       "        vertical-align: middle;\n",
       "    }\n",
       "\n",
       "    .dataframe tbody tr th {\n",
       "        vertical-align: top;\n",
       "    }\n",
       "\n",
       "    .dataframe thead th {\n",
       "        text-align: right;\n",
       "    }\n",
       "</style>\n",
       "<table border=\"1\" class=\"dataframe\">\n",
       "  <thead>\n",
       "    <tr style=\"text-align: right;\">\n",
       "      <th></th>\n",
       "      <th>url</th>\n",
       "      <th>title</th>\n",
       "    </tr>\n",
       "  </thead>\n",
       "  <tbody>\n",
       "    <tr>\n",
       "      <th>0</th>\n",
       "      <td>http://www.encar.com/mocha/mochacontents.do?me...</td>\n",
       "      <td>현대 아반떼 (CN7)</td>\n",
       "    </tr>\n",
       "    <tr>\n",
       "      <th>1</th>\n",
       "      <td>http://www.encar.com/mocha/mochacontents.do?me...</td>\n",
       "      <td>볼보 S60 3세대</td>\n",
       "    </tr>\n",
       "    <tr>\n",
       "      <th>2</th>\n",
       "      <td>http://www.encar.com/mocha/mochacontents.do?me...</td>\n",
       "      <td>BMW M2 (F87)</td>\n",
       "    </tr>\n",
       "    <tr>\n",
       "      <th>3</th>\n",
       "      <td>http://www.encar.com/mocha/mochacontents.do?me...</td>\n",
       "      <td>현대 싼타페 TM</td>\n",
       "    </tr>\n",
       "    <tr>\n",
       "      <th>4</th>\n",
       "      <td>http://www.encar.com/mocha/mochacontents.do?me...</td>\n",
       "      <td>BMW 5시리즈 (G30)</td>\n",
       "    </tr>\n",
       "    <tr>\n",
       "      <th>...</th>\n",
       "      <td>...</td>\n",
       "      <td>...</td>\n",
       "    </tr>\n",
       "    <tr>\n",
       "      <th>176</th>\n",
       "      <td>http://www.encar.com/mocha/mochacontents.do?me...</td>\n",
       "      <td>현대 뉴 아반떼 XD</td>\n",
       "    </tr>\n",
       "    <tr>\n",
       "      <th>177</th>\n",
       "      <td>http://www.encar.com/mocha/mochacontents.do?me...</td>\n",
       "      <td>르노삼성 뉴SM3</td>\n",
       "    </tr>\n",
       "    <tr>\n",
       "      <th>178</th>\n",
       "      <td>http://www.encar.com/mocha/mochacontents.do?me...</td>\n",
       "      <td>쌍용 코란도 스포츠</td>\n",
       "    </tr>\n",
       "    <tr>\n",
       "      <th>179</th>\n",
       "      <td>http://www.encar.com/mocha/mochacontents.do?me...</td>\n",
       "      <td>현대 뉴 그랜저 XG</td>\n",
       "    </tr>\n",
       "    <tr>\n",
       "      <th>180</th>\n",
       "      <td>http://www.encar.com/mocha/mochacontents.do?me...</td>\n",
       "      <td>쌍용 렉스턴 W</td>\n",
       "    </tr>\n",
       "  </tbody>\n",
       "</table>\n",
       "<p>181 rows × 2 columns</p>\n",
       "</div>"
      ],
      "text/plain": [
       "                                                   url           title\n",
       "0    http://www.encar.com/mocha/mochacontents.do?me...    현대 아반떼 (CN7)\n",
       "1    http://www.encar.com/mocha/mochacontents.do?me...      볼보 S60 3세대\n",
       "2    http://www.encar.com/mocha/mochacontents.do?me...    BMW M2 (F87)\n",
       "3    http://www.encar.com/mocha/mochacontents.do?me...       현대 싼타페 TM\n",
       "4    http://www.encar.com/mocha/mochacontents.do?me...  BMW 5시리즈 (G30)\n",
       "..                                                 ...             ...\n",
       "176  http://www.encar.com/mocha/mochacontents.do?me...     현대 뉴 아반떼 XD\n",
       "177  http://www.encar.com/mocha/mochacontents.do?me...       르노삼성 뉴SM3\n",
       "178  http://www.encar.com/mocha/mochacontents.do?me...      쌍용 코란도 스포츠\n",
       "179  http://www.encar.com/mocha/mochacontents.do?me...     현대 뉴 그랜저 XG\n",
       "180  http://www.encar.com/mocha/mochacontents.do?me...        쌍용 렉스턴 W\n",
       "\n",
       "[181 rows x 2 columns]"
      ]
     },
     "execution_count": 284,
     "metadata": {},
     "output_type": "execute_result"
    }
   ],
   "source": [
    "df = pd.DataFrame({'url':product_url_list, 'title':product_title_list})\n",
    "df"
   ]
  },
  {
   "cell_type": "code",
   "execution_count": 285,
   "id": "87f7b1d0",
   "metadata": {},
   "outputs": [],
   "source": [
    "# csv파일로 저장\n",
    "df.to_csv(\"sk_encar_url.csv\", encoding = 'utf-8-sig')"
   ]
  },
  {
   "cell_type": "code",
   "execution_count": 286,
   "id": "c0347d9e",
   "metadata": {},
   "outputs": [
    {
     "data": {
      "text/html": [
       "<div>\n",
       "<style scoped>\n",
       "    .dataframe tbody tr th:only-of-type {\n",
       "        vertical-align: middle;\n",
       "    }\n",
       "\n",
       "    .dataframe tbody tr th {\n",
       "        vertical-align: top;\n",
       "    }\n",
       "\n",
       "    .dataframe thead th {\n",
       "        text-align: right;\n",
       "    }\n",
       "</style>\n",
       "<table border=\"1\" class=\"dataframe\">\n",
       "  <thead>\n",
       "    <tr style=\"text-align: right;\">\n",
       "      <th></th>\n",
       "      <th>url</th>\n",
       "      <th>title</th>\n",
       "    </tr>\n",
       "  </thead>\n",
       "  <tbody>\n",
       "    <tr>\n",
       "      <th>0</th>\n",
       "      <td>http://www.encar.com/mocha/mochacontents.do?me...</td>\n",
       "      <td>현대 아반떼 (CN7)</td>\n",
       "    </tr>\n",
       "    <tr>\n",
       "      <th>1</th>\n",
       "      <td>http://www.encar.com/mocha/mochacontents.do?me...</td>\n",
       "      <td>볼보 S60 3세대</td>\n",
       "    </tr>\n",
       "    <tr>\n",
       "      <th>2</th>\n",
       "      <td>http://www.encar.com/mocha/mochacontents.do?me...</td>\n",
       "      <td>BMW M2 (F87)</td>\n",
       "    </tr>\n",
       "    <tr>\n",
       "      <th>3</th>\n",
       "      <td>http://www.encar.com/mocha/mochacontents.do?me...</td>\n",
       "      <td>현대 싼타페 TM</td>\n",
       "    </tr>\n",
       "    <tr>\n",
       "      <th>4</th>\n",
       "      <td>http://www.encar.com/mocha/mochacontents.do?me...</td>\n",
       "      <td>BMW 5시리즈 (G30)</td>\n",
       "    </tr>\n",
       "    <tr>\n",
       "      <th>...</th>\n",
       "      <td>...</td>\n",
       "      <td>...</td>\n",
       "    </tr>\n",
       "    <tr>\n",
       "      <th>176</th>\n",
       "      <td>http://www.encar.com/mocha/mochacontents.do?me...</td>\n",
       "      <td>현대 뉴 아반떼 XD</td>\n",
       "    </tr>\n",
       "    <tr>\n",
       "      <th>177</th>\n",
       "      <td>http://www.encar.com/mocha/mochacontents.do?me...</td>\n",
       "      <td>르노삼성 뉴SM3</td>\n",
       "    </tr>\n",
       "    <tr>\n",
       "      <th>178</th>\n",
       "      <td>http://www.encar.com/mocha/mochacontents.do?me...</td>\n",
       "      <td>쌍용 코란도 스포츠</td>\n",
       "    </tr>\n",
       "    <tr>\n",
       "      <th>179</th>\n",
       "      <td>http://www.encar.com/mocha/mochacontents.do?me...</td>\n",
       "      <td>현대 뉴 그랜저 XG</td>\n",
       "    </tr>\n",
       "    <tr>\n",
       "      <th>180</th>\n",
       "      <td>http://www.encar.com/mocha/mochacontents.do?me...</td>\n",
       "      <td>쌍용 렉스턴 W</td>\n",
       "    </tr>\n",
       "  </tbody>\n",
       "</table>\n",
       "<p>181 rows × 2 columns</p>\n",
       "</div>"
      ],
      "text/plain": [
       "                                                   url           title\n",
       "0    http://www.encar.com/mocha/mochacontents.do?me...    현대 아반떼 (CN7)\n",
       "1    http://www.encar.com/mocha/mochacontents.do?me...      볼보 S60 3세대\n",
       "2    http://www.encar.com/mocha/mochacontents.do?me...    BMW M2 (F87)\n",
       "3    http://www.encar.com/mocha/mochacontents.do?me...       현대 싼타페 TM\n",
       "4    http://www.encar.com/mocha/mochacontents.do?me...  BMW 5시리즈 (G30)\n",
       "..                                                 ...             ...\n",
       "176  http://www.encar.com/mocha/mochacontents.do?me...     현대 뉴 아반떼 XD\n",
       "177  http://www.encar.com/mocha/mochacontents.do?me...       르노삼성 뉴SM3\n",
       "178  http://www.encar.com/mocha/mochacontents.do?me...      쌍용 코란도 스포츠\n",
       "179  http://www.encar.com/mocha/mochacontents.do?me...     현대 뉴 그랜저 XG\n",
       "180  http://www.encar.com/mocha/mochacontents.do?me...        쌍용 렉스턴 W\n",
       "\n",
       "[181 rows x 2 columns]"
      ]
     },
     "execution_count": 286,
     "metadata": {},
     "output_type": "execute_result"
    }
   ],
   "source": [
    "# \"url_list.csv\" 불러오기\n",
    "url_load = pd.read_csv(\"sk_encar_url.csv\")\n",
    "url_load = url_load.drop(\"Unnamed: 0\", axis=1)\n",
    "url_load"
   ]
  },
  {
   "cell_type": "markdown",
   "id": "95aff1f2",
   "metadata": {},
   "source": [
    "# 크롤링 준비"
   ]
  },
  {
   "cell_type": "code",
   "execution_count": 250,
   "id": "89bdf266",
   "metadata": {},
   "outputs": [],
   "source": [
    "j = 1\n",
    "\n",
    "url = url_load['url'][j]\n",
    "chrome_path = chromedriver_autoinstaller.install()\n",
    "driver = webdriver.Chrome(chrome_path)\n",
    "driver.get(url) "
   ]
  },
  {
   "cell_type": "code",
   "execution_count": 55,
   "id": "52f431bf",
   "metadata": {},
   "outputs": [],
   "source": [
    "# 댓글 클릭\n",
    "driver.find_element_by_link_text('댓글').click()\n",
    "time.sleep(1)"
   ]
  },
  {
   "cell_type": "code",
   "execution_count": 211,
   "id": "643786a3",
   "metadata": {},
   "outputs": [
    {
     "data": {
      "text/plain": [
       "32"
      ]
     },
     "execution_count": 211,
     "metadata": {},
     "output_type": "execute_result"
    }
   ],
   "source": [
    "# 총 댓글 수 크롤링 \n",
    "total_comment_sel = driver.find_element_by_css_selector('.tit_cmt')\n",
    "total_comment = int(total_comment_sel.text.split(' ')[1].replace('개',''))\n",
    "total_comment"
   ]
  },
  {
   "cell_type": "code",
   "execution_count": 212,
   "id": "e7c9037a",
   "metadata": {},
   "outputs": [
    {
     "data": {
      "text/plain": [
       "4.5"
      ]
     },
     "execution_count": 212,
     "metadata": {},
     "output_type": "execute_result"
    }
   ],
   "source": [
    "# 별점 크롤링 \n",
    "result_1 = driver.find_elements_by_css_selector('.list_comment .img_mocha')\n",
    "result_1\n",
    "\n",
    "stars = result_1[ 2*j +1 ].get_attribute('style')\n",
    "stars\n",
    "score = int(stars.split(' ')[1].replace('%;' , '')) * 0.05\n",
    "score"
   ]
  },
  {
   "cell_type": "code",
   "execution_count": 241,
   "id": "cda6a451",
   "metadata": {},
   "outputs": [
    {
     "data": {
      "text/plain": [
       "32"
      ]
     },
     "execution_count": 241,
     "metadata": {},
     "output_type": "execute_result"
    }
   ],
   "source": [
    "# 닉네임 크롤링 \n",
    "nick = driver.find_elements_by_css_selector('.list_comment .txt_user')\n",
    "len(nick)"
   ]
  },
  {
   "cell_type": "code",
   "execution_count": 242,
   "id": "0bf568e2",
   "metadata": {},
   "outputs": [
    {
     "data": {
      "text/plain": [
       "'choidaniel87'"
      ]
     },
     "execution_count": 242,
     "metadata": {},
     "output_type": "execute_result"
    }
   ],
   "source": [
    "nick[19].text"
   ]
  },
  {
   "cell_type": "code",
   "execution_count": 243,
   "id": "7f2ba63e",
   "metadata": {},
   "outputs": [
    {
     "data": {
      "text/plain": [
       "'choidaniel87'"
      ]
     },
     "execution_count": 243,
     "metadata": {},
     "output_type": "execute_result"
    }
   ],
   "source": [
    "nick_id = nick[19].text.split(' ')[0]\n",
    "nick_id"
   ]
  },
  {
   "cell_type": "code",
   "execution_count": 200,
   "id": "b6954577",
   "metadata": {},
   "outputs": [],
   "source": [
    "# 더보기 누르는 건데 없어도 될듯>?\n",
    "try : \n",
    "    more_page_num = total_comment // 10  - 1\n",
    "    \n",
    "    for more in range(a):\n",
    "        more_page = driver.find_element_by_css_selector('.btn_info_more')\n",
    "        more_page.click()\n",
    "        \n",
    "except:\n",
    "    pass"
   ]
  },
  {
   "cell_type": "markdown",
   "id": "5689629d",
   "metadata": {},
   "source": [
    "닉네임(nick_id) / 차량 이름(title) / 평점(score) 크롤링 완료"
   ]
  },
  {
   "cell_type": "code",
   "execution_count": null,
   "id": "c0762e98",
   "metadata": {},
   "outputs": [],
   "source": []
  },
  {
   "cell_type": "markdown",
   "id": "22480dd1",
   "metadata": {},
   "source": [
    "# 크롤링 시작 (for문)"
   ]
  },
  {
   "cell_type": "code",
   "execution_count": 288,
   "id": "a83a42ad",
   "metadata": {},
   "outputs": [
    {
     "data": {
      "application/vnd.jupyter.widget-view+json": {
       "model_id": "465aa4cd399b412f9120a1857dff0f53",
       "version_major": 2,
       "version_minor": 0
      },
      "text/plain": [
       "  0%|          | 0/181 [00:00<?, ?it/s]"
      ]
     },
     "metadata": {},
     "output_type": "display_data"
    },
    {
     "name": "stdout",
     "output_type": "stream",
     "text": [
      "Wall time: 25min 6s\n"
     ]
    }
   ],
   "source": [
    "%%time\n",
    "\n",
    "title_list = []\n",
    "score_list = []\n",
    "nick_id_list = []\n",
    "\n",
    "number = 181\n",
    "\n",
    "for i in tqdm_notebook(range(0, number)):\n",
    "    url = url_load['url'][i]\n",
    "    chrome_path = chromedriver_autoinstaller.install()\n",
    "    driver = webdriver.Chrome(chrome_path)\n",
    "    driver.get(url) \n",
    "\n",
    "    # 댓글 클릭\n",
    "    driver.find_element_by_link_text('댓글').click()\n",
    "    time.sleep(1)\n",
    "\n",
    "\n",
    "    try : \n",
    "        for more in range(10):\n",
    "            more_page = driver.find_element_by_css_selector('.btn_info_more')\n",
    "            more_page.click()   \n",
    "    except:\n",
    "        pass\n",
    "\n",
    "    time.sleep(1)\n",
    "\n",
    "    nick = driver.find_elements_by_css_selector('.list_comment .txt_user')\n",
    "    \n",
    "    # 제목 크롤링 시작    \n",
    "    \n",
    "        \n",
    "    for k in range(len(nick)):\n",
    "\n",
    "        #title\n",
    "        title = url_load['title'][i]\n",
    "\n",
    "        # 별점 크롤링 \n",
    "        try:\n",
    "            result_1 = driver.find_elements_by_css_selector('.list_comment .img_mocha')\n",
    "            stars = result_1[ 2*k +1 ].get_attribute('style')\n",
    "            score = int(stars.split(' ')[1].replace('%;' , '')) * 0.05\n",
    "        except :\n",
    "            pass\n",
    "\n",
    "        # 닉네임 크롤링 \n",
    "        try:\n",
    "            nick_id = nick[k].text.split(' ')[0]\n",
    "\n",
    "        except:\n",
    "            pass\n",
    "        \n",
    "                \n",
    "        #딕셔너리 저장 \n",
    "        title_list.append(title)\n",
    "        nick_id_list.append(nick_id)\n",
    "        score_list.append(score)       \n",
    "\n",
    "    driver.close()"
   ]
  },
  {
   "cell_type": "code",
   "execution_count": 289,
   "id": "1325fdf4",
   "metadata": {
    "scrolled": true
   },
   "outputs": [
    {
     "name": "stdout",
     "output_type": "stream",
     "text": [
      "(1903, 3)\n"
     ]
    },
    {
     "data": {
      "text/html": [
       "<div>\n",
       "<style scoped>\n",
       "    .dataframe tbody tr th:only-of-type {\n",
       "        vertical-align: middle;\n",
       "    }\n",
       "\n",
       "    .dataframe tbody tr th {\n",
       "        vertical-align: top;\n",
       "    }\n",
       "\n",
       "    .dataframe thead th {\n",
       "        text-align: right;\n",
       "    }\n",
       "</style>\n",
       "<table border=\"1\" class=\"dataframe\">\n",
       "  <thead>\n",
       "    <tr style=\"text-align: right;\">\n",
       "      <th></th>\n",
       "      <th>title</th>\n",
       "      <th>id</th>\n",
       "      <th>rating</th>\n",
       "    </tr>\n",
       "  </thead>\n",
       "  <tbody>\n",
       "    <tr>\n",
       "      <th>0</th>\n",
       "      <td>현대 아반떼 (CN7)</td>\n",
       "      <td>alexius</td>\n",
       "      <td>4.5</td>\n",
       "    </tr>\n",
       "    <tr>\n",
       "      <th>1</th>\n",
       "      <td>현대 아반떼 (CN7)</td>\n",
       "      <td>bluebird7788</td>\n",
       "      <td>4.5</td>\n",
       "    </tr>\n",
       "    <tr>\n",
       "      <th>2</th>\n",
       "      <td>현대 아반떼 (CN7)</td>\n",
       "      <td>asdfasdf724</td>\n",
       "      <td>4.0</td>\n",
       "    </tr>\n",
       "    <tr>\n",
       "      <th>3</th>\n",
       "      <td>현대 아반떼 (CN7)</td>\n",
       "      <td>dudwo6085</td>\n",
       "      <td>2.0</td>\n",
       "    </tr>\n",
       "    <tr>\n",
       "      <th>4</th>\n",
       "      <td>현대 아반떼 (CN7)</td>\n",
       "      <td>ycd3456</td>\n",
       "      <td>5.0</td>\n",
       "    </tr>\n",
       "  </tbody>\n",
       "</table>\n",
       "</div>"
      ],
      "text/plain": [
       "          title            id  rating\n",
       "0  현대 아반떼 (CN7)       alexius     4.5\n",
       "1  현대 아반떼 (CN7)  bluebird7788     4.5\n",
       "2  현대 아반떼 (CN7)   asdfasdf724     4.0\n",
       "3  현대 아반떼 (CN7)     dudwo6085     2.0\n",
       "4  현대 아반떼 (CN7)       ycd3456     5.0"
      ]
     },
     "execution_count": 289,
     "metadata": {},
     "output_type": "execute_result"
    }
   ],
   "source": [
    "sk_encar_df = pd.DataFrame()\n",
    "\n",
    "sk_encar_df['title'] = title_list\n",
    "sk_encar_df['id'] = nick_id_list\n",
    "sk_encar_df['rating'] = score_list\n",
    "\n",
    "print(sk_encar_df.shape)\n",
    "sk_encar_df.head(5)"
   ]
  },
  {
   "cell_type": "code",
   "execution_count": 291,
   "id": "60985aa8",
   "metadata": {},
   "outputs": [],
   "source": [
    "sk_encar_df.to_csv(\"encar.csv\", encoding='utf-8-sig')"
   ]
  },
  {
   "cell_type": "code",
   "execution_count": null,
   "id": "5f7698ed",
   "metadata": {},
   "outputs": [],
   "source": []
  }
 ],
 "metadata": {
  "kernelspec": {
   "display_name": "Python 3 (ipykernel)",
   "language": "python",
   "name": "python3"
  },
  "language_info": {
   "codemirror_mode": {
    "name": "ipython",
    "version": 3
   },
   "file_extension": ".py",
   "mimetype": "text/x-python",
   "name": "python",
   "nbconvert_exporter": "python",
   "pygments_lexer": "ipython3",
   "version": "3.9.7"
  }
 },
 "nbformat": 4,
 "nbformat_minor": 5
}
